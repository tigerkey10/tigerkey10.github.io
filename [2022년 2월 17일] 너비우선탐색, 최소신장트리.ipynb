{
 "cells": [
  {
   "cell_type": "markdown",
   "metadata": {},
   "source": [
    "# 너비우선탐색 "
   ]
  },
  {
   "cell_type": "code",
   "execution_count": 9,
   "metadata": {},
   "outputs": [],
   "source": [
    "# 너비우선탐색 정의 \n",
    "\n",
    "def BFS(i) : # 점점 i\n",
    "    global visited ; global adj \n",
    "\n",
    "    que = [] # 큐 정의 \n",
    "    visited[i] = True # 정점 i 방문완료 \n",
    "    que.append(i)\n",
    "\n",
    "    while len(que) != 0 : # 방문한 곳이 없으면 멈춘다\n",
    "        v = que.pop(0)\n",
    "        print(v, end=' ')\n",
    "\n",
    "        for w in adj[v] : \n",
    "            if not visited[w] : \n",
    "                visited[w] = True \n",
    "                que.append(w)"
   ]
  },
  {
   "cell_type": "code",
   "execution_count": 10,
   "metadata": {},
   "outputs": [],
   "source": [
    "adj = [\n",
    "    [2,1],\n",
    "    [3,0],\n",
    "    [3,0],\n",
    "    [9,8,2,1],\n",
    "    [5],\n",
    "    [7,6,4],\n",
    "    [7,5],\n",
    "    [6,5],\n",
    "    [3],\n",
    "    [3]\n",
    "]\n",
    "\n",
    "N = len(adj)\n",
    "\n",
    "visited = [False for x in range(N)]"
   ]
  },
  {
   "cell_type": "code",
   "execution_count": 11,
   "metadata": {},
   "outputs": [
    {
     "name": "stdout",
     "output_type": "stream",
     "text": [
      "0 2 1 3 9 8 4 5 7 6 "
     ]
    }
   ],
   "source": [
    "# 테스트 \n",
    "\n",
    "for i in range(N) : \n",
    "    if not visited[i] : \n",
    "        BFS(i)"
   ]
  }
 ],
 "metadata": {
  "interpreter": {
   "hash": "5c69af78ec1296bb8dce567f7dc582a831aacc25113635b0c93ed6d0ebdf014b"
  },
  "kernelspec": {
   "display_name": "Python 3.8.5 ('statdata')",
   "language": "python",
   "name": "python3"
  },
  "language_info": {
   "codemirror_mode": {
    "name": "ipython",
    "version": 3
   },
   "file_extension": ".py",
   "mimetype": "text/x-python",
   "name": "python",
   "nbconvert_exporter": "python",
   "pygments_lexer": "ipython3",
   "version": "3.8.5"
  },
  "orig_nbformat": 4
 },
 "nbformat": 4,
 "nbformat_minor": 2
}
