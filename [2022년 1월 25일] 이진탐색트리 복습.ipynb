{
 "cells": [
  {
   "cell_type": "markdown",
   "metadata": {},
   "source": [
    "# 이진탐색트리 "
   ]
  },
  {
   "cell_type": "code",
   "execution_count": 3,
   "metadata": {},
   "outputs": [],
   "source": [
    "# 이진탐색트리 노드 정의 \n",
    "class Node : \n",
    "    def __init__(self, key, value, left=None, right=None) : \n",
    "        self.key = key \n",
    "        self.value = value \n",
    "        self.left = left \n",
    "        self.right = right "
   ]
  },
  {
   "cell_type": "code",
   "execution_count": 8,
   "metadata": {},
   "outputs": [],
   "source": [
    "# 탐색 연산 \n",
    "def get_item(n, k) : # 노드, 찾으려는 키 \n",
    "    if n == None : return None \n",
    "    if n.key > k : return get_item(n.left, k)\n",
    "    if n.key < k : return get_item(n.right, k)\n",
    "    else : return n.value "
   ]
  },
  {
   "cell_type": "code",
   "execution_count": 6,
   "metadata": {},
   "outputs": [],
   "source": [
    "# 노드삽입연산 정의\n",
    "def add_item(r,n) : \n",
    "    if r.key > n.key : \n",
    "        if r.left == None : \n",
    "            r.left = n \n",
    "            return True # 삽입성공\n",
    "        else : \n",
    "            return add_item(r.left, n)\n",
    "    if r.key < n.key : \n",
    "        if r.right == None : \n",
    "            r.right = n \n",
    "            return True \n",
    "        else : \n",
    "            return add_item(r.right, n)\n",
    "    else : # 탐색 성공한 경우 \n",
    "        return False # 삽입실패"
   ]
  },
  {
   "cell_type": "code",
   "execution_count": 25,
   "metadata": {},
   "outputs": [],
   "source": [
    "# 노드삭제연산 정의 - 자식 수 0개인 노드 삭제 \n",
    "def delete_zero(parent, node, root) : \n",
    "    if parent == None : \n",
    "        root = None \n",
    "    else : \n",
    "        if node == parent.left : \n",
    "            parent.left = None \n",
    "        else : \n",
    "            parent.right = None \n",
    "    return root  "
   ]
  },
  {
   "cell_type": "code",
   "execution_count": null,
   "metadata": {},
   "outputs": [],
   "source": [
    "# 노드삭제연산 정의 - 자식 수 1개인 노드 삭제 \n",
    "def delete_one(parent, node, root) : \n",
    "    if node.left != None : \n",
    "        target = node.left \n",
    "    else : \n",
    "        target = node.right \n",
    "\n",
    "    if node == root : \n",
    "        root = target \n",
    "    else : \n",
    "        if parent.left == node : \n",
    "            parent.left = target \n",
    "        else : \n",
    "            parent.right = target \n",
    "    return root "
   ]
  },
  {
   "cell_type": "code",
   "execution_count": 28,
   "metadata": {},
   "outputs": [],
   "source": [
    "# 노드삭제연산 정의 - 자식 수 2개인 노드 삭제 \n",
    "def delete_two(parent, node, root) : \n",
    "    target_parent = node \n",
    "    target = node.right \n",
    "\n",
    "    while target.left != None : \n",
    "        target_parent = target \n",
    "        target = target.left\n",
    "\n",
    "    if (target_parent.left == target) : \n",
    "        target_parent.left = target.right\n",
    "    else : \n",
    "        target_parent.right = target.right \n",
    "\n",
    "    node.key = target.key \n",
    "    node.value = target.value \n",
    "    return root "
   ]
  },
  {
   "cell_type": "code",
   "execution_count": null,
   "metadata": {},
   "outputs": [],
   "source": [
    "# 노드 삭제연산 정의 \n",
    "def delete(root, key) :\n",
    "    if root == None : # 공트리면 \n",
    "        return None \n",
    "    #탐색\n",
    "    parent = None # 현재 노드의 부모\n",
    "    node = root # 현재 노드 \n",
    "\n",
    "    while node != None and key != node.key : # 공트리 아니고. 원하는 키 찾을 때 까지 \n",
    "        if (node.key > key) : \n",
    "            parent = node \n",
    "            node = node.left \n",
    "        else : \n",
    "            parent = node \n",
    "            node = node.right \n",
    "    # 원하는 키가 트리에 없으면 \n",
    "    if node == None : return None \n",
    "    # 원하는 키를 찾아서. 멈췄으면 \n",
    "    if node.right == None and node.left == None : # 현재 노드 단말노드면 \n",
    "        root = delete_zero(parent, node, root)\n",
    "    elif node.right == None or node.left == None : # 자식 1개면\n",
    "        root = delete_one(parent, node, root)\n",
    "    else : # 자식 2개면 \n",
    "        root = delete_two(parent, node, root)\n",
    "    return root "
   ]
  },
  {
   "cell_type": "code",
   "execution_count": 29,
   "metadata": {},
   "outputs": [],
   "source": [
    "# 최대키 탐색 연산 정의\n",
    "def search_max_key(node) : \n",
    "    while node != None and node.right != None : \n",
    "        node = node.right\n",
    "        return node \n",
    "\n",
    "# 최소키 탐색 연산 정의\n",
    "def search_min_key(node) : \n",
    "    while node != None and node.left != None : \n",
    "        node = node.left \n",
    "        return node "
   ]
  },
  {
   "cell_type": "markdown",
   "metadata": {},
   "source": [
    "# 이진탐색트리 정의 "
   ]
  },
  {
   "cell_type": "code",
   "execution_count": 2,
   "metadata": {},
   "outputs": [],
   "source": [
    "# 이진탐색트리 노드 정의 \n",
    "class Node : \n",
    "    def __init__(self, key, value, left=None, right=None) : \n",
    "        self.key = key \n",
    "        self.value = value \n",
    "        self.left = left \n",
    "        self.right = right "
   ]
  },
  {
   "cell_type": "code",
   "execution_count": 44,
   "metadata": {},
   "outputs": [],
   "source": [
    "# 이진탐색트리 정의 \n",
    "class BST : \n",
    "    def __init__(self) : \n",
    "        self.root = None \n",
    "    \n",
    "    # 탐색연산 \n",
    "    def get(self, k) : # k=찾으려는 키\n",
    "        return self.get_item(self.root, k)\n",
    "    def get_item(self, n, k) : \n",
    "        if n == None : return None # 키 가진게 트리 안에 없을 때 \n",
    "\n",
    "        # 탐색 \n",
    "        if n.key > k : # 왼쪽 서브트리 \n",
    "            return self.get_item(n.left, k)\n",
    "        elif n.key < k : # 오른쪽 서브트리 \n",
    "            return self.get_item(n.right, k)\n",
    "        \n",
    "        # 탐색 성공했을 때 \n",
    "        else : \n",
    "            return n.value \n",
    "    \n",
    "    # 삽입연산 \n",
    "    def put(self, key, value) : \n",
    "        self.root = self.put_items(self.root, key, value) \n",
    "    def put_items(self, n, key, value) : \n",
    "        # 탐색 실패 했을 때 \n",
    "        if n == None : return Node(key, value) \n",
    "        \n",
    "        # 탐색하고 실패하면 삽입\n",
    "        if n.key > key : # 왼쪽 서브트리로 고\n",
    "            n.left = self.put_items(n.left, key, value)\n",
    "        elif n.key < key : # 오른쪽 서브트리로 고 \n",
    "            n.right = self.put_items(n.right, key, value)\n",
    "        \n",
    "        # 탐색 성공했을 때 \n",
    "        else : \n",
    "            n.value = value \n",
    "        return n # 루트노드 반환 \n",
    "\n",
    "    # 최솟값 삭제 연산 \n",
    "    def delete_min(self) : \n",
    "        # 정의: 트리가 공 트리인 경우 \n",
    "        if self.root == None : return None \n",
    "        else: self.root = self.del_min(self.root)\n",
    "    \n",
    "    def del_min(self, n) : \n",
    "        if n.left is None : return n.right\n",
    "        n.left = self.del_min(n.left)\n",
    "        return n\n",
    "    \n",
    "    # 특정 키 노드 삭제 연산 정의 :\n",
    "    def delete(self, k) : \n",
    "        self.root = self.del_node(self.root, k)\n",
    "    \n",
    "    def del_node(self, n, k) : \n",
    "        # 재귀중지\n",
    "        if n == None : return None \n",
    "\n",
    "        # 재귀호출\n",
    "        if (n.key > k) : \n",
    "            # 왼쪽 서브트리 \n",
    "            n.left = self.del_node(n.left, k) \n",
    "        elif (n.key < k) : \n",
    "            # 오른쪽 서브트리 \n",
    "            n.right = self.del_node(n.right, k) \n",
    "        #부모의 자식 자리(왼쪽,오른쪽)에 새 n의 결과 넣는다. \n",
    "\n",
    "        else : #(n.key == k)\n",
    "            # k노드가 단말노드 | k노드가 오른쪽 자식 1개만 있을 때 \n",
    "            if (n.left== None) : return n.right\n",
    "            # k노드가 왼쪽 자식 1개만 있을 때 \n",
    "            elif (n.right == None) : return n.left\n",
    "            else : \n",
    "                target = n # target = 현재노드\n",
    "                n = self.minimum(target.right) # target 오른쪽 서브트리에서 최솟값 찾아라 \n",
    "                n.right = self.del_min(target.right) # 최솟값 지운 오른쪽 서브트리를 오른쪽에 새로 할당\n",
    "                n.left = target.left # 왼쪽 서브트리는 그대로 \n",
    "        return n \n",
    "\n",
    "    # 최솟값 가진 노드 찾기. 정의. \n",
    "    def min(self) : \n",
    "        # 트리가 빈 경우\n",
    "        if self.root == None : \n",
    "            return None \n",
    "\n",
    "        return self.minimum(self.root)\n",
    "    \n",
    "    def minimum(self, n) : \n",
    "        # 재귀중지 \n",
    "        if n.left == None : \n",
    "            return n\n",
    "        return self.minimum(n.left)\n",
    "    \n",
    "    # 전위순회 \n",
    "    def preorder(self, n) : \n",
    "        if n != None : \n",
    "            print(n.key, end=' ') # 루트 출력\n",
    "            if n.left : self.preorder(n.left) # 왼쪽 서브트리 전위순회\n",
    "            if n.right : self.preorder(n.right) # 오른쪽 서브트리 전위순회 \n",
    "    \n",
    "    # 중위순회 \n",
    "    def inorder(self, n) : \n",
    "        if n.left : self.inorder(n.left) # 왼쪽 서브트리 중위순회 \n",
    "        print(n.key, end=' ')\n",
    "        if n.right : self.inorder(n.right) # 오른쪽 서브트리 중위순회 \n",
    "\n",
    "    # 후위순회 \n",
    "    def postorder(self, n) : \n",
    "        if n.left : self.postorder(n.left) # 왼쪽 서브트리 후위순회 \n",
    "        if n.right : self.postorder(n.right) # 오른쪽 서브트리 후위순회 \n",
    "        print(n.key, end=' ')\n",
    "\n",
    "    # 레벨순회 \n",
    "    def levelorder(self, n) : \n",
    "        que = []\n",
    "        que.append(n) \n",
    "        while len(que) != 0 : # 큐가 빌 때 까지 \n",
    "            e = que.pop(0)\n",
    "            print(e.key, end=' ')\n",
    "            if e.left != None : \n",
    "                que.append(e.left)\n",
    "            if e.right != None : \n",
    "                que.append(e.right)"
   ]
  },
  {
   "cell_type": "markdown",
   "metadata": {},
   "source": [
    "# 이진탐색트리 테스트 "
   ]
  },
  {
   "cell_type": "code",
   "execution_count": 45,
   "metadata": {},
   "outputs": [],
   "source": [
    "# 이진탐색트리 테스트 \n",
    "if __name__ is '__main__' : \n",
    "    t = BST() # 이진탐색트리\n",
    "    t.put(500, 'apple');t.put(600, 'banana')\n",
    "    t.put(200, 'melon');t.put(100, 'orange')\n",
    "    t.put(400, 'lime');t.put(250, 'kiwi')\n",
    "    t.put(150, 'grape');t.put(800, 'peach')\n",
    "    t.put(700, 'cherry');t.put(50, 'pear')\n",
    "    t.put(350, 'lemon');t.put(10, 'plum')"
   ]
  },
  {
   "cell_type": "code",
   "execution_count": 46,
   "metadata": {},
   "outputs": [
    {
     "name": "stdout",
     "output_type": "stream",
     "text": [
      "전위순회:\t 500 200 100 50 10 150 400 250 350 600 800 700 "
     ]
    }
   ],
   "source": [
    "# 전위순회\n",
    "print('전위순회:\\t', end=' ');t.preorder(t.root)"
   ]
  },
  {
   "cell_type": "code",
   "execution_count": 47,
   "metadata": {},
   "outputs": [
    {
     "name": "stdout",
     "output_type": "stream",
     "text": [
      "중위순회:\t 10 50 100 150 200 250 350 400 500 600 700 800 "
     ]
    }
   ],
   "source": [
    "# 중위순회 \n",
    "print(f'중위순회:\\t', end=' ');t.inorder(t.root)"
   ]
  },
  {
   "cell_type": "code",
   "execution_count": 48,
   "metadata": {},
   "outputs": [
    {
     "name": "stdout",
     "output_type": "stream",
     "text": [
      "\n",
      "250:  kiwi\n"
     ]
    }
   ],
   "source": [
    "# 탐색연산 : 250 \n",
    "print('\\n250: ', t.get(250))"
   ]
  },
  {
   "cell_type": "code",
   "execution_count": 49,
   "metadata": {},
   "outputs": [],
   "source": [
    "# 삭제연산 \n",
    "t.delete(200)"
   ]
  },
  {
   "cell_type": "code",
   "execution_count": 50,
   "metadata": {},
   "outputs": [
    {
     "name": "stdout",
     "output_type": "stream",
     "text": [
      "삭제후:\t 전위순회:\t 500 250 100 50 10 150 400 350 600 800 700 "
     ]
    }
   ],
   "source": [
    "print('삭제후:\\t', end=' ')\n",
    "\n",
    "# 전위순회 \n",
    "print('전위순회:\\t', end=' ');t.preorder(t.root)"
   ]
  },
  {
   "cell_type": "code",
   "execution_count": 51,
   "metadata": {},
   "outputs": [
    {
     "name": "stdout",
     "output_type": "stream",
     "text": [
      "\n",
      "중위순회:\t 10 50 100 150 250 350 400 500 600 700 800 "
     ]
    }
   ],
   "source": [
    "# 삭제 후 중위순회 \n",
    "print('\\n중위순회:\\t', end=' ')\n",
    "t.inorder(t.root)"
   ]
  },
  {
   "cell_type": "code",
   "execution_count": 52,
   "metadata": {},
   "outputs": [],
   "source": [
    "# 최솟값 삭제 \n",
    "t.delete_min()"
   ]
  },
  {
   "cell_type": "code",
   "execution_count": 53,
   "metadata": {},
   "outputs": [
    {
     "name": "stdout",
     "output_type": "stream",
     "text": [
      "50 100 150 250 350 400 500 600 700 800 "
     ]
    }
   ],
   "source": [
    "# 최솟값 삭제 후 중위순회\n",
    "t.inorder(t.root)"
   ]
  },
  {
   "cell_type": "code",
   "execution_count": 54,
   "metadata": {},
   "outputs": [
    {
     "name": "stdout",
     "output_type": "stream",
     "text": [
      "50 150 100 350 400 250 700 800 600 500 "
     ]
    }
   ],
   "source": [
    "# 최솟값 삭제 후 후위순회\n",
    "t.postorder(t.root)"
   ]
  },
  {
   "cell_type": "code",
   "execution_count": 55,
   "metadata": {},
   "outputs": [
    {
     "name": "stdout",
     "output_type": "stream",
     "text": [
      "500 250 600 100 400 800 50 150 350 700 "
     ]
    }
   ],
   "source": [
    "# 최솟값 삭제 후 레벨순회 \n",
    "t.levelorder(t.root)"
   ]
  }
 ],
 "metadata": {
  "interpreter": {
   "hash": "35eb7306ee2d642baa30dd47b3f48e3de4de9582bbd530539ad6f76f0b00bf2b"
  },
  "kernelspec": {
   "display_name": "Python 3.8.12 64-bit ('tf25': conda)",
   "language": "python",
   "name": "python3"
  },
  "language_info": {
   "codemirror_mode": {
    "name": "ipython",
    "version": 3
   },
   "file_extension": ".py",
   "mimetype": "text/x-python",
   "name": "python",
   "nbconvert_exporter": "python",
   "pygments_lexer": "ipython3",
   "version": "3.8.5"
  },
  "orig_nbformat": 4
 },
 "nbformat": 4,
 "nbformat_minor": 2
}
