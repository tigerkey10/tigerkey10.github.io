{
 "cells": [
  {
   "cell_type": "markdown",
   "metadata": {},
   "source": [
    "# 이진탐색트리 "
   ]
  },
  {
   "cell_type": "code",
   "execution_count": 3,
   "metadata": {},
   "outputs": [],
   "source": [
    "# 이진탐색트리 노드 정의 \n",
    "class Node : \n",
    "    def __init__(self, key, value, left=None, right=None) : \n",
    "        self.key = key \n",
    "        self.value = value \n",
    "        self.left = left \n",
    "        self.right = right "
   ]
  },
  {
   "cell_type": "code",
   "execution_count": 8,
   "metadata": {},
   "outputs": [],
   "source": [
    "# 탐색 연산 \n",
    "def get_item(n, k) : # 노드, 찾으려는 키 \n",
    "    if n == None : return None \n",
    "    if n.key > k : return get_item(n.left, k)\n",
    "    if n.key < k : return get_item(n.right, k)\n",
    "    else : return n.value "
   ]
  },
  {
   "cell_type": "code",
   "execution_count": 6,
   "metadata": {},
   "outputs": [],
   "source": [
    "# 노드삽입연산 정의\n",
    "def add_item(r,n) : \n",
    "    if r.key > n.key : \n",
    "        if r.left == None : \n",
    "            r.left = n \n",
    "            return True # 삽입성공\n",
    "        else : \n",
    "            return add_item(r.left, n)\n",
    "    if r.key < n.key : \n",
    "        if r.right == None : \n",
    "            r.right = n \n",
    "            return True \n",
    "        else : \n",
    "            return add_item(r.right, n)\n",
    "    else : # 탐색 성공한 경우 \n",
    "        return False # 삽입실패"
   ]
  },
  {
   "cell_type": "code",
   "execution_count": 25,
   "metadata": {},
   "outputs": [],
   "source": [
    "# 노드삭제연산 정의 - 자식 수 0개인 노드 삭제 \n",
    "def delete_zero(parent, node, root) : \n",
    "    if parent == None : \n",
    "        root = None \n",
    "    else : \n",
    "        if node == parent.left : \n",
    "            parent.left = None \n",
    "        else : \n",
    "            parent.right = None \n",
    "    return root  "
   ]
  },
  {
   "cell_type": "code",
   "execution_count": null,
   "metadata": {},
   "outputs": [],
   "source": [
    "# 노드삭제연산 정의 - 자식 수 1개인 노드 삭제 \n",
    "def delete_one(parent, node, root) : \n",
    "    if node.left != None : \n",
    "        target = node.left \n",
    "    else : \n",
    "        target = node.right \n",
    "\n",
    "    if node == root : \n",
    "        root = target \n",
    "    else : \n",
    "        if parent.left == node : \n",
    "            parent.left = target \n",
    "        else : \n",
    "            parent.right = target \n",
    "    return root "
   ]
  },
  {
   "cell_type": "code",
   "execution_count": 28,
   "metadata": {},
   "outputs": [],
   "source": [
    "# 노드삭제연산 정의 - 자식 수 2개인 노드 삭제 \n",
    "def delete_two(parent, node, root) : \n",
    "    target_parent = node \n",
    "    target = node.right \n",
    "\n",
    "    while target.left != None : \n",
    "        target_parent = target \n",
    "        target = target.left\n",
    "\n",
    "    if (target_parent.left == target) : \n",
    "        target_parent.left = target.right\n",
    "    else : \n",
    "        target_parent.right = target.right \n",
    "\n",
    "    node.key = target.key \n",
    "    node.value = target.value \n",
    "    return root "
   ]
  },
  {
   "cell_type": "code",
   "execution_count": null,
   "metadata": {},
   "outputs": [],
   "source": [
    "# 노드 삭제연산 정의 \n",
    "def delete(root, key) :\n",
    "    if root == None : # 공트리면 \n",
    "        return None \n",
    "    #탐색\n",
    "    parent = None # 현재 노드의 부모\n",
    "    node = root # 현재 노드 \n",
    "\n",
    "    while node != None and key != node.key : # 공트리 아니고. 원하는 키 찾을 때 까지 \n",
    "        if (node.key > key) : \n",
    "            parent = node \n",
    "            node = node.left \n",
    "        else : \n",
    "            parent = node \n",
    "            node = node.right \n",
    "    # 원하는 키가 트리에 없으면 \n",
    "    if node == None : return None \n",
    "    # 원하는 키를 찾아서. 멈췄으면 \n",
    "    if node.right == None and node.left == None : # 현재 노드 단말노드면 \n",
    "        root = delete_zero(parent, node, root)\n",
    "    elif node.right == None or node.left == None : # 자식 1개면\n",
    "        root = delete_one(parent, node, root)\n",
    "    else : # 자식 2개면 \n",
    "        root = delete_two(parent, node, root)\n",
    "    return root "
   ]
  },
  {
   "cell_type": "code",
   "execution_count": 29,
   "metadata": {},
   "outputs": [],
   "source": [
    "# 최대키 탐색 연산 정의\n",
    "def search_max_key(node) : \n",
    "    while node != None and node.right != None : \n",
    "        node = node.right\n",
    "        return node \n",
    "\n",
    "# 최소키 탐색 연산 정의\n",
    "def search_min_key(node) : \n",
    "    while node != None and node.left != None : \n",
    "        node = node.left \n",
    "        return node "
   ]
  },
  {
   "cell_type": "markdown",
   "metadata": {},
   "source": [
    "# 이진탐색트리 정의 "
   ]
  },
  {
   "cell_type": "code",
   "execution_count": 32,
   "metadata": {},
   "outputs": [],
   "source": [
    "# 이진탐색트리 노드 정의 \n",
    "class Node : \n",
    "    def __init__(self, key, value, left=None, right=None) : \n",
    "        self.key = key \n",
    "        self.value = value \n",
    "        self.left = left \n",
    "        self.right = right "
   ]
  },
  {
   "cell_type": "code",
   "execution_count": null,
   "metadata": {},
   "outputs": [],
   "source": [
    "# 이진탐색트리 정의 \n",
    "class BST : \n",
    "    def __init__(self) : \n",
    "        self.root = None \n",
    "    \n",
    "    # 탐색연산 \n",
    "    def get(self, k) : # k=찾으려는 키\n",
    "        return self.get_item(self.root, k)\n",
    "    def get_item(self, n, k) : \n",
    "        if n == None : return None # 키 가진게 트리 안에 없을 때 \n",
    "\n",
    "        # 탐색 \n",
    "        if n.key > k : # 왼쪽 서브트리 \n",
    "            return self.get_item(n.left, k)\n",
    "        elif n.key < k : # 오른쪽 서브트리 \n",
    "            return self.get_item(n.right, k)\n",
    "        \n",
    "        # 탐색 성공했을 때 \n",
    "        else : \n",
    "            return n.value \n",
    "    \n",
    "    # 삽입연산 \n",
    "    def put(self, key, value) : \n",
    "        self.root = self.put_items(self.root, key, value) \n",
    "    def put_items(self, n, key, value) : \n",
    "        # 탐색 실패 했을 때 \n",
    "        if n == None : return Node(key, value) \n",
    "        \n",
    "        # 탐색하고 실패하면 삽입\n",
    "        if n.key > key : # 왼쪽 서브트리로 고\n",
    "            n.left = self.put_items(n.left, key, value)\n",
    "        elif n.key < key : # 오른쪽 서브트리로 고 \n",
    "            n.right = self.put_items(n.right, key, value)\n",
    "        \n",
    "        # 탐색 성공했을 때 \n",
    "        else : \n",
    "            n.value = value \n",
    "        return n # 루트노드 반환 \n",
    "\n",
    "    # 최솟값 삭제 연산 \n",
    "    def delete_min(self) : \n",
    "        "
   ]
  }
 ],
 "metadata": {
  "interpreter": {
   "hash": "35eb7306ee2d642baa30dd47b3f48e3de4de9582bbd530539ad6f76f0b00bf2b"
  },
  "kernelspec": {
   "display_name": "Python 3.8.12 64-bit ('tf25': conda)",
   "language": "python",
   "name": "python3"
  },
  "language_info": {
   "codemirror_mode": {
    "name": "ipython",
    "version": 3
   },
   "file_extension": ".py",
   "mimetype": "text/x-python",
   "name": "python",
   "nbconvert_exporter": "python",
   "pygments_lexer": "ipython3",
   "version": "3.8.5"
  },
  "orig_nbformat": 4
 },
 "nbformat": 4,
 "nbformat_minor": 2
}
