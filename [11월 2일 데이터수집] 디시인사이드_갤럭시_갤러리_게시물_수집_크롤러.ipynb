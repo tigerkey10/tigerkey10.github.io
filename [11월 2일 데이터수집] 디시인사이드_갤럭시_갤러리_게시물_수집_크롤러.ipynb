{
 "cells": [
  {
   "cell_type": "code",
   "execution_count": 1,
   "metadata": {},
   "outputs": [],
   "source": [
    "import selenium\n",
    "from selenium import webdriver\n",
    "import os\n",
    "import time\n",
    "from selenium.webdriver.common.keys import Keys\n",
    "from selenium.webdriver.support.ui import Select\n",
    "import time\n",
    "import pandas as pd\n",
    "from bs4 import BeautifulSoup"
   ]
  },
  {
   "cell_type": "code",
   "execution_count": 2,
   "metadata": {},
   "outputs": [
    {
     "name": "stdout",
     "output_type": "stream",
     "text": [
      "-*--*--*--*--*--*--*--*--*--*--*--*--*--*--*--*--*--*--*--*--*--*--*--*--*--*--*--*--*--*--*--*--*--*--*--*--*--*--*--*--*--*--*--*--*--*--*--*--*--*-\n",
      "2021-2 Marketing analytics\n",
      "디시인사이드 갤럭시 커뮤니티 게시글+댓글 크롤러\n",
      "-*--*--*--*--*--*--*--*--*--*--*--*--*--*--*--*--*--*--*--*--*--*--*--*--*--*--*--*--*--*--*--*--*--*--*--*--*--*--*--*--*--*--*--*--*--*--*--*--*--*-\n"
     ]
    }
   ],
   "source": [
    "print('-*-'*50)\n",
    "print('2021-2 Marketing analytics')\n",
    "print('디시인사이드 갤럭시 커뮤니티 게시글+댓글 크롤러')\n",
    "print('-*-'*50)\n",
    "\n",
    "now = time.localtime()\n",
    "s = '%04d-%02d-%02d-%02d-%02d-%02d' %(now.tm_year, now.tm_mon, now.tm_mday, now.tm_hour, now.tm_min, now.tm_sec)\n",
    "f_dir = '/Users/kibeomkim/Desktop/웹크롤링_결과_데이터/'\n",
    "os.makedirs(f_dir+s+'-'+'디시_갤럭시_커뮤니티_게시글과_댓글')\n",
    "os.chdir(f_dir+s+'-'+'디시_갤럭시_커뮤니티_게시글과_댓글')\n",
    "cnt = int(input('몇 건 게시물을 수집하시겠습니까?'))\n",
    "\n",
    "driver_path = '/Users/kibeomkim/Desktop/chromedriver_intel/m1_chromedriver'\n",
    "options = webdriver.ChromeOptions()\n",
    "options.add_argument('User-Agent=Mozilla/5.0 (Macintosh; Intel Mac OS X 11_1_0) AppleWebKit/537.36 (KHTML, like Gecko) Chrome/87.0.4280.88 Safari/537.36')\n",
    "driver = webdriver.Chrome(driver_path, options=options)\n",
    "driver.get('https://gall.dcinside.com/mgallery/board/lists?id=galaxy')\n",
    "s_time = time.time()\n",
    "time.sleep(random.randint(4,8))"
   ]
  },
  {
   "cell_type": "code",
   "execution_count": 3,
   "metadata": {},
   "outputs": [],
   "source": [
    "# part 1: 페이지 파싱해서 url 주소만 전부 수집. 리스트에 추가하기 \n",
    "page_no = 1\n",
    "url_list = []\n",
    "no = 0\n",
    "\n",
    "while True: # 페이지 전환\n",
    "    loaded_page = driver.page_source\n",
    "    soup = BeautifulSoup(loaded_page, 'html.parser')\n",
    "    tr_list = soup.find_all('tr', 'ub-content us-post')\n",
    "    \n",
    "    for tr in tr_list : \n",
    "        writing_type = tr.find('td', 'gall_subject').get_text()\n",
    "        if writing_type == '공지' :  # 공지글인지 아닌지 검사하기 \n",
    "            continue # 공지글이면 패스 \n",
    "        else : \n",
    "            url = tr.find('a')['href']\n",
    "            no += 1\n",
    "            if no > cnt : \n",
    "                break\n",
    "            url_list.append(url)\n",
    "    if no > cnt : \n",
    "        break\n",
    "    page_no += 1 # 다음 페이지 번호 \n",
    "\n",
    "    for scroll in range(4) : # 스크롤 다운\n",
    "        driver.find_element_by_tag_name('body').send_keys(Keys.PAGE_DOWN)\n",
    "        time.sleep(4)\n",
    "\n",
    "    try : \n",
    "        time.sleep(3)\n",
    "        driver.find_element_by_link_text(str(page_no)).click()\n",
    "        time.sleep(random.randint(5,8))\n",
    "    except : \n",
    "        try : \n",
    "            time.sleep(3)\n",
    "            driver.find_element_by_link_text('다음').click() # 다음 페이지로 넘어가기 \n",
    "            time.sleep(5)\n",
    "\n",
    "            driver.find_element_by_link_text(str(page_no)).click() # 원래 넘어가야 하는 페이지 번호 다시 클릭하기 \n",
    "            time.sleep(random.randint(5,9))\n",
    "        except : \n",
    "            print('다음 페이지가 없습니다')\n",
    "            break\n",
    "driver.quit()\n",
    "time.sleep(2)"
   ]
  },
  {
   "cell_type": "code",
   "execution_count": null,
   "metadata": {},
   "outputs": [],
   "source": [
    "# part 2 : 페이지 순차 접속 후 게시 정보, 본문 내용, 그리고 댓글 정보 수집하기 \n",
    "title_list = []\n",
    "writer_list = []\n",
    "posting_date_list = []\n",
    "contents_list = []\n",
    "\n",
    "for url in url_list : \n",
    "    # 크롬 드라이버 호출\n",
    "    options = webdriver.ChromeOptions()\n",
    "    options.add_argument('User-Agent=Mozilla/5.0 (Macintosh; Intel Mac OS X 11_1_0) AppleWebKit/537.36 (KHTML, like Gecko) Chrome/87.0.4280.88 Safari/537.36')\n",
    "    driver = webdriver.Chrome(driver_path, options=options)\n",
    "\n",
    "    # 페이지 접속 \n",
    "    driver.get('https://gall.dcinside.com'+url)\n",
    "    time.sleep(random.randint(5,9)) # 페이지 로드 대기 \n",
    "\n",
    "    # 페이지 파싱\n",
    "    html = driver.page_source\n",
    "    soup = BeautifulSoup(html, 'html.parser')\n",
    "\n",
    "    # 게시글 제목 수집 \n",
    "    title = soup.find('span', 'title_subject').get_text().replace(' ', \"\")\n",
    "    title_list.append(title)\n",
    "    print(f'게시글 제목 : {title}')\n",
    "\n",
    "    # 게시자 수집 \n",
    "    writer = soup.find('span', 'nickname in').get_text().replace(' ', \"\")\n",
    "    writer_list.append(writer)\n",
    "    print(f'게시자 : {writer}')\n",
    "\n",
    "    # 게시 일자 수집 \n",
    "    posting_date = soup.find('span', 'gall_date').get_text().replace(' ', \"\")\n",
    "    posting_date_list.append(posting_date)\n",
    "    print(f'게시 일자 : {posting_date}')\n",
    "\n",
    "    # 본문 내용 수집 \n",
    "    contents = soup.find('div', 'write_div').get_text().replace('\\n', \"\")\n",
    "    contents_list.append(contents)\n",
    "    print(f'본문 내용 : {contents}')\n"
   ]
  },
  {
   "cell_type": "markdown",
   "metadata": {},
   "source": [
    "For 문으로 url_list 순환 : \n",
    "1. 드라이버 호출 \n",
    "2. url로 접속 후 3초 대기\n",
    "3. 페이지 파싱\n",
    "\n",
    "1. 게시글 제목 수집\n",
    "2. 게시자 수집\n",
    "3. 게시 일자 수집 \n",
    "4. Class = write_div 로 div 태그 찾고, 본문 내용 수집하기 \n",
    "\n",
    "\n",
    "1. try: 댓글 태그 있는지 확인\n",
    "- 댓글 태그 있으면: 댓글 게시자, 게시일자, 댓글 내용 수집 \n",
    "- driver.quit() 로 해당 페이지 크롤링 종료 \n",
    "\n",
    "2. Except : \n",
    "- (댓글 태그 없음) \n",
    "- driver.quit() 로 해당 페이지 크롤링 종료 "
   ]
  }
 ],
 "metadata": {
  "interpreter": {
   "hash": "4c3ef011dacc38893a1195bd1400f1bfec9d902762372ab997d6b63973747a5f"
  },
  "kernelspec": {
   "display_name": "Python 3.8.5 64-bit ('base': conda)",
   "name": "python3"
  },
  "language_info": {
   "codemirror_mode": {
    "name": "ipython",
    "version": 3
   },
   "file_extension": ".py",
   "mimetype": "text/x-python",
   "name": "python",
   "nbconvert_exporter": "python",
   "pygments_lexer": "ipython3",
   "version": "3.8.5"
  },
  "orig_nbformat": 4
 },
 "nbformat": 4,
 "nbformat_minor": 2
}
