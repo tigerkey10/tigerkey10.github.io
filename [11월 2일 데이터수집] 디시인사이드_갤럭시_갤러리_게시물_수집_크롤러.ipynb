{
 "cells": [
  {
   "cell_type": "code",
   "execution_count": 3,
   "metadata": {},
   "outputs": [],
   "source": [
    "import selenium\n",
    "from selenium import webdriver\n",
    "import os\n",
    "import time\n",
    "from selenium.webdriver.common.keys import Keys\n",
    "from selenium.webdriver.support.ui import Select\n",
    "import time\n",
    "import pandas as pd\n",
    "from bs4 import BeautifulSoup"
   ]
  },
  {
   "cell_type": "code",
   "execution_count": 94,
   "metadata": {},
   "outputs": [
    {
     "name": "stdout",
     "output_type": "stream",
     "text": [
      "-*--*--*--*--*--*--*--*--*--*--*--*--*--*--*--*--*--*--*--*--*--*--*--*--*--*--*--*--*--*--*--*--*--*--*--*--*--*--*--*--*--*--*--*--*--*--*--*--*--*--*--*--*--*--*--*--*--*--*--*--*--*--*--*--*--*--*--*--*--*--*--*--*--*--*--*--*--*--*--*--*--*--*--*--*--*--*--*--*--*--*--*--*--*--*--*--*--*--*--*-\n",
      "2021-2 Marketing analytics\n",
      "디시인사이드 갤럭시 커뮤니티 게시글+댓글 크롤러\n",
      "-*--*--*--*--*--*--*--*--*--*--*--*--*--*--*--*--*--*--*--*--*--*--*--*--*--*--*--*--*--*--*--*--*--*--*--*--*--*--*--*--*--*--*--*--*--*--*--*--*--*--*--*--*--*--*--*--*--*--*--*--*--*--*--*--*--*--*--*--*--*--*--*--*--*--*--*--*--*--*--*--*--*--*--*--*--*--*--*--*--*--*--*--*--*--*--*--*--*--*--*-\n"
     ]
    }
   ],
   "source": [
    "print('-*-'*100)\n",
    "print('2021-2 Marketing analytics')\n",
    "print('디시인사이드 갤럭시 커뮤니티 게시글+댓글 크롤러')\n",
    "print('-*-'*100)\n",
    "\n",
    "now = time.localtime()\n",
    "s = '%04d-%02d-%02d-%02d-%02d-%02d' %(now.tm_year, now.tm_mon, now.tm_mday, now.tm_hour, now.tm_min, now.tm_sec)\n",
    "f_dir = '/Users/kibeomkim/Desktop/웹크롤링_결과_데이터/'\n",
    "os.makedirs(f_dir+s+'-'+'디시_갤럭시_커뮤니티_게시글과_댓글')\n",
    "os.chdir(f_dir+s+'-'+'디시_갤럭시_커뮤니티_게시글과_댓글')\n",
    "cnt = int(input('몇 건 게시물을 수집하시겠습니까?'))\n",
    "\n",
    "driver_path = '/Users/kibeomkim/Desktop/chromedriver_intel/m1_chromedriver'\n",
    "options = webdriver.ChromeOptions()\n",
    "options.add_argument('User-Agent=Mozilla/5.0 (Macintosh; Intel Mac OS X 11_1_0) AppleWebKit/537.36 (KHTML, like Gecko) Chrome/87.0.4280.88 Safari/537.36')\n",
    "driver = webdriver.Chrome(driver_path, options=options)\n",
    "driver.get('https://gall.dcinside.com/mgallery/board/lists/?id=galaxy&page=2')\n",
    "s_time = time.time()\n",
    "time.sleep(random.randint(4,8))"
   ]
  },
  {
   "cell_type": "code",
   "execution_count": 95,
   "metadata": {},
   "outputs": [],
   "source": [
    "# part 1: 페이지 파싱해서 url 주소만 전부 수집. 리스트에 추가하기 \n",
    "page_result = driver.page_source\n",
    "soup = BeautifulSoup(page_result, 'html.parser')"
   ]
  },
  {
   "cell_type": "code",
   "execution_count": 96,
   "metadata": {},
   "outputs": [
    {
     "data": {
      "text/plain": [
       "50"
      ]
     },
     "execution_count": 96,
     "metadata": {},
     "output_type": "execute_result"
    }
   ],
   "source": [
    "list1 = soup.find_all('tr', 'ub-content us-post')\n",
    "\n",
    "no = 0\n",
    "url_list = []\n",
    "for tr in list1 : \n",
    "    word = tr.find('td', 'gall_subject').get_text()\n",
    "    if word == '공지' : \n",
    "        continue\n",
    "    else : \n",
    "        link = tr.find('a')['href']\n",
    "        url_list.append(link)\n",
    "        no += 1\n",
    "len(url_list)"
   ]
  }
 ],
 "metadata": {
  "interpreter": {
   "hash": "4c3ef011dacc38893a1195bd1400f1bfec9d902762372ab997d6b63973747a5f"
  },
  "kernelspec": {
   "display_name": "Python 3.8.5 64-bit ('base': conda)",
   "name": "python3"
  },
  "language_info": {
   "codemirror_mode": {
    "name": "ipython",
    "version": 3
   },
   "file_extension": ".py",
   "mimetype": "text/x-python",
   "name": "python",
   "nbconvert_exporter": "python",
   "pygments_lexer": "ipython3",
   "version": "3.8.5"
  },
  "orig_nbformat": 4
 },
 "nbformat": 4,
 "nbformat_minor": 2
}
