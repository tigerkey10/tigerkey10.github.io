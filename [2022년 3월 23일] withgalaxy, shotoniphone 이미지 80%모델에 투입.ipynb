{
 "cells": [
  {
   "cell_type": "markdown",
   "metadata": {},
   "source": [
    "# 일반화 성능 85% 모델 로드 "
   ]
  },
  {
   "cell_type": "code",
   "execution_count": 10,
   "metadata": {},
   "outputs": [],
   "source": [
    "from keras.models import load_model \n",
    "model = load_model('/Users/kibeomkim/Desktop/MAME_Project/models/model_target_samgalaxy/85_model.h5')"
   ]
  },
  {
   "cell_type": "markdown",
   "metadata": {},
   "source": [
    "# 모델이 예측할 데이터 로드(인스타그램 #shotonsamsunggalaxy 이미지)"
   ]
  },
  {
   "cell_type": "code",
   "execution_count": 11,
   "metadata": {},
   "outputs": [
    {
     "name": "stdout",
     "output_type": "stream",
     "text": [
      "Found 1078 images belonging to 1 classes.\n"
     ]
    },
    {
     "name": "stderr",
     "output_type": "stream",
     "text": [
      "2022-03-23 21:23:34.486963: I tensorflow/core/grappler/optimizers/custom_graph_optimizer_registry.cc:112] Plugin optimizer for device_type GPU is enabled.\n"
     ]
    }
   ],
   "source": [
    "from keras.preprocessing.image import ImageDataGenerator\n",
    "\n",
    "predict_datagen = ImageDataGenerator(rescale=1./255)\n",
    "predict_generator = predict_datagen.flow_from_directory(\n",
    "    '/Users/kibeomkim/Desktop/shotgalaxy', \n",
    "    target_size=(150,150), \n",
    "    batch_size=10\n",
    ")\n",
    "\n",
    "# 이미지 분류 \n",
    "result = model.predict(predict_generator)"
   ]
  },
  {
   "cell_type": "markdown",
   "metadata": {},
   "source": [
    "# 분류 결과 "
   ]
  },
  {
   "cell_type": "code",
   "execution_count": 12,
   "metadata": {},
   "outputs": [
    {
     "name": "stdout",
     "output_type": "stream",
     "text": [
      "1078 장 삼성 갤럭시 이미지 중 삼성 갤럭시 로 분류된 이미지 비율: 37.94063079777366\n"
     ]
    }
   ],
   "source": [
    "rate_galaxy = (len([ x for x in result if x > 0.5])/len(result))*100\n",
    "print('1078 장 삼성 갤럭시 이미지 중 삼성 갤럭시 로 분류된 이미지 비율:', rate_galaxy)"
   ]
  },
  {
   "cell_type": "markdown",
   "metadata": {},
   "source": [
    "# 테스트 "
   ]
  },
  {
   "cell_type": "code",
   "execution_count": 16,
   "metadata": {},
   "outputs": [
    {
     "name": "stdout",
     "output_type": "stream",
     "text": [
      "Found 1020 images belonging to 1 classes.\n"
     ]
    }
   ],
   "source": [
    "from keras.preprocessing.image import ImageDataGenerator\n",
    "\n",
    "predict_datagen = ImageDataGenerator(rescale=1./255)\n",
    "predict_generator = predict_datagen.flow_from_directory(\n",
    "    '/Users/kibeomkim/Desktop/withiphone', \n",
    "    target_size=(150,150), \n",
    "    batch_size=10\n",
    ")\n",
    "\n",
    "# 이미지 분류 \n",
    "result2= model.predict(predict_generator)"
   ]
  },
  {
   "cell_type": "code",
   "execution_count": 17,
   "metadata": {},
   "outputs": [
    {
     "name": "stdout",
     "output_type": "stream",
     "text": [
      "1020 애플 이미지 중 삼성 갤럭시 로 분류된 이미지 비율: 45.98039215686274\n"
     ]
    }
   ],
   "source": [
    "rate_iphone = (len([ x for x in result2 if x > 0.5])/len(result2))*100\n",
    "print(f'{len(result2)} 애플 이미지 중 삼성 갤럭시 로 분류된 이미지 비율:', rate_iphone)"
   ]
  },
  {
   "cell_type": "code",
   "execution_count": null,
   "metadata": {},
   "outputs": [],
   "source": []
  }
 ],
 "metadata": {
  "interpreter": {
   "hash": "35eb7306ee2d642baa30dd47b3f48e3de4de9582bbd530539ad6f76f0b00bf2b"
  },
  "kernelspec": {
   "display_name": "Python 3.8.12 ('tf25')",
   "language": "python",
   "name": "python3"
  },
  "language_info": {
   "codemirror_mode": {
    "name": "ipython",
    "version": 3
   },
   "file_extension": ".py",
   "mimetype": "text/x-python",
   "name": "python",
   "nbconvert_exporter": "python",
   "pygments_lexer": "ipython3",
   "version": "3.8.12"
  },
  "orig_nbformat": 4
 },
 "nbformat": 4,
 "nbformat_minor": 2
}
