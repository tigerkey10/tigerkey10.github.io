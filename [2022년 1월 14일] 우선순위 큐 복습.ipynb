{
 "cells": [
  {
   "cell_type": "markdown",
   "metadata": {},
   "source": [
    "# 우선순위 큐 "
   ]
  },
  {
   "cell_type": "code",
   "execution_count": 73,
   "metadata": {},
   "outputs": [],
   "source": [
    "# 1. priority que 클래스 이용하기 \n",
    "from queue import PriorityQueue\n",
    "\n",
    "que = PriorityQueue(maxsize=8)\n",
    "\n",
    "que.put(3);que.put(5)"
   ]
  },
  {
   "cell_type": "code",
   "execution_count": 74,
   "metadata": {},
   "outputs": [],
   "source": [
    "que.put(2);que.put(8)\n",
    "que.put(4);que.put(55)"
   ]
  },
  {
   "cell_type": "code",
   "execution_count": 80,
   "metadata": {},
   "outputs": [
    {
     "name": "stdout",
     "output_type": "stream",
     "text": [
      "(1, '가'),(2, 1),(3, 's'),(4, '나'),(5, 2),\n"
     ]
    }
   ],
   "source": [
    "for _ in range(que.qsize()) : \n",
    "    print(que.get(), end=',')\n",
    "print()"
   ]
  },
  {
   "cell_type": "code",
   "execution_count": 66,
   "metadata": {},
   "outputs": [],
   "source": [
    "que.put((1,'가'))\n",
    "que.put((3,3))"
   ]
  },
  {
   "cell_type": "code",
   "execution_count": 76,
   "metadata": {},
   "outputs": [
    {
     "data": {
      "text/plain": [
       "0"
      ]
     },
     "execution_count": 76,
     "metadata": {},
     "output_type": "execute_result"
    }
   ],
   "source": [
    "que.qsize()"
   ]
  },
  {
   "cell_type": "code",
   "execution_count": 71,
   "metadata": {},
   "outputs": [],
   "source": [
    "que.put('가');que.put('나')"
   ]
  },
  {
   "cell_type": "code",
   "execution_count": 79,
   "metadata": {},
   "outputs": [],
   "source": [
    "que.put((1,'가'));que.put((2,1))\n",
    "que.put((3,'s'));que.put((4,'나'))\n",
    "que.put((5,2))"
   ]
  },
  {
   "cell_type": "markdown",
   "metadata": {},
   "source": [
    "# 파이썬 기본리스트로 우선순위 큐 구현 "
   ]
  },
  {
   "cell_type": "code",
   "execution_count": 93,
   "metadata": {},
   "outputs": [],
   "source": [
    "# 우선순위 큐에서 중요한 것: 오직 출력 순위. \n",
    "\n",
    "class priorityque : \n",
    "\n",
    "    def __init__(self) : \n",
    "        self.items = [] \n",
    "\n",
    "    # 우선순위큐가 비어있는지 확인하는 메소드 \n",
    "    def isEmpty(self) : return len(self.items) == 0 # 비어있다'의 정의= 들어있는 아이템이 0개다. \n",
    "\n",
    "    # 우선순위큐에 들어있는 항목 갯수 확인하는 메소드 \n",
    "    def size(self) : return len(self.items)\n",
    "\n",
    "    # 우선순위 큐 비우는 메소드 \n",
    "    def clear(self) : self.items = [] \n",
    "\n",
    "    # 삽입 메소드 \n",
    "    def enqueue(self, item) : self.items.append(item) # 넣는 건 아무렇게나 넣어도 상관없다. 출력이 matter. \n",
    "    \n",
    "    # 최우선순위 항목 찾는 알고리즘 \n",
    "    def find_top_priority(self) :\n",
    "        if self.isEmpty() : return None # 비어있다면, 최우선순위는 없다. \n",
    "        else : \n",
    "            top_priority = 0 \n",
    "            # 전체 항목에 대하여: 2개씩 비교해서 최우선순위항목 나올때 까지 가린다. \n",
    "            for i in range(1, self.size()) : \n",
    "                if self.items[i] < self.items[top_priority] : # 새로운 도전자가 기존 것 보다 작을때 우선순위 부여 \n",
    "                    top_priority = i # 갱신된 최우선순위 \n",
    "            return top_priority #(도출된 최우선순위)\n",
    "    \n",
    "    # 삭제 메소드: 삭제 우선순위만 지키면 된다. \n",
    "    def dequeue(self) :\n",
    "        # 삭제우선순위\n",
    "        top_priority = self.find_top_priority()\n",
    "        if top_priority is not None : \n",
    "            return self.items.pop(top_priority)\n",
    "    \n",
    "    # 최우선순위 항목 미리보기 \n",
    "    def peek(self) : \n",
    "        # 삭제우선순위\n",
    "        top_priority = self.find_top_priority() \n",
    "        if top_priority != None : \n",
    "            return self.items[top_priority]"
   ]
  },
  {
   "cell_type": "code",
   "execution_count": 94,
   "metadata": {},
   "outputs": [],
   "source": [
    "# 우선순위 큐 테스트 \n",
    "pq = priorityque() "
   ]
  },
  {
   "cell_type": "code",
   "execution_count": 95,
   "metadata": {},
   "outputs": [],
   "source": [
    "pq.enqueue(34)\n",
    "pq.enqueue(18)\n",
    "pq.enqueue(27)\n",
    "pq.enqueue(45)\n",
    "pq.enqueue(15) # 작은 것 부터 우선순위 부여 받았으니 15,18,27,34,45 순으로 삭제될 것이라 예상. "
   ]
  },
  {
   "cell_type": "code",
   "execution_count": 96,
   "metadata": {},
   "outputs": [
    {
     "name": "stdout",
     "output_type": "stream",
     "text": [
      "p_que: [34, 18, 27, 45, 15]\n"
     ]
    }
   ],
   "source": [
    "print(f'p_que:',pq.items) "
   ]
  },
  {
   "cell_type": "code",
   "execution_count": 98,
   "metadata": {},
   "outputs": [
    {
     "name": "stdout",
     "output_type": "stream",
     "text": [
      "삭제된항목:15\n",
      "삭제된항목:18\n",
      "삭제된항목:27\n",
      "삭제된항목:34\n",
      "삭제된항목:45\n"
     ]
    }
   ],
   "source": [
    "while not pq.isEmpty() : \n",
    "    print(f'삭제된항목:{pq.dequeue()}')"
   ]
  },
  {
   "cell_type": "code",
   "execution_count": null,
   "metadata": {},
   "outputs": [],
   "source": []
  }
 ],
 "metadata": {
  "interpreter": {
   "hash": "4c3ef011dacc38893a1195bd1400f1bfec9d902762372ab997d6b63973747a5f"
  },
  "kernelspec": {
   "display_name": "Python 3.8.5 64-bit ('base': conda)",
   "language": "python",
   "name": "python3"
  },
  "language_info": {
   "codemirror_mode": {
    "name": "ipython",
    "version": 3
   },
   "file_extension": ".py",
   "mimetype": "text/x-python",
   "name": "python",
   "nbconvert_exporter": "python",
   "pygments_lexer": "ipython3",
   "version": "3.8.5"
  },
  "orig_nbformat": 4
 },
 "nbformat": 4,
 "nbformat_minor": 2
}
