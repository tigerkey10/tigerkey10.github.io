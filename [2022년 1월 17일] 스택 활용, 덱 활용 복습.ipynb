{
 "cells": [
  {
   "cell_type": "markdown",
   "metadata": {},
   "source": [
    "# 스택 활용 - 괄호검사 "
   ]
  },
  {
   "cell_type": "code",
   "execution_count": 23,
   "metadata": {},
   "outputs": [
    {
     "name": "stdout",
     "output_type": "stream",
     "text": [
      "False\n"
     ]
    }
   ],
   "source": [
    "# 1. 닫힘 괄호가 나오면 괄호 쌍 검사 \n",
    "# 2. 괄호 쌍 맞으면 스택에서 제외, 결과 true \n",
    "# 3. 괄호 쌍 안맞으면 결과 False, 검사 중단 \n",
    "\n",
    "a = ['(', ')', '{', '{', ')', ')', '}', '}', '(', '(']\n",
    "# 기본값\n",
    "s = [] \n",
    "n = len(a)\n",
    "\n",
    "for i in range(n) : \n",
    "    if a[i] == '(' or a[i] == '{' : \n",
    "        s.append(a[i])\n",
    "    else : # 닫힌 게 나오면 괄호검사 \n",
    "        if len(s) != 0 : \n",
    "            top = s.pop() \n",
    "            if a[i] == ')' and top != '(' : \n",
    "                result = False \n",
    "                break \n",
    "            elif a[i] == '}' and top != '{' : \n",
    "                result = False \n",
    "                break \n",
    "        else : \n",
    "            result = False \n",
    "            break \n",
    "\n",
    "if len(s) == 0 and result == True : \n",
    "    print(f'{True}')\n",
    "else : \n",
    "    print('False')"
   ]
  },
  {
   "cell_type": "code",
   "execution_count": 80,
   "metadata": {},
   "outputs": [],
   "source": [
    "# 함수로 만들어 사용 \n",
    "def check(a) : \n",
    "    s = [] \n",
    "    n = len(a)\n",
    "    result = True\n",
    "\n",
    "    for i in range(n) : \n",
    "        if a[i] == '(' or a[i] == '{' : \n",
    "            s.append(a[i])\n",
    "        else : # 닫힌 게 나오면 괄호검사 \n",
    "            if len(s) != 0 : \n",
    "                top = s.pop() \n",
    "                if a[i] == ')' and top != '(' : \n",
    "                    result = False \n",
    "                    break \n",
    "                elif a[i] == '}' and top != '{' : \n",
    "                    result = False \n",
    "                    break \n",
    "            else : \n",
    "                result = False \n",
    "                break \n",
    "\n",
    "    if len(s) == 0 and result == True : \n",
    "        return True \n",
    "    else : \n",
    "        return False"
   ]
  },
  {
   "cell_type": "code",
   "execution_count": 21,
   "metadata": {},
   "outputs": [
    {
     "data": {
      "text/plain": [
       "False"
      ]
     },
     "execution_count": 21,
     "metadata": {},
     "output_type": "execute_result"
    }
   ],
   "source": [
    "check(a)"
   ]
  },
  {
   "cell_type": "code",
   "execution_count": 22,
   "metadata": {},
   "outputs": [
    {
     "data": {
      "text/plain": [
       "True"
      ]
     },
     "execution_count": 22,
     "metadata": {},
     "output_type": "execute_result"
    }
   ],
   "source": [
    "a = ['(', '(', '{', '}', '(', ')', ')', '{', '{', '}', '(', ')', '}', ')']\n",
    "check(a)"
   ]
  },
  {
   "cell_type": "markdown",
   "metadata": {},
   "source": [
    "# 스택 응용 - 중위표기를 후위표기로 변경 "
   ]
  },
  {
   "cell_type": "code",
   "execution_count": 81,
   "metadata": {},
   "outputs": [],
   "source": [
    "# 1차원 리스트를 스택처럼 사용해서 하기 \n",
    "\n",
    "# 스택 구현\n",
    "stack = []\n",
    "\n",
    "# 삽입연산\n",
    "def push(item) : \n",
    "    global stack \n",
    "    stack.append(item)\n",
    "\n",
    "# 삭제연산 \n",
    "def pop() : \n",
    "    global stack \n",
    "    if len(stack) != 0 : \n",
    "        return stack.pop(-1)\n",
    "\n",
    "# 조회 \n",
    "def peek() : \n",
    "    if len(stack) != 0 : \n",
    "        return stack[-1] \n",
    "\n",
    "# -----------------------\n",
    "\n",
    "#1. 중위표기를 후위표기로 변경 \n",
    "def infix_to_postfix(expr) : \n",
    "    result = [] \n",
    "    p = {} \n",
    "    p['*'] = 3\n",
    "    p['/'] = 3\n",
    "    p['+'] = 2\n",
    "    p['-'] = 2\n",
    "    p['('] = 1\n",
    "\n",
    "    input_expr = expr.split()  \n",
    "\n",
    "    for i in input_expr : \n",
    "        if (i in 'ABCDEFGHIJKLMNOPQRSTUWXYZ') or (i in '0123456789') : \n",
    "            result.append(i)\n",
    "        elif i == '(' : \n",
    "            push(i)\n",
    "        elif i == ')' : \n",
    "            while True : \n",
    "                popped = pop()\n",
    "                if popped != '(' : \n",
    "                    result.append(popped)\n",
    "                elif popped == '(' : \n",
    "                    break \n",
    "        else : \n",
    "            while (len(stack) != 0) and (p[i] <= p[peek()]) : \n",
    "                result.append(pop())\n",
    "            push(i) \n",
    "    # 스택에 남은거 전부방출 \n",
    "    while len(stack) != 0 : \n",
    "        result.append(pop())\n",
    "    return ' '.join(result)"
   ]
  },
  {
   "cell_type": "code",
   "execution_count": 90,
   "metadata": {},
   "outputs": [],
   "source": [
    "# 2. 중위표기를 후위표기로 변경 \n",
    "def infix_to_postfix(expr) : \n",
    "    result = [] \n",
    "    p = {} \n",
    "    p['*'] = 3\n",
    "    p['/'] = 3\n",
    "    p['+'] = 2\n",
    "    p['-'] = 2\n",
    "    p['('] = 1\n",
    "\n",
    "    input_expr = expr.split()  \n",
    "\n",
    "    for i in input_expr : \n",
    "        if (i in 'ABCDEFGHIJKLMNOPQRSTUWXYZ') or (i in '0123456789') : \n",
    "            result.append(i)\n",
    "        elif i == '(' : \n",
    "            push(i)\n",
    "        elif i == ')' : \n",
    "            top = pop() \n",
    "            while top != '(' : \n",
    "                result.append(top)\n",
    "                top = pop() \n",
    "\n",
    "        else : \n",
    "            while (len(stack) != 0) and (p[i] <= p[peek()]) : \n",
    "                result.append(pop())\n",
    "            push(i) \n",
    "    # 스택에 남은거 전부방출 \n",
    "    while len(stack) != 0 : \n",
    "        result.append(pop())\n",
    "    return ' '.join(result)"
   ]
  },
  {
   "cell_type": "code",
   "execution_count": 82,
   "metadata": {},
   "outputs": [],
   "source": [
    "stack = []"
   ]
  },
  {
   "cell_type": "code",
   "execution_count": 91,
   "metadata": {},
   "outputs": [
    {
     "data": {
      "text/plain": [
       "'A B + C * D E - F G + * -'"
      ]
     },
     "execution_count": 91,
     "metadata": {},
     "output_type": "execute_result"
    }
   ],
   "source": [
    "infix_to_postfix('( A + B ) * C - ( D - E ) * ( F + G )')"
   ]
  },
  {
   "cell_type": "code",
   "execution_count": 92,
   "metadata": {},
   "outputs": [
    {
     "name": "stdout",
     "output_type": "stream",
     "text": [
      "A B * C D * +\n"
     ]
    }
   ],
   "source": [
    "print(infix_to_postfix('A * B + C * D'))"
   ]
  },
  {
   "cell_type": "code",
   "execution_count": 93,
   "metadata": {},
   "outputs": [
    {
     "name": "stdout",
     "output_type": "stream",
     "text": [
      "A B C * D E - / +\n"
     ]
    }
   ],
   "source": [
    "print(infix_to_postfix('A + B * C / ( D - E )'))"
   ]
  },
  {
   "cell_type": "markdown",
   "metadata": {},
   "source": [
    "# 스택의 활용 - 후위표기 계산 "
   ]
  },
  {
   "cell_type": "code",
   "execution_count": 56,
   "metadata": {},
   "outputs": [],
   "source": [
    "stack = [] \n",
    "\n",
    "def push(item) : stack.append(item)\n",
    "\n",
    "def pop() : \n",
    "    if len(stack) != 0 : return stack.pop(-1) \n",
    "\n",
    "def peek() : \n",
    "    if len(stack) != 0 : return stack[-1]\n",
    "\n",
    "def compute(operator, operand1, operand2) :\n",
    "    if operator == '*' : return (operand1 * operand2) \n",
    "    elif operator == '/' : return (operand1 / operand2) \n",
    "    elif operator == '+' : return (operand1 + operand2)\n",
    "    else : return (operand1 - operand2)\n",
    "\n",
    "# 계산 \n",
    "def calculation(input_expression) : \n",
    "    expr = input_expression.split()\n",
    "    for token in expr : \n",
    "        if token in '0123456789' : \n",
    "            push(int(token))\n",
    "        else : \n",
    "            op2 = pop() \n",
    "            op1 = pop()\n",
    "            push(compute(token, op1, op2))\n",
    "    if len(stack) == 1 : \n",
    "        return stack.pop(-1)"
   ]
  },
  {
   "cell_type": "code",
   "execution_count": 58,
   "metadata": {},
   "outputs": [
    {
     "data": {
      "text/plain": [
       "3.0"
      ]
     },
     "execution_count": 58,
     "metadata": {},
     "output_type": "execute_result"
    }
   ],
   "source": [
    "calculation('7 8 + 3 2 + /')"
   ]
  },
  {
   "cell_type": "code",
   "execution_count": 57,
   "metadata": {},
   "outputs": [
    {
     "data": {
      "text/plain": [
       "9.5"
      ]
     },
     "execution_count": 57,
     "metadata": {},
     "output_type": "execute_result"
    }
   ],
   "source": [
    "calculation('2 3 5 * 6 4 - / +')"
   ]
  },
  {
   "cell_type": "markdown",
   "metadata": {},
   "source": [
    "# 덱 활용 - 단어가 회문인지 아닌지 검사 "
   ]
  },
  {
   "cell_type": "code",
   "execution_count": 95,
   "metadata": {},
   "outputs": [],
   "source": [
    "def check_palindrome(word) : \n",
    "    flag = True\n",
    "    words = list(word)\n",
    "    while len(words) > 1 :\n",
    "        front = words.pop(0)\n",
    "        rear = words.pop(-1)\n",
    "        if front != rear : \n",
    "            flag = False \n",
    "            break \n",
    "    return flag "
   ]
  },
  {
   "cell_type": "code",
   "execution_count": 75,
   "metadata": {},
   "outputs": [
    {
     "data": {
      "text/plain": [
       "True"
      ]
     },
     "execution_count": 75,
     "metadata": {},
     "output_type": "execute_result"
    }
   ],
   "source": [
    "check_palindrome('racecar')"
   ]
  },
  {
   "cell_type": "code",
   "execution_count": 96,
   "metadata": {},
   "outputs": [
    {
     "data": {
      "text/plain": [
       "False"
      ]
     },
     "execution_count": 96,
     "metadata": {},
     "output_type": "execute_result"
    }
   ],
   "source": [
    "check_palindrome('tesesta')"
   ]
  },
  {
   "cell_type": "code",
   "execution_count": 78,
   "metadata": {},
   "outputs": [
    {
     "data": {
      "text/plain": [
       "True"
      ]
     },
     "execution_count": 78,
     "metadata": {},
     "output_type": "execute_result"
    }
   ],
   "source": [
    "check_palindrome('raddar')"
   ]
  },
  {
   "cell_type": "code",
   "execution_count": 79,
   "metadata": {},
   "outputs": [
    {
     "data": {
      "text/plain": [
       "True"
      ]
     },
     "execution_count": 79,
     "metadata": {},
     "output_type": "execute_result"
    }
   ],
   "source": [
    "check_palindrome('wasitacatisaw')"
   ]
  }
 ],
 "metadata": {
  "interpreter": {
   "hash": "4c3ef011dacc38893a1195bd1400f1bfec9d902762372ab997d6b63973747a5f"
  },
  "kernelspec": {
   "display_name": "Python 3.8.5 64-bit ('base': conda)",
   "language": "python",
   "name": "python3"
  },
  "language_info": {
   "codemirror_mode": {
    "name": "ipython",
    "version": 3
   },
   "file_extension": ".py",
   "mimetype": "text/x-python",
   "name": "python",
   "nbconvert_exporter": "python",
   "pygments_lexer": "ipython3",
   "version": "3.8.5"
  },
  "orig_nbformat": 4
 },
 "nbformat": 4,
 "nbformat_minor": 2
}
