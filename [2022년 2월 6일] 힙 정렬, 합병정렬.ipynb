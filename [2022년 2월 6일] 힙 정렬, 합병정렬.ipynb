{
 "cells": [
  {
   "cell_type": "markdown",
   "metadata": {},
   "source": [
    "# 힙 정렬 "
   ]
  },
  {
   "cell_type": "code",
   "execution_count": 22,
   "metadata": {},
   "outputs": [],
   "source": [
    "# 다운힙 정의 \n",
    "\n",
    "def downheap(i, hsize) : # 현재노드, 이진 힙 크기\n",
    "    # 다운힙 하기 위한 조건 : 왼쪽 자식이 있을 때 \n",
    "    while (2*i <= hsize) : \n",
    "        k = 2*i # 왼쪽 자식 / 자식 승자\n",
    "        if k < hsize and a[k] < a[k+1] : # 오른쪽 자식이 있고 + 오른쪽 자식이 왼쪽 자식보다 크다면\n",
    "            k += 1 # 자식승자 (오른쪽 자식)\n",
    "        if a[i] >= a[k] : \n",
    "            break # 다운힙 그만한다\n",
    "        a[i], a[k] = a[k], a[i] # 루트와 자식승자 교환\n",
    "        i = k # 자식승자 자리가 다시 루트이자 현재노드가 된다. \n",
    "\n",
    "# 초기 힙 생성 정의 \n",
    "def create_heap(a) : \n",
    "    hsize = len(a) - 1\n",
    "    for i in reversed(range(1, (hsize//2)+1)) : # 가장 아래 서브트리 루트~루트R 까지 다운 힙\n",
    "        downheap(i, hsize)\n",
    "\n",
    "# 힙 정렬 정의\n",
    "def heap_sort(a) : \n",
    "    N = len(a) - 1 # 맨 마지막 노드 이면서 동시에 이진 힙 크기 \n",
    "    for i in range(N) : \n",
    "        a[1], a[N] = a[N], a[1] # 루트R과 제일 마지막 노드 교환 \n",
    "        downheap(1, N-1)\n",
    "        N -= 1 "
   ]
  },
  {
   "cell_type": "code",
   "execution_count": 25,
   "metadata": {},
   "outputs": [
    {
     "name": "stdout",
     "output_type": "stream",
     "text": [
      "정렬 전:\t[None, 54, 88, 77, 26, 93, 17, 49, 10, 17, 77, 11, 31, 22, 44, 17, 20]\n",
      "최대힙: [None, 93, 88, 77, 26, 77, 31, 49, 20, 17, 54, 11, 17, 22, 44, 17, 10]\n",
      "힙 정렬 후(오름차순): [None, 10, 11, 17, 17, 17, 20, 22, 26, 31, 44, 49, 54, 77, 77, 88, 93]\n"
     ]
    }
   ],
   "source": [
    "# 힙 정렬 알고리듬 테스트 \n",
    "\n",
    "a = [None,54, 88, 77, 26, 93, 17, 49, 10, 17, 77, 11, 31, 22, 44, 17, 20]\n",
    "print('정렬 전:\\t', end='')\n",
    "print(a)\n",
    "create_heap(a) # 최대 힙 생성 \n",
    "print(f'최대힙: {a}')\n",
    "heap_sort(a)\n",
    "print(f'힙 정렬 후(오름차순): {a}')"
   ]
  },
  {
   "cell_type": "code",
   "execution_count": 67,
   "metadata": {},
   "outputs": [
    {
     "name": "stdout",
     "output_type": "stream",
     "text": [
      "정렬 전: [54, 88, 77, 26, 93, 17, 49, 10, 17, 77, 11, 31, 22, 44, 17, 20]\n",
      "힙: [10, 11, 17, 17, 54, 17, 44, 20, 88, 77, 93, 31, 22, 77, 49, 26]\n"
     ]
    }
   ],
   "source": [
    "# heapq 활용한 힙 정렬 \n",
    "import heapq\n",
    "\n",
    "a = [54, 88, 77, 26, 93, 17, 49, 10, 17, 77, 11, 31, 22, 44, 17, 20]\n",
    "print(f'정렬 전: {a}')\n",
    "\n",
    "heapq.heapify(a) # 배열을 최소힙으로 만드는 함수 \n",
    "print(f'힙: {a}')"
   ]
  },
  {
   "cell_type": "code",
   "execution_count": 68,
   "metadata": {},
   "outputs": [
    {
     "name": "stdout",
     "output_type": "stream",
     "text": [
      "heapq - 힙 정렬 이용해 오름차순 정렬 결과: [10, 11, 17, 17, 17, 20, 22, 26, 31, 44, 49, 54, 77, 77, 88, 93]\n"
     ]
    }
   ],
   "source": [
    "s = []\n",
    "while a : \n",
    "    s.append(heapq.heappop(a)) \n",
    "print(f'heapq - 힙 정렬 이용해 오름차순 정렬 결과: {s}')"
   ]
  },
  {
   "cell_type": "markdown",
   "metadata": {},
   "source": [
    "# 합병정렬 "
   ]
  },
  {
   "cell_type": "code",
   "execution_count": null,
   "metadata": {},
   "outputs": [],
   "source": []
  }
 ],
 "metadata": {
  "interpreter": {
   "hash": "35eb7306ee2d642baa30dd47b3f48e3de4de9582bbd530539ad6f76f0b00bf2b"
  },
  "kernelspec": {
   "display_name": "Python 3.8.12 64-bit ('tf25': conda)",
   "language": "python",
   "name": "python3"
  },
  "language_info": {
   "codemirror_mode": {
    "name": "ipython",
    "version": 3
   },
   "file_extension": ".py",
   "mimetype": "text/x-python",
   "name": "python",
   "nbconvert_exporter": "python",
   "pygments_lexer": "ipython3",
   "version": "3.8.5"
  },
  "orig_nbformat": 4
 },
 "nbformat": 4,
 "nbformat_minor": 2
}
