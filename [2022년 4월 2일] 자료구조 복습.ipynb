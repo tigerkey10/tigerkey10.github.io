{
 "cells": [
  {
   "cell_type": "code",
   "execution_count": 17,
   "metadata": {},
   "outputs": [
    {
     "data": {
      "text/plain": [
       "{'key1', 'key2', 'key3'}"
      ]
     },
     "execution_count": 17,
     "metadata": {},
     "output_type": "execute_result"
    }
   ],
   "source": [
    "set1 = {'key1', 'key2', 'key3', 'key4'}\n",
    "set1.add('key4')\n",
    "set1.add('key5');set1\n",
    "set1.discard('key5');set1\n",
    "\n",
    "set1.remove('key4');set1"
   ]
  },
  {
   "cell_type": "code",
   "execution_count": 19,
   "metadata": {},
   "outputs": [
    {
     "data": {
      "text/plain": [
       "['key1', 'key2', 'key3']"
      ]
     },
     "execution_count": 19,
     "metadata": {},
     "output_type": "execute_result"
    }
   ],
   "source": [
    "sorted(set1)"
   ]
  },
  {
   "cell_type": "code",
   "execution_count": 20,
   "metadata": {},
   "outputs": [
    {
     "data": {
      "text/plain": [
       "{1}"
      ]
     },
     "execution_count": 20,
     "metadata": {},
     "output_type": "execute_result"
    }
   ],
   "source": [
    "set2 = {1,1,1,1,1,1};set2"
   ]
  },
  {
   "cell_type": "code",
   "execution_count": 8,
   "metadata": {},
   "outputs": [
    {
     "name": "stdout",
     "output_type": "stream",
     "text": [
      "True\n"
     ]
    }
   ],
   "source": [
    "from pythonds.basic import Stack \n",
    "\n",
    "st = Stack()\n",
    "\n",
    "print(st.isEmpty())\n",
    "\n",
    "st.push(1);st.push(5);st.push(8)"
   ]
  },
  {
   "cell_type": "code",
   "execution_count": 10,
   "metadata": {},
   "outputs": [
    {
     "name": "stdout",
     "output_type": "stream",
     "text": [
      "8\n"
     ]
    }
   ],
   "source": [
    "print(st.peek())"
   ]
  },
  {
   "cell_type": "code",
   "execution_count": 12,
   "metadata": {},
   "outputs": [
    {
     "name": "stdout",
     "output_type": "stream",
     "text": [
      "[1, 5, 8]\n"
     ]
    }
   ],
   "source": [
    "print(st.items)"
   ]
  },
  {
   "cell_type": "code",
   "execution_count": 13,
   "metadata": {},
   "outputs": [
    {
     "data": {
      "text/plain": [
       "8"
      ]
     },
     "execution_count": 13,
     "metadata": {},
     "output_type": "execute_result"
    }
   ],
   "source": [
    "st.pop()"
   ]
  },
  {
   "cell_type": "code",
   "execution_count": 14,
   "metadata": {},
   "outputs": [
    {
     "data": {
      "text/plain": [
       "[1, 5]"
      ]
     },
     "execution_count": 14,
     "metadata": {},
     "output_type": "execute_result"
    }
   ],
   "source": [
    "st.items"
   ]
  },
  {
   "cell_type": "code",
   "execution_count": 16,
   "metadata": {},
   "outputs": [
    {
     "data": {
      "text/plain": [
       "2"
      ]
     },
     "execution_count": 16,
     "metadata": {},
     "output_type": "execute_result"
    }
   ],
   "source": [
    "st.size()"
   ]
  },
  {
   "cell_type": "code",
   "execution_count": 19,
   "metadata": {},
   "outputs": [
    {
     "name": "stdout",
     "output_type": "stream",
     "text": [
      "5\n",
      "1\n"
     ]
    }
   ],
   "source": [
    "while st.size() != 0 : \n",
    "    print(st.pop())"
   ]
  },
  {
   "cell_type": "code",
   "execution_count": 20,
   "metadata": {},
   "outputs": [
    {
     "data": {
      "text/plain": [
       "[]"
      ]
     },
     "execution_count": 20,
     "metadata": {},
     "output_type": "execute_result"
    }
   ],
   "source": [
    "st.items"
   ]
  },
  {
   "cell_type": "markdown",
   "metadata": {},
   "source": [
    "# 스택 객체 구현 - 스택 클래스 정의 "
   ]
  },
  {
   "cell_type": "code",
   "execution_count": 28,
   "metadata": {},
   "outputs": [],
   "source": [
    "class Stack : \n",
    "    def __init__(self) : \n",
    "        self.items = []\n",
    "    \n",
    "    def push(self, x) : \n",
    "        self.items.append(x)\n",
    "    \n",
    "    def pop(self) : \n",
    "        if self.size() != 0 : \n",
    "            deleted = self.items.pop(-1) \n",
    "            return deleted\n",
    "\n",
    "    def peek(self) : \n",
    "        if self.size() != 0 : \n",
    "            return self.items[-1]\n",
    "\n",
    "    def isEmpty(self) : \n",
    "        return len(self.items) == 0 \n",
    "\n",
    "    def size(self) : \n",
    "        return len(self.items)"
   ]
  },
  {
   "cell_type": "code",
   "execution_count": 29,
   "metadata": {},
   "outputs": [
    {
     "data": {
      "text/plain": [
       "<__main__.Stack at 0x7febb9997790>"
      ]
     },
     "execution_count": 29,
     "metadata": {},
     "output_type": "execute_result"
    }
   ],
   "source": [
    "st = Stack()\n",
    "st"
   ]
  },
  {
   "cell_type": "code",
   "execution_count": 34,
   "metadata": {},
   "outputs": [
    {
     "name": "stdout",
     "output_type": "stream",
     "text": [
      "True\n",
      "A\n",
      "A\n",
      "2\n",
      "1\n"
     ]
    }
   ],
   "source": [
    "print(st.isEmpty())\n",
    "st.push(1);st.push(2);st.push('A')\n",
    "print(st.peek())\n",
    "while st.size() != 0 : \n",
    "    print(st.pop())"
   ]
  },
  {
   "cell_type": "code",
   "execution_count": 42,
   "metadata": {},
   "outputs": [],
   "source": [
    "st.push(3);st.push(8)"
   ]
  },
  {
   "cell_type": "code",
   "execution_count": 44,
   "metadata": {},
   "outputs": [
    {
     "data": {
      "text/plain": [
       "[3, 8, 9, 3, 8, 9, 3, 8]"
      ]
     },
     "execution_count": 44,
     "metadata": {},
     "output_type": "execute_result"
    }
   ],
   "source": [
    "st.items"
   ]
  },
  {
   "cell_type": "code",
   "execution_count": 43,
   "metadata": {},
   "outputs": [
    {
     "data": {
      "text/plain": [
       "8"
      ]
     },
     "execution_count": 43,
     "metadata": {},
     "output_type": "execute_result"
    }
   ],
   "source": [
    "st.peek()"
   ]
  },
  {
   "cell_type": "markdown",
   "metadata": {},
   "source": [
    "# 단순연결리스트로 스택 클래스 구현 "
   ]
  },
  {
   "cell_type": "code",
   "execution_count": 16,
   "metadata": {},
   "outputs": [],
   "source": [
    "class Node : \n",
    "    def __init__(self, item, link) : \n",
    "        self.item = item \n",
    "        self.next = link \n",
    "# 빈 스택 정의 \n",
    "top = None \n",
    "size = 0 "
   ]
  },
  {
   "cell_type": "code",
   "execution_count": 40,
   "metadata": {},
   "outputs": [],
   "source": [
    "# 삭제연산 정의 \n",
    "def pop() : \n",
    "    global top \n",
    "    global size \n",
    "\n",
    "    if not isEmpty() : \n",
    "        deleted = top.item \n",
    "        top = top.next \n",
    "        size -= 1\n",
    "        return deleted \n",
    "\n",
    "# 맨 위에 것 보는 연산 \n",
    "def peek() : \n",
    "    global top \n",
    "\n",
    "    if not isEmpty() : \n",
    "        return top.item \n",
    "\n",
    "# 스택이 비었는지 확인 연산 \n",
    "def isEmpty() : \n",
    "    global top \n",
    "    return top == None \n",
    "\n",
    "# 스택에 노드 추가 연산 \n",
    "def push(x) : \n",
    "    global top \n",
    "    global size \n",
    "    top = Node(x, top)\n",
    "    size += 1 \n",
    "\n",
    "# 스택 요소들 출력 연산 \n",
    "def print_st() : \n",
    "    global top \n",
    "    if not isEmpty() : \n",
    "        p = top # 출력 할 현재노드 \n",
    "        while True : \n",
    "            print(p.item, end=' ') # 현재노드 출력 \n",
    "            if p.next == None : break # 현재노드가 마지막 노드인지 확인하고 마지막 노드면 반복 중단 \n",
    "            p = p.next # 출력 할 현재노드 변경 \n",
    "        print()\n",
    "def clear_st() : \n",
    "    global top\n",
    "    global size \n",
    "\n",
    "    top = None \n",
    "    size = 0 "
   ]
  },
  {
   "cell_type": "markdown",
   "metadata": {},
   "source": [
    "# 테스트 "
   ]
  },
  {
   "cell_type": "code",
   "execution_count": 41,
   "metadata": {},
   "outputs": [],
   "source": [
    "clear_st()"
   ]
  },
  {
   "cell_type": "code",
   "execution_count": 42,
   "metadata": {},
   "outputs": [],
   "source": [
    "print_st()"
   ]
  },
  {
   "cell_type": "code",
   "execution_count": 43,
   "metadata": {},
   "outputs": [],
   "source": [
    "push('apple');push('orange');push('cherry')"
   ]
  },
  {
   "cell_type": "code",
   "execution_count": 44,
   "metadata": {},
   "outputs": [
    {
     "name": "stdout",
     "output_type": "stream",
     "text": [
      "사과 오렌지 체리 push 후:cherry orange apple \n"
     ]
    }
   ],
   "source": [
    "print(f'사과 오렌지 체리 push 후:', end='')\n",
    "print_st()"
   ]
  },
  {
   "cell_type": "code",
   "execution_count": 45,
   "metadata": {},
   "outputs": [
    {
     "name": "stdout",
     "output_type": "stream",
     "text": [
      "top 항목: cherry\n"
     ]
    }
   ],
   "source": [
    "print(f'top 항목: ', end='')\n",
    "print(peek())"
   ]
  },
  {
   "cell_type": "code",
   "execution_count": 46,
   "metadata": {},
   "outputs": [
    {
     "name": "stdout",
     "output_type": "stream",
     "text": [
      "배 push 후: pear cherry orange apple \n"
     ]
    }
   ],
   "source": [
    "push('pear');print(f'배 push 후: ', end='');print_st()"
   ]
  },
  {
   "cell_type": "code",
   "execution_count": 47,
   "metadata": {},
   "outputs": [
    {
     "data": {
      "text/plain": [
       "'pear'"
      ]
     },
     "execution_count": 47,
     "metadata": {},
     "output_type": "execute_result"
    }
   ],
   "source": [
    "pop()"
   ]
  },
  {
   "cell_type": "code",
   "execution_count": 48,
   "metadata": {},
   "outputs": [
    {
     "name": "stdout",
     "output_type": "stream",
     "text": [
      "pop(), 포도 push() 후 :grape cherry orange apple \n"
     ]
    }
   ],
   "source": [
    "push('grape');print(f'pop(), 포도 push() 후 :', end='')\n",
    "print_st()"
   ]
  },
  {
   "cell_type": "code",
   "execution_count": null,
   "metadata": {},
   "outputs": [],
   "source": []
  }
 ],
 "metadata": {
  "interpreter": {
   "hash": "4c3ef011dacc38893a1195bd1400f1bfec9d902762372ab997d6b63973747a5f"
  },
  "kernelspec": {
   "display_name": "Python 3.8.5",
   "language": "python",
   "name": "python3"
  },
  "language_info": {
   "codemirror_mode": {
    "name": "ipython",
    "version": 3
   },
   "file_extension": ".py",
   "mimetype": "text/x-python",
   "name": "python",
   "nbconvert_exporter": "python",
   "pygments_lexer": "ipython3",
   "version": "3.8.5"
  },
  "orig_nbformat": 4
 },
 "nbformat": 4,
 "nbformat_minor": 2
}
