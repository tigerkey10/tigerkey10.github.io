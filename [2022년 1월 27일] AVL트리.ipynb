{
 "cells": [
  {
   "cell_type": "markdown",
   "metadata": {},
   "source": [
    "# AVL 트리 "
   ]
  },
  {
   "cell_type": "markdown",
   "metadata": {},
   "source": [
    "## 회전연산 정의 "
   ]
  },
  {
   "cell_type": "code",
   "execution_count": 1,
   "metadata": {},
   "outputs": [],
   "source": [
    "# 회전연산 정의 \n",
    "\n",
    "## RR\n",
    "def rotate_RR(A) : \n",
    "    B = A.right \n",
    "    A.right = B.left \n",
    "    B.left = A \n",
    "    return B \n",
    "\n",
    "## LL \n",
    "def rotate_LL(A) : \n",
    "    B = A.left\n",
    "    A.left = B.right \n",
    "    B.right = A \n",
    "    return B \n",
    "\n",
    "# RL\n",
    "def rotate_RL(A) : \n",
    "    B = A.right\n",
    "    A.right = rotate_LL(B)\n",
    "    return rotate_RR(A)\n",
    "\n",
    "# LR\n",
    "def rotate_LR(A) : \n",
    "    B = A.left \n",
    "    A.left = rotate_RR(B)\n",
    "    return rotate_LL(A)"
   ]
  },
  {
   "cell_type": "markdown",
   "metadata": {},
   "source": [
    "## 노드, 재균형 연산 "
   ]
  },
  {
   "cell_type": "code",
   "execution_count": 6,
   "metadata": {},
   "outputs": [],
   "source": [
    "# 이진탐색트리 노드 정의\n",
    "\n",
    "class Node : \n",
    "    def __init__(self, key, value, height, left=None, right=None) : \n",
    "        self.key = key \n",
    "        self.value = value \n",
    "        self.left = left \n",
    "        self.right = right \n",
    "        self.height = height \n",
    "\n",
    "# 서브트리 높이 정의 \n",
    "def height(n) : \n",
    "    if n == None : # 공트리면 높이 0 \n",
    "        return 0 \n",
    "    return n.height \n",
    "\n",
    "# 서브트리 높이 차 정의 \n",
    "def height_diff(n) : \n",
    "    return height(n.left) - height(n.right) # 왼쪽 서브트리 높이 - 오른쪽 서브트리 높이 \n",
    "\n",
    "# 재균형 연산 정의 \n",
    "def rebalance(parent) : \n",
    "    if height_diff(parent) > 1 : # 왼쪽 서브트리가 오른쪽 서브트리 보다 2 이상 높을 때 \n",
    "        if height_diff(parent.left) > 0 : # 왼쪽 안에서 왼쪽이 더 큰 경우 \n",
    "            parent = rotate_LL(parent)\n",
    "        elif height_diff(parent.left) < 0 : # 왼쪽 안에서 오른쪽이 더 큰 경우 \n",
    "            parent = rotate_LR(parent)\n",
    "    elif height_diff(parent) < -1 : # 오른쪽 서브트리가 왼쪽보다 절댓값 2 이상 높을 때 \n",
    "        if height_diff(parent.right) > 0 : \n",
    "            parent = rotate_RL(parent)\n",
    "        elif height_diff(parent.right) < 0 : \n",
    "            parent = rotate_RR(parent)\n",
    "    return parent "
   ]
  },
  {
   "cell_type": "markdown",
   "metadata": {},
   "source": [
    "# 삽입연산 (삽입 + 균형유지)"
   ]
  },
  {
   "cell_type": "code",
   "execution_count": 10,
   "metadata": {},
   "outputs": [],
   "source": [
    "# 삽입연산 정의 \n",
    "\n",
    "def insert(parent, node) : # 키 비교할 노드, 삽입할 노드 \n",
    "    if (parent.key > node.key) : \n",
    "        if parent.left == None : \n",
    "            parent.left = node \n",
    "        else : \n",
    "            parent.left = insert(parent.left, node)\n",
    "        return rebalance(parent) # 균형유지 후 루트 반환\n",
    "\n",
    "    elif (parent.key < node.key) : \n",
    "        if parent.right == None : \n",
    "            parent.right = node \n",
    "        else : \n",
    "            parent.right = insert(parent.right, node)\n",
    "        return rebalance(parent) \n",
    "\n",
    "    else : \n",
    "        print('중복된 키 에러. 삽입실패') # 탐색 실패 "
   ]
  },
  {
   "cell_type": "code",
   "execution_count": 56,
   "metadata": {},
   "outputs": [],
   "source": [
    "# AVL트리 노드, 객체 정의 \n",
    "\n",
    "# 노드 정의\n",
    "class Node : \n",
    "    def __init__(self, key, value, height, left=None, right=None) : \n",
    "        self.key = key \n",
    "        self.value = value \n",
    "        self.height = height \n",
    "        self.left = left \n",
    "        self.right = right \n",
    "\n",
    "# AVL트리 객체 정의 \n",
    "class AVL : \n",
    "    def __init__(self) : \n",
    "        self.root = None \n",
    "    \n",
    "    # 노드 높이 정의 \n",
    "    def height(self, n) : \n",
    "        if n == None : \n",
    "            return 0 \n",
    "        return n.height \n",
    "    \n",
    "    # 삽입연산 정의\n",
    "    def put(self, key, value) : \n",
    "        self.root = self.put_item(self.root, key, value)\n",
    "    def put_item(self, n, key, value) : \n",
    "        if n == None : \n",
    "            return Node(key, value, 1)\n",
    "        if (n.key > key) : \n",
    "            n.left = self.put_item(n.left, key, value)\n",
    "        elif (n.key < key) : \n",
    "            n.right = self.put_item(n.right, key, value)\n",
    "        else : \n",
    "            n.value = value # 키는 일치. 현재 노드 값 갱신 \n",
    "        n.height = max(self.height(n.left), self.height(n.right)) + 1 # 루트 높이 갱신 \n",
    "        return self.balance(n) # 루트 반환 \n",
    "    \n",
    "    # 불균형 처리 정의 \n",
    "    def balance(self, n) : \n",
    "        if self.bf(n) > 1 :  # 왼쪽 서브트리가 오른쪽 보다 높은 경우 \n",
    "            if self.bf(n.left) < 0 : # LR\n",
    "                n.left = self.rotate_left(n.left)\n",
    "            n = self.rotate_right(n) # LL \n",
    "        elif self.bf(n) < -1 : # 오른쪽 서브트리가 왼쪽보다 높은 경우 \n",
    "            if self.bf(n.right) > 0 : # RL\n",
    "                n.right = self.rotate_right(n.right)\n",
    "            n = self.rotate_left(n) # RR\n",
    "        return n \n",
    "    \n",
    "    # 서브트리 높이 비교 정의 \n",
    "    def bf(self, n) : \n",
    "        return self.height(n.left) - self.height(n.right)\n",
    "    \n",
    "    # 오른쪽으로 회전 정의 \n",
    "    def rotate_right(self, n) :\n",
    "        x = n.left\n",
    "        n.left = x.right \n",
    "        x.right = n \n",
    "        \n",
    "        n.height = max(self.height(n.left), self.height(n.right)) + 1\n",
    "        x.height = max(self.height(x.left), self.height(x.right)) + 1\n",
    "        return x\n",
    "    \n",
    "    # 왼쪽으로 회전 정의 \n",
    "    def rotate_left(self, n) : \n",
    "        x = n.right\n",
    "        n.right = x.left \n",
    "        x.left = n \n",
    "\n",
    "        n.height = max(self.height(n.left), self.height(n.right)) + 1\n",
    "        x.height = max(self.height(x.left), self.height(x.right)) + 1\n",
    "        return x \n",
    "    \n",
    "    # 노드 삭제 연산 정의 \n",
    "    def delete(self, key) : \n",
    "        self.root = self.del_node(self.root, key)\n",
    "\n",
    "    def del_node(self, n, key) : \n",
    "        if n == None : \n",
    "            return None # 삭제할 노드가 트리 안에 없음\n",
    "        if (n.key > key) : \n",
    "            n.left = self.del_node(n.left, key)\n",
    "        elif (n.key < key) : \n",
    "            n.right = self.del_node(n.right, key)\n",
    "        else : # 삭제할 노드 찾은 경우 \n",
    "            if n.right == None : # 0, 1\n",
    "                return n.left\n",
    "            if n.left == None : \n",
    "                return n.right # 1 \n",
    "            #else : # 2\n",
    "            target = n \n",
    "            n = self.minimum(target.right) # 중위후속자 = 오른쪽 서브트리 가장 왼쪽 값(최솟값)\n",
    "            n.right = self.del_min(target.right)\n",
    "            n.left = target.left \n",
    "        n.height = max(self.height(n.left), self.height(n.right)) + 1 # n의 높이 조정 \n",
    "        return self.balance(n)\n",
    "    \n",
    "    # 최솟값(가장 왼쪽 노드) 삭제 정의\n",
    "    def delete_min(self) : \n",
    "        if self.root == None : \n",
    "            print(f'트리가 비어 있음')\n",
    "        self.root = self.del_min(self.root)\n",
    "    def del_min(self, n) : \n",
    "        if n.left == None : \n",
    "            return n.right \n",
    "        n.left = self.del_min(n.left)\n",
    "        n.height = max(self.height(n.left), self.height(n.right)) + 1 # 높이 갱신\n",
    "        return self.balance(n) \n",
    "    \n",
    "    # 최솟값 찾기 정의 \n",
    "    def min(self) : \n",
    "        if self.root == None : # 공트리면 \n",
    "            return None \n",
    "        return self.minimum(self.root)\n",
    "    def minimum(self, n) : \n",
    "        if n.left == None : \n",
    "            return n # 최소 키 가진 노드 \n",
    "        return self.minimum(n.left)\n",
    "    \n",
    "    # 전위순회 \n",
    "    def preorder(self, n) : \n",
    "        if n != None : \n",
    "            print(str(n.key), end=' ')\n",
    "            if n.left : \n",
    "                self.preorder(n.left)\n",
    "            if n.right : \n",
    "                self.preorder(n.right)\n",
    "    \n",
    "    # 중위순회 \n",
    "    def inorder(self, n) : \n",
    "        if n != None : \n",
    "            if n.left != None : \n",
    "                self.inorder(n.left)\n",
    "            print(str(n.key), end=' ')\n",
    "            if n.right != None : \n",
    "                self.inorder(n.right)"
   ]
  },
  {
   "cell_type": "markdown",
   "metadata": {},
   "source": [
    "# AVL 트리 객체 테스트 "
   ]
  },
  {
   "cell_type": "code",
   "execution_count": 57,
   "metadata": {},
   "outputs": [],
   "source": [
    "if __name__ == '__main__' : \n",
    "    t = AVL() \n",
    "    # 데이터 삽입\n",
    "    t.put(75, 'apple')\n",
    "    t.put(80, 'grape')\n",
    "    t.put(85, 'lime')\n",
    "    t.put(20, 'mango')\n",
    "    t.put(10, 'strawberry')\n",
    "    t.put(50, 'banana')\n",
    "    t.put(30, 'cherry')\n",
    "    t.put(40, 'orange')\n",
    "    t.put(70, 'melon')\n",
    "    t.put(90, 'plum')"
   ]
  },
  {
   "cell_type": "code",
   "execution_count": 58,
   "metadata": {},
   "outputs": [
    {
     "name": "stdout",
     "output_type": "stream",
     "text": [
      "전위순회:\t 75 40 20 10 30 50 70 85 80 90 "
     ]
    }
   ],
   "source": [
    "# 전위순회 \n",
    "print(f'전위순회:\\t', end=' ')\n",
    "t.preorder(t.root)"
   ]
  },
  {
   "cell_type": "code",
   "execution_count": 59,
   "metadata": {},
   "outputs": [
    {
     "name": "stdout",
     "output_type": "stream",
     "text": [
      "중위순회:\t 10 20 30 40 50 70 75 80 85 90 "
     ]
    }
   ],
   "source": [
    "# 중위순회 \n",
    "print(f'중위순회:\\t', end=' ')\n",
    "t.inorder(t.root)"
   ]
  },
  {
   "cell_type": "code",
   "execution_count": 60,
   "metadata": {},
   "outputs": [],
   "source": [
    "# 75와 85 삭제 \n",
    "t.delete(75)\n",
    "t.delete(85)"
   ]
  },
  {
   "cell_type": "code",
   "execution_count": 61,
   "metadata": {},
   "outputs": [
    {
     "name": "stdout",
     "output_type": "stream",
     "text": [
      "40 20 10 30 80 50 70 90 "
     ]
    }
   ],
   "source": [
    "# 삭제 후 전위순회 \n",
    "t.preorder(t.root)"
   ]
  },
  {
   "cell_type": "code",
   "execution_count": 62,
   "metadata": {},
   "outputs": [
    {
     "name": "stdout",
     "output_type": "stream",
     "text": [
      "10 20 30 40 50 70 80 90 "
     ]
    }
   ],
   "source": [
    "# 삭제 후 중위순회 \n",
    "t.inorder(t.root)"
   ]
  },
  {
   "cell_type": "code",
   "execution_count": 63,
   "metadata": {},
   "outputs": [],
   "source": [
    "# 80 삭제 \n",
    "t.delete(80)"
   ]
  },
  {
   "cell_type": "code",
   "execution_count": 64,
   "metadata": {},
   "outputs": [
    {
     "name": "stdout",
     "output_type": "stream",
     "text": [
      "40 20 10 30 70 50 90 "
     ]
    }
   ],
   "source": [
    "t.preorder(t.root)"
   ]
  },
  {
   "cell_type": "code",
   "execution_count": 65,
   "metadata": {},
   "outputs": [
    {
     "name": "stdout",
     "output_type": "stream",
     "text": [
      "10 20 30 40 50 70 90 "
     ]
    }
   ],
   "source": [
    "t.inorder(t.root)"
   ]
  }
 ],
 "metadata": {
  "interpreter": {
   "hash": "4c3ef011dacc38893a1195bd1400f1bfec9d902762372ab997d6b63973747a5f"
  },
  "kernelspec": {
   "display_name": "Python 3.8.5 64-bit (conda)",
   "language": "python",
   "name": "python3"
  },
  "language_info": {
   "codemirror_mode": {
    "name": "ipython",
    "version": 3
   },
   "file_extension": ".py",
   "mimetype": "text/x-python",
   "name": "python",
   "nbconvert_exporter": "python",
   "pygments_lexer": "ipython3",
   "version": "3.8.5"
  },
  "orig_nbformat": 4
 },
 "nbformat": 4,
 "nbformat_minor": 2
}
