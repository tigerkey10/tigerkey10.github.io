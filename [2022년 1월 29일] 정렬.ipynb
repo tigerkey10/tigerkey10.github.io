{
 "cells": [
  {
   "cell_type": "markdown",
   "metadata": {},
   "source": [
    "# 정렬 "
   ]
  },
  {
   "cell_type": "code",
   "execution_count": 16,
   "metadata": {},
   "outputs": [
    {
     "data": {
      "text/html": [
       "<div>\n",
       "<style scoped>\n",
       "    .dataframe tbody tr th:only-of-type {\n",
       "        vertical-align: middle;\n",
       "    }\n",
       "\n",
       "    .dataframe tbody tr th {\n",
       "        vertical-align: top;\n",
       "    }\n",
       "\n",
       "    .dataframe thead th {\n",
       "        text-align: right;\n",
       "    }\n",
       "</style>\n",
       "<table border=\"1\" class=\"dataframe\">\n",
       "  <thead>\n",
       "    <tr style=\"text-align: right;\">\n",
       "      <th></th>\n",
       "      <th>CRIM</th>\n",
       "      <th>ZN</th>\n",
       "      <th>INDUS</th>\n",
       "      <th>CHAS</th>\n",
       "      <th>NOX</th>\n",
       "      <th>RM</th>\n",
       "      <th>AGE</th>\n",
       "      <th>DIS</th>\n",
       "      <th>RAD</th>\n",
       "      <th>TAX</th>\n",
       "      <th>PTRATIO</th>\n",
       "      <th>B</th>\n",
       "      <th>LSTAT</th>\n",
       "    </tr>\n",
       "  </thead>\n",
       "  <tbody>\n",
       "    <tr>\n",
       "      <th>0</th>\n",
       "      <td>0.00632</td>\n",
       "      <td>18.0</td>\n",
       "      <td>2.31</td>\n",
       "      <td>0.0</td>\n",
       "      <td>0.538</td>\n",
       "      <td>6.575</td>\n",
       "      <td>65.2</td>\n",
       "      <td>4.0900</td>\n",
       "      <td>1.0</td>\n",
       "      <td>296.0</td>\n",
       "      <td>15.3</td>\n",
       "      <td>396.90</td>\n",
       "      <td>4.98</td>\n",
       "    </tr>\n",
       "    <tr>\n",
       "      <th>1</th>\n",
       "      <td>0.02731</td>\n",
       "      <td>0.0</td>\n",
       "      <td>7.07</td>\n",
       "      <td>0.0</td>\n",
       "      <td>0.469</td>\n",
       "      <td>6.421</td>\n",
       "      <td>78.9</td>\n",
       "      <td>4.9671</td>\n",
       "      <td>2.0</td>\n",
       "      <td>242.0</td>\n",
       "      <td>17.8</td>\n",
       "      <td>396.90</td>\n",
       "      <td>9.14</td>\n",
       "    </tr>\n",
       "    <tr>\n",
       "      <th>2</th>\n",
       "      <td>0.02729</td>\n",
       "      <td>0.0</td>\n",
       "      <td>7.07</td>\n",
       "      <td>0.0</td>\n",
       "      <td>0.469</td>\n",
       "      <td>7.185</td>\n",
       "      <td>61.1</td>\n",
       "      <td>4.9671</td>\n",
       "      <td>2.0</td>\n",
       "      <td>242.0</td>\n",
       "      <td>17.8</td>\n",
       "      <td>392.83</td>\n",
       "      <td>4.03</td>\n",
       "    </tr>\n",
       "    <tr>\n",
       "      <th>3</th>\n",
       "      <td>0.03237</td>\n",
       "      <td>0.0</td>\n",
       "      <td>2.18</td>\n",
       "      <td>0.0</td>\n",
       "      <td>0.458</td>\n",
       "      <td>6.998</td>\n",
       "      <td>45.8</td>\n",
       "      <td>6.0622</td>\n",
       "      <td>3.0</td>\n",
       "      <td>222.0</td>\n",
       "      <td>18.7</td>\n",
       "      <td>394.63</td>\n",
       "      <td>2.94</td>\n",
       "    </tr>\n",
       "    <tr>\n",
       "      <th>4</th>\n",
       "      <td>0.06905</td>\n",
       "      <td>0.0</td>\n",
       "      <td>2.18</td>\n",
       "      <td>0.0</td>\n",
       "      <td>0.458</td>\n",
       "      <td>7.147</td>\n",
       "      <td>54.2</td>\n",
       "      <td>6.0622</td>\n",
       "      <td>3.0</td>\n",
       "      <td>222.0</td>\n",
       "      <td>18.7</td>\n",
       "      <td>396.90</td>\n",
       "      <td>5.33</td>\n",
       "    </tr>\n",
       "    <tr>\n",
       "      <th>...</th>\n",
       "      <td>...</td>\n",
       "      <td>...</td>\n",
       "      <td>...</td>\n",
       "      <td>...</td>\n",
       "      <td>...</td>\n",
       "      <td>...</td>\n",
       "      <td>...</td>\n",
       "      <td>...</td>\n",
       "      <td>...</td>\n",
       "      <td>...</td>\n",
       "      <td>...</td>\n",
       "      <td>...</td>\n",
       "      <td>...</td>\n",
       "    </tr>\n",
       "    <tr>\n",
       "      <th>501</th>\n",
       "      <td>0.06263</td>\n",
       "      <td>0.0</td>\n",
       "      <td>11.93</td>\n",
       "      <td>0.0</td>\n",
       "      <td>0.573</td>\n",
       "      <td>6.593</td>\n",
       "      <td>69.1</td>\n",
       "      <td>2.4786</td>\n",
       "      <td>1.0</td>\n",
       "      <td>273.0</td>\n",
       "      <td>21.0</td>\n",
       "      <td>391.99</td>\n",
       "      <td>9.67</td>\n",
       "    </tr>\n",
       "    <tr>\n",
       "      <th>502</th>\n",
       "      <td>0.04527</td>\n",
       "      <td>0.0</td>\n",
       "      <td>11.93</td>\n",
       "      <td>0.0</td>\n",
       "      <td>0.573</td>\n",
       "      <td>6.120</td>\n",
       "      <td>76.7</td>\n",
       "      <td>2.2875</td>\n",
       "      <td>1.0</td>\n",
       "      <td>273.0</td>\n",
       "      <td>21.0</td>\n",
       "      <td>396.90</td>\n",
       "      <td>9.08</td>\n",
       "    </tr>\n",
       "    <tr>\n",
       "      <th>503</th>\n",
       "      <td>0.06076</td>\n",
       "      <td>0.0</td>\n",
       "      <td>11.93</td>\n",
       "      <td>0.0</td>\n",
       "      <td>0.573</td>\n",
       "      <td>6.976</td>\n",
       "      <td>91.0</td>\n",
       "      <td>2.1675</td>\n",
       "      <td>1.0</td>\n",
       "      <td>273.0</td>\n",
       "      <td>21.0</td>\n",
       "      <td>396.90</td>\n",
       "      <td>5.64</td>\n",
       "    </tr>\n",
       "    <tr>\n",
       "      <th>504</th>\n",
       "      <td>0.10959</td>\n",
       "      <td>0.0</td>\n",
       "      <td>11.93</td>\n",
       "      <td>0.0</td>\n",
       "      <td>0.573</td>\n",
       "      <td>6.794</td>\n",
       "      <td>89.3</td>\n",
       "      <td>2.3889</td>\n",
       "      <td>1.0</td>\n",
       "      <td>273.0</td>\n",
       "      <td>21.0</td>\n",
       "      <td>393.45</td>\n",
       "      <td>6.48</td>\n",
       "    </tr>\n",
       "    <tr>\n",
       "      <th>505</th>\n",
       "      <td>0.04741</td>\n",
       "      <td>0.0</td>\n",
       "      <td>11.93</td>\n",
       "      <td>0.0</td>\n",
       "      <td>0.573</td>\n",
       "      <td>6.030</td>\n",
       "      <td>80.8</td>\n",
       "      <td>2.5050</td>\n",
       "      <td>1.0</td>\n",
       "      <td>273.0</td>\n",
       "      <td>21.0</td>\n",
       "      <td>396.90</td>\n",
       "      <td>7.88</td>\n",
       "    </tr>\n",
       "  </tbody>\n",
       "</table>\n",
       "<p>506 rows × 13 columns</p>\n",
       "</div>"
      ],
      "text/plain": [
       "        CRIM    ZN  INDUS  CHAS    NOX     RM   AGE     DIS  RAD    TAX  \\\n",
       "0    0.00632  18.0   2.31   0.0  0.538  6.575  65.2  4.0900  1.0  296.0   \n",
       "1    0.02731   0.0   7.07   0.0  0.469  6.421  78.9  4.9671  2.0  242.0   \n",
       "2    0.02729   0.0   7.07   0.0  0.469  7.185  61.1  4.9671  2.0  242.0   \n",
       "3    0.03237   0.0   2.18   0.0  0.458  6.998  45.8  6.0622  3.0  222.0   \n",
       "4    0.06905   0.0   2.18   0.0  0.458  7.147  54.2  6.0622  3.0  222.0   \n",
       "..       ...   ...    ...   ...    ...    ...   ...     ...  ...    ...   \n",
       "501  0.06263   0.0  11.93   0.0  0.573  6.593  69.1  2.4786  1.0  273.0   \n",
       "502  0.04527   0.0  11.93   0.0  0.573  6.120  76.7  2.2875  1.0  273.0   \n",
       "503  0.06076   0.0  11.93   0.0  0.573  6.976  91.0  2.1675  1.0  273.0   \n",
       "504  0.10959   0.0  11.93   0.0  0.573  6.794  89.3  2.3889  1.0  273.0   \n",
       "505  0.04741   0.0  11.93   0.0  0.573  6.030  80.8  2.5050  1.0  273.0   \n",
       "\n",
       "     PTRATIO       B  LSTAT  \n",
       "0       15.3  396.90   4.98  \n",
       "1       17.8  396.90   9.14  \n",
       "2       17.8  392.83   4.03  \n",
       "3       18.7  394.63   2.94  \n",
       "4       18.7  396.90   5.33  \n",
       "..       ...     ...    ...  \n",
       "501     21.0  391.99   9.67  \n",
       "502     21.0  396.90   9.08  \n",
       "503     21.0  396.90   5.64  \n",
       "504     21.0  393.45   6.48  \n",
       "505     21.0  396.90   7.88  \n",
       "\n",
       "[506 rows x 13 columns]"
      ]
     },
     "execution_count": 16,
     "metadata": {},
     "output_type": "execute_result"
    }
   ],
   "source": [
    "from sklearn.datasets import load_boston\n",
    "\n",
    "data = load_boston()\n",
    "data\n",
    "\n",
    "df = pd.DataFrame(\n",
    "    data['data'], columns=data.feature_names\n",
    ")\n",
    "df"
   ]
  },
  {
   "cell_type": "markdown",
   "metadata": {},
   "source": [
    "# 선택정렬 "
   ]
  },
  {
   "cell_type": "code",
   "execution_count": 18,
   "metadata": {},
   "outputs": [],
   "source": [
    "# 선택정렬 \n",
    "def selection_sort(A) : \n",
    "    n = len(A) #정렬 안 된 원소 개수 \n",
    "    for i in range(n-1) : # 오른쪽 리스트 첫번째 값 \n",
    "        minimum = i \n",
    "        for j in range(i+1, n) : \n",
    "            if A[j] < A[minimum] : \n",
    "                minimum = j \n",
    "        A[i], A[minimum] = A[minimum], A[i] # 오른쪽 리스트 첫번째 값 - 최솟값 교환 \n",
    "        printStep(A, i+1) # 정렬 결과 출력 "
   ]
  },
  {
   "cell_type": "code",
   "execution_count": 19,
   "metadata": {},
   "outputs": [],
   "source": [
    "def printStep(arranged, loop) : \n",
    "    print(f'{loop}번째 루프 정렬 결과 =', end=' ')\n",
    "    print(arranged)"
   ]
  },
  {
   "cell_type": "code",
   "execution_count": 20,
   "metadata": {},
   "outputs": [
    {
     "name": "stdout",
     "output_type": "stream",
     "text": [
      "정렬 전: [5, 3, 8, 4, 9, 1, 6, 2, 7]\n",
      "1번째 루프 정렬 결과 = [1, 3, 8, 4, 9, 5, 6, 2, 7]\n",
      "2번째 루프 정렬 결과 = [1, 2, 8, 4, 9, 5, 6, 3, 7]\n",
      "3번째 루프 정렬 결과 = [1, 2, 3, 4, 9, 5, 6, 8, 7]\n",
      "4번째 루프 정렬 결과 = [1, 2, 3, 4, 9, 5, 6, 8, 7]\n",
      "5번째 루프 정렬 결과 = [1, 2, 3, 4, 5, 9, 6, 8, 7]\n",
      "6번째 루프 정렬 결과 = [1, 2, 3, 4, 5, 6, 9, 8, 7]\n",
      "7번째 루프 정렬 결과 = [1, 2, 3, 4, 5, 6, 7, 8, 9]\n",
      "8번째 루프 정렬 결과 = [1, 2, 3, 4, 5, 6, 7, 8, 9]\n",
      "\n",
      "선택정렬 후 [1, 2, 3, 4, 5, 6, 7, 8, 9]\n"
     ]
    }
   ],
   "source": [
    "data = [5,3,8,4,9,1,6,2,7]\n",
    "print('정렬 전:', data)\n",
    "selection_sort(data)\n",
    "print()\n",
    "print('선택정렬 후', data)"
   ]
  },
  {
   "cell_type": "markdown",
   "metadata": {},
   "source": [
    "# 삽입정렬 "
   ]
  },
  {
   "cell_type": "code",
   "execution_count": 5,
   "metadata": {},
   "outputs": [],
   "source": [
    "# 삽입정렬 알고리듬 정의 \n",
    "def insertion_sort(A) : \n",
    "    n = len(A)\n",
    "    for i in range(1, n) : \n",
    "        key = A[i] # 정렬 안 된 부분 가장 왼쪽 원소\n",
    "        j = i-1\n",
    "        # 비교 - 이동 조건 만족하는 한 반복 \n",
    "        while j >= 0 and A[j] > key : # 비교 \n",
    "            A[j+1] = A[j]\n",
    "            j = j-1\n",
    "        A[j+1] = key # 삽입 \n",
    "        printStep(A, i)"
   ]
  },
  {
   "cell_type": "code",
   "execution_count": 6,
   "metadata": {},
   "outputs": [],
   "source": [
    "# i번째 루프. 정렬 결과 출력 정의\n",
    "def printStep(arr, loop) : \n",
    "    print(f'{loop}번째 루프. 정렬 결과:', end=' ')\n",
    "    print(arr)"
   ]
  },
  {
   "cell_type": "code",
   "execution_count": 7,
   "metadata": {},
   "outputs": [
    {
     "name": "stdout",
     "output_type": "stream",
     "text": [
      "정렬 전: [5, 3, 8, 4, 9, 1, 6, 2, 7]\n",
      "1번째 루프. 정렬 결과: [3, 5, 8, 4, 9, 1, 6, 2, 7]\n",
      "2번째 루프. 정렬 결과: [3, 5, 8, 4, 9, 1, 6, 2, 7]\n",
      "3번째 루프. 정렬 결과: [3, 4, 5, 8, 9, 1, 6, 2, 7]\n",
      "4번째 루프. 정렬 결과: [3, 4, 5, 8, 9, 1, 6, 2, 7]\n",
      "5번째 루프. 정렬 결과: [1, 3, 4, 5, 8, 9, 6, 2, 7]\n",
      "6번째 루프. 정렬 결과: [1, 3, 4, 5, 6, 8, 9, 2, 7]\n",
      "7번째 루프. 정렬 결과: [1, 2, 3, 4, 5, 6, 8, 9, 7]\n",
      "8번째 루프. 정렬 결과: [1, 2, 3, 4, 5, 6, 7, 8, 9]\n",
      "삽입 정렬 종료 결과: [1, 2, 3, 4, 5, 6, 7, 8, 9]\n"
     ]
    }
   ],
   "source": [
    "# 알고리듬 테스트 \n",
    "data = [5,3,8,4,9,1,6,2,7]\n",
    "\n",
    "print('정렬 전:', data)\n",
    "insertion_sort(data)\n",
    "print('삽입 정렬 종료 결과:', data)"
   ]
  },
  {
   "cell_type": "markdown",
   "metadata": {},
   "source": [
    "# 버블정렬 "
   ]
  },
  {
   "cell_type": "code",
   "execution_count": 11,
   "metadata": {},
   "outputs": [],
   "source": [
    "# 버블 정렬 알고리듬 정의 \n",
    "\n",
    "def bubble_sort(A) : \n",
    "    n = len(A) # 정렬 안 된거 개수 \n",
    "    # 버블정렬 반복 루프(최대 n-1 번 반복)\n",
    "    for i in range(n-1, 0, -1) : \n",
    "        change_happened = False\n",
    "        for j in range(i) : \n",
    "            if A[j] > A[j+1] : # 비교 \n",
    "                A[j], A[j+1] = A[j+1], A[j] # 교환\n",
    "                change_happened = True \n",
    "        if not change_happened : \n",
    "            break # 버블정렬 루프에서 유의미한 정렬 발생 안 했으면 루프 종료 (이미 정렬 완료됨)\n",
    "        printStep(A, n-i) # 이번 루프 정렬 결과 출력 "
   ]
  },
  {
   "cell_type": "code",
   "execution_count": 12,
   "metadata": {},
   "outputs": [],
   "source": [
    "# 루프 정렬 결과 출력 정의 \n",
    "\n",
    "def printStep(arr, loop) : \n",
    "    print(f'{loop}번째 루프:', end='')\n",
    "    print(arr)"
   ]
  },
  {
   "cell_type": "code",
   "execution_count": 14,
   "metadata": {},
   "outputs": [
    {
     "name": "stdout",
     "output_type": "stream",
     "text": [
      "정렬 전: [5, 3, 8, 1, 2, 7]\n",
      "1번째 루프:[3, 5, 1, 2, 7, 8]\n",
      "2번째 루프:[3, 1, 2, 5, 7, 8]\n",
      "3번째 루프:[1, 2, 3, 5, 7, 8]\n",
      "정렬 후: [1, 2, 3, 5, 7, 8]\n"
     ]
    }
   ],
   "source": [
    "# 알고리듬 테스트 #1\n",
    "\n",
    "data = [5,3,8,1,2,7]\n",
    "\n",
    "print('정렬 전:', data)\n",
    "bubble_sort(data)\n",
    "print('정렬 후:', data)"
   ]
  },
  {
   "cell_type": "code",
   "execution_count": 15,
   "metadata": {},
   "outputs": [
    {
     "name": "stdout",
     "output_type": "stream",
     "text": [
      "정렬 전: [5, 3, 8, 4, 9, 1, 6, 2, 7]\n",
      "1번째 루프:[3, 5, 4, 8, 1, 6, 2, 7, 9]\n",
      "2번째 루프:[3, 4, 5, 1, 6, 2, 7, 8, 9]\n",
      "3번째 루프:[3, 4, 1, 5, 2, 6, 7, 8, 9]\n",
      "4번째 루프:[3, 1, 4, 2, 5, 6, 7, 8, 9]\n",
      "5번째 루프:[1, 3, 2, 4, 5, 6, 7, 8, 9]\n",
      "6번째 루프:[1, 2, 3, 4, 5, 6, 7, 8, 9]\n",
      "정렬 후: [1, 2, 3, 4, 5, 6, 7, 8, 9]\n"
     ]
    }
   ],
   "source": [
    "# 알고리듬 테스트 # 2\n",
    "\n",
    "data = [5,3,8,4,9,1,6,2,7]\n",
    "\n",
    "print('정렬 전:', data)\n",
    "bubble_sort(data)\n",
    "print('정렬 후:', data)"
   ]
  },
  {
   "cell_type": "markdown",
   "metadata": {},
   "source": [
    "# 쉘 정렬 "
   ]
  },
  {
   "cell_type": "code",
   "execution_count": 24,
   "metadata": {},
   "outputs": [],
   "source": [
    "# 쉘 정렬 정의\n",
    "\n",
    "def shell_sort(A): \n",
    "    h = 3 # 간격 \n",
    "    while h >= 1 : \n",
    "        for i in range(h, len(A)) : # 부분리스트 정렬 \n",
    "            j = i # 부분리스트에서 정렬 안 된 부분 가장 왼쪽 원소 \n",
    "            while (j-h >= 0) and (A[j]<A[j-h]) : # 비교-이동-삽입 반복\n",
    "                # j 앞에 어떤 값 있고 and 그 값이 오름차순 만족 안 하면 \n",
    "                A[j], A[j-h] = A[j-h], A[j] \n",
    "                j = j-h\n",
    "        printStep(A,h) # h에서 정렬 결과 출력 \n",
    "        h = h//2 # 간격 조정 "
   ]
  },
  {
   "cell_type": "code",
   "execution_count": 25,
   "metadata": {},
   "outputs": [],
   "source": [
    "# 결과 출력 정의 \n",
    "\n",
    "def printStep(arr, h): \n",
    "    print(f'간격 {h} 일 때 쉘 정렬 결과: {arr}')"
   ]
  },
  {
   "cell_type": "code",
   "execution_count": 27,
   "metadata": {},
   "outputs": [
    {
     "name": "stdout",
     "output_type": "stream",
     "text": [
      "쉘 정렬 전: [5, 3, 8, 4, 9, 1, 6, 2, 7]\n",
      "간격 3 일 때 쉘 정렬 결과: [4, 2, 1, 5, 3, 7, 6, 9, 8]\n",
      "간격 1 일 때 쉘 정렬 결과: [1, 2, 3, 4, 5, 6, 7, 8, 9]\n",
      "쉘 정렬 후: [1, 2, 3, 4, 5, 6, 7, 8, 9]\n"
     ]
    }
   ],
   "source": [
    "data = [5,3,8,4,9,1,6,2,7]\n",
    "\n",
    "print(f'쉘 정렬 전: {data}')\n",
    "shell_sort(data)\n",
    "print(f'쉘 정렬 후: {data}')"
   ]
  }
 ],
 "metadata": {
  "interpreter": {
   "hash": "4c3ef011dacc38893a1195bd1400f1bfec9d902762372ab997d6b63973747a5f"
  },
  "kernelspec": {
   "display_name": "Python 3.8.5 64-bit (conda)",
   "language": "python",
   "name": "python3"
  },
  "language_info": {
   "codemirror_mode": {
    "name": "ipython",
    "version": 3
   },
   "file_extension": ".py",
   "mimetype": "text/x-python",
   "name": "python",
   "nbconvert_exporter": "python",
   "pygments_lexer": "ipython3",
   "version": "3.8.5"
  },
  "orig_nbformat": 4
 },
 "nbformat": 4,
 "nbformat_minor": 2
}
