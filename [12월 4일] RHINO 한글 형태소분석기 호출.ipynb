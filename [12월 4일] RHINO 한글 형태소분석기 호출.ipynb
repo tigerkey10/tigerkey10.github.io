{
 "cells": [
  {
   "cell_type": "code",
   "execution_count": 1,
   "metadata": {},
   "outputs": [],
   "source": [
    "import os\n",
    "\n",
    "os.chdir(\"/Users/kibeomkim/Desktop/nsmc-master\")                  # 경로 설정\n",
    "\n",
    "\n",
    "# 파일 읽기 함수 정의 \n",
    "\n",
    "def read_data(filename):\n",
    "\n",
    "    with open(filename, 'r') as f:\n",
    "\n",
    "        data = [line.split('\\t') for line in f.read().splitlines()]\n",
    "\n",
    "        data = data[1:]                    # 파일의 헤더(컬럼명) 제외\n",
    "\n",
    "    return data\n",
    "\n",
    "# 파일 쓰기 함수 정의 \n",
    "\n",
    "def write_data(data, filename):\n",
    "\n",
    "    with open(filename, 'w') as f:\n",
    "\n",
    "        f.write(data)\n",
    "\n",
    "data = read_data('ratings.txt')    # 1은 긍정, 0은 부정"
   ]
  },
  {
   "cell_type": "code",
   "execution_count": 3,
   "metadata": {},
   "outputs": [
    {
     "name": "stdout",
     "output_type": "stream",
     "text": [
      "filepath:  /Users/kibeomkim/opt/anaconda3/lib/python3.8/site-packages\n",
      "classpath:  /Users/kibeomkim/opt/anaconda3/lib/python3.8/site-packages/rhinoMorph/lib/rhino.jar\n",
      "RHINO started!\n"
     ]
    }
   ],
   "source": [
    "import rhinoMorph\n",
    "\n",
    "rn = rhinoMorph.startRhino()\n",
    "\n",
    "# 20만 건 전체 문장 형태소 분석. 시간이 많이 소요됨 \n",
    "\n",
    "morphed_data = ''\n",
    "\n",
    "for data_each in data:\n",
    "\n",
    "    morphed_data_each = rhinoMorph.onlyMorph_list(rn, data_each[1], pos=['NNG', 'NNP', 'VV', 'VA', 'XR', 'IC', 'MM', 'MAG', 'MAJ'])\n",
    "\n",
    "    joined_data_each = ' '.join(morphed_data_each)\n",
    "\n",
    "    if joined_data_each:                                                                                                      # 내용이 있는 경우만 저장함\n",
    "\n",
    "        morphed_data += data_each[0]+\"\\t\"+joined_data_each+\"\\t\"+data_each[2]+\"\\n\"   # 원본과 같은 양식으로 만듦\n",
    "\n",
    "# 형태소 분석된 파일 저장\n",
    "\n",
    "write_data(morphed_data, 'ratings_morphed.txt')"
   ]
  }
 ],
 "metadata": {
  "interpreter": {
   "hash": "4c3ef011dacc38893a1195bd1400f1bfec9d902762372ab997d6b63973747a5f"
  },
  "kernelspec": {
   "display_name": "Python 3.8.5 64-bit ('base': conda)",
   "language": "python",
   "name": "python3"
  },
  "language_info": {
   "codemirror_mode": {
    "name": "ipython",
    "version": 3
   },
   "file_extension": ".py",
   "mimetype": "text/x-python",
   "name": "python",
   "nbconvert_exporter": "python",
   "pygments_lexer": "ipython3",
   "version": "3.8.5"
  },
  "orig_nbformat": 4
 },
 "nbformat": 4,
 "nbformat_minor": 2
}
