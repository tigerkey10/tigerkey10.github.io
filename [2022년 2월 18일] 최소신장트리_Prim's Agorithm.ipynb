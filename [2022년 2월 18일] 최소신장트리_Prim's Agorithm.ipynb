{
 "cells": [
  {
   "cell_type": "markdown",
   "metadata": {},
   "source": [
    "# 최소신장트리와 Prim 알고리듬"
   ]
  },
  {
   "cell_type": "code",
   "execution_count": 1,
   "metadata": {},
   "outputs": [],
   "source": [
    "# Prim's Algorithm\n",
    "\n",
    "import sys \n",
    "\n",
    "N = 7 # 간선 수  \n",
    "s = 0 # 시작 정점 \n",
    "g = [None for x in range(N)] # 인접 정점 리스트 \n",
    "\n",
    "g[0] = [(1, 9), (2,10)]\n",
    "g[1] = [(0,9), (3,10),(4,5),(6,3)]\n",
    "g[2] = [(0,10),(3,9),(4,7),(5,2)]\n",
    "g[3] = [(1,10),(2,9),(5,4),(6,8)]\n",
    "g[4] = [(1,5),(2,7),(6,1)]\n",
    "g[5] = [(2,2),(3,4),(6,6)]\n",
    "g[6] = [(1,3),(3,8),(4,1),(5,6)]\n",
    "\n",
    "visited = [False for x in range(N)]\n",
    "D = [sys.maxsize for x in range(N)]\n",
    "D[s] = 0 \n",
    "previous = [None for x in range(N)]\n",
    "previous[s] = 0 "
   ]
  },
  {
   "cell_type": "code",
   "execution_count": 2,
   "metadata": {},
   "outputs": [],
   "source": [
    "for i in range(N) : \n",
    "    m = np.random.randint(1,10)\n",
    "    min_value = sys.maxsize \n",
    "\n",
    "    for j in range(N) : \n",
    "        if (D[j] < min_value) and not visited[j]: \n",
    "            min_value = D[j]\n",
    "            m = j \n",
    "    visited[m] = True \n",
    "    for w, wt in g[m] : \n",
    "        if not visited[w] : \n",
    "            if wt < D[w] : \n",
    "                D[w] = wt \n",
    "                previous[w] = m "
   ]
  },
  {
   "cell_type": "code",
   "execution_count": 3,
   "metadata": {},
   "outputs": [
    {
     "name": "stdout",
     "output_type": "stream",
     "text": [
      "최소신장트리(간선) : (1, 0)(2, 5)(3, 5)(4, 6)(5, 6)(6, 1)\n",
      "최소신장트리 가중치 합(최소): 25\n"
     ]
    }
   ],
   "source": [
    "print(f'최소신장트리(간선) : ', end='')\n",
    "mst_cost = 0 \n",
    "for i in range(1, N) : \n",
    "    print(f'(%d, %d)' %(i, previous[i]), end='')\n",
    "    mst_cost += D[i]\n",
    "print(f'\\n최소신장트리 가중치 합(최소): {mst_cost}')"
   ]
  },
  {
   "cell_type": "markdown",
   "metadata": {},
   "source": [
    "# 그래프 직접 정의해서 재시도 "
   ]
  },
  {
   "cell_type": "code",
   "execution_count": 5,
   "metadata": {},
   "outputs": [],
   "source": [
    "# 시작 정점 \n",
    "start = 1 \n",
    "\n",
    "# 정점 수 \n",
    "N = 10 \n",
    "\n",
    "# 0~9 까지 각 정점의 인접 정점 리스트 \n",
    "g = [None for x in range(N)]\n",
    "\n",
    "# 각 정점의 (인접 정점, 그 사이 간선 가중치)\n",
    "g[0] = [(1, 7), (2, 6)]\n",
    "g[1] = [(0, 7), (2, 5), (6, 13), (3, 9)]\n",
    "g[2] = [(0, 6), (1, 5), (5, 8), (4, 2)]\n",
    "g[3] = [(1, 9)]\n",
    "g[4] = [(2, 2), (9, 1)]\n",
    "g[5] = [(2, 8)]\n",
    "g[6] = [(1, 13), (8, 11), (7, 10)]\n",
    "g[7] = [(6, 10)]\n",
    "g[8] = [(6, 11)]\n",
    "g[9] = [(4,1)]\n",
    "\n",
    "# 각 정점 방문 완료 여부 표시 \n",
    "visited = [False for x in range(N)]\n",
    "\n",
    "# 정점 i와 연결 성분 사이 간선 가중치(최소가 우선)\n",
    "D = [sys.maxsize for x in range(N)]\n",
    "\n",
    "# 시작 정점과 연결성분 사이엔 간선이 존재 안 한다. \n",
    "D[start] = 0 \n",
    "\n",
    "# 새로 발견된 정점의 그 이전 정점 (최소신장트리 간선 추출 위함)\n",
    "previous = [None for x in range(N)]\n",
    "previous[start] = None "
   ]
  },
  {
   "cell_type": "code",
   "execution_count": 6,
   "metadata": {},
   "outputs": [],
   "source": [
    "# Prim's Algorithm # 재시도 \n",
    "def prim(N, start): \n",
    "    global g ; global visited ; global D ; global previous \n",
    "\n",
    "    for i in range(N): \n",
    "        m = np.random.randint(-5, -1)\n",
    "        min_value = sys.maxsize\n",
    "\n",
    "        for j in range(N): # 전체 정점 중에서 \n",
    "            if not visited[j] and D[j] < min_value : # 방문 안 했고, 인접한 거. \n",
    "                min_value = D[j] # 최소 간선 가중치 \n",
    "                m = j # 최소 간선 정점 \n",
    "        \n",
    "        visited[m] = True # 최소 간선 정점 방문 완료 \n",
    "\n",
    "        # 방금 방문한 정점 m의 인접 정점과 가중치 \n",
    "        for w, wt in g[m]: \n",
    "            if not visited[w] : \n",
    "                if (wt < D[w]): # 간선 w 가중치 D에 추가 or D 업데이트 \n",
    "                    D[w] = wt \n",
    "                    previous[w] = m \n",
    "    \n",
    "    span = [] \n",
    "    mst_cost = 0 \n",
    "    for i in range(N) : \n",
    "        span.append((i, previous[i]))\n",
    "        mst_cost += D[i]\n",
    "\n",
    "    return span , mst_cost"
   ]
  },
  {
   "cell_type": "code",
   "execution_count": 7,
   "metadata": {},
   "outputs": [
    {
     "data": {
      "text/plain": [
       "([(0, 2),\n",
       "  (1, None),\n",
       "  (2, 1),\n",
       "  (3, 1),\n",
       "  (4, 2),\n",
       "  (5, 2),\n",
       "  (6, 1),\n",
       "  (7, 6),\n",
       "  (8, 6),\n",
       "  (9, 4)],\n",
       " 65)"
      ]
     },
     "execution_count": 7,
     "metadata": {},
     "output_type": "execute_result"
    }
   ],
   "source": [
    "prim(10, 1)"
   ]
  },
  {
   "cell_type": "code",
   "execution_count": 81,
   "metadata": {},
   "outputs": [],
   "source": [
    "for i in range(N): \n",
    "    m = np.random.randint(-5, -1)\n",
    "    min_value = sys.maxsize\n",
    "\n",
    "    for j in range(N): # 전체 정점 중에서 \n",
    "        if not visited[j] and D[j] < min_value : # 방문 안 했고, 인접한 거. \n",
    "            min_value = D[j] # 최소 간선 가중치 \n",
    "            m = j # 최소 간선 정점 \n",
    "        \n",
    "    visited[m] = True # 최소 간선 정점 방문 완료 \n",
    "\n",
    "    # 방금 방문한 정점 m의 인접 정점과 가중치 \n",
    "    for w, wt in g[m]: \n",
    "        if not visited[w] : \n",
    "            if (wt < D[w]): # 간선 w 가중치 D에 추가 or D 업데이트 \n",
    "                D[w] = wt \n",
    "                previous[w] = m "
   ]
  },
  {
   "cell_type": "code",
   "execution_count": 82,
   "metadata": {},
   "outputs": [
    {
     "name": "stdout",
     "output_type": "stream",
     "text": [
      "최소신장트리(간선):(0, 2)(1, None)(2, 1)(3, 1)(4, 2)(5, 2)(6, 1)(7, 6)(8, 6)(9, 4)\n",
      "최소신장트리 가중치 합:65\n"
     ]
    }
   ],
   "source": [
    "print(f'최소신장트리(간선):', end='')\n",
    "mst_cost = 0 \n",
    "for i in range(N): \n",
    "    print(f'({i}, {previous[i]})', end='')\n",
    "    mst_cost += D[i]\n",
    "print(f'\\n최소신장트리 가중치 합:{mst_cost}')"
   ]
  },
  {
   "cell_type": "markdown",
   "metadata": {},
   "source": [
    "# 그래프 직접 정의해서 재시도 2 "
   ]
  },
  {
   "cell_type": "code",
   "execution_count": 83,
   "metadata": {},
   "outputs": [],
   "source": [
    "start = 0 \n",
    "N = 10 \n",
    "g = [None for x in range(N)]\n",
    "\n",
    "g[0] = [(2,3),(3,5)]\n",
    "g[1] = [(2,6),(5, 13)]\n",
    "g[2] = [(0, 3), (1,6),(3,1),(5,14)]\n",
    "g[3] = [(0,5),(2,1),(4,7),(6,15)]\n",
    "g[4] = [(3,7),(6,16)]\n",
    "g[5] = [(1,13),(2,14),(8,12),(7,17)]\n",
    "g[6] = [(3,15),(4,16),(7,10),(9,11)]\n",
    "g[7] = [(5,17),(8,9),(6,10),(9,8)]\n",
    "g[8] = [(5,12),(7,9)]\n",
    "g[9] = [(7,8),(6,11)]\n",
    "\n",
    "visited = [False for x in range(N)]\n",
    "\n",
    "\n",
    "D = [sys.maxsize for x in range(N)]\n",
    "\n",
    "\n",
    "D[start] = 0 \n",
    "\n",
    "\n",
    "previous = [None for x in range(N)]\n",
    "previous[start] = None "
   ]
  },
  {
   "cell_type": "code",
   "execution_count": 84,
   "metadata": {},
   "outputs": [
    {
     "data": {
      "text/plain": [
       "([(0, None),\n",
       "  (1, 2),\n",
       "  (2, 0),\n",
       "  (3, 2),\n",
       "  (4, 3),\n",
       "  (5, 1),\n",
       "  (6, 7),\n",
       "  (7, 8),\n",
       "  (8, 5),\n",
       "  (9, 7)],\n",
       " 69)"
      ]
     },
     "execution_count": 84,
     "metadata": {},
     "output_type": "execute_result"
    }
   ],
   "source": [
    "prim(N, start)"
   ]
  }
 ],
 "metadata": {
  "interpreter": {
   "hash": "35eb7306ee2d642baa30dd47b3f48e3de4de9582bbd530539ad6f76f0b00bf2b"
  },
  "kernelspec": {
   "display_name": "Python 3.8.12 ('tf25')",
   "language": "python",
   "name": "python3"
  },
  "language_info": {
   "codemirror_mode": {
    "name": "ipython",
    "version": 3
   },
   "file_extension": ".py",
   "mimetype": "text/x-python",
   "name": "python",
   "nbconvert_exporter": "python",
   "pygments_lexer": "ipython3",
   "version": "3.8.5"
  },
  "orig_nbformat": 4
 },
 "nbformat": 4,
 "nbformat_minor": 2
}
