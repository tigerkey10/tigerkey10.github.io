{
 "cells": [
  {
   "cell_type": "code",
   "execution_count": 26,
   "metadata": {},
   "outputs": [],
   "source": [
    "# Prim's Algorithm\n",
    "\n",
    "import sys \n",
    "N = 7 # 간선 수  \n",
    "s = 1 # 시작 정점 \n",
    "g = [None for x in range(N)] # 인접 정점 리스트 \n",
    "\n",
    "g[0] = [(1, 9), (2,10)]\n",
    "g[1] = [(0,9), (3,10),(4,5),(6,3)]\n",
    "g[2] = [(0,10),(3,9),(4,7),(5,2)]\n",
    "g[3] = [(1,10),(2,9),(5,4),(6,8)]\n",
    "g[4] = [(1,5),(2,7),(6,1)]\n",
    "g[5] = [(2,2),(3,4),(6,6)]\n",
    "g[6] = [(1,3),(3,8),(4,1),(5,6)]\n",
    "\n",
    "visited = [False for x in range(N)]\n",
    "D = [sys.maxsize for x in range(N)]\n",
    "D[s] = 0 \n",
    "previous = [None for x in range(N)]\n",
    "previous[s] = 0 "
   ]
  },
  {
   "cell_type": "code",
   "execution_count": 28,
   "metadata": {},
   "outputs": [],
   "source": [
    "for i in range(N) : \n",
    "    m = -1\n",
    "    min_value = sys.maxsize \n",
    "\n",
    "    for j in range(N) : \n",
    "        if D[j] < min_value and not visited[j]: \n",
    "            min_value = D[j]\n",
    "            m = j \n",
    "        visited[m] = True \n",
    "        for w, wt in g[m] : \n",
    "            D[w] = wt \n",
    "            previous[w] = m "
   ]
  }
 ],
 "metadata": {
  "interpreter": {
   "hash": "35eb7306ee2d642baa30dd47b3f48e3de4de9582bbd530539ad6f76f0b00bf2b"
  },
  "kernelspec": {
   "display_name": "Python 3.8.12 ('tf25')",
   "language": "python",
   "name": "python3"
  },
  "language_info": {
   "codemirror_mode": {
    "name": "ipython",
    "version": 3
   },
   "file_extension": ".py",
   "mimetype": "text/x-python",
   "name": "python",
   "nbconvert_exporter": "python",
   "pygments_lexer": "ipython3",
   "version": "3.8.12"
  },
  "orig_nbformat": 4
 },
 "nbformat": 4,
 "nbformat_minor": 2
}
