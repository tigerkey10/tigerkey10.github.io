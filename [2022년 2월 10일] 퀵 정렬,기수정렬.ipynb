{
 "cells": [
  {
   "cell_type": "markdown",
   "metadata": {},
   "source": [
    "# 퀵 정렬 "
   ]
  },
  {
   "cell_type": "code",
   "execution_count": 4,
   "metadata": {},
   "outputs": [
    {
     "data": {
      "text/plain": [
       "16"
      ]
     },
     "execution_count": 4,
     "metadata": {},
     "output_type": "execute_result"
    }
   ],
   "source": [
    "a = [54, 88, 77, 26, 93, 17, 49, 10, 17, 77, 11, 31, 22, 44, 17, 20]\n",
    "len(a)"
   ]
  },
  {
   "cell_type": "code",
   "execution_count": 5,
   "metadata": {},
   "outputs": [],
   "source": [
    "# 퀵 정렬 \n",
    "\n",
    "def qsort(a, low, high) : \n",
    "    if (low < high) : \n",
    "        pivot = partition(a, low, high)\n",
    "        qsort(a, low, pivot-1)\n",
    "        qsort(a, pivot+1, high)"
   ]
  },
  {
   "cell_type": "code",
   "execution_count": 6,
   "metadata": {},
   "outputs": [],
   "source": [
    "# pivot이 가운데 있는 경우 정의 \n",
    "\n",
    "def partition(a, low, high) : \n",
    "    i = low \n",
    "    j = high \n",
    "    pivot = (high + low) // 2\n",
    "\n",
    "    while True : \n",
    "        while (i < high) and (a[i] < a[pivot]) : \n",
    "            i += 1\n",
    "        while (j > low) and (a[j] > a[pivot]) : \n",
    "            j -= 1\n",
    "        if j <= i : break # 계속 가다가 멈춘 사유가 j <= i 이면 break.\n",
    "        if (i == pivot) : \n",
    "            a[i], a[j] = a[j], a[i]\n",
    "            pivot = j # pivot은 포인터에 불과 \n",
    "            i += 1 ; j -= 1\n",
    "        elif (j == pivot) : \n",
    "            a[i], a[j] = a[j], a[i]\n",
    "            pivot = i\n",
    "            i += 1 ; j -= 1\n",
    "        else : \n",
    "            a[i], a[j] = a[j], a[i]\n",
    "            i += 1 ; j -= 1\n",
    "    \n",
    "    if (a[j] <= a[pivot]) and (j >= pivot) : \n",
    "        a[pivot], a[j] = a[j], a[pivot]\n",
    "        return j\n",
    "    elif (a[i] >= a[pivot]) and (i <= pivot) : \n",
    "        a[pivot], a[i] = a[i], a[pivot]\n",
    "        return i"
   ]
  },
  {
   "cell_type": "code",
   "execution_count": 7,
   "metadata": {},
   "outputs": [
    {
     "name": "stdout",
     "output_type": "stream",
     "text": [
      "정렬 전:[54, 88, 77, 26, 93, 17, 49, 10, 17, 77, 11, 31, 22, 44, 17, 20]\n",
      "정렬 후:[10, 11, 17, 17, 17, 20, 22, 26, 31, 44, 49, 54, 77, 77, 88, 93]\n"
     ]
    }
   ],
   "source": [
    "print(f'정렬 전:{a}')\n",
    "qsort(a, 0, len(a)-1)\n",
    "print(f'정렬 후:{a}')"
   ]
  },
  {
   "cell_type": "code",
   "execution_count": 8,
   "metadata": {},
   "outputs": [],
   "source": [
    "random_list = list(np.random.randint(0,100,20))"
   ]
  },
  {
   "cell_type": "code",
   "execution_count": 9,
   "metadata": {},
   "outputs": [
    {
     "name": "stdout",
     "output_type": "stream",
     "text": [
      "정렬 전:[5, 83, 59, 31, 86, 89, 25, 91, 41, 15, 77, 6, 55, 55, 46, 59, 91, 40, 50, 46]\n",
      "퀵 정렬 후:[5, 6, 15, 25, 31, 40, 41, 46, 46, 50, 55, 55, 59, 59, 77, 83, 86, 89, 91, 91]\n"
     ]
    }
   ],
   "source": [
    "print(f'정렬 전:{random_list}')\n",
    "qsort(random_list, 0, len(random_list)-1)\n",
    "print(f'퀵 정렬 후:{random_list}')"
   ]
  },
  {
   "cell_type": "code",
   "execution_count": 10,
   "metadata": {},
   "outputs": [],
   "source": [
    "random_list = list(np.random.randint(0,1000,20))"
   ]
  },
  {
   "cell_type": "code",
   "execution_count": 11,
   "metadata": {},
   "outputs": [
    {
     "name": "stdout",
     "output_type": "stream",
     "text": [
      "정렬 전:[831, 388, 62, 442, 111, 668, 838, 7, 869, 445, 635, 793, 169, 843, 586, 405, 346, 892, 665, 950]\n",
      "퀵 정렬 후:[7, 62, 111, 169, 346, 388, 405, 442, 445, 586, 635, 665, 668, 793, 831, 838, 843, 869, 892, 950]\n"
     ]
    }
   ],
   "source": [
    "print(f'정렬 전:{random_list}')\n",
    "qsort(random_list, 0, len(random_list)-1)\n",
    "print(f'퀵 정렬 후:{random_list}')"
   ]
  },
  {
   "cell_type": "code",
   "execution_count": 15,
   "metadata": {},
   "outputs": [],
   "source": [
    "# 가장 왼쪽이 pivot이 되는 경우 정의\n",
    "\n",
    "def partition_pl(a, pivot, high) : \n",
    "    i = pivot + 1\n",
    "    j = high \n",
    "\n",
    "    while True : \n",
    "        while (i < high) and (a[i] < a[pivot]) : \n",
    "            i += 1\n",
    "        while (j > pivot) and (a[j] > a[pivot]) : \n",
    "            j -= 1\n",
    "        if j <= i : break # i, j 만났거나 i, j 교차해서 멈춘 경우\n",
    "        a[i], a[j] = a[j], a[i]\n",
    "        i += 1 ; j -= 1 \n",
    "    # break 로 loop 깨진 경우 \n",
    "    a[pivot], a[j] = a[j], a[pivot]\n",
    "    return j # pivot 위치 반환 \n",
    "\n",
    "def qsort_pl(a, low, high) : \n",
    "    if low < high : \n",
    "        pivot = partition_pl(a, low, high)\n",
    "        qsort_pl(a, low, pivot-1)\n",
    "        qsort_pl(a, pivot+1, high)"
   ]
  },
  {
   "cell_type": "code",
   "execution_count": 28,
   "metadata": {},
   "outputs": [],
   "source": [
    "# 가장 오른쪽이 pivot이 되는 경우 정의 \n",
    "\n",
    "def partition_pr(a, low, pivot) : \n",
    "    i = low \n",
    "    j = pivot - 1\n",
    "\n",
    "    while True : \n",
    "        while (i < pivot) and (a[i] < a[pivot]) : \n",
    "            i += 1 \n",
    "        while (j > low) and (a[j] > a[pivot]) : \n",
    "            j -= 1\n",
    "        if (j <= i) : break \n",
    "        a[i], a[j] = a[j], a[i]\n",
    "        i += 1 ; j-= 1\n",
    "    a[pivot], a[i] = a[i], a[pivot]\n",
    "    return i # pivot 위치 반환 \n",
    "\n",
    "\n",
    "def qsort_pr(a, low, high) : \n",
    "    if low < high : \n",
    "        pivot = partition_pr(a, low, high)\n",
    "        qsort_pr(a, low, pivot-1)\n",
    "        qsort_pr(a, pivot+1, high)"
   ]
  },
  {
   "cell_type": "code",
   "execution_count": 16,
   "metadata": {},
   "outputs": [
    {
     "name": "stdout",
     "output_type": "stream",
     "text": [
      "정렬 전:[468  69 341 122 406 909 912 904 327 811 448  80 379 333 960 478 652  48\n",
      " 913 386]\n",
      "정렬 후:[ 48  69  80 122 327 333 341 379 386 406 448 468 478 652 811 904 909 912\n",
      " 913 960]\n"
     ]
    }
   ],
   "source": [
    "# 테스트 - qsort_pl\n",
    "randoms = np.random.randint(0, 1000, 20)\n",
    "print(f'정렬 전:{randoms}')\n",
    "qsort_pl(randoms, 0, len(randoms)-1)\n",
    "print(f'정렬 후:{randoms}')"
   ]
  },
  {
   "cell_type": "code",
   "execution_count": 31,
   "metadata": {},
   "outputs": [
    {
     "name": "stdout",
     "output_type": "stream",
     "text": [
      "정렬 전:[78 78  8 38 33 31 12 71 95 78 99 54 29 65 65 15 28 33 10 58]\n",
      "정렬 후:[ 8 10 12 15 28 29 31 33 33 38 54 58 65 65 71 78 78 78 95 99]\n"
     ]
    }
   ],
   "source": [
    "# 테스트 - qsort_pr \n",
    "randoms = np.random.randint(5, 100, 20)\n",
    "print(f'정렬 전:{randoms}')\n",
    "qsort_pr(randoms, 0, len(randoms)-1)\n",
    "print(f'정렬 후:{randoms}')"
   ]
  },
  {
   "cell_type": "markdown",
   "metadata": {},
   "source": [
    "# 기수 정렬 "
   ]
  },
  {
   "cell_type": "code",
   "execution_count": 19,
   "metadata": {},
   "outputs": [],
   "source": [
    "# 기수 정렬 정의 \n",
    "\n",
    "class Radix_sort : \n",
    "    def __init__(self, num) : \n",
    "        self.num = num \n",
    "    \n",
    "    def radix_sort(self) : \n",
    "        max1 = max(self.num) # 최댓값\n",
    "        exp = 1\n",
    "        while (max1/exp) > 0 : \n",
    "            self.count_sort(self.num, exp)\n",
    "            exp *= 10 \n",
    "        \n",
    "    def count_sort(self, A, k) : \n",
    "        B = [0]*len(A) # 정렬 결과 담을 임시 리스트 \n",
    "        C = [0]*10 # 0~9. 각 자릿수 갯수 담을 리스트 \n",
    "\n",
    "        # 정렬 위해 C를 먼저 만든다. \n",
    "        for i in range(0, len(A)) : \n",
    "            C[(A[i]//k)%10] += 1 # C완성 \n",
    "\n",
    "        # C를 누적 값 리스트로 바꾼다. \n",
    "        for i in range(1, len(C)) : \n",
    "            C[i] = C[i-1] + C[i]\n",
    "\n",
    "        i = len(A) - 1\n",
    "        while (i >= 0) : \n",
    "            B[C[(A[i]//k)%10]-1] = A[i] # 임시리스트에 정렬 \n",
    "            C[(A[i]//k)%10] -= 1\n",
    "            i -= 1\n",
    "        \n",
    "        # 임시리스트 결과 원본 리스트에 복사 \n",
    "        for i in range(0, len(A)) : \n",
    "            A[i] = B[i]"
   ]
  },
  {
   "cell_type": "code",
   "execution_count": 21,
   "metadata": {},
   "outputs": [],
   "source": [
    "test = [5,2,8,4,9,1,11,33,22,12]"
   ]
  },
  {
   "cell_type": "code",
   "execution_count": 22,
   "metadata": {},
   "outputs": [
    {
     "data": {
      "text/plain": [
       "[1, 2, 4, 5, 8, 9, 11, 12, 22, 33]"
      ]
     },
     "execution_count": 22,
     "metadata": {},
     "output_type": "execute_result"
    }
   ],
   "source": [
    "rd = Radix_sort(test)\n",
    "rd.radix_sort()\n",
    "rd.num"
   ]
  },
  {
   "cell_type": "code",
   "execution_count": 23,
   "metadata": {},
   "outputs": [
    {
     "name": "stdout",
     "output_type": "stream",
     "text": [
      "정렬 전:[170, 45, 75, 90, 802, 24, 2, 66]\n",
      "정렬 후:[2, 24, 45, 66, 75, 90, 170, 802]\n"
     ]
    }
   ],
   "source": [
    "number = [170, 45, 75, 90, 802, 24, 2, 66]\n",
    "print(f'정렬 전:{number}')\n",
    "radix = Radix_sort(number)\n",
    "radix.radix_sort() \n",
    "print(f'정렬 후:{radix.num}')"
   ]
  },
  {
   "cell_type": "markdown",
   "metadata": {},
   "source": [
    "# LSD - 문자열 정렬에 응용 "
   ]
  },
  {
   "cell_type": "code",
   "execution_count": 59,
   "metadata": {},
   "outputs": [],
   "source": [
    "# 2\n",
    "\n",
    "def lsd_sort(a) : \n",
    "    width = 3\n",
    "    n = len(a)\n",
    "    r = 128\n",
    "    temp = [None]*n\n",
    "    for d in reversed(range(width)) : \n",
    "        count = [0]*r \n",
    "        for i in range(n) : \n",
    "            count[ord(a[i][d])] += 1 \n",
    "        for j in range(1, r) : \n",
    "            count[j] += count[j-1]\n",
    "        for i in range(n) : \n",
    "            p = ord(a[i][d])\n",
    "            temp[count[p]-1] = a[i]\n",
    "            count[p] -= 1\n",
    "        for i in range(n) : \n",
    "            a[i] = temp[i]\n",
    "        print(f'{d}번째 문자:', end='')\n",
    "        for x in a : \n",
    "            print(x, '', end=' ')\n",
    "        print()"
   ]
  },
  {
   "cell_type": "code",
   "execution_count": 66,
   "metadata": {},
   "outputs": [
    {
     "name": "stdout",
     "output_type": "stream",
     "text": [
      "정렬 전:['ICN', 'SFO', 'LAX', 'FRA', 'SIN', 'ROM', 'HKG', 'TLV', 'SYD', 'MEX', 'LHR', 'NRT', 'JFK', 'PEK', 'BER', 'MOW']\n",
      "2번째 문자:FRA  SYD  HKG  PEK  JFK  ROM  SIN  ICN  SFO  BER  LHR  NRT  TLV  MOW  MEX  LAX  \n",
      "1번째 문자:LAX  ICN  MEX  BER  PEK  SFO  JFK  LHR  SIN  HKG  TLV  MOW  ROM  NRT  FRA  SYD  \n",
      "0번째 문자:BER  FRA  HKG  ICN  JFK  LHR  LAX  MOW  MEX  NRT  PEK  ROM  SYD  SIN  SFO  TLV  \n"
     ]
    }
   ],
   "source": [
    "a = ['ICN', 'SFO', 'LAX', 'FRA', 'SIN', 'ROM', 'HKG', 'TLV', 'SYD', 'MEX', 'LHR', 'NRT', 'JFK', 'PEK', 'BER', 'MOW']\n",
    "print(f'정렬 전:{a}')\n",
    "lsd_sort(a)"
   ]
  },
  {
   "cell_type": "code",
   "execution_count": 85,
   "metadata": {},
   "outputs": [],
   "source": [
    "# 3\n",
    "\n",
    "def lsd(a) : \n",
    "    width = 3 # 문자열 크기\n",
    "    n = len(a) # 입력 크기 \n",
    "    asch = 128 # 아스키코드 총 수 128\n",
    "    for d in reversed(range(width)): # 2,1,0\n",
    "        count = [0]*asch # 0~127\n",
    "        for i in range(n) : \n",
    "            count[ord(a[i][d])] += 1 # aschii 코드 집계 \n",
    "        for i in range(1, len(count)) : \n",
    "            count[i] = count[i-1] + count[i] # count를 누적 값들로 변환 \n",
    "        temp = [None] * n # 정렬 결과 담을 임시 리스트 \n",
    "        for i in range(0, len(a)) : \n",
    "            temp[count[ord(a[i][d])] - 1] = a[i] # temp에 정렬 \n",
    "            count[ord(a[i][d])] -= 1 # 정렬 할 게 하나 줄었다: -1 \n",
    "        for i in range(0, len(a)) : \n",
    "            a[i] = temp[i]\n",
    "        print(f'{d}번째 알파벳: {a}')"
   ]
  },
  {
   "cell_type": "code",
   "execution_count": 86,
   "metadata": {},
   "outputs": [
    {
     "name": "stdout",
     "output_type": "stream",
     "text": [
      "정렬 전:['ICN', 'SFO', 'LAX', 'FRA', 'SIN', 'ROM', 'HKG', 'TLV', 'SYD', 'MEX', 'LHR', 'NRT', 'JFK', 'PEK', 'BER', 'MOW']\n",
      "\n",
      "2번째 알파벳: ['FRA', 'SYD', 'HKG', 'PEK', 'JFK', 'ROM', 'SIN', 'ICN', 'SFO', 'BER', 'LHR', 'NRT', 'TLV', 'MOW', 'MEX', 'LAX']\n",
      "1번째 알파벳: ['LAX', 'ICN', 'MEX', 'BER', 'PEK', 'SFO', 'JFK', 'LHR', 'SIN', 'HKG', 'TLV', 'MOW', 'ROM', 'NRT', 'FRA', 'SYD']\n",
      "0번째 알파벳: ['BER', 'FRA', 'HKG', 'ICN', 'JFK', 'LHR', 'LAX', 'MOW', 'MEX', 'NRT', 'PEK', 'ROM', 'SYD', 'SIN', 'SFO', 'TLV']\n"
     ]
    }
   ],
   "source": [
    "a = ['ICN', 'SFO', 'LAX', 'FRA', 'SIN', 'ROM', 'HKG', 'TLV', 'SYD', 'MEX', 'LHR', 'NRT', 'JFK', 'PEK', 'BER', 'MOW']\n",
    "print(f'정렬 전:{a}')\n",
    "print()\n",
    "lsd(a)"
   ]
  },
  {
   "cell_type": "code",
   "execution_count": 54,
   "metadata": {},
   "outputs": [],
   "source": [
    "# 1\n",
    "\n",
    "def lsd_sort(a) : \n",
    "    width = 3\n",
    "    n = len(a)\n",
    "    r = 128\n",
    "    temp = [None]*n\n",
    "    for d in reversed(range(width)) : \n",
    "        count = [0]*(r+1)\n",
    "        for i in range(n) : \n",
    "            count[ord(a[i][d])+1] += 1 \n",
    "        for j in range(1, r) : \n",
    "            count[j] += count[j-1]\n",
    "        for i in range(n) : \n",
    "            p = ord(a[i][d])\n",
    "            temp[count[p]] = a[i]\n",
    "            count[p] += 1\n",
    "        for i in range(n) : \n",
    "            a[i] = temp[i]\n",
    "        print(f'{d}번째 문자:', end='')\n",
    "        for x in a : \n",
    "            print(x, '', end=' ')\n",
    "        print()"
   ]
  },
  {
   "cell_type": "code",
   "execution_count": 58,
   "metadata": {},
   "outputs": [
    {
     "name": "stdout",
     "output_type": "stream",
     "text": [
      "정렬 전:['ICN', 'SFO', 'LAX', 'FRA', 'SIN', 'ROM', 'HKG', 'TLV', 'SYD', 'MEX', 'LHR', 'NRT', 'JFK', 'PEK', 'BER', 'MOW']\n",
      "2번째 문자:FRA  SYD  HKG  JFK  PEK  ROM  ICN  SIN  SFO  LHR  BER  NRT  TLV  MOW  LAX  MEX  \n",
      "1번째 문자:LAX  ICN  PEK  BER  MEX  JFK  SFO  LHR  SIN  HKG  TLV  ROM  MOW  FRA  NRT  SYD  \n",
      "0번째 문자:BER  FRA  HKG  ICN  JFK  LAX  LHR  MEX  MOW  NRT  PEK  ROM  SFO  SIN  SYD  TLV  \n"
     ]
    }
   ],
   "source": [
    "a = ['ICN', 'SFO', 'LAX', 'FRA', 'SIN', 'ROM', 'HKG', 'TLV', 'SYD', 'MEX', 'LHR', 'NRT', 'JFK', 'PEK', 'BER', 'MOW']\n",
    "print(f'정렬 전:{a}')\n",
    "lsd_sort(a)"
   ]
  }
 ],
 "metadata": {
  "interpreter": {
   "hash": "4c3ef011dacc38893a1195bd1400f1bfec9d902762372ab997d6b63973747a5f"
  },
  "kernelspec": {
   "display_name": "Python 3.8.5",
   "language": "python",
   "name": "python3"
  },
  "language_info": {
   "codemirror_mode": {
    "name": "ipython",
    "version": 3
   },
   "file_extension": ".py",
   "mimetype": "text/x-python",
   "name": "python",
   "nbconvert_exporter": "python",
   "pygments_lexer": "ipython3",
   "version": "3.8.5"
  },
  "orig_nbformat": 4
 },
 "nbformat": 4,
 "nbformat_minor": 2
}
