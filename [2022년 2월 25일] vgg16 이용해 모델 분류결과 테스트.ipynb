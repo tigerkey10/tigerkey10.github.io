{
 "cells": [
  {
   "cell_type": "code",
   "execution_count": 5,
   "metadata": {},
   "outputs": [
    {
     "name": "stdout",
     "output_type": "stream",
     "text": [
      "Found 18752 images belonging to 2 classes.\n",
      "Found 8331 images belonging to 2 classes.\n"
     ]
    }
   ],
   "source": [
    "# 이미지 데이터 전처리 # 데이터 증식 사용\n",
    "import keras\n",
    "from keras.preprocessing.image import ImageDataGenerator\n",
    "\n",
    "train_datagen = ImageDataGenerator(\n",
    "    rescale=1./255, \n",
    "    rotation_range=90,\n",
    "    width_shift_range=0.3,\n",
    "    height_shift_range=0.3,\n",
    "    shear_range=0.6,\n",
    "    zoom_range=0.2,\n",
    "    horizontal_flip=True,\n",
    "    fill_mode='nearest')\n",
    "\n",
    "test_datagen = ImageDataGenerator(rescale=1./255) # 검증데이터는 증식하지 않는다.\n",
    "\n",
    "train_generator = train_datagen.flow_from_directory(\n",
    "    '/Users/kibeomkim/Desktop/openlogo_split/train/', \n",
    "    classes=['other','samsung'],\n",
    "    target_size=(150, 150),\n",
    "    batch_size=100, \n",
    "    class_mode='binary', \n",
    ")\n",
    "\n",
    "validation_generator = test_datagen.flow_from_directory(\n",
    "    '/Users/kibeomkim/Desktop/openlogo_split/test/',\n",
    "    classes=['other', 'samsung'],\n",
    "    target_size=(150,150),\n",
    "    batch_size=100,\n",
    "    class_mode='binary', \n",
    ")"
   ]
  },
  {
   "cell_type": "code",
   "execution_count": 6,
   "metadata": {},
   "outputs": [
    {
     "name": "stdout",
     "output_type": "stream",
     "text": [
      "8\n"
     ]
    },
    {
     "name": "stderr",
     "output_type": "stream",
     "text": [
      "2022-02-25 01:10:22.181791: I tensorflow/core/grappler/optimizers/custom_graph_optimizer_registry.cc:112] Plugin optimizer for device_type GPU is enabled.\n"
     ]
    },
    {
     "name": "stdout",
     "output_type": "stream",
     "text": [
      "187/187 [==============================] - ETA: 0s - loss: 0.5603 - accuracy: 0.7417"
     ]
    },
    {
     "name": "stderr",
     "output_type": "stream",
     "text": [
      "2022-02-25 01:13:36.571585: I tensorflow/core/grappler/optimizers/custom_graph_optimizer_registry.cc:112] Plugin optimizer for device_type GPU is enabled.\n"
     ]
    },
    {
     "name": "stdout",
     "output_type": "stream",
     "text": [
      "187/187 [==============================] - 264s 1s/step - loss: 0.5603 - accuracy: 0.7417 - val_loss: 0.1946 - val_accuracy: 0.9972\n"
     ]
    }
   ],
   "source": [
    "from keras import models \n",
    "from keras import layers \n",
    "\n",
    "# VGG16 합성곱 기반 층 만들기 \n",
    "\n",
    "from keras.applications import vgg16\n",
    "from keras import optimizers\n",
    "\n",
    "# 합성곱 기반 층\n",
    "conv_base = vgg16.VGG16(\n",
    "    weights='imagenet',\n",
    "    include_top = False,\n",
    "    input_shape=(150, 150, 3)\n",
    ")\n",
    "\n",
    "# 모델 정의\n",
    "model = models.Sequential() \n",
    "model.add(conv_base)# 합성곱 기반 층\n",
    "model.add(layers.Flatten()) # 합성곱 기반 층 출력 1차원 텐서(벡터로)변형\n",
    "model.add(layers.BatchNormalization())\n",
    "model.add(layers.Dense(64, activation='relu'))\n",
    "model.add(layers.BatchNormalization())\n",
    "model.add(layers.Dropout(rate=0.5))\n",
    "model.add(layers.Dense(1, activation='sigmoid'))\n",
    "\n",
    "# 합성곱 기반 층 가중치 동결 \n",
    "conv_base.trainable = False\n",
    "print(f'{len(model.trainable_weights)}') \n",
    "\n",
    "\n",
    "# 모델 컴파일 \n",
    "model.compile(\n",
    "    loss='binary_crossentropy',\n",
    "    optimizer=optimizers.adam_v2.Adam(learning_rate=0.001),\n",
    "    metrics=['accuracy']\n",
    ")\n",
    "\n",
    "# 모델 훈련 \n",
    "history = model.fit_generator(\n",
    "    train_generator,\n",
    "    steps_per_epoch = 187, \n",
    "    epochs=5,\n",
    "    validation_data = validation_generator, \n",
    "    validation_steps=83)"
   ]
  },
  {
   "cell_type": "code",
   "execution_count": 11,
   "metadata": {},
   "outputs": [
    {
     "name": "stdout",
     "output_type": "stream",
     "text": [
      "[[0.99999976]]\n"
     ]
    }
   ],
   "source": [
    "from keras.preprocessing import image \n",
    "from keras.applications.vgg16 import preprocess_input\n",
    "\n",
    "img_path = '/Users/kibeomkim/Desktop/samsung6.jpg'\n",
    "\n",
    "img = image.load_img(img_path, target_size=(150,150))\n",
    "x = image.img_to_array(img)\n",
    "x = np.expand_dims(x, axis=0)\n",
    "\n",
    "x = preprocess_input(x)\n",
    "\n",
    "result = model.predict(x) ; print(result)"
   ]
  },
  {
   "cell_type": "code",
   "execution_count": 23,
   "metadata": {},
   "outputs": [],
   "source": [
    "import os \n",
    "valid_list = os.listdir('/Users/kibeomkim/Desktop/openlogo_split/test/samsung') \n",
    "\n",
    "def galaxy(name) : \n",
    "    img = image.load_img(f'/Users/kibeomkim/Desktop/openlogo_split/test/samsung/{name}', target_size=(150,150))\n",
    "    x = image.img_to_array(img)\n",
    "    x = np.expand_dims(x, axis=0)\n",
    "    x = preprocess_input(x)\n",
    "    return model.predict(x) \n",
    "\n",
    "result = [galaxy(image) for image in valid_list]"
   ]
  },
  {
   "cell_type": "code",
   "execution_count": 35,
   "metadata": {},
   "outputs": [
    {
     "name": "stdout",
     "output_type": "stream",
     "text": [
      "19\n",
      "14\n"
     ]
    }
   ],
   "source": [
    "print(len(result))\n",
    "print(len([x for x in result if x > 0.5]))"
   ]
  },
  {
   "cell_type": "code",
   "execution_count": 36,
   "metadata": {},
   "outputs": [
    {
     "data": {
      "text/plain": [
       "[array([[1.]], dtype=float32),\n",
       " array([[0.00021203]], dtype=float32),\n",
       " array([[0.99999976]], dtype=float32),\n",
       " array([[0.08828855]], dtype=float32),\n",
       " array([[6.498255e-05]], dtype=float32),\n",
       " array([[0.00729018]], dtype=float32),\n",
       " array([[1.]], dtype=float32),\n",
       " array([[1.]], dtype=float32),\n",
       " array([[0.86372066]], dtype=float32),\n",
       " array([[0.9999995]], dtype=float32),\n",
       " array([[1.]], dtype=float32),\n",
       " array([[1.]], dtype=float32),\n",
       " array([[0.11309852]], dtype=float32),\n",
       " array([[0.99999654]], dtype=float32),\n",
       " array([[1.]], dtype=float32),\n",
       " array([[1.]], dtype=float32),\n",
       " array([[0.98967326]], dtype=float32),\n",
       " array([[0.8654114]], dtype=float32),\n",
       " array([[1.]], dtype=float32)]"
      ]
     },
     "execution_count": 36,
     "metadata": {},
     "output_type": "execute_result"
    }
   ],
   "source": [
    "result"
   ]
  }
 ],
 "metadata": {
  "interpreter": {
   "hash": "35eb7306ee2d642baa30dd47b3f48e3de4de9582bbd530539ad6f76f0b00bf2b"
  },
  "kernelspec": {
   "display_name": "Python 3.8.12 ('tf25')",
   "language": "python",
   "name": "python3"
  },
  "language_info": {
   "codemirror_mode": {
    "name": "ipython",
    "version": 3
   },
   "file_extension": ".py",
   "mimetype": "text/x-python",
   "name": "python",
   "nbconvert_exporter": "python",
   "pygments_lexer": "ipython3",
   "version": "3.8.12"
  },
  "orig_nbformat": 4
 },
 "nbformat": 4,
 "nbformat_minor": 2
}
