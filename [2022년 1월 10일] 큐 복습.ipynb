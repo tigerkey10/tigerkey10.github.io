{
 "cells": [
  {
   "cell_type": "markdown",
   "metadata": {},
   "source": [
    "# 큐 "
   ]
  },
  {
   "cell_type": "code",
   "execution_count": 52,
   "metadata": {},
   "outputs": [
    {
     "name": "stdout",
     "output_type": "stream",
     "text": [
      "3,4,5,8,10,\n"
     ]
    }
   ],
   "source": [
    "# 파이썬 내장 queue 모듈의 Queue 클래스 이용해서 큐 구현 \n",
    "\n",
    "from queue import Queue\n",
    "\n",
    "que = Queue()\n",
    "que.put(3)\n",
    "que.put(4)\n",
    "que.put(5)\n",
    "que.put(8)\n",
    "que.put(10)\n",
    "\n",
    "for i in range(5) : \n",
    "    print(que.get(), end=',')\n",
    "print()"
   ]
  },
  {
   "cell_type": "code",
   "execution_count": 51,
   "metadata": {},
   "outputs": [
    {
     "data": {
      "text/plain": [
       "[]"
      ]
     },
     "execution_count": 51,
     "metadata": {},
     "output_type": "execute_result"
    }
   ],
   "source": [
    "# 파이썬 기본 리스트로 큐 구현 \n",
    "\n",
    "que = []\n",
    "\n",
    "def enqueue(item) :\n",
    "    global que\n",
    "    que.append(item)\n",
    "\n",
    "def dequeue() : \n",
    "    global que\n",
    "    if len(que) != 0 : \n",
    "        item = que.pop(0)\n",
    "        return item"
   ]
  },
  {
   "cell_type": "code",
   "execution_count": 24,
   "metadata": {},
   "outputs": [],
   "source": [
    "# 단순연결리스트로 큐 구현 \n",
    "\n",
    "# 빈 큐\n",
    "top = None\n",
    "size = 0\n",
    "pre_node = None\n",
    "\n",
    "# 노드 정의\n",
    "class Node : \n",
    "    def __init__(self, data, link) : \n",
    "        self.item = data # 데이터 필드 \n",
    "        self.next = link # 링크 필드 \n",
    "\n",
    "# 삽입 \n",
    "def enqueue(item) : \n",
    "    global top \n",
    "    global size\n",
    "    global pre_node\n",
    "    if size == 0 : # 큐에 처음으로 뭘 넣을 때 \n",
    "        # 헤드포인터 노드 생성 \n",
    "        top = Node(item, None)\n",
    "        size += 1\n",
    "        pre_node = top\n",
    "    else : # 그게 아닌 모든 경우 \n",
    "        # 새 노드 생성 \n",
    "        new_node = Node(item, None)\n",
    "        size += 1\n",
    "        # 새 노드를 이전 노드 링크와 연결 \n",
    "        pre_node.next = new_node\n",
    "        pre_node = new_node\n",
    "\n",
    "# 삭제 : 헤드포인터만 이동하면 된다. \n",
    "def dequeue() : \n",
    "    global top \n",
    "    global size \n",
    "    if size != 0 : \n",
    "        deleted_one = top.item \n",
    "        top = top.next # 헤드포인터 변경 : 삭제 끝 \n",
    "        size -= 1\n",
    "        return deleted_one \n",
    "\n",
    "# 조회 : 헤드포인터 노드에 담긴 데이터 확인한다. \n",
    "def peek() : \n",
    "    global top \n",
    "    global size \n",
    "    if size != 0 : \n",
    "        return top.item \n",
    "\n",
    "# 큐가 비어있는지 확인 \n",
    "def isEmpty() : \n",
    "    global size \n",
    "    return size == 0 \n",
    "\n",
    "# 큐의 자료 수 확인 \n",
    "def que_size() : \n",
    "    global size \n",
    "    return size \n",
    "\n",
    "def clear() : \n",
    "    global top \n",
    "    global size \n",
    "    top = None\n",
    "    size = 0\n",
    "\n",
    "def print_q() : \n",
    "    global top \n",
    "    global size \n",
    "\n",
    "    if size != 0 : \n",
    "        n = top \n",
    "        print(f'front ->', end='')\n",
    "        for i in range(size) : \n",
    "            print(f'{n.item}', end=' ')\n",
    "            n = n.next\n",
    "        print()"
   ]
  },
  {
   "cell_type": "code",
   "execution_count": 56,
   "metadata": {},
   "outputs": [
    {
     "name": "stdout",
     "output_type": "stream",
     "text": [
      "front ->3 5 5 3 5 5 3 5 5 \n"
     ]
    }
   ],
   "source": [
    "print_q()"
   ]
  },
  {
   "cell_type": "code",
   "execution_count": 49,
   "metadata": {},
   "outputs": [
    {
     "data": {
      "text/plain": [
       "5"
      ]
     },
     "execution_count": 49,
     "metadata": {},
     "output_type": "execute_result"
    }
   ],
   "source": [
    "top.item"
   ]
  },
  {
   "cell_type": "code",
   "execution_count": 57,
   "metadata": {},
   "outputs": [
    {
     "data": {
      "text/plain": [
       "3"
      ]
     },
     "execution_count": 57,
     "metadata": {},
     "output_type": "execute_result"
    }
   ],
   "source": [
    "dequeue()"
   ]
  },
  {
   "cell_type": "code",
   "execution_count": 55,
   "metadata": {},
   "outputs": [],
   "source": [
    "enqueue(3);enqueue(5);enqueue(5)"
   ]
  },
  {
   "cell_type": "code",
   "execution_count": 8,
   "metadata": {},
   "outputs": [
    {
     "name": "stdout",
     "output_type": "stream",
     "text": [
      "3,5,5,3,5,5,3,5,5,"
     ]
    }
   ],
   "source": [
    "for i in range(que_size()) : \n",
    "    print(dequeue(), end=',')"
   ]
  },
  {
   "cell_type": "code",
   "execution_count": 10,
   "metadata": {},
   "outputs": [
    {
     "data": {
      "text/plain": [
       "True"
      ]
     },
     "execution_count": 10,
     "metadata": {},
     "output_type": "execute_result"
    }
   ],
   "source": [
    "isEmpty()"
   ]
  },
  {
   "cell_type": "code",
   "execution_count": 12,
   "metadata": {},
   "outputs": [
    {
     "data": {
      "text/plain": [
       "0"
      ]
     },
     "execution_count": 12,
     "metadata": {},
     "output_type": "execute_result"
    }
   ],
   "source": [
    "que_size()"
   ]
  },
  {
   "cell_type": "code",
   "execution_count": 78,
   "metadata": {},
   "outputs": [],
   "source": [
    "clear()"
   ]
  },
  {
   "cell_type": "code",
   "execution_count": 18,
   "metadata": {},
   "outputs": [
    {
     "data": {
      "text/plain": [
       "3"
      ]
     },
     "execution_count": 18,
     "metadata": {},
     "output_type": "execute_result"
    }
   ],
   "source": [
    "peek()"
   ]
  },
  {
   "cell_type": "code",
   "execution_count": 16,
   "metadata": {},
   "outputs": [],
   "source": [
    "# 큐\n",
    "front = None\n",
    "rear = None\n",
    "size = 0 \n",
    "\n",
    "# 노드 정의 \n",
    "class Node : \n",
    "    def __init__(self, item, link) : \n",
    "        self.item = item \n",
    "        self.next = link \n",
    "    \n",
    "# 삽입 \n",
    "def enqueue(item) : \n",
    "    global front \n",
    "    global rear\n",
    "    global size \n",
    "\n",
    "    p = Node(item, None)\n",
    "    if size == 0 : # 첫 번째면 \n",
    "        front = p \n",
    "    else : # 그 외에 \n",
    "        rear.next = p \n",
    "    \n",
    "    rear = p \n",
    "    size += 1 \n",
    "\n",
    "# 삭제 \n",
    "def dequeue() : \n",
    "    global front \n",
    "    global rear\n",
    "    global size \n",
    "\n",
    "    if size != 0 : \n",
    "        deleted = front.item # 삭제된 항목 \n",
    "        front = front.next \n",
    "        size -= 1 \n",
    "        if size == 0 : \n",
    "            rear = None \n",
    "        return deleted \n",
    "\n",
    "# 조회 \n",
    "def peek() : \n",
    "    global front \n",
    "    return front.item \n",
    "\n",
    "# 삭제 \n",
    "def clear() : \n",
    "    global front \n",
    "    global rear \n",
    "    global size \n",
    "\n",
    "    front = None \n",
    "    rear = None \n",
    "    size = 0 \n",
    "\n",
    "# 내용물 출력 \n",
    "def print_que() : \n",
    "    global front \n",
    "    global rear \n",
    "    global size \n",
    "\n",
    "    p = front \n",
    "    print(f'front ->', end=' ')\n",
    "    while p : # 큐 끝까지 돌아라 \n",
    "        print(f'{p.item}', end=' ')\n",
    "        p = p.next # 다음 노드로 가라 \n",
    "    print() "
   ]
  },
  {
   "cell_type": "code",
   "execution_count": 6,
   "metadata": {},
   "outputs": [],
   "source": [
    "enqueue(3);enqueue(4);enqueue(9);enqueue(12);enqueue(333)"
   ]
  },
  {
   "cell_type": "code",
   "execution_count": 7,
   "metadata": {},
   "outputs": [
    {
     "name": "stdout",
     "output_type": "stream",
     "text": [
      "front -> 3 4 9 12 333 \n"
     ]
    }
   ],
   "source": [
    "print_que()"
   ]
  },
  {
   "cell_type": "code",
   "execution_count": 9,
   "metadata": {},
   "outputs": [
    {
     "data": {
      "text/plain": [
       "3"
      ]
     },
     "execution_count": 9,
     "metadata": {},
     "output_type": "execute_result"
    }
   ],
   "source": [
    "peek()"
   ]
  },
  {
   "cell_type": "code",
   "execution_count": 27,
   "metadata": {},
   "outputs": [],
   "source": [
    "dequeue()"
   ]
  },
  {
   "cell_type": "code",
   "execution_count": 28,
   "metadata": {},
   "outputs": [
    {
     "name": "stdout",
     "output_type": "stream",
     "text": [
      "front -> \n"
     ]
    }
   ],
   "source": [
    "print_que()"
   ]
  },
  {
   "cell_type": "code",
   "execution_count": 33,
   "metadata": {},
   "outputs": [
    {
     "name": "stdout",
     "output_type": "stream",
     "text": [
      "None\n",
      "None\n",
      "0\n"
     ]
    }
   ],
   "source": [
    "print(front);print(rear);print(size)"
   ]
  },
  {
   "cell_type": "markdown",
   "metadata": {},
   "source": [
    "# 원형 큐 "
   ]
  },
  {
   "cell_type": "code",
   "execution_count": 123,
   "metadata": {},
   "outputs": [],
   "source": [
    "# 1차원 배열 리스트로 원형 큐 구현 \n",
    "\n",
    "class Circularque : \n",
    "    def __init__(self) : \n",
    "        self.MAX_SIZE = 5\n",
    "        self.front = 0 \n",
    "        self.rear = 0 \n",
    "        self.q = [None]*self.MAX_SIZE  \n",
    "\n",
    "    # 포화상태 정의 \n",
    "    def isFull(self) : return (self.rear+1)%self.MAX_SIZE == self.front \n",
    "    \n",
    "    # 공백상태 정의 \n",
    "    def isEmpty(self) : return self.front == self.rear \n",
    "    \n",
    "    # 삽입연산 \n",
    "    def enqueue(self, item) : \n",
    "        if not self.isFull() : # 포화상태가 아닐 때 \n",
    "            self.rear = (self.rear+1)%self.MAX_SIZE # 다음 리어 포인터 위치 \n",
    "            self.q[self.rear] = item \n",
    "    \n",
    "    # 삭제연산 \n",
    "    def dequeue(self) : \n",
    "        if not self.isEmpty() : # 공백상태가 아닐 때 \n",
    "            self.front = (self.front+1)%self.MAX_SIZE # 다음 프론트 포인터 위치 \n",
    "            deleted = self.q[self.front]\n",
    "            return deleted # 뭐가 삭제됬는지 반환 \n",
    "\n",
    "    # 원형 큐 출력 연산 \n",
    "    def print_cq(self) : \n",
    "        if not self.isEmpty(): \n",
    "            out = []\n",
    "            # 리어 포인터가 프론트 포인터보다 앞에 있는 경우 \n",
    "            if self.front < self.rear : \n",
    "                out = self.q[self.front+1:self.rear+1]\n",
    "            # 리어 포인터가 프론트보다 뒤에 있는 경우 \n",
    "            else : \n",
    "                out = self.q[self.front+1:self.MAX_SIZE+1]+self.q[0:self.rear+1]\n",
    "            print(f'front:{self.front}, rear:{self.rear}', out)\n",
    "\n",
    "    def size(self) : \n",
    "        return (self.rear-self.front+self.MAX_SIZE)%self.MAX_SIZE \n",
    "    \n",
    "    # 원형 큐 비우기 \n",
    "    def clear(self) : self.front = self.rear \n",
    "\n",
    "    # 원형 큐 가장 전단에 있는 항목 조회 \n",
    "    def peek(self) : \n",
    "        if not self.isEmpty() : \n",
    "            return self.q[(self.front+1)%self.MAX_SIZE] # 현재 front 포인터 하나 뒤 위치의 항목 "
   ]
  },
  {
   "cell_type": "code",
   "execution_count": 113,
   "metadata": {},
   "outputs": [],
   "source": [
    "cq = Circularque() "
   ]
  },
  {
   "cell_type": "code",
   "execution_count": 114,
   "metadata": {},
   "outputs": [
    {
     "name": "stdout",
     "output_type": "stream",
     "text": [
      "True\n",
      "front:0, rear:3 [1, 2, 3]\n"
     ]
    }
   ],
   "source": [
    "# 원형 큐 테스트 \n",
    "print(cq.isEmpty())\n",
    "\n",
    "for i in range(1,4) : \n",
    "    cq.enqueue(i)\n",
    "cq.print_cq()"
   ]
  },
  {
   "cell_type": "code",
   "execution_count": 115,
   "metadata": {},
   "outputs": [
    {
     "name": "stdout",
     "output_type": "stream",
     "text": [
      "front:2, rear:3 [3]\n"
     ]
    }
   ],
   "source": [
    "for _ in range(2) : \n",
    "    cq.dequeue()\n",
    "cq.print_cq()"
   ]
  },
  {
   "cell_type": "code",
   "execution_count": 117,
   "metadata": {},
   "outputs": [
    {
     "name": "stdout",
     "output_type": "stream",
     "text": [
      "front:2, rear:1 [3, 4, 5, 6]\n",
      "True\n"
     ]
    }
   ],
   "source": [
    "for i in range(4,7) : \n",
    "    cq.enqueue(i)\n",
    "cq.print_cq()\n",
    "print(cq.isFull())"
   ]
  },
  {
   "cell_type": "code",
   "execution_count": 124,
   "metadata": {},
   "outputs": [],
   "source": [
    "cq = Circularque() "
   ]
  },
  {
   "cell_type": "code",
   "execution_count": 125,
   "metadata": {},
   "outputs": [],
   "source": [
    "for i in range(1,4) : \n",
    "    cq.enqueue(i) "
   ]
  },
  {
   "cell_type": "code",
   "execution_count": 127,
   "metadata": {},
   "outputs": [
    {
     "name": "stdout",
     "output_type": "stream",
     "text": [
      "front:0, rear:3 [1, 2, 3]\n"
     ]
    }
   ],
   "source": [
    "cq.print_cq()"
   ]
  },
  {
   "cell_type": "code",
   "execution_count": 128,
   "metadata": {},
   "outputs": [],
   "source": [
    "for _ in range(2) : cq.dequeue()"
   ]
  },
  {
   "cell_type": "code",
   "execution_count": 129,
   "metadata": {},
   "outputs": [
    {
     "name": "stdout",
     "output_type": "stream",
     "text": [
      "front:2, rear:3 [3]\n"
     ]
    }
   ],
   "source": [
    "cq.print_cq()"
   ]
  },
  {
   "cell_type": "code",
   "execution_count": 130,
   "metadata": {},
   "outputs": [],
   "source": [
    "for i in range(4,7) : cq.enqueue(i)"
   ]
  },
  {
   "cell_type": "code",
   "execution_count": 133,
   "metadata": {},
   "outputs": [
    {
     "name": "stdout",
     "output_type": "stream",
     "text": [
      "front:2, rear:1 [3, 4, 5, 6]\n"
     ]
    }
   ],
   "source": [
    "cq.print_cq()"
   ]
  },
  {
   "cell_type": "code",
   "execution_count": 135,
   "metadata": {},
   "outputs": [
    {
     "name": "stdout",
     "output_type": "stream",
     "text": [
      "True\n"
     ]
    }
   ],
   "source": [
    "print(cq.isFull())"
   ]
  },
  {
   "cell_type": "markdown",
   "metadata": {},
   "source": [
    "# 덱 "
   ]
  },
  {
   "cell_type": "code",
   "execution_count": 145,
   "metadata": {},
   "outputs": [
    {
     "name": "stdout",
     "output_type": "stream",
     "text": [
      "deque([88, 22, 11])\n",
      "deque([88, 22, 11, 3])\n",
      "deque([76, 88, 22, 11, 3])\n",
      "deque([76, 88, 22, 11])\n",
      "deque([88, 22, 11])\n"
     ]
    }
   ],
   "source": [
    "# collections 모듈 deque 클래스로 덱 구현하기 \n",
    "# 덱을 직관적. 간단하게 사용할 수 있다. \n",
    "\n",
    "from collections import deque\n",
    "\n",
    "dq = deque([88,22,11]);print(dq)\n",
    "\n",
    "dq.append(3);print(dq)\n",
    "\n",
    "dq.appendleft(76);print(dq)\n",
    "\n",
    "dq.pop();print(dq)\n",
    "\n",
    "dq.popleft();print(dq)"
   ]
  },
  {
   "cell_type": "code",
   "execution_count": 197,
   "metadata": {},
   "outputs": [],
   "source": [
    "# 원형 큐에 연산 추가해서 덱 구현 \n",
    "\n",
    "class Deque : \n",
    "    def __init__(self) : \n",
    "        self.MAX_SIZE = 5\n",
    "        self.front = 0 \n",
    "        self.rear = 0 \n",
    "        self.q = [None]*self.MAX_SIZE  \n",
    "    \n",
    "    # 추가된 덱 연산 \n",
    "\n",
    "    # 전단 삽입 \n",
    "    def enqueueFront(self, item) : \n",
    "        if not self.isFull() : # 포화상태가 아닐 때 \n",
    "            # 1. front 포인터 위치에 데이터 삽입 \n",
    "            self.q[self.front] = item \n",
    "            # 2. front 포인터 이동 \n",
    "            self.front = self.front -1 \n",
    "            if self.front < 0 : self.front = self.MAX_SIZE -1 \n",
    "    \n",
    "    # 후단 삭제 \n",
    "    def dequeueRear(self) : \n",
    "        if not self.isEmpty() : # 공백상태가 아닐 때 \n",
    "            # 리어 포인터 이동 = 큐에서 제외(삭제)\n",
    "            deleted = self.q[self.rear] # 현재 리어에 담겨 있는 거. \n",
    "            self.rear = self.rear - 1 # 삭제: 리어 포인터 이동 \n",
    "            if self.rear < 0 : self.rear = self.MAX_SIZE - 1 \n",
    "            return deleted \n",
    "\n",
    "    # 후단 항목 조회 \n",
    "    def peekRear(self) : return self.q[self.rear]\n",
    "\n",
    "    # --------------------------- 원형 큐 연산과 동일-----------------------\n",
    "    # 포화상태 정의 \n",
    "    def isFull(self) : return (self.rear+1)%self.MAX_SIZE == self.front \n",
    "    \n",
    "    # 공백상태 정의 \n",
    "    def isEmpty(self) : return self.front == self.rear \n",
    "    \n",
    "    # 삽입연산 \n",
    "    def enqueueRear(self, item) : \n",
    "        if not self.isFull() : # 포화상태가 아닐 때 \n",
    "            self.rear = (self.rear+1)%self.MAX_SIZE # 다음 리어 포인터 위치 \n",
    "            self.q[self.rear] = item \n",
    "    \n",
    "    # 삭제연산 \n",
    "    def dequeueFront(self) : \n",
    "        if not self.isEmpty() : # 공백상태가 아닐 때 \n",
    "            self.front = (self.front+1)%self.MAX_SIZE # 다음 프론트 포인터 위치 \n",
    "            deleted = self.q[self.front]\n",
    "            return deleted # 뭐가 삭제됬는지 반환 \n",
    "\n",
    "    # 원형 큐 출력 연산 \n",
    "    def print_cq(self) : \n",
    "        if not self.isEmpty(): \n",
    "            out = []\n",
    "            # 리어 포인터가 프론트 포인터보다 앞에 있는 경우 \n",
    "            if self.front < self.rear : \n",
    "                out = self.q[self.front+1:self.rear+1]\n",
    "            # 리어 포인터가 프론트보다 뒤에 있는 경우 \n",
    "            else : \n",
    "                out = self.q[self.front+1:self.MAX_SIZE+1]+self.q[0:self.rear+1]\n",
    "            print(f'front:{self.front}, rear:{self.rear}', out)\n",
    "\n",
    "    def size(self) : \n",
    "        return (self.rear-self.front+self.MAX_SIZE)%self.MAX_SIZE \n",
    "    \n",
    "    # 원형 큐 비우기 \n",
    "    def clear(self) : self.front = self.rear \n",
    "\n",
    "    # 원형 큐 가장 전단에 있는 항목 조회 \n",
    "    def peek(self) : \n",
    "        if not self.isEmpty() : return self.q[(self.front+1)%self.MAX_SIZE] # 현재 front 포인터 하나 뒤 위치의 항목 "
   ]
  },
  {
   "cell_type": "code",
   "execution_count": 198,
   "metadata": {},
   "outputs": [],
   "source": [
    "# 덱 테스트 \n",
    "dq = Deque() "
   ]
  },
  {
   "cell_type": "code",
   "execution_count": 199,
   "metadata": {},
   "outputs": [
    {
     "name": "stdout",
     "output_type": "stream",
     "text": [
      "front:3, rear:1 [3, 1, 2]\n"
     ]
    }
   ],
   "source": [
    "for i in range(1,4) : \n",
    "    if i%2 == 0 : # i가 짝수면 \n",
    "        dq.enqueueRear(i) # 덱 후단에 추가 \n",
    "    else : # 홀수면 \n",
    "        dq.enqueueFront(i) # 덱 전단에 추가  \n",
    "dq.print_cq()"
   ]
  },
  {
   "cell_type": "code",
   "execution_count": 200,
   "metadata": {},
   "outputs": [
    {
     "name": "stdout",
     "output_type": "stream",
     "text": [
      "front:0, rear:1 [2]\n"
     ]
    }
   ],
   "source": [
    "for i in range(2) : dq.dequeueFront()\n",
    "dq.print_cq() "
   ]
  },
  {
   "cell_type": "code",
   "execution_count": 201,
   "metadata": {},
   "outputs": [],
   "source": [
    "for i in range(3) : dq.dequeueRear()\n",
    "dq.print_cq() "
   ]
  },
  {
   "cell_type": "code",
   "execution_count": 157,
   "metadata": {},
   "outputs": [
    {
     "name": "stdout",
     "output_type": "stream",
     "text": [
      "front:3, rear:0 [6, 5]\n"
     ]
    }
   ],
   "source": [
    "for i in range(5,7) : dq.enqueueFront(i) \n",
    "dq.print_cq() "
   ]
  },
  {
   "cell_type": "code",
   "execution_count": 190,
   "metadata": {},
   "outputs": [
    {
     "name": "stdout",
     "output_type": "stream",
     "text": [
      "DATA"
     ]
    }
   ],
   "source": [
    "# deque 클래스 활용 \n",
    "\n",
    "from collections import deque\n",
    "\n",
    "dq = deque('data')\n",
    "\n",
    "for elem in dq : \n",
    "    print(elem.upper(), end='')"
   ]
  },
  {
   "cell_type": "code",
   "execution_count": 191,
   "metadata": {},
   "outputs": [
    {
     "name": "stdout",
     "output_type": "stream",
     "text": [
      "\n",
      "deque(['k', 'd', 'a', 't', 'a', 'r'])\n"
     ]
    }
   ],
   "source": [
    "print() \n",
    "dq.append('r')\n",
    "dq.appendleft('k')\n",
    "print(dq) "
   ]
  },
  {
   "cell_type": "code",
   "execution_count": 192,
   "metadata": {},
   "outputs": [
    {
     "name": "stdout",
     "output_type": "stream",
     "text": [
      "a\n"
     ]
    }
   ],
   "source": [
    "dq.pop() \n",
    "dq.popleft() \n",
    "print(dq[-1])"
   ]
  },
  {
   "cell_type": "code",
   "execution_count": 193,
   "metadata": {},
   "outputs": [
    {
     "name": "stdout",
     "output_type": "stream",
     "text": [
      "False\n"
     ]
    }
   ],
   "source": [
    "print('x' in dq)"
   ]
  },
  {
   "cell_type": "code",
   "execution_count": 194,
   "metadata": {},
   "outputs": [],
   "source": [
    "dq.extend('structure')"
   ]
  },
  {
   "cell_type": "code",
   "execution_count": 195,
   "metadata": {},
   "outputs": [
    {
     "name": "stdout",
     "output_type": "stream",
     "text": [
      "deque(['d', 'a', 't', 'a', 's', 't', 'r', 'u', 'c', 't', 'u', 'r', 'e'])\n"
     ]
    }
   ],
   "source": [
    "print(dq)"
   ]
  },
  {
   "cell_type": "code",
   "execution_count": 196,
   "metadata": {},
   "outputs": [
    {
     "name": "stdout",
     "output_type": "stream",
     "text": [
      "deque(['p', 'y', 't', 'h', 'o', 'n', 'd', 'a', 't', 'a', 's', 't', 'r', 'u', 'c', 't', 'u', 'r', 'e'])\n"
     ]
    }
   ],
   "source": [
    "dq.extendleft(reversed('python'))\n",
    "print(dq)"
   ]
  }
 ],
 "metadata": {
  "interpreter": {
   "hash": "4c3ef011dacc38893a1195bd1400f1bfec9d902762372ab997d6b63973747a5f"
  },
  "kernelspec": {
   "display_name": "Python 3.8.5 64-bit ('base': conda)",
   "language": "python",
   "name": "python3"
  },
  "language_info": {
   "codemirror_mode": {
    "name": "ipython",
    "version": 3
   },
   "file_extension": ".py",
   "mimetype": "text/x-python",
   "name": "python",
   "nbconvert_exporter": "python",
   "pygments_lexer": "ipython3",
   "version": "3.8.5"
  },
  "orig_nbformat": 4
 },
 "nbformat": 4,
 "nbformat_minor": 2
}
