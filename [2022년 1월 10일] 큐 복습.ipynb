{
 "cells": [
  {
   "cell_type": "markdown",
   "metadata": {},
   "source": [
    "# 큐 "
   ]
  },
  {
   "cell_type": "code",
   "execution_count": 52,
   "metadata": {},
   "outputs": [
    {
     "name": "stdout",
     "output_type": "stream",
     "text": [
      "3,4,5,8,10,\n"
     ]
    }
   ],
   "source": [
    "# 파이썬 내장 queue 모듈의 Queue 클래스 이용해서 큐 구현 \n",
    "\n",
    "from queue import Queue\n",
    "\n",
    "que = Queue()\n",
    "que.put(3)\n",
    "que.put(4)\n",
    "que.put(5)\n",
    "que.put(8)\n",
    "que.put(10)\n",
    "\n",
    "for i in range(5) : \n",
    "    print(que.get(), end=',')\n",
    "print()"
   ]
  },
  {
   "cell_type": "code",
   "execution_count": 51,
   "metadata": {},
   "outputs": [
    {
     "data": {
      "text/plain": [
       "[]"
      ]
     },
     "execution_count": 51,
     "metadata": {},
     "output_type": "execute_result"
    }
   ],
   "source": [
    "# 파이썬 기본 리스트로 큐 구현 \n",
    "\n",
    "que = []\n",
    "\n",
    "def enqueue(item) :\n",
    "    global que\n",
    "    que.append(item)\n",
    "\n",
    "def dequeue() : \n",
    "    global que\n",
    "    if len(que) != 0 : \n",
    "        item = que.pop(0)\n",
    "        return item"
   ]
  },
  {
   "cell_type": "code",
   "execution_count": 24,
   "metadata": {},
   "outputs": [],
   "source": [
    "# 단순연결리스트로 큐 구현 \n",
    "\n",
    "# 빈 큐\n",
    "top = None\n",
    "size = 0\n",
    "pre_node = None\n",
    "\n",
    "# 노드 정의\n",
    "class Node : \n",
    "    def __init__(self, data, link) : \n",
    "        self.item = data # 데이터 필드 \n",
    "        self.next = link # 링크 필드 \n",
    "\n",
    "# 삽입 \n",
    "def enqueue(item) : \n",
    "    global top \n",
    "    global size\n",
    "    global pre_node\n",
    "    if size == 0 : # 큐에 처음으로 뭘 넣을 때 \n",
    "        # 헤드포인터 노드 생성 \n",
    "        top = Node(item, None)\n",
    "        size += 1\n",
    "        pre_node = top\n",
    "    else : # 그게 아닌 모든 경우 \n",
    "        # 새 노드 생성 \n",
    "        new_node = Node(item, None)\n",
    "        size += 1\n",
    "        # 새 노드를 이전 노드 링크와 연결 \n",
    "        pre_node.next = new_node\n",
    "        pre_node = new_node\n",
    "\n",
    "# 삭제 : 헤드포인터만 이동하면 된다. \n",
    "def dequeue() : \n",
    "    global top \n",
    "    global size \n",
    "    if size != 0 : \n",
    "        deleted_one = top.item \n",
    "        top = top.next # 헤드포인터 변경 : 삭제 끝 \n",
    "        size -= 1\n",
    "        return deleted_one \n",
    "\n",
    "# 조회 : 헤드포인터 노드에 담긴 데이터 확인한다. \n",
    "def peek() : \n",
    "    global top \n",
    "    global size \n",
    "    if size != 0 : \n",
    "        return top.item \n",
    "\n",
    "# 큐가 비어있는지 확인 \n",
    "def isEmpty() : \n",
    "    global size \n",
    "    return size == 0 \n",
    "\n",
    "# 큐의 자료 수 확인 \n",
    "def que_size() : \n",
    "    global size \n",
    "    return size \n",
    "\n",
    "def clear() : \n",
    "    global top \n",
    "    global size \n",
    "    top = None\n",
    "    size = 0\n",
    "\n",
    "def print_q() : \n",
    "    global top \n",
    "    global size \n",
    "\n",
    "    if size != 0 : \n",
    "        n = top \n",
    "        print(f'front ->', end='')\n",
    "        for i in range(size) : \n",
    "            print(f'{n.item}', end=' ')\n",
    "            n = n.next\n",
    "        print()"
   ]
  },
  {
   "cell_type": "code",
   "execution_count": 56,
   "metadata": {},
   "outputs": [
    {
     "name": "stdout",
     "output_type": "stream",
     "text": [
      "front ->3 5 5 3 5 5 3 5 5 \n"
     ]
    }
   ],
   "source": [
    "print_q()"
   ]
  },
  {
   "cell_type": "code",
   "execution_count": 49,
   "metadata": {},
   "outputs": [
    {
     "data": {
      "text/plain": [
       "5"
      ]
     },
     "execution_count": 49,
     "metadata": {},
     "output_type": "execute_result"
    }
   ],
   "source": [
    "top.item"
   ]
  },
  {
   "cell_type": "code",
   "execution_count": 57,
   "metadata": {},
   "outputs": [
    {
     "data": {
      "text/plain": [
       "3"
      ]
     },
     "execution_count": 57,
     "metadata": {},
     "output_type": "execute_result"
    }
   ],
   "source": [
    "dequeue()"
   ]
  },
  {
   "cell_type": "code",
   "execution_count": 55,
   "metadata": {},
   "outputs": [],
   "source": [
    "enqueue(3);enqueue(5);enqueue(5)"
   ]
  },
  {
   "cell_type": "code",
   "execution_count": 8,
   "metadata": {},
   "outputs": [
    {
     "name": "stdout",
     "output_type": "stream",
     "text": [
      "3,5,5,3,5,5,3,5,5,"
     ]
    }
   ],
   "source": [
    "for i in range(que_size()) : \n",
    "    print(dequeue(), end=',')"
   ]
  },
  {
   "cell_type": "code",
   "execution_count": 10,
   "metadata": {},
   "outputs": [
    {
     "data": {
      "text/plain": [
       "True"
      ]
     },
     "execution_count": 10,
     "metadata": {},
     "output_type": "execute_result"
    }
   ],
   "source": [
    "isEmpty()"
   ]
  },
  {
   "cell_type": "code",
   "execution_count": 12,
   "metadata": {},
   "outputs": [
    {
     "data": {
      "text/plain": [
       "0"
      ]
     },
     "execution_count": 12,
     "metadata": {},
     "output_type": "execute_result"
    }
   ],
   "source": [
    "que_size()"
   ]
  },
  {
   "cell_type": "code",
   "execution_count": 78,
   "metadata": {},
   "outputs": [],
   "source": [
    "clear()"
   ]
  },
  {
   "cell_type": "code",
   "execution_count": 18,
   "metadata": {},
   "outputs": [
    {
     "data": {
      "text/plain": [
       "3"
      ]
     },
     "execution_count": 18,
     "metadata": {},
     "output_type": "execute_result"
    }
   ],
   "source": [
    "peek()"
   ]
  },
  {
   "cell_type": "code",
   "execution_count": 16,
   "metadata": {},
   "outputs": [],
   "source": [
    "# 큐\n",
    "front = None\n",
    "rear = None\n",
    "size = 0 \n",
    "\n",
    "# 노드 정의 \n",
    "class Node : \n",
    "    def __init__(self, item, link) : \n",
    "        self.item = item \n",
    "        self.next = link \n",
    "    \n",
    "# 삽입 \n",
    "def enqueue(item) : \n",
    "    global front \n",
    "    global rear\n",
    "    global size \n",
    "\n",
    "    p = Node(item, None)\n",
    "    if size == 0 : # 첫 번째면 \n",
    "        front = p \n",
    "    else : # 그 외에 \n",
    "        rear.next = p \n",
    "    \n",
    "    rear = p \n",
    "    size += 1 \n",
    "\n",
    "# 삭제 \n",
    "def dequeue() : \n",
    "    global front \n",
    "    global rear\n",
    "    global size \n",
    "\n",
    "    if size != 0 : \n",
    "        deleted = front.item # 삭제된 항목 \n",
    "        front = front.next \n",
    "        size -= 1 \n",
    "        if size == 0 : \n",
    "            rear = None \n",
    "        return deleted \n",
    "\n",
    "# 조회 \n",
    "def peek() : \n",
    "    global front \n",
    "    return front.item \n",
    "\n",
    "# 삭제 \n",
    "def clear() : \n",
    "    global front \n",
    "    global rear \n",
    "    global size \n",
    "\n",
    "    front = None \n",
    "    rear = None \n",
    "    size = 0 \n",
    "\n",
    "# 내용물 출력 \n",
    "def print_que() : \n",
    "    global front \n",
    "    global rear \n",
    "    global size \n",
    "\n",
    "    p = front \n",
    "    print(f'front ->', end=' ')\n",
    "    while p : # 큐 끝까지 돌아라 \n",
    "        print(f'{p.item}', end=' ')\n",
    "        p = p.next # 다음 노드로 가라 \n",
    "    print() "
   ]
  },
  {
   "cell_type": "code",
   "execution_count": 6,
   "metadata": {},
   "outputs": [],
   "source": [
    "enqueue(3);enqueue(4);enqueue(9);enqueue(12);enqueue(333)"
   ]
  },
  {
   "cell_type": "code",
   "execution_count": 7,
   "metadata": {},
   "outputs": [
    {
     "name": "stdout",
     "output_type": "stream",
     "text": [
      "front -> 3 4 9 12 333 \n"
     ]
    }
   ],
   "source": [
    "print_que()"
   ]
  },
  {
   "cell_type": "code",
   "execution_count": 9,
   "metadata": {},
   "outputs": [
    {
     "data": {
      "text/plain": [
       "3"
      ]
     },
     "execution_count": 9,
     "metadata": {},
     "output_type": "execute_result"
    }
   ],
   "source": [
    "peek()"
   ]
  },
  {
   "cell_type": "code",
   "execution_count": 27,
   "metadata": {},
   "outputs": [],
   "source": [
    "dequeue()"
   ]
  },
  {
   "cell_type": "code",
   "execution_count": 28,
   "metadata": {},
   "outputs": [
    {
     "name": "stdout",
     "output_type": "stream",
     "text": [
      "front -> \n"
     ]
    }
   ],
   "source": [
    "print_que()"
   ]
  },
  {
   "cell_type": "code",
   "execution_count": 33,
   "metadata": {},
   "outputs": [
    {
     "name": "stdout",
     "output_type": "stream",
     "text": [
      "None\n",
      "None\n",
      "0\n"
     ]
    }
   ],
   "source": [
    "print(front);print(rear);print(size)"
   ]
  }
 ],
 "metadata": {
  "interpreter": {
   "hash": "4c3ef011dacc38893a1195bd1400f1bfec9d902762372ab997d6b63973747a5f"
  },
  "kernelspec": {
   "display_name": "Python 3.8.5 64-bit ('base': conda)",
   "language": "python",
   "name": "python3"
  },
  "language_info": {
   "codemirror_mode": {
    "name": "ipython",
    "version": 3
   },
   "file_extension": ".py",
   "mimetype": "text/x-python",
   "name": "python",
   "nbconvert_exporter": "python",
   "pygments_lexer": "ipython3",
   "version": "3.8.5"
  },
  "orig_nbformat": 4
 },
 "nbformat": 4,
 "nbformat_minor": 2
}
