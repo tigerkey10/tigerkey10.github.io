{
 "cells": [
  {
   "cell_type": "markdown",
   "metadata": {},
   "source": [
    "# 수집한 이미지 데이터 분할 "
   ]
  },
  {
   "cell_type": "code",
   "execution_count": 83,
   "metadata": {},
   "outputs": [],
   "source": [
    "import os \n",
    "os.makedirs('/Users/kibeomkim/Desktop/insta_data/train/samsung')\n",
    "os.chdir('/Users/kibeomkim/Desktop/insta_data/train')\n",
    "os.makedirs('/Users/kibeomkim/Desktop/insta_data/train/apple')\n",
    "\n",
    "os.chdir('/Users/kibeomkim/Desktop/insta_data')\n",
    "\n",
    "os.makedirs('/Users/kibeomkim/Desktop/insta_data/test/samsung')\n",
    "os.chdir('/Users/kibeomkim/Desktop/insta_data/test')\n",
    "os.makedirs('/Users/kibeomkim/Desktop/insta_data/test/apple')\n",
    "os.chdir('/Users/kibeomkim/Desktop')"
   ]
  },
  {
   "cell_type": "code",
   "execution_count": 26,
   "metadata": {},
   "outputs": [
    {
     "data": {
      "text/plain": [
       "['apple', '.DS_Store', 'samgalaxy']"
      ]
     },
     "execution_count": 26,
     "metadata": {},
     "output_type": "execute_result"
    }
   ],
   "source": [
    "os.listdir('/Users/kibeomkim/Desktop/app_sam')"
   ]
  },
  {
   "cell_type": "code",
   "execution_count": 84,
   "metadata": {},
   "outputs": [],
   "source": [
    "app_list = [int(x.split('.')[0]) for x in os.listdir('/Users/kibeomkim/Desktop/app_sam/apple') if x != '.DS_Store' ]\n",
    "sam_list = [int(x.split('.')[0]) for x in os.listdir('/Users/kibeomkim/Desktop/app_sam/samgalaxy') if x != '.DS_Store' ]"
   ]
  },
  {
   "cell_type": "code",
   "execution_count": 85,
   "metadata": {},
   "outputs": [],
   "source": [
    "import shutil\n",
    "for image in app_list : \n",
    "    if image <= 20 : \n",
    "        shutil.copyfile(f'/Users/kibeomkim/Desktop/app_sam/apple/{image}.jpg', f'/Users/kibeomkim/Desktop/insta_data/test/apple/{image}.jpg')\n",
    "    else : \n",
    "        shutil.copyfile(f'/Users/kibeomkim/Desktop/app_sam/apple/{image}.jpg', f'/Users/kibeomkim/Desktop/insta_data/train/apple/{image}.jpg')\n",
    "\n",
    "for image in sam_list : \n",
    "    if image <= 20 : \n",
    "        shutil.copyfile(f'/Users/kibeomkim/Desktop/app_sam/samgalaxy/{image}.jpg', f'/Users/kibeomkim/Desktop/insta_data/test/samsung/{image}.jpg')\n",
    "    else : \n",
    "        shutil.copyfile(f'/Users/kibeomkim/Desktop/app_sam/samgalaxy/{image}.jpg', f'/Users/kibeomkim/Desktop/insta_data/train/samsung/{image}.jpg')"
   ]
  },
  {
   "cell_type": "code",
   "execution_count": 81,
   "metadata": {},
   "outputs": [
    {
     "name": "stdout",
     "output_type": "stream",
     "text": [
      "Found 1778 images belonging to 2 classes.\n",
      "Found 40 images belonging to 2 classes.\n"
     ]
    }
   ],
   "source": [
    "# 이미지 데이터 전처리 # 데이터 증식 사용\n",
    "import keras\n",
    "from keras.preprocessing.image import ImageDataGenerator\n",
    "\n",
    "train_datagen = ImageDataGenerator(\n",
    "    rescale=1./255, \n",
    "    rotation_range=10,\n",
    "    width_shift_range=0.1,\n",
    "    height_shift_range=0.1,\n",
    "    shear_range=0.1,\n",
    "    zoom_range=0.1,\n",
    "    horizontal_flip=True,\n",
    "    fill_mode='nearest')\n",
    "\n",
    "test_datagen = ImageDataGenerator(rescale=1./255) # 검증데이터는 증식하지 않는다.\n",
    "\n",
    "train_generator = train_datagen.flow_from_directory(\n",
    "    '/Users/kibeomkim/Desktop/insta_data/train/', \n",
    "    classes=['apple', 'samsung'],\n",
    "    target_size=(150, 150),\n",
    "    batch_size=15, \n",
    "    class_mode='binary', \n",
    ")\n",
    "\n",
    "validation_generator = test_datagen.flow_from_directory(\n",
    "    '/Users/kibeomkim/Desktop/insta_data/test/',\n",
    "    classes=['apple', 'samsung'],\n",
    "    target_size=(150,150),\n",
    "    batch_size=5,\n",
    "    class_mode='binary', \n",
    ")"
   ]
  },
  {
   "cell_type": "code",
   "execution_count": null,
   "metadata": {},
   "outputs": [],
   "source": [
    "from keras import models \n",
    "from keras import layers \n",
    "\n",
    "# VGG16 합성곱 기반 층 만들기 \n",
    "\n",
    "from keras.applications import vgg16\n",
    "from keras import optimizers\n",
    "\n",
    "# 합성곱 기반 층\n",
    "conv_base = vgg16.VGG16(\n",
    "    weights='imagenet',\n",
    "    include_top = False,\n",
    "    input_shape=(150, 150, 3)\n",
    ")\n",
    "\n",
    "# 모델 정의\n",
    "model = models.Sequential() \n",
    "model.add(conv_base)# 합성곱 기반 층\n",
    "model.add(layers.Flatten()) # 합성곱 기반 층 출력 1차원 텐서(벡터로)변형\n",
    "model.add(layers.BatchNormalization())\n",
    "model.add(layers.Dense(64, activation='relu'))\n",
    "model.add(layers.BatchNormalization())\n",
    "model.add(layers.Dropout(rate=0.5))\n",
    "model.add(layers.Dense(1, activation='sigmoid'))\n",
    "\n",
    "# 합성곱 기반 층 가중치 동결 \n",
    "conv_base.trainable = False\n",
    "print(f'{len(model.trainable_weights)}') \n",
    "\n",
    "\n",
    "# 모델 컴파일 \n",
    "model.compile(\n",
    "    loss='binary_crossentropy',\n",
    "    optimizer=optimizers.adam_v2.Adam(learning_rate=0.001),\n",
    "    metrics=['binary_accuracy']\n",
    ")\n",
    "\n",
    "# 모델 훈련 \n",
    "history = model.fit_generator(\n",
    "    train_generator,\n",
    "    steps_per_epoch = 118, \n",
    "    epochs=10,\n",
    "    validation_data = validation_generator, \n",
    "    validation_steps=8)"
   ]
  },
  {
   "cell_type": "code",
   "execution_count": 52,
   "metadata": {},
   "outputs": [],
   "source": [
    "model.save('/Users/kibeomkim/Desktop/80_model.h5') # 모델 저장 "
   ]
  },
  {
   "cell_type": "markdown",
   "metadata": {},
   "source": [
    "# 미세조정 "
   ]
  },
  {
   "cell_type": "code",
   "execution_count": 76,
   "metadata": {},
   "outputs": [],
   "source": [
    "conv_base.trainable = True \n",
    "\n",
    "set_trainable = False \n",
    "for layer in conv_base.layers : \n",
    "    if layer.name == 'block5_conv3' : \n",
    "        set_trainable = True \n",
    "    if set_trainable : \n",
    "        layer.trainable = True \n",
    "    else : \n",
    "        layer.trainable = False "
   ]
  },
  {
   "cell_type": "code",
   "execution_count": null,
   "metadata": {},
   "outputs": [],
   "source": [
    "# 미세조정 \n",
    "\n",
    "# 컴파일\n",
    "model.compile(\n",
    "    loss='binary_crossentropy',\n",
    "    optimizer=optimizers.adam_v2.Adam(learning_rate=0.0001),\n",
    "    metrics=['binary_accuracy']\n",
    ")\n",
    "# 훈련\n",
    "history = model.fit_generator(\n",
    "    train_generator,\n",
    "    steps_per_epoch=118, \n",
    "    epochs=10, \n",
    "    validation_data=validation_generator,\n",
    "    validation_steps=8,\n",
    ")"
   ]
  },
  {
   "cell_type": "code",
   "execution_count": 55,
   "metadata": {},
   "outputs": [],
   "source": [
    "model.save('/Users/kibeomkim/Desktop/85_model.h5') # 모델 저장 "
   ]
  },
  {
   "cell_type": "markdown",
   "metadata": {},
   "source": [
    "# 일반화 성능 85%, 80%, 75% 세 개 모델 얻었다. "
   ]
  }
 ],
 "metadata": {
  "interpreter": {
   "hash": "35eb7306ee2d642baa30dd47b3f48e3de4de9582bbd530539ad6f76f0b00bf2b"
  },
  "kernelspec": {
   "display_name": "Python 3.8.12 ('tf25')",
   "language": "python",
   "name": "python3"
  },
  "language_info": {
   "codemirror_mode": {
    "name": "ipython",
    "version": 3
   },
   "file_extension": ".py",
   "mimetype": "text/x-python",
   "name": "python",
   "nbconvert_exporter": "python",
   "pygments_lexer": "ipython3",
   "version": "3.8.12"
  },
  "orig_nbformat": 4
 },
 "nbformat": 4,
 "nbformat_minor": 2
}
