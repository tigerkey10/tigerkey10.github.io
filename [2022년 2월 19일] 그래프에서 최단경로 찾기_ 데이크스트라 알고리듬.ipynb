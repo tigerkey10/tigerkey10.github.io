{
 "cells": [
  {
   "cell_type": "markdown",
   "metadata": {},
   "source": [
    "# 그래프에서 최단 경로 찾기 - 데이크스트라 알고리듬 "
   ]
  },
  {
   "cell_type": "code",
   "execution_count": 14,
   "metadata": {},
   "outputs": [],
   "source": [
    "# 정점 수 \n",
    "N = 10 \n",
    "\n",
    "# 출발점\n",
    "s = 0 \n",
    "\n",
    "# 정점 i의 (인접 정점, 간선 가중치) 리스트\n",
    "g = [None for x in range(N)]\n",
    "\n",
    "# 정점 w까지 최단 경로 확정 유무 \n",
    "visited = [False for x in range(N)]\n",
    "\n",
    "# 출발점부터 정점 w 까지 경로 길이 \n",
    "D = [sys.maxsize for x in range(N)]\n",
    "D[s] = 0 \n",
    "\n",
    "# 정점 w의 이전 정점 리스트 \n",
    "previous = [None for x in range(N)]\n",
    "previous[s] = None \n",
    "\n",
    "# 그래프 \n",
    "g[0] = [(2,3),(3,5)]\n",
    "g[1] = [(2,6),(5, 13)]\n",
    "g[2] = [(0, 3), (1,6),(3,1),(5,14)]\n",
    "g[3] = [(0,5),(2,1),(4,7),(6,15)]\n",
    "g[4] = [(3,7),(6,16)]\n",
    "g[5] = [(1,13),(2,14),(8,12),(7,17)]\n",
    "g[6] = [(3,15),(4,16),(7,10),(9,11)]\n",
    "g[7] = [(5,17),(8,9),(6,10),(9,8)]\n",
    "g[8] = [(5,12),(7,9)]\n",
    "g[9] = [(7,8),(6,11)]"
   ]
  },
  {
   "cell_type": "code",
   "execution_count": 15,
   "metadata": {},
   "outputs": [],
   "source": [
    "# 데이크스트라 알고리듬 정의 \n",
    "\n",
    "import sys \n",
    "\n",
    "for k in range(N) : \n",
    "    m = -1\n",
    "    min_value = sys.maxsize \n",
    "        \n",
    "    for i in range(N) : \n",
    "        if not visited[i] and (D[i] < min_value) : \n",
    "            min_value = D[i] # 최소 경로 길이 \n",
    "            m = i # 출발점에서 가장 가까운 정점 m \n",
    "    visited[m] = True # 방문 완료: 최단 경로 확정. 갱신 더 이상 안 한다.\n",
    "    \n",
    "    for w, wt in g[m] : # 정점 m의 (인접 정점, 가중치)\n",
    "        if not visited[w] : # 출발~정점 w 까지 최단거리 아직 확정 못 지었다면 \n",
    "            # 최단경로 갱신(간선완화)\n",
    "            if (D[m] + wt) < D[w] : # 기존 경로보다 최단 경로면 \n",
    "                D[w] = D[m] + wt # 간선완화 \n",
    "                previous[w] = m "
   ]
  },
  {
   "cell_type": "code",
   "execution_count": 16,
   "metadata": {},
   "outputs": [
    {
     "name": "stdout",
     "output_type": "stream",
     "text": [
      "출발점 0 로 부터 정점 i의 최단거리\n",
      "[0, 0] = 0\n",
      "[0, 1] = 9\n",
      "[0, 2] = 3\n",
      "[0, 3] = 4\n",
      "[0, 4] = 11\n",
      "[0, 5] = 17\n",
      "[0, 6] = 19\n",
      "[0, 7] = 29\n",
      "[0, 8] = 29\n",
      "[0, 9] = 30\n"
     ]
    }
   ],
   "source": [
    "print(f'출발점 {s} 로 부터 정점 i의 최단거리')\n",
    "for i in range(N) : \n",
    "    if D[i] == sys.maxsize : \n",
    "        print(f'출발점 {s}와 정점 {i} 사이 경로 없음')\n",
    "    else : \n",
    "        print(f'[{s}, {i}] = {D[i]}')"
   ]
  },
  {
   "cell_type": "code",
   "execution_count": 17,
   "metadata": {},
   "outputs": [
    {
     "name": "stdout",
     "output_type": "stream",
     "text": [
      "출발점 0 로 부터 정점 i 까지 최단경로\n",
      "0\n",
      "1<-2<-0\n",
      "2<-0\n",
      "3<-2<-0\n",
      "4<-3<-2<-0\n",
      "5<-2<-0\n",
      "6<-3<-2<-0\n",
      "7<-6<-3<-2<-0\n",
      "8<-5<-2<-0\n",
      "9<-6<-3<-2<-0\n"
     ]
    }
   ],
   "source": [
    "print(f'출발점 {s} 로 부터 정점 i 까지 최단경로')\n",
    "for i in range(N) : \n",
    "    vertex = i # 현재 정점 i \n",
    "    print(vertex, end='')\n",
    "    while (vertex != s) : \n",
    "        print(f'<-{previous[vertex]}', end='')\n",
    "        vertex = previous[vertex]\n",
    "    print() "
   ]
  },
  {
   "cell_type": "markdown",
   "metadata": {},
   "source": [
    "# 시도 2 "
   ]
  },
  {
   "cell_type": "code",
   "execution_count": 4,
   "metadata": {},
   "outputs": [],
   "source": [
    "N = 10 \n",
    "s = 0 \n",
    "\n",
    "g = [None for x in range(N)]\n",
    "\n",
    "visited = [False for x in range(N)]\n",
    "\n",
    "D = [sys.maxsize for x in range(N)]\n",
    "D[s] = 0 \n",
    "\n",
    "previous = [None for x in range(N)]\n",
    "previous[s] = None \n",
    "\n",
    "g[0] = [(1, 7), (2, 6)]\n",
    "g[1] = [(0, 7), (2, 5), (6, 13), (3, 9)]\n",
    "g[2] = [(0, 6), (1, 5), (5, 8), (4, 2)]\n",
    "g[3] = [(1, 9)]\n",
    "g[4] = [(2, 2), (9, 1)]\n",
    "g[5] = [(2, 8)]\n",
    "g[6] = [(1, 13), (8, 11), (7, 10)]\n",
    "g[7] = [(6, 10)]\n",
    "g[8] = [(6, 11)]\n",
    "g[9] = [(4,1)]"
   ]
  },
  {
   "cell_type": "code",
   "execution_count": 5,
   "metadata": {},
   "outputs": [],
   "source": [
    "# 데이크스트라 알고리듬 정의 \n",
    "\n",
    "import sys \n",
    "\n",
    "for k in range(N) : \n",
    "    m = -1\n",
    "    min_value = sys.maxsize \n",
    "        \n",
    "    for i in range(N) : \n",
    "        if not visited[i] and (D[i] < min_value) : \n",
    "            min_value = D[i] # 최소 경로 길이 \n",
    "            m = i # 출발점에서 가장 가까운 정점 m \n",
    "    visited[m] = True # 방문 완료: 최단 경로 확정. 갱신 더 이상 안 한다.\n",
    "    \n",
    "    for w, wt in g[m] : # 정점 m의 (인접 정점, 가중치)\n",
    "        if not visited[w] : # 출발~정점 w 까지 최단거리 아직 확정 못 지었다면 \n",
    "            # 최단경로 갱신(간선완화)\n",
    "            if (D[m] + wt) < D[w] : # 기존 경로보다 최단 경로면 \n",
    "                D[w] = D[m] + wt # 간선완화 \n",
    "                previous[w] = m "
   ]
  },
  {
   "cell_type": "code",
   "execution_count": 6,
   "metadata": {},
   "outputs": [
    {
     "name": "stdout",
     "output_type": "stream",
     "text": [
      "출발점 0 로 부터 정점 i의 최단거리\n",
      "[0, 0] = 0\n",
      "[0, 1] = 7\n",
      "[0, 2] = 6\n",
      "[0, 3] = 16\n",
      "[0, 4] = 8\n",
      "[0, 5] = 14\n",
      "[0, 6] = 20\n",
      "[0, 7] = 30\n",
      "[0, 8] = 31\n",
      "[0, 9] = 9\n"
     ]
    }
   ],
   "source": [
    "print(f'출발점 {s} 로 부터 정점 i의 최단거리')\n",
    "for i in range(N) : \n",
    "    if D[i] == sys.maxsize : \n",
    "        print(f'출발점 {s}와 정점 {i} 사이 경로 없음')\n",
    "    else : \n",
    "        print(f'[{s}, {i}] = {D[i]}')"
   ]
  },
  {
   "cell_type": "code",
   "execution_count": 7,
   "metadata": {},
   "outputs": [
    {
     "name": "stdout",
     "output_type": "stream",
     "text": [
      "출발점 0 로 부터 정점 i 까지 최단경로\n",
      "0\n",
      "1<-0\n",
      "2<-0\n",
      "3<-1<-0\n",
      "4<-2<-0\n",
      "5<-2<-0\n",
      "6<-1<-0\n",
      "7<-6<-1<-0\n",
      "8<-6<-1<-0\n",
      "9<-4<-2<-0\n"
     ]
    }
   ],
   "source": [
    "print(f'출발점 {s} 로 부터 정점 i 까지 최단경로')\n",
    "for i in range(N) : \n",
    "    vertex = i # 현재 정점 i \n",
    "    print(vertex, end='')\n",
    "    while (vertex != s) : \n",
    "        print(f'<-{previous[vertex]}', end='')\n",
    "        vertex = previous[vertex]\n",
    "    print() "
   ]
  }
 ],
 "metadata": {
  "interpreter": {
   "hash": "35eb7306ee2d642baa30dd47b3f48e3de4de9582bbd530539ad6f76f0b00bf2b"
  },
  "kernelspec": {
   "display_name": "Python 3.8.12 ('tf25')",
   "language": "python",
   "name": "python3"
  },
  "language_info": {
   "codemirror_mode": {
    "name": "ipython",
    "version": 3
   },
   "file_extension": ".py",
   "mimetype": "text/x-python",
   "name": "python",
   "nbconvert_exporter": "python",
   "pygments_lexer": "ipython3",
   "version": "3.8.5"
  },
  "orig_nbformat": 4
 },
 "nbformat": 4,
 "nbformat_minor": 2
}
