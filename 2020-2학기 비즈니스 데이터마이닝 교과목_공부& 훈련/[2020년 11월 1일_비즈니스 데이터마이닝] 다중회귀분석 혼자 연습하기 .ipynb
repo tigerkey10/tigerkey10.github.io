{
 "cells": [
  {
   "cell_type": "code",
   "execution_count": 1,
   "metadata": {},
   "outputs": [],
   "source": [
    "import pandas as pd\n",
    "import numpy as np"
   ]
  },
  {
   "cell_type": "code",
   "execution_count": 2,
   "metadata": {},
   "outputs": [],
   "source": [
    "import statsmodels.api as sm"
   ]
  },
  {
   "cell_type": "code",
   "execution_count": 6,
   "metadata": {},
   "outputs": [
    {
     "name": "stdout",
     "output_type": "stream",
     "text": [
      "<class 'pandas.core.frame.DataFrame'>\n",
      "RangeIndex: 153 entries, 0 to 152\n",
      "Data columns (total 6 columns):\n",
      " #   Column   Non-Null Count  Dtype  \n",
      "---  ------   --------------  -----  \n",
      " 0   Ozone    116 non-null    float64\n",
      " 1   Solar.R  146 non-null    float64\n",
      " 2   Wind     153 non-null    float64\n",
      " 3   Temp     153 non-null    int64  \n",
      " 4   Month    153 non-null    int64  \n",
      " 5   Day      153 non-null    int64  \n",
      "dtypes: float64(3), int64(3)\n",
      "memory usage: 7.3 KB\n"
     ]
    }
   ],
   "source": [
    "df= pd.read_csv('c:/bd092_data/ozone.csv')\n",
    "df.head()\n",
    "df.info()"
   ]
  },
  {
   "cell_type": "code",
   "execution_count": 9,
   "metadata": {},
   "outputs": [],
   "source": [
    "df['Ozone'] = df['Ozone'].fillna(df['Ozone'].mean())\n",
    "df['Solar.R'] = df['Solar.R'].fillna(df['Solar.R'].mean())"
   ]
  },
  {
   "cell_type": "code",
   "execution_count": 10,
   "metadata": {},
   "outputs": [
    {
     "name": "stdout",
     "output_type": "stream",
     "text": [
      "<class 'pandas.core.frame.DataFrame'>\n",
      "RangeIndex: 153 entries, 0 to 152\n",
      "Data columns (total 6 columns):\n",
      " #   Column   Non-Null Count  Dtype  \n",
      "---  ------   --------------  -----  \n",
      " 0   Ozone    153 non-null    float64\n",
      " 1   Solar.R  153 non-null    float64\n",
      " 2   Wind     153 non-null    float64\n",
      " 3   Temp     153 non-null    int64  \n",
      " 4   Month    153 non-null    int64  \n",
      " 5   Day      153 non-null    int64  \n",
      "dtypes: float64(3), int64(3)\n",
      "memory usage: 7.3 KB\n"
     ]
    }
   ],
   "source": [
    "df.info()"
   ]
  },
  {
   "cell_type": "code",
   "execution_count": 12,
   "metadata": {},
   "outputs": [
    {
     "data": {
      "text/plain": [
       "Ozone      0\n",
       "Solar.R    0\n",
       "Wind       0\n",
       "Temp       0\n",
       "Month      0\n",
       "Day        0\n",
       "dtype: int64"
      ]
     },
     "execution_count": 12,
     "metadata": {},
     "output_type": "execute_result"
    }
   ],
   "source": [
    "df.isnull().sum()"
   ]
  },
  {
   "cell_type": "code",
   "execution_count": 14,
   "metadata": {},
   "outputs": [],
   "source": [
    "x = df[['Temp', 'Solar.R', 'Wind']]\n",
    "y = df['Ozone']"
   ]
  },
  {
   "cell_type": "code",
   "execution_count": 17,
   "metadata": {},
   "outputs": [
    {
     "data": {
      "text/html": [
       "<div>\n",
       "<style scoped>\n",
       "    .dataframe tbody tr th:only-of-type {\n",
       "        vertical-align: middle;\n",
       "    }\n",
       "\n",
       "    .dataframe tbody tr th {\n",
       "        vertical-align: top;\n",
       "    }\n",
       "\n",
       "    .dataframe thead th {\n",
       "        text-align: right;\n",
       "    }\n",
       "</style>\n",
       "<table border=\"1\" class=\"dataframe\">\n",
       "  <thead>\n",
       "    <tr style=\"text-align: right;\">\n",
       "      <th></th>\n",
       "      <th>const</th>\n",
       "      <th>Temp</th>\n",
       "      <th>Solar.R</th>\n",
       "      <th>Wind</th>\n",
       "    </tr>\n",
       "  </thead>\n",
       "  <tbody>\n",
       "    <tr>\n",
       "      <th>0</th>\n",
       "      <td>1.0</td>\n",
       "      <td>67</td>\n",
       "      <td>190.000000</td>\n",
       "      <td>7.4</td>\n",
       "    </tr>\n",
       "    <tr>\n",
       "      <th>1</th>\n",
       "      <td>1.0</td>\n",
       "      <td>72</td>\n",
       "      <td>118.000000</td>\n",
       "      <td>8.0</td>\n",
       "    </tr>\n",
       "    <tr>\n",
       "      <th>2</th>\n",
       "      <td>1.0</td>\n",
       "      <td>74</td>\n",
       "      <td>149.000000</td>\n",
       "      <td>12.6</td>\n",
       "    </tr>\n",
       "    <tr>\n",
       "      <th>3</th>\n",
       "      <td>1.0</td>\n",
       "      <td>62</td>\n",
       "      <td>313.000000</td>\n",
       "      <td>11.5</td>\n",
       "    </tr>\n",
       "    <tr>\n",
       "      <th>4</th>\n",
       "      <td>1.0</td>\n",
       "      <td>56</td>\n",
       "      <td>185.931507</td>\n",
       "      <td>14.3</td>\n",
       "    </tr>\n",
       "    <tr>\n",
       "      <th>...</th>\n",
       "      <td>...</td>\n",
       "      <td>...</td>\n",
       "      <td>...</td>\n",
       "      <td>...</td>\n",
       "    </tr>\n",
       "    <tr>\n",
       "      <th>148</th>\n",
       "      <td>1.0</td>\n",
       "      <td>70</td>\n",
       "      <td>193.000000</td>\n",
       "      <td>6.9</td>\n",
       "    </tr>\n",
       "    <tr>\n",
       "      <th>149</th>\n",
       "      <td>1.0</td>\n",
       "      <td>77</td>\n",
       "      <td>145.000000</td>\n",
       "      <td>13.2</td>\n",
       "    </tr>\n",
       "    <tr>\n",
       "      <th>150</th>\n",
       "      <td>1.0</td>\n",
       "      <td>75</td>\n",
       "      <td>191.000000</td>\n",
       "      <td>14.3</td>\n",
       "    </tr>\n",
       "    <tr>\n",
       "      <th>151</th>\n",
       "      <td>1.0</td>\n",
       "      <td>76</td>\n",
       "      <td>131.000000</td>\n",
       "      <td>8.0</td>\n",
       "    </tr>\n",
       "    <tr>\n",
       "      <th>152</th>\n",
       "      <td>1.0</td>\n",
       "      <td>68</td>\n",
       "      <td>223.000000</td>\n",
       "      <td>11.5</td>\n",
       "    </tr>\n",
       "  </tbody>\n",
       "</table>\n",
       "<p>153 rows × 4 columns</p>\n",
       "</div>"
      ],
      "text/plain": [
       "     const  Temp     Solar.R  Wind\n",
       "0      1.0    67  190.000000   7.4\n",
       "1      1.0    72  118.000000   8.0\n",
       "2      1.0    74  149.000000  12.6\n",
       "3      1.0    62  313.000000  11.5\n",
       "4      1.0    56  185.931507  14.3\n",
       "..     ...   ...         ...   ...\n",
       "148    1.0    70  193.000000   6.9\n",
       "149    1.0    77  145.000000  13.2\n",
       "150    1.0    75  191.000000  14.3\n",
       "151    1.0    76  131.000000   8.0\n",
       "152    1.0    68  223.000000  11.5\n",
       "\n",
       "[153 rows x 4 columns]"
      ]
     },
     "execution_count": 17,
     "metadata": {},
     "output_type": "execute_result"
    }
   ],
   "source": [
    "x1 = sm.add_constant(x, has_constant='add')\n",
    "x1"
   ]
  },
  {
   "cell_type": "code",
   "execution_count": 19,
   "metadata": {},
   "outputs": [
    {
     "data": {
      "text/html": [
       "<table class=\"simpletable\">\n",
       "<caption>OLS Regression Results</caption>\n",
       "<tr>\n",
       "  <th>Dep. Variable:</th>          <td>Ozone</td>      <th>  R-squared:         </th> <td>   0.480</td>\n",
       "</tr>\n",
       "<tr>\n",
       "  <th>Model:</th>                   <td>OLS</td>       <th>  Adj. R-squared:    </th> <td>   0.470</td>\n",
       "</tr>\n",
       "<tr>\n",
       "  <th>Method:</th>             <td>Least Squares</td>  <th>  F-statistic:       </th> <td>   45.85</td>\n",
       "</tr>\n",
       "<tr>\n",
       "  <th>Date:</th>             <td>Sun, 01 Nov 2020</td> <th>  Prob (F-statistic):</th> <td>4.73e-21</td>\n",
       "</tr>\n",
       "<tr>\n",
       "  <th>Time:</th>                 <td>20:44:14</td>     <th>  Log-Likelihood:    </th> <td> -680.14</td>\n",
       "</tr>\n",
       "<tr>\n",
       "  <th>No. Observations:</th>      <td>   153</td>      <th>  AIC:               </th> <td>   1368.</td>\n",
       "</tr>\n",
       "<tr>\n",
       "  <th>Df Residuals:</th>          <td>   149</td>      <th>  BIC:               </th> <td>   1380.</td>\n",
       "</tr>\n",
       "<tr>\n",
       "  <th>Df Model:</th>              <td>     3</td>      <th>                     </th>     <td> </td>   \n",
       "</tr>\n",
       "<tr>\n",
       "  <th>Covariance Type:</th>      <td>nonrobust</td>    <th>                     </th>     <td> </td>   \n",
       "</tr>\n",
       "</table>\n",
       "<table class=\"simpletable\">\n",
       "<tr>\n",
       "     <td></td>        <th>coef</th>     <th>std err</th>      <th>t</th>      <th>P>|t|</th>  <th>[0.025</th>    <th>0.975]</th>  \n",
       "</tr>\n",
       "<tr>\n",
       "  <th>const</th>   <td>  -38.2232</td> <td>   18.883</td> <td>   -2.024</td> <td> 0.045</td> <td>  -75.537</td> <td>   -0.909</td>\n",
       "</tr>\n",
       "<tr>\n",
       "  <th>Temp</th>    <td>    1.2413</td> <td>    0.209</td> <td>    5.937</td> <td> 0.000</td> <td>    0.828</td> <td>    1.654</td>\n",
       "</tr>\n",
       "<tr>\n",
       "  <th>Solar.R</th> <td>    0.0577</td> <td>    0.020</td> <td>    2.883</td> <td> 0.005</td> <td>    0.018</td> <td>    0.097</td>\n",
       "</tr>\n",
       "<tr>\n",
       "  <th>Wind</th>    <td>   -2.7173</td> <td>    0.543</td> <td>   -5.006</td> <td> 0.000</td> <td>   -3.790</td> <td>   -1.645</td>\n",
       "</tr>\n",
       "</table>\n",
       "<table class=\"simpletable\">\n",
       "<tr>\n",
       "  <th>Omnibus:</th>       <td>50.473</td> <th>  Durbin-Watson:     </th> <td>   1.650</td>\n",
       "</tr>\n",
       "<tr>\n",
       "  <th>Prob(Omnibus):</th> <td> 0.000</td> <th>  Jarque-Bera (JB):  </th> <td> 123.388</td>\n",
       "</tr>\n",
       "<tr>\n",
       "  <th>Skew:</th>          <td> 1.378</td> <th>  Prob(JB):          </th> <td>1.61e-27</td>\n",
       "</tr>\n",
       "<tr>\n",
       "  <th>Kurtosis:</th>      <td> 6.429</td> <th>  Cond. No.          </th> <td>2.44e+03</td>\n",
       "</tr>\n",
       "</table><br/><br/>Warnings:<br/>[1] Standard Errors assume that the covariance matrix of the errors is correctly specified.<br/>[2] The condition number is large, 2.44e+03. This might indicate that there are<br/>strong multicollinearity or other numerical problems."
      ],
      "text/plain": [
       "<class 'statsmodels.iolib.summary.Summary'>\n",
       "\"\"\"\n",
       "                            OLS Regression Results                            \n",
       "==============================================================================\n",
       "Dep. Variable:                  Ozone   R-squared:                       0.480\n",
       "Model:                            OLS   Adj. R-squared:                  0.470\n",
       "Method:                 Least Squares   F-statistic:                     45.85\n",
       "Date:                Sun, 01 Nov 2020   Prob (F-statistic):           4.73e-21\n",
       "Time:                        20:44:14   Log-Likelihood:                -680.14\n",
       "No. Observations:                 153   AIC:                             1368.\n",
       "Df Residuals:                     149   BIC:                             1380.\n",
       "Df Model:                           3                                         \n",
       "Covariance Type:            nonrobust                                         \n",
       "==============================================================================\n",
       "                 coef    std err          t      P>|t|      [0.025      0.975]\n",
       "------------------------------------------------------------------------------\n",
       "const        -38.2232     18.883     -2.024      0.045     -75.537      -0.909\n",
       "Temp           1.2413      0.209      5.937      0.000       0.828       1.654\n",
       "Solar.R        0.0577      0.020      2.883      0.005       0.018       0.097\n",
       "Wind          -2.7173      0.543     -5.006      0.000      -3.790      -1.645\n",
       "==============================================================================\n",
       "Omnibus:                       50.473   Durbin-Watson:                   1.650\n",
       "Prob(Omnibus):                  0.000   Jarque-Bera (JB):              123.388\n",
       "Skew:                           1.378   Prob(JB):                     1.61e-27\n",
       "Kurtosis:                       6.429   Cond. No.                     2.44e+03\n",
       "==============================================================================\n",
       "\n",
       "Warnings:\n",
       "[1] Standard Errors assume that the covariance matrix of the errors is correctly specified.\n",
       "[2] The condition number is large, 2.44e+03. This might indicate that there are\n",
       "strong multicollinearity or other numerical problems.\n",
       "\"\"\""
      ]
     },
     "execution_count": 19,
     "metadata": {},
     "output_type": "execute_result"
    }
   ],
   "source": [
    "multi_model = sm.OLS(y,x1).fit()\n",
    "multi_model.summary()"
   ]
  },
  {
   "cell_type": "code",
   "execution_count": 23,
   "metadata": {},
   "outputs": [
    {
     "data": {
      "image/png": "[encoded data removed]",
      "text/plain": [
       "<Figure size 432x288 with 1 Axes>"
      ]
     },
     "metadata": {},
     "output_type": "display_data"
    }
   ],
   "source": [
    "cat = multi_model.params.sort_values(ascending=True)\n",
    "import matplotlib.pyplot as plt\n",
    "plt.pie(cat, labels=cat.index, autopct='%.2f%%')\n",
    "plt.show()"
   ]
  },
  {
   "cell_type": "code",
   "execution_count": 24,
   "metadata": {},
   "outputs": [
    {
     "data": {
      "text/plain": [
       "<seaborn.axisgrid.FacetGrid at 0x2ae69f12040>"
      ]
     },
     "execution_count": 24,
     "metadata": {},
     "output_type": "execute_result"
    },
    {
     "data": {
      "image/png": "[encoded data removed]",
      "text/plain": [
       "<Figure size 360x360 with 1 Axes>"
      ]
     },
     "metadata": {
      "needs_background": "light"
     },
     "output_type": "display_data"
    }
   ],
   "source": [
    "import seaborn as sns\n",
    "sns.lmplot(y='Ozone', x='Temp', data=df)"
   ]
  },
  {
   "cell_type": "code",
   "execution_count": 25,
   "metadata": {},
   "outputs": [
    {
     "data": {
      "text/plain": [
       "<seaborn.axisgrid.FacetGrid at 0x2ae68fcf880>"
      ]
     },
     "execution_count": 25,
     "metadata": {},
     "output_type": "execute_result"
    },
    {
     "data": {
      "image/png": "[encoded data removed]",
      "text/plain": [
       "<Figure size 360x360 with 1 Axes>"
      ]
     },
     "metadata": {
      "needs_background": "light"
     },
     "output_type": "display_data"
    }
   ],
   "source": [
    "sns.lmplot(y='Ozone', x='Wind', data=df)"
   ]
  },
  {
   "cell_type": "code",
   "execution_count": 26,
   "metadata": {},
   "outputs": [
    {
     "data": {
      "text/plain": [
       "<seaborn.axisgrid.FacetGrid at 0x2ae6ad89a30>"
      ]
     },
     "execution_count": 26,
     "metadata": {},
     "output_type": "execute_result"
    },
    {
     "data": {
      "image/png": "[encoded data removed]",
      "text/plain": [
       "<Figure size 360x360 with 1 Axes>"
      ]
     },
     "metadata": {
      "needs_background": "light"
     },
     "output_type": "display_data"
    }
   ],
   "source": [
    "sns.lmplot(y='Ozone', x='Solar.R', data=df)"
   ]
  },
  {
   "cell_type": "markdown",
   "metadata": {},
   "source": [
    "# 칼럼 이름 바꾸기"
   ]
  },
  {
   "cell_type": "code",
   "execution_count": 11,
   "metadata": {},
   "outputs": [
    {
     "data": {
      "text/html": [
       "<div>\n",
       "<style scoped>\n",
       "    .dataframe tbody tr th:only-of-type {\n",
       "        vertical-align: middle;\n",
       "    }\n",
       "\n",
       "    .dataframe tbody tr th {\n",
       "        vertical-align: top;\n",
       "    }\n",
       "\n",
       "    .dataframe thead th {\n",
       "        text-align: right;\n",
       "    }\n",
       "</style>\n",
       "<table border=\"1\" class=\"dataframe\">\n",
       "  <thead>\n",
       "    <tr style=\"text-align: right;\">\n",
       "      <th></th>\n",
       "      <th>Invoice</th>\n",
       "      <th>StockCode</th>\n",
       "      <th>Description</th>\n",
       "      <th>Quantity</th>\n",
       "      <th>InvoiceDate</th>\n",
       "      <th>UnitPrice</th>\n",
       "      <th>CustomerID</th>\n",
       "      <th>Country</th>\n",
       "    </tr>\n",
       "  </thead>\n",
       "  <tbody>\n",
       "    <tr>\n",
       "      <th>0</th>\n",
       "      <td>536365</td>\n",
       "      <td>85123A</td>\n",
       "      <td>WHITE HANGING HEART T-LIGHT HOLDER</td>\n",
       "      <td>6</td>\n",
       "      <td>12/1/2010 8:26</td>\n",
       "      <td>2.55</td>\n",
       "      <td>17850.0</td>\n",
       "      <td>United Kingdom</td>\n",
       "    </tr>\n",
       "    <tr>\n",
       "      <th>1</th>\n",
       "      <td>536365</td>\n",
       "      <td>71053</td>\n",
       "      <td>WHITE METAL LANTERN</td>\n",
       "      <td>6</td>\n",
       "      <td>12/1/2010 8:26</td>\n",
       "      <td>3.39</td>\n",
       "      <td>17850.0</td>\n",
       "      <td>United Kingdom</td>\n",
       "    </tr>\n",
       "    <tr>\n",
       "      <th>2</th>\n",
       "      <td>536365</td>\n",
       "      <td>84406B</td>\n",
       "      <td>CREAM CUPID HEARTS COAT HANGER</td>\n",
       "      <td>8</td>\n",
       "      <td>12/1/2010 8:26</td>\n",
       "      <td>2.75</td>\n",
       "      <td>17850.0</td>\n",
       "      <td>United Kingdom</td>\n",
       "    </tr>\n",
       "    <tr>\n",
       "      <th>5</th>\n",
       "      <td>536365</td>\n",
       "      <td>84029G</td>\n",
       "      <td>KNITTED UNION FLAG HOT WATER BOTTLE</td>\n",
       "      <td>6</td>\n",
       "      <td>12/1/2010 8:26</td>\n",
       "      <td>3.39</td>\n",
       "      <td>17850.0</td>\n",
       "      <td>United Kingdom</td>\n",
       "    </tr>\n",
       "    <tr>\n",
       "      <th>4</th>\n",
       "      <td>536365</td>\n",
       "      <td>84029E</td>\n",
       "      <td>RED WOOLLY HOTTIE WHITE HEART.</td>\n",
       "      <td>6</td>\n",
       "      <td>12/1/2010 8:26</td>\n",
       "      <td>3.39</td>\n",
       "      <td>17850.0</td>\n",
       "      <td>United Kingdom</td>\n",
       "    </tr>\n",
       "    <tr>\n",
       "      <th>...</th>\n",
       "      <td>...</td>\n",
       "      <td>...</td>\n",
       "      <td>...</td>\n",
       "      <td>...</td>\n",
       "      <td>...</td>\n",
       "      <td>...</td>\n",
       "      <td>...</td>\n",
       "      <td>...</td>\n",
       "    </tr>\n",
       "    <tr>\n",
       "      <th>63670</th>\n",
       "      <td>C541589</td>\n",
       "      <td>79323W</td>\n",
       "      <td>WHITE CHERRY LIGHTS</td>\n",
       "      <td>-8</td>\n",
       "      <td>1/19/2011 14:44</td>\n",
       "      <td>6.75</td>\n",
       "      <td>15831.0</td>\n",
       "      <td>United Kingdom</td>\n",
       "    </tr>\n",
       "    <tr>\n",
       "      <th>63671</th>\n",
       "      <td>541590</td>\n",
       "      <td>84580</td>\n",
       "      <td>MOUSE TOY WITH PINK T-SHIRT</td>\n",
       "      <td>4</td>\n",
       "      <td>1/19/2011 14:50</td>\n",
       "      <td>3.75</td>\n",
       "      <td>13310.0</td>\n",
       "      <td>United Kingdom</td>\n",
       "    </tr>\n",
       "    <tr>\n",
       "      <th>63672</th>\n",
       "      <td>541590</td>\n",
       "      <td>22295</td>\n",
       "      <td>HEART FILIGREE DOVE LARGE</td>\n",
       "      <td>12</td>\n",
       "      <td>1/19/2011 14:50</td>\n",
       "      <td>1.65</td>\n",
       "      <td>13310.0</td>\n",
       "      <td>United Kingdom</td>\n",
       "    </tr>\n",
       "    <tr>\n",
       "      <th>63673</th>\n",
       "      <td>541590</td>\n",
       "      <td>85231B</td>\n",
       "      <td>CINAMMON SET OF 9 T-LIGHTS</td>\n",
       "      <td>12</td>\n",
       "      <td>1/19/2011 14:50</td>\n",
       "      <td>0.85</td>\n",
       "      <td>13310.0</td>\n",
       "      <td>United Kingdom</td>\n",
       "    </tr>\n",
       "    <tr>\n",
       "      <th>63674</th>\n",
       "      <td>541590</td>\n",
       "      <td>21613</td>\n",
       "      <td>S/12 VANILLA  BOTANICAL T-LIGHTS</td>\n",
       "      <td>6</td>\n",
       "      <td>1/19/2011 14:50</td>\n",
       "      <td>2.95</td>\n",
       "      <td>13310.0</td>\n",
       "      <td>United Kingdom</td>\n",
       "    </tr>\n",
       "  </tbody>\n",
       "</table>\n",
       "<p>63675 rows × 8 columns</p>\n",
       "</div>"
      ],
      "text/plain": [
       "       Invoice StockCode                          Description  Quantity  \\\n",
       "0       536365    85123A   WHITE HANGING HEART T-LIGHT HOLDER         6   \n",
       "1       536365     71053                  WHITE METAL LANTERN         6   \n",
       "2       536365    84406B       CREAM CUPID HEARTS COAT HANGER         8   \n",
       "5       536365    84029G  KNITTED UNION FLAG HOT WATER BOTTLE         6   \n",
       "4       536365    84029E       RED WOOLLY HOTTIE WHITE HEART.         6   \n",
       "...        ...       ...                                  ...       ...   \n",
       "63670  C541589    79323W                  WHITE CHERRY LIGHTS        -8   \n",
       "63671   541590     84580          MOUSE TOY WITH PINK T-SHIRT         4   \n",
       "63672   541590     22295            HEART FILIGREE DOVE LARGE        12   \n",
       "63673   541590    85231B           CINAMMON SET OF 9 T-LIGHTS        12   \n",
       "63674   541590     21613     S/12 VANILLA  BOTANICAL T-LIGHTS         6   \n",
       "\n",
       "           InvoiceDate  UnitPrice  CustomerID         Country  \n",
       "0       12/1/2010 8:26       2.55     17850.0  United Kingdom  \n",
       "1       12/1/2010 8:26       3.39     17850.0  United Kingdom  \n",
       "2       12/1/2010 8:26       2.75     17850.0  United Kingdom  \n",
       "5       12/1/2010 8:26       3.39     17850.0  United Kingdom  \n",
       "4       12/1/2010 8:26       3.39     17850.0  United Kingdom  \n",
       "...                ...        ...         ...             ...  \n",
       "63670  1/19/2011 14:44       6.75     15831.0  United Kingdom  \n",
       "63671  1/19/2011 14:50       3.75     13310.0  United Kingdom  \n",
       "63672  1/19/2011 14:50       1.65     13310.0  United Kingdom  \n",
       "63673  1/19/2011 14:50       0.85     13310.0  United Kingdom  \n",
       "63674  1/19/2011 14:50       2.95     13310.0  United Kingdom  \n",
       "\n",
       "[63675 rows x 8 columns]"
      ]
     },
     "execution_count": 11,
     "metadata": {},
     "output_type": "execute_result"
    }
   ],
   "source": [
    "import pandas as pd\n",
    "import numpy as np\n",
    "df = pd.read_csv('c:/bd092_data/NewOnlineRetail.csv')\n",
    "df.head()\n",
    "df = df.rename(columns={'InvoiceNo':'Invoice'})\n",
    "df\n",
    "df.rename(index={3:5}, inplace=True)\n",
    "df"
   ]
  },
  {
   "cell_type": "code",
   "execution_count": 26,
   "metadata": {},
   "outputs": [
    {
     "data": {
      "text/html": [
       "<div>\n",
       "<style scoped>\n",
       "    .dataframe tbody tr th:only-of-type {\n",
       "        vertical-align: middle;\n",
       "    }\n",
       "\n",
       "    .dataframe tbody tr th {\n",
       "        vertical-align: top;\n",
       "    }\n",
       "\n",
       "    .dataframe thead th {\n",
       "        text-align: right;\n",
       "    }\n",
       "</style>\n",
       "<table border=\"1\" class=\"dataframe\">\n",
       "  <thead>\n",
       "    <tr style=\"text-align: right;\">\n",
       "      <th></th>\n",
       "      <th>Invoice</th>\n",
       "      <th>StockCode</th>\n",
       "      <th>Description</th>\n",
       "      <th>InvoiceDate</th>\n",
       "      <th>UnitPrice</th>\n",
       "      <th>CustomerID</th>\n",
       "    </tr>\n",
       "  </thead>\n",
       "  <tbody>\n",
       "    <tr>\n",
       "      <th>0</th>\n",
       "      <td>536365</td>\n",
       "      <td>85123A</td>\n",
       "      <td>WHITE HANGING HEART T-LIGHT HOLDER</td>\n",
       "      <td>12/1/2010 8:26</td>\n",
       "      <td>2.55</td>\n",
       "      <td>17850.0</td>\n",
       "    </tr>\n",
       "    <tr>\n",
       "      <th>1</th>\n",
       "      <td>536365</td>\n",
       "      <td>71053</td>\n",
       "      <td>WHITE METAL LANTERN</td>\n",
       "      <td>12/1/2010 8:26</td>\n",
       "      <td>3.39</td>\n",
       "      <td>17850.0</td>\n",
       "    </tr>\n",
       "    <tr>\n",
       "      <th>2</th>\n",
       "      <td>536365</td>\n",
       "      <td>84406B</td>\n",
       "      <td>CREAM CUPID HEARTS COAT HANGER</td>\n",
       "      <td>12/1/2010 8:26</td>\n",
       "      <td>2.75</td>\n",
       "      <td>17850.0</td>\n",
       "    </tr>\n",
       "    <tr>\n",
       "      <th>5</th>\n",
       "      <td>536365</td>\n",
       "      <td>84029G</td>\n",
       "      <td>KNITTED UNION FLAG HOT WATER BOTTLE</td>\n",
       "      <td>12/1/2010 8:26</td>\n",
       "      <td>3.39</td>\n",
       "      <td>17850.0</td>\n",
       "    </tr>\n",
       "    <tr>\n",
       "      <th>4</th>\n",
       "      <td>536365</td>\n",
       "      <td>84029E</td>\n",
       "      <td>RED WOOLLY HOTTIE WHITE HEART.</td>\n",
       "      <td>12/1/2010 8:26</td>\n",
       "      <td>3.39</td>\n",
       "      <td>17850.0</td>\n",
       "    </tr>\n",
       "    <tr>\n",
       "      <th>...</th>\n",
       "      <td>...</td>\n",
       "      <td>...</td>\n",
       "      <td>...</td>\n",
       "      <td>...</td>\n",
       "      <td>...</td>\n",
       "      <td>...</td>\n",
       "    </tr>\n",
       "    <tr>\n",
       "      <th>63670</th>\n",
       "      <td>C541589</td>\n",
       "      <td>79323W</td>\n",
       "      <td>WHITE CHERRY LIGHTS</td>\n",
       "      <td>1/19/2011 14:44</td>\n",
       "      <td>6.75</td>\n",
       "      <td>15831.0</td>\n",
       "    </tr>\n",
       "    <tr>\n",
       "      <th>63671</th>\n",
       "      <td>541590</td>\n",
       "      <td>84580</td>\n",
       "      <td>MOUSE TOY WITH PINK T-SHIRT</td>\n",
       "      <td>1/19/2011 14:50</td>\n",
       "      <td>3.75</td>\n",
       "      <td>13310.0</td>\n",
       "    </tr>\n",
       "    <tr>\n",
       "      <th>63672</th>\n",
       "      <td>541590</td>\n",
       "      <td>22295</td>\n",
       "      <td>HEART FILIGREE DOVE LARGE</td>\n",
       "      <td>1/19/2011 14:50</td>\n",
       "      <td>1.65</td>\n",
       "      <td>13310.0</td>\n",
       "    </tr>\n",
       "    <tr>\n",
       "      <th>63673</th>\n",
       "      <td>541590</td>\n",
       "      <td>85231B</td>\n",
       "      <td>CINAMMON SET OF 9 T-LIGHTS</td>\n",
       "      <td>1/19/2011 14:50</td>\n",
       "      <td>0.85</td>\n",
       "      <td>13310.0</td>\n",
       "    </tr>\n",
       "    <tr>\n",
       "      <th>63674</th>\n",
       "      <td>541590</td>\n",
       "      <td>21613</td>\n",
       "      <td>S/12 VANILLA  BOTANICAL T-LIGHTS</td>\n",
       "      <td>1/19/2011 14:50</td>\n",
       "      <td>2.95</td>\n",
       "      <td>13310.0</td>\n",
       "    </tr>\n",
       "  </tbody>\n",
       "</table>\n",
       "<p>63675 rows × 6 columns</p>\n",
       "</div>"
      ],
      "text/plain": [
       "       Invoice StockCode                          Description  \\\n",
       "0       536365    85123A   WHITE HANGING HEART T-LIGHT HOLDER   \n",
       "1       536365     71053                  WHITE METAL LANTERN   \n",
       "2       536365    84406B       CREAM CUPID HEARTS COAT HANGER   \n",
       "5       536365    84029G  KNITTED UNION FLAG HOT WATER BOTTLE   \n",
       "4       536365    84029E       RED WOOLLY HOTTIE WHITE HEART.   \n",
       "...        ...       ...                                  ...   \n",
       "63670  C541589    79323W                  WHITE CHERRY LIGHTS   \n",
       "63671   541590     84580          MOUSE TOY WITH PINK T-SHIRT   \n",
       "63672   541590     22295            HEART FILIGREE DOVE LARGE   \n",
       "63673   541590    85231B           CINAMMON SET OF 9 T-LIGHTS   \n",
       "63674   541590     21613     S/12 VANILLA  BOTANICAL T-LIGHTS   \n",
       "\n",
       "           InvoiceDate  UnitPrice  CustomerID  \n",
       "0       12/1/2010 8:26       2.55     17850.0  \n",
       "1       12/1/2010 8:26       3.39     17850.0  \n",
       "2       12/1/2010 8:26       2.75     17850.0  \n",
       "5       12/1/2010 8:26       3.39     17850.0  \n",
       "4       12/1/2010 8:26       3.39     17850.0  \n",
       "...                ...        ...         ...  \n",
       "63670  1/19/2011 14:44       6.75     15831.0  \n",
       "63671  1/19/2011 14:50       3.75     13310.0  \n",
       "63672  1/19/2011 14:50       1.65     13310.0  \n",
       "63673  1/19/2011 14:50       0.85     13310.0  \n",
       "63674  1/19/2011 14:50       2.95     13310.0  \n",
       "\n",
       "[63675 rows x 6 columns]"
      ]
     },
     "execution_count": 26,
     "metadata": {},
     "output_type": "execute_result"
    }
   ],
   "source": [
    "df.rename(columns={'Quantity':'Q'}, inplace=True)\n",
    "df\n"
   ]
  },
  {
   "cell_type": "code",
   "execution_count": 28,
   "metadata": {},
   "outputs": [
    {
     "data": {
      "text/html": [
       "<div>\n",
       "<style scoped>\n",
       "    .dataframe tbody tr th:only-of-type {\n",
       "        vertical-align: middle;\n",
       "    }\n",
       "\n",
       "    .dataframe tbody tr th {\n",
       "        vertical-align: top;\n",
       "    }\n",
       "\n",
       "    .dataframe thead th {\n",
       "        text-align: right;\n",
       "    }\n",
       "</style>\n",
       "<table border=\"1\" class=\"dataframe\">\n",
       "  <thead>\n",
       "    <tr style=\"text-align: right;\">\n",
       "      <th></th>\n",
       "      <th>StockCode</th>\n",
       "      <th>Description</th>\n",
       "    </tr>\n",
       "  </thead>\n",
       "  <tbody>\n",
       "    <tr>\n",
       "      <th>10</th>\n",
       "      <td>22745</td>\n",
       "      <td>POPPY'S PLAYHOUSE BEDROOM</td>\n",
       "    </tr>\n",
       "    <tr>\n",
       "      <th>11</th>\n",
       "      <td>22748</td>\n",
       "      <td>POPPY'S PLAYHOUSE KITCHEN</td>\n",
       "    </tr>\n",
       "  </tbody>\n",
       "</table>\n",
       "</div>"
      ],
      "text/plain": [
       "   StockCode                 Description\n",
       "10     22745  POPPY'S PLAYHOUSE BEDROOM \n",
       "11     22748   POPPY'S PLAYHOUSE KITCHEN"
      ]
     },
     "execution_count": 28,
     "metadata": {},
     "output_type": "execute_result"
    }
   ],
   "source": [
    "df.loc[10:11, ['StockCode', 'Description']]"
   ]
  },
  {
   "cell_type": "code",
   "execution_count": 30,
   "metadata": {},
   "outputs": [
    {
     "data": {
      "text/plain": [
       "InvoiceDate    12/1/2010 8:26\n",
       "CustomerID              17850\n",
       "Name: 5, dtype: object"
      ]
     },
     "execution_count": 30,
     "metadata": {},
     "output_type": "execute_result"
    }
   ],
   "source": [
    "df.iloc[3, [3,5]]"
   ]
  },
  {
   "cell_type": "code",
   "execution_count": 35,
   "metadata": {},
   "outputs": [
    {
     "data": {
      "text/html": [
       "<div>\n",
       "<style scoped>\n",
       "    .dataframe tbody tr th:only-of-type {\n",
       "        vertical-align: middle;\n",
       "    }\n",
       "\n",
       "    .dataframe tbody tr th {\n",
       "        vertical-align: top;\n",
       "    }\n",
       "\n",
       "    .dataframe thead th {\n",
       "        text-align: right;\n",
       "    }\n",
       "</style>\n",
       "<table border=\"1\" class=\"dataframe\">\n",
       "  <thead>\n",
       "    <tr style=\"text-align: right;\">\n",
       "      <th></th>\n",
       "      <th></th>\n",
       "      <th>UnitPrice</th>\n",
       "    </tr>\n",
       "    <tr>\n",
       "      <th>CustomerID</th>\n",
       "      <th></th>\n",
       "      <th></th>\n",
       "    </tr>\n",
       "  </thead>\n",
       "  <tbody>\n",
       "    <tr>\n",
       "      <th>12346.0</th>\n",
       "      <th>UnitPrice</th>\n",
       "      <td>NaN</td>\n",
       "    </tr>\n",
       "    <tr>\n",
       "      <th>12347.0</th>\n",
       "      <th>UnitPrice</th>\n",
       "      <td>1.0</td>\n",
       "    </tr>\n",
       "    <tr>\n",
       "      <th>12348.0</th>\n",
       "      <th>UnitPrice</th>\n",
       "      <td>1.0</td>\n",
       "    </tr>\n",
       "    <tr>\n",
       "      <th>12356.0</th>\n",
       "      <th>UnitPrice</th>\n",
       "      <td>1.0</td>\n",
       "    </tr>\n",
       "    <tr>\n",
       "      <th>12359.0</th>\n",
       "      <th>UnitPrice</th>\n",
       "      <td>1.0</td>\n",
       "    </tr>\n",
       "    <tr>\n",
       "      <th>...</th>\n",
       "      <th>...</th>\n",
       "      <td>...</td>\n",
       "    </tr>\n",
       "    <tr>\n",
       "      <th>18256.0</th>\n",
       "      <th>UnitPrice</th>\n",
       "      <td>1.0</td>\n",
       "    </tr>\n",
       "    <tr>\n",
       "      <th>18259.0</th>\n",
       "      <th>UnitPrice</th>\n",
       "      <td>1.0</td>\n",
       "    </tr>\n",
       "    <tr>\n",
       "      <th>18260.0</th>\n",
       "      <th>UnitPrice</th>\n",
       "      <td>1.0</td>\n",
       "    </tr>\n",
       "    <tr>\n",
       "      <th>18269.0</th>\n",
       "      <th>UnitPrice</th>\n",
       "      <td>1.0</td>\n",
       "    </tr>\n",
       "    <tr>\n",
       "      <th>18283.0</th>\n",
       "      <th>UnitPrice</th>\n",
       "      <td>1.0</td>\n",
       "    </tr>\n",
       "  </tbody>\n",
       "</table>\n",
       "<p>1186 rows × 1 columns</p>\n",
       "</div>"
      ],
      "text/plain": [
       "                      UnitPrice\n",
       "CustomerID                     \n",
       "12346.0    UnitPrice        NaN\n",
       "12347.0    UnitPrice        1.0\n",
       "12348.0    UnitPrice        1.0\n",
       "12356.0    UnitPrice        1.0\n",
       "12359.0    UnitPrice        1.0\n",
       "...                         ...\n",
       "18256.0    UnitPrice        1.0\n",
       "18259.0    UnitPrice        1.0\n",
       "18260.0    UnitPrice        1.0\n",
       "18269.0    UnitPrice        1.0\n",
       "18283.0    UnitPrice        1.0\n",
       "\n",
       "[1186 rows x 1 columns]"
      ]
     },
     "execution_count": 35,
     "metadata": {},
     "output_type": "execute_result"
    }
   ],
   "source": [
    "df.groupby('CustomerID').corr()"
   ]
  },
  {
   "cell_type": "code",
   "execution_count": null,
   "metadata": {},
   "outputs": [],
   "source": []
  },
  {
   "cell_type": "code",
   "execution_count": null,
   "metadata": {},
   "outputs": [],
   "source": []
  },
  {
   "cell_type": "code",
   "execution_count": null,
   "metadata": {},
   "outputs": [],
   "source": []
  },
  {
   "cell_type": "code",
   "execution_count": null,
   "metadata": {},
   "outputs": [],
   "source": []
  },
  {
   "cell_type": "code",
   "execution_count": null,
   "metadata": {},
   "outputs": [],
   "source": []
  },
  {
   "cell_type": "code",
   "execution_count": null,
   "metadata": {},
   "outputs": [],
   "source": []
  }
 ],
 "metadata": {
  "kernelspec": {
   "display_name": "Python 3",
   "language": "python",
   "name": "python3"
  },
  "language_info": {
   "codemirror_mode": {
    "name": "ipython",
    "version": 3
   },
   "file_extension": ".py",
   "mimetype": "text/x-python",
   "name": "python",
   "nbconvert_exporter": "python",
   "pygments_lexer": "ipython3",
   "version": "3.8.3"
  }
 },
 "nbformat": 4,
 "nbformat_minor": 4
}
