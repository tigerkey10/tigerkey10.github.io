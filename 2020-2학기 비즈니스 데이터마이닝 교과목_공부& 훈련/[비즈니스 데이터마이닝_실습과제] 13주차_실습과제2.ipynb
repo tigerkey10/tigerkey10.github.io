{
 "cells": [
  {
   "cell_type": "markdown",
   "metadata": {},
   "source": [
    "# 201543122 김기범 _실습과제 2"
   ]
  },
  {
   "cell_type": "code",
   "execution_count": 42,
   "metadata": {},
   "outputs": [],
   "source": [
    "import pandas as pd\n",
    "import numpy as np\n",
    "from sklearn.model_selection import train_test_split\n",
    "from sklearn.linear_model import LogisticRegression \n",
    "from sklearn.metrics import confusion_matrix\n",
    "from sklearn.metrics import accuracy_score\n",
    "from sklearn.metrics import accuracy_score, f1_score"
   ]
  },
  {
   "cell_type": "code",
   "execution_count": 7,
   "metadata": {},
   "outputs": [
    {
     "name": "stdout",
     "output_type": "stream",
     "text": [
      "<class 'pandas.core.frame.DataFrame'>\n",
      "RangeIndex: 1000 entries, 0 to 999\n",
      "Data columns (total 5 columns):\n",
      " #   Column    Non-Null Count  Dtype  \n",
      "---  ------    --------------  -----  \n",
      " 0   DURATION  1000 non-null   int64  \n",
      " 1   AMOUNT    1000 non-null   int64  \n",
      " 2   AGE       996 non-null    float64\n",
      " 3   JOB       1000 non-null   int64  \n",
      " 4   RESPONSE  1000 non-null   int64  \n",
      "dtypes: float64(1), int64(4)\n",
      "memory usage: 39.2 KB\n"
     ]
    },
    {
     "data": {
      "text/html": [
       "<div>\n",
       "<style scoped>\n",
       "    .dataframe tbody tr th:only-of-type {\n",
       "        vertical-align: middle;\n",
       "    }\n",
       "\n",
       "    .dataframe tbody tr th {\n",
       "        vertical-align: top;\n",
       "    }\n",
       "\n",
       "    .dataframe thead th {\n",
       "        text-align: right;\n",
       "    }\n",
       "</style>\n",
       "<table border=\"1\" class=\"dataframe\">\n",
       "  <thead>\n",
       "    <tr style=\"text-align: right;\">\n",
       "      <th></th>\n",
       "      <th>DURATION</th>\n",
       "      <th>AMOUNT</th>\n",
       "      <th>AGE</th>\n",
       "      <th>JOB</th>\n",
       "      <th>RESPONSE</th>\n",
       "    </tr>\n",
       "  </thead>\n",
       "  <tbody>\n",
       "    <tr>\n",
       "      <th>0</th>\n",
       "      <td>6</td>\n",
       "      <td>1169</td>\n",
       "      <td>67.0</td>\n",
       "      <td>2</td>\n",
       "      <td>1</td>\n",
       "    </tr>\n",
       "    <tr>\n",
       "      <th>1</th>\n",
       "      <td>48</td>\n",
       "      <td>5951</td>\n",
       "      <td>22.0</td>\n",
       "      <td>2</td>\n",
       "      <td>0</td>\n",
       "    </tr>\n",
       "    <tr>\n",
       "      <th>2</th>\n",
       "      <td>12</td>\n",
       "      <td>2096</td>\n",
       "      <td>49.0</td>\n",
       "      <td>1</td>\n",
       "      <td>1</td>\n",
       "    </tr>\n",
       "    <tr>\n",
       "      <th>3</th>\n",
       "      <td>42</td>\n",
       "      <td>7882</td>\n",
       "      <td>45.0</td>\n",
       "      <td>2</td>\n",
       "      <td>1</td>\n",
       "    </tr>\n",
       "    <tr>\n",
       "      <th>4</th>\n",
       "      <td>24</td>\n",
       "      <td>4870</td>\n",
       "      <td>53.0</td>\n",
       "      <td>2</td>\n",
       "      <td>0</td>\n",
       "    </tr>\n",
       "  </tbody>\n",
       "</table>\n",
       "</div>"
      ],
      "text/plain": [
       "   DURATION  AMOUNT   AGE  JOB  RESPONSE\n",
       "0         6    1169  67.0    2         1\n",
       "1        48    5951  22.0    2         0\n",
       "2        12    2096  49.0    1         1\n",
       "3        42    7882  45.0    2         1\n",
       "4        24    4870  53.0    2         0"
      ]
     },
     "execution_count": 7,
     "metadata": {},
     "output_type": "execute_result"
    }
   ],
   "source": [
    "df = pd.read_csv('c://bd092_data/german_credit.csv')\n",
    "df.head(n=5)\n",
    "df.info() #AGE에 null값 발견\n",
    "df.isnull().sum()\n",
    "df.head()"
   ]
  },
  {
   "cell_type": "code",
   "execution_count": 8,
   "metadata": {},
   "outputs": [
    {
     "data": {
      "text/html": [
       "<div>\n",
       "<style scoped>\n",
       "    .dataframe tbody tr th:only-of-type {\n",
       "        vertical-align: middle;\n",
       "    }\n",
       "\n",
       "    .dataframe tbody tr th {\n",
       "        vertical-align: top;\n",
       "    }\n",
       "\n",
       "    .dataframe thead th {\n",
       "        text-align: right;\n",
       "    }\n",
       "</style>\n",
       "<table border=\"1\" class=\"dataframe\">\n",
       "  <thead>\n",
       "    <tr style=\"text-align: right;\">\n",
       "      <th></th>\n",
       "      <th>DURATION</th>\n",
       "      <th>AMOUNT</th>\n",
       "      <th>AGE</th>\n",
       "      <th>JOB</th>\n",
       "      <th>RESPONSE</th>\n",
       "    </tr>\n",
       "  </thead>\n",
       "  <tbody>\n",
       "    <tr>\n",
       "      <th>count</th>\n",
       "      <td>1000.000000</td>\n",
       "      <td>1000.00000</td>\n",
       "      <td>996.000000</td>\n",
       "      <td>1000.000000</td>\n",
       "      <td>1000.000000</td>\n",
       "    </tr>\n",
       "    <tr>\n",
       "      <th>mean</th>\n",
       "      <td>20.903000</td>\n",
       "      <td>3698.76600</td>\n",
       "      <td>35.574297</td>\n",
       "      <td>1.904000</td>\n",
       "      <td>0.700000</td>\n",
       "    </tr>\n",
       "    <tr>\n",
       "      <th>std</th>\n",
       "      <td>12.058814</td>\n",
       "      <td>8798.52345</td>\n",
       "      <td>11.388238</td>\n",
       "      <td>0.653614</td>\n",
       "      <td>0.458487</td>\n",
       "    </tr>\n",
       "    <tr>\n",
       "      <th>min</th>\n",
       "      <td>4.000000</td>\n",
       "      <td>7.00000</td>\n",
       "      <td>19.000000</td>\n",
       "      <td>0.000000</td>\n",
       "      <td>0.000000</td>\n",
       "    </tr>\n",
       "    <tr>\n",
       "      <th>25%</th>\n",
       "      <td>12.000000</td>\n",
       "      <td>1365.50000</td>\n",
       "      <td>27.000000</td>\n",
       "      <td>2.000000</td>\n",
       "      <td>0.000000</td>\n",
       "    </tr>\n",
       "    <tr>\n",
       "      <th>50%</th>\n",
       "      <td>18.000000</td>\n",
       "      <td>2321.50000</td>\n",
       "      <td>33.000000</td>\n",
       "      <td>2.000000</td>\n",
       "      <td>1.000000</td>\n",
       "    </tr>\n",
       "    <tr>\n",
       "      <th>75%</th>\n",
       "      <td>24.000000</td>\n",
       "      <td>3981.75000</td>\n",
       "      <td>42.000000</td>\n",
       "      <td>2.000000</td>\n",
       "      <td>1.000000</td>\n",
       "    </tr>\n",
       "    <tr>\n",
       "      <th>max</th>\n",
       "      <td>72.000000</td>\n",
       "      <td>222515.00000</td>\n",
       "      <td>75.000000</td>\n",
       "      <td>3.000000</td>\n",
       "      <td>1.000000</td>\n",
       "    </tr>\n",
       "  </tbody>\n",
       "</table>\n",
       "</div>"
      ],
      "text/plain": [
       "          DURATION        AMOUNT         AGE          JOB     RESPONSE\n",
       "count  1000.000000    1000.00000  996.000000  1000.000000  1000.000000\n",
       "mean     20.903000    3698.76600   35.574297     1.904000     0.700000\n",
       "std      12.058814    8798.52345   11.388238     0.653614     0.458487\n",
       "min       4.000000       7.00000   19.000000     0.000000     0.000000\n",
       "25%      12.000000    1365.50000   27.000000     2.000000     0.000000\n",
       "50%      18.000000    2321.50000   33.000000     2.000000     1.000000\n",
       "75%      24.000000    3981.75000   42.000000     2.000000     1.000000\n",
       "max      72.000000  222515.00000   75.000000     3.000000     1.000000"
      ]
     },
     "execution_count": 8,
     "metadata": {},
     "output_type": "execute_result"
    }
   ],
   "source": [
    "df.describe()"
   ]
  },
  {
   "cell_type": "code",
   "execution_count": 15,
   "metadata": {},
   "outputs": [
    {
     "name": "stdout",
     "output_type": "stream",
     "text": [
      "<class 'pandas.core.frame.DataFrame'>\n",
      "RangeIndex: 1000 entries, 0 to 999\n",
      "Data columns (total 5 columns):\n",
      " #   Column    Non-Null Count  Dtype  \n",
      "---  ------    --------------  -----  \n",
      " 0   DURATION  1000 non-null   int64  \n",
      " 1   AMOUNT    1000 non-null   int64  \n",
      " 2   AGE       1000 non-null   float64\n",
      " 3   JOB       1000 non-null   int64  \n",
      " 4   RESPONSE  1000 non-null   int64  \n",
      "dtypes: float64(1), int64(4)\n",
      "memory usage: 39.2 KB\n"
     ]
    },
    {
     "data": {
      "text/plain": [
       "DURATION    0\n",
       "AMOUNT      0\n",
       "AGE         0\n",
       "JOB         0\n",
       "RESPONSE    0\n",
       "dtype: int64"
      ]
     },
     "execution_count": 15,
     "metadata": {},
     "output_type": "execute_result"
    }
   ],
   "source": [
    "#age null값 평균값으로 대체하기 \n",
    "df['AGE'] = df['AGE'].fillna(df['AGE'].mean())\n",
    "df.head()\n",
    "df.describe()\n",
    "df.info()\n",
    "df.isnull().sum()"
   ]
  },
  {
   "cell_type": "code",
   "execution_count": 20,
   "metadata": {},
   "outputs": [
    {
     "data": {
      "text/plain": [
       "0    1\n",
       "1    0\n",
       "2    1\n",
       "3    1\n",
       "4    0\n",
       "Name: RESPONSE, dtype: int64"
      ]
     },
     "execution_count": 20,
     "metadata": {},
     "output_type": "execute_result"
    }
   ],
   "source": [
    "# x, y 데이터 나누기\n",
    "x = df.drop('RESPONSE', axis=1)\n",
    "x.head()\n",
    "y = df['RESPONSE']\n",
    "y.head()"
   ]
  },
  {
   "cell_type": "code",
   "execution_count": 22,
   "metadata": {},
   "outputs": [
    {
     "name": "stdout",
     "output_type": "stream",
     "text": [
      "(700, 4) (300, 4) (700,) (300,)\n"
     ]
    }
   ],
   "source": [
    "# train과 test 데이터 나누기 \n",
    "x_train, x_test, y_train, y_test = train_test_split(x,y,test_size=0.3,random_state=1, stratify=y)\n",
    "print(x_train.shape, x_test.shape, y_train.shape, y_test.shape)"
   ]
  },
  {
   "cell_type": "code",
   "execution_count": 24,
   "metadata": {},
   "outputs": [
    {
     "data": {
      "text/plain": [
       "LogisticRegression(C=0.001, random_state=1, solver='liblinear')"
      ]
     },
     "execution_count": 24,
     "metadata": {},
     "output_type": "execute_result"
    }
   ],
   "source": [
    "#logistic model에 넣고 모델 만들기 \n",
    "mc_model = LogisticRegression(solver='liblinear', penalty='l2', C=0.001, random_state=1)\n",
    "mc_model.fit(x_train, y_train)"
   ]
  },
  {
   "cell_type": "code",
   "execution_count": 27,
   "metadata": {},
   "outputs": [
    {
     "data": {
      "text/plain": [
       "0.7033333333333334"
      ]
     },
     "execution_count": 27,
     "metadata": {},
     "output_type": "execute_result"
    }
   ],
   "source": [
    "y_pred = mc_model.predict(x_test)\n",
    "mc_model.score(x_test, y_test) #모델 예측 정확도"
   ]
  },
  {
   "cell_type": "code",
   "execution_count": 36,
   "metadata": {},
   "outputs": [
    {
     "data": {
      "text/plain": [
       "array([[0.27042779, 0.72957221],\n",
       "       [0.25280707, 0.74719293],\n",
       "       [0.10925909, 0.89074091],\n",
       "       [0.3748298 , 0.6251702 ],\n",
       "       [0.33576503, 0.66423497],\n",
       "       [0.27382086, 0.72617914],\n",
       "       [0.19734485, 0.80265515],\n",
       "       [0.36049169, 0.63950831],\n",
       "       [0.24519401, 0.75480599],\n",
       "       [0.37696818, 0.62303182],\n",
       "       [0.38371601, 0.61628399],\n",
       "       [0.38183504, 0.61816496],\n",
       "       [0.3176861 , 0.6823139 ],\n",
       "       [0.29449764, 0.70550236],\n",
       "       [0.1646728 , 0.8353272 ],\n",
       "       [0.32354642, 0.67645358],\n",
       "       [0.3972223 , 0.6027777 ],\n",
       "       [0.39915013, 0.60084987],\n",
       "       [0.20085527, 0.79914473],\n",
       "       [0.44226836, 0.55773164],\n",
       "       [0.1934408 , 0.8065592 ],\n",
       "       [0.41934191, 0.58065809],\n",
       "       [0.12856859, 0.87143141],\n",
       "       [0.21180622, 0.78819378],\n",
       "       [0.14078497, 0.85921503],\n",
       "       [0.2324621 , 0.7675379 ],\n",
       "       [0.20065483, 0.79934517],\n",
       "       [0.47235027, 0.52764973],\n",
       "       [0.17918518, 0.82081482],\n",
       "       [0.59034342, 0.40965658],\n",
       "       [0.46306793, 0.53693207],\n",
       "       [0.22800878, 0.77199122],\n",
       "       [0.45324954, 0.54675046],\n",
       "       [0.33289782, 0.66710218],\n",
       "       [0.18509108, 0.81490892],\n",
       "       [0.2095521 , 0.7904479 ],\n",
       "       [0.35109221, 0.64890779],\n",
       "       [0.1636063 , 0.8363937 ],\n",
       "       [0.36210033, 0.63789967],\n",
       "       [0.40382511, 0.59617489],\n",
       "       [0.55451262, 0.44548738],\n",
       "       [0.34667537, 0.65332463],\n",
       "       [0.25657962, 0.74342038],\n",
       "       [0.37394406, 0.62605594],\n",
       "       [0.31243971, 0.68756029],\n",
       "       [0.37537825, 0.62462175],\n",
       "       [0.33490121, 0.66509879],\n",
       "       [0.30105438, 0.69894562],\n",
       "       [0.10688026, 0.89311974],\n",
       "       [0.49827854, 0.50172146],\n",
       "       [0.25387046, 0.74612954],\n",
       "       [0.24005069, 0.75994931],\n",
       "       [0.28917878, 0.71082122],\n",
       "       [0.22736398, 0.77263602],\n",
       "       [0.39836257, 0.60163743],\n",
       "       [0.19133069, 0.80866931],\n",
       "       [0.21285149, 0.78714851],\n",
       "       [0.09583099, 0.90416901],\n",
       "       [0.44124468, 0.55875532],\n",
       "       [0.30779249, 0.69220751],\n",
       "       [0.58228237, 0.41771763],\n",
       "       [0.30451776, 0.69548224],\n",
       "       [0.30889443, 0.69110557],\n",
       "       [0.30686963, 0.69313037],\n",
       "       [0.46185562, 0.53814438],\n",
       "       [0.15030912, 0.84969088],\n",
       "       [0.23294898, 0.76705102],\n",
       "       [0.0630328 , 0.9369672 ],\n",
       "       [0.22824257, 0.77175743],\n",
       "       [0.31071996, 0.68928004],\n",
       "       [0.32359922, 0.67640078],\n",
       "       [0.31369696, 0.68630304],\n",
       "       [0.39237929, 0.60762071],\n",
       "       [0.33452852, 0.66547148],\n",
       "       [0.19376302, 0.80623698],\n",
       "       [0.32862447, 0.67137553],\n",
       "       [0.31924086, 0.68075914],\n",
       "       [0.36872853, 0.63127147],\n",
       "       [0.50462387, 0.49537613],\n",
       "       [0.36863245, 0.63136755],\n",
       "       [0.24181459, 0.75818541],\n",
       "       [0.36936613, 0.63063387],\n",
       "       [0.39062985, 0.60937015],\n",
       "       [0.32868177, 0.67131823],\n",
       "       [0.43379614, 0.56620386],\n",
       "       [0.21589254, 0.78410746],\n",
       "       [0.34099179, 0.65900821],\n",
       "       [0.37272956, 0.62727044],\n",
       "       [0.39170109, 0.60829891],\n",
       "       [0.36818622, 0.63181378],\n",
       "       [0.08128969, 0.91871031],\n",
       "       [0.48354206, 0.51645794],\n",
       "       [0.26450641, 0.73549359],\n",
       "       [0.7127544 , 0.2872456 ],\n",
       "       [0.17397975, 0.82602025],\n",
       "       [0.22851277, 0.77148723],\n",
       "       [0.38261761, 0.61738239],\n",
       "       [0.30250943, 0.69749057],\n",
       "       [0.16844093, 0.83155907],\n",
       "       [0.43218226, 0.56781774],\n",
       "       [0.41408393, 0.58591607],\n",
       "       [0.23933069, 0.76066931],\n",
       "       [0.28374635, 0.71625365],\n",
       "       [0.29440336, 0.70559664],\n",
       "       [0.29306156, 0.70693844],\n",
       "       [0.39741862, 0.60258138],\n",
       "       [0.2139303 , 0.7860697 ],\n",
       "       [0.33173186, 0.66826814],\n",
       "       [0.35051314, 0.64948686],\n",
       "       [0.38864628, 0.61135372],\n",
       "       [0.41736345, 0.58263655],\n",
       "       [0.27048121, 0.72951879],\n",
       "       [0.46102371, 0.53897629],\n",
       "       [0.23441792, 0.76558208],\n",
       "       [0.25738338, 0.74261662],\n",
       "       [0.3984393 , 0.6015607 ],\n",
       "       [0.14553508, 0.85446492],\n",
       "       [0.22723873, 0.77276127],\n",
       "       [0.21248932, 0.78751068],\n",
       "       [0.34114459, 0.65885541],\n",
       "       [0.08390591, 0.91609409],\n",
       "       [0.25942799, 0.74057201],\n",
       "       [0.27150932, 0.72849068],\n",
       "       [0.45307816, 0.54692184],\n",
       "       [0.6181884 , 0.3818116 ],\n",
       "       [0.34521624, 0.65478376],\n",
       "       [0.32003148, 0.67996852],\n",
       "       [0.29847663, 0.70152337],\n",
       "       [0.41909093, 0.58090907],\n",
       "       [0.32803725, 0.67196275],\n",
       "       [0.22194304, 0.77805696],\n",
       "       [0.26235616, 0.73764384],\n",
       "       [0.23589279, 0.76410721],\n",
       "       [0.38597488, 0.61402512],\n",
       "       [0.37363747, 0.62636253],\n",
       "       [0.46899861, 0.53100139],\n",
       "       [0.3452592 , 0.6547408 ],\n",
       "       [0.2792691 , 0.7207309 ],\n",
       "       [0.61205502, 0.38794498],\n",
       "       [0.4873377 , 0.5126623 ],\n",
       "       [0.48108202, 0.51891798],\n",
       "       [0.31375135, 0.68624865],\n",
       "       [0.39337613, 0.60662387],\n",
       "       [0.15866202, 0.84133798],\n",
       "       [0.32815788, 0.67184212],\n",
       "       [0.19386911, 0.80613089],\n",
       "       [0.13376398, 0.86623602],\n",
       "       [0.20688448, 0.79311552],\n",
       "       [0.38430539, 0.61569461],\n",
       "       [0.23888932, 0.76111068],\n",
       "       [0.4139961 , 0.5860039 ],\n",
       "       [0.48698675, 0.51301325],\n",
       "       [0.48531002, 0.51468998],\n",
       "       [0.27622091, 0.72377909],\n",
       "       [0.23874279, 0.76125721],\n",
       "       [0.29899392, 0.70100608],\n",
       "       [0.22081508, 0.77918492],\n",
       "       [0.44043928, 0.55956072],\n",
       "       [0.43347385, 0.56652615],\n",
       "       [0.46015598, 0.53984402],\n",
       "       [0.37664734, 0.62335266],\n",
       "       [0.24798767, 0.75201233],\n",
       "       [0.29208748, 0.70791252],\n",
       "       [0.35010271, 0.64989729],\n",
       "       [0.29540857, 0.70459143],\n",
       "       [0.20920594, 0.79079406],\n",
       "       [0.35913935, 0.64086065],\n",
       "       [0.26194312, 0.73805688],\n",
       "       [0.34876286, 0.65123714],\n",
       "       [0.36516768, 0.63483232],\n",
       "       [0.27912815, 0.72087185],\n",
       "       [0.34493261, 0.65506739],\n",
       "       [0.30075406, 0.69924594],\n",
       "       [0.30205542, 0.69794458],\n",
       "       [0.355412  , 0.644588  ],\n",
       "       [0.30183709, 0.69816291],\n",
       "       [0.35179345, 0.64820655],\n",
       "       [0.21616704, 0.78383296],\n",
       "       [0.25427853, 0.74572147],\n",
       "       [0.45455474, 0.54544526],\n",
       "       [0.49139634, 0.50860366],\n",
       "       [0.32689671, 0.67310329],\n",
       "       [0.38507771, 0.61492229],\n",
       "       [0.27850676, 0.72149324],\n",
       "       [0.30579502, 0.69420498],\n",
       "       [0.37497695, 0.62502305],\n",
       "       [0.23676775, 0.76323225],\n",
       "       [0.3325557 , 0.6674443 ],\n",
       "       [0.3816297 , 0.6183703 ],\n",
       "       [0.5363972 , 0.4636028 ],\n",
       "       [0.36521982, 0.63478018],\n",
       "       [0.32028365, 0.67971635],\n",
       "       [0.24939526, 0.75060474],\n",
       "       [0.19197455, 0.80802545],\n",
       "       [0.20223107, 0.79776893],\n",
       "       [0.09277285, 0.90722715],\n",
       "       [0.61510417, 0.38489583],\n",
       "       [0.37742357, 0.62257643],\n",
       "       [0.34239538, 0.65760462],\n",
       "       [0.15128641, 0.84871359],\n",
       "       [0.22650769, 0.77349231],\n",
       "       [0.3141862 , 0.6858138 ],\n",
       "       [0.447214  , 0.552786  ],\n",
       "       [0.38691439, 0.61308561],\n",
       "       [0.32070194, 0.67929806],\n",
       "       [0.38086416, 0.61913584],\n",
       "       [0.27426013, 0.72573987],\n",
       "       [0.38030741, 0.61969259],\n",
       "       [0.402416  , 0.597584  ],\n",
       "       [0.28820917, 0.71179083],\n",
       "       [0.35526524, 0.64473476],\n",
       "       [0.26472443, 0.73527557],\n",
       "       [0.37593804, 0.62406196],\n",
       "       [0.44010871, 0.55989129],\n",
       "       [0.28431694, 0.71568306],\n",
       "       [0.24763017, 0.75236983],\n",
       "       [0.25641705, 0.74358295],\n",
       "       [0.24627635, 0.75372365],\n",
       "       [0.10585152, 0.89414848],\n",
       "       [0.29620894, 0.70379106],\n",
       "       [0.34265554, 0.65734446],\n",
       "       [0.35117376, 0.64882624],\n",
       "       [0.2309595 , 0.7690405 ],\n",
       "       [0.15448211, 0.84551789],\n",
       "       [0.67772683, 0.32227317],\n",
       "       [0.26110612, 0.73889388],\n",
       "       [0.22820274, 0.77179726],\n",
       "       [0.2568228 , 0.7431772 ],\n",
       "       [0.42626847, 0.57373153],\n",
       "       [0.40502039, 0.59497961],\n",
       "       [0.34079858, 0.65920142],\n",
       "       [0.2194902 , 0.7805098 ],\n",
       "       [0.2924469 , 0.7075531 ],\n",
       "       [0.21863088, 0.78136912],\n",
       "       [0.48967092, 0.51032908],\n",
       "       [0.14248089, 0.85751911],\n",
       "       [0.12892658, 0.87107342],\n",
       "       [0.51691682, 0.48308318],\n",
       "       [0.36396329, 0.63603671],\n",
       "       [0.38275693, 0.61724307],\n",
       "       [0.39265493, 0.60734507],\n",
       "       [0.36359876, 0.63640124],\n",
       "       [0.45949805, 0.54050195],\n",
       "       [0.32343229, 0.67656771],\n",
       "       [0.1372486 , 0.8627514 ],\n",
       "       [0.36408637, 0.63591363],\n",
       "       [0.24183951, 0.75816049],\n",
       "       [0.25232501, 0.74767499],\n",
       "       [0.29766973, 0.70233027],\n",
       "       [0.27396086, 0.72603914],\n",
       "       [0.2512408 , 0.7487592 ],\n",
       "       [0.22869654, 0.77130346],\n",
       "       [0.27506845, 0.72493155],\n",
       "       [0.07781473, 0.92218527],\n",
       "       [0.32770193, 0.67229807],\n",
       "       [0.52106585, 0.47893415],\n",
       "       [0.26435001, 0.73564999],\n",
       "       [0.23983476, 0.76016524],\n",
       "       [0.32861858, 0.67138142],\n",
       "       [0.3256552 , 0.6743448 ],\n",
       "       [0.32127079, 0.67872921],\n",
       "       [0.16085921, 0.83914079],\n",
       "       [0.47197926, 0.52802074],\n",
       "       [0.3614412 , 0.6385588 ],\n",
       "       [0.41543293, 0.58456707],\n",
       "       [0.25245204, 0.74754796],\n",
       "       [0.1825509 , 0.8174491 ],\n",
       "       [0.27434181, 0.72565819],\n",
       "       [0.46824785, 0.53175215],\n",
       "       [0.27486239, 0.72513761],\n",
       "       [0.22459445, 0.77540555],\n",
       "       [0.47045056, 0.52954944],\n",
       "       [0.32573222, 0.67426778],\n",
       "       [0.37532059, 0.62467941],\n",
       "       [0.5232149 , 0.4767851 ],\n",
       "       [0.40238473, 0.59761527],\n",
       "       [0.2318839 , 0.7681161 ],\n",
       "       [0.29528217, 0.70471783],\n",
       "       [0.40828381, 0.59171619],\n",
       "       [0.13254883, 0.86745117],\n",
       "       [0.17729815, 0.82270185],\n",
       "       [0.25703384, 0.74296616],\n",
       "       [0.40224876, 0.59775124],\n",
       "       [0.30730254, 0.69269746],\n",
       "       [0.45849099, 0.54150901],\n",
       "       [0.31222771, 0.68777229],\n",
       "       [0.41247985, 0.58752015],\n",
       "       [0.43801471, 0.56198529],\n",
       "       [0.3502589 , 0.6497411 ],\n",
       "       [0.32816191, 0.67183809],\n",
       "       [0.41778296, 0.58221704],\n",
       "       [0.34953046, 0.65046954],\n",
       "       [0.29449882, 0.70550118],\n",
       "       [0.25964501, 0.74035499],\n",
       "       [0.30111347, 0.69888653],\n",
       "       [0.35795288, 0.64204712],\n",
       "       [0.40316434, 0.59683566],\n",
       "       [0.36008949, 0.63991051],\n",
       "       [0.33671156, 0.66328844],\n",
       "       [0.10146839, 0.89853161]])"
      ]
     },
     "execution_count": 36,
     "metadata": {},
     "output_type": "execute_result"
    }
   ],
   "source": [
    "y_pred_p = mc_model.predict_proba(x_test)\n",
    "y_pred_p"
   ]
  },
  {
   "cell_type": "code",
   "execution_count": 38,
   "metadata": {},
   "outputs": [
    {
     "data": {
      "text/html": [
       "<div>\n",
       "<style scoped>\n",
       "    .dataframe tbody tr th:only-of-type {\n",
       "        vertical-align: middle;\n",
       "    }\n",
       "\n",
       "    .dataframe tbody tr th {\n",
       "        vertical-align: top;\n",
       "    }\n",
       "\n",
       "    .dataframe thead th {\n",
       "        text-align: right;\n",
       "    }\n",
       "</style>\n",
       "<table border=\"1\" class=\"dataframe\">\n",
       "  <thead>\n",
       "    <tr style=\"text-align: right;\">\n",
       "      <th></th>\n",
       "      <th>0</th>\n",
       "      <th>1</th>\n",
       "    </tr>\n",
       "  </thead>\n",
       "  <tbody>\n",
       "    <tr>\n",
       "      <th>0</th>\n",
       "      <td>7</td>\n",
       "      <td>83</td>\n",
       "    </tr>\n",
       "    <tr>\n",
       "      <th>1</th>\n",
       "      <td>6</td>\n",
       "      <td>204</td>\n",
       "    </tr>\n",
       "  </tbody>\n",
       "</table>\n",
       "</div>"
      ],
      "text/plain": [
       "   0    1\n",
       "0  7   83\n",
       "1  6  204"
      ]
     },
     "execution_count": 38,
     "metadata": {},
     "output_type": "execute_result"
    }
   ],
   "source": [
    "confmat = pd.DataFrame(confusion_matrix(y_test, y_pred))\n",
    "confmat"
   ]
  },
  {
   "cell_type": "code",
   "execution_count": 43,
   "metadata": {},
   "outputs": [
    {
     "name": "stdout",
     "output_type": "stream",
     "text": [
      "오분류 갯수 : 89\n",
      "분류 정확도 : 0.703\n",
      "f_score : 0.821\n"
     ]
    }
   ],
   "source": [
    "#confusion matrix 결과를 보기편하게 옮기기\n",
    "print('오분류 갯수 : %d' %(y_test != y_pred).sum())\n",
    "print('분류 정확도 : %.3f' %accuracy_score(y_test, y_pred))\n",
    "print('f_score : %.3f' %f1_score(y_test, y_pred))"
   ]
  },
  {
   "cell_type": "markdown",
   "metadata": {},
   "source": [
    "#모델 분류 정확도가 상당히 낮다. \n",
    "#최적화를 통해서 정확도를 끌어올리자. "
   ]
  },
  {
   "cell_type": "code",
   "execution_count": 72,
   "metadata": {},
   "outputs": [
    {
     "data": {
      "text/plain": [
       "dict_keys(['memory', 'steps', 'verbose', 'logisticregression', 'logisticregression__C', 'logisticregression__class_weight', 'logisticregression__dual', 'logisticregression__fit_intercept', 'logisticregression__intercept_scaling', 'logisticregression__l1_ratio', 'logisticregression__max_iter', 'logisticregression__multi_class', 'logisticregression__n_jobs', 'logisticregression__penalty', 'logisticregression__random_state', 'logisticregression__solver', 'logisticregression__tol', 'logisticregression__verbose', 'logisticregression__warm_start'])"
      ]
     },
     "execution_count": 72,
     "metadata": {},
     "output_type": "execute_result"
    }
   ],
   "source": [
    "#GridSearchCV 함수로 모델 분류 정확도 가장 높게 올려주는 최적 옵션 찾기 \n",
    "#최적화\n",
    "from sklearn.pipeline import make_pipeline, Pipeline\n",
    "\n",
    "logit_m = make_pipeline(LogisticRegression())\n",
    "logit_m.get_params().keys()"
   ]
  },
  {
   "cell_type": "code",
   "execution_count": 77,
   "metadata": {},
   "outputs": [
    {
     "data": {
      "text/plain": [
       "GridSearchCV(cv=5,\n",
       "             estimator=Pipeline(steps=[('logisticregression',\n",
       "                                        LogisticRegression())]),\n",
       "             n_jobs=-1,\n",
       "             param_grid=[{'logisticregression__C': [-3, 3, 7],\n",
       "                          'logisticregression__penalty': ['l1', 'l2',\n",
       "                                                          'elasticnet',\n",
       "                                                          'none'],\n",
       "                          'logisticregression__solver': ['newton-cg', 'lbfgs',\n",
       "                                                         'liblinear', 'sag',\n",
       "                                                         'saga']}],\n",
       "             scoring='accuracy')"
      ]
     },
     "execution_count": 77,
     "metadata": {},
     "output_type": "execute_result"
    }
   ],
   "source": [
    "from sklearn.model_selection import GridSearchCV\n",
    "\n",
    "param_range1 = ['newton-cg', 'lbfgs', 'liblinear', 'sag', 'saga']\n",
    "param_range2 = [-3,3,7]\n",
    "param_range3 = ['l1', 'l2', 'elasticnet', 'none']\n",
    "\n",
    "param_grid = [{'logisticregression__solver': param_range1,\n",
    "              'logisticregression__C' : param_range2,\n",
    "              'logisticregression__penalty': param_range3}]\n",
    "\n",
    "clf_cv = GridSearchCV(estimator = logit_m,\n",
    "                     param_grid = param_grid,\n",
    "                     scoring='accuracy',\n",
    "                     n_jobs = -1,\n",
    "                     cv = 5)\n",
    "clf_cv.fit(x_train, y_train)"
   ]
  },
  {
   "cell_type": "code",
   "execution_count": 78,
   "metadata": {},
   "outputs": [
    {
     "name": "stdout",
     "output_type": "stream",
     "text": [
      "0.72\n",
      "{'logisticregression__C': 3, 'logisticregression__penalty': 'l2', 'logisticregression__solver': 'lbfgs'}\n"
     ]
    }
   ],
   "source": [
    "print(clf_cv.best_score_)\n",
    "print(clf_cv.best_params_)"
   ]
  },
  {
   "cell_type": "code",
   "execution_count": 63,
   "metadata": {},
   "outputs": [
    {
     "data": {
      "text/plain": [
       "LogisticRegression(C=3, random_state=1)"
      ]
     },
     "execution_count": 63,
     "metadata": {},
     "output_type": "execute_result"
    }
   ],
   "source": [
    "mc_model1 = LogisticRegression(solver='lbfgs', penalty='l2', C=3, random_state=1)\n",
    "mc_model1.fit(x_train, y_train)"
   ]
  },
  {
   "cell_type": "code",
   "execution_count": 64,
   "metadata": {},
   "outputs": [
    {
     "data": {
      "text/plain": [
       "0.71"
      ]
     },
     "execution_count": 64,
     "metadata": {},
     "output_type": "execute_result"
    }
   ],
   "source": [
    "y_pred = mc_model1.predict(x_test)\n",
    "mc_model1.score(x_test, y_test)"
   ]
  },
  {
   "cell_type": "code",
   "execution_count": 68,
   "metadata": {},
   "outputs": [
    {
     "data": {
      "text/html": [
       "<div>\n",
       "<style scoped>\n",
       "    .dataframe tbody tr th:only-of-type {\n",
       "        vertical-align: middle;\n",
       "    }\n",
       "\n",
       "    .dataframe tbody tr th {\n",
       "        vertical-align: top;\n",
       "    }\n",
       "\n",
       "    .dataframe thead th {\n",
       "        text-align: right;\n",
       "    }\n",
       "</style>\n",
       "<table border=\"1\" class=\"dataframe\">\n",
       "  <thead>\n",
       "    <tr style=\"text-align: right;\">\n",
       "      <th></th>\n",
       "      <th>0</th>\n",
       "      <th>1</th>\n",
       "    </tr>\n",
       "  </thead>\n",
       "  <tbody>\n",
       "    <tr>\n",
       "      <th>0</th>\n",
       "      <td>9</td>\n",
       "      <td>81</td>\n",
       "    </tr>\n",
       "    <tr>\n",
       "      <th>1</th>\n",
       "      <td>6</td>\n",
       "      <td>204</td>\n",
       "    </tr>\n",
       "  </tbody>\n",
       "</table>\n",
       "</div>"
      ],
      "text/plain": [
       "   0    1\n",
       "0  9   81\n",
       "1  6  204"
      ]
     },
     "execution_count": 68,
     "metadata": {},
     "output_type": "execute_result"
    }
   ],
   "source": [
    "confmat = pd.DataFrame(confusion_matrix(y_test, y_pred))\n",
    "confmat"
   ]
  },
  {
   "cell_type": "code",
   "execution_count": 71,
   "metadata": {},
   "outputs": [
    {
     "name": "stdout",
     "output_type": "stream",
     "text": [
      "오분류 갯수 : 87\n",
      "정확도 : 0.710\n",
      "f1_score : 0.824\n"
     ]
    }
   ],
   "source": [
    "print('오분류 갯수 : %d' %(y_test !=y_pred).sum())\n",
    "print('정확도 : %.3f' %accuracy_score(y_test,y_pred))\n",
    "print('f1_score : %.3f' %f1_score(y_test, y_pred))"
   ]
  },
  {
   "cell_type": "code",
   "execution_count": null,
   "metadata": {},
   "outputs": [],
   "source": []
  }
 ],
 "metadata": {
  "kernelspec": {
   "display_name": "Python 3",
   "language": "python",
   "name": "python3"
  },
  "language_info": {
   "codemirror_mode": {
    "name": "ipython",
    "version": 3
   },
   "file_extension": ".py",
   "mimetype": "text/x-python",
   "name": "python",
   "nbconvert_exporter": "python",
   "pygments_lexer": "ipython3",
   "version": "3.8.3"
  }
 },
 "nbformat": 4,
 "nbformat_minor": 4
}
