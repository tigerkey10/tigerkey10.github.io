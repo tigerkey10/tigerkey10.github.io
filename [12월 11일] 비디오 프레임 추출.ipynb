{
 "cells": [
  {
   "cell_type": "code",
   "execution_count": 1,
   "metadata": {},
   "outputs": [],
   "source": [
    "import os # 파일 디렉토리 자유롭게 만들고 접근하기 위해 os 라이브러리 호출 \n",
    "sys.path.append('/Users/kibeomkim/Desktop') # 파이썬에서 접근 가능한 시스템 경로에 배경화면 추가 \n",
    "from convert_image import convert_video_to_image # 배경화면에 저장해뒀던 동영상 프레임 변환 모듈 호출 , 프레임 변환 함수 호출 "
   ]
  },
  {
   "cell_type": "code",
   "execution_count": 5,
   "metadata": {},
   "outputs": [],
   "source": [
    "folder_list = os.listdir('/Users/kibeomkim/Desktop/영상들') # 동영상이 저장된 폴더 안에 모든 디렉토리 주소 리스트로 반환 \n",
    "folder_list.remove('.DS_Store')"
   ]
  },
  {
   "cell_type": "code",
   "execution_count": null,
   "metadata": {},
   "outputs": [],
   "source": [
    "for folder in folder_list :  # 동영상이 저장된 폴더 디렉토리 안에 세부 폴더 하나하나 순차 접근 \n",
    "    file_list = os.listdir(f'/Users/kibeomkim/Desktop/영상들/{folder}')  # 세부 폴더 안에 동영상 파일 이름 리스트로 반환 \n",
    "    for file in file_list : # 동영상 파일 하나하나 돌면서 프레임 변환 후 저장 \n",
    "        try : \n",
    "            foldername = file.replace('.mp4', '') # 영상 프레임 저장할 폴더 이름 설정 \n",
    "            os.makedirs(f'/Users/kibeomkim/Desktop/영상프레임2/{foldername}') # 영상 프레임 저장할 파일 디렉토리 생성 \n",
    "            os.chdir(f'/Users/kibeomkim/Desktop/영상프레임2/{foldername}') # 파일 저장 경로를 위에서 지정해준 디렉토리로 설정 \n",
    "            convert_video_to_image(folder, file) # 동영상 프레임 변환해주는 함수 적용 \n",
    "        except : \n",
    "            pass "
   ]
  },
  {
   "cell_type": "code",
   "execution_count": null,
   "metadata": {},
   "outputs": [],
   "source": []
  }
 ],
 "metadata": {
  "interpreter": {
   "hash": "4c3ef011dacc38893a1195bd1400f1bfec9d902762372ab997d6b63973747a5f"
  },
  "kernelspec": {
   "display_name": "Python 3.8.5 64-bit ('base': conda)",
   "language": "python",
   "name": "python3"
  },
  "language_info": {
   "codemirror_mode": {
    "name": "ipython",
    "version": 3
   },
   "file_extension": ".py",
   "mimetype": "text/x-python",
   "name": "python",
   "nbconvert_exporter": "python",
   "pygments_lexer": "ipython3",
   "version": "3.8.5"
  },
  "orig_nbformat": 4
 },
 "nbformat": 4,
 "nbformat_minor": 2
}
