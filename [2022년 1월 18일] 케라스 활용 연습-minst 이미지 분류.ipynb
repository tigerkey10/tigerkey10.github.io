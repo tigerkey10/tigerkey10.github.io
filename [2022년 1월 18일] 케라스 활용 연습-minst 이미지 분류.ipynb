{
 "cells": [
  {
   "cell_type": "markdown",
   "metadata": {},
   "source": [
    "# 케라스 활용 연습 "
   ]
  },
  {
   "cell_type": "markdown",
   "metadata": {},
   "source": [
    "## MNIST 데이터셋 로드 "
   ]
  },
  {
   "cell_type": "code",
   "execution_count": 233,
   "metadata": {},
   "outputs": [],
   "source": [
    "from keras.datasets import mnist"
   ]
  },
  {
   "cell_type": "code",
   "execution_count": 234,
   "metadata": {},
   "outputs": [],
   "source": [
    "(train_images, train_labels), (test_images, test_labels) = mnist.load_data()"
   ]
  },
  {
   "cell_type": "code",
   "execution_count": 235,
   "metadata": {},
   "outputs": [
    {
     "name": "stdout",
     "output_type": "stream",
     "text": [
      "(60000, 28, 28)\n"
     ]
    }
   ],
   "source": [
    "print(train_images.shape)"
   ]
  },
  {
   "cell_type": "code",
   "execution_count": 236,
   "metadata": {},
   "outputs": [
    {
     "name": "stdout",
     "output_type": "stream",
     "text": [
      "Num GPUs Available:  1\n"
     ]
    }
   ],
   "source": [
    "# GPU 확인\n",
    "import tensorflow as tf\n",
    "print(\"Num GPUs Available: \", len(tf.config.experimental.list_physical_devices('GPU')))"
   ]
  },
  {
   "cell_type": "code",
   "execution_count": 237,
   "metadata": {},
   "outputs": [
    {
     "name": "stdout",
     "output_type": "stream",
     "text": [
      "(10000, 28, 28)\n",
      "10000\n",
      "[7 2 1 ... 4 5 6]\n"
     ]
    }
   ],
   "source": [
    "print(test_images.shape);print(len(test_labels));print(test_labels)"
   ]
  },
  {
   "cell_type": "markdown",
   "metadata": {},
   "source": [
    "## 모델 로드 "
   ]
  },
  {
   "cell_type": "code",
   "execution_count": 238,
   "metadata": {},
   "outputs": [],
   "source": [
    "# 신경망 구조 \n",
    "from keras import models \n",
    "from keras import layers\n",
    "\n",
    "network = models.Sequential() # sequantial 모델 객체 \n",
    "network.add(layers.Dense(512, activation='relu', input_shape=(28*28,))) # 이미지 특징 추출 층 \n",
    "network.add(layers.Dense(10, activation='softmax')) # 1번 레이어에서 추출된 특징 소프트맥스 함수 이용해 확률 꼴로 바꾸는 층 "
   ]
  },
  {
   "cell_type": "code",
   "execution_count": 239,
   "metadata": {},
   "outputs": [],
   "source": [
    "# 모델 컴파일(훈련준비)\n",
    "network.compile(optimizer='rmsprop',# 최적화 방법\n",
    "loss='categorical_crossentropy', # 손실함수(성능함수)\n",
    "metrics=['accuracy']) # 모델 정확도 측정 방법 "
   ]
  },
  {
   "cell_type": "code",
   "execution_count": 240,
   "metadata": {},
   "outputs": [],
   "source": [
    "train_images = train_images.reshape((60000, 28 * 28))\n",
    "train_images = train_images.astype('float32')/255 # train 데이터 자료형을 실수형으로 바꾸고, 255로 나눠서 크기 조정 (0과 1사이 값들로 크기 조정)\n",
    "\n",
    "test_images = test_images.reshape((10000, 28*28))\n",
    "test_images = test_images.astype('float32')/255 # test 데이터 자료형을 실수형으로 변경 하고 255로 나눠서 크기 조정 (0과 1사이 값)\n",
    "\n",
    "# 보통 신경망에 이미지 넣을 때는 0과 1사이 값으로 바꿔서 넣는다. "
   ]
  },
  {
   "cell_type": "code",
   "execution_count": 241,
   "metadata": {},
   "outputs": [],
   "source": [
    "# 레이블값 (정답 값) 모두 원핫인코딩 벡터 꼴로 변환 \n",
    "import keras.utils \n",
    "\n",
    "train_labels = tf.keras.utils.to_categorical(train_labels) # 훈련용 데이터 정답값\n",
    "test_labels = tf.keras.utils.to_categorical(test_labels) # 테스트 데이터 정답값 "
   ]
  },
  {
   "cell_type": "code",
   "execution_count": 242,
   "metadata": {},
   "outputs": [
    {
     "data": {
      "text/plain": [
       "(60000, 784)"
      ]
     },
     "execution_count": 242,
     "metadata": {},
     "output_type": "execute_result"
    }
   ],
   "source": [
    "train_images.shape"
   ]
  },
  {
   "cell_type": "code",
   "execution_count": 243,
   "metadata": {},
   "outputs": [
    {
     "data": {
      "text/plain": [
       "(60000, 10)"
      ]
     },
     "execution_count": 243,
     "metadata": {},
     "output_type": "execute_result"
    }
   ],
   "source": [
    "train_labels.shape"
   ]
  },
  {
   "cell_type": "code",
   "execution_count": 244,
   "metadata": {},
   "outputs": [
    {
     "name": "stdout",
     "output_type": "stream",
     "text": [
      "Epoch 1/5\n",
      "  7/469 [..............................] - ETA: 4s - loss: 1.4083 - accuracy: 0.5904  "
     ]
    },
    {
     "name": "stderr",
     "output_type": "stream",
     "text": [
      "2022-01-18 23:02:50.895444: I tensorflow/core/grappler/optimizers/custom_graph_optimizer_registry.cc:112] Plugin optimizer for device_type GPU is enabled.\n"
     ]
    },
    {
     "name": "stdout",
     "output_type": "stream",
     "text": [
      "469/469 [==============================] - 4s 8ms/step - loss: 0.2558 - accuracy: 0.9269\n",
      "Epoch 2/5\n",
      "469/469 [==============================] - 3s 7ms/step - loss: 0.1042 - accuracy: 0.9686\n",
      "Epoch 3/5\n",
      "469/469 [==============================] - 3s 7ms/step - loss: 0.0690 - accuracy: 0.9793\n",
      "Epoch 4/5\n",
      "469/469 [==============================] - 3s 7ms/step - loss: 0.0497 - accuracy: 0.9850\n",
      "Epoch 5/5\n",
      "469/469 [==============================] - 3s 7ms/step - loss: 0.0381 - accuracy: 0.9889\n"
     ]
    },
    {
     "data": {
      "text/plain": [
       "<keras.callbacks.History at 0x28e766f40>"
      ]
     },
     "execution_count": 244,
     "metadata": {},
     "output_type": "execute_result"
    }
   ],
   "source": [
    "# 컴파일 된 모델 훈련데이터로 지도학습 하기 \n",
    "network.fit(train_images, train_labels, epochs=5, batch_size=128) # batch_size: 한번에 몇 개씩 예측.평가해서 가중치 업데이트 할 건가. "
   ]
  },
  {
   "cell_type": "code",
   "execution_count": 245,
   "metadata": {},
   "outputs": [
    {
     "name": "stdout",
     "output_type": "stream",
     "text": [
      " 26/313 [=>............................] - ETA: 1s - loss: 0.0512 - accuracy: 0.9820"
     ]
    },
    {
     "name": "stderr",
     "output_type": "stream",
     "text": [
      "2022-01-18 23:03:10.626396: I tensorflow/core/grappler/optimizers/custom_graph_optimizer_registry.cc:112] Plugin optimizer for device_type GPU is enabled.\n"
     ]
    },
    {
     "name": "stdout",
     "output_type": "stream",
     "text": [
      "313/313 [==============================] - 2s 7ms/step - loss: 0.0701 - accuracy: 0.9784\n"
     ]
    }
   ],
   "source": [
    "# 모델에 테스트셋 넣어서 성증 교차검증 하기 \n",
    "test_loss, test_acc = network.evaluate(test_images, test_labels)"
   ]
  },
  {
   "cell_type": "code",
   "execution_count": 246,
   "metadata": {},
   "outputs": [
    {
     "name": "stdout",
     "output_type": "stream",
     "text": [
      "test_loss:0.0700913518667221\n",
      "test_acc:0.9784000515937805\n"
     ]
    }
   ],
   "source": [
    "# 모형 성능평가 결과값 \n",
    "print(f'test_loss:{test_loss}');print(f'test_acc:{test_acc}')"
   ]
  },
  {
   "cell_type": "markdown",
   "metadata": {},
   "source": [
    "# 모형에 임의의 MNIST 데이터 투입해보기 "
   ]
  },
  {
   "cell_type": "code",
   "execution_count": 257,
   "metadata": {},
   "outputs": [],
   "source": [
    "first_image = train_images[3].reshape((1, 28*28))"
   ]
  },
  {
   "cell_type": "code",
   "execution_count": 258,
   "metadata": {},
   "outputs": [
    {
     "data": {
      "text/plain": [
       "array([2.3608993e-09, 9.9996030e-01, 1.2336987e-05, 8.0996138e-08,\n",
       "       1.6119817e-06, 1.2742596e-08, 2.0098611e-08, 1.7875993e-05,\n",
       "       7.7193372e-06, 4.1783554e-09], dtype=float32)"
      ]
     },
     "execution_count": 258,
     "metadata": {},
     "output_type": "execute_result"
    }
   ],
   "source": [
    "result = network.predict(first_image)[0]\n",
    "result"
   ]
  },
  {
   "cell_type": "code",
   "execution_count": 259,
   "metadata": {},
   "outputs": [
    {
     "data": {
      "image/png": "[encoded data removed]",
      "text/plain": [
       "<Figure size 1500x600 with 1 Axes>"
      ]
     },
     "metadata": {
      "needs_background": "light"
     },
     "output_type": "display_data"
    }
   ],
   "source": [
    "import seaborn as sns\n",
    "import matplotlib.pyplot as plt\n",
    "\n",
    "plt.figure(figsize=(5,2))\n",
    "sns.barplot(list(range(0,10)), result)\n",
    "plt.title('prediction result')\n",
    "plt.show()"
   ]
  },
  {
   "cell_type": "code",
   "execution_count": 260,
   "metadata": {},
   "outputs": [
    {
     "data": {
      "image/png": "[encoded data removed]",
      "text/plain": [
       "<Figure size 300x300 with 1 Axes>"
      ]
     },
     "metadata": {
      "needs_background": "light"
     },
     "output_type": "display_data"
    }
   ],
   "source": [
    "plt.figure(figsize=(1,1))\n",
    "plt.imshow(train_images[3].reshape(28,28))\n",
    "plt.axis('off')\n",
    "plt.show() # 모델이 1로 분류해냈다. "
   ]
  },
  {
   "cell_type": "markdown",
   "metadata": {},
   "source": [
    "# 머신러닝 모형 입력데이터: 텐서(다차원 넘파이 배열)"
   ]
  },
  {
   "cell_type": "code",
   "execution_count": 124,
   "metadata": {},
   "outputs": [],
   "source": [
    "import numpy as np\n",
    "\n",
    "# 스칼라 \n",
    "x = np.array(13)\n",
    "x.ndim \n",
    "\n",
    "# 벡터 \n",
    "x2 = np.array([1,2,3]) \n",
    "# 또는 \n",
    "x2 = np.array([[1],[2],[3]])\n",
    "\n",
    "# 행렬 \n",
    "x3 = np.array([[1,2,3],[4,5,6],[7,8,9]])"
   ]
  },
  {
   "cell_type": "code",
   "execution_count": 125,
   "metadata": {},
   "outputs": [],
   "source": [
    "(train_images, train_labels), (test_images, test_labels) = mnist.load_data()"
   ]
  },
  {
   "cell_type": "code",
   "execution_count": 146,
   "metadata": {},
   "outputs": [
    {
     "data": {
      "image/png": "[encoded data removed]",
      "text/plain": [
       "<Figure size 300x300 with 1 Axes>"
      ]
     },
     "metadata": {
      "needs_background": "light"
     },
     "output_type": "display_data"
    }
   ],
   "source": [
    "digit = train_images[4]\n",
    "plt.figure(figsize=(1,1))\n",
    "plt.imshow(digit, cmap=plt.cm.binary)\n",
    "plt.axis('off')\n",
    "plt.show()"
   ]
  },
  {
   "cell_type": "code",
   "execution_count": 148,
   "metadata": {},
   "outputs": [
    {
     "data": {
      "text/plain": [
       "(90, 28, 28)"
      ]
     },
     "execution_count": 148,
     "metadata": {},
     "output_type": "execute_result"
    }
   ],
   "source": [
    "my_slice = train_images[10:100]\n",
    "my_slice.shape"
   ]
  },
  {
   "cell_type": "code",
   "execution_count": 159,
   "metadata": {},
   "outputs": [
    {
     "data": {
      "text/plain": [
       "array([[0, 2],\n",
       "       [3, 4]])"
      ]
     },
     "execution_count": 159,
     "metadata": {},
     "output_type": "execute_result"
    }
   ],
   "source": [
    "# 렐루 함수 요소별 연산 \n",
    "def naive_relu(x) : \n",
    "    assert len(x.shape) == 2\n",
    "    x = x.copy() \n",
    "    for i in range(x.shape[0]) : \n",
    "        for j in range(x.shape[1]) : \n",
    "            x[i,j] = max(x[i,j], 0)\n",
    "    return x\n",
    "\n",
    "x = np.array([[-1,2],[3,4]])\n",
    "naive_relu(x)"
   ]
  },
  {
   "cell_type": "code",
   "execution_count": 162,
   "metadata": {},
   "outputs": [],
   "source": [
    "# 행렬 덧셈 연산 - 요소별 연산 구현\n",
    "def naive_add(x,y) : \n",
    "    assert len(x.shape) == 2\n",
    "    assert x.shape == y.shape\n",
    "\n",
    "    x = x.copy()\n",
    "    for i in range(x.shape[0]) : \n",
    "        for j in range(x.shape[1]) : \n",
    "            x[i,j] += y[i,j]\n",
    "    return x"
   ]
  },
  {
   "cell_type": "code",
   "execution_count": 164,
   "metadata": {},
   "outputs": [],
   "source": [
    "# 행렬_벡터 합 - 벡터 브로드캐스팅 \n",
    "\n",
    "def naive_add_matrix_and_vector(x,y) : \n",
    "    assert len(x.shape) == 2 # 행렬\n",
    "    assert len(y.shape) == 1 # 벡터 \n",
    "    assert x.shape[1] == y.shape[0]\n",
    "\n",
    "    x = x.copy() \n",
    "    for i in range(x.shape[0]) : \n",
    "        for j in range(x.shape[1]) : \n",
    "            x[i,j] = y[j]\n",
    "    return x "
   ]
  },
  {
   "cell_type": "markdown",
   "metadata": {},
   "source": [
    "### 4차원 텐서 - 2차원 텐서 브로드캐스팅_테스트"
   ]
  },
  {
   "cell_type": "code",
   "execution_count": 170,
   "metadata": {},
   "outputs": [
    {
     "data": {
      "text/plain": [
       "array([0.62668923, 0.75148232, 0.00107898, 0.69927087, 0.79045923,\n",
       "       0.19766149, 0.29941795, 0.23779972, 0.61271929, 0.87920646])"
      ]
     },
     "execution_count": 170,
     "metadata": {},
     "output_type": "execute_result"
    }
   ],
   "source": [
    "import numpy as np\n",
    "\n",
    "x = np.random.random((64,3,32,10))\n",
    "x[0][0][0] # 0.62668923"
   ]
  },
  {
   "cell_type": "code",
   "execution_count": 179,
   "metadata": {},
   "outputs": [
    {
     "data": {
      "text/plain": [
       "array([[0.77778829, 0.59878733, 0.45451706, 0.97315788, 0.50811401,\n",
       "        0.83978031, 0.96913412, 0.31768353, 0.45875485, 0.99470715],\n",
       "       [0.48710577, 0.70155746, 0.28134185, 0.05200629, 0.51537562,\n",
       "        0.97251234, 0.73338766, 0.20016098, 0.7419909 , 0.40458847],\n",
       "       [0.67170695, 0.38222024, 0.949062  , 0.5458249 , 0.74377414,\n",
       "        0.16500233, 0.98545508, 0.51093566, 0.51236396, 0.63500688],\n",
       "       [0.15535086, 0.35690963, 0.50097427, 0.94904608, 0.21938257,\n",
       "        0.99925933, 0.60094796, 0.95238849, 0.9926945 , 0.22924902],\n",
       "       [0.63946561, 0.76202882, 0.47712356, 0.17787071, 0.3692036 ,\n",
       "        0.0893334 , 0.63619716, 0.55788606, 0.08216012, 0.76435202],\n",
       "       [0.59868272, 0.30357328, 0.23429367, 0.12128879, 0.21863653,\n",
       "        0.85830165, 0.79787473, 0.46246147, 0.06832513, 0.63501519],\n",
       "       [0.0393026 , 0.79006564, 0.68505082, 0.08563236, 0.03770184,\n",
       "        0.98628341, 0.8698565 , 0.94246394, 0.71721065, 0.66566388],\n",
       "       [0.43208697, 0.15210416, 0.02181553, 0.87140661, 0.43724651,\n",
       "        0.44681554, 0.64052934, 0.15875224, 0.14340002, 0.73824904],\n",
       "       [0.84572738, 0.874019  , 0.96305809, 0.03600731, 0.31055138,\n",
       "        0.33038215, 0.50649295, 0.09700591, 0.73242193, 0.40967613],\n",
       "       [0.22006988, 0.81917689, 0.59717011, 0.58006855, 0.47067409,\n",
       "        0.82740768, 0.52121852, 0.16538327, 0.41607387, 0.89387014],\n",
       "       [0.43911596, 0.1121465 , 0.65376368, 0.3447463 , 0.83356235,\n",
       "        0.09349435, 0.4034449 , 0.76460484, 0.53493413, 0.86463842],\n",
       "       [0.78394348, 0.17477282, 0.6194116 , 0.81463749, 0.04742429,\n",
       "        0.58217768, 0.01505416, 0.91383378, 0.41276947, 0.32547295],\n",
       "       [0.13893734, 0.41118685, 0.75928838, 0.25357698, 0.00553774,\n",
       "        0.22063623, 0.47157534, 0.167775  , 0.19474885, 0.51852127],\n",
       "       [0.63261637, 0.78762976, 0.31561483, 0.87628186, 0.00981823,\n",
       "        0.35729306, 0.85758218, 0.42923619, 0.51293888, 0.40588752],\n",
       "       [0.79925361, 0.33510006, 0.76481082, 0.72995798, 0.25308663,\n",
       "        0.66918618, 0.76063393, 0.54888719, 0.75272209, 0.86568465],\n",
       "       [0.50287763, 0.89305782, 0.32072622, 0.75201559, 0.21492574,\n",
       "        0.26366994, 0.48495717, 0.77506034, 0.60650414, 0.06098892],\n",
       "       [0.7396345 , 0.18282248, 0.97326664, 0.28832581, 0.21553579,\n",
       "        0.4934301 , 0.18321739, 0.33843171, 0.16146982, 0.13723286],\n",
       "       [0.43256539, 0.22628479, 0.04283707, 0.57650893, 0.24874817,\n",
       "        0.4716512 , 0.17815722, 0.99549933, 0.54163709, 0.54884041],\n",
       "       [0.51023462, 0.41191673, 0.82281599, 0.7984696 , 0.25300614,\n",
       "        0.15199021, 0.95573642, 0.35538354, 0.85766436, 0.15196777],\n",
       "       [0.59627595, 0.43221315, 0.28927911, 0.23372955, 0.17729965,\n",
       "        0.64200016, 0.873301  , 0.49224311, 0.72013432, 0.3726591 ],\n",
       "       [0.39507724, 0.40094623, 0.77860018, 0.48149592, 0.66905806,\n",
       "        0.554487  , 0.04842951, 0.28617217, 0.08330476, 0.17830009],\n",
       "       [0.97625985, 0.35750187, 0.24842604, 0.47339994, 0.10705064,\n",
       "        0.11736648, 0.62173039, 0.73964143, 0.48861414, 0.99961725],\n",
       "       [0.63625945, 0.95221763, 0.28623461, 0.39695866, 0.9219616 ,\n",
       "        0.3049406 , 0.09398689, 0.0448325 , 0.57833087, 0.69432303],\n",
       "       [0.51027078, 0.50284662, 0.45025549, 0.21724235, 0.73400422,\n",
       "        0.94575774, 0.4541271 , 0.77847575, 0.6466787 , 0.81194933],\n",
       "       [0.18393657, 0.05321049, 0.0833903 , 0.98481716, 0.77906023,\n",
       "        0.80653871, 0.43823984, 0.57254014, 0.62644633, 0.46959978],\n",
       "       [0.61306634, 0.66039028, 0.27862144, 0.63215842, 0.54557059,\n",
       "        0.89013804, 0.4466118 , 0.60940631, 0.41950942, 0.8205622 ],\n",
       "       [0.02643   , 0.40894669, 0.7238818 , 0.95600389, 0.47370248,\n",
       "        0.71151051, 0.61520612, 0.61781002, 0.75989143, 0.47344058],\n",
       "       [0.23063822, 0.74111957, 0.71452608, 0.99546941, 0.29991857,\n",
       "        0.40521108, 0.83135803, 0.5425903 , 0.04189257, 0.52547926],\n",
       "       [0.75850805, 0.29571725, 0.70393844, 0.20540519, 0.75563804,\n",
       "        0.26335854, 0.1743626 , 0.80872449, 0.52278286, 0.0654083 ],\n",
       "       [0.25986356, 0.07225458, 0.59878548, 0.09014397, 0.08497212,\n",
       "        0.15766661, 0.59702452, 0.5670189 , 0.92638707, 0.4438761 ],\n",
       "       [0.90028034, 0.32009693, 0.85946712, 0.80156659, 0.13875284,\n",
       "        0.06487387, 0.13723504, 0.59975816, 0.09642786, 0.80923463],\n",
       "       [0.84737693, 0.90531658, 0.35737728, 0.2917387 , 0.40445534,\n",
       "        0.72169602, 0.64823546, 0.5578197 , 0.26342803, 0.42724229]])"
      ]
     },
     "execution_count": 179,
     "metadata": {},
     "output_type": "execute_result"
    }
   ],
   "source": [
    "y = np.random.random((32,10))\n",
    "y"
   ]
  },
  {
   "cell_type": "code",
   "execution_count": 180,
   "metadata": {},
   "outputs": [
    {
     "data": {
      "text/plain": [
       "array([0.77778829, 0.59878733, 0.45451706, 0.97315788, 0.50811401,\n",
       "       0.83978031, 0.96913412, 0.31768353, 0.45875485, 0.99470715])"
      ]
     },
     "execution_count": 180,
     "metadata": {},
     "output_type": "execute_result"
    }
   ],
   "source": [
    "y[0] # 0.777778829"
   ]
  },
  {
   "cell_type": "code",
   "execution_count": 189,
   "metadata": {},
   "outputs": [
    {
     "data": {
      "text/plain": [
       "array([1.40447752, 1.35026966, 0.45559603, 1.67242875, 1.29857324,\n",
       "       1.0374418 , 1.26855207, 0.55548324, 1.07147413, 1.87391361])"
      ]
     },
     "execution_count": 189,
     "metadata": {},
     "output_type": "execute_result"
    }
   ],
   "source": [
    "(x+y)[0][0][0]"
   ]
  },
  {
   "cell_type": "code",
   "execution_count": 191,
   "metadata": {},
   "outputs": [
    {
     "data": {
      "text/plain": [
       "array([1.40447752, 1.35026966, 0.45559603, 1.67242875, 1.29857324,\n",
       "       1.0374418 , 1.26855207, 0.55548324, 1.07147413, 1.87391361])"
      ]
     },
     "execution_count": 191,
     "metadata": {},
     "output_type": "execute_result"
    }
   ],
   "source": [
    "x[0][0][0]+y[0]"
   ]
  },
  {
   "cell_type": "markdown",
   "metadata": {},
   "source": [
    "### 예상대로 브로드캐스팅 후 요소별 연산한다. "
   ]
  },
  {
   "cell_type": "code",
   "execution_count": 198,
   "metadata": {},
   "outputs": [
    {
     "name": "stdout",
     "output_type": "stream",
     "text": [
      "(300, 20)\n",
      "전치 후\n",
      "(20, 300)\n"
     ]
    }
   ],
   "source": [
    "# 텐서 전치연산 \n",
    "\n",
    "x = np.zeros((300,20));print(f'{x.shape}')\n",
    "print('전치 후')\n",
    "print(x.T.shape)"
   ]
  },
  {
   "cell_type": "code",
   "execution_count": 216,
   "metadata": {},
   "outputs": [],
   "source": [
    "(train_images, train_labels), (test_images, test_labels) = mnist.load_data()\n",
    "\n",
    "train_images = train_images.reshape((60000,28*28)) # 1개 행 = 1개 이미지 # 행렬 꼴 이미지가 모두 벡터들로 바뀌었다. \n",
    "#train_images = train_images.astype('float32')/255"
   ]
  },
  {
   "cell_type": "code",
   "execution_count": 225,
   "metadata": {},
   "outputs": [
    {
     "data": {
      "image/png": "[encoded data removed]",
      "text/plain": [
       "<Figure size 600x600 with 1 Axes>"
      ]
     },
     "metadata": {
      "needs_background": "light"
     },
     "output_type": "display_data"
    }
   ],
   "source": [
    "plt.figure(figsize=(2,2))\n",
    "p = train_images[3].reshape(28,28)\n",
    "plt.imshow(p, cmap=plt.cm.gray)\n",
    "plt.axis('off')\n",
    "plt.show()"
   ]
  }
 ],
 "metadata": {
  "interpreter": {
   "hash": "4c3ef011dacc38893a1195bd1400f1bfec9d902762372ab997d6b63973747a5f"
  },
  "kernelspec": {
   "display_name": "Python 3.8.5 64-bit (conda)",
   "language": "python",
   "name": "python3"
  },
  "language_info": {
   "codemirror_mode": {
    "name": "ipython",
    "version": 3
   },
   "file_extension": ".py",
   "mimetype": "text/x-python",
   "name": "python",
   "nbconvert_exporter": "python",
   "pygments_lexer": "ipython3",
   "version": "3.8.12"
  },
  "orig_nbformat": 4
 },
 "nbformat": 4,
 "nbformat_minor": 2
}
