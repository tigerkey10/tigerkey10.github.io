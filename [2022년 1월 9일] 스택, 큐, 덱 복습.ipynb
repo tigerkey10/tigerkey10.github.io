{
 "cells": [
  {
   "cell_type": "markdown",
   "metadata": {},
   "source": [
    "# 스택, 큐, 덱_ 복습"
   ]
  },
  {
   "cell_type": "markdown",
   "metadata": {},
   "source": [
    "# pythonds 클래스 이용해서 스택 생성하기 "
   ]
  },
  {
   "cell_type": "code",
   "execution_count": 17,
   "metadata": {},
   "outputs": [
    {
     "name": "stdout",
     "output_type": "stream",
     "text": [
      "True\n",
      "[3, 4, 5, 'A']\n",
      "A\n",
      "5\n",
      "4\n",
      "3\n",
      "True\n"
     ]
    }
   ],
   "source": [
    "from pythonds.basic import Stack # 스택 클래스 호출 \n",
    "\n",
    "st = Stack() # 스택 객체 st 생성 \n",
    "print(st.isEmpty()) # 스택이 비어있는지 확인: 아무것도 안 넣었으니까 True\n",
    "\n",
    "st.push(3);st.push(4);st.push(5);st.push('A') # 스택에 차례로 3,4,5,'A' 삽입\n",
    "print(st.items) # 스택에 넣은 요소들 리스트 형태로 출력 \n",
    "\n",
    "st.peek() # 맨 위에 있는 데이터 조회: 'A'\n",
    "\n",
    "while st.size() != 0 : # 스택이 빌 때 까지\n",
    "    print(st.pop()) # 후입선출로 하나씩 꺼내서 반환하고 삭제. A-5-4-3 순으로 나올 것이다. \n",
    "\n",
    "print(st.isEmpty())# 스택이 비어있는지 확인. pop()으로 다 꺼냈다. True"
   ]
  },
  {
   "cell_type": "markdown",
   "metadata": {},
   "source": [
    "# 파이썬 기본 리스트 사용해서 스택 클래스 직접 적기 "
   ]
  },
  {
   "cell_type": "code",
   "execution_count": 38,
   "metadata": {},
   "outputs": [
    {
     "name": "stdout",
     "output_type": "stream",
     "text": [
      "True\n",
      "[]\n",
      "a\n",
      "4\n",
      "4\n"
     ]
    },
    {
     "data": {
      "text/plain": [
       "2"
      ]
     },
     "execution_count": 38,
     "metadata": {},
     "output_type": "execute_result"
    }
   ],
   "source": [
    "class Stack : \n",
    "    # 객체 생성 할 때 자동 호출 \n",
    "    def __init__(self): \n",
    "        self.items = []\n",
    "\n",
    "    # push() 연산 구현 \n",
    "    def push(self, value): \n",
    "        self.items.append(value) # 리스트 후단에 데이터 추가 \n",
    "    \n",
    "    # pop() 연산 구현 \n",
    "    def pop(self): \n",
    "        print(self.items[-1])\n",
    "        del self.items[-1]\n",
    "\n",
    "    # peek() 연산 구현 \n",
    "    def peek(self): \n",
    "        print(self.items[-1])\n",
    "\n",
    "    # isEmpty() 연산 구현 \n",
    "    def isEmpty(self): \n",
    "        if len(self.items) == 0 : \n",
    "            return True\n",
    "        else : \n",
    "            return False\n",
    "        \n",
    "    # size() 연산 구현 \n",
    "    def size(self): \n",
    "        return len(self.items)\n",
    "\n",
    "st2 = Stack() # 스택 객체 생성 \n",
    "\n",
    "print(st2.isEmpty()) # 스택이 비었는지 확인\n",
    "print(st2.items)\n",
    "\n",
    "st2.push(3); st2.push(4);st2.push('a')\n",
    "st2.items\n",
    "\n",
    "st2.pop()\n",
    "st2.items\n",
    "\n",
    "st2.peek() ; st2.peek()\n",
    "\n",
    "st2.isEmpty()\n",
    "\n",
    "st2.size()\n",
    "\n"
   ]
  },
  {
   "cell_type": "code",
   "execution_count": 52,
   "metadata": {},
   "outputs": [
    {
     "data": {
      "text/plain": [
       "True"
      ]
     },
     "execution_count": 52,
     "metadata": {},
     "output_type": "execute_result"
    }
   ],
   "source": [
    "class Stack : \n",
    "    def __init__(self) : \n",
    "        self.items = []\n",
    "\n",
    "    # push()\n",
    "    def push(self, item) : \n",
    "        self.items.append(item)\n",
    "\n",
    "    # pop()\n",
    "    def pop(self) : \n",
    "        if not self.isEmpty() : \n",
    "            self.items.pop()\n",
    "    \n",
    "    # peek()\n",
    "    def peek(self) : \n",
    "        if not self.isEmpty() : \n",
    "            return self.items[len(self.items)-1]\n",
    "\n",
    "    # isEmpty()\n",
    "    def isEmpty(self) : \n",
    "        return self.items == []\n",
    "\n",
    "    # size()\n",
    "    def size(self) : \n",
    "        return len(self.items)\n",
    "\n",
    "\n",
    "st2 = Stack()\n",
    "st2.isEmpty()"
   ]
  },
  {
   "cell_type": "markdown",
   "metadata": {},
   "source": [
    "# 단순연결리스트 사용해서 스택 구현하기 "
   ]
  },
  {
   "cell_type": "code",
   "execution_count": 91,
   "metadata": {},
   "outputs": [],
   "source": [
    "# 노드 정의 \n",
    "class Node : \n",
    "    def __init__(self, data, link) : \n",
    "        self.item = data # 데이터 필드 \n",
    "        self.next = link # 링크 필드 \n",
    "\n",
    "# 빈 단순연결리스트의 헤드포인터 \n",
    "top = None\n",
    "# 빈 단순연결리스트 사이즈 \n",
    "size = 0\n",
    "\n",
    "# push(): 삽입 \n",
    "def push(data) : \n",
    "    global top # 전역변수 top 가져와서 쓸 것이다\n",
    "    global size # 전역변수 size 가져와서 쓸 것이다 \n",
    "\n",
    "    # 새 노드 생성, 데이터 삽입, 링크 지정, 그리고 헤드포인터 지정 \n",
    "    top = Node(data, top)\n",
    "    # 데이터 1 추가할 때. 연결리스트 크기 1 증가 \n",
    "    size += 1 \n",
    "\n",
    "# pop(): 삭제 \n",
    "def pop() : \n",
    "    global top \n",
    "    global size \n",
    "\n",
    "    if size != 0 : # 스택이 차 있을 때 만\n",
    "        top_item = top.item\n",
    "\n",
    "        # 연결리스트에서 삭제: 헤드포인터만 다음 노드로 옮겨간다\n",
    "        top = top.next \n",
    "\n",
    "        # 연결리스트 노드 수 -1\n",
    "        size -= 1\n",
    "\n",
    "        return top_item # 연결리스트에서 뺀 노드에 뭑가 들어있었는지 반환 \n",
    "\n",
    "# peek(): 조회\n",
    "def peek() : \n",
    "    global top \n",
    "\n",
    "    if size != 0 : # 스택이 차 있을 때 만\n",
    "        return top.item\n",
    "\n",
    "# print_stack(): 스택 내용물 전체 출력 \n",
    "def print_stack() : \n",
    "    global top \n",
    "    global size\n",
    "\n",
    "    print('top ->', end='')\n",
    "\n",
    "    p = top # 현재 노드 \n",
    "    while p : \n",
    "        if p.next != None : # 후단 노드가 아닐 때 \n",
    "            print(f'{p.item} ->', end='')\n",
    "        else : # 후단에 도달 했을 때 \n",
    "            print(p.item, end='')\n",
    "        p = p.next # 다음 노드로 이동 \n",
    "    print()\n",
    "\n",
    "# 스택 내용물 모두 제거 \n",
    "def stack_clear() : \n",
    "    global top \n",
    "    global size \n",
    "\n",
    "    # 연결리스트 헤드포인터를 None에 지정하면 된다. \n",
    "    # 맨 처음 빈 연결리스트 상태로 돌아간다. \n",
    "    top = None\n",
    "    size = 0"
   ]
  },
  {
   "cell_type": "code",
   "execution_count": 94,
   "metadata": {},
   "outputs": [
    {
     "name": "stdout",
     "output_type": "stream",
     "text": [
      "사과, 오렌지, 체리 스택에 push 후:top ->cherry ->orange ->apple\n"
     ]
    }
   ],
   "source": [
    "# 스택이 잘 생성되었는지 테스트 \n",
    "push('apple')\n",
    "push('orange')\n",
    "push('cherry')\n",
    "print('사과, 오렌지, 체리 스택에 push 후:', end='')\n",
    "print_stack() # 스택 출력 "
   ]
  },
  {
   "cell_type": "code",
   "execution_count": 95,
   "metadata": {},
   "outputs": [
    {
     "name": "stdout",
     "output_type": "stream",
     "text": [
      "top 항목: cherry\n"
     ]
    }
   ],
   "source": [
    "print('top 항목: ', end='')\n",
    "print(peek())"
   ]
  },
  {
   "cell_type": "code",
   "execution_count": 96,
   "metadata": {},
   "outputs": [
    {
     "name": "stdout",
     "output_type": "stream",
     "text": [
      "배 push 후: top ->pear ->cherry ->orange ->apple\n"
     ]
    }
   ],
   "source": [
    "push('pear')\n",
    "print(f'배 push 후: ', end='')\n",
    "print_stack()"
   ]
  },
  {
   "cell_type": "code",
   "execution_count": 97,
   "metadata": {},
   "outputs": [
    {
     "data": {
      "text/plain": [
       "'pear'"
      ]
     },
     "execution_count": 97,
     "metadata": {},
     "output_type": "execute_result"
    }
   ],
   "source": [
    "pop()"
   ]
  },
  {
   "cell_type": "code",
   "execution_count": 99,
   "metadata": {},
   "outputs": [
    {
     "name": "stdout",
     "output_type": "stream",
     "text": [
      "pop(), 포도 push 후:top ->grape ->grape ->cherry ->orange ->apple\n"
     ]
    }
   ],
   "source": [
    "push('grape')\n",
    "print('pop(), 포도 push 후:', end='')\n",
    "print_stack()"
   ]
  },
  {
   "cell_type": "markdown",
   "metadata": {},
   "source": [
    "# 큐"
   ]
  },
  {
   "cell_type": "code",
   "execution_count": null,
   "metadata": {},
   "outputs": [],
   "source": []
  }
 ],
 "metadata": {
  "interpreter": {
   "hash": "4c3ef011dacc38893a1195bd1400f1bfec9d902762372ab997d6b63973747a5f"
  },
  "kernelspec": {
   "display_name": "Python 3.8.5 64-bit ('base': conda)",
   "language": "python",
   "name": "python3"
  },
  "language_info": {
   "codemirror_mode": {
    "name": "ipython",
    "version": 3
   },
   "file_extension": ".py",
   "mimetype": "text/x-python",
   "name": "python",
   "nbconvert_exporter": "python",
   "pygments_lexer": "ipython3",
   "version": "3.8.5"
  },
  "orig_nbformat": 4
 },
 "nbformat": 4,
 "nbformat_minor": 2
}
