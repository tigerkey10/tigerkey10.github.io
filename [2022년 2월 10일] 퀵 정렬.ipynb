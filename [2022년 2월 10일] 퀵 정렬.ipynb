{
 "cells": [
  {
   "cell_type": "markdown",
   "metadata": {},
   "source": [
    "# 퀵 정렬 "
   ]
  },
  {
   "cell_type": "code",
   "execution_count": 4,
   "metadata": {},
   "outputs": [
    {
     "data": {
      "text/plain": [
       "16"
      ]
     },
     "execution_count": 4,
     "metadata": {},
     "output_type": "execute_result"
    }
   ],
   "source": [
    "a = [54, 88, 77, 26, 93, 17, 49, 10, 17, 77, 11, 31, 22, 44, 17, 20]\n",
    "len(a)"
   ]
  },
  {
   "cell_type": "code",
   "execution_count": 5,
   "metadata": {},
   "outputs": [],
   "source": [
    "# 퀵 정렬 \n",
    "\n",
    "def qsort(a, low, high) : \n",
    "    if (low < high) : \n",
    "        pivot = partition(a, low, high)\n",
    "        qsort(a, low, pivot-1)\n",
    "        qsort(a, pivot+1, high)"
   ]
  },
  {
   "cell_type": "code",
   "execution_count": 6,
   "metadata": {},
   "outputs": [],
   "source": [
    "# pivot이 가운데 있는 경우 정의 \n",
    "\n",
    "def partition(a, low, high) : \n",
    "    i = low \n",
    "    j = high \n",
    "    pivot = (high + low) // 2\n",
    "\n",
    "    while True : \n",
    "        while (i < high) and (a[i] < a[pivot]) : \n",
    "            i += 1\n",
    "        while (j > low) and (a[j] > a[pivot]) : \n",
    "            j -= 1\n",
    "        if j <= i : break # 계속 가다가 멈춘 사유가 j <= i 이면 break.\n",
    "        if (i == pivot) : \n",
    "            a[i], a[j] = a[j], a[i]\n",
    "            pivot = j # pivot은 포인터에 불과 \n",
    "            i += 1 ; j -= 1\n",
    "        elif (j == pivot) : \n",
    "            a[i], a[j] = a[j], a[i]\n",
    "            pivot = i\n",
    "            i += 1 ; j -= 1\n",
    "        else : \n",
    "            a[i], a[j] = a[j], a[i]\n",
    "            i += 1 ; j -= 1\n",
    "    \n",
    "    if (a[j] <= a[pivot]) and (j >= pivot) : \n",
    "        a[pivot], a[j] = a[j], a[pivot]\n",
    "        return j\n",
    "    elif (a[i] >= a[pivot]) and (i <= pivot) : \n",
    "        a[pivot], a[i] = a[i], a[pivot]\n",
    "        return i"
   ]
  },
  {
   "cell_type": "code",
   "execution_count": 7,
   "metadata": {},
   "outputs": [
    {
     "name": "stdout",
     "output_type": "stream",
     "text": [
      "정렬 전:[54, 88, 77, 26, 93, 17, 49, 10, 17, 77, 11, 31, 22, 44, 17, 20]\n",
      "정렬 후:[10, 11, 17, 17, 17, 20, 22, 26, 31, 44, 49, 54, 77, 77, 88, 93]\n"
     ]
    }
   ],
   "source": [
    "print(f'정렬 전:{a}')\n",
    "qsort(a, 0, len(a)-1)\n",
    "print(f'정렬 후:{a}')"
   ]
  },
  {
   "cell_type": "code",
   "execution_count": 8,
   "metadata": {},
   "outputs": [],
   "source": [
    "random_list = list(np.random.randint(0,100,20))"
   ]
  },
  {
   "cell_type": "code",
   "execution_count": 9,
   "metadata": {},
   "outputs": [
    {
     "name": "stdout",
     "output_type": "stream",
     "text": [
      "정렬 전:[5, 83, 59, 31, 86, 89, 25, 91, 41, 15, 77, 6, 55, 55, 46, 59, 91, 40, 50, 46]\n",
      "퀵 정렬 후:[5, 6, 15, 25, 31, 40, 41, 46, 46, 50, 55, 55, 59, 59, 77, 83, 86, 89, 91, 91]\n"
     ]
    }
   ],
   "source": [
    "print(f'정렬 전:{random_list}')\n",
    "qsort(random_list, 0, len(random_list)-1)\n",
    "print(f'퀵 정렬 후:{random_list}')"
   ]
  },
  {
   "cell_type": "code",
   "execution_count": 10,
   "metadata": {},
   "outputs": [],
   "source": [
    "random_list = list(np.random.randint(0,1000,20))"
   ]
  },
  {
   "cell_type": "code",
   "execution_count": 11,
   "metadata": {},
   "outputs": [
    {
     "name": "stdout",
     "output_type": "stream",
     "text": [
      "정렬 전:[831, 388, 62, 442, 111, 668, 838, 7, 869, 445, 635, 793, 169, 843, 586, 405, 346, 892, 665, 950]\n",
      "퀵 정렬 후:[7, 62, 111, 169, 346, 388, 405, 442, 445, 586, 635, 665, 668, 793, 831, 838, 843, 869, 892, 950]\n"
     ]
    }
   ],
   "source": [
    "print(f'정렬 전:{random_list}')\n",
    "qsort(random_list, 0, len(random_list)-1)\n",
    "print(f'퀵 정렬 후:{random_list}')"
   ]
  },
  {
   "cell_type": "code",
   "execution_count": 15,
   "metadata": {},
   "outputs": [],
   "source": [
    "# 가장 왼쪽이 pivot이 되는 경우 정의\n",
    "\n",
    "def partition_pl(a, pivot, high) : \n",
    "    i = pivot + 1\n",
    "    j = high \n",
    "\n",
    "    while True : \n",
    "        while (i < high) and (a[i] < a[pivot]) : \n",
    "            i += 1\n",
    "        while (j > pivot) and (a[j] > a[pivot]) : \n",
    "            j -= 1\n",
    "        if j <= i : break # i, j 만났거나 i, j 교차해서 멈춘 경우\n",
    "        a[i], a[j] = a[j], a[i]\n",
    "        i += 1 ; j -= 1 \n",
    "    # break 로 loop 깨진 경우 \n",
    "    a[pivot], a[j] = a[j], a[pivot]\n",
    "    return j # pivot 위치 반환 \n",
    "\n",
    "def qsort_pl(a, low, high) : \n",
    "    if low < high : \n",
    "        pivot = partition_pl(a, low, high)\n",
    "        qsort_pl(a, low, pivot-1)\n",
    "        qsort_pl(a, pivot+1, high)"
   ]
  },
  {
   "cell_type": "code",
   "execution_count": 28,
   "metadata": {},
   "outputs": [],
   "source": [
    "# 가장 오른쪽이 pivot이 되는 경우 정의 \n",
    "\n",
    "def partition_pr(a, low, pivot) : \n",
    "    i = low \n",
    "    j = pivot - 1\n",
    "\n",
    "    while True : \n",
    "        while (i < pivot) and (a[i] < a[pivot]) : \n",
    "            i += 1 \n",
    "        while (j > low) and (a[j] > a[pivot]) : \n",
    "            j -= 1\n",
    "        if (j <= i) : break \n",
    "        a[i], a[j] = a[j], a[i]\n",
    "        i += 1 ; j-= 1\n",
    "    a[pivot], a[i] = a[i], a[pivot]\n",
    "    return i # pivot 위치 반환 \n",
    "\n",
    "\n",
    "def qsort_pr(a, low, high) : \n",
    "    if low < high : \n",
    "        pivot = partition_pr(a, low, high)\n",
    "        qsort_pr(a, low, pivot-1)\n",
    "        qsort_pr(a, pivot+1, high)"
   ]
  },
  {
   "cell_type": "code",
   "execution_count": 16,
   "metadata": {},
   "outputs": [
    {
     "name": "stdout",
     "output_type": "stream",
     "text": [
      "정렬 전:[468  69 341 122 406 909 912 904 327 811 448  80 379 333 960 478 652  48\n",
      " 913 386]\n",
      "정렬 후:[ 48  69  80 122 327 333 341 379 386 406 448 468 478 652 811 904 909 912\n",
      " 913 960]\n"
     ]
    }
   ],
   "source": [
    "# 테스트 - qsort_pl\n",
    "randoms = np.random.randint(0, 1000, 20)\n",
    "print(f'정렬 전:{randoms}')\n",
    "qsort_pl(randoms, 0, len(randoms)-1)\n",
    "print(f'정렬 후:{randoms}')"
   ]
  },
  {
   "cell_type": "code",
   "execution_count": 31,
   "metadata": {},
   "outputs": [
    {
     "name": "stdout",
     "output_type": "stream",
     "text": [
      "정렬 전:[78 78  8 38 33 31 12 71 95 78 99 54 29 65 65 15 28 33 10 58]\n",
      "정렬 후:[ 8 10 12 15 28 29 31 33 33 38 54 58 65 65 71 78 78 78 95 99]\n"
     ]
    }
   ],
   "source": [
    "# 테스트 - qsort_pr \n",
    "randoms = np.random.randint(5, 100, 20)\n",
    "print(f'정렬 전:{randoms}')\n",
    "qsort_pr(randoms, 0, len(randoms)-1)\n",
    "print(f'정렬 후:{randoms}')"
   ]
  },
  {
   "cell_type": "code",
   "execution_count": null,
   "metadata": {},
   "outputs": [],
   "source": []
  }
 ],
 "metadata": {
  "interpreter": {
   "hash": "4c3ef011dacc38893a1195bd1400f1bfec9d902762372ab997d6b63973747a5f"
  },
  "kernelspec": {
   "display_name": "Python 3.8.5",
   "language": "python",
   "name": "python3"
  },
  "language_info": {
   "codemirror_mode": {
    "name": "ipython",
    "version": 3
   },
   "file_extension": ".py",
   "mimetype": "text/x-python",
   "name": "python",
   "nbconvert_exporter": "python",
   "pygments_lexer": "ipython3",
   "version": "3.8.5"
  },
  "orig_nbformat": 4
 },
 "nbformat": 4,
 "nbformat_minor": 2
}
