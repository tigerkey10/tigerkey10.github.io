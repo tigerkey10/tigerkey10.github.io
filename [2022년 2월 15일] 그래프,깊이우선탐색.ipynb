{
 "cells": [
  {
   "cell_type": "markdown",
   "metadata": {},
   "source": [
    "# 그래프 - 깊이우선탐색(DFS)"
   ]
  },
  {
   "cell_type": "code",
   "execution_count": 18,
   "metadata": {},
   "outputs": [],
   "source": [
    "# 깊이우선탐색 정의 \n",
    "\n",
    "def dfs(v) : \n",
    "    global adj \n",
    "    global visited \n",
    "    # 방문완료\n",
    "    visited[v] = True \n",
    "    # 출력 \n",
    "    print(f'{v}', end=' ')\n",
    "    # 인접 정점으로 \n",
    "    for w in adj[v] : \n",
    "        if not visited[w] : # 아직 방문 안 했다면 \n",
    "            dfs(w) # 그 인접 정점에서 재귀호출 \n",
    "\n",
    "# 인접리스트로 표현한 그래프 \n",
    "\n",
    "adj = [\n",
    "    [2,1],\n",
    "    [3,0],\n",
    "    [3,0],\n",
    "    [9,8,2,1],\n",
    "    [5],\n",
    "    [7,6,4],\n",
    "    [7,5],\n",
    "    [6,5],\n",
    "    [3],\n",
    "    [3]\n",
    "]\n",
    "\n",
    "# 그래프 정점 수 \n",
    "\n",
    "N = len(adj)\n",
    "\n",
    "# 정점 별 방문여부 \n",
    "\n",
    "visited = [False for x in range(N)]"
   ]
  },
  {
   "cell_type": "code",
   "execution_count": 19,
   "metadata": {},
   "outputs": [
    {
     "name": "stdout",
     "output_type": "stream",
     "text": [
      "DFS 결과:  0 2 3 9 8 1 4 5 7 6 "
     ]
    }
   ],
   "source": [
    "print(f'DFS 결과:', ' ',end='')\n",
    "for i in range(N) : \n",
    "    if not visited[i] : \n",
    "        dfs(i)"
   ]
  },
  {
   "cell_type": "markdown",
   "metadata": {},
   "source": [
    "# 깊이우선탐색 메커니즘 차용해 미로찾기 "
   ]
  },
  {
   "cell_type": "code",
   "execution_count": 22,
   "metadata": {},
   "outputs": [],
   "source": [
    "# 미로 시작점 \n",
    "start = (1,0)\n",
    "\n",
    "# 미로 \n",
    "map = [\n",
    "    [1,1,1,1,1,1],\n",
    "    ['e',0,0,0,0,1],\n",
    "    [1,0,1,0,1,1],\n",
    "    [1,1,1,0,1,1],\n",
    "    [1,1,1,'x',1,1]\n",
    "]\n",
    "\n",
    "# 미로 크기\n",
    "maze_size = (5,6)\n",
    "\n",
    "# 스택 \n",
    "stack = []"
   ]
  },
  {
   "cell_type": "code",
   "execution_count": 18,
   "metadata": {},
   "outputs": [],
   "source": [
    "# 갈 수 있는 길인기, 갈 수 없는 길인지 검사 정의 \n",
    "\n",
    "def isValidPos(x,y) : \n",
    "    if x < 0 or y < 0 or x >= maze_size[0] or y >= maze_size[1] : \n",
    "        return False # 갈 수 없는 길이다. \n",
    "    return map[x][y] == 0 or map[x][y] == 'x' # 1은 갈 수 없는 길이다. \n",
    "\n",
    "# DFS 정의 \n",
    "def DFS(start) : \n",
    "    global stack ; global map \n",
    "    stack.append(start) # 미로 시작 위치 \n",
    "\n",
    "    while len(stack) != 0 : # 스택이 빌 때 까지 = 갈 수 있는 곳이 없을 떼 까지 \n",
    "        here = stack.pop() # 현재위치 \n",
    "        print(f'{here}->', end=' ') # 현재 진행상황 \n",
    "        (x,y) = here\n",
    "\n",
    "        if (map[x][y] == 'x') : # 현재 위치가 출구면 \n",
    "            return True # 탈출 성공 \n",
    "        else : # 탈출구 아니면 다음 갈 수 있는 위치 찾는다. \n",
    "            map[x][y] = '.' # 한번. 이미. 방문한 곳 표시 (다시 가지 않기 위함)\n",
    "            # 갈 수 있는 다음 위치 검사 \n",
    "            if isValidPos(x, y-1) : stack.append((x, y-1)) # 좌 \n",
    "            if isValidPos(x, y+1) : stack.append((x, y+1)) # 우 \n",
    "            if isValidPos(x-1, y) : stack.append((x-1, y)) # 상 \n",
    "            if isValidPos(x+1, y) : stack.append((x+1, y)) # 하 \n",
    "        print(f'stack: {stack}') # 갈 수 있는 선택지들 \n",
    "    return False # 사방이 막장이면 탈출 실패 "
   ]
  },
  {
   "cell_type": "code",
   "execution_count": 23,
   "metadata": {},
   "outputs": [
    {
     "name": "stdout",
     "output_type": "stream",
     "text": [
      "(1, 0)-> stack: [(1, 1)]\n",
      "(1, 1)-> stack: [(1, 2), (2, 1)]\n",
      "(2, 1)-> stack: [(1, 2)]\n",
      "(1, 2)-> stack: [(1, 3)]\n",
      "(1, 3)-> stack: [(1, 4), (2, 3)]\n",
      "(2, 3)-> stack: [(1, 4), (3, 3)]\n",
      "(3, 3)-> stack: [(1, 4), (4, 3)]\n",
      "(4, 3)-> "
     ]
    },
    {
     "data": {
      "text/plain": [
       "True"
      ]
     },
     "execution_count": 23,
     "metadata": {},
     "output_type": "execute_result"
    }
   ],
   "source": [
    "DFS(start)"
   ]
  },
  {
   "cell_type": "code",
   "execution_count": 24,
   "metadata": {},
   "outputs": [],
   "source": [
    "# 미로 \n",
    "map = [\n",
    "    [1,1,1,1,1,1],\n",
    "    ['e',0,0,0,0,1],\n",
    "    [1,0,1,0,1,1],\n",
    "    [1,1,1,0,1,1],\n",
    "    [1,1,1,1,1,1]\n",
    "]"
   ]
  },
  {
   "cell_type": "code",
   "execution_count": 25,
   "metadata": {},
   "outputs": [
    {
     "name": "stdout",
     "output_type": "stream",
     "text": [
      "(1, 0)-> stack: [(1, 4), (1, 1)]\n",
      "(1, 1)-> stack: [(1, 4), (1, 2), (2, 1)]\n",
      "(2, 1)-> stack: [(1, 4), (1, 2)]\n",
      "(1, 2)-> stack: [(1, 4), (1, 3)]\n",
      "(1, 3)-> stack: [(1, 4), (1, 4), (2, 3)]\n",
      "(2, 3)-> stack: [(1, 4), (1, 4), (3, 3)]\n",
      "(3, 3)-> stack: [(1, 4), (1, 4)]\n",
      "(1, 4)-> stack: [(1, 4)]\n",
      "(1, 4)-> stack: []\n"
     ]
    },
    {
     "data": {
      "text/plain": [
       "False"
      ]
     },
     "execution_count": 25,
     "metadata": {},
     "output_type": "execute_result"
    }
   ],
   "source": [
    "DFS(start)"
   ]
  },
  {
   "cell_type": "code",
   "execution_count": 26,
   "metadata": {},
   "outputs": [],
   "source": [
    "map = [\n",
    "    [1,1,1,1,'x',1],\n",
    "    [1,0,0,0,0,1],\n",
    "    [1,0,1,0,1,1],\n",
    "    [1,0,0,0,1,1],\n",
    "    [1,1,1,'e',1,1]\n",
    "]"
   ]
  },
  {
   "cell_type": "code",
   "execution_count": 27,
   "metadata": {},
   "outputs": [
    {
     "name": "stdout",
     "output_type": "stream",
     "text": [
      "(4, 3)-> stack: [(3, 3)]\n",
      "(3, 3)-> stack: [(3, 2), (2, 3)]\n",
      "(2, 3)-> stack: [(3, 2), (1, 3)]\n",
      "(1, 3)-> stack: [(3, 2), (1, 2), (1, 4)]\n",
      "(1, 4)-> stack: [(3, 2), (1, 2), (0, 4)]\n",
      "(0, 4)-> "
     ]
    },
    {
     "data": {
      "text/plain": [
       "True"
      ]
     },
     "execution_count": 27,
     "metadata": {},
     "output_type": "execute_result"
    }
   ],
   "source": [
    "start = (4, 3)\n",
    "DFS(start)"
   ]
  },
  {
   "cell_type": "markdown",
   "metadata": {},
   "source": [
    "# 너비우선탐색 "
   ]
  },
  {
   "cell_type": "code",
   "execution_count": null,
   "metadata": {},
   "outputs": [],
   "source": []
  }
 ],
 "metadata": {
  "interpreter": {
   "hash": "5c69af78ec1296bb8dce567f7dc582a831aacc25113635b0c93ed6d0ebdf014b"
  },
  "kernelspec": {
   "display_name": "Python 3.8.5 ('statdata')",
   "language": "python",
   "name": "python3"
  },
  "language_info": {
   "codemirror_mode": {
    "name": "ipython",
    "version": 3
   },
   "file_extension": ".py",
   "mimetype": "text/x-python",
   "name": "python",
   "nbconvert_exporter": "python",
   "pygments_lexer": "ipython3",
   "version": "3.8.5"
  },
  "orig_nbformat": 4
 },
 "nbformat": 4,
 "nbformat_minor": 2
}
