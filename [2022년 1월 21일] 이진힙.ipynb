{
 "cells": [
  {
   "cell_type": "markdown",
   "metadata": {},
   "source": [
    "# 힙 "
   ]
  },
  {
   "cell_type": "markdown",
   "metadata": {},
   "source": [
    "## 힙으로 구현된(알고리듬을 따르는) 우선순위 큐 "
   ]
  },
  {
   "cell_type": "code",
   "execution_count": 22,
   "metadata": {},
   "outputs": [],
   "source": [
    "from heapq import heappush, heappop, heappushpop, heapreplace\n",
    "\n",
    "heap = [] \n",
    "heappush(heap, 3);heappush(heap, 8);heappush(heap, 1);heappush(heap, 0);heappush(heap,99);heappush(heap, 4);heappush(heap, 2)"
   ]
  },
  {
   "cell_type": "code",
   "execution_count": 20,
   "metadata": {},
   "outputs": [
    {
     "data": {
      "text/plain": [
       "[0, 1, 2, 8, 99, 4, 3]"
      ]
     },
     "execution_count": 20,
     "metadata": {},
     "output_type": "execute_result"
    }
   ],
   "source": [
    "heap"
   ]
  },
  {
   "cell_type": "code",
   "execution_count": 21,
   "metadata": {},
   "outputs": [
    {
     "name": "stdout",
     "output_type": "stream",
     "text": [
      "0\n",
      "1\n",
      "2\n",
      "3\n",
      "4\n",
      "8\n",
      "99\n"
     ]
    }
   ],
   "source": [
    "for i in range(len(heap)) : \n",
    "    print(heappop(heap))"
   ]
  },
  {
   "cell_type": "code",
   "execution_count": 23,
   "metadata": {},
   "outputs": [
    {
     "name": "stdout",
     "output_type": "stream",
     "text": [
      "[1, 5, 2, 8, 99, 4, 3]\n"
     ]
    }
   ],
   "source": [
    "heappushpop(heap, 5);print(heap) # 5 삽입하고 0 삭제 "
   ]
  },
  {
   "cell_type": "code",
   "execution_count": 24,
   "metadata": {},
   "outputs": [
    {
     "name": "stdout",
     "output_type": "stream",
     "text": [
      "[2, 5, 3, 8, 99, 4, 4]\n"
     ]
    }
   ],
   "source": [
    "heappushpop(heap, 4);print(heap) # 4 넣고 1 삭제 "
   ]
  },
  {
   "cell_type": "code",
   "execution_count": 25,
   "metadata": {},
   "outputs": [
    {
     "data": {
      "text/plain": [
       "2"
      ]
     },
     "execution_count": 25,
     "metadata": {},
     "output_type": "execute_result"
    }
   ],
   "source": [
    "heapreplace(heap, 11) # 2삭제하고 11 삽입 "
   ]
  },
  {
   "cell_type": "code",
   "execution_count": 26,
   "metadata": {},
   "outputs": [
    {
     "name": "stdout",
     "output_type": "stream",
     "text": [
      "[3, 5, 4, 8, 99, 4, 11]\n"
     ]
    }
   ],
   "source": [
    "print(heap)"
   ]
  },
  {
   "cell_type": "code",
   "execution_count": 27,
   "metadata": {},
   "outputs": [
    {
     "name": "stdout",
     "output_type": "stream",
     "text": [
      "[4, 5, 4, 8, 99, 17, 11]\n"
     ]
    }
   ],
   "source": [
    "heapreplace(heap, 17);print(heap) # 3나오고 17 삽입 "
   ]
  },
  {
   "cell_type": "markdown",
   "metadata": {},
   "source": [
    "## 이진힙-리스트 이용해 힙 구현 "
   ]
  },
  {
   "cell_type": "code",
   "execution_count": 48,
   "metadata": {},
   "outputs": [],
   "source": [
    "class Maxheap : \n",
    "    def __init__(self) : \n",
    "        self.heap = [] \n",
    "        self.heap.append(0)\n",
    "\n",
    "    # 힙 크기 정의\n",
    "    def size(self) : return len(self.heap) -1 \n",
    "\n",
    "    # 힙이 비었다'의 정의\n",
    "    def isEmpty(self) : return len(self.heap) == 0 \n",
    "\n",
    "    # i번째 노드의 부모 노드 \n",
    "    def parent(self, i) : return self.heap[i//2]\n",
    "\n",
    "    # i번째 노드의 왼쪽 자식 노드 \n",
    "    def left(self, i) : return self.heap[2*i]\n",
    "\n",
    "    # i번째 노드의 오른쪽 자식 노드 \n",
    "    def right(self, i) : return self.heap[2*i+1]\n",
    "\n",
    "    # 힙 출력 정의 \n",
    "    def print_heap(self) : print(self.heap[1:])\n",
    "\n",
    "    # 최대힙 삽입연산 정의\n",
    "    def insert(self, n) : \n",
    "        self.heap.append(n)\n",
    "        # 삽입한 데이터 현재위치 \n",
    "        i = self.size()\n",
    "        # 정렬\n",
    "        while i != 1 and n > self.parent(i) : # 정렬 일어나는 조건 정의: 루트가 아니면서, 자식이 부모보다 클 때 \n",
    "            # 정렬은 어떻게 발생하는가?의 정의\n",
    "            self.heap[i] = self.parent(i) # 자식의 위치로 부모가 이동 \n",
    "            i = i // 2 # 자식이 부모 위치로 이동  \n",
    "        self.heap[i] = n \n",
    "\n",
    "    # 최대힙 삭제연산 정의\n",
    "    def delete(self) : \n",
    "        parent = 1 \n",
    "        child = 2 \n",
    "        if not self.isEmpty() : # 힙이 비어있지 않을 때 \n",
    "            heaproot = self.heap[1]\n",
    "            last = self.heap[self.size()]\n",
    "            # 정렬 \n",
    "            while child <= self.size() : # self.size() 이하 인덱스. 모든 노드에 대해 반복. 특정조건 나오면 서라. \n",
    "                if (child < self.size()) and (self.left(parent) < self.right(parent)) : # 1. 왼쪽.오른쪽 자식 비교해서 더 큰 놈 가려낸다. \n",
    "                    child += 1 \n",
    "                if last > self.heap[child] : break # 2. 자식과 부모 비교 -> 속성 만족하면 선다. \n",
    "                # 속성 만족 안 하면 정렬한다. \n",
    "                self.heap[parent] = self.heap[child] # 원래 부모가 있던 자리에 자식이 간다. \n",
    "                parent = child # 원래 자식이 있던 자리는 또 다른 부모의 자리다. \n",
    "                child = 2*parent # 새 부모자리의 왼쪽 자식(인덱스)\n",
    "            self.heap[parent] = last \n",
    "            self.heap.pop(-1)\n",
    "            return heaproot "
   ]
  },
  {
   "cell_type": "code",
   "execution_count": 49,
   "metadata": {},
   "outputs": [],
   "source": [
    "if __name__ == '__main__' : \n",
    "    m = Maxheap()\n",
    "    m.insert([90, 'watermelon']);m.insert([80, 'pear'])\n",
    "    m.insert([70, 'melon']);m.insert([50, 'lime'])\n",
    "    m.insert([60, 'mango']);m.insert([20, 'cherry'])\n",
    "    m.insert([30, 'grape']);m.insert([35, 'orange'])\n",
    "    m.insert([10, 'app']);m.insert([15, 'banana'])\n",
    "    m.insert([45, 'lemon']);m.insert([40, 'kiwi'])"
   ]
  },
  {
   "cell_type": "code",
   "execution_count": 50,
   "metadata": {},
   "outputs": [
    {
     "name": "stdout",
     "output_type": "stream",
     "text": [
      "최대 힙:[[90, 'watermelon'], [80, 'pear'], [70, 'melon'], [50, 'lime'], [60, 'mango'], [40, 'kiwi'], [30, 'grape'], [35, 'orange'], [10, 'app'], [15, 'banana'], [45, 'lemon'], [20, 'cherry']]\n",
      "\n",
      "최댓값 삭제 후:[[80, 'pear'], [60, 'mango'], [70, 'melon'], [50, 'lime'], [45, 'lemon'], [40, 'kiwi'], [30, 'grape'], [35, 'orange'], [10, 'app'], [15, 'banana'], [20, 'cherry']]\n",
      "\n",
      "5 삽입 후:[[80, 'pear'], [60, 'mango'], [70, 'melon'], [50, 'lime'], [45, 'lemon'], [40, 'kiwi'], [30, 'grape'], [35, 'orange'], [10, 'app'], [15, 'banana'], [20, 'cherry'], [5, 'apple']]\n",
      "\n"
     ]
    }
   ],
   "source": [
    "if __name__=='__main__' : \n",
    "    print(f'최대 힙:', end='')\n",
    "    m.print_heap()\n",
    "    print()\n",
    "    print(f'최댓값 삭제 후:', end='')\n",
    "    m.delete()\n",
    "    m.print_heap()\n",
    "    print()\n",
    "    m.insert([5, 'apple'])\n",
    "    print(f'5 삽입 후:', end='')\n",
    "    m.print_heap()\n",
    "    print()"
   ]
  },
  {
   "cell_type": "code",
   "execution_count": null,
   "metadata": {},
   "outputs": [],
   "source": [
    "# 이진힙 구현 - 2\n",
    "# 좀 더 직관적 방식\n",
    "\n",
    "class BinaryHeap : \n",
    "    def __init__(self, base) : \n",
    "        self.heap = base # 리스트\n",
    "        self.n = len(base) - 1\n",
    "\n",
    "    # 최초 힙 생성(초기정렬)\n",
    "    def create_heap(self) : \n",
    "        for i in range(self.n//2, 0, -1) : \n",
    "            self.downheap(i)\n",
    "\n",
    "    # 삽입연산 정의\n",
    "    def insert(self, n) : \n",
    "        self.heap.append(n)# 삽입\n",
    "        self.n += 1 # 힙 크기 + 1\n",
    "        self.upheap(self.n)# 정렬\n",
    "\n",
    "    # 삭제연산 정의\n",
    "    def delete_minimum(self) : \n",
    "        if self.n != 0 : # 이진힙 비어있지 않을 때 \n",
    "            minimum = self.heap[1] # 루트노드\n",
    "            self.heap[1], self.heap[-1] = self.heap[-1], self.heap[1] # 루트와 맨 마지막 노드 서로 바꾼다\n",
    "            self.heap.pop(-1) \n",
    "            self.n -= 1\n",
    "            self.downheap(1) # 루트노드1 부터 정렬 \n",
    "            return minimum\n",
    "    \n",
    "    # downheap 정렬 \n",
    "    def downheap(self, i) : # i는 현재노드\n",
    "        while (2*i <= self.n) : \n",
    "            k = 2*i\n",
    "            if (k < self.n) and (self.heap[k][0] > self.heap[k+1][0]) : # i의 왼쪽 자식 vs 오른쪽 자식 중 더 작은 것. \n",
    "                k = k+1\n",
    "            if self.heap[i][0] <= self.heap[k][0] : break # 최소힙 속성 만족하는 지 검사 \n",
    "            self.heap[i], self.heap[k] = self.heap[k], self.heap[i] # 정렬 \n",
    "            i = k \n",
    "    \n",
    "    # upheap 정렬 \n",
    "    def upheap(self, j) : # j는 현재노드 \n",
    "        while (j > 1) and (self.heap[j//2][0] > self.heap[j][0]) : # 현재노드가 루트가 아닐 때 & 부모가 자식보다 클 때 \n",
    "            self.heap[j//2], self.heap[j] = self.heap[j], self.heap[j//2] # 부모-자식 교환\n",
    "            j = j//2\n",
    "\n",
    "    # 힙 출력  \n",
    "    def print_heap(self) : \n",
    "        for i in range(1, self.n+1) : \n",
    "            print(f'[{self.heap[i][0]}, {self.heap[i][1]}]', end='')\n",
    "        print()\n",
    "        print(f'힙 크기: {self.n}')"
   ]
  },
  {
   "cell_type": "code",
   "execution_count": null,
   "metadata": {},
   "outputs": [],
   "source": [
    "import sys \n",
    "import os\n",
    "sys.path.append('/Users/kibeomkim/Desktop/datascience/DIY_modules')"
   ]
  },
  {
   "cell_type": "code",
   "execution_count": null,
   "metadata": {},
   "outputs": [
    {
     "data": {
      "text/plain": [
       "['binary_tree.py', '.DS_Store', 'binary_heap.py', '__pycache__']"
      ]
     },
     "execution_count": 2,
     "metadata": {},
     "output_type": "execute_result"
    }
   ],
   "source": [
    "os.listdir('/Users/kibeomkim/Desktop/datascience/DIY_modules')"
   ]
  },
  {
   "cell_type": "code",
   "execution_count": null,
   "metadata": {},
   "outputs": [],
   "source": [
    "from binary_heap import BinaryHeap\n",
    "if __name__ == '__main__' : \n",
    "    a = [None]\n",
    "    a.append([90, 'watermellon']); a.append([80, 'pear'])\n",
    "    a.append([70, 'melon']); a.append([50, 'lime'])\n",
    "    a.append([60, 'mango']);a.append([20, 'cherry'])\n",
    "    a.append([30, 'grape']);a.append([35, 'orange'])\n",
    "    a.append([10, 'apricot']);a.append([15, 'banana'])\n",
    "    a.append([45, 'lemon']);a.append([40,'kiwi'])\n",
    "    bh = BinaryHeap(a)"
   ]
  },
  {
   "cell_type": "code",
   "execution_count": null,
   "metadata": {},
   "outputs": [
    {
     "name": "stdout",
     "output_type": "stream",
     "text": [
      "힙 만들기 전:[90, watermellon][80, pear][70, melon][50, lime][60, mango][20, cherry][30, grape][35, orange][10, apricot][15, banana][45, lemon][40, kiwi]\n",
      "힙 크기: 12\n",
      "최소힙:[10, apricot][15, banana][20, cherry][35, orange][45, lemon][40, kiwi][30, grape][80, pear][50, lime][60, mango][90, watermellon][70, melon]\n",
      "힙 크기: 12\n",
      "최솟값 삭제 후:[10, 'apricot']\n",
      "[15, banana][35, orange][20, cherry][50, lime][45, lemon][40, kiwi][30, grape][80, pear][70, melon][60, mango][90, watermellon]\n",
      "힙 크기: 11\n",
      "5 삽입 후:[5, apple][35, orange][15, banana][50, lime][45, lemon][20, cherry][30, grape][80, pear][70, melon][60, mango][90, watermellon][40, kiwi]\n",
      "힙 크기: 12\n"
     ]
    }
   ],
   "source": [
    "if __name__ == '__main__' : \n",
    "    print(f'힙 만들기 전:', end='')\n",
    "    bh.print_heap() \n",
    "    bh.create_heap()\n",
    "    print(f'최소힙:', end='')\n",
    "    bh.print_heap()\n",
    "    print(f'최솟값 삭제 후:', end='')\n",
    "    print(bh.delete_minimum())\n",
    "    bh.print_heap() \n",
    "    bh.insert([5, 'apple'])\n",
    "    print(f'5 삽입 후:', end='')\n",
    "    bh.print_heap()"
   ]
  }
 ],
 "metadata": {
  "interpreter": {
   "hash": "4c3ef011dacc38893a1195bd1400f1bfec9d902762372ab997d6b63973747a5f"
  },
  "kernelspec": {
   "display_name": "Python 3.8.5 64-bit (conda)",
   "language": "python",
   "name": "python3"
  },
  "language_info": {
   "codemirror_mode": {
    "name": "ipython",
    "version": 3
   },
   "file_extension": ".py",
   "mimetype": "text/x-python",
   "name": "python",
   "nbconvert_exporter": "python",
   "pygments_lexer": "ipython3",
   "version": "3.8.5"
  },
  "orig_nbformat": 4
 },
 "nbformat": 4,
 "nbformat_minor": 2
}
