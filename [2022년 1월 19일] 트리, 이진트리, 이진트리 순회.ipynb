{
 "cells": [
  {
   "cell_type": "markdown",
   "metadata": {},
   "source": [
    "# 연결리스트로 이진트리 구현 "
   ]
  },
  {
   "cell_type": "code",
   "execution_count": 3,
   "metadata": {},
   "outputs": [],
   "source": [
    "# 연결리스트로 이진트리 구현 \n",
    "\n",
    "# 노드 정의\n",
    "class Node : \n",
    "    def __init__(self, item, left=None, right=None) : # 왼쪽자식-오른쪽자식 표현\n",
    "        self.item = item \n",
    "        self.left = left # 왼쪽자식 \n",
    "        self.right = right  # 오른쪽 자식\n",
    "\n",
    "# 이진트리 정의 \n",
    "class BinaryTree : \n",
    "    # 이진트리 생성자\n",
    "    def __init__(self) : \n",
    "        self.root = None # 트리가 empty 상태\n",
    "    \n",
    "    # 전위순회\n",
    "    def preorder(self, n) : \n",
    "        if n != None : # 트리가 empty 상태가 아닐 때 \n",
    "            print(f'{str(n.item)}', end=' ')\n",
    "            if n.left: self.preorder(n.left)\n",
    "            if n.right: self.preorder(n.right)\n",
    "        \n",
    "    # 중위순회 \n",
    "    def inorder(self, n) : \n",
    "        if n != None : \n",
    "            if n.left: self.inorder(n.left)\n",
    "            print(f'{str(n.item)}', end=' ')\n",
    "            if n.right: self.inorder(n.right)\n",
    "\n",
    "    # 후위순회\n",
    "    def postorder(self, n) : \n",
    "        if n != None : \n",
    "            if n.left: self.postorder(n.left)\n",
    "            if n.right: self.postorder(n.right)\n",
    "            print(f'{str(n.item)}', end='')\n",
    "\n",
    "    # 레벨순회\n",
    "    def levelorder(self, root) : \n",
    "        if root != None : # 트리가 empty 가 아닐 때 \n",
    "            q = []\n",
    "            q.append(root)\n",
    "            while len(q) != 0 : \n",
    "                result = q.pop(0) ;print(f'{result.item}', end=' ')\n",
    "                if result.left: q.append(result.left)\n",
    "                if result.right: q.append(result.right)\n",
    "\n",
    "    # 트리 높이 계산\n",
    "    def height(self, n) : \n",
    "        if n == None : return 0 # 트리가 empty 상태면 높이 = 0\n",
    "        return 1 + max(self.height(n.left), self.height(n.right))\n",
    "\n",
    "    # 트리 노드 수 계산 \n",
    "    def size(self, n) : \n",
    "        if n == None : return 0 \n",
    "        return 1 + self.size(n.left) + self.size(n.right)\n",
    "\n",
    "    # 트리 복제 \n",
    "    def duplicate_tree(self, n) : \n",
    "        if n is None : return None\n",
    "        else:\n",
    "            left = self.duplicate_tree(n.left)\n",
    "            right = self.duplicate_tree(n.right)\n",
    "            return Node(n.item, left=left, right=right) # 새 루트 노드 생성(복제본)\n",
    "    \n",
    "    # 트리 동일성 검사 \n",
    "    def is_equal(self, n, m) : \n",
    "        if n is None or m == None : return n == m\n",
    "        if n.item != m.item : return False \n",
    "        else : \n",
    "            return (self.is_equal(n.left, m.left) and self.is_equal(n.right, m.right))"
   ]
  },
  {
   "cell_type": "code",
   "execution_count": 2,
   "metadata": {},
   "outputs": [],
   "source": [
    "# 연결리스트로 구현된 이진트리 잘 작동하는지 테스트 \n",
    "import sys\n",
    "sys.path.append('/Users/kibeomkim/Desktop')"
   ]
  },
  {
   "cell_type": "code",
   "execution_count": 16,
   "metadata": {},
   "outputs": [
    {
     "name": "stdout",
     "output_type": "stream",
     "text": [
      "__main__\n"
     ]
    }
   ],
   "source": [
    "# __name__ == '__main__' 활용법 - 정리 필요 \n",
    "\n",
    "print(__name__)"
   ]
  },
  {
   "cell_type": "code",
   "execution_count": 3,
   "metadata": {},
   "outputs": [
    {
     "name": "stdout",
     "output_type": "stream",
     "text": [
      "test322\n"
     ]
    }
   ],
   "source": [
    "import test322"
   ]
  },
  {
   "cell_type": "code",
   "execution_count": 5,
   "metadata": {},
   "outputs": [
    {
     "name": "stdout",
     "output_type": "stream",
     "text": [
      "hello world\n"
     ]
    }
   ],
   "source": [
    "if __name__ == '__main__' : \n",
    "    print('hello world')"
   ]
  },
  {
   "cell_type": "code",
   "execution_count": 18,
   "metadata": {},
   "outputs": [
    {
     "name": "stdout",
     "output_type": "stream",
     "text": [
      "__main__\n",
      "트리높이: 4\n",
      "전위순회:100 200 400 800 500 300 600 700 \n",
      "중위순회:800 400 200 500 100 600 300 700 \n",
      "후위순회:800 400 500 200 600 700 300 100 \n",
      "레벨순회:100 200 300 400 500 600 700 800 \n",
      "트리 노드 수: 8\n",
      "두 트리가 같은가?: True\n",
      "\n"
     ]
    }
   ],
   "source": [
    "import sys\n",
    "sys.path.append('/Users/kibeomkim/Desktop')\n",
    "\n",
    "from binary_tree import Node, BinaryTree\n",
    "\n",
    "print(__name__)\n",
    "\n",
    "if __name__ == '__main__' : # 현재 실행환경이 메인 스크립트이므로 항상 True 일 것이다.\n",
    "    t = BinaryTree() # 이진트리 객체 생성 \n",
    "    n1 = Node(100);n2 = Node(200)\n",
    "    n3 = Node(300);n4 = Node(400)\n",
    "    n5 = Node(500);n6 = Node(600)\n",
    "    n7 = Node(700);n8 = Node(800)\n",
    "    # 100부터 800까지 값 넣은 8개 노드 생성 (연결 전)\n",
    "    \n",
    "    n1.left = n2 # n1 노드 왼쪽자식 = n2 \n",
    "    n1.right = n3 # n1 노드 오른쪽자식 = n3\n",
    "    n2.left = n4 # n2 노드 왼쪽자식 = n4 \n",
    "    n2.right = n5 # n2 노드 오른쪽자식 = n5 \n",
    "    n3.left = n6 # n3 노드 왼쪽자식 = n6 \n",
    "    n3.right = n7 # n3 노드 오른쪽자식 = n7 \n",
    "    n4.left = n8 # n4 노드 왼쪽자식 = n8 \n",
    "\n",
    "    t.root = n1 # n1을 이진트리 루트노드 R로 설정. \n",
    "\n",
    "    print(f'트리높이: {t.height(t.root)}')\n",
    "    print(f'전위순회:', end='')\n",
    "    t.preorder(t.root)\n",
    "    print('\\n중위순회:', end='')\n",
    "    t.inorder(t.root)\n",
    "    print('\\n후위순회:', end='')\n",
    "    t.postorder(t.root)\n",
    "    print('\\n레벨순회:', end='')\n",
    "    t.levelorder(t.root)\n",
    "    print()\n",
    "    print(f'트리 노드 수: {t.size(t.root)}')\n",
    "\n",
    "    new_root = t.duplicate_tree(t.root) # 트리 복제 \n",
    "    t2 = BinaryTree() # 새 이진트리 객체 호출 (empty 상태)\n",
    "    t2.root = new_root # 새 이진트리 루트노드 R에 기존 트리 t의 루트노드 할당 (이제 t2는 복제된 이진트리)\n",
    "\n",
    "    print('두 트리가 같은가?: ', end='')\n",
    "    print(t.is_equal(t.root, t2.root)) # 두 트리 (t, t2) 동질성 검사: 둘은 같은 트리인가? \n",
    "    print() # 두 트리가 같다. "
   ]
  }
 ],
 "metadata": {
  "interpreter": {
   "hash": "35eb7306ee2d642baa30dd47b3f48e3de4de9582bbd530539ad6f76f0b00bf2b"
  },
  "kernelspec": {
   "display_name": "Python 3.8.12 64-bit ('tf25': conda)",
   "language": "python",
   "name": "python3"
  },
  "language_info": {
   "codemirror_mode": {
    "name": "ipython",
    "version": 3
   },
   "file_extension": ".py",
   "mimetype": "text/x-python",
   "name": "python",
   "nbconvert_exporter": "python",
   "pygments_lexer": "ipython3",
   "version": "3.8.5"
  },
  "orig_nbformat": 4
 },
 "nbformat": 4,
 "nbformat_minor": 2
}
