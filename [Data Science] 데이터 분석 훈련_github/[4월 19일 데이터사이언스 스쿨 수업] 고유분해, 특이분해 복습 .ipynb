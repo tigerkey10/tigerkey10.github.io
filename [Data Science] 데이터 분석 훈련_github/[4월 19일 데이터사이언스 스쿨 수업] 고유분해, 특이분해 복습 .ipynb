{
 "cells": [
  {
   "cell_type": "markdown",
   "metadata": {},
   "source": [
    "# 고유분해, 고윳값 분해 : 행렬 내부 구조 파악에 활용한다\n",
    "- $A*v = \\lambda*v$\n",
    "- $A*V=V*\\lambda$\n",
    "- $A = V*\\lambda*V^{-1}$ <대각화된 행렬 A>"
   ]
  },
  {
   "cell_type": "code",
   "execution_count": 10,
   "metadata": {},
   "outputs": [
    {
     "name": "stdout",
     "output_type": "stream",
     "text": [
      "[[2 3]\n",
      " [2 1]]\n",
      "[[2. 3.]\n",
      " [2. 1.]]\n"
     ]
    }
   ],
   "source": [
    "#대각화 하기 \n",
    "B = np.array([[2,3],\n",
    "             [2,1]])\n",
    "\n",
    "ld, V = np.linalg.eig(B)\n",
    "ld_matrix = np.diag(ld)\n",
    "\n",
    "print(B)\n",
    "print(V@ld_matrix@np.linalg.inv(V))"
   ]
  },
  {
   "cell_type": "code",
   "execution_count": 26,
   "metadata": {},
   "outputs": [
    {
     "name": "stdout",
     "output_type": "stream",
     "text": [
      "[[1 1]\n",
      " [0 1]]\n",
      "[[1. 0.]\n",
      " [0. 1.]]\n",
      "1\n"
     ]
    }
   ],
   "source": [
    "# 3.3.7 연습문제\n",
    "# 다음 행렬은 고윳값 & 고유벡터로 대각화 가능한가?\n",
    "C = np.array([[1,1],\n",
    "             [0,1]])\n",
    "\n",
    "ld, V = np.linalg.eig(C)\n",
    "\n",
    "ld_matrix1 = np.diag(ld)\n",
    "V_INV = np.linalg.inv(V)\n",
    "\n",
    "print(C)\n",
    "\n",
    "print(V@ld_matrix1@V_INV)\n",
    "print(np.linalg.matrix_rank(V)) #정방행렬 풀랭크가 아니다 --> 역행렬 없다"
   ]
  },
  {
   "cell_type": "code",
   "execution_count": 34,
   "metadata": {},
   "outputs": [
    {
     "data": {
      "text/plain": [
       "array([[-0.25,  0.75],\n",
       "       [ 0.5 , -0.5 ]])"
      ]
     },
     "execution_count": 34,
     "metadata": {},
     "output_type": "execute_result"
    }
   ],
   "source": [
    "#3.3.8 연습문제\n",
    "# 고윳값이 4, -1로 0인게 하나도 없다. 따라서 행렬 B는 역행렬 항상 존재한다\n",
    "B = np.array([[2,3],\n",
    "             [2,1]])\n",
    "\n",
    "LD = np.diag([4, -1])\n",
    "v1 = np.array([3/np.sqrt(13), 2/np.sqrt(13)])\n",
    "v2 = np.array([-1/np.sqrt(2), 1/np.sqrt(2)])\n",
    "V = np.vstack([v1,v2]).T\n",
    "\n",
    "#역행렬\n",
    "V@np.linalg.inv(LD)@np.linalg.inv(V)"
   ]
  },
  {
   "cell_type": "code",
   "execution_count": 86,
   "metadata": {},
   "outputs": [
    {
     "name": "stdout",
     "output_type": "stream",
     "text": [
      "[[60. 30. 20.]\n",
      " [30. 20. 15.]\n",
      " [20. 15. 12.]]\n"
     ]
    }
   ],
   "source": [
    "# 실수로 구성된 대칭행렬 A 고유분해 하기 --> 랭크-1행렬 합으로 나타내는 방법\n",
    "A = np.array([[60,30,20],\n",
    "             [30,20,15],\n",
    "             [20,15,12]])\n",
    "\n",
    "LD, V = np.linalg.eig(A)\n",
    "ld1 = LD[0]\n",
    "ld2 = LD[1]\n",
    "ld3 = LD[2]\n",
    "v1 = V[:,0:1]\n",
    "v2 = V[:,1:2]\n",
    "v3 = V[:,2:3]\n",
    "\n",
    "#랭크-1행렬\n",
    "A1 = v1@v1.T\n",
    "A2 = v2@v2.T\n",
    "A3 = v3@v3.T\n",
    "\n",
    "print((ld1*A1)+(ld2*A2)+(ld3*A3))"
   ]
  },
  {
   "cell_type": "code",
   "execution_count": 93,
   "metadata": {},
   "outputs": [
    {
     "name": "stdout",
     "output_type": "stream",
     "text": [
      "[[ 0.15 -0.6   0.5 ]\n",
      " [-0.6   3.2  -3.  ]\n",
      " [ 0.5  -3.    3.  ]]\n",
      "\n",
      "[[ 0.15 -0.6   0.5 ]\n",
      " [-0.6   3.2  -3.  ]\n",
      " [ 0.5  -3.    3.  ]]\n"
     ]
    }
   ],
   "source": [
    "# 위 행렬 A의 역행렬도 랭크-1 행렬 합으로 나타낼 수 있다. \n",
    "A_INV = np.linalg.inv(A)\n",
    "\n",
    "ld_1 = 1/ld1\n",
    "ld_2 = 1/ld2\n",
    "ld_3 = 1/ld3\n",
    "\n",
    "print((ld_1*A1)+(ld_2*A2)+(ld_3*A3))\n",
    "print()\n",
    "print(A_INV)"
   ]
  },
  {
   "cell_type": "markdown",
   "metadata": {},
   "source": [
    "# 분산행렬 \n",
    "$X^TX$ or $XX^T$"
   ]
  },
  {
   "cell_type": "code",
   "execution_count": 109,
   "metadata": {},
   "outputs": [
    {
     "name": "stdout",
     "output_type": "stream",
     "text": [
      "[9.20830507e+03 3.15454317e+02 1.19780429e+01 3.55257020e+00]\n",
      "\n",
      "[1.58386796e+08 1.18747372e+07 4.17002244e+05 1.61644573e+05\n",
      " 2.52697480e+04 1.47629635e+04 8.18396001e+03 6.07326738e+03\n",
      " 4.23577535e+03 6.06399504e+02 3.27412564e+02 3.04157837e+01\n",
      " 2.19326965e+00]\n"
     ]
    }
   ],
   "source": [
    "#3.3.9 연습문제\n",
    "#1. \n",
    "from sklearn.datasets import load_iris\n",
    "\n",
    "iris = load_iris()\n",
    "X = iris.data\n",
    "\n",
    "#아이리스 분산행렬 \n",
    "SC = X.T@X\n",
    "\n",
    "#고유분해 \n",
    "ld, V = np.linalg.eig(SC)\n",
    "print(ld)\n",
    "\n",
    "print()\n",
    "\n",
    "#2. \n",
    "from sklearn.datasets import load_boston\n",
    "boston = load_boston()\n",
    "X = boston.data\n",
    "\n",
    "#보스턴 집값 분산행렬\n",
    "X.T@X\n",
    "\n",
    "#고윳값\n",
    "ld2, V2 = np.linalg.eig(X.T@X)\n",
    "print(ld2)"
   ]
  },
  {
   "cell_type": "markdown",
   "metadata": {},
   "source": [
    "# 특이분해 \n",
    "- $A = U*\\sigma*V^T$\n",
    "- 메서드 : np.linalg.svd()"
   ]
  },
  {
   "cell_type": "code",
   "execution_count": 123,
   "metadata": {},
   "outputs": [
    {
     "name": "stdout",
     "output_type": "stream",
     "text": [
      "[[-4.08248290e-01  8.94427191e-01 -1.82574186e-01]\n",
      " [-8.16496581e-01 -4.47213595e-01 -3.65148372e-01]\n",
      " [-4.08248290e-01 -1.94289029e-16  9.12870929e-01]]\n",
      "\n",
      "[3.46410162 3.16227766]\n",
      "\n",
      "[[-0.70710678 -0.70710678]\n",
      " [ 0.70710678 -0.70710678]]\n",
      "\n",
      "특잇값 행렬\n",
      "[[3.46410162 0.        ]\n",
      " [0.         3.16227766]\n",
      " [0.         0.        ]]\n",
      "\n",
      "특이분해 결과\n",
      "[[ 3. -1.]\n",
      " [ 1.  3.]\n",
      " [ 1.  1.]]\n"
     ]
    }
   ],
   "source": [
    "A = np.array([[3,-1],\n",
    "             [1,3],\n",
    "             [1,1]])\n",
    "\n",
    "U,S,VT = np.linalg.svd(A)\n",
    "\n",
    "print(U) #왼쪽 특이벡터 행렬\n",
    "print()\n",
    "print(S) #특잇값 \n",
    "print()\n",
    "print(VT) #오른쪽 특이벡터 행렬의 전치행렬\n",
    "print()\n",
    "\n",
    "#특잇값 행렬 \n",
    "print('특잇값 행렬')\n",
    "SS = np.diag(S,1)[:,1:]\n",
    "print(SS)\n",
    "\n",
    "print()\n",
    "print('특이분해 결과')\n",
    "print(U@SS@VT)"
   ]
  },
  {
   "cell_type": "markdown",
   "metadata": {},
   "source": [
    "# 특이분해 축소형 : agrument : full_matrices=False"
   ]
  },
  {
   "cell_type": "code",
   "execution_count": 134,
   "metadata": {},
   "outputs": [
    {
     "name": "stdout",
     "output_type": "stream",
     "text": [
      "[[ 3 -1]\n",
      " [ 1  3]\n",
      " [ 1  1]]\n",
      "\n",
      "[[-4.08248290e-01  8.94427191e-01]\n",
      " [-8.16496581e-01 -4.47213595e-01]\n",
      " [-4.08248290e-01 -1.94289029e-16]]\n",
      "\n",
      "[3.46410162 3.16227766]\n",
      "\n",
      "[[-0.70710678 -0.70710678]\n",
      " [ 0.70710678 -0.70710678]]\n",
      "\n",
      "축소된 특이벡터 행렬\n",
      "[[3.46410162 0.        ]\n",
      " [0.         3.16227766]]\n",
      "\n",
      "[[ 3. -1.]\n",
      " [ 1.  3.]\n",
      " [ 1.  1.]]\n"
     ]
    }
   ],
   "source": [
    "U1, S1, VT1 = np.linalg.svd(A, full_matrices=False)\n",
    "\n",
    "print(A)\n",
    "print()\n",
    "print(U1) #왼쪽 특이벡터 행렬 : 가장 오른쪽 열 날라감\n",
    "print()\n",
    "print(S1) #특잇값\n",
    "print()\n",
    "print(VT1) #오른쪽 특이벡터 행렬\n",
    "print()\n",
    "\n",
    "# 특이벡터 행렬\n",
    "print('축소된 특이벡터 행렬')\n",
    "print(np.diag(S1))\n",
    "SS2 = np.diag(S1)\n",
    "\n",
    "print()\n",
    "print(U1@SS2@VT1)"
   ]
  },
  {
   "cell_type": "code",
   "execution_count": 169,
   "metadata": {},
   "outputs": [
    {
     "name": "stdout",
     "output_type": "stream",
     "text": [
      "[[-0.70710678 -0.70710678]\n",
      " [-0.70710678  0.70710678]]\n",
      "\n",
      "[[5. 0. 0.]\n",
      " [0. 3. 0.]]\n",
      "\n",
      "[[-7.07106781e-01 -7.07106781e-01 -5.55111512e-17]\n",
      " [-2.35702260e-01  2.35702260e-01 -9.42809042e-01]\n",
      " [-6.66666667e-01  6.66666667e-01  3.33333333e-01]]\n",
      "\n",
      "결과\n",
      "[[ 3.  2.  2.]\n",
      " [ 2.  3. -2.]]\n",
      "\n",
      "B\n",
      "[[ 3  2  2]\n",
      " [ 2  3 -2]]\n",
      "\n",
      "[[-0.81741556 -0.57604844  0.          0.        ]\n",
      " [-0.57604844  0.81741556  0.          0.        ]\n",
      " [ 0.          0.          1.          0.        ]\n",
      " [ 0.          0.          0.          1.        ]]\n",
      "\n",
      "[[5.4649857  0.        ]\n",
      " [0.         0.36596619]\n",
      " [0.         0.        ]\n",
      " [0.         0.        ]]\n",
      "\n",
      "[[-0.40455358 -0.9145143 ]\n",
      " [-0.9145143   0.40455358]]\n",
      "\n",
      "[[2. 4.]\n",
      " [1. 3.]\n",
      " [0. 0.]\n",
      " [0. 0.]]\n",
      "\n",
      "----------------------------------------------------------------------------------------------------\n",
      "\n",
      "축소 적용\n",
      "\n",
      "[[ 3.  2.  2.]\n",
      " [ 2.  3. -2.]]\n",
      "\n",
      "축소적용 2\n",
      "\n",
      "[[2. 4.]\n",
      " [1. 3.]\n",
      " [0. 0.]\n",
      " [0. 0.]]\n"
     ]
    }
   ],
   "source": [
    "# 연습문제 3.4.1\n",
    "B = np.array([[3,2,2],\n",
    "             [2,3,-2]])\n",
    "\n",
    "C = np.array([[2,4],\n",
    "             [1,3],\n",
    "             [0,0],\n",
    "             [0,0]])\n",
    "\n",
    "# 축소하지 않고 특이분해 하기 \n",
    "U1, S1, VT1 = np.linalg.svd(B)\n",
    "SS1 = np.diag(S1, -1)[1:,] #특잇값 행렬\n",
    "\n",
    "print(U1)\n",
    "print()\n",
    "print(SS1)\n",
    "print()\n",
    "print(VT1)\n",
    "print()\n",
    "\n",
    "print('결과')\n",
    "print(U1@SS1@VT1)\n",
    "print()\n",
    "print('B')\n",
    "print(B)\n",
    "print()\n",
    "\n",
    "\n",
    "U2, S2, VT2 = np.linalg.svd(C)\n",
    "SS2 = np.diag(S2, 2)[:,2:]\n",
    "\n",
    "print(U2)\n",
    "print()\n",
    "print(SS2)\n",
    "print()\n",
    "print(VT2)\n",
    "print()\n",
    "\n",
    "\n",
    "print(U2@SS2@VT2)\n",
    "print()\n",
    "print('-'*100)\n",
    "print()\n",
    "\n",
    "\n",
    "# 축소해서 특이분해 하기 \n",
    "print('축소 적용')\n",
    "print()\n",
    "\n",
    "U11, S11, VT11 = np.linalg.svd(B, full_matrices=False)\n",
    "SS11 = np.diag(S11) #축소형 특잇값 행렬\n",
    "\n",
    "print(U11@SS11@VT11)\n",
    "\n",
    "print()\n",
    "print('축소적용 2')\n",
    "print()\n",
    "\n",
    "U12, S12, VT12 = np.linalg.svd(C, full_matrices=False)\n",
    "SS12 = np.diag(S12) #축소형 특잇값 행렬\n",
    "\n",
    "print(U12@SS12@VT12)"
   ]
  },
  {
   "cell_type": "markdown",
   "metadata": {},
   "source": [
    "# 특잇값과 특이벡터 관계 \n",
    "- $A*v_i = \\sigma_i*u_i$\n",
    "- 특이벡터는 특잇값에 각각 대응된다. \n",
    "- 고유벡터도 고윳값에 각각 대응된다. "
   ]
  },
  {
   "cell_type": "code",
   "execution_count": 218,
   "metadata": {},
   "outputs": [
    {
     "name": "stdout",
     "output_type": "stream",
     "text": [
      "[-3.53553391 -3.53553391]\n",
      "[[-3.53553391]\n",
      " [-3.53553391]]\n",
      "\n",
      "[-2.12132034  2.12132034]\n",
      "[[-2.12132034]\n",
      " [ 2.12132034]]\n",
      "\n",
      "[-4.46716435 -3.14809647  0.          0.        ]\n",
      "[[-4.46716435]\n",
      " [-3.14809647]\n",
      " [ 0.        ]\n",
      " [ 0.        ]]\n",
      "\n",
      "[-0.21081425  0.29914646  0.          0.        ]\n",
      "[[-0.21081425]\n",
      " [ 0.29914646]\n",
      " [ 0.        ]\n",
      " [ 0.        ]]\n"
     ]
    }
   ],
   "source": [
    "# 3.4.2 연습문제 \n",
    "B = np.array([[3,2,2],\n",
    "             [2,3,-2]])\n",
    "\n",
    "C = np.array([[2,4],\n",
    "             [1,3],\n",
    "             [0,0],\n",
    "             [0,0]])\n",
    "\n",
    "#####\n",
    "U2, S2, VT2 = np.linalg.svd(B, full_matrices=False)\n",
    "SS2 = np.diag(S2)\n",
    "\n",
    "sg1 = SS2[0][0]\n",
    "sg2 = SS2[1][1]\n",
    "\n",
    "u1 = U2[:,0:1]\n",
    "u2 = U2[:,1:2]\n",
    "\n",
    "v1 = VT2[0]\n",
    "v2 = VT2[1]\n",
    "\n",
    "print(B@v1)  \n",
    "print(sg1*u1)\n",
    "print()\n",
    "print(B@v2)\n",
    "print(sg2*u2)\n",
    "print()\n",
    "\n",
    "######\n",
    "U3, S3, VT3 = np.linalg.svd(C, full_matrices=False)\n",
    "SS3 = np.diag(S3)\n",
    "\n",
    "sg12 = SS3[0][0]\n",
    "sg22 = SS3[1][1]\n",
    "\n",
    "u12 = U3[:,0:1]\n",
    "u22 = U3[:,1:2]\n",
    "\n",
    "v12 = VT3[0]\n",
    "v22 = VT3[1]\n",
    "\n",
    "print(C@v12)\n",
    "print(sg12*u12)\n",
    "print()\n",
    "print(C@v22)\n",
    "print(sg22*u22)"
   ]
  },
  {
   "cell_type": "markdown",
   "metadata": {},
   "source": [
    "# 특이분해와 고유분해 간 관계 \n",
    "- 분산행렬 $A^TA$에 대해 고려한다\n",
    "- 분산행렬 $A^TA$의 고유벡터는 행렬 A의 오른쪽 특이벡터와 같다.\n",
    "- 분산행렬 $A^TA$의 고윳값은 행렬 A $(특잇값)^2$ (과 0)과 같다"
   ]
  },
  {
   "cell_type": "code",
   "execution_count": 233,
   "metadata": {},
   "outputs": [
    {
     "name": "stdout",
     "output_type": "stream",
     "text": [
      "[12. 10.]\n",
      "[[ 0.70710678 -0.70710678]\n",
      " [ 0.70710678  0.70710678]]\n",
      "\n",
      "[[-0.70710678  0.70710678]\n",
      " [-0.70710678 -0.70710678]]\n",
      "[12. 10.]\n"
     ]
    },
    {
     "data": {
      "text/plain": [
       "array([[11.,  1.],\n",
       "       [ 1., 11.]])"
      ]
     },
     "execution_count": 233,
     "metadata": {},
     "output_type": "execute_result"
    }
   ],
   "source": [
    "LD, V = np.linalg.eig(A.T@A)\n",
    "print(LD) #고윳값\n",
    "print(V) #고유벡터 행렬\n",
    "print()\n",
    "\n",
    "U, SG, VT = np.linalg.svd(A)\n",
    "print(VT.T) #오른쪽 특이벡터 행렬\n",
    "print(SG**2) #특잇값 제곱\n",
    "\n",
    "\n",
    "SSG = np.diag(SG**2)\n",
    "\n",
    "VT.T@SSG@(VT.T).T"
   ]
  },
  {
   "cell_type": "code",
   "execution_count": 234,
   "metadata": {},
   "outputs": [
    {
     "data": {
      "text/plain": [
       "array([[11,  1],\n",
       "       [ 1, 11]])"
      ]
     },
     "execution_count": 234,
     "metadata": {},
     "output_type": "execute_result"
    }
   ],
   "source": [
    "A.T@A"
   ]
  },
  {
   "cell_type": "code",
   "execution_count": 290,
   "metadata": {},
   "outputs": [
    {
     "name": "stdout",
     "output_type": "stream",
     "text": [
      "[[-4.08248290e-01  8.94427191e-01 -1.82574186e-01]\n",
      " [-8.16496581e-01 -4.47213595e-01 -3.65148372e-01]\n",
      " [-4.08248290e-01 -1.94289029e-16  9.12870929e-01]]\n",
      "\n",
      "[[10  0  2]\n",
      " [ 0 10  4]\n",
      " [ 2  4  2]]\n",
      "\n",
      "[[ 0.  0.  0.]\n",
      " [ 0. 10.  0.]\n",
      " [ 0.  0. 12.]]\n",
      "\n",
      "[[ 1.82574186e-01 -8.94427191e-01 -4.08248290e-01]\n",
      " [ 3.65148372e-01  4.47213595e-01 -8.16496581e-01]\n",
      " [-9.12870929e-01  5.07702013e-16 -4.08248290e-01]]\n",
      "\n",
      "[[3.46410162 0.        ]\n",
      " [0.         3.16227766]\n",
      " [0.         0.        ]]\n",
      "\n",
      "[[12.  0.  0.]\n",
      " [ 0. 10.  0.]\n",
      " [ 0.  0.  0.]]\n"
     ]
    }
   ],
   "source": [
    "#3.4.3 연습문제 \n",
    "A = np.array([[3, -1],\n",
    "             [1,3],\n",
    "             [1,1]])\n",
    "\n",
    "U, SG, VT = np.linalg.svd(A)\n",
    "print(U)\n",
    "print()\n",
    "\n",
    "print(A@A.T)\n",
    "print()\n",
    "\n",
    "LD, V = np.linalg.eig(A@A.T)\n",
    "print(np.diag(LD))\n",
    "print()\n",
    "\n",
    "print(V) # AA.T의 고유벡터행렬과 A의 왼쪽 특이벡터행렬이 같다. \n",
    "print()\n",
    "SGG = np.diag(SG,1)[:,1:]\n",
    "print(SGG) #특잇값 행렬\n",
    "print()\n",
    "print(SGG@SGG.T) # A 특잇값 제곱과 0이 곧 ATA 고윳값이다. "
   ]
  },
  {
   "cell_type": "code",
   "execution_count": 303,
   "metadata": {},
   "outputs": [
    {
     "name": "stdout",
     "output_type": "stream",
     "text": [
      "[11.34481428 -0.51572947  0.17091519]\n",
      "\n",
      "[[-0.32798528 -0.73697623  0.59100905]\n",
      " [-0.59100905 -0.32798528 -0.73697623]\n",
      " [-0.73697623  0.59100905  0.32798528]]\n",
      "\n",
      "----------------------------------------------------------------------------------------------------\n",
      "[[-0.32798528 -0.73697623 -0.59100905]\n",
      " [-0.59100905 -0.32798528  0.73697623]\n",
      " [-0.73697623  0.59100905 -0.32798528]]\n",
      "\n",
      "[11.34481428  0.51572947  0.17091519]\n",
      "\n",
      "[[-0.32798528 -0.59100905 -0.73697623]\n",
      " [ 0.73697623  0.32798528 -0.59100905]\n",
      " [-0.59100905  0.73697623 -0.32798528]]\n",
      "\n"
     ]
    }
   ],
   "source": [
    "#TEST \n",
    "T = np.array([[1,2,3],\n",
    "             [2,4,5],\n",
    "             [3,5,6]]) #대칭행렬\n",
    "\n",
    "LD, V = np.linalg.eig(T) #고유분해\n",
    "\n",
    "print(LD)\n",
    "print()\n",
    "print(V)\n",
    "print()\n",
    "\n",
    "print('-'*100)\n",
    "\n",
    "U, SG, VT = np.linalg.svd(T)#특이분해\n",
    "print(U)\n",
    "print()\n",
    "print(SG)\n",
    "print()\n",
    "print(VT)\n",
    "print()"
   ]
  },
  {
   "cell_type": "code",
   "execution_count": 310,
   "metadata": {},
   "outputs": [
    {
     "name": "stdout",
     "output_type": "stream",
     "text": [
      "[[-0.32798528 -0.73697623  0.59100905]\n",
      " [-0.59100905 -0.32798528 -0.73697623]\n",
      " [-0.73697623  0.59100905  0.32798528]]\n",
      "\n",
      "[[-0.32798528 -0.73697623 -0.59100905]\n",
      " [-0.59100905 -0.32798528  0.73697623]\n",
      " [-0.73697623  0.59100905 -0.32798528]]\n"
     ]
    }
   ],
   "source": [
    "print(V)\n",
    "print()\n",
    "print(U)\n",
    "\n",
    "## 왼쪽 특이벡터행렬과 고유벡터행렬 일치한다"
   ]
  },
  {
   "cell_type": "code",
   "execution_count": 313,
   "metadata": {
    "scrolled": true
   },
   "outputs": [
    {
     "name": "stdout",
     "output_type": "stream",
     "text": [
      "[11.34481428  0.51572947  0.17091519]\n",
      "\n",
      "[11.34481428 -0.51572947  0.17091519]\n"
     ]
    }
   ],
   "source": [
    "print(SG)\n",
    "print()\n",
    "print(LD) #일치한다"
   ]
  },
  {
   "cell_type": "code",
   "execution_count": 315,
   "metadata": {},
   "outputs": [
    {
     "name": "stdout",
     "output_type": "stream",
     "text": [
      "[[-0.32798528 -0.59100905 -0.73697623]\n",
      " [-0.73697623 -0.32798528  0.59100905]\n",
      " [ 0.59100905 -0.73697623  0.32798528]]\n",
      "\n",
      "[[-0.32798528 -0.59100905 -0.73697623]\n",
      " [ 0.73697623  0.32798528 -0.59100905]\n",
      " [-0.59100905  0.73697623 -0.32798528]]\n"
     ]
    }
   ],
   "source": [
    "print(V.T)\n",
    "print()\n",
    "print(VT) #거의 일치한다"
   ]
  },
  {
   "cell_type": "code",
   "execution_count": null,
   "metadata": {},
   "outputs": [],
   "source": []
  },
  {
   "cell_type": "code",
   "execution_count": null,
   "metadata": {},
   "outputs": [],
   "source": []
  }
 ],
 "metadata": {
  "kernelspec": {
   "display_name": "Python 3",
   "language": "python",
   "name": "python3"
  },
  "language_info": {
   "codemirror_mode": {
    "name": "ipython",
    "version": 3
   },
   "file_extension": ".py",
   "mimetype": "text/x-python",
   "name": "python",
   "nbconvert_exporter": "python",
   "pygments_lexer": "ipython3",
   "version": "3.8.5"
  }
 },
 "nbformat": 4,
 "nbformat_minor": 4
}
