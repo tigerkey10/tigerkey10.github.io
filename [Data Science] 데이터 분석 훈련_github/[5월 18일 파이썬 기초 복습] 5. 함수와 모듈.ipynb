{
 "cells": [
  {
   "cell_type": "markdown",
   "metadata": {},
   "source": [
    "# 파이썬 기초 _ 복습\n",
    "## 5. 함수와 모듈 복습 "
   ]
  },
  {
   "cell_type": "markdown",
   "metadata": {},
   "source": [
    "## 모듈 만들고 모듈 안에 add() 함수 만들기 \n",
    "- sys 모듈 호출해서, append() 메서드로 내가 만든 모듈이 있는 파일 디렉토리 경로를 추가해줘야 된다. \n",
    "- sys 경로에 모듈 주소 추가해 준 다음, 모듈 & 함수 호출해서 쓰자. "
   ]
  },
  {
   "cell_type": "code",
   "execution_count": 1,
   "metadata": {},
   "outputs": [],
   "source": [
    "import sys\n",
    "sys.path.append('/Users/kibeomkim/Desktop/')"
   ]
  },
  {
   "cell_type": "code",
   "execution_count": 2,
   "metadata": {
    "scrolled": true
   },
   "outputs": [
    {
     "data": {
      "text/plain": [
       "10"
      ]
     },
     "execution_count": 2,
     "metadata": {},
     "output_type": "execute_result"
    }
   ],
   "source": [
    "# p. 140 예제 1번. \n",
    "from add_module import add\n",
    "add(3, 7)"
   ]
  },
  {
   "cell_type": "code",
   "execution_count": 3,
   "metadata": {},
   "outputs": [
    {
     "data": {
      "text/plain": [
       "'홀수'"
      ]
     },
     "execution_count": 3,
     "metadata": {},
     "output_type": "execute_result"
    }
   ],
   "source": [
    "# 예제 2. \n",
    "def evenodd(n) : \n",
    "    if n%2 == 0 : \n",
    "        return '짝수'\n",
    "    elif n%2 != 0 : \n",
    "        return '홀수'\n",
    "evenodd(3)"
   ]
  },
  {
   "cell_type": "markdown",
   "metadata": {},
   "source": [
    "## 모듈 내용 수정은 커널 restart해야 적용된다. "
   ]
  },
  {
   "cell_type": "code",
   "execution_count": 4,
   "metadata": {},
   "outputs": [
    {
     "data": {
      "text/plain": [
       "(4, 3)"
      ]
     },
     "execution_count": 4,
     "metadata": {},
     "output_type": "execute_result"
    }
   ],
   "source": [
    "from add_module import swap\n",
    "swap(3, 4)"
   ]
  },
  {
   "cell_type": "code",
   "execution_count": 5,
   "metadata": {
    "scrolled": true
   },
   "outputs": [
    {
     "name": "stdout",
     "output_type": "stream",
     "text": [
      "첫번째 숫자 : 3\n",
      "두번째 숫자 : 5\n",
      "연산자 입력 : +\n",
      "8\n"
     ]
    }
   ],
   "source": [
    "# 예제 3\n",
    "from add_module import cal\n",
    "cal()"
   ]
  },
  {
   "cell_type": "code",
   "execution_count": 6,
   "metadata": {
    "scrolled": false
   },
   "outputs": [
    {
     "data": {
      "text/plain": [
       "24"
      ]
     },
     "execution_count": 6,
     "metadata": {},
     "output_type": "execute_result"
    }
   ],
   "source": [
    "def fact(x) : \n",
    "    if x == 1 : \n",
    "        return 1\n",
    "    return (x*fact(x-1))\n",
    "fact(4)"
   ]
  },
  {
   "cell_type": "code",
   "execution_count": 7,
   "metadata": {},
   "outputs": [
    {
     "name": "stdout",
     "output_type": "stream",
     "text": [
      "3\n"
     ]
    },
    {
     "ename": "TypeError",
     "evalue": "unsupported operand type(s) for +: 'NoneType' and 'int'",
     "output_type": "error",
     "traceback": [
      "\u001b[0;31m---------------------------------------------------------------------------\u001b[0m",
      "\u001b[0;31mTypeError\u001b[0m                                 Traceback (most recent call last)",
      "\u001b[0;32m<ipython-input-7-4f222f785f6b>\u001b[0m in \u001b[0;36m<module>\u001b[0;34m\u001b[0m\n\u001b[1;32m      1\u001b[0m \u001b[0ma\u001b[0m \u001b[0;34m=\u001b[0m \u001b[0;32mlambda\u001b[0m \u001b[0mx\u001b[0m \u001b[0;34m:\u001b[0m \u001b[0mprint\u001b[0m\u001b[0;34m(\u001b[0m\u001b[0mx\u001b[0m\u001b[0;34m)\u001b[0m\u001b[0;34m\u001b[0m\u001b[0;34m\u001b[0m\u001b[0m\n\u001b[0;32m----> 2\u001b[0;31m \u001b[0ma\u001b[0m\u001b[0;34m(\u001b[0m\u001b[0;36m3\u001b[0m\u001b[0;34m)\u001b[0m\u001b[0;34m+\u001b[0m\u001b[0;36m4\u001b[0m \u001b[0;31m# a는 print(3)이다. 그래서 연산이 안 되는 것.\u001b[0m\u001b[0;34m\u001b[0m\u001b[0;34m\u001b[0m\u001b[0m\n\u001b[0m",
      "\u001b[0;31mTypeError\u001b[0m: unsupported operand type(s) for +: 'NoneType' and 'int'"
     ]
    }
   ],
   "source": [
    "a = lambda x : print(x)\n",
    "a(3)+4 # a는 print(3)이다. 그래서 연산이 안 되는 것. "
   ]
  },
  {
   "cell_type": "markdown",
   "metadata": {},
   "source": [
    "# lambda함수는 return을 포함하고 있다. \n",
    "## 실행문 결과를 return과 동일하게 받는다. "
   ]
  },
  {
   "cell_type": "code",
   "execution_count": null,
   "metadata": {},
   "outputs": [],
   "source": [
    "lambdafun = lambda a, b : a+ b\n",
    "lambdafun(3, 9)"
   ]
  },
  {
   "cell_type": "code",
   "execution_count": null,
   "metadata": {},
   "outputs": [],
   "source": [
    "list(map(lambda x : x, [3,5]))"
   ]
  },
  {
   "cell_type": "markdown",
   "metadata": {},
   "source": [
    "리스트 축약식 "
   ]
  },
  {
   "cell_type": "code",
   "execution_count": null,
   "metadata": {},
   "outputs": [],
   "source": [
    "[i*8 for i in [1,2,3,4,5] if i%2 != 0]"
   ]
  },
  {
   "cell_type": "markdown",
   "metadata": {},
   "source": [
    "# 도전하기 "
   ]
  },
  {
   "cell_type": "code",
   "execution_count": null,
   "metadata": {},
   "outputs": [],
   "source": [
    "# 01. \n",
    "def add(a, b) : \n",
    "    res = a+b \n",
    "    return res\n",
    "add(7, 12)"
   ]
  },
  {
   "cell_type": "code",
   "execution_count": 13,
   "metadata": {},
   "outputs": [
    {
     "name": "stdout",
     "output_type": "stream",
     "text": [
      "짝수\n",
      "홀수\n"
     ]
    }
   ],
   "source": [
    "#02. \n",
    "from challenge import EvenOdd\n",
    "print(EvenOdd(2))\n",
    "print(EvenOdd(7))"
   ]
  },
  {
   "cell_type": "code",
   "execution_count": 15,
   "metadata": {},
   "outputs": [
    {
     "data": {
      "text/plain": [
       "(18, 9)"
      ]
     },
     "execution_count": 15,
     "metadata": {},
     "output_type": "execute_result"
    }
   ],
   "source": [
    "#03.\n",
    "from challenge import swap\n",
    "swap(9,18)"
   ]
  },
  {
   "cell_type": "code",
   "execution_count": 16,
   "metadata": {},
   "outputs": [
    {
     "data": {
      "text/plain": [
       "[4, 2, 4, 8]"
      ]
     },
     "execution_count": 16,
     "metadata": {},
     "output_type": "execute_result"
    }
   ],
   "source": [
    "#04. \n",
    "def strCount(x) : \n",
    "    list1 = []\n",
    "    for i in x : \n",
    "        list1.append(len(i))\n",
    "    return list1\n",
    "strCount(['asdf','fs','qeqw','fdfsdieh'])"
   ]
  },
  {
   "cell_type": "code",
   "execution_count": 19,
   "metadata": {},
   "outputs": [
    {
     "name": "stdout",
     "output_type": "stream",
     "text": [
      "첫번째 숫자 : 3\n",
      "second number : 5\n",
      "연산자 입력 : +\n",
      "8\n"
     ]
    }
   ],
   "source": [
    "#05. \n",
    "from challenge import cal\n",
    "cal()"
   ]
  },
  {
   "cell_type": "markdown",
   "metadata": {},
   "source": [
    "# 재귀함수 : 함수 내부에서 자기자신을 다시 호출하는 함수 "
   ]
  },
  {
   "cell_type": "code",
   "execution_count": 23,
   "metadata": {},
   "outputs": [
    {
     "data": {
      "text/plain": [
       "362880"
      ]
     },
     "execution_count": 23,
     "metadata": {},
     "output_type": "execute_result"
    }
   ],
   "source": [
    "#06. 재귀함수 \n",
    "def fact(x) : \n",
    "    if int(x) == 1 : \n",
    "        return 1\n",
    "    return (x*fact(x-1))\n",
    "\n",
    "fact(9)"
   ]
  },
  {
   "cell_type": "code",
   "execution_count": 25,
   "metadata": {},
   "outputs": [
    {
     "data": {
      "text/plain": [
       "[3, 4]"
      ]
     },
     "execution_count": 25,
     "metadata": {},
     "output_type": "execute_result"
    }
   ],
   "source": [
    "#07. \n",
    "def positive(x) : \n",
    "    empty_list = []\n",
    "    for i in x : \n",
    "        if i>0 : \n",
    "            empty_list.append(i)\n",
    "        else : \n",
    "            continue\n",
    "    return empty_list\n",
    "positive([3,-1,4])"
   ]
  },
  {
   "cell_type": "code",
   "execution_count": 51,
   "metadata": {
    "scrolled": true
   },
   "outputs": [
    {
     "name": "stdout",
     "output_type": "stream",
     "text": [
      "====================================================================================================\n",
      "게임에 오신 것을 환영합니다!\n",
      "        이 게임은 컴퓨터가 무슨 숫자를 냈는지 맞추는 게임입니다. \n",
      "        총 10번의 기회가 있습니다. 10번 중 7번을 맞추면 슈퍼카를 증정해 드립니다.\n",
      "        화이팅!\n",
      "----------------------------------------------------------------------------------------------------\n",
      "====================================================================================================\n",
      "총 10번의 기회 중 1번째 시도입니다. 남은 횟수는 9번 입니다.\n",
      "====================================================================================================\n",
      "\n",
      "1~10사이 정수를 제시하세요 : 90\n",
      "정수는 입력하셨군요~ 하지만 범위를 벗어났습니다. 1에서 10 사이 정수만 입력하세요\n",
      "1~10사이 정수를 제시하세요 : 3\n",
      "틀렸습니다!\n",
      "사용자는 3를 냈지만, 컴퓨터는 7를 냈습니다. \n",
      "현재는 1번째 시도이며, 기회는 9번 남았습니다. 분발하세요~\n",
      "====================================================================================================\n",
      "총 10번의 기회 중 2번째 시도입니다. 남은 횟수는 8번 입니다.\n",
      "====================================================================================================\n",
      "\n",
      "1~10사이 정수를 제시하세요 : 8\n",
      "틀렸습니다!\n",
      "사용자는 8를 냈지만, 컴퓨터는 7를 냈습니다. \n",
      "현재는 2번째 시도이며, 기회는 8번 남았습니다. 분발하세요~\n",
      "====================================================================================================\n",
      "총 10번의 기회 중 3번째 시도입니다. 남은 횟수는 7번 입니다.\n",
      "====================================================================================================\n",
      "\n",
      "1~10사이 정수를 제시하세요 : 3\n",
      "틀렸습니다!\n",
      "사용자는 3를 냈지만, 컴퓨터는 9를 냈습니다. \n",
      "현재는 3번째 시도이며, 기회는 7번 남았습니다. 분발하세요~\n",
      "====================================================================================================\n",
      "총 10번의 기회 중 4번째 시도입니다. 남은 횟수는 6번 입니다.\n",
      "====================================================================================================\n",
      "\n",
      "1~10사이 정수를 제시하세요 : 4\n",
      "틀렸습니다!\n",
      "사용자는 4를 냈지만, 컴퓨터는 3를 냈습니다. \n",
      "현재는 4번째 시도이며, 기회는 6번 남았습니다. 분발하세요~\n",
      "====================================================================================================\n",
      "총 10번의 기회 중 5번째 시도입니다. 남은 횟수는 5번 입니다.\n",
      "====================================================================================================\n",
      "\n",
      "1~10사이 정수를 제시하세요 : 3\n",
      "틀렸습니다!\n",
      "사용자는 3를 냈지만, 컴퓨터는 6를 냈습니다. \n",
      "현재는 5번째 시도이며, 기회는 5번 남았습니다. 분발하세요~\n",
      "====================================================================================================\n",
      "총 10번의 기회 중 6번째 시도입니다. 남은 횟수는 4번 입니다.\n",
      "====================================================================================================\n",
      "\n",
      "1~10사이 정수를 제시하세요 : 3\n",
      "틀렸습니다!\n",
      "사용자는 3를 냈지만, 컴퓨터는 1를 냈습니다. \n",
      "현재는 6번째 시도이며, 기회는 4번 남았습니다. 분발하세요~\n",
      "====================================================================================================\n",
      "총 10번의 기회 중 7번째 시도입니다. 남은 횟수는 3번 입니다.\n",
      "====================================================================================================\n",
      "\n",
      "1~10사이 정수를 제시하세요 : 3\n",
      "틀렸습니다!\n",
      "사용자는 3를 냈지만, 컴퓨터는 2를 냈습니다. \n",
      "현재는 7번째 시도이며, 기회는 3번 남았습니다. 분발하세요~\n",
      "====================================================================================================\n",
      "총 10번의 기회 중 8번째 시도입니다. 남은 횟수는 2번 입니다.\n",
      "====================================================================================================\n",
      "\n",
      "1~10사이 정수를 제시하세요 : 3\n",
      "틀렸습니다!\n",
      "사용자는 3를 냈지만, 컴퓨터는 9를 냈습니다. \n",
      "현재는 8번째 시도이며, 기회는 2번 남았습니다. 분발하세요~\n",
      "====================================================================================================\n",
      "총 10번의 기회 중 9번째 시도입니다. 남은 횟수는 1번 입니다.\n",
      "====================================================================================================\n",
      "\n",
      "1~10사이 정수를 제시하세요 : 3\n",
      "틀렸습니다!\n",
      "사용자는 3를 냈지만, 컴퓨터는 8를 냈습니다. \n",
      "현재는 9번째 시도이며, 기회는 1번 남았습니다. 분발하세요~\n",
      "====================================================================================================\n",
      "총 10번의 기회 중 10번째 시도입니다. 남은 횟수는 0번 입니다.\n",
      "====================================================================================================\n",
      "\n",
      "1~10사이 정수를 제시하세요 : 3\n",
      "틀렸습니다!\n",
      "사용자는 3를 냈지만, 컴퓨터는 7를 냈습니다. \n",
      "현재는 10번째 시도이며, 기회는 0번 남았습니다. 분발하세요~\n",
      "\n",
      "게임이 끝났습니다. 점수를 볼까요? \n",
      "****************************************************************************************************\n",
      "내 추측 기록 : [3, 8, 3, 4, 3, 3, 3, 3, 3, 3]\n",
      "컴퓨터가 뽑은 숫자 : [7, 7, 9, 3, 6, 1, 2, 9, 8, 7]\n",
      "맞춘 횟수 : 0\n",
      "====================================================================================================\n",
      "\n",
      "상품 당첨 여부 : 꽝\n",
      "다음 기회에...\n",
      "****************************************************************************************************\n"
     ]
    }
   ],
   "source": [
    "#08. \n",
    "import random\n",
    "\n",
    "def game() : \n",
    "    print('='*100)\n",
    "    print(f'''게임에 오신 것을 환영합니다!\n",
    "        이 게임은 컴퓨터가 무슨 숫자를 냈는지 맞추는 게임입니다. \n",
    "        총 10번의 기회가 있습니다. 10번 중 7번을 맞추면 슈퍼카를 증정해 드립니다.\n",
    "        화이팅!''')\n",
    "    print('-'*100)\n",
    "    \n",
    "    no = 0\n",
    "    my = []\n",
    "    com = []\n",
    "    \n",
    "    for i in range(0, 10) : \n",
    "        print('='*100)\n",
    "        print(f'총 10번의 기회 중 {i+1}번째 시도입니다. 남은 횟수는 {10-(i+1)}번 입니다.')\n",
    "        print('='*100)\n",
    "        print()\n",
    "        computer = random.randrange(1, 10)\n",
    "        com.append(computer)\n",
    "        while True : \n",
    "            try : \n",
    "                me = int(input('1~10사이 정수를 제시하세요 : '))\n",
    "                if 1<= me and 10 >= me : \n",
    "                    my.append(me)\n",
    "                    break\n",
    "                if me < 1 or me > 10 : \n",
    "                    raise TypeError ('범위를 벗어난 숫자 입력')\n",
    "            except ValueError : \n",
    "                print('1-10 사이 정수만 입력해야 합니다. 다시 하세요.')\n",
    "                continue\n",
    "            except TypeError : \n",
    "                print('정수는 입력하셨군요~ 하지만 범위를 벗어났습니다. 1에서 10 사이 정수만 입력하세요')\n",
    "                continue\n",
    "        if me == computer : \n",
    "            no += 1 \n",
    "            print('숫자를 맞히셨군요~')\n",
    "            print(f'현재는 {i+1}번째 시도이며, 총 {no}번 맞췄습니다')\n",
    "        elif me != computer : \n",
    "            print('틀렸습니다!')\n",
    "            print(f'사용자는 {me}를 냈지만, 컴퓨터는 {computer}를 냈습니다. ')\n",
    "            print(f'현재는 {i+1}번째 시도이며, 기회는 {10-(i+1)}번 남았습니다. 분발하세요~')\n",
    "    \n",
    "    print()\n",
    "    print('게임이 끝났습니다. 점수를 볼까요? ')\n",
    "    print('*'*100)\n",
    "    print('내 추측 기록 :', my)\n",
    "    print('컴퓨터가 뽑은 숫자 :', com)\n",
    "    print(f'맞춘 횟수 : {no}')\n",
    "    print('='*100)\n",
    "    print()\n",
    "    \n",
    "    if no >= 7 : \n",
    "        print('상품 당첨 여부 : 당첨')\n",
    "        print('congratulations!')\n",
    "    else : \n",
    "        print('상품 당첨 여부 : 꽝')\n",
    "        print('다음 기회에...')\n",
    "    print('*'*100)\n",
    "\n",
    "game()"
   ]
  },
  {
   "cell_type": "code",
   "execution_count": 57,
   "metadata": {},
   "outputs": [
    {
     "name": "stdout",
     "output_type": "stream",
     "text": [
      "13\n",
      "25\n"
     ]
    },
    {
     "data": {
      "text/plain": [
       "8"
      ]
     },
     "execution_count": 57,
     "metadata": {},
     "output_type": "execute_result"
    }
   ],
   "source": [
    "#09.\n",
    "a = int(input('1'))\n",
    "b = int(input('2'))\n",
    "sum = (lambda a, b : a+b)(a, b)\n",
    "sum"
   ]
  },
  {
   "cell_type": "code",
   "execution_count": 70,
   "metadata": {},
   "outputs": [
    {
     "name": "stdout",
     "output_type": "stream",
     "text": [
      "숫자 입력 : 10\n",
      "[7, 9, 3, 7, 1, 5, 2, 7, 1, 5]\n",
      "[2]\n"
     ]
    },
    {
     "data": {
      "text/plain": [
       "1"
      ]
     },
     "execution_count": 70,
     "metadata": {},
     "output_type": "execute_result"
    }
   ],
   "source": [
    "#10. \n",
    "def number() : \n",
    "    empty = []\n",
    "    num = int(input('숫자 입력 : '))\n",
    "    for i in range(num) : \n",
    "        empty.append(random.randint(1, num))\n",
    "    \n",
    "    new = [i for i in empty if i%2 == 0]\n",
    "    print(empty)\n",
    "    print(new)\n",
    "    return len(new)\n",
    "number()"
   ]
  },
  {
   "cell_type": "code",
   "execution_count": null,
   "metadata": {},
   "outputs": [],
   "source": []
  },
  {
   "cell_type": "code",
   "execution_count": null,
   "metadata": {},
   "outputs": [],
   "source": []
  },
  {
   "cell_type": "code",
   "execution_count": null,
   "metadata": {},
   "outputs": [],
   "source": []
  }
 ],
 "metadata": {
  "kernelspec": {
   "display_name": "Python 3",
   "language": "python",
   "name": "python3"
  },
  "language_info": {
   "codemirror_mode": {
    "name": "ipython",
    "version": 3
   },
   "file_extension": ".py",
   "mimetype": "text/x-python",
   "name": "python",
   "nbconvert_exporter": "python",
   "pygments_lexer": "ipython3",
   "version": "3.8.5"
  }
 },
 "nbformat": 4,
 "nbformat_minor": 4
}
