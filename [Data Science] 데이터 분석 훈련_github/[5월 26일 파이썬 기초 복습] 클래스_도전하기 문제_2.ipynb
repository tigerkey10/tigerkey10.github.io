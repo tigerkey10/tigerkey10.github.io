{
 "cells": [
  {
   "cell_type": "markdown",
   "metadata": {},
   "source": [
    "## 도전하기"
   ]
  },
  {
   "cell_type": "code",
   "execution_count": 8,
   "metadata": {},
   "outputs": [
    {
     "name": "stdout",
     "output_type": "stream",
     "text": [
      "이름은 고길동 입니다\n"
     ]
    }
   ],
   "source": [
    "#01. \n",
    "class Person : \n",
    "    def __init__(self, name) : \n",
    "        self.name = name\n",
    "    def Print(self) : \n",
    "        print('이름은',self.name,'입니다')\n",
    "p1 = Person('고길동')\n",
    "p1.Print()"
   ]
  },
  {
   "cell_type": "code",
   "execution_count": 19,
   "metadata": {},
   "outputs": [
    {
     "name": "stdout",
     "output_type": "stream",
     "text": [
      "이름은 홍길동 입니다\n",
      "나이는 23 입니다\n"
     ]
    }
   ],
   "source": [
    "#02. \n",
    "class Person2 : \n",
    "    name = ''\n",
    "    age = ''\n",
    "    \n",
    "    def name(self, name) : \n",
    "        self.name = name\n",
    "    def age(self, age) : \n",
    "        self.age = age\n",
    "    def talk(self) : \n",
    "        print('이름은',self.name,'입니다')\n",
    "        print('나이는',self.age,'입니다')\n",
    "p2 = Person2()\n",
    "p2.name('홍길동')\n",
    "p2.age(23)\n",
    "p2.talk()"
   ]
  },
  {
   "cell_type": "code",
   "execution_count": 28,
   "metadata": {},
   "outputs": [
    {
     "name": "stdout",
     "output_type": "stream",
     "text": [
      "이름은 고길동 입니다\n",
      "나이는 23 입니다\n"
     ]
    }
   ],
   "source": [
    "#03. \n",
    "class Person3 : \n",
    "    def __init__(self, name) : \n",
    "        self.name = name\n",
    "    name = ''\n",
    "    age = ''\n",
    "    def age(self, age) : \n",
    "        self.age = age\n",
    "    def talk(self) : \n",
    "        print('이름은',self.name,'입니다')\n",
    "        print('나이는',self.age,'입니다')\n",
    "p3 = Person3('고길동')\n",
    "p3.age(23)\n",
    "p3.talk()"
   ]
  },
  {
   "cell_type": "code",
   "execution_count": 68,
   "metadata": {},
   "outputs": [],
   "source": [
    "#04. \n",
    "class Car : \n",
    "    def __init__(self, name, color) : \n",
    "        self.name = name\n",
    "        self.color = color\n",
    "    speed = 0\n",
    "    def speed_up(self, speed) : \n",
    "        self.speed += speed\n",
    "    def speed_down(self, speed) : \n",
    "        self.speed -= speed\n",
    "    def talk(self) : \n",
    "        print(f'{self.name}의 색상은 {self.color}이고, 현재 속도는 {self.speed}km/h 입니다.')\n",
    "car = Car('porsche', '노랑')"
   ]
  },
  {
   "cell_type": "code",
   "execution_count": 242,
   "metadata": {},
   "outputs": [
    {
     "name": "stdout",
     "output_type": "stream",
     "text": [
      "porsche의 색상은 노랑이고, 현재 속도는 160km/h 입니다.\n"
     ]
    }
   ],
   "source": [
    "car.speed_up(20)\n",
    "car.talk()"
   ]
  },
  {
   "cell_type": "code",
   "execution_count": 244,
   "metadata": {},
   "outputs": [
    {
     "name": "stdout",
     "output_type": "stream",
     "text": [
      "porsche의 색상은 노랑이고, 현재 속도는 60km/h 입니다.\n"
     ]
    }
   ],
   "source": [
    "car.speed_down(50)\n",
    "car.talk()"
   ]
  },
  {
   "cell_type": "code",
   "execution_count": 251,
   "metadata": {},
   "outputs": [
    {
     "name": "stdout",
     "output_type": "stream",
     "text": [
      "사각형의 면적은 1800입니다\n"
     ]
    }
   ],
   "source": [
    "#05. \n",
    "class Rectangle : \n",
    "    def __init__(self, width, height) : \n",
    "        self.width = width\n",
    "        self.height = height \n",
    "    def getArea(self) : \n",
    "        self.area = self.width*self.height\n",
    "        print(f'사각형의 면적은 {self.area}입니다')\n",
    "r = Rectangle(90,20)\n",
    "r.getArea()"
   ]
  },
  {
   "cell_type": "code",
   "execution_count": 259,
   "metadata": {},
   "outputs": [
    {
     "name": "stdout",
     "output_type": "stream",
     "text": [
      "사각형의 면적은 600입니다\n",
      "사각형의 면적은 200입니다.\n"
     ]
    }
   ],
   "source": [
    "#06. \n",
    "class R2(Rectangle) : \n",
    "    def setArea(self, width, height) : \n",
    "        self.width = width\n",
    "        self.height = height \n",
    "        print(f'사각형의 면적은 {self.width*self.height}입니다.')\n",
    "r2 = R2(30,20)\n",
    "r2.getArea()\n",
    "r2.setArea(10,20)"
   ]
  },
  {
   "cell_type": "code",
   "execution_count": 274,
   "metadata": {},
   "outputs": [
    {
     "name": "stdout",
     "output_type": "stream",
     "text": [
      "제 이름은 홍길동입니다.\n",
      "저는 잠을 합니다.\n",
      "저는 사과를 먹고 있습니다.\n",
      "저는 python를 열심히 공부하고 있습니다.\n"
     ]
    }
   ],
   "source": [
    "from classEx07 import *\n",
    "p1 = student('홍길동')\n",
    "p1.sleeping('잠')\n",
    "p1.eat('사과')\n",
    "p1.talk()\n",
    "p1.study('python')"
   ]
  },
  {
   "cell_type": "code",
   "execution_count": 297,
   "metadata": {},
   "outputs": [
    {
     "name": "stdout",
     "output_type": "stream",
     "text": [
      "my name is 둘리.\n",
      "im teaching python\n",
      "im eating apple.\n",
      "my name is 둘리.\n",
      "im teaching python\n",
      "im eating apple.\n"
     ]
    }
   ],
   "source": [
    "#08. # 상속으로 생성자가 두개인 경우 상속한 상위 클래스 생성자를 받아 쓰고 하위 클래스 생성자는 무시한다.\n",
    "from classEx08 import *\n",
    "p5 = Professor('둘리')\n",
    "p5.eat('apple')\n",
    "p5.talk()\n",
    "p5.sleeping('sleep')\n",
    "p5.talk() #상속받아서 이름 중복된 메서드 있을 경우 : 하위 클래스의 메서드를 출력한다. "
   ]
  },
  {
   "cell_type": "code",
   "execution_count": 2,
   "metadata": {},
   "outputs": [
    {
     "name": "stdout",
     "output_type": "stream",
     "text": [
      "dd\n"
     ]
    },
    {
     "data": {
      "text/plain": [
       "'male'"
      ]
     },
     "execution_count": 2,
     "metadata": {},
     "output_type": "execute_result"
    }
   ],
   "source": [
    "# 테스트\n",
    "from classEx08 import *\n",
    "t1 = Professor('a')\n",
    "t1.gender"
   ]
  },
  {
   "cell_type": "markdown",
   "metadata": {},
   "source": [
    "# 테스트 결론 : 상속 _ \n",
    "## 상속하는 중. 상위 클래스 / 하위클래스 간 중복되는 메서드.속성.생성자 등 있으면 \n",
    "## 하위 클래스의 것이 우선시 된다. "
   ]
  },
  {
   "cell_type": "code",
   "execution_count": 14,
   "metadata": {},
   "outputs": [],
   "source": [
    "#09. \n",
    "class GuGuDan : #최상위 부모 클래스\n",
    "    def now_down(self, a) : \n",
    "        for i in range(1,10) : \n",
    "            print(f'{a}*{i}={a*i}')\n",
    "            \n",
    "            \n",
    "class AllDan(GuGuDan) : \n",
    "    def all_dan(self) : \n",
    "        for c in range(1,10) : \n",
    "            self.now_down(c)\n",
    "            print()\n",
    "            \n",
    "            \n",
    "class Calc(AllDan) : \n",
    "    def add(self, num1, num2) : \n",
    "        res = num1 + num2\n",
    "        print(f'{num1}+{num2}={num1+num2}')\n",
    "    def sub(self, num1, num2) : \n",
    "        res = num1 - num2\n",
    "        print(f'{num1}-{num2}={num1-num2}')\n",
    "    def mul(self, num1, num2) : \n",
    "        res = num1*num2\n",
    "        print(f'{num1}*{num2}={num1*num2}')\n",
    "    def div(self, num1,num2) : \n",
    "        res = num1/num2\n",
    "        print(f'{num1}/{num2}={num1/num2}')\n"
   ]
  },
  {
   "cell_type": "markdown",
   "metadata": {},
   "source": [
    "### 09번 문제 모듈로 만들고, 다시 풀어보기 "
   ]
  },
  {
   "cell_type": "code",
   "execution_count": 1,
   "metadata": {},
   "outputs": [
    {
     "name": "stdout",
     "output_type": "stream",
     "text": [
      "3*1=3\n",
      "3*2=6\n",
      "3*3=9\n",
      "3*4=12\n",
      "3*5=15\n",
      "3*6=18\n",
      "3*7=21\n",
      "3*8=24\n",
      "3*9=27\n"
     ]
    }
   ],
   "source": [
    "# 테스트\n",
    "from classEx09 import *\n",
    "g1 = GuGuDan()\n",
    "g1.now_down(3)"
   ]
  },
  {
   "cell_type": "code",
   "execution_count": 3,
   "metadata": {
    "scrolled": true
   },
   "outputs": [
    {
     "name": "stdout",
     "output_type": "stream",
     "text": [
      "2*1=2\n",
      "2*2=4\n",
      "2*3=6\n",
      "2*4=8\n",
      "2*5=10\n",
      "2*6=12\n",
      "2*7=14\n",
      "2*8=16\n",
      "2*9=18\n",
      "\n",
      "3*1=3\n",
      "3*2=6\n",
      "3*3=9\n",
      "3*4=12\n",
      "3*5=15\n",
      "3*6=18\n",
      "3*7=21\n",
      "3*8=24\n",
      "3*9=27\n",
      "\n",
      "4*1=4\n",
      "4*2=8\n",
      "4*3=12\n",
      "4*4=16\n",
      "4*5=20\n",
      "4*6=24\n",
      "4*7=28\n",
      "4*8=32\n",
      "4*9=36\n",
      "\n",
      "5*1=5\n",
      "5*2=10\n",
      "5*3=15\n",
      "5*4=20\n",
      "5*5=25\n",
      "5*6=30\n",
      "5*7=35\n",
      "5*8=40\n",
      "5*9=45\n",
      "\n",
      "6*1=6\n",
      "6*2=12\n",
      "6*3=18\n",
      "6*4=24\n",
      "6*5=30\n",
      "6*6=36\n",
      "6*7=42\n",
      "6*8=48\n",
      "6*9=54\n",
      "\n",
      "7*1=7\n",
      "7*2=14\n",
      "7*3=21\n",
      "7*4=28\n",
      "7*5=35\n",
      "7*6=42\n",
      "7*7=49\n",
      "7*8=56\n",
      "7*9=63\n",
      "\n",
      "8*1=8\n",
      "8*2=16\n",
      "8*3=24\n",
      "8*4=32\n",
      "8*5=40\n",
      "8*6=48\n",
      "8*7=56\n",
      "8*8=64\n",
      "8*9=72\n",
      "\n",
      "9*1=9\n",
      "9*2=18\n",
      "9*3=27\n",
      "9*4=36\n",
      "9*5=45\n",
      "9*6=54\n",
      "9*7=63\n",
      "9*8=72\n",
      "9*9=81\n",
      "\n"
     ]
    }
   ],
   "source": [
    "g2 = AllDan()\n",
    "g2.all_dan()"
   ]
  },
  {
   "cell_type": "code",
   "execution_count": 7,
   "metadata": {
    "scrolled": true
   },
   "outputs": [
    {
     "name": "stdout",
     "output_type": "stream",
     "text": [
      "3*1=3\n",
      "3*2=6\n",
      "3*3=9\n",
      "3*4=12\n",
      "3*5=15\n",
      "3*6=18\n",
      "3*7=21\n",
      "3*8=24\n",
      "3*9=27\n"
     ]
    }
   ],
   "source": [
    "c1 = Calc()\n",
    "c1.now_down(3)"
   ]
  },
  {
   "cell_type": "code",
   "execution_count": 9,
   "metadata": {},
   "outputs": [
    {
     "name": "stdout",
     "output_type": "stream",
     "text": [
      "2+3=5\n",
      "2*3=6\n"
     ]
    }
   ],
   "source": [
    "c1.add(2,3)\n",
    "c1.mul(2,3)"
   ]
  },
  {
   "cell_type": "markdown",
   "metadata": {},
   "source": [
    "### 04번 문제 모듈로 다시 풀어보기 "
   ]
  },
  {
   "cell_type": "code",
   "execution_count": 1,
   "metadata": {
    "scrolled": true
   },
   "outputs": [
    {
     "name": "stdout",
     "output_type": "stream",
     "text": [
      "porsche의 색상은 red 이고 , 현재 속도는 300km/h입니다.\n",
      "\n",
      "ferrari의 색상은 blue 이고 , 현재 속도는 -280km/h입니다.\n",
      "\n"
     ]
    }
   ],
   "source": [
    "from classEx04 import *\n",
    "from mycar import *"
   ]
  },
  {
   "cell_type": "code",
   "execution_count": null,
   "metadata": {},
   "outputs": [],
   "source": []
  },
  {
   "cell_type": "code",
   "execution_count": null,
   "metadata": {},
   "outputs": [],
   "source": []
  }
 ],
 "metadata": {
  "kernelspec": {
   "display_name": "Python 3",
   "language": "python",
   "name": "python3"
  },
  "language_info": {
   "codemirror_mode": {
    "name": "ipython",
    "version": 3
   },
   "file_extension": ".py",
   "mimetype": "text/x-python",
   "name": "python",
   "nbconvert_exporter": "python",
   "pygments_lexer": "ipython3",
   "version": "3.8.5"
  }
 },
 "nbformat": 4,
 "nbformat_minor": 4
}
