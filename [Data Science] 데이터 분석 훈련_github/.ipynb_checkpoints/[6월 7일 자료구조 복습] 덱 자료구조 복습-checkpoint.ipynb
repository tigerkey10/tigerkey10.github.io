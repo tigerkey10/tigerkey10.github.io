{
 "cells": [
  {
   "cell_type": "markdown",
   "metadata": {},
   "source": [
    "# 덱 클래스로 덱 사용하기 "
   ]
  },
  {
   "cell_type": "code",
   "execution_count": 13,
   "metadata": {},
   "outputs": [
    {
     "name": "stdout",
     "output_type": "stream",
     "text": [
      "deque([1, 2, 3])\n",
      "deque([1, 2, 3, 4])\n"
     ]
    }
   ],
   "source": [
    "#Deque 덱 Double Ended QUEue\n",
    "from collections import deque\n",
    "\n",
    "dq = deque([1,2,3])\n",
    "print(dq)\n",
    "dq.append(4)\n",
    "print(dq)"
   ]
  },
  {
   "cell_type": "code",
   "execution_count": 16,
   "metadata": {},
   "outputs": [
    {
     "name": "stdout",
     "output_type": "stream",
     "text": [
      "deque([8, 8, 8, 1, 2, 3, 4])\n"
     ]
    }
   ],
   "source": [
    "dq.appendleft(8)\n",
    "print(dq)"
   ]
  },
  {
   "cell_type": "code",
   "execution_count": 22,
   "metadata": {},
   "outputs": [
    {
     "name": "stdout",
     "output_type": "stream",
     "text": [
      "deque([2, 3, 4])\n"
     ]
    },
    {
     "data": {
      "text/plain": [
       "2"
      ]
     },
     "execution_count": 22,
     "metadata": {},
     "output_type": "execute_result"
    }
   ],
   "source": [
    "print(dq)\n",
    "dq.popleft()"
   ]
  },
  {
   "cell_type": "code",
   "execution_count": 29,
   "metadata": {},
   "outputs": [
    {
     "ename": "IndexError",
     "evalue": "pop from an empty deque",
     "output_type": "error",
     "traceback": [
      "\u001b[0;31m---------------------------------------------------------------------------\u001b[0m",
      "\u001b[0;31mIndexError\u001b[0m                                Traceback (most recent call last)",
      "\u001b[0;32m<ipython-input-29-2cafcdd20d83>\u001b[0m in \u001b[0;36m<module>\u001b[0;34m\u001b[0m\n\u001b[0;32m----> 1\u001b[0;31m \u001b[0mdq\u001b[0m\u001b[0;34m.\u001b[0m\u001b[0mpop\u001b[0m\u001b[0;34m(\u001b[0m\u001b[0;34m)\u001b[0m\u001b[0;34m\u001b[0m\u001b[0;34m\u001b[0m\u001b[0m\n\u001b[0m",
      "\u001b[0;31mIndexError\u001b[0m: pop from an empty deque"
     ]
    }
   ],
   "source": [
    "dq.pop()"
   ]
  },
  {
   "cell_type": "code",
   "execution_count": 27,
   "metadata": {},
   "outputs": [
    {
     "name": "stdout",
     "output_type": "stream",
     "text": [
      "deque([])\n"
     ]
    }
   ],
   "source": [
    "print(dq)"
   ]
  },
  {
   "cell_type": "markdown",
   "metadata": {},
   "source": [
    "# 원형 큐로 덱 구현하기 \n",
    "- 원형 큐에 enqueueFront & dequeueRear 연산 추가 "
   ]
  },
  {
   "cell_type": "code",
   "execution_count": 105,
   "metadata": {},
   "outputs": [],
   "source": [
    "MAX_QSIZE = 5\n",
    "\n",
    "class CircularQueue : \n",
    "    def __init__(self) : \n",
    "        self.front = 0\n",
    "        self.rear = 0\n",
    "        self.items = [None]*MAX_QSIZE\n",
    "        \n",
    "    def isEmpty(self) : \n",
    "        return self.front == self.rear\n",
    "    \n",
    "    def isFull(self) : \n",
    "        return (self.rear+1)%MAX_QSIZE == self.front\n",
    "    def clear(self) : \n",
    "        self.front = self.rear\n",
    "    def addRear(self, item) : \n",
    "        if not self.isFull() : \n",
    "            self.rear = (self.rear+1)%MAX_QSIZE\n",
    "            self.items[self.rear] = item\n",
    "    def deleteFront(self) : \n",
    "        if not self.isEmpty() : \n",
    "            item = self.items[(self.front+1)%MAX_QSIZE]\n",
    "            self.front = (self.front+1)%MAX_QSIZE\n",
    "            return item \n",
    "    def getFront(self) : \n",
    "        if not self.isEmpty() : \n",
    "            return self.items[(self.front+1)%MAX_QSIZE]\n",
    "    def size(self) : \n",
    "        return (self.rear-self.front+MAX_QSIZE)%MAX_QSIZE\n",
    "    \n",
    "    def display(self) : \n",
    "        if self.front > self.rear : \n",
    "            out = self.items[self.front+1:] + self.items[0:self.rear+1]\n",
    "        else : \n",
    "            out = self.items[self.front+1:self.rear+1] \n",
    "        print(f'front : {self.front}, end : {self.rear}', out)\n",
    "    def addFront(self, item) : \n",
    "        if not self.isFull() : \n",
    "            self.items[self.front] = item\n",
    "            self.front = (self.front-1+MAX_QSIZE)%MAX_QSIZE\n",
    "    def deleteRear(self) :\n",
    "        if not self.isEmpty() : \n",
    "            item = self.items[self.rear]\n",
    "            self.rear = (self.rear-1+MAX_QSIZE)%MAX_QSIZE\n",
    "            return item\n",
    "    def getRear(self) : \n",
    "        return self.items[self.rear]"
   ]
  },
  {
   "cell_type": "code",
   "execution_count": 109,
   "metadata": {},
   "outputs": [
    {
     "name": "stdout",
     "output_type": "stream",
     "text": [
      "front : 3, end : 1 [3, 1, 2]\n"
     ]
    }
   ],
   "source": [
    "dq2 = CircularQueue()\n",
    "for i in range(1,4) : \n",
    "    if i % 2 == 0 : \n",
    "        dq2.addRear(i)\n",
    "    else : \n",
    "        dq2.addFront(i)\n",
    "dq2.display()"
   ]
  },
  {
   "cell_type": "code",
   "execution_count": 107,
   "metadata": {},
   "outputs": [
    {
     "name": "stdout",
     "output_type": "stream",
     "text": [
      "front : 0, end : 1 [2]\n"
     ]
    }
   ],
   "source": [
    "for i in range(2) : \n",
    "    dq2.deleteFront()\n",
    "dq2.display()"
   ]
  },
  {
   "cell_type": "code",
   "execution_count": 110,
   "metadata": {
    "scrolled": true
   },
   "outputs": [
    {
     "name": "stdout",
     "output_type": "stream",
     "text": [
      "front : 3, end : 4 [3]\n"
     ]
    }
   ],
   "source": [
    "for i in range(2) :\n",
    "    dq2.deleteRear()\n",
    "dq2.display()"
   ]
  },
  {
   "cell_type": "code",
   "execution_count": 114,
   "metadata": {},
   "outputs": [
    {
     "name": "stdout",
     "output_type": "stream",
     "text": [
      "front : 0, end : 4 [5, 6, 5, 3]\n"
     ]
    }
   ],
   "source": [
    "for i in range(5,7) : \n",
    "    dq2.addFront(i)\n",
    "dq2.display()"
   ]
  },
  {
   "cell_type": "code",
   "execution_count": 120,
   "metadata": {},
   "outputs": [],
   "source": [
    "dq2.clear()"
   ]
  },
  {
   "cell_type": "code",
   "execution_count": 122,
   "metadata": {},
   "outputs": [
    {
     "name": "stdout",
     "output_type": "stream",
     "text": [
      "front : 4, end : 4 []\n"
     ]
    }
   ],
   "source": [
    "dq2.display()"
   ]
  },
  {
   "cell_type": "code",
   "execution_count": null,
   "metadata": {},
   "outputs": [],
   "source": []
  },
  {
   "cell_type": "code",
   "execution_count": 176,
   "metadata": {},
   "outputs": [
    {
     "name": "stdout",
     "output_type": "stream",
     "text": [
      "DATA\n",
      "deque(['k', 'd', 'a', 't', 'a', 'r'])\n"
     ]
    }
   ],
   "source": [
    "from collections import deque\n",
    "dq = deque('data') \n",
    "\n",
    "for elem in dq : \n",
    "    print(elem.upper() , end='')\n",
    "print()\n",
    "\n",
    "dq.append('r')\n",
    "dq.appendleft('k')\n",
    "print(dq)"
   ]
  },
  {
   "cell_type": "code",
   "execution_count": 177,
   "metadata": {},
   "outputs": [
    {
     "data": {
      "text/plain": [
       "'r'"
      ]
     },
     "execution_count": 177,
     "metadata": {},
     "output_type": "execute_result"
    }
   ],
   "source": [
    "dq.pop()"
   ]
  },
  {
   "cell_type": "code",
   "execution_count": 178,
   "metadata": {},
   "outputs": [
    {
     "name": "stdout",
     "output_type": "stream",
     "text": [
      "deque(['k', 'd', 'a', 't', 'a'])\n"
     ]
    }
   ],
   "source": [
    "print(dq)"
   ]
  },
  {
   "cell_type": "code",
   "execution_count": 179,
   "metadata": {},
   "outputs": [
    {
     "data": {
      "text/plain": [
       "'k'"
      ]
     },
     "execution_count": 179,
     "metadata": {},
     "output_type": "execute_result"
    }
   ],
   "source": [
    "dq.popleft()"
   ]
  },
  {
   "cell_type": "code",
   "execution_count": 180,
   "metadata": {},
   "outputs": [
    {
     "name": "stdout",
     "output_type": "stream",
     "text": [
      "deque(['d', 'a', 't', 'a'])\n"
     ]
    }
   ],
   "source": [
    "print(dq)"
   ]
  },
  {
   "cell_type": "code",
   "execution_count": 181,
   "metadata": {},
   "outputs": [
    {
     "name": "stdout",
     "output_type": "stream",
     "text": [
      "a\n"
     ]
    }
   ],
   "source": [
    "print(dq[-1])"
   ]
  },
  {
   "cell_type": "code",
   "execution_count": 182,
   "metadata": {},
   "outputs": [
    {
     "name": "stdout",
     "output_type": "stream",
     "text": [
      "False\n"
     ]
    }
   ],
   "source": [
    "print('x' in dq)"
   ]
  },
  {
   "cell_type": "code",
   "execution_count": 183,
   "metadata": {},
   "outputs": [],
   "source": [
    "dq.extend('structure')"
   ]
  },
  {
   "cell_type": "code",
   "execution_count": 184,
   "metadata": {},
   "outputs": [],
   "source": [
    "dq.extendleft(reversed('python'))"
   ]
  },
  {
   "cell_type": "code",
   "execution_count": 188,
   "metadata": {},
   "outputs": [
    {
     "name": "stdout",
     "output_type": "stream",
     "text": [
      "pythondatastructure"
     ]
    }
   ],
   "source": [
    "for i in dq : \n",
    "    print(i, end = '')"
   ]
  },
  {
   "cell_type": "markdown",
   "metadata": {},
   "source": [
    "# 우선순위 큐 \n",
    "# 출력우선순위 큐\n",
    "# 데이터가 큐에서 빠져나오는 우선순위가 있는 큐"
   ]
  },
  {
   "cell_type": "code",
   "execution_count": 192,
   "metadata": {},
   "outputs": [],
   "source": [
    "from queue import PriorityQueue\n",
    "que = PriorityQueue(maxsize=8)\n",
    "\n",
    "que.put(3);que.put(5);que.put(2);que.put(4);que.put(1);que.put(6)"
   ]
  },
  {
   "cell_type": "code",
   "execution_count": 199,
   "metadata": {},
   "outputs": [
    {
     "name": "stdout",
     "output_type": "stream",
     "text": [
      "123456"
     ]
    }
   ],
   "source": [
    "for _ in range(que.qsize()) : \n",
    "    print(que.get(), end = '')"
   ]
  },
  {
   "cell_type": "code",
   "execution_count": 204,
   "metadata": {},
   "outputs": [],
   "source": [
    "que.put(9)"
   ]
  },
  {
   "cell_type": "code",
   "execution_count": 205,
   "metadata": {},
   "outputs": [
    {
     "data": {
      "text/plain": [
       "9"
      ]
     },
     "execution_count": 205,
     "metadata": {},
     "output_type": "execute_result"
    }
   ],
   "source": [
    "que.get()"
   ]
  },
  {
   "cell_type": "code",
   "execution_count": 217,
   "metadata": {},
   "outputs": [],
   "source": [
    "que.put('G');que.put('B');que.put('C');que.put('D');que.put('A');que.put('F')"
   ]
  },
  {
   "cell_type": "code",
   "execution_count": 218,
   "metadata": {},
   "outputs": [
    {
     "name": "stdout",
     "output_type": "stream",
     "text": [
      "ABCDFG"
     ]
    }
   ],
   "source": [
    "for _ in range(que.qsize()) : \n",
    "    print(que.get(), end = '')"
   ]
  },
  {
   "cell_type": "code",
   "execution_count": 225,
   "metadata": {},
   "outputs": [],
   "source": [
    "a = [3,2,1]\n",
    "a.sort()"
   ]
  },
  {
   "cell_type": "code",
   "execution_count": 226,
   "metadata": {},
   "outputs": [
    {
     "data": {
      "text/plain": [
       "[1, 2, 3]"
      ]
     },
     "execution_count": 226,
     "metadata": {},
     "output_type": "execute_result"
    }
   ],
   "source": [
    "a"
   ]
  },
  {
   "cell_type": "code",
   "execution_count": 236,
   "metadata": {},
   "outputs": [
    {
     "name": "stdout",
     "output_type": "stream",
     "text": [
      "(1, 'E')(2, 'C')(3, 'A')(4, 'D')(5, 'B')(6, 'F')"
     ]
    }
   ],
   "source": [
    "from queue import PriorityQueue\n",
    "q = PriorityQueue(maxsize=8)\n",
    "\n",
    "q.put((3,'A'));q.put((5,'B'));q.put((2,'C'));q.put((4,'D'));q.put((1,'E'));q.put((6,'F'))\n",
    "for _ in range(q.qsize()) : \n",
    "    print(q.get(), end = '')"
   ]
  },
  {
   "cell_type": "code",
   "execution_count": 240,
   "metadata": {},
   "outputs": [],
   "source": [
    "q.put(('8','Z'))"
   ]
  },
  {
   "cell_type": "markdown",
   "metadata": {},
   "source": [
    "# 1차원 배열리스트 이용해서 우선순위 큐 직접 구현하기 "
   ]
  },
  {
   "cell_type": "code",
   "execution_count": 276,
   "metadata": {},
   "outputs": [],
   "source": [
    "class PriorityQueue : \n",
    "    def __init__(self) : \n",
    "        self.items = []\n",
    "    \n",
    "    def isEmpty(self) : \n",
    "        return len(self.items) == 0 \n",
    "    \n",
    "    def size(self) : \n",
    "        return len(self.items)\n",
    "    \n",
    "    def clear(self) : \n",
    "        self.items = []\n",
    "        \n",
    "    def enqueue(self, item) : \n",
    "        self.items.append(item)\n",
    "    \n",
    "    def findMaxIndex(self) : \n",
    "        highest = 0\n",
    "        \n",
    "        if self.isEmpty == True : \n",
    "            highest = None\n",
    "        \n",
    "        else : \n",
    "            for i in range(1, len(self.items)) : \n",
    "                if self.items[i] > self.items[highest] : \n",
    "                    highest = i\n",
    "        return highest\n",
    "    \n",
    "    def dequeue(self) : \n",
    "        highest = self.findMaxIndex()\n",
    "        \n",
    "        if highest is not None : \n",
    "            return self.items.pop(highest)\n",
    "    \n",
    "    def peek(self) : \n",
    "        highest = findMaxIndex() \n",
    "        if highest is not None : \n",
    "            return self.items[highest]\n",
    "    def display(self) : \n",
    "        return self.items\n"
   ]
  },
  {
   "cell_type": "code",
   "execution_count": 277,
   "metadata": {},
   "outputs": [],
   "source": [
    "q2 = PriorityQueue()\n",
    "q2.enqueue(34);q2.enqueue(18);q2.enqueue(27);q2.enqueue(45);q2.enqueue(15)"
   ]
  },
  {
   "cell_type": "code",
   "execution_count": 278,
   "metadata": {},
   "outputs": [
    {
     "data": {
      "text/plain": [
       "[34, 18, 27, 45, 15]"
      ]
     },
     "execution_count": 278,
     "metadata": {},
     "output_type": "execute_result"
    }
   ],
   "source": [
    "q2.display()"
   ]
  },
  {
   "cell_type": "code",
   "execution_count": 279,
   "metadata": {
    "scrolled": true
   },
   "outputs": [
    {
     "name": "stdout",
     "output_type": "stream",
     "text": [
      "PQueue [34, 18, 27, 45, 15]\n"
     ]
    }
   ],
   "source": [
    "print('PQueue', q2.items)"
   ]
  },
  {
   "cell_type": "code",
   "execution_count": 280,
   "metadata": {},
   "outputs": [
    {
     "name": "stdout",
     "output_type": "stream",
     "text": [
      "MAX PRIORITY =  45\n",
      "MAX PRIORITY =  34\n",
      "MAX PRIORITY =  27\n",
      "MAX PRIORITY =  18\n",
      "MAX PRIORITY =  15\n"
     ]
    }
   ],
   "source": [
    "while not q2.isEmpty() : \n",
    "    print('MAX PRIORITY = ', q2.dequeue())"
   ]
  },
  {
   "cell_type": "markdown",
   "metadata": {},
   "source": [
    "# 괄호쌍 검사 \n",
    "- 괄호쌍이 모두 맞는가? 검사하는 알고리듬 "
   ]
  },
  {
   "cell_type": "code",
   "execution_count": 285,
   "metadata": {},
   "outputs": [
    {
     "name": "stdout",
     "output_type": "stream",
     "text": [
      "입력 : ['(', '(', '{', '}', '(', ')', ')', '{', '{', '}', '(', ')', '}', ')']\n"
     ]
    }
   ],
   "source": [
    "a = ['(','(','{','}','(',')',')','{','{','}','(',')','}',')']\n",
    "print('입력 :',a)\n",
    "s = []\n",
    "N = len(a)\n",
    "result = True"
   ]
  },
  {
   "cell_type": "code",
   "execution_count": 287,
   "metadata": {},
   "outputs": [
    {
     "name": "stdout",
     "output_type": "stream",
     "text": [
      "True\n"
     ]
    }
   ],
   "source": [
    "for i in range(N) : \n",
    "    if a[i] == '(' or a[i] == '{' : \n",
    "        s.append(a[i])\n",
    "    else : \n",
    "        popped = s.pop()\n",
    "        if a[i] == ')' and popped != '(' : \n",
    "            result = False\n",
    "            break\n",
    "        elif a[i] == '}' and popped != '{' : \n",
    "            result = False\n",
    "            break\n",
    "if len(s) == 0 and result == True : \n",
    "    print('True')\n",
    "else : print('False')"
   ]
  },
  {
   "cell_type": "markdown",
   "metadata": {},
   "source": [
    "### 스스로 복습하기 "
   ]
  },
  {
   "cell_type": "code",
   "execution_count": 298,
   "metadata": {},
   "outputs": [
    {
     "name": "stdout",
     "output_type": "stream",
     "text": [
      "입력 : ['(', '{', '}', ')', '{', '}']\n",
      "True\n"
     ]
    }
   ],
   "source": [
    "a = ['(', '{', '}', ')', '{', '}']\n",
    "print('입력 :',a)\n",
    "s = []\n",
    "N = len(a)\n",
    "result = True\n",
    "\n",
    "# 괄호쌍 검사 알고리듬 \n",
    "for i in range(N) : \n",
    "    if a[i] == '(' or a[i] == '{' : \n",
    "        s.append(a[i])\n",
    "    else : \n",
    "        popped = s.pop() \n",
    "        \n",
    "        \n",
    "        \n",
    "        #괄호쌍이 안 맞는 경우 break\n",
    "        if a[i] == ')' and popped != '(' : \n",
    "            result = False\n",
    "            break\n",
    "        elif a[i] == '}' and popped != '{' : \n",
    "            result = False\n",
    "            break\n",
    "            \n",
    "# 결국 괄호쌍 모두 서로 맞는 경우 \n",
    "if len(s) == 0 and result == True : \n",
    "    print('True')\n",
    "    \n",
    "# 결국 괄호쌍 서로 안 맞는게 있는 경우 \n",
    "else : print('False')"
   ]
  },
  {
   "cell_type": "markdown",
   "metadata": {},
   "source": [
    "# 중위표기를 후위표기로 변경 "
   ]
  },
  {
   "cell_type": "markdown",
   "metadata": {},
   "source": [
    "# 구분기준.join(['문자열 들은 리스트'])\n",
    "### join함수 내의 iterable 인자 각 원소를 문자열로 합쳐준다. \n",
    "### .앞 구분기준을 '기준'으로 문자열 합쳐준다. "
   ]
  },
  {
   "cell_type": "code",
   "execution_count": 322,
   "metadata": {},
   "outputs": [
    {
     "data": {
      "text/plain": [
       "'a.b.c'"
      ]
     },
     "execution_count": 322,
     "metadata": {},
     "output_type": "execute_result"
    }
   ],
   "source": [
    "'.'.join(['a','b','c'])"
   ]
  },
  {
   "cell_type": "code",
   "execution_count": 323,
   "metadata": {
    "scrolled": true
   },
   "outputs": [
    {
     "data": {
      "text/plain": [
       "'a*b*c'"
      ]
     },
     "execution_count": 323,
     "metadata": {},
     "output_type": "execute_result"
    }
   ],
   "source": [
    "'*'.join(['a','b','c'])"
   ]
  },
  {
   "cell_type": "markdown",
   "metadata": {},
   "source": [
    "이런 식."
   ]
  },
  {
   "cell_type": "code",
   "execution_count": 381,
   "metadata": {},
   "outputs": [],
   "source": [
    "def push(item) : \n",
    "    stack.append(item)\n",
    "\n",
    "def pop() : \n",
    "    if len(stack) != 0 : \n",
    "        item = stack.pop(-1)\n",
    "        return item\n",
    "def peek() : \n",
    "    if len(stack) != 0 : \n",
    "        return stack[-1]\n",
    "def infix_to_postfix(expr) : \n",
    "    precedence = {} #우선순위 부여 딕셔너리 \n",
    "    precedence['*'] = 3\n",
    "    precedence['/'] = 3\n",
    "    precedence['+'] = 2\n",
    "    precedence['-'] = 2\n",
    "    precedence['('] = 1\n",
    "    result = []\n",
    "    token_list = expr\n",
    "    for token in token_list : \n",
    "        if token in 'ABCDEFGHIJKLMNOPQRSTUVWXYZ' or token in '0123456789' : \n",
    "            result.append(token)\n",
    "        elif token == '(' : \n",
    "            push(token)\n",
    "        elif token == ')' : \n",
    "            top = pop()\n",
    "            while top != '(' : \n",
    "                result.append(top)\n",
    "                top = pop()\n",
    "        else : \n",
    "            while (len(stack) != 0) and (precedence[peek()] >= precedence[token]) : \n",
    "                result.append(pop())\n",
    "            push(token)\n",
    "            \n",
    "            \n",
    "    while len(stack) != 0 : \n",
    "        result.append(stack.pop())\n",
    "    \n",
    "    return ''.join(result)"
   ]
  },
  {
   "cell_type": "code",
   "execution_count": 365,
   "metadata": {
    "scrolled": false
   },
   "outputs": [
    {
     "name": "stdout",
     "output_type": "stream",
     "text": [
      "AB*CD*+\n",
      "AB+C*DE-FG+*-\n",
      "ABC*DE-/+\n"
     ]
    }
   ],
   "source": [
    "stack = []\n",
    "print(infix_to_postfix('A*B+C*D'))\n",
    "print(infix_to_postfix('(A+B)*C-(D-E)*(F+G)'))\n",
    "print(infix_to_postfix('A+B*C/(D-E)'))"
   ]
  },
  {
   "cell_type": "code",
   "execution_count": 382,
   "metadata": {},
   "outputs": [
    {
     "data": {
      "text/plain": [
       "'AB*C-FG-H*+'"
      ]
     },
     "execution_count": 382,
     "metadata": {},
     "output_type": "execute_result"
    }
   ],
   "source": [
    "infix_to_postfix('(A*B)-C+(F-G)*H')"
   ]
  },
  {
   "cell_type": "markdown",
   "metadata": {},
   "source": []
  },
  {
   "cell_type": "code",
   "execution_count": 374,
   "metadata": {},
   "outputs": [
    {
     "name": "stdout",
     "output_type": "stream",
     "text": [
      "검사대상 : ['(', '{', '}', ')', '{', '}']\n"
     ]
    }
   ],
   "source": [
    "# 괄호검사 알고리듬 아이디어 복습 \n",
    "a = ['(', '{', '}', ')', '{', '}']\n",
    "print('검사대상 :',a)"
   ]
  },
  {
   "cell_type": "code",
   "execution_count": 376,
   "metadata": {},
   "outputs": [
    {
     "name": "stdout",
     "output_type": "stream",
     "text": [
      "True\n"
     ]
    }
   ],
   "source": [
    "result = []\n",
    "res = True\n",
    "\n",
    "for i in a :\n",
    "    if i == '(' or i == '{' : \n",
    "        result.append(i)\n",
    "    \n",
    "    else : \n",
    "        popped = result.pop()\n",
    "        \n",
    "        if i == '}' and popped != '{' : \n",
    "            res = False\n",
    "            break\n",
    "        elif i == ')' and popped != '(' : \n",
    "            res = False \n",
    "            break\n",
    "if result == [] : \n",
    "    print(res)\n",
    "else : \n",
    "    print(res)"
   ]
  },
  {
   "cell_type": "code",
   "execution_count": 385,
   "metadata": {},
   "outputs": [],
   "source": [
    "# 중위표기를 후위표기로 변경하는 알고리듬 짜기 \n",
    "stack = []\n",
    "\n",
    "def push(item) : \n",
    "    stack.append(item)\n",
    "\n",
    "def pop() : \n",
    "    item = stack.pop()\n",
    "    return item\n",
    "\n",
    "def peek() : \n",
    "    if len(stack) != 0 : \n",
    "        return stack[-1]\n",
    "def infix_to_postfix(expr) : \n",
    "    priority = {}\n",
    "    priority['*'] = 3\n",
    "    priority['/'] = 3\n",
    "    priority['+'] = 2\n",
    "    priority['-'] = 2\n",
    "    priority['('] = 1\n",
    "    result = []\n",
    "    \n",
    "    for i in expr : \n",
    "        if i in 'ABCDEFGHIJKLMNOPQRSTUVWXYZ' or i in '0123456789' : \n",
    "            result.append(i)\n",
    "        elif i == '(' : \n",
    "            push(i)\n",
    "        elif i == ')' : \n",
    "            top = pop()\n",
    "            while top != '(' : \n",
    "                result.append(top)\n",
    "                top = pop()\n",
    "        else : \n",
    "            if (len(stack) != 0) and (priority[peek()] >= priority[i]) : \n",
    "                item = stack.pop()\n",
    "                result.append(item)\n",
    "            push(i)\n",
    "    \n",
    "    while len(stack) != 0 : \n",
    "        item = stack.pop()\n",
    "        result.append(item)\n",
    "    return ''.join(result)"
   ]
  },
  {
   "cell_type": "code",
   "execution_count": 386,
   "metadata": {
    "scrolled": true
   },
   "outputs": [
    {
     "data": {
      "text/plain": [
       "'AB*C-FG-H*+'"
      ]
     },
     "execution_count": 386,
     "metadata": {},
     "output_type": "execute_result"
    }
   ],
   "source": [
    "infix_to_postfix('(A*B)-C+(F-G)*H')"
   ]
  },
  {
   "cell_type": "code",
   "execution_count": null,
   "metadata": {},
   "outputs": [],
   "source": []
  }
 ],
 "metadata": {
  "kernelspec": {
   "display_name": "Python 3",
   "language": "python",
   "name": "python3"
  },
  "language_info": {
   "codemirror_mode": {
    "name": "ipython",
    "version": 3
   },
   "file_extension": ".py",
   "mimetype": "text/x-python",
   "name": "python",
   "nbconvert_exporter": "python",
   "pygments_lexer": "ipython3",
   "version": "3.8.5"
  }
 },
 "nbformat": 4,
 "nbformat_minor": 4
}
