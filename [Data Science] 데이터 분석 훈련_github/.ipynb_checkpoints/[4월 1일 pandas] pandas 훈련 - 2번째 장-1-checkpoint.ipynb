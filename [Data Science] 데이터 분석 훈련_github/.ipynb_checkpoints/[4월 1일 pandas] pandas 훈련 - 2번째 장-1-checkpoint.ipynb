{
 "cells": [
  {
   "cell_type": "code",
   "execution_count": 3,
   "metadata": {},
   "outputs": [
    {
     "data": {
      "text/html": [
       "<div>\n",
       "<style scoped>\n",
       "    .dataframe tbody tr th:only-of-type {\n",
       "        vertical-align: middle;\n",
       "    }\n",
       "\n",
       "    .dataframe tbody tr th {\n",
       "        vertical-align: top;\n",
       "    }\n",
       "\n",
       "    .dataframe thead th {\n",
       "        text-align: right;\n",
       "    }\n",
       "</style>\n",
       "<table border=\"1\" class=\"dataframe\">\n",
       "  <thead>\n",
       "    <tr style=\"text-align: right;\">\n",
       "      <th></th>\n",
       "      <th>해운대구</th>\n",
       "      <th>기장군</th>\n",
       "      <th>광안리</th>\n",
       "    </tr>\n",
       "  </thead>\n",
       "  <tbody>\n",
       "    <tr>\n",
       "      <th>1</th>\n",
       "      <td>좌동</td>\n",
       "      <td>정관읍</td>\n",
       "      <td>1동</td>\n",
       "    </tr>\n",
       "    <tr>\n",
       "      <th>2</th>\n",
       "      <td>우동</td>\n",
       "      <td>일광면</td>\n",
       "      <td>2동</td>\n",
       "    </tr>\n",
       "    <tr>\n",
       "      <th>3</th>\n",
       "      <td>중동</td>\n",
       "      <td>동리</td>\n",
       "      <td>3동</td>\n",
       "    </tr>\n",
       "  </tbody>\n",
       "</table>\n",
       "</div>"
      ],
      "text/plain": [
       "  해운대구  기장군 광안리\n",
       "1   좌동  정관읍  1동\n",
       "2   우동  일광면  2동\n",
       "3   중동   동리  3동"
      ]
     },
     "execution_count": 3,
     "metadata": {},
     "output_type": "execute_result"
    }
   ],
   "source": [
    "# 딕셔너리로 데이터프레임 생성하기 \n",
    "hd = pd.DataFrame({\n",
    "    '해운대구' : ['좌동','우동','중동'],\n",
    "    '기장군' : ['정관읍','일광면','동리'],\n",
    "    '광안리' : ['1동','2동','3동']\n",
    "},\n",
    "index=[1,2,3])\n",
    "hd"
   ]
  },
  {
   "cell_type": "code",
   "execution_count": 12,
   "metadata": {},
   "outputs": [
    {
     "data": {
      "text/html": [
       "<div>\n",
       "<style scoped>\n",
       "    .dataframe tbody tr th:only-of-type {\n",
       "        vertical-align: middle;\n",
       "    }\n",
       "\n",
       "    .dataframe tbody tr th {\n",
       "        vertical-align: top;\n",
       "    }\n",
       "\n",
       "    .dataframe thead th {\n",
       "        text-align: right;\n",
       "    }\n",
       "</style>\n",
       "<table border=\"1\" class=\"dataframe\">\n",
       "  <thead>\n",
       "    <tr style=\"text-align: right;\">\n",
       "      <th></th>\n",
       "      <th>해운대구</th>\n",
       "      <th>기장군</th>\n",
       "      <th>광안리</th>\n",
       "    </tr>\n",
       "  </thead>\n",
       "  <tbody>\n",
       "    <tr>\n",
       "      <th>1</th>\n",
       "      <td>좌동</td>\n",
       "      <td>정관읍</td>\n",
       "      <td>1동</td>\n",
       "    </tr>\n",
       "    <tr>\n",
       "      <th>2</th>\n",
       "      <td>우동</td>\n",
       "      <td>일광면</td>\n",
       "      <td>2동</td>\n",
       "    </tr>\n",
       "    <tr>\n",
       "      <th>3</th>\n",
       "      <td>중동</td>\n",
       "      <td>동리</td>\n",
       "      <td>3동</td>\n",
       "    </tr>\n",
       "  </tbody>\n",
       "</table>\n",
       "</div>"
      ],
      "text/plain": [
       "  해운대구  기장군 광안리\n",
       "1   좌동  정관읍  1동\n",
       "2   우동  일광면  2동\n",
       "3   중동   동리  3동"
      ]
     },
     "execution_count": 12,
     "metadata": {},
     "output_type": "execute_result"
    }
   ],
   "source": [
    "#행렬로 데이터프레임 생성하기\n",
    "pd.DataFrame(np.array([['좌동','정관읍','1동'],#행렬, ndarray객체 \n",
    "                      ['우동','일광면','2동'],\n",
    "                      ['중동','동리','3동']]),\n",
    "            columns=['해운대구','기장군','광안리'],\n",
    "            index=[1,2,3])"
   ]
  },
  {
   "cell_type": "code",
   "execution_count": 13,
   "metadata": {},
   "outputs": [
    {
     "data": {
      "text/html": [
       "<div>\n",
       "<style scoped>\n",
       "    .dataframe tbody tr th:only-of-type {\n",
       "        vertical-align: middle;\n",
       "    }\n",
       "\n",
       "    .dataframe tbody tr th {\n",
       "        vertical-align: top;\n",
       "    }\n",
       "\n",
       "    .dataframe thead th {\n",
       "        text-align: right;\n",
       "    }\n",
       "</style>\n",
       "<table border=\"1\" class=\"dataframe\">\n",
       "  <thead>\n",
       "    <tr style=\"text-align: right;\">\n",
       "      <th></th>\n",
       "      <th>해운대구</th>\n",
       "      <th>기장군</th>\n",
       "      <th>광안리</th>\n",
       "    </tr>\n",
       "  </thead>\n",
       "  <tbody>\n",
       "    <tr>\n",
       "      <th>1</th>\n",
       "      <td>좌동</td>\n",
       "      <td>정관읍</td>\n",
       "      <td>1동</td>\n",
       "    </tr>\n",
       "    <tr>\n",
       "      <th>2</th>\n",
       "      <td>우동</td>\n",
       "      <td>일광면</td>\n",
       "      <td>2동</td>\n",
       "    </tr>\n",
       "    <tr>\n",
       "      <th>3</th>\n",
       "      <td>중동</td>\n",
       "      <td>동리</td>\n",
       "      <td>3동</td>\n",
       "    </tr>\n",
       "  </tbody>\n",
       "</table>\n",
       "</div>"
      ],
      "text/plain": [
       "  해운대구  기장군 광안리\n",
       "1   좌동  정관읍  1동\n",
       "2   우동  일광면  2동\n",
       "3   중동   동리  3동"
      ]
     },
     "execution_count": 13,
     "metadata": {},
     "output_type": "execute_result"
    }
   ],
   "source": [
    "#2차원 리스트로 데이터프레임 생성하기 \n",
    "pd.DataFrame([['좌동','정관읍','1동'],\n",
    "             ['우동','일광면','2동'],\n",
    "             ['중동','동리','3동']],\n",
    "            columns=['해운대구','기장군','광안리'],\n",
    "            index=[1,2,3])"
   ]
  },
  {
   "cell_type": "code",
   "execution_count": 15,
   "metadata": {},
   "outputs": [
    {
     "data": {
      "text/html": [
       "<div>\n",
       "<style scoped>\n",
       "    .dataframe tbody tr th:only-of-type {\n",
       "        vertical-align: middle;\n",
       "    }\n",
       "\n",
       "    .dataframe tbody tr th {\n",
       "        vertical-align: top;\n",
       "    }\n",
       "\n",
       "    .dataframe thead tr th {\n",
       "        text-align: left;\n",
       "    }\n",
       "</style>\n",
       "<table border=\"1\" class=\"dataframe\">\n",
       "  <thead>\n",
       "    <tr>\n",
       "      <th></th>\n",
       "      <th></th>\n",
       "      <th>생물</th>\n",
       "      <th colspan=\"3\" halign=\"left\">무생물</th>\n",
       "    </tr>\n",
       "    <tr>\n",
       "      <th></th>\n",
       "      <th></th>\n",
       "      <th>관람 가능 동물</th>\n",
       "      <th>조형물</th>\n",
       "      <th>시설물</th>\n",
       "      <th>놀이기구</th>\n",
       "    </tr>\n",
       "  </thead>\n",
       "  <tbody>\n",
       "    <tr>\n",
       "      <th rowspan=\"2\" valign=\"top\">바람</th>\n",
       "      <th>1구역</th>\n",
       "      <td>사자</td>\n",
       "      <td>돌부처</td>\n",
       "      <td>분수대</td>\n",
       "      <td>회전목마</td>\n",
       "    </tr>\n",
       "    <tr>\n",
       "      <th>2구역</th>\n",
       "      <td>호랑이</td>\n",
       "      <td>십자가</td>\n",
       "      <td>호수</td>\n",
       "      <td>회전 컵</td>\n",
       "    </tr>\n",
       "    <tr>\n",
       "      <th>햇님</th>\n",
       "      <th>3구역</th>\n",
       "      <td>토끼</td>\n",
       "      <td>안데르센 동상</td>\n",
       "      <td>타오르는 촛대</td>\n",
       "      <td>롤러코스터</td>\n",
       "    </tr>\n",
       "    <tr>\n",
       "      <th>별님</th>\n",
       "      <th>4구역</th>\n",
       "      <td>원숭이</td>\n",
       "      <td>손오공 동상</td>\n",
       "      <td>소나무 조각상</td>\n",
       "      <td>워터캠프</td>\n",
       "    </tr>\n",
       "  </tbody>\n",
       "</table>\n",
       "</div>"
      ],
      "text/plain": [
       "             생물      무생물                \n",
       "       관람 가능 동물      조형물      시설물   놀이기구\n",
       "바람 1구역       사자      돌부처      분수대   회전목마\n",
       "   2구역      호랑이      십자가       호수   회전 컵\n",
       "햇님 3구역       토끼  안데르센 동상  타오르는 촛대  롤러코스터\n",
       "별님 4구역      원숭이   손오공 동상  소나무 조각상   워터캠프"
      ]
     },
     "execution_count": 15,
     "metadata": {},
     "output_type": "execute_result"
    }
   ],
   "source": [
    "df = pd.DataFrame([['사자','돌부처','분수대','회전목마'],\n",
    "                  ['호랑이','십자가','호수','회전 컵'],\n",
    "                  ['토끼','안데르센 동상','타오르는 촛대','롤러코스터'],\n",
    "                  ['원숭이','손오공 동상','소나무 조각상','워터캠프']],\n",
    "                 index=pd.MultiIndex.from_tuples([['바람','1구역'],\n",
    "                                                 ['바람','2구역'],\n",
    "                                                 ['햇님','3구역'],\n",
    "                                                 ['별님','4구역']]),\n",
    "                 columns=[['생물','무생물','무생물','무생물'],\n",
    "                         ['관람 가능 동물','조형물','시설물','놀이기구']])\n",
    "df"
   ]
  },
  {
   "cell_type": "code",
   "execution_count": 17,
   "metadata": {},
   "outputs": [
    {
     "data": {
      "text/html": [
       "<div>\n",
       "<style scoped>\n",
       "    .dataframe tbody tr th:only-of-type {\n",
       "        vertical-align: middle;\n",
       "    }\n",
       "\n",
       "    .dataframe tbody tr th {\n",
       "        vertical-align: top;\n",
       "    }\n",
       "\n",
       "    .dataframe thead tr th {\n",
       "        text-align: left;\n",
       "    }\n",
       "</style>\n",
       "<table border=\"1\" class=\"dataframe\">\n",
       "  <thead>\n",
       "    <tr>\n",
       "      <th></th>\n",
       "      <th></th>\n",
       "      <th>생물</th>\n",
       "      <th colspan=\"3\" halign=\"left\">무생물</th>\n",
       "    </tr>\n",
       "    <tr>\n",
       "      <th></th>\n",
       "      <th></th>\n",
       "      <th>관람 가능 동물</th>\n",
       "      <th>조형물</th>\n",
       "      <th>시설물</th>\n",
       "      <th>놀이기구</th>\n",
       "    </tr>\n",
       "  </thead>\n",
       "  <tbody>\n",
       "    <tr>\n",
       "      <th rowspan=\"2\" valign=\"top\">바람</th>\n",
       "      <th>1구역</th>\n",
       "      <td>사자</td>\n",
       "      <td>돌부처</td>\n",
       "      <td>분수대</td>\n",
       "      <td>회전목마</td>\n",
       "    </tr>\n",
       "    <tr>\n",
       "      <th>2구역</th>\n",
       "      <td>호랑이</td>\n",
       "      <td>십자가</td>\n",
       "      <td>호수</td>\n",
       "      <td>회전 컵</td>\n",
       "    </tr>\n",
       "    <tr>\n",
       "      <th>햇님</th>\n",
       "      <th>3구역</th>\n",
       "      <td>토끼</td>\n",
       "      <td>안데르센 동상</td>\n",
       "      <td>타오르는 촛대</td>\n",
       "      <td>롤러코스터</td>\n",
       "    </tr>\n",
       "    <tr>\n",
       "      <th>별님</th>\n",
       "      <th>4구역</th>\n",
       "      <td>원숭이</td>\n",
       "      <td>손오공 동상</td>\n",
       "      <td>소나무 조각상</td>\n",
       "      <td>워터캠프</td>\n",
       "    </tr>\n",
       "  </tbody>\n",
       "</table>\n",
       "</div>"
      ],
      "text/plain": [
       "             생물      무생물                \n",
       "       관람 가능 동물      조형물      시설물   놀이기구\n",
       "바람 1구역       사자      돌부처      분수대   회전목마\n",
       "   2구역      호랑이      십자가       호수   회전 컵\n",
       "햇님 3구역       토끼  안데르센 동상  타오르는 촛대  롤러코스터\n",
       "별님 4구역      원숭이   손오공 동상  소나무 조각상   워터캠프"
      ]
     },
     "execution_count": 17,
     "metadata": {},
     "output_type": "execute_result"
    }
   ],
   "source": [
    "df.drop_duplicates()\n",
    "#깔끔한 데이터 공리 : \n",
    "#1. 칼럼에는 변수만, 변수에는 유니크한 값 하나만 들어갈 것. \n",
    "#2. row에는 유니크한 관측치 하나만 들어갈 것. \n",
    "#3. 하나의 표에는 하나의 관측단위만 들어갈 것. "
   ]
  },
  {
   "cell_type": "markdown",
   "metadata": {},
   "source": [
    "# 1번 공리 안 맞음 --> 칼럼에 있는 여러 변수 값들 내리기 & 인덱스에 변수 값들 들어가 있는 것 제거해야 함. \n",
    "# 2번 공리 맞음\n",
    "# 3번 공리 맞음"
   ]
  },
  {
   "cell_type": "code",
   "execution_count": 23,
   "metadata": {},
   "outputs": [],
   "source": [
    "# 1. 인덱스에 들어가 있는 변숫값들 제거 \n",
    "df = df.reset_index(drop=False).rename(mapper={'level_0':'공원이름'}, axis=1).rename(mapper={'level_1':'구역이름'},axis=1)"
   ]
  },
  {
   "cell_type": "code",
   "execution_count": 24,
   "metadata": {},
   "outputs": [
    {
     "data": {
      "text/html": [
       "<div>\n",
       "<style scoped>\n",
       "    .dataframe tbody tr th:only-of-type {\n",
       "        vertical-align: middle;\n",
       "    }\n",
       "\n",
       "    .dataframe tbody tr th {\n",
       "        vertical-align: top;\n",
       "    }\n",
       "\n",
       "    .dataframe thead tr th {\n",
       "        text-align: left;\n",
       "    }\n",
       "</style>\n",
       "<table border=\"1\" class=\"dataframe\">\n",
       "  <thead>\n",
       "    <tr>\n",
       "      <th></th>\n",
       "      <th>공원이름</th>\n",
       "      <th>구역이름</th>\n",
       "      <th>생물</th>\n",
       "      <th colspan=\"3\" halign=\"left\">무생물</th>\n",
       "    </tr>\n",
       "    <tr>\n",
       "      <th></th>\n",
       "      <th></th>\n",
       "      <th></th>\n",
       "      <th>관람 가능 동물</th>\n",
       "      <th>조형물</th>\n",
       "      <th>시설물</th>\n",
       "      <th>놀이기구</th>\n",
       "    </tr>\n",
       "  </thead>\n",
       "  <tbody>\n",
       "    <tr>\n",
       "      <th>0</th>\n",
       "      <td>바람</td>\n",
       "      <td>1구역</td>\n",
       "      <td>사자</td>\n",
       "      <td>돌부처</td>\n",
       "      <td>분수대</td>\n",
       "      <td>회전목마</td>\n",
       "    </tr>\n",
       "    <tr>\n",
       "      <th>1</th>\n",
       "      <td>바람</td>\n",
       "      <td>2구역</td>\n",
       "      <td>호랑이</td>\n",
       "      <td>십자가</td>\n",
       "      <td>호수</td>\n",
       "      <td>회전 컵</td>\n",
       "    </tr>\n",
       "    <tr>\n",
       "      <th>2</th>\n",
       "      <td>햇님</td>\n",
       "      <td>3구역</td>\n",
       "      <td>토끼</td>\n",
       "      <td>안데르센 동상</td>\n",
       "      <td>타오르는 촛대</td>\n",
       "      <td>롤러코스터</td>\n",
       "    </tr>\n",
       "    <tr>\n",
       "      <th>3</th>\n",
       "      <td>별님</td>\n",
       "      <td>4구역</td>\n",
       "      <td>원숭이</td>\n",
       "      <td>손오공 동상</td>\n",
       "      <td>소나무 조각상</td>\n",
       "      <td>워터캠프</td>\n",
       "    </tr>\n",
       "  </tbody>\n",
       "</table>\n",
       "</div>"
      ],
      "text/plain": [
       "  공원이름 구역이름       생물      무생물                \n",
       "            관람 가능 동물      조형물      시설물   놀이기구\n",
       "0   바람  1구역       사자      돌부처      분수대   회전목마\n",
       "1   바람  2구역      호랑이      십자가       호수   회전 컵\n",
       "2   햇님  3구역       토끼  안데르센 동상  타오르는 촛대  롤러코스터\n",
       "3   별님  4구역      원숭이   손오공 동상  소나무 조각상   워터캠프"
      ]
     },
     "execution_count": 24,
     "metadata": {},
     "output_type": "execute_result"
    }
   ],
   "source": [
    "df"
   ]
  },
  {
   "cell_type": "code",
   "execution_count": 27,
   "metadata": {},
   "outputs": [],
   "source": [
    "#2. 칼럼에 있는 여러 변숫값들 내리자. \n",
    "df = df.melt(id_vars=['공원이름','구역이름'],var_name=['카테고리 구분','세부 카테고리 구분'],value_name='관람대상들')"
   ]
  },
  {
   "cell_type": "code",
   "execution_count": 36,
   "metadata": {},
   "outputs": [],
   "source": [
    "df.sort_values(by=['구역이름','카테고리 구분'], axis=0, inplace=True)"
   ]
  },
  {
   "cell_type": "code",
   "execution_count": 39,
   "metadata": {},
   "outputs": [],
   "source": [
    "df.reset_index(drop=True, inplace=True)"
   ]
  },
  {
   "cell_type": "code",
   "execution_count": 41,
   "metadata": {},
   "outputs": [
    {
     "data": {
      "text/html": [
       "<div>\n",
       "<style scoped>\n",
       "    .dataframe tbody tr th:only-of-type {\n",
       "        vertical-align: middle;\n",
       "    }\n",
       "\n",
       "    .dataframe tbody tr th {\n",
       "        vertical-align: top;\n",
       "    }\n",
       "\n",
       "    .dataframe thead th {\n",
       "        text-align: right;\n",
       "    }\n",
       "</style>\n",
       "<table border=\"1\" class=\"dataframe\">\n",
       "  <thead>\n",
       "    <tr style=\"text-align: right;\">\n",
       "      <th></th>\n",
       "      <th>공원이름</th>\n",
       "      <th>구역이름</th>\n",
       "      <th>카테고리 구분</th>\n",
       "      <th>세부 카테고리 구분</th>\n",
       "      <th>관람대상들</th>\n",
       "    </tr>\n",
       "  </thead>\n",
       "  <tbody>\n",
       "    <tr>\n",
       "      <th>0</th>\n",
       "      <td>바람</td>\n",
       "      <td>1구역</td>\n",
       "      <td>무생물</td>\n",
       "      <td>조형물</td>\n",
       "      <td>돌부처</td>\n",
       "    </tr>\n",
       "    <tr>\n",
       "      <th>1</th>\n",
       "      <td>바람</td>\n",
       "      <td>1구역</td>\n",
       "      <td>무생물</td>\n",
       "      <td>시설물</td>\n",
       "      <td>분수대</td>\n",
       "    </tr>\n",
       "    <tr>\n",
       "      <th>2</th>\n",
       "      <td>바람</td>\n",
       "      <td>1구역</td>\n",
       "      <td>무생물</td>\n",
       "      <td>놀이기구</td>\n",
       "      <td>회전목마</td>\n",
       "    </tr>\n",
       "    <tr>\n",
       "      <th>3</th>\n",
       "      <td>바람</td>\n",
       "      <td>1구역</td>\n",
       "      <td>생물</td>\n",
       "      <td>관람 가능 동물</td>\n",
       "      <td>사자</td>\n",
       "    </tr>\n",
       "    <tr>\n",
       "      <th>4</th>\n",
       "      <td>바람</td>\n",
       "      <td>2구역</td>\n",
       "      <td>무생물</td>\n",
       "      <td>조형물</td>\n",
       "      <td>십자가</td>\n",
       "    </tr>\n",
       "    <tr>\n",
       "      <th>5</th>\n",
       "      <td>바람</td>\n",
       "      <td>2구역</td>\n",
       "      <td>무생물</td>\n",
       "      <td>시설물</td>\n",
       "      <td>호수</td>\n",
       "    </tr>\n",
       "    <tr>\n",
       "      <th>6</th>\n",
       "      <td>바람</td>\n",
       "      <td>2구역</td>\n",
       "      <td>무생물</td>\n",
       "      <td>놀이기구</td>\n",
       "      <td>회전 컵</td>\n",
       "    </tr>\n",
       "    <tr>\n",
       "      <th>7</th>\n",
       "      <td>바람</td>\n",
       "      <td>2구역</td>\n",
       "      <td>생물</td>\n",
       "      <td>관람 가능 동물</td>\n",
       "      <td>호랑이</td>\n",
       "    </tr>\n",
       "    <tr>\n",
       "      <th>8</th>\n",
       "      <td>햇님</td>\n",
       "      <td>3구역</td>\n",
       "      <td>무생물</td>\n",
       "      <td>조형물</td>\n",
       "      <td>안데르센 동상</td>\n",
       "    </tr>\n",
       "    <tr>\n",
       "      <th>9</th>\n",
       "      <td>햇님</td>\n",
       "      <td>3구역</td>\n",
       "      <td>무생물</td>\n",
       "      <td>시설물</td>\n",
       "      <td>타오르는 촛대</td>\n",
       "    </tr>\n",
       "    <tr>\n",
       "      <th>10</th>\n",
       "      <td>햇님</td>\n",
       "      <td>3구역</td>\n",
       "      <td>무생물</td>\n",
       "      <td>놀이기구</td>\n",
       "      <td>롤러코스터</td>\n",
       "    </tr>\n",
       "    <tr>\n",
       "      <th>11</th>\n",
       "      <td>햇님</td>\n",
       "      <td>3구역</td>\n",
       "      <td>생물</td>\n",
       "      <td>관람 가능 동물</td>\n",
       "      <td>토끼</td>\n",
       "    </tr>\n",
       "    <tr>\n",
       "      <th>12</th>\n",
       "      <td>별님</td>\n",
       "      <td>4구역</td>\n",
       "      <td>무생물</td>\n",
       "      <td>조형물</td>\n",
       "      <td>손오공 동상</td>\n",
       "    </tr>\n",
       "    <tr>\n",
       "      <th>13</th>\n",
       "      <td>별님</td>\n",
       "      <td>4구역</td>\n",
       "      <td>무생물</td>\n",
       "      <td>시설물</td>\n",
       "      <td>소나무 조각상</td>\n",
       "    </tr>\n",
       "    <tr>\n",
       "      <th>14</th>\n",
       "      <td>별님</td>\n",
       "      <td>4구역</td>\n",
       "      <td>무생물</td>\n",
       "      <td>놀이기구</td>\n",
       "      <td>워터캠프</td>\n",
       "    </tr>\n",
       "    <tr>\n",
       "      <th>15</th>\n",
       "      <td>별님</td>\n",
       "      <td>4구역</td>\n",
       "      <td>생물</td>\n",
       "      <td>관람 가능 동물</td>\n",
       "      <td>원숭이</td>\n",
       "    </tr>\n",
       "  </tbody>\n",
       "</table>\n",
       "</div>"
      ],
      "text/plain": [
       "   공원이름 구역이름 카테고리 구분 세부 카테고리 구분    관람대상들\n",
       "0    바람  1구역     무생물        조형물      돌부처\n",
       "1    바람  1구역     무생물        시설물      분수대\n",
       "2    바람  1구역     무생물       놀이기구     회전목마\n",
       "3    바람  1구역      생물   관람 가능 동물       사자\n",
       "4    바람  2구역     무생물        조형물      십자가\n",
       "5    바람  2구역     무생물        시설물       호수\n",
       "6    바람  2구역     무생물       놀이기구     회전 컵\n",
       "7    바람  2구역      생물   관람 가능 동물      호랑이\n",
       "8    햇님  3구역     무생물        조형물  안데르센 동상\n",
       "9    햇님  3구역     무생물        시설물  타오르는 촛대\n",
       "10   햇님  3구역     무생물       놀이기구    롤러코스터\n",
       "11   햇님  3구역      생물   관람 가능 동물       토끼\n",
       "12   별님  4구역     무생물        조형물   손오공 동상\n",
       "13   별님  4구역     무생물        시설물  소나무 조각상\n",
       "14   별님  4구역     무생물       놀이기구     워터캠프\n",
       "15   별님  4구역      생물   관람 가능 동물      원숭이"
      ]
     },
     "execution_count": 41,
     "metadata": {},
     "output_type": "execute_result"
    }
   ],
   "source": [
    "df #깔끔한 데이터 "
   ]
  },
  {
   "cell_type": "code",
   "execution_count": 48,
   "metadata": {},
   "outputs": [],
   "source": [
    "df.pivot(index=['공원이름','구역이름'],columns=['카테고리 구분','세부 카테고리 구분'],values='관람대상들').sort_values(by=['구역이름'],inplace=True)"
   ]
  },
  {
   "cell_type": "code",
   "execution_count": 51,
   "metadata": {},
   "outputs": [
    {
     "data": {
      "text/html": [
       "<div>\n",
       "<style scoped>\n",
       "    .dataframe tbody tr th:only-of-type {\n",
       "        vertical-align: middle;\n",
       "    }\n",
       "\n",
       "    .dataframe tbody tr th {\n",
       "        vertical-align: top;\n",
       "    }\n",
       "\n",
       "    .dataframe thead th {\n",
       "        text-align: right;\n",
       "    }\n",
       "</style>\n",
       "<table border=\"1\" class=\"dataframe\">\n",
       "  <thead>\n",
       "    <tr style=\"text-align: right;\">\n",
       "      <th></th>\n",
       "      <th>공원이름</th>\n",
       "      <th>구역이름</th>\n",
       "      <th>카테고리 구분</th>\n",
       "      <th>세부 카테고리 구분</th>\n",
       "      <th>관람대상들</th>\n",
       "    </tr>\n",
       "  </thead>\n",
       "  <tbody>\n",
       "    <tr>\n",
       "      <th>0</th>\n",
       "      <td>바람</td>\n",
       "      <td>1구역</td>\n",
       "      <td>무생물</td>\n",
       "      <td>조형물</td>\n",
       "      <td>돌부처</td>\n",
       "    </tr>\n",
       "    <tr>\n",
       "      <th>1</th>\n",
       "      <td>바람</td>\n",
       "      <td>1구역</td>\n",
       "      <td>무생물</td>\n",
       "      <td>시설물</td>\n",
       "      <td>분수대</td>\n",
       "    </tr>\n",
       "    <tr>\n",
       "      <th>2</th>\n",
       "      <td>바람</td>\n",
       "      <td>1구역</td>\n",
       "      <td>무생물</td>\n",
       "      <td>놀이기구</td>\n",
       "      <td>회전목마</td>\n",
       "    </tr>\n",
       "    <tr>\n",
       "      <th>3</th>\n",
       "      <td>바람</td>\n",
       "      <td>1구역</td>\n",
       "      <td>생물</td>\n",
       "      <td>관람 가능 동물</td>\n",
       "      <td>사자</td>\n",
       "    </tr>\n",
       "    <tr>\n",
       "      <th>4</th>\n",
       "      <td>바람</td>\n",
       "      <td>2구역</td>\n",
       "      <td>무생물</td>\n",
       "      <td>조형물</td>\n",
       "      <td>십자가</td>\n",
       "    </tr>\n",
       "  </tbody>\n",
       "</table>\n",
       "</div>"
      ],
      "text/plain": [
       "  공원이름 구역이름 카테고리 구분 세부 카테고리 구분 관람대상들\n",
       "0   바람  1구역     무생물        조형물   돌부처\n",
       "1   바람  1구역     무생물        시설물   분수대\n",
       "2   바람  1구역     무생물       놀이기구  회전목마\n",
       "3   바람  1구역      생물   관람 가능 동물    사자\n",
       "4   바람  2구역     무생물        조형물   십자가"
      ]
     },
     "execution_count": 51,
     "metadata": {},
     "output_type": "execute_result"
    }
   ],
   "source": [
    "df.head()"
   ]
  },
  {
   "cell_type": "code",
   "execution_count": 53,
   "metadata": {},
   "outputs": [
    {
     "data": {
      "text/html": [
       "<div>\n",
       "<style scoped>\n",
       "    .dataframe tbody tr th:only-of-type {\n",
       "        vertical-align: middle;\n",
       "    }\n",
       "\n",
       "    .dataframe tbody tr th {\n",
       "        vertical-align: top;\n",
       "    }\n",
       "\n",
       "    .dataframe thead th {\n",
       "        text-align: right;\n",
       "    }\n",
       "</style>\n",
       "<table border=\"1\" class=\"dataframe\">\n",
       "  <thead>\n",
       "    <tr style=\"text-align: right;\">\n",
       "      <th></th>\n",
       "      <th>공원이름</th>\n",
       "      <th>구역이름</th>\n",
       "      <th>카테고리 구분</th>\n",
       "      <th>세부 카테고리 구분</th>\n",
       "      <th>관람대상들</th>\n",
       "    </tr>\n",
       "  </thead>\n",
       "  <tbody>\n",
       "    <tr>\n",
       "      <th>0</th>\n",
       "      <td>토성</td>\n",
       "      <td>8구역</td>\n",
       "      <td>생물</td>\n",
       "      <td>동물</td>\n",
       "      <td>코끼리</td>\n",
       "    </tr>\n",
       "  </tbody>\n",
       "</table>\n",
       "</div>"
      ],
      "text/plain": [
       "  공원이름 구역이름 카테고리 구분 세부 카테고리 구분 관람대상들\n",
       "0   토성  8구역      생물         동물   코끼리"
      ]
     },
     "execution_count": 53,
     "metadata": {},
     "output_type": "execute_result"
    }
   ],
   "source": [
    "df_add = pd.DataFrame(np.array([['토성','8구역','생물','동물','코끼리']]),\n",
    "            columns=['공원이름','구역이름','카테고리 구분','세부 카테고리 구분','관람대상들'])\n",
    "df_add"
   ]
  },
  {
   "cell_type": "code",
   "execution_count": 55,
   "metadata": {},
   "outputs": [],
   "source": [
    "df_c = pd.concat([df,df_add],axis=0)"
   ]
  },
  {
   "cell_type": "code",
   "execution_count": 59,
   "metadata": {},
   "outputs": [
    {
     "name": "stdout",
     "output_type": "stream",
     "text": [
      "<class 'pandas.core.frame.DataFrame'>\n",
      "Int64Index: 17 entries, 0 to 0\n",
      "Data columns (total 5 columns):\n",
      " #   Column      Non-Null Count  Dtype \n",
      "---  ------      --------------  ----- \n",
      " 0   공원이름        17 non-null     object\n",
      " 1   구역이름        17 non-null     object\n",
      " 2   카테고리 구분     17 non-null     object\n",
      " 3   세부 카테고리 구분  17 non-null     object\n",
      " 4   관람대상들       17 non-null     object\n",
      "dtypes: object(5)\n",
      "memory usage: 816.0+ bytes\n"
     ]
    }
   ],
   "source": [
    "df_c.info()"
   ]
  },
  {
   "cell_type": "code",
   "execution_count": 108,
   "metadata": {},
   "outputs": [
    {
     "data": {
      "text/html": [
       "<div>\n",
       "<style scoped>\n",
       "    .dataframe tbody tr th:only-of-type {\n",
       "        vertical-align: middle;\n",
       "    }\n",
       "\n",
       "    .dataframe tbody tr th {\n",
       "        vertical-align: top;\n",
       "    }\n",
       "\n",
       "    .dataframe thead th {\n",
       "        text-align: right;\n",
       "    }\n",
       "</style>\n",
       "<table border=\"1\" class=\"dataframe\">\n",
       "  <thead>\n",
       "    <tr style=\"text-align: right;\">\n",
       "      <th></th>\n",
       "      <th>xx</th>\n",
       "      <th>히어로물</th>\n",
       "    </tr>\n",
       "  </thead>\n",
       "  <tbody>\n",
       "    <tr>\n",
       "      <th>0</th>\n",
       "      <td>아이언맨</td>\n",
       "      <td>ㅎㅇ</td>\n",
       "    </tr>\n",
       "    <tr>\n",
       "      <th>1</th>\n",
       "      <td>배트맨</td>\n",
       "      <td>ㄹㄹ</td>\n",
       "    </tr>\n",
       "    <tr>\n",
       "      <th>2</th>\n",
       "      <td>슈퍼맨</td>\n",
       "      <td>ㅁㅁ</td>\n",
       "    </tr>\n",
       "    <tr>\n",
       "      <th>3</th>\n",
       "      <td>원더우먼</td>\n",
       "      <td>ㅌㅌ</td>\n",
       "    </tr>\n",
       "    <tr>\n",
       "      <th>4</th>\n",
       "      <td>캡틴</td>\n",
       "      <td>ㄹㄹ</td>\n",
       "    </tr>\n",
       "    <tr>\n",
       "      <th>5</th>\n",
       "      <td>블랙위도우</td>\n",
       "      <td>ㅁ</td>\n",
       "    </tr>\n",
       "    <tr>\n",
       "      <th>6</th>\n",
       "      <td>블랙팬서</td>\n",
       "      <td>ㅌ</td>\n",
       "    </tr>\n",
       "    <tr>\n",
       "      <th>7</th>\n",
       "      <td>비전</td>\n",
       "      <td>2</td>\n",
       "    </tr>\n",
       "    <tr>\n",
       "      <th>8</th>\n",
       "      <td>완다</td>\n",
       "      <td>ㄹㄹ</td>\n",
       "    </tr>\n",
       "    <tr>\n",
       "      <th>9</th>\n",
       "      <td>쉴드</td>\n",
       "      <td>ㄴㅇㄹ</td>\n",
       "    </tr>\n",
       "    <tr>\n",
       "      <th>10</th>\n",
       "      <td>닉 퓨리</td>\n",
       "      <td>ㅁㄹㅁ</td>\n",
       "    </tr>\n",
       "    <tr>\n",
       "      <th>11</th>\n",
       "      <td>캡틴 마블</td>\n",
       "      <td>ㄹㄹ</td>\n",
       "    </tr>\n",
       "    <tr>\n",
       "      <th>12</th>\n",
       "      <td>스크럴</td>\n",
       "      <td>ㅁㄹㅁ</td>\n",
       "    </tr>\n",
       "    <tr>\n",
       "      <th>13</th>\n",
       "      <td>슈리</td>\n",
       "      <td>ㅉ</td>\n",
       "    </tr>\n",
       "  </tbody>\n",
       "</table>\n",
       "</div>"
      ],
      "text/plain": [
       "       xx 히어로물\n",
       "0    아이언맨   ㅎㅇ\n",
       "1     배트맨   ㄹㄹ\n",
       "2     슈퍼맨   ㅁㅁ\n",
       "3    원더우먼   ㅌㅌ\n",
       "4      캡틴   ㄹㄹ\n",
       "5   블랙위도우    ㅁ\n",
       "6    블랙팬서    ㅌ\n",
       "7      비전    2\n",
       "8      완다   ㄹㄹ\n",
       "9      쉴드  ㄴㅇㄹ\n",
       "10   닉 퓨리  ㅁㄹㅁ\n",
       "11  캡틴 마블   ㄹㄹ\n",
       "12    스크럴  ㅁㄹㅁ\n",
       "13     슈리    ㅉ"
      ]
     },
     "execution_count": 108,
     "metadata": {},
     "output_type": "execute_result"
    }
   ],
   "source": [
    "df_add2 = pd.DataFrame(np.array([['아이언맨','ㅎㅇ'],\n",
    "                      ['배트맨','ㄹㄹ'],\n",
    "                      ['슈퍼맨','ㅁㅁ'],\n",
    "                      ['원더우먼','ㅌㅌ'],\n",
    "                      ['캡틴','ㄹㄹ'],\n",
    "                      ['블랙위도우','ㅁ'],\n",
    "                      ['블랙팬서','ㅌ'],\n",
    "                      ['비전','2'],\n",
    "                      ['완다','ㄹㄹ'],\n",
    "                      ['쉴드','ㄴㅇㄹ'],\n",
    "                      ['닉 퓨리','ㅁㄹㅁ'],\n",
    "                      ['캡틴 마블','ㄹㄹ'],\n",
    "                      ['스크럴','ㅁㄹㅁ'],\n",
    "                      ['슈리','ㅉ']]),\n",
    "            columns=['xx','히어로물'])\n",
    "df_add2"
   ]
  },
  {
   "cell_type": "code",
   "execution_count": 109,
   "metadata": {
    "scrolled": true
   },
   "outputs": [
    {
     "data": {
      "text/html": [
       "<div>\n",
       "<style scoped>\n",
       "    .dataframe tbody tr th:only-of-type {\n",
       "        vertical-align: middle;\n",
       "    }\n",
       "\n",
       "    .dataframe tbody tr th {\n",
       "        vertical-align: top;\n",
       "    }\n",
       "\n",
       "    .dataframe thead th {\n",
       "        text-align: right;\n",
       "    }\n",
       "</style>\n",
       "<table border=\"1\" class=\"dataframe\">\n",
       "  <thead>\n",
       "    <tr style=\"text-align: right;\">\n",
       "      <th></th>\n",
       "      <th>공원이름</th>\n",
       "      <th>구역이름</th>\n",
       "      <th>카테고리 구분</th>\n",
       "      <th>세부 카테고리 구분</th>\n",
       "      <th>관람대상들</th>\n",
       "      <th>xx</th>\n",
       "      <th>히어로물</th>\n",
       "    </tr>\n",
       "  </thead>\n",
       "  <tbody>\n",
       "    <tr>\n",
       "      <th>0</th>\n",
       "      <td>바람</td>\n",
       "      <td>1구역</td>\n",
       "      <td>무생물</td>\n",
       "      <td>조형물</td>\n",
       "      <td>돌부처</td>\n",
       "      <td>아이언맨</td>\n",
       "      <td>ㅎㅇ</td>\n",
       "    </tr>\n",
       "    <tr>\n",
       "      <th>1</th>\n",
       "      <td>바람</td>\n",
       "      <td>1구역</td>\n",
       "      <td>무생물</td>\n",
       "      <td>시설물</td>\n",
       "      <td>분수대</td>\n",
       "      <td>배트맨</td>\n",
       "      <td>ㄹㄹ</td>\n",
       "    </tr>\n",
       "    <tr>\n",
       "      <th>2</th>\n",
       "      <td>바람</td>\n",
       "      <td>1구역</td>\n",
       "      <td>무생물</td>\n",
       "      <td>놀이기구</td>\n",
       "      <td>회전목마</td>\n",
       "      <td>슈퍼맨</td>\n",
       "      <td>ㅁㅁ</td>\n",
       "    </tr>\n",
       "    <tr>\n",
       "      <th>3</th>\n",
       "      <td>바람</td>\n",
       "      <td>1구역</td>\n",
       "      <td>생물</td>\n",
       "      <td>관람 가능 동물</td>\n",
       "      <td>사자</td>\n",
       "      <td>원더우먼</td>\n",
       "      <td>ㅌㅌ</td>\n",
       "    </tr>\n",
       "    <tr>\n",
       "      <th>4</th>\n",
       "      <td>바람</td>\n",
       "      <td>2구역</td>\n",
       "      <td>무생물</td>\n",
       "      <td>조형물</td>\n",
       "      <td>십자가</td>\n",
       "      <td>캡틴</td>\n",
       "      <td>ㄹㄹ</td>\n",
       "    </tr>\n",
       "    <tr>\n",
       "      <th>5</th>\n",
       "      <td>바람</td>\n",
       "      <td>2구역</td>\n",
       "      <td>무생물</td>\n",
       "      <td>시설물</td>\n",
       "      <td>호수</td>\n",
       "      <td>블랙위도우</td>\n",
       "      <td>ㅁ</td>\n",
       "    </tr>\n",
       "    <tr>\n",
       "      <th>6</th>\n",
       "      <td>바람</td>\n",
       "      <td>2구역</td>\n",
       "      <td>무생물</td>\n",
       "      <td>놀이기구</td>\n",
       "      <td>회전 컵</td>\n",
       "      <td>블랙팬서</td>\n",
       "      <td>ㅌ</td>\n",
       "    </tr>\n",
       "    <tr>\n",
       "      <th>9</th>\n",
       "      <td>햇님</td>\n",
       "      <td>3구역</td>\n",
       "      <td>무생물</td>\n",
       "      <td>시설물</td>\n",
       "      <td>타오르는 촛대</td>\n",
       "      <td>쉴드</td>\n",
       "      <td>ㄴㅇㄹ</td>\n",
       "    </tr>\n",
       "    <tr>\n",
       "      <th>10</th>\n",
       "      <td>햇님</td>\n",
       "      <td>3구역</td>\n",
       "      <td>무생물</td>\n",
       "      <td>놀이기구</td>\n",
       "      <td>롤러코스터</td>\n",
       "      <td>닉 퓨리</td>\n",
       "      <td>ㅁㄹㅁ</td>\n",
       "    </tr>\n",
       "    <tr>\n",
       "      <th>11</th>\n",
       "      <td>햇님</td>\n",
       "      <td>3구역</td>\n",
       "      <td>생물</td>\n",
       "      <td>관람 가능 동물</td>\n",
       "      <td>토끼</td>\n",
       "      <td>캡틴 마블</td>\n",
       "      <td>ㄹㄹ</td>\n",
       "    </tr>\n",
       "    <tr>\n",
       "      <th>12</th>\n",
       "      <td>별님</td>\n",
       "      <td>4구역</td>\n",
       "      <td>무생물</td>\n",
       "      <td>조형물</td>\n",
       "      <td>손오공 동상</td>\n",
       "      <td>스크럴</td>\n",
       "      <td>ㅁㄹㅁ</td>\n",
       "    </tr>\n",
       "    <tr>\n",
       "      <th>13</th>\n",
       "      <td>별님</td>\n",
       "      <td>4구역</td>\n",
       "      <td>무생물</td>\n",
       "      <td>시설물</td>\n",
       "      <td>소나무 조각상</td>\n",
       "      <td>슈리</td>\n",
       "      <td>ㅉ</td>\n",
       "    </tr>\n",
       "  </tbody>\n",
       "</table>\n",
       "</div>"
      ],
      "text/plain": [
       "   공원이름 구역이름 카테고리 구분 세부 카테고리 구분    관람대상들     xx 히어로물\n",
       "0    바람  1구역     무생물        조형물      돌부처   아이언맨   ㅎㅇ\n",
       "1    바람  1구역     무생물        시설물      분수대    배트맨   ㄹㄹ\n",
       "2    바람  1구역     무생물       놀이기구     회전목마    슈퍼맨   ㅁㅁ\n",
       "3    바람  1구역      생물   관람 가능 동물       사자   원더우먼   ㅌㅌ\n",
       "4    바람  2구역     무생물        조형물      십자가     캡틴   ㄹㄹ\n",
       "5    바람  2구역     무생물        시설물       호수  블랙위도우    ㅁ\n",
       "6    바람  2구역     무생물       놀이기구     회전 컵   블랙팬서    ㅌ\n",
       "9    햇님  3구역     무생물        시설물  타오르는 촛대     쉴드  ㄴㅇㄹ\n",
       "10   햇님  3구역     무생물       놀이기구    롤러코스터   닉 퓨리  ㅁㄹㅁ\n",
       "11   햇님  3구역      생물   관람 가능 동물       토끼  캡틴 마블   ㄹㄹ\n",
       "12   별님  4구역     무생물        조형물   손오공 동상    스크럴  ㅁㄹㅁ\n",
       "13   별님  4구역     무생물        시설물  소나무 조각상     슈리    ㅉ"
      ]
     },
     "execution_count": 109,
     "metadata": {},
     "output_type": "execute_result"
    }
   ],
   "source": [
    "pd.concat([df_c, df_add2],axis=1, join='inner')"
   ]
  },
  {
   "cell_type": "code",
   "execution_count": 92,
   "metadata": {},
   "outputs": [],
   "source": [
    "df_c.reset_index(drop=True, inplace=True)"
   ]
  },
  {
   "cell_type": "code",
   "execution_count": 105,
   "metadata": {},
   "outputs": [],
   "source": [
    "df_c.drop([7,8],axis=0,inplace=True )"
   ]
  },
  {
   "cell_type": "code",
   "execution_count": 112,
   "metadata": {},
   "outputs": [],
   "source": [
    "df = pd.concat([df_c, df_add2],axis=1,join='inner')"
   ]
  },
  {
   "cell_type": "code",
   "execution_count": 113,
   "metadata": {},
   "outputs": [
    {
     "data": {
      "text/html": [
       "<div>\n",
       "<style scoped>\n",
       "    .dataframe tbody tr th:only-of-type {\n",
       "        vertical-align: middle;\n",
       "    }\n",
       "\n",
       "    .dataframe tbody tr th {\n",
       "        vertical-align: top;\n",
       "    }\n",
       "\n",
       "    .dataframe thead th {\n",
       "        text-align: right;\n",
       "    }\n",
       "</style>\n",
       "<table border=\"1\" class=\"dataframe\">\n",
       "  <thead>\n",
       "    <tr style=\"text-align: right;\">\n",
       "      <th></th>\n",
       "      <th>공원이름</th>\n",
       "      <th>구역이름</th>\n",
       "      <th>카테고리 구분</th>\n",
       "      <th>세부 카테고리 구분</th>\n",
       "      <th>관람대상들</th>\n",
       "      <th>xx</th>\n",
       "      <th>히어로물</th>\n",
       "    </tr>\n",
       "  </thead>\n",
       "  <tbody>\n",
       "    <tr>\n",
       "      <th>0</th>\n",
       "      <td>바람</td>\n",
       "      <td>1구역</td>\n",
       "      <td>무생물</td>\n",
       "      <td>조형물</td>\n",
       "      <td>돌부처</td>\n",
       "      <td>아이언맨</td>\n",
       "      <td>ㅎㅇ</td>\n",
       "    </tr>\n",
       "    <tr>\n",
       "      <th>1</th>\n",
       "      <td>바람</td>\n",
       "      <td>1구역</td>\n",
       "      <td>무생물</td>\n",
       "      <td>시설물</td>\n",
       "      <td>분수대</td>\n",
       "      <td>배트맨</td>\n",
       "      <td>ㄹㄹ</td>\n",
       "    </tr>\n",
       "    <tr>\n",
       "      <th>2</th>\n",
       "      <td>바람</td>\n",
       "      <td>1구역</td>\n",
       "      <td>무생물</td>\n",
       "      <td>놀이기구</td>\n",
       "      <td>회전목마</td>\n",
       "      <td>슈퍼맨</td>\n",
       "      <td>ㅁㅁ</td>\n",
       "    </tr>\n",
       "    <tr>\n",
       "      <th>3</th>\n",
       "      <td>바람</td>\n",
       "      <td>1구역</td>\n",
       "      <td>생물</td>\n",
       "      <td>관람 가능 동물</td>\n",
       "      <td>사자</td>\n",
       "      <td>원더우먼</td>\n",
       "      <td>ㅌㅌ</td>\n",
       "    </tr>\n",
       "    <tr>\n",
       "      <th>4</th>\n",
       "      <td>바람</td>\n",
       "      <td>2구역</td>\n",
       "      <td>무생물</td>\n",
       "      <td>조형물</td>\n",
       "      <td>십자가</td>\n",
       "      <td>캡틴</td>\n",
       "      <td>ㄹㄹ</td>\n",
       "    </tr>\n",
       "    <tr>\n",
       "      <th>5</th>\n",
       "      <td>바람</td>\n",
       "      <td>2구역</td>\n",
       "      <td>무생물</td>\n",
       "      <td>시설물</td>\n",
       "      <td>호수</td>\n",
       "      <td>블랙위도우</td>\n",
       "      <td>ㅁ</td>\n",
       "    </tr>\n",
       "    <tr>\n",
       "      <th>6</th>\n",
       "      <td>바람</td>\n",
       "      <td>2구역</td>\n",
       "      <td>무생물</td>\n",
       "      <td>놀이기구</td>\n",
       "      <td>회전 컵</td>\n",
       "      <td>블랙팬서</td>\n",
       "      <td>ㅌ</td>\n",
       "    </tr>\n",
       "    <tr>\n",
       "      <th>9</th>\n",
       "      <td>햇님</td>\n",
       "      <td>3구역</td>\n",
       "      <td>무생물</td>\n",
       "      <td>시설물</td>\n",
       "      <td>타오르는 촛대</td>\n",
       "      <td>쉴드</td>\n",
       "      <td>ㄴㅇㄹ</td>\n",
       "    </tr>\n",
       "    <tr>\n",
       "      <th>10</th>\n",
       "      <td>햇님</td>\n",
       "      <td>3구역</td>\n",
       "      <td>무생물</td>\n",
       "      <td>놀이기구</td>\n",
       "      <td>롤러코스터</td>\n",
       "      <td>닉 퓨리</td>\n",
       "      <td>ㅁㄹㅁ</td>\n",
       "    </tr>\n",
       "    <tr>\n",
       "      <th>11</th>\n",
       "      <td>햇님</td>\n",
       "      <td>3구역</td>\n",
       "      <td>생물</td>\n",
       "      <td>관람 가능 동물</td>\n",
       "      <td>토끼</td>\n",
       "      <td>캡틴 마블</td>\n",
       "      <td>ㄹㄹ</td>\n",
       "    </tr>\n",
       "    <tr>\n",
       "      <th>12</th>\n",
       "      <td>별님</td>\n",
       "      <td>4구역</td>\n",
       "      <td>무생물</td>\n",
       "      <td>조형물</td>\n",
       "      <td>손오공 동상</td>\n",
       "      <td>스크럴</td>\n",
       "      <td>ㅁㄹㅁ</td>\n",
       "    </tr>\n",
       "    <tr>\n",
       "      <th>13</th>\n",
       "      <td>별님</td>\n",
       "      <td>4구역</td>\n",
       "      <td>무생물</td>\n",
       "      <td>시설물</td>\n",
       "      <td>소나무 조각상</td>\n",
       "      <td>슈리</td>\n",
       "      <td>ㅉ</td>\n",
       "    </tr>\n",
       "  </tbody>\n",
       "</table>\n",
       "</div>"
      ],
      "text/plain": [
       "   공원이름 구역이름 카테고리 구분 세부 카테고리 구분    관람대상들     xx 히어로물\n",
       "0    바람  1구역     무생물        조형물      돌부처   아이언맨   ㅎㅇ\n",
       "1    바람  1구역     무생물        시설물      분수대    배트맨   ㄹㄹ\n",
       "2    바람  1구역     무생물       놀이기구     회전목마    슈퍼맨   ㅁㅁ\n",
       "3    바람  1구역      생물   관람 가능 동물       사자   원더우먼   ㅌㅌ\n",
       "4    바람  2구역     무생물        조형물      십자가     캡틴   ㄹㄹ\n",
       "5    바람  2구역     무생물        시설물       호수  블랙위도우    ㅁ\n",
       "6    바람  2구역     무생물       놀이기구     회전 컵   블랙팬서    ㅌ\n",
       "9    햇님  3구역     무생물        시설물  타오르는 촛대     쉴드  ㄴㅇㄹ\n",
       "10   햇님  3구역     무생물       놀이기구    롤러코스터   닉 퓨리  ㅁㄹㅁ\n",
       "11   햇님  3구역      생물   관람 가능 동물       토끼  캡틴 마블   ㄹㄹ\n",
       "12   별님  4구역     무생물        조형물   손오공 동상    스크럴  ㅁㄹㅁ\n",
       "13   별님  4구역     무생물        시설물  소나무 조각상     슈리    ㅉ"
      ]
     },
     "execution_count": 113,
     "metadata": {},
     "output_type": "execute_result"
    }
   ],
   "source": [
    "df"
   ]
  },
  {
   "cell_type": "markdown",
   "metadata": {},
   "source": [
    "# 1. df[w].value_counts() : 각 변수의 유니크한 값value들 갯수를 세어준다. "
   ]
  },
  {
   "cell_type": "code",
   "execution_count": 121,
   "metadata": {},
   "outputs": [
    {
     "data": {
      "text/plain": [
       "구역이름  공원이름\n",
       "4구역   별님      2\n",
       "2구역   바람      3\n",
       "3구역   햇님      3\n",
       "1구역   바람      4\n",
       "dtype: int64"
      ]
     },
     "execution_count": 121,
     "metadata": {},
     "output_type": "execute_result"
    }
   ],
   "source": [
    "# df[w].value_counts() : 각 변수의 유니크한 값value들 갯수를 세어준다. \n",
    "df[['구역이름','공원이름']].value_counts(ascending=True)"
   ]
  },
  {
   "cell_type": "code",
   "execution_count": 120,
   "metadata": {},
   "outputs": [
    {
     "data": {
      "text/plain": [
       "공원이름  구역이름\n",
       "별님    4구역     2\n",
       "바람    2구역     3\n",
       "햇님    3구역     3\n",
       "바람    1구역     4\n",
       "dtype: int64"
      ]
     },
     "execution_count": 120,
     "metadata": {},
     "output_type": "execute_result"
    }
   ],
   "source": [
    "df.value_counts(['공원이름','구역이름'],ascending=True)"
   ]
  },
  {
   "cell_type": "code",
   "execution_count": 123,
   "metadata": {},
   "outputs": [
    {
     "data": {
      "text/plain": [
       "공원이름  구역이름\n",
       "별님    4구역     0.166667\n",
       "바람    2구역     0.250000\n",
       "햇님    3구역     0.250000\n",
       "바람    1구역     0.333333\n",
       "dtype: float64"
      ]
     },
     "execution_count": 123,
     "metadata": {},
     "output_type": "execute_result"
    }
   ],
   "source": [
    "#normalization : normalize=True 이면 빈도값 대신에 비율로 나타내준다. \n",
    "df.value_counts(['공원이름','구역이름'],ascending=True, normalize=True)"
   ]
  },
  {
   "cell_type": "code",
   "execution_count": 124,
   "metadata": {},
   "outputs": [
    {
     "data": {
      "text/plain": [
       "공원이름  구역이름\n",
       "별님    4구역     0.166667\n",
       "바람    2구역     0.250000\n",
       "햇님    3구역     0.250000\n",
       "바람    1구역     0.333333\n",
       "dtype: float64"
      ]
     },
     "execution_count": 124,
     "metadata": {},
     "output_type": "execute_result"
    }
   ],
   "source": [
    "df[['공원이름','구역이름']].value_counts(ascending=True, normalize=True)"
   ]
  },
  {
   "cell_type": "code",
   "execution_count": 128,
   "metadata": {},
   "outputs": [
    {
     "data": {
      "text/plain": [
       "공원이름  구역이름\n",
       "별님    4구역     2\n",
       "바람    2구역     3\n",
       "햇님    3구역     3\n",
       "바람    1구역     4\n",
       "dtype: int64"
      ]
     },
     "execution_count": 128,
     "metadata": {},
     "output_type": "execute_result"
    }
   ],
   "source": [
    "df[['공원이름','구역이름']].value_counts(ascending=True, normalize=False, sort=True)"
   ]
  },
  {
   "cell_type": "markdown",
   "metadata": {},
   "source": [
    "# 2. len(df) : df에 있는 row 수를 세어준다. "
   ]
  },
  {
   "cell_type": "code",
   "execution_count": 134,
   "metadata": {},
   "outputs": [
    {
     "data": {
      "text/plain": [
       "12"
      ]
     },
     "execution_count": 134,
     "metadata": {},
     "output_type": "execute_result"
    }
   ],
   "source": [
    "# 2. len(df) : df에 있는 row 수를 세어준다. \n",
    "len(df[['공원이름','구역이름']])"
   ]
  },
  {
   "cell_type": "code",
   "execution_count": 138,
   "metadata": {},
   "outputs": [
    {
     "data": {
      "text/plain": [
       "3"
      ]
     },
     "execution_count": 138,
     "metadata": {},
     "output_type": "execute_result"
    }
   ],
   "source": [
    "# 3. df['w'].nunique() : 칼럼 값 중 유니크한 값들 갯수 세어준다. 내가 만든 예의 경우 바람, 별님, 햇님 3개 \n",
    "df['공원이름'].nunique()"
   ]
  },
  {
   "cell_type": "code",
   "execution_count": 143,
   "metadata": {},
   "outputs": [
    {
     "data": {
      "text/html": [
       "<div>\n",
       "<style scoped>\n",
       "    .dataframe tbody tr th:only-of-type {\n",
       "        vertical-align: middle;\n",
       "    }\n",
       "\n",
       "    .dataframe tbody tr th {\n",
       "        vertical-align: top;\n",
       "    }\n",
       "\n",
       "    .dataframe thead th {\n",
       "        text-align: right;\n",
       "    }\n",
       "</style>\n",
       "<table border=\"1\" class=\"dataframe\">\n",
       "  <thead>\n",
       "    <tr style=\"text-align: right;\">\n",
       "      <th></th>\n",
       "      <th>공원이름</th>\n",
       "      <th>구역이름</th>\n",
       "      <th>카테고리 구분</th>\n",
       "      <th>세부 카테고리 구분</th>\n",
       "      <th>관람대상들</th>\n",
       "      <th>xx</th>\n",
       "      <th>히어로물</th>\n",
       "    </tr>\n",
       "  </thead>\n",
       "  <tbody>\n",
       "    <tr>\n",
       "      <th>count</th>\n",
       "      <td>12</td>\n",
       "      <td>12</td>\n",
       "      <td>12</td>\n",
       "      <td>12</td>\n",
       "      <td>12</td>\n",
       "      <td>12</td>\n",
       "      <td>12</td>\n",
       "    </tr>\n",
       "    <tr>\n",
       "      <th>unique</th>\n",
       "      <td>3</td>\n",
       "      <td>4</td>\n",
       "      <td>2</td>\n",
       "      <td>4</td>\n",
       "      <td>12</td>\n",
       "      <td>12</td>\n",
       "      <td>9</td>\n",
       "    </tr>\n",
       "    <tr>\n",
       "      <th>top</th>\n",
       "      <td>바람</td>\n",
       "      <td>1구역</td>\n",
       "      <td>무생물</td>\n",
       "      <td>시설물</td>\n",
       "      <td>돌부처</td>\n",
       "      <td>배트맨</td>\n",
       "      <td>ㄹㄹ</td>\n",
       "    </tr>\n",
       "    <tr>\n",
       "      <th>freq</th>\n",
       "      <td>7</td>\n",
       "      <td>4</td>\n",
       "      <td>10</td>\n",
       "      <td>4</td>\n",
       "      <td>1</td>\n",
       "      <td>1</td>\n",
       "      <td>3</td>\n",
       "    </tr>\n",
       "  </tbody>\n",
       "</table>\n",
       "</div>"
      ],
      "text/plain": [
       "       공원이름 구역이름 카테고리 구분 세부 카테고리 구분 관람대상들   xx 히어로물\n",
       "count    12   12      12         12    12   12   12\n",
       "unique    3    4       2          4    12   12    9\n",
       "top      바람  1구역     무생물        시설물   돌부처  배트맨   ㄹㄹ\n",
       "freq      7    4      10          4     1    1    3"
      ]
     },
     "execution_count": 143,
     "metadata": {},
     "output_type": "execute_result"
    }
   ],
   "source": [
    "df.describe() #기초통계량 정보 보여준다. 평균,표준편차,최빈값,사분위수 등 중심위치 및 산포측도 정보 준다. "
   ]
  },
  {
   "cell_type": "code",
   "execution_count": 147,
   "metadata": {},
   "outputs": [
    {
     "data": {
      "text/plain": [
       "'바람바람바람바람바람바람바람햇님햇님햇님별님별님'"
      ]
     },
     "execution_count": 147,
     "metadata": {},
     "output_type": "execute_result"
    }
   ],
   "source": [
    "# summarize data 하기 위한 각종 메서드 쓰면, 결과값은 시리즈, 정수, 문자열 등으로 반환된다. \n",
    "df['공원이름'].sum()"
   ]
  },
  {
   "cell_type": "code",
   "execution_count": 148,
   "metadata": {},
   "outputs": [
    {
     "data": {
      "text/plain": [
       "'바람'"
      ]
     },
     "execution_count": 148,
     "metadata": {},
     "output_type": "execute_result"
    }
   ],
   "source": [
    "df['공원이름'].min()"
   ]
  },
  {
   "cell_type": "code",
   "execution_count": 150,
   "metadata": {},
   "outputs": [
    {
     "data": {
      "text/plain": [
       "12"
      ]
     },
     "execution_count": 150,
     "metadata": {},
     "output_type": "execute_result"
    }
   ],
   "source": [
    "df['공원이름'].count() #변수 값 중에 null이 아닌 것들 갯수를 센다. "
   ]
  },
  {
   "cell_type": "code",
   "execution_count": 156,
   "metadata": {},
   "outputs": [
    {
     "data": {
      "text/html": [
       "<div>\n",
       "<style scoped>\n",
       "    .dataframe tbody tr th:only-of-type {\n",
       "        vertical-align: middle;\n",
       "    }\n",
       "\n",
       "    .dataframe tbody tr th {\n",
       "        vertical-align: top;\n",
       "    }\n",
       "\n",
       "    .dataframe thead th {\n",
       "        text-align: right;\n",
       "    }\n",
       "</style>\n",
       "<table border=\"1\" class=\"dataframe\">\n",
       "  <thead>\n",
       "    <tr style=\"text-align: right;\">\n",
       "      <th></th>\n",
       "      <th>0</th>\n",
       "      <th>1</th>\n",
       "      <th>2</th>\n",
       "    </tr>\n",
       "  </thead>\n",
       "  <tbody>\n",
       "    <tr>\n",
       "      <th>0</th>\n",
       "      <td>1.0</td>\n",
       "      <td>2</td>\n",
       "      <td>3</td>\n",
       "    </tr>\n",
       "    <tr>\n",
       "      <th>1</th>\n",
       "      <td>4.0</td>\n",
       "      <td>5</td>\n",
       "      <td>6</td>\n",
       "    </tr>\n",
       "    <tr>\n",
       "      <th>2</th>\n",
       "      <td>4.0</td>\n",
       "      <td>59</td>\n",
       "      <td>1</td>\n",
       "    </tr>\n",
       "    <tr>\n",
       "      <th>3</th>\n",
       "      <td>NaN</td>\n",
       "      <td>1</td>\n",
       "      <td>1</td>\n",
       "    </tr>\n",
       "  </tbody>\n",
       "</table>\n",
       "</div>"
      ],
      "text/plain": [
       "     0   1  2\n",
       "0  1.0   2  3\n",
       "1  4.0   5  6\n",
       "2  4.0  59  1\n",
       "3  NaN   1  1"
      ]
     },
     "execution_count": 156,
     "metadata": {},
     "output_type": "execute_result"
    }
   ],
   "source": [
    "df_test = pd.DataFrame([[1,2,3],\n",
    "             [4,5,6],\n",
    "             [4,59,1],\n",
    "                       [None,1,1]])\n",
    "df_test"
   ]
  },
  {
   "cell_type": "code",
   "execution_count": 157,
   "metadata": {},
   "outputs": [
    {
     "data": {
      "text/plain": [
       "3"
      ]
     },
     "execution_count": 157,
     "metadata": {},
     "output_type": "execute_result"
    }
   ],
   "source": [
    "df_test[0].count()"
   ]
  },
  {
   "cell_type": "code",
   "execution_count": 163,
   "metadata": {},
   "outputs": [
    {
     "data": {
      "text/plain": [
       "4.0"
      ]
     },
     "execution_count": 163,
     "metadata": {},
     "output_type": "execute_result"
    }
   ],
   "source": [
    "df_test[0].median()"
   ]
  },
  {
   "cell_type": "code",
   "execution_count": 165,
   "metadata": {},
   "outputs": [
    {
     "data": {
      "text/html": [
       "<div>\n",
       "<style scoped>\n",
       "    .dataframe tbody tr th:only-of-type {\n",
       "        vertical-align: middle;\n",
       "    }\n",
       "\n",
       "    .dataframe tbody tr th {\n",
       "        vertical-align: top;\n",
       "    }\n",
       "\n",
       "    .dataframe thead th {\n",
       "        text-align: right;\n",
       "    }\n",
       "</style>\n",
       "<table border=\"1\" class=\"dataframe\">\n",
       "  <thead>\n",
       "    <tr style=\"text-align: right;\">\n",
       "      <th></th>\n",
       "      <th>0</th>\n",
       "      <th>1</th>\n",
       "      <th>2</th>\n",
       "    </tr>\n",
       "  </thead>\n",
       "  <tbody>\n",
       "    <tr>\n",
       "      <th>0.25</th>\n",
       "      <td>2.5</td>\n",
       "      <td>1.75</td>\n",
       "      <td>1.00</td>\n",
       "    </tr>\n",
       "    <tr>\n",
       "      <th>0.50</th>\n",
       "      <td>4.0</td>\n",
       "      <td>3.50</td>\n",
       "      <td>2.00</td>\n",
       "    </tr>\n",
       "    <tr>\n",
       "      <th>0.75</th>\n",
       "      <td>4.0</td>\n",
       "      <td>18.50</td>\n",
       "      <td>3.75</td>\n",
       "    </tr>\n",
       "  </tbody>\n",
       "</table>\n",
       "</div>"
      ],
      "text/plain": [
       "        0      1     2\n",
       "0.25  2.5   1.75  1.00\n",
       "0.50  4.0   3.50  2.00\n",
       "0.75  4.0  18.50  3.75"
      ]
     },
     "execution_count": 165,
     "metadata": {},
     "output_type": "execute_result"
    }
   ],
   "source": [
    "df_test.quantile([0.25,0.5,0.75]) #산포측도, 사분위수"
   ]
  },
  {
   "cell_type": "markdown",
   "metadata": {},
   "source": [
    "# df.apply()"
   ]
  },
  {
   "cell_type": "code",
   "execution_count": 178,
   "metadata": {
    "scrolled": true
   },
   "outputs": [
    {
     "name": "stdout",
     "output_type": "stream",
     "text": [
      "[1. 2. 3.]\n",
      "[4. 5. 6.]\n",
      "[ 4. 59.  1.]\n",
      "[nan  1.  1.]\n"
     ]
    },
    {
     "data": {
      "text/plain": [
       "0    None\n",
       "1    None\n",
       "2    None\n",
       "3    None\n",
       "dtype: object"
      ]
     },
     "execution_count": 178,
     "metadata": {},
     "output_type": "execute_result"
    }
   ],
   "source": [
    "#각 칼럼 또는 row에 apply() 내부의 함수 적용\n",
    "#raw = true 이면 func안에 ndarray 객체를 넣는다. false이면 시리즈로 넣는다.\n",
    "#\n",
    "df_test.apply(print,axis=1,raw=True,result_type='reduce')"
   ]
  },
  {
   "cell_type": "code",
   "execution_count": 211,
   "metadata": {},
   "outputs": [],
   "source": [
    "df.apply?"
   ]
  },
  {
   "cell_type": "markdown",
   "metadata": {},
   "source": [
    "# result_type은 axis=1 일때만 작동한다.\n",
    "- result_type='expand' 이면, 리스트 형식으로 나온 결과값을 데이터프레임 형식으로 바꿔준다. \n",
    "- result_type='broadcast' 이면, 결과값이 리스트 형식이든, 스칼라이든 상관없이 데이터프레임 형식으로 바꿔 출력해준다. \n",
    "- result_type='reduce' 이면, 리스트 형식으로 나온 결과값을 가능한 한 데이터프레임 형식 말고 시리즈 형식으로 return해준다. \n",
    "- none이면 시리즈로 결과값을 반환한다. 만약 함수가 시리즈 형식을 반환하면 데이터프레임 형식으로 결과값 반환한다. "
   ]
  },
  {
   "cell_type": "markdown",
   "metadata": {},
   "source": [
    "- args : func에 함께 넣을 tuple을 지정해줄 수 있다. \n",
    "- kwds : func에 넣을 추가적인 keyword argument를 지정해준다. \n",
    "- 최종 결과값은 시리즈 또는 데이터프레임으로 나온다. "
   ]
  },
  {
   "cell_type": "code",
   "execution_count": 183,
   "metadata": {},
   "outputs": [
    {
     "data": {
      "text/html": [
       "<div>\n",
       "<style scoped>\n",
       "    .dataframe tbody tr th:only-of-type {\n",
       "        vertical-align: middle;\n",
       "    }\n",
       "\n",
       "    .dataframe tbody tr th {\n",
       "        vertical-align: top;\n",
       "    }\n",
       "\n",
       "    .dataframe thead th {\n",
       "        text-align: right;\n",
       "    }\n",
       "</style>\n",
       "<table border=\"1\" class=\"dataframe\">\n",
       "  <thead>\n",
       "    <tr style=\"text-align: right;\">\n",
       "      <th></th>\n",
       "      <th>0</th>\n",
       "      <th>1</th>\n",
       "      <th>2</th>\n",
       "    </tr>\n",
       "  </thead>\n",
       "  <tbody>\n",
       "    <tr>\n",
       "      <th>0</th>\n",
       "      <td>1</td>\n",
       "      <td>2</td>\n",
       "      <td>3</td>\n",
       "    </tr>\n",
       "    <tr>\n",
       "      <th>1</th>\n",
       "      <td>4</td>\n",
       "      <td>5</td>\n",
       "      <td>6</td>\n",
       "    </tr>\n",
       "    <tr>\n",
       "      <th>2</th>\n",
       "      <td>7</td>\n",
       "      <td>8</td>\n",
       "      <td>9</td>\n",
       "    </tr>\n",
       "  </tbody>\n",
       "</table>\n",
       "</div>"
      ],
      "text/plain": [
       "   0  1  2\n",
       "0  1  2  3\n",
       "1  4  5  6\n",
       "2  7  8  9"
      ]
     },
     "execution_count": 183,
     "metadata": {},
     "output_type": "execute_result"
    }
   ],
   "source": [
    "df_test2 = pd.DataFrame([[1,2,3],\n",
    "                        [4,5,6],\n",
    "                        [7,8,9]])\n",
    "df_test2"
   ]
  },
  {
   "cell_type": "code",
   "execution_count": 193,
   "metadata": {},
   "outputs": [
    {
     "data": {
      "text/html": [
       "<div>\n",
       "<style scoped>\n",
       "    .dataframe tbody tr th:only-of-type {\n",
       "        vertical-align: middle;\n",
       "    }\n",
       "\n",
       "    .dataframe tbody tr th {\n",
       "        vertical-align: top;\n",
       "    }\n",
       "\n",
       "    .dataframe thead th {\n",
       "        text-align: right;\n",
       "    }\n",
       "</style>\n",
       "<table border=\"1\" class=\"dataframe\">\n",
       "  <thead>\n",
       "    <tr style=\"text-align: right;\">\n",
       "      <th></th>\n",
       "      <th>0</th>\n",
       "      <th>1</th>\n",
       "      <th>2</th>\n",
       "    </tr>\n",
       "  </thead>\n",
       "  <tbody>\n",
       "    <tr>\n",
       "      <th>0</th>\n",
       "      <td>1.000000</td>\n",
       "      <td>1.414214</td>\n",
       "      <td>1.732051</td>\n",
       "    </tr>\n",
       "    <tr>\n",
       "      <th>1</th>\n",
       "      <td>2.000000</td>\n",
       "      <td>2.236068</td>\n",
       "      <td>2.449490</td>\n",
       "    </tr>\n",
       "    <tr>\n",
       "      <th>2</th>\n",
       "      <td>2.645751</td>\n",
       "      <td>2.828427</td>\n",
       "      <td>3.000000</td>\n",
       "    </tr>\n",
       "  </tbody>\n",
       "</table>\n",
       "</div>"
      ],
      "text/plain": [
       "          0         1         2\n",
       "0  1.000000  1.414214  1.732051\n",
       "1  2.000000  2.236068  2.449490\n",
       "2  2.645751  2.828427  3.000000"
      ]
     },
     "execution_count": 193,
     "metadata": {},
     "output_type": "execute_result"
    }
   ],
   "source": [
    "df_test2.apply(np.sqrt,axis=1,result_type='expand')"
   ]
  },
  {
   "cell_type": "code",
   "execution_count": 196,
   "metadata": {},
   "outputs": [
    {
     "data": {
      "text/html": [
       "<div>\n",
       "<style scoped>\n",
       "    .dataframe tbody tr th:only-of-type {\n",
       "        vertical-align: middle;\n",
       "    }\n",
       "\n",
       "    .dataframe tbody tr th {\n",
       "        vertical-align: top;\n",
       "    }\n",
       "\n",
       "    .dataframe thead th {\n",
       "        text-align: right;\n",
       "    }\n",
       "</style>\n",
       "<table border=\"1\" class=\"dataframe\">\n",
       "  <thead>\n",
       "    <tr style=\"text-align: right;\">\n",
       "      <th></th>\n",
       "      <th>0</th>\n",
       "      <th>1</th>\n",
       "      <th>2</th>\n",
       "    </tr>\n",
       "  </thead>\n",
       "  <tbody>\n",
       "    <tr>\n",
       "      <th>0</th>\n",
       "      <td>1.000000</td>\n",
       "      <td>1.414214</td>\n",
       "      <td>1.732051</td>\n",
       "    </tr>\n",
       "    <tr>\n",
       "      <th>1</th>\n",
       "      <td>2.000000</td>\n",
       "      <td>2.236068</td>\n",
       "      <td>2.449490</td>\n",
       "    </tr>\n",
       "    <tr>\n",
       "      <th>2</th>\n",
       "      <td>2.645751</td>\n",
       "      <td>2.828427</td>\n",
       "      <td>3.000000</td>\n",
       "    </tr>\n",
       "  </tbody>\n",
       "</table>\n",
       "</div>"
      ],
      "text/plain": [
       "          0         1         2\n",
       "0  1.000000  1.414214  1.732051\n",
       "1  2.000000  2.236068  2.449490\n",
       "2  2.645751  2.828427  3.000000"
      ]
     },
     "execution_count": 196,
     "metadata": {},
     "output_type": "execute_result"
    }
   ],
   "source": [
    "df_test2.apply(np.sqrt,axis=1, result_type=None)"
   ]
  },
  {
   "cell_type": "code",
   "execution_count": 202,
   "metadata": {},
   "outputs": [
    {
     "data": {
      "text/html": [
       "<div>\n",
       "<style scoped>\n",
       "    .dataframe tbody tr th:only-of-type {\n",
       "        vertical-align: middle;\n",
       "    }\n",
       "\n",
       "    .dataframe tbody tr th {\n",
       "        vertical-align: top;\n",
       "    }\n",
       "\n",
       "    .dataframe thead th {\n",
       "        text-align: right;\n",
       "    }\n",
       "</style>\n",
       "<table border=\"1\" class=\"dataframe\">\n",
       "  <thead>\n",
       "    <tr style=\"text-align: right;\">\n",
       "      <th></th>\n",
       "      <th>0</th>\n",
       "      <th>1</th>\n",
       "      <th>2</th>\n",
       "    </tr>\n",
       "  </thead>\n",
       "  <tbody>\n",
       "    <tr>\n",
       "      <th>0</th>\n",
       "      <td>1.000000</td>\n",
       "      <td>1.414214</td>\n",
       "      <td>1.732051</td>\n",
       "    </tr>\n",
       "    <tr>\n",
       "      <th>1</th>\n",
       "      <td>2.000000</td>\n",
       "      <td>2.236068</td>\n",
       "      <td>2.449490</td>\n",
       "    </tr>\n",
       "    <tr>\n",
       "      <th>2</th>\n",
       "      <td>2.645751</td>\n",
       "      <td>2.828427</td>\n",
       "      <td>3.000000</td>\n",
       "    </tr>\n",
       "  </tbody>\n",
       "</table>\n",
       "</div>"
      ],
      "text/plain": [
       "          0         1         2\n",
       "0  1.000000  1.414214  1.732051\n",
       "1  2.000000  2.236068  2.449490\n",
       "2  2.645751  2.828427  3.000000"
      ]
     },
     "execution_count": 202,
     "metadata": {},
     "output_type": "execute_result"
    }
   ],
   "source": [
    "df_test2.apply(np.sqrt,axis=1, result_type='broadcast')"
   ]
  },
  {
   "cell_type": "code",
   "execution_count": 201,
   "metadata": {},
   "outputs": [
    {
     "data": {
      "text/plain": [
       "pandas.core.series.Series"
      ]
     },
     "execution_count": 201,
     "metadata": {},
     "output_type": "execute_result"
    }
   ],
   "source": [
    "type(np.sqrt(df_test2.iloc[0]))"
   ]
  },
  {
   "cell_type": "code",
   "execution_count": 204,
   "metadata": {},
   "outputs": [
    {
     "data": {
      "text/html": [
       "<div>\n",
       "<style scoped>\n",
       "    .dataframe tbody tr th:only-of-type {\n",
       "        vertical-align: middle;\n",
       "    }\n",
       "\n",
       "    .dataframe tbody tr th {\n",
       "        vertical-align: top;\n",
       "    }\n",
       "\n",
       "    .dataframe thead th {\n",
       "        text-align: right;\n",
       "    }\n",
       "</style>\n",
       "<table border=\"1\" class=\"dataframe\">\n",
       "  <thead>\n",
       "    <tr style=\"text-align: right;\">\n",
       "      <th></th>\n",
       "      <th>0</th>\n",
       "      <th>1</th>\n",
       "      <th>2</th>\n",
       "    </tr>\n",
       "  </thead>\n",
       "  <tbody>\n",
       "    <tr>\n",
       "      <th>0</th>\n",
       "      <td>6</td>\n",
       "      <td>6</td>\n",
       "      <td>6</td>\n",
       "    </tr>\n",
       "    <tr>\n",
       "      <th>1</th>\n",
       "      <td>15</td>\n",
       "      <td>15</td>\n",
       "      <td>15</td>\n",
       "    </tr>\n",
       "    <tr>\n",
       "      <th>2</th>\n",
       "      <td>24</td>\n",
       "      <td>24</td>\n",
       "      <td>24</td>\n",
       "    </tr>\n",
       "  </tbody>\n",
       "</table>\n",
       "</div>"
      ],
      "text/plain": [
       "    0   1   2\n",
       "0   6   6   6\n",
       "1  15  15  15\n",
       "2  24  24  24"
      ]
     },
     "execution_count": 204,
     "metadata": {},
     "output_type": "execute_result"
    }
   ],
   "source": [
    "df_test2.apply(sum, axis=1, result_type='broadcast')"
   ]
  },
  {
   "cell_type": "code",
   "execution_count": 210,
   "metadata": {},
   "outputs": [
    {
     "data": {
      "text/plain": [
       "0     6\n",
       "1    15\n",
       "2    24\n",
       "dtype: int64"
      ]
     },
     "execution_count": 210,
     "metadata": {},
     "output_type": "execute_result"
    }
   ],
   "source": [
    "df_test2.apply(sum, axis=1, result_type='reduce')"
   ]
  },
  {
   "cell_type": "code",
   "execution_count": null,
   "metadata": {},
   "outputs": [],
   "source": []
  },
  {
   "cell_type": "code",
   "execution_count": null,
   "metadata": {},
   "outputs": [],
   "source": []
  },
  {
   "cell_type": "code",
   "execution_count": null,
   "metadata": {},
   "outputs": [],
   "source": []
  }
 ],
 "metadata": {
  "kernelspec": {
   "display_name": "Python 3",
   "language": "python",
   "name": "python3"
  },
  "language_info": {
   "codemirror_mode": {
    "name": "ipython",
    "version": 3
   },
   "file_extension": ".py",
   "mimetype": "text/x-python",
   "name": "python",
   "nbconvert_exporter": "python",
   "pygments_lexer": "ipython3",
   "version": "3.8.5"
  }
 },
 "nbformat": 4,
 "nbformat_minor": 4
}
