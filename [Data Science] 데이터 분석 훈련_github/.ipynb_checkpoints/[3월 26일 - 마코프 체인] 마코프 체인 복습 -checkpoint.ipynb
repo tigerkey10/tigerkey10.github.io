{
 "cells": [
  {
   "cell_type": "code",
   "execution_count": 1,
   "metadata": {},
   "outputs": [],
   "source": [
    "import numpy as np"
   ]
  },
  {
   "cell_type": "markdown",
   "metadata": {},
   "source": [
    "# 첫날 햄버거 나온 경우 "
   ]
  },
  {
   "cell_type": "code",
   "execution_count": 5,
   "metadata": {},
   "outputs": [
    {
     "data": {
      "text/plain": [
       "matrix([[1],\n",
       "        [0],\n",
       "        [0]])"
      ]
     },
     "execution_count": 5,
     "metadata": {},
     "output_type": "execute_result"
    }
   ],
   "source": [
    "first = np.matrix([[1],\n",
    "          [0],\n",
    "          [0]])\n",
    "first"
   ]
  },
  {
   "cell_type": "code",
   "execution_count": 9,
   "metadata": {},
   "outputs": [
    {
     "data": {
      "text/plain": [
       "matrix([[0.2, 0.3, 0.5],\n",
       "        [0.2, 0. , 0. ],\n",
       "        [0.6, 0.7, 0.5]])"
      ]
     },
     "execution_count": 9,
     "metadata": {},
     "output_type": "execute_result"
    }
   ],
   "source": [
    "trans = np.matrix([[0.2,0.3,0.5],\n",
    "          [0.2,0,0],\n",
    "          [0.6,0.7,0.5]])\n",
    "trans"
   ]
  },
  {
   "cell_type": "code",
   "execution_count": 12,
   "metadata": {},
   "outputs": [
    {
     "name": "stdout",
     "output_type": "stream",
     "text": [
      "단위시간이 몇 번 흐른 뒤의 확률을 계산할까요? : 10\n"
     ]
    },
    {
     "data": {
      "text/plain": [
       "matrix([[0.37313442],\n",
       "        [0.07462679],\n",
       "        [0.55223879]])"
      ]
     },
     "execution_count": 12,
     "metadata": {},
     "output_type": "execute_result"
    }
   ],
   "source": [
    "#마코프체인 생성\n",
    "k = int(input('단위시간이 몇 번 흐른 뒤의 확률을 계산할까요? : '))\n",
    "\n",
    "(trans**k)*first"
   ]
  },
  {
   "cell_type": "code",
   "execution_count": 13,
   "metadata": {},
   "outputs": [],
   "source": [
    "# 반복해보자. \n",
    "matrix_list = []\n",
    "\n",
    "for k in range(1,51) :\n",
    "    matrix_k = (trans**k)*first\n",
    "    matrix_list.append(matrix_k)"
   ]
  },
  {
   "cell_type": "code",
   "execution_count": 30,
   "metadata": {},
   "outputs": [
    {
     "data": {
      "text/plain": [
       "[matrix([[0.37313433],\n",
       "         [0.07462687],\n",
       "         [0.55223881]]),\n",
       " matrix([[0.37313433],\n",
       "         [0.07462687],\n",
       "         [0.55223881]]),\n",
       " matrix([[0.37313433],\n",
       "         [0.07462687],\n",
       "         [0.55223881]])]"
      ]
     },
     "execution_count": 30,
     "metadata": {},
     "output_type": "execute_result"
    }
   ],
   "source": [
    "matrix_list[12:15] #12번째부터 정규전이행렬 p가 Q로 수렴하고, 상태행렬 X(k)가 안정상태 X에 접어든다. 더 이상 확률값 바뀌지 않는다.  "
   ]
  },
  {
   "cell_type": "markdown",
   "metadata": {},
   "source": [
    "# 첫날 피자 나온 경우 "
   ]
  },
  {
   "cell_type": "code",
   "execution_count": 33,
   "metadata": {},
   "outputs": [
    {
     "data": {
      "text/plain": [
       "matrix([[0],\n",
       "        [1],\n",
       "        [0]])"
      ]
     },
     "execution_count": 33,
     "metadata": {},
     "output_type": "execute_result"
    }
   ],
   "source": [
    "first = np.matrix([[0],\n",
    "          [1],\n",
    "          [0]])\n",
    "first"
   ]
  },
  {
   "cell_type": "code",
   "execution_count": 34,
   "metadata": {},
   "outputs": [
    {
     "data": {
      "text/plain": [
       "matrix([[0.2, 0.3, 0.5],\n",
       "        [0.2, 0. , 0. ],\n",
       "        [0.6, 0.7, 0.5]])"
      ]
     },
     "execution_count": 34,
     "metadata": {},
     "output_type": "execute_result"
    }
   ],
   "source": [
    "trans = np.matrix([[0.2,0.3,0.5],\n",
    "          [0.2,0,0],\n",
    "          [0.6,0.7,0.5]])\n",
    "trans"
   ]
  },
  {
   "cell_type": "code",
   "execution_count": 35,
   "metadata": {},
   "outputs": [],
   "source": [
    "# 반복해보자. \n",
    "matrix_list = []\n",
    "\n",
    "for k in range(1,51) :\n",
    "    matrix_k = (trans**k)*first\n",
    "    matrix_list.append(matrix_k)"
   ]
  },
  {
   "cell_type": "code",
   "execution_count": 37,
   "metadata": {},
   "outputs": [
    {
     "data": {
      "text/plain": [
       "[matrix([[0.37313433],\n",
       "         [0.07462687],\n",
       "         [0.55223881]]),\n",
       " matrix([[0.37313433],\n",
       "         [0.07462687],\n",
       "         [0.55223881]]),\n",
       " matrix([[0.37313433],\n",
       "         [0.07462687],\n",
       "         [0.55223881]])]"
      ]
     },
     "execution_count": 37,
     "metadata": {},
     "output_type": "execute_result"
    }
   ],
   "source": [
    "matrix_list[12:15] # 햄버거 경우와 확률, 안정상태 접어드는 k값 모두 같다"
   ]
  },
  {
   "cell_type": "markdown",
   "metadata": {},
   "source": [
    "# 첫날 핫도그가 나온 경우"
   ]
  },
  {
   "cell_type": "code",
   "execution_count": 39,
   "metadata": {},
   "outputs": [
    {
     "data": {
      "text/plain": [
       "[matrix([[0.37313433],\n",
       "         [0.07462687],\n",
       "         [0.55223881]]),\n",
       " matrix([[0.37313433],\n",
       "         [0.07462687],\n",
       "         [0.55223881]]),\n",
       " matrix([[0.37313433],\n",
       "         [0.07462687],\n",
       "         [0.55223881]])]"
      ]
     },
     "execution_count": 39,
     "metadata": {},
     "output_type": "execute_result"
    }
   ],
   "source": [
    "first = np.matrix([[0],\n",
    "          [0],\n",
    "          [1]])\n",
    "\n",
    "trans = np.matrix([[0.2,0.3,0.5],\n",
    "          [0.2,0,0],\n",
    "          [0.6,0.7,0.5]])\n",
    "\n",
    "matrix_list = []\n",
    "for k in range(1,51) :\n",
    "    matrix_k = (trans**k)*first\n",
    "    matrix_list.append(matrix_k)\n",
    "\n",
    "matrix_list[12:15] # 햄버거 경우와 확률, 안정상태 접어드는 k값 모두 같다"
   ]
  },
  {
   "cell_type": "markdown",
   "metadata": {},
   "source": [
    "# 결론 : 12일의 이산적 단위 시간이 흐르고 난 뒤 부터는 첫날 급식 메뉴로 무엇이 나왔든 일정한 확률로 핫도그 나올 가능성이 제일 높다. \n",
    "# 12일의 이산적 단위 시간 흐르고 난 다음 부터는 확률값은 더 이상 변하지 않는다. \n",
    "# 12일의 이산적 단위 시간 흐르고 난 다음 부터는 상태행렬 X(k)가 안정상태 X에 접어들고, 정규전이행렬 p도 일정한 행렬 Q에 수렴한다. "
   ]
  },
  {
   "cell_type": "code",
   "execution_count": null,
   "metadata": {},
   "outputs": [],
   "source": []
  },
  {
   "cell_type": "code",
   "execution_count": null,
   "metadata": {},
   "outputs": [],
   "source": []
  }
 ],
 "metadata": {
  "kernelspec": {
   "display_name": "Python 3",
   "language": "python",
   "name": "python3"
  },
  "language_info": {
   "codemirror_mode": {
    "name": "ipython",
    "version": 3
   },
   "file_extension": ".py",
   "mimetype": "text/x-python",
   "name": "python",
   "nbconvert_exporter": "python",
   "pygments_lexer": "ipython3",
   "version": "3.8.5"
  }
 },
 "nbformat": 4,
 "nbformat_minor": 4
}
