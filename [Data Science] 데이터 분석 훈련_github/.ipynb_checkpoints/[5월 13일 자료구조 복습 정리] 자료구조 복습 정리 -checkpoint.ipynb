{
 "cells": [
  {
   "cell_type": "markdown",
   "metadata": {},
   "source": [
    "# 자료구조 : 데이터를 저장하는 방식 (데이터 담는 틀)\n",
    "- 데이터를 저장, 조직화하는 방식. 체계 \n",
    "- 프로그래밍의 기초. \n",
    "\n",
    "# 알고리듬 : 문제를 해결하는 방식. 체계. \n",
    "- 효율 확보'가 주요 관심사. \n",
    "- 알고리듬은 자료구조에 따라간다. \n",
    "\n",
    "# 추상자료형 : '무엇'인가만 정의하고, '어떻게 구현할 것인가'는 정의하지 않은 자료형\n",
    "- 스택, 큐, 덱 등. \n",
    "- 구현방식'을 고려하기 시작하면, 그때부턴 자료구조의 영역이 된다. \n",
    "\n",
    "# 알고리듬 성능분석\n",
    "- 모듈 써서 직접 재거나 vs 연산 횟수n 가지고 이론적 분석하거나 두가지 있다. \n",
    "- 직접 재는 방식은 객관적 비교 어려울 수 있다. \n",
    "- 이론적 분석에서는 연산 횟수 통해 알고리듬 시간 복잡도, 공간 복잡도 분석한다. \n",
    "\n",
    "# 알고리듬 복잡도 분석\n",
    "- 알고리듬 소요시간을 가장 기본연산 연산횟수n으로 구성된 시간복잡도 함수로 표현한다. \n",
    "- 가장 기본 연산은 대입,이동,비교,산술 등이다. \n",
    "- 대개 '최악경우분석'을 사용한다. \n",
    "\n",
    "# 빅오표기법으로 나타내는 알고리듬 시간복잡도 \n",
    "- 최악의 경우 알고리듬 소요시간 얼마 걸리는가? 를 보여준다. \n",
    "- 연산횟수 n의 함수. 시간복잡도 함수의 가장 큰 차수 항을 O() 안에 넣어 표기한다. \n",
    "- 예 : f() = O($N^{2}$)이면 f 라는 시간복잡도로 표현되는 알고리듬은 최악 경우 $N^{2}$만큼 시간 걸림을 말한다. \n",
    "- 시간복잡도 함수가 왼쪽 y축으로 가까이 붙으면 알고리듬이 비효율적임을 말한다. x축 쪽 붙으면 효율적임을 말한다. "
   ]
  },
  {
   "cell_type": "code",
   "execution_count": null,
   "metadata": {},
   "outputs": [],
   "source": []
  },
  {
   "cell_type": "markdown",
   "metadata": {},
   "source": [
    "# 시퀀스 : 데이터를 나열. 순서 임의로 부여한 자료구조\n",
    "- '정렬'이 아니다. \n",
    "- 부여한 순서를 인덱스라 한다. \n",
    "- 인덱스 이용하면 저장된 데이터에 바로 접근할 수 있다는 게 핵심이다. "
   ]
  },
  {
   "cell_type": "code",
   "execution_count": 8,
   "metadata": {},
   "outputs": [
    {
     "data": {
      "text/plain": [
       "[11, 22, 33, 44, 11, 22, 33, 44, 11, 22, 33, 44]"
      ]
     },
     "execution_count": 8,
     "metadata": {},
     "output_type": "execute_result"
    }
   ],
   "source": [
    "list1 = [11, 22, 33, 44]\n",
    "list1*3"
   ]
  },
  {
   "cell_type": "code",
   "execution_count": 11,
   "metadata": {},
   "outputs": [
    {
     "data": {
      "text/plain": [
       "[110, 220, 330, 440]"
      ]
     },
     "execution_count": 11,
     "metadata": {},
     "output_type": "execute_result"
    }
   ],
   "source": [
    "#리스트 축약식\n",
    "[n*10 for n in list1] "
   ]
  },
  {
   "cell_type": "markdown",
   "metadata": {},
   "source": [
    "n*10 부분에는 리스트 요소. 뒤에는 리스트 요소 생성 조건 "
   ]
  },
  {
   "cell_type": "code",
   "execution_count": 34,
   "metadata": {},
   "outputs": [
    {
     "data": {
      "text/plain": [
       "<map at 0x7f91549813a0>"
      ]
     },
     "execution_count": 34,
     "metadata": {},
     "output_type": "execute_result"
    }
   ],
   "source": [
    "map(lambda x : x*10, list1)"
   ]
  },
  {
   "cell_type": "code",
   "execution_count": 26,
   "metadata": {},
   "outputs": [
    {
     "data": {
      "text/plain": [
       "[<function __main__.f(x)>]"
      ]
     },
     "execution_count": 26,
     "metadata": {},
     "output_type": "execute_result"
    }
   ],
   "source": [
    "# 리스트에는 함수도 요소로 들어갈 수 있다. \n",
    "def f(x) : \n",
    "    return 3**x \n",
    "list2 = []\n",
    "list2.append(f)\n",
    "list2"
   ]
  },
  {
   "cell_type": "markdown",
   "metadata": {},
   "source": []
  },
  {
   "cell_type": "markdown",
   "metadata": {},
   "source": []
  },
  {
   "cell_type": "markdown",
   "metadata": {},
   "source": [
    "# 리스트 <> 연산자는 각 요소 하나씩 순차적으로 비교해서 True False 출력한다. "
   ]
  },
  {
   "cell_type": "code",
   "execution_count": 51,
   "metadata": {
    "scrolled": false
   },
   "outputs": [
    {
     "data": {
      "text/plain": [
       "True"
      ]
     },
     "execution_count": 51,
     "metadata": {},
     "output_type": "execute_result"
    }
   ],
   "source": [
    "list1 = [11,22,10,44]\n",
    "list2 = [11,22,11,99]\n",
    "list1 < list2 "
   ]
  },
  {
   "cell_type": "markdown",
   "metadata": {},
   "source": [
    "# 멤버 연산자  : in, not in \n",
    "- 특정 요소가 자료구조 안에 있는지 없는지 검사\n",
    "- True, False 반환"
   ]
  },
  {
   "cell_type": "code",
   "execution_count": 67,
   "metadata": {},
   "outputs": [
    {
     "data": {
      "text/plain": [
       "True"
      ]
     },
     "execution_count": 67,
     "metadata": {},
     "output_type": "execute_result"
    }
   ],
   "source": [
    "33 not in list1"
   ]
  },
  {
   "cell_type": "markdown",
   "metadata": {},
   "source": [
    "# 리스트 축약식 : 리스트 안에 for문. if문 사용해서 리스트 표현 가능\n",
    "- for문\n",
    "- if문"
   ]
  },
  {
   "cell_type": "code",
   "execution_count": 87,
   "metadata": {
    "scrolled": true
   },
   "outputs": [
    {
     "data": {
      "text/plain": [
       "[176, 352]"
      ]
     },
     "execution_count": 87,
     "metadata": {},
     "output_type": "execute_result"
    }
   ],
   "source": [
    "[a for a in list1 if a > 10]\n",
    "[a*8 for a in list1 if a > 20]"
   ]
  },
  {
   "cell_type": "markdown",
   "metadata": {},
   "source": [
    "# map()은 함수, 반복가능자 받는다. \n",
    "- 반복가능자 각 요소 함수에 넣은 결과 만들어준다. "
   ]
  },
  {
   "cell_type": "code",
   "execution_count": 90,
   "metadata": {},
   "outputs": [
    {
     "data": {
      "text/plain": [
       "[33, 66, 30, 132]"
      ]
     },
     "execution_count": 90,
     "metadata": {},
     "output_type": "execute_result"
    }
   ],
   "source": [
    "list(map(lambda a : a*3, list1))"
   ]
  },
  {
   "cell_type": "markdown",
   "metadata": {},
   "source": [
    "# 리스트 간 + 연산만 가능하다(리스트+리스트 합치기)\n",
    "# 단일 리스트에는 *연산만 가능하다. "
   ]
  },
  {
   "cell_type": "code",
   "execution_count": 91,
   "metadata": {
    "scrolled": true
   },
   "outputs": [
    {
     "data": {
      "text/plain": [
       "[107, 217, 327, 437]"
      ]
     },
     "execution_count": 91,
     "metadata": {},
     "output_type": "execute_result"
    }
   ],
   "source": [
    "# 정리 & 실습\n",
    "result = [11,22,33,44]\n",
    "list(map(lambda x : x*10-3, result))"
   ]
  },
  {
   "cell_type": "code",
   "execution_count": 92,
   "metadata": {},
   "outputs": [
    {
     "data": {
      "text/plain": [
       "[11, 22, 33, 44, 11, 22, 10, 44]"
      ]
     },
     "execution_count": 92,
     "metadata": {},
     "output_type": "execute_result"
    }
   ],
   "source": [
    "result + list1"
   ]
  },
  {
   "cell_type": "code",
   "execution_count": 94,
   "metadata": {},
   "outputs": [],
   "source": [
    "result = result*3"
   ]
  },
  {
   "cell_type": "code",
   "execution_count": 97,
   "metadata": {},
   "outputs": [
    {
     "name": "stdout",
     "output_type": "stream",
     "text": [
      "[11, 22, 33, 44, 11, 22, 33, 44, 11, 22, 33, 44]\n"
     ]
    },
    {
     "data": {
      "text/plain": [
       "True"
      ]
     },
     "execution_count": 97,
     "metadata": {},
     "output_type": "execute_result"
    }
   ],
   "source": [
    "print(result)\n",
    "100 in result\n",
    "20 not in result"
   ]
  },
  {
   "cell_type": "code",
   "execution_count": 101,
   "metadata": {},
   "outputs": [
    {
     "data": {
      "text/plain": [
       "[3300, 4400, 3300, 4400, 3300, 4400]"
      ]
     },
     "execution_count": 101,
     "metadata": {},
     "output_type": "execute_result"
    }
   ],
   "source": [
    "#리스트 축약식 \n",
    "[a*100 for a in result if a > 30]"
   ]
  },
  {
   "cell_type": "markdown",
   "metadata": {},
   "source": [
    "# 람다 함수는 함수 이름, return 모두 생략되어있다. "
   ]
  },
  {
   "cell_type": "code",
   "execution_count": 110,
   "metadata": {},
   "outputs": [
    {
     "data": {
      "text/plain": [
       "99"
      ]
     },
     "execution_count": 110,
     "metadata": {},
     "output_type": "execute_result"
    }
   ],
   "source": [
    "a = lambda x : x*3\n",
    "a(33)"
   ]
  },
  {
   "cell_type": "code",
   "execution_count": 114,
   "metadata": {},
   "outputs": [
    {
     "data": {
      "text/plain": [
       "3"
      ]
     },
     "execution_count": 114,
     "metadata": {},
     "output_type": "execute_result"
    }
   ],
   "source": [
    "# count(a) 메서드\n",
    "result.count(33) #result 리스트 내부 33의 갯수 반환 "
   ]
  },
  {
   "cell_type": "code",
   "execution_count": 121,
   "metadata": {},
   "outputs": [
    {
     "data": {
      "text/plain": [
       "22"
      ]
     },
     "execution_count": 121,
     "metadata": {},
     "output_type": "execute_result"
    }
   ],
   "source": [
    "# pop() 메서드 \n",
    "result.pop(3)# result 리스트 내부 인덱스 3인 요소 반환 후 삭제 "
   ]
  },
  {
   "cell_type": "code",
   "execution_count": 129,
   "metadata": {},
   "outputs": [],
   "source": [
    "#extend() 메서드\n",
    "result.extend(range(3)) #반복가능자 받아서 그 요소를 리스트 마지막에 추가 "
   ]
  },
  {
   "cell_type": "code",
   "execution_count": 133,
   "metadata": {},
   "outputs": [],
   "source": [
    "result\n",
    "result.extend([3])"
   ]
  },
  {
   "cell_type": "code",
   "execution_count": 134,
   "metadata": {},
   "outputs": [
    {
     "data": {
      "text/plain": [
       "[11, 22, 33, 33, 44, 11, 22, 33, 44, 3, 0, 1, 2, 0, 1, 2, 'a', 3]"
      ]
     },
     "execution_count": 134,
     "metadata": {},
     "output_type": "execute_result"
    }
   ],
   "source": [
    "result"
   ]
  },
  {
   "cell_type": "code",
   "execution_count": 144,
   "metadata": {},
   "outputs": [
    {
     "data": {
      "text/plain": [
       "44"
      ]
     },
     "execution_count": 144,
     "metadata": {},
     "output_type": "execute_result"
    }
   ],
   "source": [
    "result.pop() #pop()은 디폴트로 맨 마지막 값 삭제 후 반환한다. 안에 인덱스 넣어서 삭제 & 반환 할 수도 있다. "
   ]
  },
  {
   "cell_type": "code",
   "execution_count": 152,
   "metadata": {},
   "outputs": [
    {
     "data": {
      "text/plain": [
       "True"
      ]
     },
     "execution_count": 152,
     "metadata": {},
     "output_type": "execute_result"
    }
   ],
   "source": [
    "any(result)"
   ]
  },
  {
   "cell_type": "code",
   "execution_count": 161,
   "metadata": {},
   "outputs": [
    {
     "data": {
      "text/plain": [
       "[11, 22, 33, 33, 44, 11, 22, 33]"
      ]
     },
     "execution_count": 161,
     "metadata": {},
     "output_type": "execute_result"
    }
   ],
   "source": [
    "result"
   ]
  },
  {
   "cell_type": "code",
   "execution_count": 183,
   "metadata": {},
   "outputs": [
    {
     "data": {
      "text/plain": [
       "[33, 44, 11, 22]"
      ]
     },
     "execution_count": 183,
     "metadata": {},
     "output_type": "execute_result"
    }
   ],
   "source": [
    "result[-5:-1] #음수 스텝 값 : 역방향으로 진행"
   ]
  },
  {
   "cell_type": "code",
   "execution_count": 180,
   "metadata": {},
   "outputs": [
    {
     "data": {
      "text/plain": [
       "[33, 44, 11, 22, 33]"
      ]
     },
     "execution_count": 180,
     "metadata": {},
     "output_type": "execute_result"
    }
   ],
   "source": [
    "result[-5::1] #양수 스텝 값 : 순방향 진행"
   ]
  },
  {
   "cell_type": "markdown",
   "metadata": {},
   "source": [
    "# start_ [리스트] end_\n",
    "- start --> end 방향으로만 슬라이싱 가능하다\n"
   ]
  },
  {
   "cell_type": "code",
   "execution_count": 188,
   "metadata": {
    "scrolled": true
   },
   "outputs": [
    {
     "data": {
      "text/plain": [
       "[55, 66]"
      ]
     },
     "execution_count": 188,
     "metadata": {},
     "output_type": "execute_result"
    }
   ],
   "source": [
    "list1 = [11,22,33,44,55,66]\n",
    "list1[-2:]"
   ]
  },
  {
   "cell_type": "code",
   "execution_count": 195,
   "metadata": {},
   "outputs": [
    {
     "data": {
      "text/plain": [
       "[33, 55]"
      ]
     },
     "execution_count": 195,
     "metadata": {},
     "output_type": "execute_result"
    }
   ],
   "source": [
    "list1[-4:-1:2]"
   ]
  },
  {
   "cell_type": "code",
   "execution_count": 229,
   "metadata": {
    "scrolled": true
   },
   "outputs": [
    {
     "data": {
      "text/plain": [
       "[]"
      ]
     },
     "execution_count": 229,
     "metadata": {},
     "output_type": "execute_result"
    }
   ],
   "source": [
    "list1[-4:-1:-1] "
   ]
  },
  {
   "cell_type": "code",
   "execution_count": 210,
   "metadata": {},
   "outputs": [
    {
     "data": {
      "text/plain": [
       "[]"
      ]
     },
     "execution_count": 210,
     "metadata": {},
     "output_type": "execute_result"
    }
   ],
   "source": [
    "list1[1:4:-1] #음수 스텝은 정해진 start point & end point 구간 진행방향과 충돌한다. \n",
    "# 결과적으로 아무것도 슬라이싱되지 않는다. "
   ]
  },
  {
   "cell_type": "code",
   "execution_count": 214,
   "metadata": {},
   "outputs": [
    {
     "data": {
      "text/plain": [
       "[22, 11]"
      ]
     },
     "execution_count": 214,
     "metadata": {},
     "output_type": "execute_result"
    }
   ],
   "source": [
    "# 리스트 슬라이싱 기본 진행 방향은 start --> end이다. \n",
    "list1[1::-1]\n",
    "# 음수 스텝은 end 지점 정해져 있지 않을 때만 사용할 수 있다. \n",
    "# 음수 스텝은 역방향 슬라이싱 한다. "
   ]
  },
  {
   "cell_type": "code",
   "execution_count": 224,
   "metadata": {},
   "outputs": [
    {
     "data": {
      "text/plain": [
       "[55, 44, 33, 22, 11]"
      ]
     },
     "execution_count": 224,
     "metadata": {},
     "output_type": "execute_result"
    }
   ],
   "source": [
    "list1[-2::-1]"
   ]
  },
  {
   "cell_type": "code",
   "execution_count": 228,
   "metadata": {},
   "outputs": [
    {
     "data": {
      "text/plain": [
       "[66, 55]"
      ]
     },
     "execution_count": 228,
     "metadata": {},
     "output_type": "execute_result"
    }
   ],
   "source": [
    "list1[:-3:-1] # 역방향으로 시작부터 -3'직전'까지 슬라이싱해라. (시작지점과 끝 지점 위치 바뀐다. )"
   ]
  },
  {
   "cell_type": "code",
   "execution_count": 209,
   "metadata": {
    "scrolled": true
   },
   "outputs": [
    {
     "data": {
      "text/plain": [
       "[22, 44]"
      ]
     },
     "execution_count": 209,
     "metadata": {},
     "output_type": "execute_result"
    }
   ],
   "source": [
    "list1[1:4:2]"
   ]
  },
  {
   "cell_type": "markdown",
   "metadata": {},
   "source": [
    "# start_ [리스트] end_\n",
    "- 슬라이싱 할 때 start --> end 방향이 디폴트다"
   ]
  },
  {
   "cell_type": "markdown",
   "metadata": {},
   "source": [
    "# 슬라이싱 할때는 언제나 start부터 $end^{-1}$까지 슬라이싱한다. "
   ]
  },
  {
   "cell_type": "markdown",
   "metadata": {},
   "source": [
    "# 슬라이싱 할 때 $end^{-1}$하는 건 '$end 직전$'까지 슬라이싱 하라 는 의미다. \n",
    "- 음수 스텝은 시작 또는 끝 포인트가 정해져 있지 않을 때 쓸 수 있다. \n",
    "- 음수 스텝하면 start, end 위치가 바뀐다. 음수 스텝 절댓값 수치 간격으로 슬라이싱 하면 된다. "
   ]
  },
  {
   "cell_type": "code",
   "execution_count": 239,
   "metadata": {},
   "outputs": [
    {
     "data": {
      "text/plain": [
       "[66]"
      ]
     },
     "execution_count": 239,
     "metadata": {},
     "output_type": "execute_result"
    }
   ],
   "source": [
    "test = [11,22,33,44,55,66]\n",
    "test[:-2:-1]"
   ]
  },
  {
   "cell_type": "code",
   "execution_count": 237,
   "metadata": {},
   "outputs": [
    {
     "data": {
      "text/plain": [
       "[55, 44, 33, 22, 11]"
      ]
     },
     "execution_count": 237,
     "metadata": {},
     "output_type": "execute_result"
    }
   ],
   "source": [
    "test[-2::-1]"
   ]
  },
  {
   "cell_type": "code",
   "execution_count": 235,
   "metadata": {},
   "outputs": [
    {
     "data": {
      "text/plain": [
       "[]"
      ]
     },
     "execution_count": 235,
     "metadata": {},
     "output_type": "execute_result"
    }
   ],
   "source": [
    "test[1:4:-1]"
   ]
  },
  {
   "cell_type": "code",
   "execution_count": null,
   "metadata": {},
   "outputs": [],
   "source": []
  }
 ],
 "metadata": {
  "kernelspec": {
   "display_name": "Python 3",
   "language": "python",
   "name": "python3"
  },
  "language_info": {
   "codemirror_mode": {
    "name": "ipython",
    "version": 3
   },
   "file_extension": ".py",
   "mimetype": "text/x-python",
   "name": "python",
   "nbconvert_exporter": "python",
   "pygments_lexer": "ipython3",
   "version": "3.8.5"
  }
 },
 "nbformat": 4,
 "nbformat_minor": 4
}
