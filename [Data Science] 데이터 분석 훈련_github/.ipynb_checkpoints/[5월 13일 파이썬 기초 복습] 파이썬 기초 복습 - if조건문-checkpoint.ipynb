{
 "cells": [
  {
   "cell_type": "markdown",
   "metadata": {},
   "source": [
    "if 조건문 복습 & 정리 "
   ]
  },
  {
   "cell_type": "code",
   "execution_count": 2,
   "metadata": {},
   "outputs": [
    {
     "name": "stdout",
     "output_type": "stream",
     "text": [
      "첫번째 수 입력 : 30\n",
      "두번째 수 입력 : 20\n",
      "입력된 값은 30, 20 입니다\n",
      "큰 값은 30, 작은 값은 20 입니다\n"
     ]
    }
   ],
   "source": [
    "#01. \n",
    "num1 = int(input('첫번째 수 입력 : '))\n",
    "num2 = int(input('두번째 수 입력 : '))\n",
    "\n",
    "if num1 > num2 : \n",
    "    max = num1\n",
    "    min = num2 \n",
    "elif num1 < num2 : \n",
    "    max = num2 \n",
    "    min = num1\n",
    "print(f'입력된 값은 {num1}, {num2} 입니다')\n",
    "print(f'큰 값은 {max}, 작은 값은 {min} 입니다')"
   ]
  },
  {
   "cell_type": "code",
   "execution_count": 6,
   "metadata": {},
   "outputs": [
    {
     "name": "stdout",
     "output_type": "stream",
     "text": [
      "첫번째 수 : 32313\n",
      "두번째 수 : 324\n",
      "세번째 수 : 21\n",
      "입력된 값은 32313, 324, 21 입니다.\n",
      "가장 큰 값은 32313이고, 가장 작은 값은 21입니다\n"
     ]
    }
   ],
   "source": [
    "#02. \n",
    "num1 = int(input('첫번째 수 : '))\n",
    "num2 = int(input('두번째 수 : '))\n",
    "num3 = int(input('세번째 수 : '))\n",
    "\n",
    "if num1 > num2 : \n",
    "    if num1 > num3 and num3 > num2 : \n",
    "        max = num1\n",
    "        min = num2\n",
    "    elif num1 > num3 and num3 < num2 : \n",
    "        max = num1\n",
    "        min = num3\n",
    "    elif num1 < num3 : \n",
    "        max = num3 \n",
    "        min = num2 \n",
    "\n",
    "elif num1 < num2 : \n",
    "    if num2 > num3 and num3 > num1 : \n",
    "        max = num2\n",
    "        min = num1\n",
    "    elif num2 > num3 and num3 < num1 : \n",
    "        max = num2\n",
    "        min = num3\n",
    "    elif num2 < num3 : \n",
    "        max = num3 \n",
    "        min = num1\n",
    "print(f'입력된 값은 {num1}, {num2}, {num3} 입니다.')\n",
    "print(f'가장 큰 값은 {max}이고, 가장 작은 값은 {min}입니다')"
   ]
  },
  {
   "cell_type": "code",
   "execution_count": 12,
   "metadata": {},
   "outputs": [
    {
     "name": "stdout",
     "output_type": "stream",
     "text": [
      "정수 입력 : 4\n",
      "4는 짝수입니다\n"
     ]
    }
   ],
   "source": [
    "#03. \n",
    "number = int(input('정수 입력 : '))\n",
    "if number % 2 == 0 : \n",
    "    print(f'{number}는 짝수입니다')\n",
    "elif number % 2 != 0 : \n",
    "    print(f'{number}는 홀수입니다')"
   ]
  },
  {
   "cell_type": "code",
   "execution_count": 18,
   "metadata": {},
   "outputs": [
    {
     "name": "stdout",
     "output_type": "stream",
     "text": [
      "국어점수 : 90\n",
      "영어점수 : 90\n",
      "수학점수 : 90\n",
      "총점은 270, 평균은 90.0, 등급은 A 입니다. \n"
     ]
    }
   ],
   "source": [
    "#04. \n",
    "korean = int(input('국어점수 : '))\n",
    "english = int(input('영어점수 : '))\n",
    "math = int(input('수학점수 : '))\n",
    "\n",
    "total = korean+english+math \n",
    "mean = total/3\n",
    "\n",
    "if mean >= 90 : \n",
    "    grade = 'A'\n",
    "elif mean < 90 and mean >= 80 : \n",
    "    grade = 'B'\n",
    "elif mean < 80 and mean >= 70 : \n",
    "    grade = 'C'\n",
    "elif mean < 70 and mean >= 60 : \n",
    "    grade = 'D'\n",
    "else : \n",
    "    grade = 'F'\n",
    "\n",
    "print(f'총점은 {total}, 평균은 {round(mean,1)}, 등급은 {grade} 입니다. ')"
   ]
  },
  {
   "cell_type": "code",
   "execution_count": 20,
   "metadata": {},
   "outputs": [
    {
     "name": "stdout",
     "output_type": "stream",
     "text": [
      "첫번째 숫자 입력 : 4\n",
      "두번째 숫자 입력 : 5\n",
      "연산자 입력 : +\n",
      "9\n"
     ]
    }
   ],
   "source": [
    "#05. \n",
    "num1 = int(input('첫번째 숫자 입력 : '))\n",
    "num2 = int(input('두번째 숫자 입력 : '))\n",
    "cal = input('연산자 입력 : ')\n",
    "if cal == '+' : \n",
    "    print(num1+num2)\n",
    "elif cal == '-' : \n",
    "    print(num1-num2)\n",
    "elif cal == '*' : \n",
    "    print(num1*num2)\n",
    "elif cal == '/' : \n",
    "    print(num1/num2)\n",
    "else : \n",
    "    print('연산자 오류!')"
   ]
  },
  {
   "cell_type": "code",
   "execution_count": 22,
   "metadata": {},
   "outputs": [
    {
     "name": "stdout",
     "output_type": "stream",
     "text": [
      "첫번째 과목 점수 : 90\n",
      "두번째 과목 점수 : 90\n",
      "평균은 90.0 입니다.\n",
      "합격!\n"
     ]
    }
   ],
   "source": [
    "#06. \n",
    "num1 = int(input('첫번째 과목 점수 : '))\n",
    "num2 = int(input('두번째 과목 점수 : '))\n",
    "print('평균은 {} 입니다.'.format((num1+num2)/2))\n",
    "if num1 >=60 and num2 >= 60 and ((num1+num2)/2) >= 40 : \n",
    "    print('합격!')\n",
    "else : \n",
    "    print('불합격!')"
   ]
  },
  {
   "cell_type": "code",
   "execution_count": 31,
   "metadata": {},
   "outputs": [
    {
     "name": "stdout",
     "output_type": "stream",
     "text": [
      "직급 : 7\n",
      "나이 : 30\n",
      "pass\n"
     ]
    }
   ],
   "source": [
    "#07. \n",
    "num1 = int(input('직급 : '))\n",
    "age = int(input('나이 : '))\n",
    "if num1 == 7 or num1 == 8 : \n",
    "    if age <40 and age >= 30 : \n",
    "        print('pass')\n",
    "    else : \n",
    "        print('다음 기회에..')\n",
    "else : \n",
    "    print('대상자가 아닙니다')"
   ]
  },
  {
   "cell_type": "markdown",
   "metadata": {},
   "source": [
    "while문 복습 & 정리 "
   ]
  },
  {
   "cell_type": "code",
   "execution_count": 32,
   "metadata": {},
   "outputs": [
    {
     "name": "stdout",
     "output_type": "stream",
     "text": [
      "hello python!\n",
      "hello python!\n",
      "hello python!\n",
      "hello python!\n",
      "hello python!\n"
     ]
    }
   ],
   "source": [
    "#01. \n",
    "no = 0 \n",
    "while no < 5 : \n",
    "    print('hello python!')\n",
    "    no += 1"
   ]
  },
  {
   "cell_type": "code",
   "execution_count": 40,
   "metadata": {},
   "outputs": [
    {
     "name": "stdout",
     "output_type": "stream",
     "text": [
      "끝 입력 : 8\n",
      "1에서 8까지 합은 36 입니다\n"
     ]
    }
   ],
   "source": [
    "#02. \n",
    "a = 0 \n",
    "no = 1\n",
    "end = int(input('끝 입력 : '))\n",
    "\n",
    "while no != end+1 : \n",
    "    a += no \n",
    "    no += 1\n",
    "print('1에서 %s까지 합은 %s 입니다' %(end, a))"
   ]
  },
  {
   "cell_type": "code",
   "execution_count": 51,
   "metadata": {},
   "outputs": [
    {
     "name": "stdout",
     "output_type": "stream",
     "text": [
      "시작값 입력20\n",
      "종료값 입력22\n",
      "시작값 20, 종료값 22, 총합 63\n"
     ]
    }
   ],
   "source": [
    "#03.\n",
    "start = int(input('시작값 입력'))\n",
    "end = int(input('종료값 입력'))\n",
    "\n",
    "no = 0\n",
    "n = start\n",
    "while n < end +1 : \n",
    "    no += n\n",
    "    n += 1\n",
    "print(f'시작값 {start}, 종료값 {end}, 총합 {no}')"
   ]
  },
  {
   "cell_type": "code",
   "execution_count": 56,
   "metadata": {},
   "outputs": [
    {
     "name": "stdout",
     "output_type": "stream",
     "text": [
      "1000넘을 때의 수 : 45\n",
      "1000이 넘을 때의 합 : 1035\n"
     ]
    }
   ],
   "source": [
    "#04. \n",
    "a = 0\n",
    "start = 1\n",
    "while start <= 100 : \n",
    "    a += start\n",
    "    start+=1\n",
    "    if a >= 1000 : \n",
    "        break\n",
    "print('1000넘을 때의 수 : {}'.format(start-1))\n",
    "print('1000이 넘을 때의 합 : {}'.format(a))"
   ]
  },
  {
   "cell_type": "code",
   "execution_count": 58,
   "metadata": {
    "scrolled": true
   },
   "outputs": [
    {
     "name": "stdout",
     "output_type": "stream",
     "text": [
      "1 2 4 5 7 8 10 "
     ]
    }
   ],
   "source": [
    "#05. \n",
    "no = 1\n",
    "while no <= 10 : \n",
    "    if (no % 3) == 0 : \n",
    "        no += 1\n",
    "        continue\n",
    "    else : \n",
    "        print(no, end=' ')\n",
    "        no += 1\n"
   ]
  },
  {
   "cell_type": "code",
   "execution_count": 65,
   "metadata": {
    "scrolled": true
   },
   "outputs": [
    {
     "name": "stdout",
     "output_type": "stream",
     "text": [
      "단 입력 : 1\n",
      "2~9사이 값을 입력하세요.\n",
      "단 입력 : 1\n",
      "2~9사이 값을 입력하세요.\n",
      "단 입력 : 1\n",
      "2~9사이 값을 입력하세요.\n",
      "단 입력 : 1\n",
      "2~9사이 값을 입력하세요.\n",
      "단 입력 : 1\n",
      "2~9사이 값을 입력하세요.\n",
      "단 입력 : 3\n",
      "3*1=3\n",
      "3*2=6\n",
      "3*3=9\n",
      "3*4=12\n",
      "3*5=15\n",
      "3*6=18\n",
      "3*7=21\n",
      "3*8=24\n",
      "3*9=27\n",
      "단 입력 : 2\n",
      "2*1=2\n",
      "2*2=4\n",
      "2*3=6\n",
      "2*4=8\n",
      "2*5=10\n",
      "2*6=12\n",
      "2*7=14\n",
      "2*8=16\n",
      "2*9=18\n",
      "단 입력 : 5\n",
      "5*1=5\n",
      "5*2=10\n",
      "5*3=15\n",
      "5*4=20\n",
      "5*5=25\n",
      "5*6=30\n",
      "5*7=35\n",
      "5*8=40\n",
      "5*9=45\n"
     ]
    }
   ],
   "source": [
    "#06. \n",
    "no = 0\n",
    "while no < 3 : \n",
    "    dan = int(input('단 입력 : '))\n",
    "    if dan < 2 or dan > 9 : \n",
    "        print('2~9사이 값을 입력하세요.')\n",
    "        continue\n",
    "    for i in range(1, 10) : \n",
    "        print(f'{dan}*{i}={dan*i}')\n",
    "    no += 1"
   ]
  },
  {
   "cell_type": "code",
   "execution_count": 71,
   "metadata": {},
   "outputs": [
    {
     "name": "stdout",
     "output_type": "stream",
     "text": [
      "##########\n",
      "##########\n",
      "##########\n",
      "##########\n",
      "##########\n",
      "##########\n",
      "##########\n",
      "##########\n",
      "##########\n",
      "##########\n"
     ]
    }
   ],
   "source": [
    "#07. \n",
    "a = 1\n",
    "b = 1\n",
    "while a <= 10 : \n",
    "    while b <= 10 : \n",
    "        print('#', end='')\n",
    "        b += 1\n",
    "    a += 1\n",
    "    print()\n",
    "    b = 1"
   ]
  },
  {
   "cell_type": "code",
   "execution_count": 76,
   "metadata": {
    "scrolled": true
   },
   "outputs": [
    {
     "name": "stdout",
     "output_type": "stream",
     "text": [
      "2*1=2\n",
      "2*2=4\n",
      "2*3=6\n",
      "2*4=8\n",
      "2*5=10\n",
      "2*6=12\n",
      "2*7=14\n",
      "2*8=16\n",
      "2*9=18\n",
      "\n",
      "3*1=3\n",
      "3*2=6\n",
      "3*3=9\n",
      "3*4=12\n",
      "3*5=15\n",
      "3*6=18\n",
      "3*7=21\n",
      "3*8=24\n",
      "3*9=27\n",
      "\n",
      "4*1=4\n",
      "4*2=8\n",
      "4*3=12\n",
      "4*4=16\n",
      "4*5=20\n",
      "4*6=24\n",
      "4*7=28\n",
      "4*8=32\n",
      "4*9=36\n",
      "\n",
      "5*1=5\n",
      "5*2=10\n",
      "5*3=15\n",
      "5*4=20\n",
      "5*5=25\n",
      "5*6=30\n",
      "5*7=35\n",
      "5*8=40\n",
      "5*9=45\n",
      "\n",
      "6*1=6\n",
      "6*2=12\n",
      "6*3=18\n",
      "6*4=24\n",
      "6*5=30\n",
      "6*6=36\n",
      "6*7=42\n",
      "6*8=48\n",
      "6*9=54\n",
      "\n",
      "7*1=7\n",
      "7*2=14\n",
      "7*3=21\n",
      "7*4=28\n",
      "7*5=35\n",
      "7*6=42\n",
      "7*7=49\n",
      "7*8=56\n",
      "7*9=63\n",
      "\n",
      "8*1=8\n",
      "8*2=16\n",
      "8*3=24\n",
      "8*4=32\n",
      "8*5=40\n",
      "8*6=48\n",
      "8*7=56\n",
      "8*8=64\n",
      "8*9=72\n",
      "\n",
      "9*1=9\n",
      "9*2=18\n",
      "9*3=27\n",
      "9*4=36\n",
      "9*5=45\n",
      "9*6=54\n",
      "9*7=63\n",
      "9*8=72\n",
      "9*9=81\n",
      "\n"
     ]
    }
   ],
   "source": [
    "#08. \n",
    "dan = 2\n",
    "cal = 1\n",
    "while dan <= 9 : \n",
    "    while cal <= 9 : \n",
    "        print(f'{dan}*{cal}={dan*cal}')\n",
    "        cal += 1\n",
    "    cal = 1\n",
    "    dan += 1\n",
    "    print()\n",
    "    "
   ]
  },
  {
   "cell_type": "code",
   "execution_count": 86,
   "metadata": {},
   "outputs": [
    {
     "name": "stdout",
     "output_type": "stream",
     "text": [
      "147583475\n",
      "244\n",
      "352\n",
      "41\n",
      "54\n",
      "최대 47583475 최소 1\n"
     ]
    }
   ],
   "source": [
    "### 09. \n",
    "num1 = int(input('1'))\n",
    "num2 = int(input('2'))\n",
    "num3 = int(input('3'))\n",
    "num4 = int(input('4'))\n",
    "num5 = int(input('5'))\n",
    "\n",
    "test = [num1, num2, num3, num4, num5]\n",
    "test.sort()\n",
    "max = test[-1]\n",
    "min = test[0]\n",
    "print(f'최대 {max} 최소 {min}')"
   ]
  },
  {
   "cell_type": "code",
   "execution_count": 91,
   "metadata": {},
   "outputs": [
    {
     "name": "stdout",
     "output_type": "stream",
     "text": [
      "숫자 입력하세요 : 5\n",
      "숫자 입력하세요 : 2\n",
      "숫자 입력하세요 : 7\n",
      "숫자 입력하세요 : 6\n",
      "숫자 입력하세요 : 8\n",
      "최댓값 8, 최솟값 2\n"
     ]
    }
   ],
   "source": [
    "#09 re\n",
    "no = 1\n",
    "list1 = []\n",
    "while no <= 5 : \n",
    "    num = int(input('숫자 입력하세요 : '))\n",
    "    list1.append(num)\n",
    "    no += 1\n",
    "max = list1[0]\n",
    "min = list1[0]\n",
    "\n",
    "no = 1\n",
    "while no <= 4 : \n",
    "    if list1[no] > max : \n",
    "        max = list1[no]\n",
    "    if list1[no] < min : \n",
    "        min = list1[no]\n",
    "    no += 1\n",
    "\n",
    "print(f'최댓값 {max}, 최솟값 {min}')\n"
   ]
  },
  {
   "cell_type": "code",
   "execution_count": 98,
   "metadata": {},
   "outputs": [
    {
     "name": "stdout",
     "output_type": "stream",
     "text": [
      "문자열 입력하세요 : Pusan National University\n",
      "찾을 문자를 입력하세요 : a\n",
      "\n",
      "입력 문자열 Pusan National University\n",
      "찾을 문자 a\n",
      "찾을 문자 위치 4\n",
      "문자 개수 3\n"
     ]
    }
   ],
   "source": [
    "#10. \n",
    "str3 = input('문자열 입력하세요 : ')\n",
    "searchChar = input('찾을 문자를 입력하세요 : ')\n",
    "\n",
    "count = 0\n",
    "no = 0 \n",
    "lock = 0\n",
    "\n",
    "while no <= (len(str3)-1) : \n",
    "    if str3[no] == searchChar : \n",
    "        count += 1\n",
    "        if lock == 0 : \n",
    "            findIndex = no+1\n",
    "            lock = 1\n",
    "    no += 1\n",
    "print()\n",
    "print(f'입력 문자열 {str3}')\n",
    "print(f'찾을 문자 {searchChar}')\n",
    "print(f'찾을 문자 위치 {findIndex}')\n",
    "print(f'문자 개수 {count}')"
   ]
  },
  {
   "cell_type": "code",
   "execution_count": null,
   "metadata": {},
   "outputs": [],
   "source": []
  },
  {
   "cell_type": "code",
   "execution_count": null,
   "metadata": {},
   "outputs": [],
   "source": []
  },
  {
   "cell_type": "code",
   "execution_count": null,
   "metadata": {},
   "outputs": [],
   "source": []
  }
 ],
 "metadata": {
  "kernelspec": {
   "display_name": "Python 3",
   "language": "python",
   "name": "python3"
  },
  "language_info": {
   "codemirror_mode": {
    "name": "ipython",
    "version": 3
   },
   "file_extension": ".py",
   "mimetype": "text/x-python",
   "name": "python",
   "nbconvert_exporter": "python",
   "pygments_lexer": "ipython3",
   "version": "3.8.5"
  }
 },
 "nbformat": 4,
 "nbformat_minor": 4
}
