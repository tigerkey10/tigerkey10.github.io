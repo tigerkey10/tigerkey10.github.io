{
 "cells": [
  {
   "cell_type": "markdown",
   "metadata": {},
   "source": [
    "# 튜플 : 삽입.삭제.수정 불가한 리스트 \n",
    "## 여러 자료형 한번에 담을 수 있다. \n",
    "## 순서가 있는 시퀀스 자료형이다. "
   ]
  },
  {
   "cell_type": "code",
   "execution_count": 5,
   "metadata": {},
   "outputs": [],
   "source": [
    "t = 3,4,5 # 패킹\n",
    "t1,t2,t3 = t # 언패킹 "
   ]
  },
  {
   "cell_type": "markdown",
   "metadata": {},
   "source": [
    "### 튜플 내부에는 여러 자료형이 동시에 들어갈 수 있다. "
   ]
  },
  {
   "cell_type": "code",
   "execution_count": 14,
   "metadata": {},
   "outputs": [
    {
     "data": {
      "text/plain": [
       "[1, 2, 3]"
      ]
     },
     "execution_count": 14,
     "metadata": {},
     "output_type": "execute_result"
    }
   ],
   "source": [
    "t1= ([1,2,3],{3,4,5}, 3,'a',{'a':1,'b':2}) \n",
    "t1[0]"
   ]
  },
  {
   "cell_type": "markdown",
   "metadata": {},
   "source": [
    "순서 있는 시퀀스 자료형이어서 당연히 인덱싱이 된다. "
   ]
  },
  {
   "cell_type": "code",
   "execution_count": 15,
   "metadata": {},
   "outputs": [
    {
     "data": {
      "text/plain": [
       "'a'"
      ]
     },
     "execution_count": 15,
     "metadata": {},
     "output_type": "execute_result"
    }
   ],
   "source": [
    "t1[3]"
   ]
  },
  {
   "cell_type": "code",
   "execution_count": 16,
   "metadata": {},
   "outputs": [
    {
     "data": {
      "text/plain": [
       "{'a': 1, 'b': 2}"
      ]
     },
     "execution_count": 16,
     "metadata": {},
     "output_type": "execute_result"
    }
   ],
   "source": [
    "t1[4]"
   ]
  },
  {
   "cell_type": "markdown",
   "metadata": {},
   "source": [
    "### 튜플의 연산 : 자기자신 * 실수 곱 , 튜플+튜플 "
   ]
  },
  {
   "cell_type": "code",
   "execution_count": 20,
   "metadata": {},
   "outputs": [
    {
     "data": {
      "text/plain": [
       "(3, 4, 5, 3, 4, 5)"
      ]
     },
     "execution_count": 20,
     "metadata": {},
     "output_type": "execute_result"
    }
   ],
   "source": [
    "t*2"
   ]
  },
  {
   "cell_type": "code",
   "execution_count": 22,
   "metadata": {},
   "outputs": [
    {
     "data": {
      "text/plain": [
       "([1, 2, 3], {3, 4, 5}, 3, 'a', {'a': 1, 'b': 2}, 3, 4, 5)"
      ]
     },
     "execution_count": 22,
     "metadata": {},
     "output_type": "execute_result"
    }
   ],
   "source": [
    "t1+t # t1,t 라는 원래 튜플은 그대로 놔두고 새 튜플 생성. \n",
    "# 당연히 수정.삽입.삭제 안 된다. "
   ]
  },
  {
   "cell_type": "code",
   "execution_count": 41,
   "metadata": {},
   "outputs": [
    {
     "data": {
      "text/plain": [
       "[1, 2, 3, 1, 2, 3, 1, 2, 3, 1, 2, 3]"
      ]
     },
     "execution_count": 41,
     "metadata": {},
     "output_type": "execute_result"
    }
   ],
   "source": [
    "l1 = [1,2,3]\n",
    "l1.extend((1,2,3))\n",
    "l1.extend({1,2,3})\n",
    "l1.extend([1,2,3])\n",
    "l1"
   ]
  },
  {
   "cell_type": "code",
   "execution_count": 42,
   "metadata": {},
   "outputs": [
    {
     "data": {
      "text/plain": [
       "6"
      ]
     },
     "execution_count": 42,
     "metadata": {},
     "output_type": "execute_result"
    }
   ],
   "source": [
    "from functools import reduce # 누적연산함수 \n",
    "reduce(lambda x, y : x+y, [1,2,3],0)"
   ]
  },
  {
   "cell_type": "markdown",
   "metadata": {},
   "source": [
    "# zip() 함수\n",
    "## 여러 반복가능자를 인수로 받는다. \n",
    "## 여러 반복가능자에서 인덱스 같은 것 끼리 묶은 튜플 반환한다. (반복가능자 간 크기 달라도 된다. )\n",
    "## 묶은 결과물 보려면 list(), 튜플 등으로 묶거나 언패킹 하면 된다. "
   ]
  },
  {
   "cell_type": "code",
   "execution_count": 81,
   "metadata": {},
   "outputs": [
    {
     "data": {
      "text/plain": [
       "(('hello', 1), ('world', 2))"
      ]
     },
     "execution_count": 81,
     "metadata": {},
     "output_type": "execute_result"
    }
   ],
   "source": [
    "list1 = ['hello','world']\n",
    "tuple1 = 1,2,3,4\n",
    "tuple(zip(list1, tuple1))"
   ]
  },
  {
   "cell_type": "code",
   "execution_count": 61,
   "metadata": {},
   "outputs": [
    {
     "data": {
      "text/plain": [
       "[('c', 'hello'), ('b', 'world')]"
      ]
     },
     "execution_count": 61,
     "metadata": {},
     "output_type": "execute_result"
    }
   ],
   "source": [
    "dic1 = {'c':1,'b':2, 'z':'z'}\n",
    "zip1 = list(zip(dic1, list1)) #딕셔너리의 경우 key가 인덱스로 작용하면서 key 순서대로 묶인다. \n",
    "zip1"
   ]
  },
  {
   "cell_type": "code",
   "execution_count": 76,
   "metadata": {},
   "outputs": [
    {
     "data": {
      "text/plain": [
       "('hello', 'world')"
      ]
     },
     "execution_count": 76,
     "metadata": {},
     "output_type": "execute_result"
    }
   ],
   "source": [
    "# 튜플 언패킹 \n",
    "a,b = zip(*zip1) #인수로 넣어줬던 원래 반복가능자 반환 \n",
    "a\n",
    "b"
   ]
  },
  {
   "cell_type": "code",
   "execution_count": 92,
   "metadata": {},
   "outputs": [
    {
     "data": {
      "text/plain": [
       "[('hello',), ('world',), ('python',)]"
      ]
     },
     "execution_count": 92,
     "metadata": {},
     "output_type": "execute_result"
    }
   ],
   "source": [
    "list3 = ['hello', 'world', 'python']\n",
    "zip3 = zip(list3)\n",
    "list(zip3)"
   ]
  },
  {
   "cell_type": "code",
   "execution_count": 91,
   "metadata": {},
   "outputs": [
    {
     "name": "stdout",
     "output_type": "stream",
     "text": [
      "('hello',) ('world',) ('python',)\n"
     ]
    }
   ],
   "source": [
    "a,b,c = zip(list3)\n",
    "print(a,b,c)"
   ]
  },
  {
   "cell_type": "markdown",
   "metadata": {},
   "source": [
    "# 2_1 zip함수 실습 "
   ]
  },
  {
   "cell_type": "code",
   "execution_count": 97,
   "metadata": {},
   "outputs": [
    {
     "data": {
      "text/plain": [
       "[(1, 4), (2, 5), (3, 6)]"
      ]
     },
     "execution_count": 97,
     "metadata": {},
     "output_type": "execute_result"
    }
   ],
   "source": [
    "#1. \n",
    "list(zip([1,2,3],[4,5,6]))"
   ]
  },
  {
   "cell_type": "code",
   "execution_count": 99,
   "metadata": {},
   "outputs": [
    {
     "data": {
      "text/plain": [
       "[(1, 4, 7), (2, 5, 8), (3, 6, 9)]"
      ]
     },
     "execution_count": 99,
     "metadata": {},
     "output_type": "execute_result"
    }
   ],
   "source": [
    "#2. \n",
    "list(zip([1,2,3],[4,5,6],[7,8,9]))"
   ]
  },
  {
   "cell_type": "code",
   "execution_count": 100,
   "metadata": {},
   "outputs": [
    {
     "data": {
      "text/plain": [
       "[('a', 'd'), ('b', 'e'), ('c', 'f')]"
      ]
     },
     "execution_count": 100,
     "metadata": {},
     "output_type": "execute_result"
    }
   ],
   "source": [
    "#3. \n",
    "list(zip('abc','def'))"
   ]
  },
  {
   "cell_type": "code",
   "execution_count": 102,
   "metadata": {},
   "outputs": [
    {
     "name": "stdout",
     "output_type": "stream",
     "text": [
      "(1, 40)(2, 50)(3, 60)"
     ]
    }
   ],
   "source": [
    "#4. \n",
    "mylist = [1,2,3]\n",
    "new_list = [40,50,60]\n",
    "for i in zip(mylist, new_list) : \n",
    "    print(i, end='')"
   ]
  },
  {
   "cell_type": "code",
   "execution_count": 104,
   "metadata": {},
   "outputs": [
    {
     "data": {
      "text/plain": [
       "[[1, 4, 7], [2, 5, 8], [3, 6, 9]]"
      ]
     },
     "execution_count": 104,
     "metadata": {},
     "output_type": "execute_result"
    }
   ],
   "source": [
    "#5. \n",
    "mylist = [[1,2,3],[4,5,6],[7,8,9]]\n",
    "new_list = list(map(list, zip(*mylist)))\n",
    "new_list"
   ]
  },
  {
   "cell_type": "code",
   "execution_count": 27,
   "metadata": {},
   "outputs": [
    {
     "name": "stdout",
     "output_type": "stream",
     "text": [
      "1100가\n",
      "2120나\n",
      "3130다\n",
      "4140라\n"
     ]
    }
   ],
   "source": [
    "list1 = ['1','2','3','4']\n",
    "list2 = ['100','120','130','140']\n",
    "list3 = ['가','나','다','라']\n",
    "\n",
    "for a,b,c in zip(list1, list2, list3) : \n",
    "    print(a+b+c)"
   ]
  },
  {
   "cell_type": "code",
   "execution_count": null,
   "metadata": {},
   "outputs": [],
   "source": []
  },
  {
   "cell_type": "markdown",
   "metadata": {},
   "source": [
    "# 파이썬 기초 복습 _ 클래스 "
   ]
  },
  {
   "cell_type": "code",
   "execution_count": 46,
   "metadata": {},
   "outputs": [
    {
     "name": "stdout",
     "output_type": "stream",
     "text": [
      "이름은 홍길동 입니다\n"
     ]
    }
   ],
   "source": [
    "class person : \n",
    "    name = '홍길동' #attribute\n",
    "    job = 'data scientist' # attribute\n",
    "    def Print(self) : \n",
    "        return print('이름은',self.name,'입니다')\n",
    "person.Print(person)"
   ]
  },
  {
   "cell_type": "code",
   "execution_count": 54,
   "metadata": {},
   "outputs": [
    {
     "data": {
      "text/plain": [
       "3"
      ]
     },
     "execution_count": 54,
     "metadata": {},
     "output_type": "execute_result"
    }
   ],
   "source": [
    "# car 객체 생성해보기 \n",
    "class car : \n",
    "    color = 'red'\n",
    "    speed = 0\n",
    "    def raise_speed(self, value) :\n",
    "        self.speed += value\n",
    "    def speeddown(self, value) : \n",
    "        self.speed -= value\n",
    "car.raise_speed(car, 3)\n",
    "car.speed"
   ]
  },
  {
   "cell_type": "code",
   "execution_count": 70,
   "metadata": {},
   "outputs": [
    {
     "data": {
      "text/plain": [
       "-117"
      ]
     },
     "execution_count": 70,
     "metadata": {},
     "output_type": "execute_result"
    }
   ],
   "source": [
    "car.speeddown(car, 10)\n",
    "car.speed"
   ]
  },
  {
   "cell_type": "markdown",
   "metadata": {},
   "source": [
    "# 객체 생성 방법 \n",
    "## a(객체이름) = 클래스이름(init__초깃값)"
   ]
  },
  {
   "cell_type": "markdown",
   "metadata": {},
   "source": [
    "# a = person() 일 때 \n",
    "## a는 객체object.\n",
    "## a는 person 클래스의 인스턴스 "
   ]
  },
  {
   "cell_type": "markdown",
   "metadata": {},
   "source": [
    "# 생성자 __init__()"
   ]
  },
  {
   "cell_type": "code",
   "execution_count": 77,
   "metadata": {},
   "outputs": [
    {
     "ename": "TypeError",
     "evalue": "__init__() missing 1 required positional argument: 'name'",
     "output_type": "error",
     "traceback": [
      "\u001b[0;31m---------------------------------------------------------------------------\u001b[0m",
      "\u001b[0;31mTypeError\u001b[0m                                 Traceback (most recent call last)",
      "\u001b[0;32m<ipython-input-77-5f60bce3a43c>\u001b[0m in \u001b[0;36m<module>\u001b[0;34m\u001b[0m\n\u001b[1;32m      3\u001b[0m     \u001b[0;32mdef\u001b[0m \u001b[0m__init__\u001b[0m\u001b[0;34m(\u001b[0m\u001b[0mself\u001b[0m\u001b[0;34m,\u001b[0m \u001b[0mname\u001b[0m\u001b[0;34m)\u001b[0m \u001b[0;34m:\u001b[0m\u001b[0;34m\u001b[0m\u001b[0;34m\u001b[0m\u001b[0m\n\u001b[1;32m      4\u001b[0m         \u001b[0mself\u001b[0m\u001b[0;34m.\u001b[0m\u001b[0mmyname\u001b[0m\u001b[0;34m=\u001b[0m\u001b[0mname\u001b[0m\u001b[0;34m\u001b[0m\u001b[0;34m\u001b[0m\u001b[0m\n\u001b[0;32m----> 5\u001b[0;31m \u001b[0ma\u001b[0m \u001b[0;34m=\u001b[0m \u001b[0mPerson\u001b[0m\u001b[0;34m(\u001b[0m\u001b[0;34m)\u001b[0m\u001b[0;34m\u001b[0m\u001b[0;34m\u001b[0m\u001b[0m\n\u001b[0m",
      "\u001b[0;31mTypeError\u001b[0m: __init__() missing 1 required positional argument: 'name'"
     ]
    }
   ],
   "source": [
    "class Person : \n",
    "    myname = ''\n",
    "    def __init__(self, name) : \n",
    "        self.myname=name\n",
    "a = Person()"
   ]
  },
  {
   "cell_type": "markdown",
   "metadata": {},
   "source": [
    "# IMPORTANT중요 : init()메서드로 생성자 클래스에 넣을 경우, \n",
    "# 객체 처음 생성할 때 괄호 안에 init이 받아 초깃값으로 쓸 값 함께 넣어줘야 된다. "
   ]
  },
  {
   "cell_type": "code",
   "execution_count": 85,
   "metadata": {},
   "outputs": [
    {
     "name": "stdout",
     "output_type": "stream",
     "text": [
      "45\n",
      "홍길동\n"
     ]
    }
   ],
   "source": [
    "class person : \n",
    "    def __init__(self, name, age) :  # 객체가 처음 호출 될 때. self는 자동으로 객체 자기자신 받는다. name과 age 라는 초깃값 객체 생성할 때 입력해 줘야 된다. \n",
    "        self.name = name\n",
    "        self.age = age\n",
    "people = person('홍길동', 45) # 어차피 name attribute 초깃값으로 입력해준 값이 들어갈 거라 따로 name=''이렇게 없어도 된다. \n",
    "print(people.age)\n",
    "print(people.name)"
   ]
  },
  {
   "cell_type": "markdown",
   "metadata": {},
   "source": [
    "# 클래스는 '과자굽는 틀'이다. "
   ]
  },
  {
   "cell_type": "code",
   "execution_count": 92,
   "metadata": {},
   "outputs": [
    {
     "name": "stdout",
     "output_type": "stream",
     "text": [
      "이름은 홍길동 입니다\n"
     ]
    }
   ],
   "source": [
    "# 다시 실습해보자. \n",
    "class person : \n",
    "    name = '홍길동'\n",
    "    def pp(self) : \n",
    "        print('이름은',self.name,'입니다') # self로 객체 자기자신 인수로 받는다(자동으로). 그 후 객체의 name attribute를 print한다. \n",
    "p1 = person()\n",
    "p1.pp() # self 인수는 객체 호출할 때 '자동으로' 받는다. "
   ]
  },
  {
   "cell_type": "code",
   "execution_count": 96,
   "metadata": {},
   "outputs": [
    {
     "data": {
      "text/plain": [
       "'red'"
      ]
     },
     "execution_count": 96,
     "metadata": {},
     "output_type": "execute_result"
    }
   ],
   "source": [
    "#2. \n",
    "class car : \n",
    "    color = '' \n",
    "    speed = 0\n",
    "    def __init__(self, color) : #color는 초깃값으로, 객체 호출할 때 넣어줘야 된다. \n",
    "        self.color = color \n",
    "    def speedup(self, value) : \n",
    "        self.speed += value \n",
    "    def speeddown(self, value) : \n",
    "        self.speed -= value\n",
    "c1 = car('red')\n",
    "c1.color"
   ]
  },
  {
   "cell_type": "code",
   "execution_count": 110,
   "metadata": {},
   "outputs": [
    {
     "data": {
      "text/plain": [
       "390"
      ]
     },
     "execution_count": 110,
     "metadata": {},
     "output_type": "execute_result"
    }
   ],
   "source": [
    "c1.speedup(30)\n",
    "c1.speed"
   ]
  },
  {
   "cell_type": "code",
   "execution_count": 127,
   "metadata": {},
   "outputs": [
    {
     "data": {
      "text/plain": [
       "70"
      ]
     },
     "execution_count": 127,
     "metadata": {},
     "output_type": "execute_result"
    }
   ],
   "source": [
    "c1.speeddown(20)\n",
    "c1.speed"
   ]
  },
  {
   "cell_type": "markdown",
   "metadata": {},
   "source": [
    "# 추상화.클래스 상속 "
   ]
  },
  {
   "cell_type": "code",
   "execution_count": 180,
   "metadata": {},
   "outputs": [
    {
     "name": "stdout",
     "output_type": "stream",
     "text": [
      "이름은 홍길동입니다\n",
      "음식은 햄버거입니다\n"
     ]
    }
   ],
   "source": [
    "class person : \n",
    "    def talk(self, name) : \n",
    "        return print(f'이름은 {name}입니다')\n",
    "    def sleeping(self) : \n",
    "        pass\n",
    "    def eat(self, food) : \n",
    "        return print(f'음식은 {food}입니다')\n",
    "\n",
    "class student(person) : # person를 상위클래스로 보고, 상속했다. 이제 student 클래스로 만든 객체에서도 같은 attribute, method 사용할 수 있다. \n",
    "    def study(self) : # 메서드 첫번째 매개변수는 관례적으로 self가 항상 들어간다. \n",
    "        print('hello world')\n",
    "        \n",
    "s1 = student()\n",
    "s1.talk('홍길동')\n",
    "s1.sleeping()\n",
    "s1.eat('햄버거')"
   ]
  },
  {
   "cell_type": "code",
   "execution_count": 150,
   "metadata": {},
   "outputs": [
    {
     "name": "stdout",
     "output_type": "stream",
     "text": [
      "음식은 햄버거입니다\n"
     ]
    }
   ],
   "source": [
    "s1.eat('햄버거')"
   ]
  },
  {
   "cell_type": "code",
   "execution_count": 175,
   "metadata": {
    "scrolled": true
   },
   "outputs": [
    {
     "ename": "TypeError",
     "evalue": "study() takes 0 positional arguments but 1 was given",
     "output_type": "error",
     "traceback": [
      "\u001b[0;31m---------------------------------------------------------------------------\u001b[0m",
      "\u001b[0;31mTypeError\u001b[0m                                 Traceback (most recent call last)",
      "\u001b[0;32m<ipython-input-175-9b025f690fe0>\u001b[0m in \u001b[0;36m<module>\u001b[0;34m\u001b[0m\n\u001b[0;32m----> 1\u001b[0;31m \u001b[0ms1\u001b[0m\u001b[0;34m.\u001b[0m\u001b[0mstudy\u001b[0m\u001b[0;34m(\u001b[0m\u001b[0;34m)\u001b[0m \u001b[0;31m#self, 객체 호출 할 때 자기자신을 항상 불러오는데, study()에 self 받을 수 있는 부분 없어서 그렇다.\u001b[0m\u001b[0;34m\u001b[0m\u001b[0;34m\u001b[0m\u001b[0m\n\u001b[0m\u001b[1;32m      2\u001b[0m \u001b[0;31m# 객체 메서드에는 항상 self를 적어주자.\u001b[0m\u001b[0;34m\u001b[0m\u001b[0;34m\u001b[0m\u001b[0;34m\u001b[0m\u001b[0m\n",
      "\u001b[0;31mTypeError\u001b[0m: study() takes 0 positional arguments but 1 was given"
     ]
    }
   ],
   "source": [
    "s1.study() #self, 객체 호출 할 때 자기자신을 항상 불러오는데, study()에 self 받을 수 있는 부분 없어서 그렇다. \n",
    "# 객체 메서드에는 항상 self를 적어주자. "
   ]
  },
  {
   "cell_type": "code",
   "execution_count": 181,
   "metadata": {},
   "outputs": [
    {
     "name": "stdout",
     "output_type": "stream",
     "text": [
      "hello world\n"
     ]
    }
   ],
   "source": [
    "student.study(student)"
   ]
  },
  {
   "cell_type": "code",
   "execution_count": 182,
   "metadata": {},
   "outputs": [
    {
     "name": "stdout",
     "output_type": "stream",
     "text": [
      "hello world\n"
     ]
    }
   ],
   "source": [
    "s1.study()"
   ]
  },
  {
   "cell_type": "markdown",
   "metadata": {},
   "source": [
    "# 클래스 상속 방법 : \n",
    "## class 클래스 이름(상속받을 클래스 이름) : \n",
    "## 하위 클래스에서는 이제 그럼 상위클래스의 attribute, method 이용할 수 있게 된다. "
   ]
  },
  {
   "cell_type": "markdown",
   "metadata": {},
   "source": [
    "# 도전하기 "
   ]
  },
  {
   "cell_type": "code",
   "execution_count": 194,
   "metadata": {},
   "outputs": [
    {
     "name": "stdout",
     "output_type": "stream",
     "text": [
      "트럼프\n",
      "이름은 트럼프 입니다\n"
     ]
    }
   ],
   "source": [
    "#01. \n",
    "class Person : \n",
    "    def __init__(self, name) : \n",
    "        self.name = name\n",
    "    def Print(self) : \n",
    "        print('이름은',self.name,'입니다')\n",
    "p1 = Person('트럼프')\n",
    "print(p1.name)\n",
    "p1.Print()"
   ]
  },
  {
   "cell_type": "code",
   "execution_count": 204,
   "metadata": {},
   "outputs": [
    {
     "name": "stdout",
     "output_type": "stream",
     "text": [
      "이름은 도우너 입니다\n",
      "나이는 23 입니다\n"
     ]
    }
   ],
   "source": [
    "#02. \n",
    "class Person : \n",
    "    name = '입력이 필요'\n",
    "    age = '입력이 필요'\n",
    "    def talk(self, name, age) : \n",
    "        self.name = name\n",
    "        self.age = age\n",
    "        print('이름은',self.name,'입니다')\n",
    "        print('나이는',self.age,'입니다')\n",
    "p2 = Person()\n",
    "p2.talk('도우너','23')"
   ]
  },
  {
   "cell_type": "code",
   "execution_count": null,
   "metadata": {},
   "outputs": [],
   "source": []
  },
  {
   "cell_type": "code",
   "execution_count": null,
   "metadata": {},
   "outputs": [],
   "source": []
  }
 ],
 "metadata": {
  "kernelspec": {
   "display_name": "Python 3",
   "language": "python",
   "name": "python3"
  },
  "language_info": {
   "codemirror_mode": {
    "name": "ipython",
    "version": 3
   },
   "file_extension": ".py",
   "mimetype": "text/x-python",
   "name": "python",
   "nbconvert_exporter": "python",
   "pygments_lexer": "ipython3",
   "version": "3.8.5"
  }
 },
 "nbformat": 4,
 "nbformat_minor": 4
}
