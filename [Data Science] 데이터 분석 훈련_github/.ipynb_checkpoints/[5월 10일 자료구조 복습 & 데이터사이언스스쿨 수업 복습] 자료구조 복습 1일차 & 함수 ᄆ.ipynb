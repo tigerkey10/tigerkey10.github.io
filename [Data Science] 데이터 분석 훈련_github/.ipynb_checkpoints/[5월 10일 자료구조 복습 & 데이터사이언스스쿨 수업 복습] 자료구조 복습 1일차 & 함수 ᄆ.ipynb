{
 "cells": [
  {
   "cell_type": "markdown",
   "metadata": {},
   "source": [
    "난수 생성 알고리즘의 실행시간 time 모듈로 '직접' 측정하기 "
   ]
  },
  {
   "cell_type": "code",
   "execution_count": 13,
   "metadata": {},
   "outputs": [
    {
     "name": "stdout",
     "output_type": "stream",
     "text": [
      "--7.1e-05 second--\n"
     ]
    }
   ],
   "source": [
    "import random\n",
    "import time\n",
    "\n",
    "random.seed(time.time()) # 지금 현재 시간에 대해 시드 생성 후 난수 추출\n",
    "a = []\n",
    "for i in range(100) : \n",
    "    a.append(random.randint(1, 1000))\n",
    "\n",
    "start_time = time.time()\n",
    "print('--%s second--' %(round(time.time()-start_time,6)))"
   ]
  },
  {
   "cell_type": "code",
   "execution_count": null,
   "metadata": {},
   "outputs": [],
   "source": []
  },
  {
   "cell_type": "markdown",
   "metadata": {},
   "source": [
    "파이썬 기초 복습"
   ]
  },
  {
   "cell_type": "code",
   "execution_count": 15,
   "metadata": {},
   "outputs": [
    {
     "name": "stdout",
     "output_type": "stream",
     "text": [
      "온스oz 무게 입력 : 200\n",
      "5670.0\n"
     ]
    }
   ],
   "source": [
    "#07\n",
    "oz_weight = float(input('온스oz 무게 입력 : '))\n",
    "kg_weight = 28.35*oz_weight\n",
    "print(kg_weight)"
   ]
  },
  {
   "cell_type": "code",
   "execution_count": 18,
   "metadata": {},
   "outputs": [
    {
     "name": "stdout",
     "output_type": "stream",
     "text": [
      "이름 입력 : 홍길동\n",
      "나이 입력 : 13\n",
      "이름은 홍길동이고 나이는13입니다\n"
     ]
    }
   ],
   "source": [
    "#11\n",
    "name = input('이름 입력 : ')\n",
    "age = input('나이 입력 : ')\n",
    "print('이름은 {0}이고 나이는{1}입니다' .format(name, age))"
   ]
  },
  {
   "cell_type": "code",
   "execution_count": 21,
   "metadata": {},
   "outputs": [
    {
     "name": "stdout",
     "output_type": "stream",
     "text": [
      "이름 입력 : 둘리\n",
      "나이 입력 : 233\n",
      "이름은 둘리 이고 나이는 233 입니다\n"
     ]
    }
   ],
   "source": [
    "#f_string\n",
    "name = input('이름 입력 : ')\n",
    "age = input('나이 입력 : ')\n",
    "print(f'이름은 {name} 이고 나이는 {age} 입니다')"
   ]
  },
  {
   "cell_type": "code",
   "execution_count": 27,
   "metadata": {},
   "outputs": [
    {
     "name": "stdout",
     "output_type": "stream",
     "text": [
      "국어 점수 입력하세요 : 89\n",
      "영어 점수 입력하세요 : 99\n",
      "국어점수는 89.0점 이고, 영어 점수는 99.0점 입니다\n",
      "국어와 영어의 평균은 94.0점 입니다\n"
     ]
    }
   ],
   "source": [
    "#12\n",
    "korean = float(input('국어 점수 입력하세요 : '))\n",
    "english = float(input('영어 점수 입력하세요 : '))\n",
    "\n",
    "total_score = sum([korean, english])\n",
    "mean = (korean+english)/2\n",
    "print('국어점수는 {0}점 이고, 영어 점수는 {1}점 입니다'.format(korean, english))\n",
    "print('국어와 영어의 평균은 {0}점 입니다' .format(mean))"
   ]
  },
  {
   "cell_type": "code",
   "execution_count": 45,
   "metadata": {},
   "outputs": [
    {
     "data": {
      "text/plain": [
       "0"
      ]
     },
     "execution_count": 45,
     "metadata": {},
     "output_type": "execute_result"
    }
   ],
   "source": [
    "# count()\n",
    "len('dd')\n",
    "a = 'dfsdfasdf'.find('sd')\n",
    "'asdf'.index('a')"
   ]
  },
  {
   "cell_type": "code",
   "execution_count": 51,
   "metadata": {},
   "outputs": [
    {
     "name": "stdout",
     "output_type": "stream",
     "text": [
      "5\n",
      "5\n"
     ]
    }
   ],
   "source": [
    "text = '증권가의 중심 여의도초등학교'\n",
    "#.find()\n",
    "print(text.find('중'))\n",
    "print(text.index('중'))"
   ]
  },
  {
   "cell_type": "code",
   "execution_count": 57,
   "metadata": {},
   "outputs": [
    {
     "data": {
      "text/plain": [
       "'a증권가의 중심 여의도초등학교 증권가의 중심 여의도초등학교b증권가의 중심 여의도초등학교c증권가의 중심 여의도초등학교d증권가의 중심 여의도초등학교c'"
      ]
     },
     "execution_count": 57,
     "metadata": {},
     "output_type": "execute_result"
    }
   ],
   "source": [
    "text.join('a bcdc')"
   ]
  },
  {
   "cell_type": "code",
   "execution_count": 59,
   "metadata": {},
   "outputs": [
    {
     "data": {
      "text/plain": [
       "'ABCDEFG'"
      ]
     },
     "execution_count": 59,
     "metadata": {},
     "output_type": "execute_result"
    }
   ],
   "source": [
    "# upper()\n",
    "text2 = 'abcdefg'\n",
    "text2.upper()"
   ]
  },
  {
   "cell_type": "code",
   "execution_count": 60,
   "metadata": {},
   "outputs": [
    {
     "data": {
      "text/plain": [
       "'abcdefg'"
      ]
     },
     "execution_count": 60,
     "metadata": {},
     "output_type": "execute_result"
    }
   ],
   "source": [
    "text2.lower()"
   ]
  },
  {
   "cell_type": "code",
   "execution_count": 66,
   "metadata": {},
   "outputs": [
    {
     "name": "stdout",
     "output_type": "stream",
     "text": [
      "남한강 굽이치는 \n",
      "개굼초등학교\n"
     ]
    }
   ],
   "source": [
    "text3 = '남한강 굽이치는 -개굼초등학교'\n",
    "list1 = text3.split('-')\n",
    "print(list1[0])\n",
    "print(list1[1])"
   ]
  },
  {
   "cell_type": "code",
   "execution_count": 70,
   "metadata": {},
   "outputs": [
    {
     "data": {
      "text/plain": [
       "'0x41'"
      ]
     },
     "execution_count": 70,
     "metadata": {},
     "output_type": "execute_result"
    }
   ],
   "source": [
    "# 16진수로 나타내기 hex()\n",
    "hex(65)"
   ]
  },
  {
   "cell_type": "markdown",
   "metadata": {},
   "source": [
    "# 도전하기 \n",
    "- 0b : 이진수 - bin()\n",
    "- 0o : 8진수 - oct()\n",
    "- 0x : 16진수 - hex()\n",
    "- ord(문자) : 문자열 하나를 아스키코드로 반환\n",
    "- chr(숫자) : 숫자를 아스키코드로 반환"
   ]
  },
  {
   "cell_type": "code",
   "execution_count": 87,
   "metadata": {
    "scrolled": true
   },
   "outputs": [
    {
     "name": "stdout",
     "output_type": "stream",
     "text": [
      "정수 숫자를 입력하세요 : 88\n",
      "0x58\n",
      "0o130\n",
      "0b1011000\n",
      "X\n"
     ]
    }
   ],
   "source": [
    "#1. \n",
    "number = int(input('정수 숫자를 입력하세요 : '))\n",
    "\n",
    "#16진수 \n",
    "print(hex(number))\n",
    "# 8진수 \n",
    "print(oct(number))\n",
    "# 2진수 \n",
    "print(bin(number))\n",
    "\n",
    "#ascii 문자 \n",
    "print(chr(number))"
   ]
  },
  {
   "cell_type": "code",
   "execution_count": 92,
   "metadata": {},
   "outputs": [
    {
     "data": {
      "text/plain": [
       "97"
      ]
     },
     "execution_count": 92,
     "metadata": {},
     "output_type": "execute_result"
    }
   ],
   "source": [
    "ord('a')"
   ]
  },
  {
   "cell_type": "markdown",
   "metadata": {},
   "source": [
    "# 복소수 자료형 : complex"
   ]
  },
  {
   "cell_type": "code",
   "execution_count": 94,
   "metadata": {},
   "outputs": [
    {
     "name": "stdout",
     "output_type": "stream",
     "text": [
      "복소수 1 입력하세요 : 33\n",
      "복소수 2 입력하세요 : 89\n",
      "(33+0j) (89+0j) <class 'complex'> <class 'complex'> "
     ]
    }
   ],
   "source": [
    "#2. \n",
    "com_1 = complex(input('복소수 1 입력하세요 : '))\n",
    "com_2 = complex(input('복소수 2 입력하세요 : '))\n",
    "\n",
    "print(com_1, com_2, end=' ')\n",
    "print(type(com_1), type(com_2), end=' ')"
   ]
  },
  {
   "cell_type": "code",
   "execution_count": 95,
   "metadata": {},
   "outputs": [
    {
     "name": "stdout",
     "output_type": "stream",
     "text": [
      "실수를 입력하세요 : 33.23123\n",
      "33\n"
     ]
    }
   ],
   "source": [
    "#3. \n",
    "floatNumber = float(input('실수를 입력하세요 : '))\n",
    "print(round(floatNumber))"
   ]
  },
  {
   "cell_type": "code",
   "execution_count": 97,
   "metadata": {},
   "outputs": [
    {
     "name": "stdout",
     "output_type": "stream",
     "text": [
      "반지름을 입력하세요 : 33\n",
      "원의 면적1089.0\n"
     ]
    }
   ],
   "source": [
    "#4. \n",
    "num = float(input('반지름을 입력하세요 : '))\n",
    "print(f'원의 면적{num**2}')\n"
   ]
  },
  {
   "cell_type": "code",
   "execution_count": 100,
   "metadata": {},
   "outputs": [
    {
     "name": "stdout",
     "output_type": "stream",
     "text": [
      "첫번째 숫자 입력 : 33\n",
      "두번째 숫자 입력 : 3\n",
      "몫 : 11.0\n",
      "나머지 : 0.0\n"
     ]
    }
   ],
   "source": [
    "#5. \n",
    "a = float(input('첫번째 숫자 입력 : '))\n",
    "b = float(input('두번째 숫자 입력 : '))\n",
    "print(f'몫 : {a//b}')\n",
    "print(f'나머지 : {a%b}')"
   ]
  },
  {
   "cell_type": "code",
   "execution_count": 102,
   "metadata": {},
   "outputs": [
    {
     "name": "stdout",
     "output_type": "stream",
     "text": [
      "문자열 입력abcde\n",
      "abcde\n",
      "5\n"
     ]
    }
   ],
   "source": [
    "#6. \n",
    "string = input('문자열 입력')\n",
    "print(str(string))\n",
    "print(len(string))"
   ]
  },
  {
   "cell_type": "code",
   "execution_count": 103,
   "metadata": {},
   "outputs": [
    {
     "name": "stdout",
     "output_type": "stream",
     "text": [
      "이름 : 이수근\n",
      "전화번호01023123423\n",
      "이수근 01023123423\n"
     ]
    }
   ],
   "source": [
    "#7. \n",
    "name = input('이름 : ')\n",
    "number = input('전화번호')\n",
    "print(name+' '+number)"
   ]
  },
  {
   "cell_type": "code",
   "execution_count": 112,
   "metadata": {},
   "outputs": [
    {
     "name": "stdout",
     "output_type": "stream",
     "text": [
      "hello \n",
      "  python!\n"
     ]
    }
   ],
   "source": [
    "#8. \n",
    "text = 'hello, python!'\n",
    "t_list = text.split(',')\n",
    "print(t_list[0],'\\n',t_list[1])"
   ]
  },
  {
   "cell_type": "code",
   "execution_count": 118,
   "metadata": {},
   "outputs": [
    {
     "name": "stdout",
     "output_type": "stream",
     "text": [
      "\"python is very easy\", \n",
      " he says.\n"
     ]
    }
   ],
   "source": [
    "#09\n",
    "print('\"python is very easy\", \\n he says.')"
   ]
  },
  {
   "cell_type": "code",
   "execution_count": 119,
   "metadata": {},
   "outputs": [
    {
     "name": "stdout",
     "output_type": "stream",
     "text": [
      "\n",
      "파이썬은 \n",
      "배우기 쉽고\n",
      "재미있는 언어입니다\n"
     ]
    }
   ],
   "source": [
    "#10\n",
    "print('''\n",
    "파이썬은 \n",
    "배우기 쉽고\n",
    "재미있는 언어입니다''')"
   ]
  },
  {
   "cell_type": "code",
   "execution_count": 128,
   "metadata": {},
   "outputs": [
    {
     "name": "stdout",
     "output_type": "stream",
     "text": [
      "파이썬 점수 입력 : 95 92.5 90\n",
      "총점 : 277.5\n",
      "92.5\n"
     ]
    }
   ],
   "source": [
    "#11\n",
    "score = input('파이썬 점수 입력 : ')\n",
    "s_list = score.split(' ')\n",
    "print(f'총점 : {float(s_list[0])+float(s_list[1])+float(s_list[2])}')\n",
    "print((float(s_list[0])+float(s_list[1])+float(s_list[2]))/len(s_list))"
   ]
  },
  {
   "cell_type": "code",
   "execution_count": 130,
   "metadata": {},
   "outputs": [
    {
     "name": "stdout",
     "output_type": "stream",
     "text": [
      "파이썬90\n",
      "<class 'str'>\n"
     ]
    }
   ],
   "source": [
    "#12\n",
    "text1 = '파이썬'\n",
    "text2 = 90\n",
    "a = text1+str(text2)\n",
    "print(a)\n",
    "print(type(a))"
   ]
  },
  {
   "cell_type": "code",
   "execution_count": 136,
   "metadata": {},
   "outputs": [
    {
     "name": "stdout",
     "output_type": "stream",
     "text": [
      "주민등록번호 : 990725-1234567\n",
      "생년월일 : 1999년 07월 25일\n"
     ]
    }
   ],
   "source": [
    "#13\n",
    "res_number = '990725-1234567'\n",
    "print(f'주민등록번호 : {res_number}')\n",
    "a = res_number.split('-')[0]\n",
    "\n",
    "year = '19'+a[0:2]\n",
    "mon = a[2:4]\n",
    "day = a[4:6]\n",
    "print(f'생년월일 : {year}년 {mon}월 {day}일')\n",
    "\n"
   ]
  },
  {
   "cell_type": "code",
   "execution_count": 141,
   "metadata": {},
   "outputs": [
    {
     "name": "stdout",
     "output_type": "stream",
     "text": [
      "수정 전 pithon\n",
      "수정 후 : python\n"
     ]
    }
   ],
   "source": [
    "#14. \n",
    "text = 'pithon'\n",
    "print(f'수정 전 {text}')\n",
    "text2 = text.replace('i', 'y')\n",
    "print(f'수정 후 : {text2}')"
   ]
  },
  {
   "cell_type": "code",
   "execution_count": 149,
   "metadata": {
    "scrolled": true
   },
   "outputs": [
    {
     "name": "stdout",
     "output_type": "stream",
     "text": [
      "USA\n"
     ]
    }
   ],
   "source": [
    "#15. \n",
    "nation = \"     Korea Japan China USA    \"\n",
    "print(nation.split(' ')[8])"
   ]
  },
  {
   "cell_type": "code",
   "execution_count": 155,
   "metadata": {},
   "outputs": [
    {
     "data": {
      "text/plain": [
       "'USA'"
      ]
     },
     "execution_count": 155,
     "metadata": {},
     "output_type": "execute_result"
    }
   ],
   "source": [
    "nation2 = nation.strip()\n",
    "nation2[-3:]"
   ]
  },
  {
   "cell_type": "code",
   "execution_count": null,
   "metadata": {},
   "outputs": [],
   "source": []
  },
  {
   "cell_type": "code",
   "execution_count": null,
   "metadata": {},
   "outputs": [],
   "source": []
  },
  {
   "cell_type": "code",
   "execution_count": null,
   "metadata": {},
   "outputs": [],
   "source": []
  },
  {
   "cell_type": "markdown",
   "metadata": {},
   "source": [
    "# 함수의 미분"
   ]
  },
  {
   "cell_type": "markdown",
   "metadata": {},
   "source": [
    "수치미분"
   ]
  },
  {
   "cell_type": "code",
   "execution_count": 162,
   "metadata": {},
   "outputs": [
    {
     "name": "stdout",
     "output_type": "stream",
     "text": [
      "1.00000000000001\n",
      "-2.0000000044984034\n"
     ]
    }
   ],
   "source": [
    "# 예제 \n",
    "def f(x) : \n",
    "    return x**3-3*x**2 + x\n",
    "import scipy.misc\n",
    "print(scipy.misc.derivative(f, 0, dx=1/10000000))\n",
    "print(scipy.misc.derivative(f, 1, dx=1/100000000))"
   ]
  },
  {
   "cell_type": "code",
   "execution_count": 174,
   "metadata": {},
   "outputs": [
    {
     "data": {
      "image/png": "[encoded data removed]",
      "text/plain": [
       "<Figure size 2400x1500 with 2 Axes>"
      ]
     },
     "metadata": {
      "needs_background": "light"
     },
     "output_type": "display_data"
    }
   ],
   "source": [
    "xx = np.array([-0.5, 0, 0.5, 1, 1.5, 2, 2.5])\n",
    "yy = np.array([4, 1, -1, -2, 0.3, 2, 3])\n",
    "\n",
    "plt.subplot(211)\n",
    "plt.title('$f(x)=x^{3}-3x^{2}+x$')\n",
    "plt.xlabel('$x$')\n",
    "plt.ylabel('$y$')\n",
    "plt.plot(xx, f(xx), 'ro-')\n",
    "\n",
    "plt.subplot(212)\n",
    "plt.title(\"$f'(x)=3x^{2}-6x+1$\")\n",
    "plt.xlabel('$x$')\n",
    "plt.ylabel(\"$f'(x)$\")\n",
    "plt.plot(xx, yy, 'b')\n",
    "plt.tight_layout()\n",
    "\n",
    "plt.show()"
   ]
  },
  {
   "cell_type": "markdown",
   "metadata": {},
   "source": [
    "- 아래가 $f(x)$의 도함수 그래프 $f'(x)$이다."
   ]
  },
  {
   "cell_type": "markdown",
   "metadata": {},
   "source": [
    "# sympy - 심볼릭 연산 패키지 "
   ]
  },
  {
   "cell_type": "code",
   "execution_count": 190,
   "metadata": {},
   "outputs": [
    {
     "data": {
      "text/latex": [
       "$\\displaystyle 3 x^{2}$"
      ],
      "text/plain": [
       "3*x**2"
      ]
     },
     "execution_count": 190,
     "metadata": {},
     "output_type": "execute_result"
    }
   ],
   "source": [
    "import sympy\n",
    "x = sympy.symbols('x')\n",
    "def f(x) : \n",
    "    return x**3-1\n",
    "sympy.diff(f(x), x) #x가 심볼릭 변수로 이미 규정되어 있어서 f(x)로 미분 가능하다. "
   ]
  },
  {
   "cell_type": "code",
   "execution_count": 191,
   "metadata": {
    "scrolled": true
   },
   "outputs": [
    {
     "data": {
      "text/plain": [
       "12.00000001000845"
      ]
     },
     "execution_count": 191,
     "metadata": {},
     "output_type": "execute_result"
    }
   ],
   "source": [
    "scipy.misc.derivative(f, 2, dx=1/10000)"
   ]
  },
  {
   "cell_type": "code",
   "execution_count": 197,
   "metadata": {},
   "outputs": [
    {
     "data": {
      "text/latex": [
       "$\\displaystyle 3 x^{2}$"
      ],
      "text/plain": [
       "3*x**2"
      ]
     },
     "execution_count": 197,
     "metadata": {},
     "output_type": "execute_result"
    }
   ],
   "source": [
    "# 4.2.5 연습문제 \n",
    "#1. \n",
    "f1 = x**3-1\n",
    "sympy.diff(f1, x)"
   ]
  },
  {
   "cell_type": "code",
   "execution_count": 199,
   "metadata": {},
   "outputs": [
    {
     "ename": "TypeError",
     "evalue": "loop of ufunc does not support argument 0 of type Add which has no callable log method",
     "output_type": "error",
     "traceback": [
      "\u001b[0;31m---------------------------------------------------------------------------\u001b[0m",
      "\u001b[0;31mAttributeError\u001b[0m                            Traceback (most recent call last)",
      "\u001b[0;31mAttributeError\u001b[0m: 'Add' object has no attribute 'log'",
      "\nThe above exception was the direct cause of the following exception:\n",
      "\u001b[0;31mTypeError\u001b[0m                                 Traceback (most recent call last)",
      "\u001b[0;32m<ipython-input-199-db6e9c463070>\u001b[0m in \u001b[0;36m<module>\u001b[0;34m\u001b[0m\n\u001b[1;32m      1\u001b[0m \u001b[0;31m#2.\u001b[0m\u001b[0;34m\u001b[0m\u001b[0;34m\u001b[0m\u001b[0;34m\u001b[0m\u001b[0m\n\u001b[1;32m      2\u001b[0m \u001b[0mx\u001b[0m\u001b[0;34m,\u001b[0m \u001b[0mk\u001b[0m \u001b[0;34m=\u001b[0m \u001b[0msympy\u001b[0m\u001b[0;34m.\u001b[0m\u001b[0msymbols\u001b[0m\u001b[0;34m(\u001b[0m\u001b[0;34m'x, k'\u001b[0m\u001b[0;34m)\u001b[0m\u001b[0;34m\u001b[0m\u001b[0;34m\u001b[0m\u001b[0m\n\u001b[0;32m----> 3\u001b[0;31m \u001b[0mf2\u001b[0m \u001b[0;34m=\u001b[0m \u001b[0mnp\u001b[0m\u001b[0;34m.\u001b[0m\u001b[0mlog\u001b[0m\u001b[0;34m(\u001b[0m\u001b[0mx\u001b[0m\u001b[0;34m**\u001b[0m\u001b[0;36m2\u001b[0m\u001b[0;34m-\u001b[0m\u001b[0;36m3\u001b[0m\u001b[0;34m*\u001b[0m\u001b[0mk\u001b[0m\u001b[0;34m)\u001b[0m \u001b[0;31m#x,k는 심볼릭 변수인데 넘파이 함수에 들어가서 함수 정의가 안 되는거다.\u001b[0m\u001b[0;34m\u001b[0m\u001b[0;34m\u001b[0m\u001b[0m\n\u001b[0m",
      "\u001b[0;31mTypeError\u001b[0m: loop of ufunc does not support argument 0 of type Add which has no callable log method"
     ]
    }
   ],
   "source": [
    "#2. \n",
    "x, k = sympy.symbols('x, k')\n",
    "f2 = np.log(x**2-3*k) #x,k는 심볼릭 변수인데 넘파이 함수에 들어가서 함수 정의가 안 되는거다. "
   ]
  },
  {
   "cell_type": "code",
   "execution_count": 207,
   "metadata": {},
   "outputs": [
    {
     "data": {
      "text/latex": [
       "$\\displaystyle \\frac{2 x}{- 3 k + x^{2}}$"
      ],
      "text/plain": [
       "2*x/(-3*k + x**2)"
      ]
     },
     "execution_count": 207,
     "metadata": {},
     "output_type": "execute_result"
    }
   ],
   "source": [
    "f2 = sympy.log(x**2-3*k) #심볼릭 변수에는 심파이 전용 함수를 써야 한다. \n",
    "f2\n",
    "\n",
    "sympy.simplify(sympy.diff(f2, x)) #수식 정리까지 마친 형태 "
   ]
  },
  {
   "cell_type": "code",
   "execution_count": 212,
   "metadata": {},
   "outputs": [
    {
     "data": {
      "text/latex": [
       "$\\displaystyle a b x^{b - 1} e^{a x^{b}}$"
      ],
      "text/plain": [
       "a*b*x**(b - 1)*exp(a*x**b)"
      ]
     },
     "execution_count": 212,
     "metadata": {},
     "output_type": "execute_result"
    }
   ],
   "source": [
    "#3. \n",
    "a, x, b = sympy.symbols('a, x, b')\n",
    "f3 = sympy.exp(a*x**b) #심볼릭 변수로 규정된 지수함수 \n",
    "\n",
    "sympy.simplify(sympy.diff(f3, x))"
   ]
  },
  {
   "cell_type": "code",
   "execution_count": 222,
   "metadata": {},
   "outputs": [
    {
     "data": {
      "text/latex": [
       "$\\displaystyle 2 x e^{x^{2} + 2 y^{2}}$"
      ],
      "text/plain": [
       "2*x*exp(x**2 + 2*y**2)"
      ]
     },
     "execution_count": 222,
     "metadata": {},
     "output_type": "execute_result"
    }
   ],
   "source": [
    "# 4.2.6 연습문제 \n",
    "x, y = sympy.symbols('x, y')\n",
    "f4 = sympy.exp(x**2+2*y**2)\n",
    "\n",
    "#fx(x, y)\n",
    "fx = sympy.diff(f4, x)\n",
    "sympy.simplify(fx)"
   ]
  },
  {
   "cell_type": "code",
   "execution_count": 223,
   "metadata": {},
   "outputs": [
    {
     "data": {
      "text/latex": [
       "$\\displaystyle 4 y e^{x^{2} + 2 y^{2}}$"
      ],
      "text/plain": [
       "4*y*exp(x**2 + 2*y**2)"
      ]
     },
     "execution_count": 223,
     "metadata": {},
     "output_type": "execute_result"
    }
   ],
   "source": [
    "#fy(x, y)\n",
    "fy = sympy.diff(f4, y)\n",
    "sympy.simplify(fy)"
   ]
  },
  {
   "cell_type": "code",
   "execution_count": 224,
   "metadata": {},
   "outputs": [
    {
     "data": {
      "text/latex": [
       "$\\displaystyle \\left(16 y^{2} + 4\\right) e^{x^{2} + 2 y^{2}}$"
      ],
      "text/plain": [
       "(16*y**2 + 4)*exp(x**2 + 2*y**2)"
      ]
     },
     "execution_count": 224,
     "metadata": {},
     "output_type": "execute_result"
    }
   ],
   "source": [
    "#fyy(x, y)\n",
    "fyy = sympy.diff(f4, y, y)\n",
    "sympy.simplify(fyy)"
   ]
  },
  {
   "cell_type": "code",
   "execution_count": 225,
   "metadata": {
    "scrolled": true
   },
   "outputs": [
    {
     "data": {
      "text/latex": [
       "$\\displaystyle 8 x y e^{x^{2} + 2 y^{2}}$"
      ],
      "text/plain": [
       "8*x*y*exp(x**2 + 2*y**2)"
      ]
     },
     "execution_count": 225,
     "metadata": {},
     "output_type": "execute_result"
    }
   ],
   "source": [
    "#fxy(x, y)\n",
    "fxy = sympy.diff(f4, x,y)\n",
    "sympy.simplify(fxy)"
   ]
  },
  {
   "cell_type": "code",
   "execution_count": 226,
   "metadata": {},
   "outputs": [
    {
     "data": {
      "text/latex": [
       "$\\displaystyle 8 x y e^{x^{2} + 2 y^{2}}$"
      ],
      "text/plain": [
       "8*x*y*exp(x**2 + 2*y**2)"
      ]
     },
     "execution_count": 226,
     "metadata": {},
     "output_type": "execute_result"
    }
   ],
   "source": [
    "#fyx(x, y)\n",
    "fyx = sympy.diff(f4, y, x)\n",
    "sympy.simplify(fyx)"
   ]
  },
  {
   "cell_type": "markdown",
   "metadata": {},
   "source": [
    "# 함수 전 구간 연속 --> 전 구간 미분가능 <-- 다변수함수 편미분 순서 상관 없다. "
   ]
  },
  {
   "cell_type": "code",
   "execution_count": 227,
   "metadata": {},
   "outputs": [
    {
     "data": {
      "text/latex": [
       "$\\displaystyle \\left(4 x^{2} + 2\\right) e^{x^{2} + 2 y^{2}}$"
      ],
      "text/plain": [
       "(4*x**2 + 2)*exp(x**2 + 2*y**2)"
      ]
     },
     "execution_count": 227,
     "metadata": {},
     "output_type": "execute_result"
    }
   ],
   "source": [
    "#fxx(x, y)\n",
    "fxx = sympy.diff(f4, x, x)\n",
    "sympy.simplify(fxx)"
   ]
  },
  {
   "cell_type": "code",
   "execution_count": 228,
   "metadata": {},
   "outputs": [
    {
     "data": {
      "text/latex": [
       "$\\displaystyle x^{2} + x y$"
      ],
      "text/plain": [
       "x**2 + x*y"
      ]
     },
     "execution_count": 228,
     "metadata": {},
     "output_type": "execute_result"
    }
   ],
   "source": [
    "def f(x) : \n",
    "    return 2*x+y\n",
    "sympy.integrate(f(x), x)"
   ]
  },
  {
   "cell_type": "markdown",
   "metadata": {},
   "source": [
    "# 심볼릭 연산 할 때는 \n",
    "### 심볼릭 변수 & 심볼릭 변수로 구성된 함수 써야 한다. \n",
    "- 또는 sympy 전용 함수 "
   ]
  },
  {
   "cell_type": "code",
   "execution_count": 230,
   "metadata": {},
   "outputs": [
    {
     "data": {
      "text/latex": [
       "$\\displaystyle x^{3}$"
      ],
      "text/plain": [
       "x**3"
      ]
     },
     "execution_count": 230,
     "metadata": {},
     "output_type": "execute_result"
    }
   ],
   "source": [
    "# 4.3.4 연습문제 \n",
    "#1. \n",
    "x = sympy.symbols('x')\n",
    "def f(x) : \n",
    "    return 3*(x**2)\n",
    "sympy.integrate(f(x), x)"
   ]
  },
  {
   "cell_type": "code",
   "execution_count": 231,
   "metadata": {},
   "outputs": [
    {
     "data": {
      "text/latex": [
       "$\\displaystyle x^{3} - 3 x^{2} + x$"
      ],
      "text/plain": [
       "x**3 - 3*x**2 + x"
      ]
     },
     "execution_count": 231,
     "metadata": {},
     "output_type": "execute_result"
    }
   ],
   "source": [
    "#2. \n",
    "x = sympy.symbols('x')\n",
    "f1 = 3*(x**2)-6*x+1\n",
    "sympy.integrate(f1, x)"
   ]
  },
  {
   "cell_type": "code",
   "execution_count": 233,
   "metadata": {},
   "outputs": [
    {
     "data": {
      "text/latex": [
       "$\\displaystyle 3 x^{2} + 2 x + 4 e^{x} + 5 \\log{\\left(x \\right)}$"
      ],
      "text/plain": [
       "3*x**2 + 2*x + 4*exp(x) + 5*log(x)"
      ]
     },
     "execution_count": 233,
     "metadata": {},
     "output_type": "execute_result"
    }
   ],
   "source": [
    "#3. \n",
    "x = sympy.symbols('x')\n",
    "def f2(x) : \n",
    "    return 2+6*x+4*sympy.exp(x)+5/x\n",
    "sympy.simplify(sympy.integrate(f2(x), x))"
   ]
  },
  {
   "cell_type": "code",
   "execution_count": 234,
   "metadata": {},
   "outputs": [
    {
     "data": {
      "text/latex": [
       "$\\displaystyle \\log{\\left(x^{2} - 1 \\right)}$"
      ],
      "text/plain": [
       "log(x**2 - 1)"
      ]
     },
     "execution_count": 234,
     "metadata": {},
     "output_type": "execute_result"
    }
   ],
   "source": [
    "#4. \n",
    "x = sympy.symbols('x')\n",
    "def f3(x) : \n",
    "    return 2*x/(x**2-1)\n",
    "sympy.integrate(f3(x), x)"
   ]
  },
  {
   "cell_type": "code",
   "execution_count": 237,
   "metadata": {},
   "outputs": [
    {
     "data": {
      "text/latex": [
       "$\\displaystyle \\frac{x \\left(x y + 2\\right)}{2}$"
      ],
      "text/plain": [
       "x*(x*y + 2)/2"
      ]
     },
     "execution_count": 237,
     "metadata": {},
     "output_type": "execute_result"
    }
   ],
   "source": [
    "#4.3.2 연습문제 \n",
    "#1. \n",
    "x, y = sympy.symbols('x, y')\n",
    "f3 = 1+x*y\n",
    "sympy.simplify(sympy.integrate(f3, x))"
   ]
  },
  {
   "cell_type": "code",
   "execution_count": 240,
   "metadata": {},
   "outputs": [
    {
     "data": {
      "text/latex": [
       "$\\displaystyle \\frac{y e^{x^{2} + y^{2}}}{2}$"
      ],
      "text/plain": [
       "y*exp(x**2 + y**2)/2"
      ]
     },
     "execution_count": 240,
     "metadata": {},
     "output_type": "execute_result"
    }
   ],
   "source": [
    "#2. \n",
    "x, y = sympy.symbols('x, y')\n",
    "def f4(x, y) : \n",
    "    return x*y*sympy.exp(x**2+y**2)\n",
    "sympy.simplify(sympy.integrate(f4(x, y), x))"
   ]
  },
  {
   "cell_type": "markdown",
   "metadata": {},
   "source": [
    "# 심파이를 이용한 정적분 "
   ]
  },
  {
   "cell_type": "code",
   "execution_count": 244,
   "metadata": {},
   "outputs": [
    {
     "data": {
      "text/latex": [
       "$\\displaystyle \\frac{x^{4}}{4} - x^{3} + \\frac{x^{2}}{2} + 6 x$"
      ],
      "text/plain": [
       "x**4/4 - x**3 + x**2/2 + 6*x"
      ]
     },
     "execution_count": 244,
     "metadata": {},
     "output_type": "execute_result"
    }
   ],
   "source": [
    "x, y = sympy.symbols('x, y')\n",
    "def f(x) : \n",
    "    return x**3-3*x**2+x+6\n",
    "F = sympy.integrate(f(x), x)\n",
    "F"
   ]
  },
  {
   "cell_type": "code",
   "execution_count": 248,
   "metadata": {},
   "outputs": [
    {
     "data": {
      "text/latex": [
       "$\\displaystyle 10.0$"
      ],
      "text/plain": [
       "10.0000000000000"
      ]
     },
     "execution_count": 248,
     "metadata": {},
     "output_type": "execute_result"
    }
   ],
   "source": [
    "(F.subs(x, 2)-F.subs(x, 0)).evalf()"
   ]
  },
  {
   "cell_type": "code",
   "execution_count": 249,
   "metadata": {},
   "outputs": [
    {
     "data": {
      "text/plain": [
       "(10.0, 1.1102230246251565e-13)"
      ]
     },
     "execution_count": 249,
     "metadata": {},
     "output_type": "execute_result"
    }
   ],
   "source": [
    "scipy.integrate.quad(f, 0, 2)"
   ]
  },
  {
   "cell_type": "code",
   "execution_count": 251,
   "metadata": {},
   "outputs": [
    {
     "data": {
      "text/latex": [
       "$\\displaystyle -1.0$"
      ],
      "text/plain": [
       "-1.00000000000000"
      ]
     },
     "execution_count": 251,
     "metadata": {},
     "output_type": "execute_result"
    }
   ],
   "source": [
    "# 4.3.5 연습문제 \n",
    "#1. \n",
    "#부정적분으로 정적분 값 구하기 \n",
    "x = sympy.symbols('x')\n",
    "f = 3*x**2-6*x+1\n",
    "\n",
    "F = sympy.integrate(f, x)\n",
    "(F.subs(x, 1)-F.subs(x, 0)).evalf()"
   ]
  },
  {
   "cell_type": "code",
   "execution_count": 253,
   "metadata": {},
   "outputs": [
    {
     "data": {
      "text/plain": [
       "(-1.0, 1.3085085171449517e-14)"
      ]
     },
     "execution_count": 253,
     "metadata": {},
     "output_type": "execute_result"
    }
   ],
   "source": [
    "# 직접 물리적 적분해서 정적분 값 구하기 (수치적분)\n",
    "def f(x) : \n",
    "    return 3*x**2-6*x+1\n",
    "scipy.integrate.quad(f, 0, 1)"
   ]
  },
  {
   "cell_type": "markdown",
   "metadata": {},
   "source": [
    "## 미적분학 기본정리에 의해 계산한 값과\n",
    "## 수치적분으로 근삿값 구한 것이 같게 나왔다. "
   ]
  },
  {
   "cell_type": "code",
   "execution_count": 254,
   "metadata": {},
   "outputs": [
    {
     "data": {
      "text/latex": [
       "$\\displaystyle 88421.502977378$"
      ],
      "text/plain": [
       "88421.5029773780"
      ]
     },
     "execution_count": 254,
     "metadata": {},
     "output_type": "execute_result"
    }
   ],
   "source": [
    "#2. \n",
    "# 부정적분\n",
    "x = sympy.symbols('x')\n",
    "f = 2+6*x+4*sympy.exp(x)+5/x\n",
    "F = sympy.integrate(f, x)\n",
    "(F.subs(x, 10)-F.subs(x, 1)).evalf()"
   ]
  },
  {
   "cell_type": "code",
   "execution_count": 255,
   "metadata": {},
   "outputs": [
    {
     "data": {
      "text/plain": [
       "(88421.50297737827, 1.5276890734473408e-06)"
      ]
     },
     "execution_count": 255,
     "metadata": {},
     "output_type": "execute_result"
    }
   ],
   "source": [
    "# 수치적분\n",
    "def f(x) : \n",
    "    return 2+6*x+4*sympy.exp(x)+5/x\n",
    "scipy.integrate.quad(f, 1, 10)"
   ]
  },
  {
   "cell_type": "markdown",
   "metadata": {},
   "source": [
    "# 수치이중적분"
   ]
  },
  {
   "cell_type": "code",
   "execution_count": 265,
   "metadata": {},
   "outputs": [
    {
     "data": {
      "text/plain": [
       "(0.4999999999999961, 1.0684538743333441e-08)"
      ]
     },
     "execution_count": 265,
     "metadata": {},
     "output_type": "execute_result"
    }
   ],
   "source": [
    "# 예제 p. 312\n",
    "def f(x, y) : \n",
    "    return np.exp(-x*y)/y**2\n",
    "\n",
    "scipy.integrate.dblquad(f, 1, np.inf, lambda x :0, lambda x: np.inf )"
   ]
  },
  {
   "cell_type": "code",
   "execution_count": 276,
   "metadata": {},
   "outputs": [
    {
     "data": {
      "text/plain": [
       "(4.0, 4.440892098500626e-14)"
      ]
     },
     "execution_count": 276,
     "metadata": {},
     "output_type": "execute_result"
    }
   ],
   "source": [
    "# 4.3.6 연습문제 \n",
    "xx = np.linspace(-3, 3, 100)\n",
    "yy = np.linspace(-3, 3, 100)\n",
    "X, Y = np.meshgrid(xx, yy)\n",
    "\n",
    "def f(x, y) : \n",
    "    return 1+x*y\n",
    "Z = f(X, Y)\n",
    "\n",
    "scipy.integrate.dblquad(f, -1, 1, lambda x : -1, lambda x : 1)"
   ]
  },
  {
   "cell_type": "code",
   "execution_count": 277,
   "metadata": {},
   "outputs": [
    {
     "data": {
      "text/plain": [
       "(4.0, 4.440892098500626e-14)"
      ]
     },
     "execution_count": 277,
     "metadata": {},
     "output_type": "execute_result"
    }
   ],
   "source": [
    "def gfun(x) : \n",
    "    return -1\n",
    "def hfun(x) : \n",
    "    return 1\n",
    "scipy.integrate.dblquad(f, -1, 1, gfun(x), hfun(x))"
   ]
  },
  {
   "cell_type": "code",
   "execution_count": null,
   "metadata": {},
   "outputs": [],
   "source": []
  },
  {
   "cell_type": "code",
   "execution_count": null,
   "metadata": {},
   "outputs": [],
   "source": []
  },
  {
   "cell_type": "code",
   "execution_count": null,
   "metadata": {},
   "outputs": [],
   "source": []
  }
 ],
 "metadata": {
  "kernelspec": {
   "display_name": "Python 3",
   "language": "python",
   "name": "python3"
  },
  "language_info": {
   "codemirror_mode": {
    "name": "ipython",
    "version": 3
   },
   "file_extension": ".py",
   "mimetype": "text/x-python",
   "name": "python",
   "nbconvert_exporter": "python",
   "pygments_lexer": "ipython3",
   "version": "3.8.5"
  }
 },
 "nbformat": 4,
 "nbformat_minor": 4
}
