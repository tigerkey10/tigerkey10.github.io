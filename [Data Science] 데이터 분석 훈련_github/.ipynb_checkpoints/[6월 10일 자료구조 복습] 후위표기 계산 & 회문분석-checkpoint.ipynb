{
 "cells": [
  {
   "cell_type": "markdown",
   "metadata": {},
   "source": [
    "# 1차원 배열리스트로 스택 구현하기 \n",
    "## 후위표기 계산"
   ]
  },
  {
   "cell_type": "code",
   "execution_count": 12,
   "metadata": {},
   "outputs": [
    {
     "name": "stdout",
     "output_type": "stream",
     "text": [
      "3.0\n",
      "9.5\n"
     ]
    }
   ],
   "source": [
    "def push(item) : \n",
    "    stack.append(item)\n",
    "    \n",
    "def pop() : \n",
    "    if len(stack) != 0 : \n",
    "        item = stack.pop()\n",
    "        return item\n",
    "\n",
    "def peek() : \n",
    "    if len(stack) != 0 : \n",
    "        return stack[-1]\n",
    "    \n",
    "def compute(op, op1, op2) : \n",
    "    if op == '*' : return op1 * op2\n",
    "    elif op == '+' : return op1 + op2\n",
    "    elif op == '/' : return op1 / op2\n",
    "    else : return op1 - op2\n",
    "    \n",
    "def evaluation(expr) : \n",
    "    for token in expr : \n",
    "        if token in '0123456789' : \n",
    "            push(int(token))\n",
    "        else : \n",
    "            op2 = pop()\n",
    "            op1 = pop()\n",
    "            result = compute(token, op1, op2)\n",
    "            push(result)\n",
    "    return pop()\n",
    "\n",
    "stack = []\n",
    "print(evaluation('78+32+/'))\n",
    "print(evaluation('235*64-/+'))"
   ]
  },
  {
   "cell_type": "markdown",
   "metadata": {},
   "source": [
    "# 1차원 배열 리스트를 덱 처럼 사용해 회문분석 하기 "
   ]
  },
  {
   "cell_type": "code",
   "execution_count": 27,
   "metadata": {},
   "outputs": [
    {
     "name": "stdout",
     "output_type": "stream",
     "text": [
      "True\n",
      "True\n",
      "True\n",
      "True\n"
     ]
    }
   ],
   "source": [
    "def palindrome(string) : \n",
    "    expr = list(string)\n",
    "    flag = True\n",
    "    while len(expr) > 1 and flag == True : \n",
    "        char_1 = expr.pop(0)\n",
    "        char_2 = expr.pop(-1)\n",
    "        flag = (char_1 == char_2)\n",
    "        \n",
    "    return flag\n",
    "print(palindrome('racecar'));print(palindrome('raddar'));print(palindrome('wasitacatisaw'))\n",
    "print(palindrome('aa'))"
   ]
  },
  {
   "cell_type": "code",
   "execution_count": null,
   "metadata": {},
   "outputs": [],
   "source": []
  },
  {
   "cell_type": "code",
   "execution_count": null,
   "metadata": {},
   "outputs": [],
   "source": []
  }
 ],
 "metadata": {
  "kernelspec": {
   "display_name": "Python 3",
   "language": "python",
   "name": "python3"
  },
  "language_info": {
   "codemirror_mode": {
    "name": "ipython",
    "version": 3
   },
   "file_extension": ".py",
   "mimetype": "text/x-python",
   "name": "python",
   "nbconvert_exporter": "python",
   "pygments_lexer": "ipython3",
   "version": "3.8.5"
  }
 },
 "nbformat": 4,
 "nbformat_minor": 4
}
