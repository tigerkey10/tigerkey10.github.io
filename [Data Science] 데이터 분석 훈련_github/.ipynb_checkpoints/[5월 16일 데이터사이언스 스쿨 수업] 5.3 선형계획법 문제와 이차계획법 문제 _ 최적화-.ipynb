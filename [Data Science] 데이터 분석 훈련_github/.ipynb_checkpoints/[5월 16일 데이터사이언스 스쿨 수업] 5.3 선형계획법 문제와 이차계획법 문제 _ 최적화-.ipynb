{
 "cells": [
  {
   "cell_type": "markdown",
   "metadata": {},
   "source": [
    "# 제한조건 있는 최적화 _ <선형모형 최적화> 하는 경우 \n",
    "### 기본형(표준형) 선형계획법 & 정규형 선형계획법. 있다. \n",
    "- 기본형 선형계획법 : 등식 제한조건\n",
    "- 정규형 선형계획법 : (등식 +) 부등식 제한조건"
   ]
  },
  {
   "cell_type": "code",
   "execution_count": 1,
   "metadata": {
    "scrolled": true
   },
   "outputs": [
    {
     "name": "stdout",
     "output_type": "stream",
     "text": [
      "정규형 선형계획법 문제 최적해 : [299.99999127 100.0000042 ]\n"
     ]
    },
    {
     "data": {
      "text/plain": [
       "     con: array([], dtype=float64)\n",
       "     fun: -1399.9999948073837\n",
       " message: 'Optimization terminated successfully.'\n",
       "     nit: 6\n",
       "   slack: array([1.99999991e+02, 4.19920389e-06, 3.31137471e-07, 8.10000001e+03])\n",
       "  status: 0\n",
       " success: True\n",
       "       x: array([299.99999127, 100.0000042 ])"
      ]
     },
     "execution_count": 1,
     "metadata": {},
     "output_type": "execute_result"
    }
   ],
   "source": [
    "# 정규형 선형계획법 문제 해결하기 \n",
    "import scipy as sp\n",
    "import scipy.optimize\n",
    "\n",
    "A = np.array([[-1, 0],\n",
    "             [0, -1],\n",
    "             [1,2],\n",
    "             [4,5]])\n",
    "\n",
    "c = np.array([[-3],\n",
    "             [-5]])\n",
    "\n",
    "b = np.array([[-100],\n",
    "             [-100],\n",
    "             [500],\n",
    "             [9800]])\n",
    "\n",
    "optimized = sp.optimize.linprog(c, A, b)\n",
    "x = optimized['x']\n",
    "\n",
    "print(f'정규형 선형계획법 문제 최적해 : {x}') # 정규형 선형계획법 문제 최적해.최소입력값\n",
    "optimized"
   ]
  },
  {
   "cell_type": "markdown",
   "metadata": {},
   "source": [
    "# cvxpy_심볼릭연산으로 (정규형)선형계획법 문제 해결하기 \n",
    "- 훨씬 직관적\n",
    "- 심볼릭 연산. 심볼릭 변수 사용"
   ]
  },
  {
   "cell_type": "code",
   "execution_count": 49,
   "metadata": {},
   "outputs": [
    {
     "name": "stdout",
     "output_type": "stream",
     "text": [
      "[array(299.99999912), array(100.00000058)]\n",
      "-1400.0000002640559\n"
     ]
    }
   ],
   "source": [
    "import cvxpy as cp\n",
    "\n",
    "\n",
    "# 심볼릭 변수 지정\n",
    "a = cp.Variable()\n",
    "b = cp.Variable()\n",
    "\n",
    "# 부등식 제한조건 정의 \n",
    "constraints = [\n",
    "    -a <= -100,\n",
    "    -b <= -100,\n",
    "    a+2*b <= 500,\n",
    "    4*a+5*b <= 9800\n",
    "]\n",
    "\n",
    "# 문제의 정의 \n",
    "opt = cp.Minimize(-3*a-5*b)\n",
    "prob = cp.Problem(opt, constraints)\n",
    "\n",
    "prob.solve()\n",
    "prob.status\n",
    "print([a.value, b.value])\n",
    "print(prob.solve())"
   ]
  },
  {
   "cell_type": "code",
   "execution_count": 50,
   "metadata": {},
   "outputs": [
    {
     "name": "stdout",
     "output_type": "stream",
     "text": [
      "[array(299.99999912), array(100.00000058)]\n",
      "1400.0000002640559\n"
     ]
    }
   ],
   "source": [
    "import cvxpy as cp\n",
    "\n",
    "\n",
    "# 심볼릭 변수 지정\n",
    "a = cp.Variable()\n",
    "b = cp.Variable()\n",
    "\n",
    "# 부등식 제한조건 정의 \n",
    "constraints = [\n",
    "    a >= 100,\n",
    "    b >= 100,\n",
    "    a+2*b <= 500,\n",
    "    4*a+5*b <= 9800\n",
    "]\n",
    "\n",
    "# 문제의 정의 \n",
    "opt = cp.Maximize(3*a+5*b)\n",
    "prob = cp.Problem(opt, constraints)\n",
    "\n",
    "prob.solve()\n",
    "prob.status\n",
    "print([a.value, b.value])\n",
    "print(prob.solve())"
   ]
  },
  {
   "cell_type": "markdown",
   "metadata": {},
   "source": [
    "# 이차계획법 문제 해결하기 \n",
    "- 일반화된 이차형식을 목적함수로 쓰고, 최소화 하는 문제다. \n",
    "- 목적함수 : $1/2x^{T}Ax + c^{T}x$\n",
    "- cvxopt패키지로 문제 풀 수 있다. \n",
    "- 등식제한조건, 부호 제한조건은 표준형(기본형) 선형계획법 문제와 같다."
   ]
  },
  {
   "cell_type": "code",
   "execution_count": 54,
   "metadata": {},
   "outputs": [],
   "source": [
    "import cvxopt"
   ]
  },
  {
   "cell_type": "markdown",
   "metadata": {},
   "source": [
    "- cvxopt 패키지는 \n",
    "* 이차계획법 문제 해결하는 패키지다\n",
    "* 항상 ndarray --> 전용 자료형(matrix)로 바꿔줘야 한다. \n",
    "* 항상 부동소수점 실수 값 넣어야 한다. "
   ]
  },
  {
   "cell_type": "code",
   "execution_count": 69,
   "metadata": {},
   "outputs": [
    {
     "data": {
      "text/plain": [
       "array([[0.5],\n",
       "       [0.5]])"
      ]
     },
     "execution_count": 69,
     "metadata": {},
     "output_type": "execute_result"
    }
   ],
   "source": [
    "from cvxopt import matrix, solvers\n",
    "\n",
    "Q = matrix(np.diag([2.0, 2.0]))\n",
    "c = matrix(np.array([0.0, 0.0]))\n",
    "A = matrix(np.array([[1.0, 1.0]]))\n",
    "b = matrix(np.array([[1.0]]))\n",
    "\n",
    "sol = solvers.qp(Q, c, A =A, b=b)\n",
    "np.array(sol['x']) #최소해. 이차계획법 최적해 "
   ]
  },
  {
   "cell_type": "code",
   "execution_count": null,
   "metadata": {},
   "outputs": [],
   "source": []
  },
  {
   "cell_type": "code",
   "execution_count": null,
   "metadata": {},
   "outputs": [],
   "source": []
  }
 ],
 "metadata": {
  "kernelspec": {
   "display_name": "Python 3",
   "language": "python",
   "name": "python3"
  },
  "language_info": {
   "codemirror_mode": {
    "name": "ipython",
    "version": 3
   },
   "file_extension": ".py",
   "mimetype": "text/x-python",
   "name": "python",
   "nbconvert_exporter": "python",
   "pygments_lexer": "ipython3",
   "version": "3.8.5"
  }
 },
 "nbformat": 4,
 "nbformat_minor": 4
}
