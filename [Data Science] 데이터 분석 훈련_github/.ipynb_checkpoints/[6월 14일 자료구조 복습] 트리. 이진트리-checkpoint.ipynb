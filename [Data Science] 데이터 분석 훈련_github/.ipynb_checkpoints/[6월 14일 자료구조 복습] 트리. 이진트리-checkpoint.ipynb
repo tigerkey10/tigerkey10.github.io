{
 "cells": [
  {
   "cell_type": "markdown",
   "metadata": {},
   "source": [
    "## 5_1 이진트리 실습하기 "
   ]
  },
  {
   "cell_type": "code",
   "execution_count": 1,
   "metadata": {},
   "outputs": [],
   "source": [
    "class Node : \n",
    "    def __init__(self,item,left=None,right=None) : \n",
    "        self.item = item\n",
    "        self.left = left\n",
    "        self.right= right\n",
    "        \n",
    "class BinaryTree : \n",
    "    def __init__(self) : \n",
    "        self.root=None\n",
    "        \n",
    "    def preorder(self,n) : #이진트리 순회 #전위순회\n",
    "        if n != None : \n",
    "            print(str(n.item),'', end='')\n",
    "            if n.left : self.preorder(n.left)\n",
    "            if n.right : self.preorder(n.right)\n",
    "                \n",
    "    def inorder(self,n) : #이진트리 순회 # 중위순회\n",
    "        if n != None : \n",
    "            if n.left : \n",
    "                self.inorder(n.left) \n",
    "                print(str(n.item),'',end='')\n",
    "                if n.right:\n",
    "                    self.inorder(n.right)\n",
    "                    \n",
    "    def postorder(self,n) : #이진트리 순회 # 후위순회\n",
    "        if n != None : \n",
    "            if n.left : \n",
    "                self.postorder(n.left)\n",
    "            if n.right : \n",
    "                self.postorder(n.right)\n",
    "            print(str(n.item),'',end=' ')\n",
    "    \n",
    "    def levelorder(self, root) :  #레벨순회 # 노드 레벨 단위로 검사 후 출력\n",
    "        q = []\n",
    "        q.append(root)\n",
    "        while len(q) != 0 : \n",
    "            t = q.pop(0)\n",
    "            print(str(t.item),'',end= ' ')\n",
    "            if t.left != None : \n",
    "                q.append(t.left)\n",
    "            if t.right != None : \n",
    "                q.append(t.right)\n",
    "\n",
    "    def height(self, root) : #트리 높이 계산 메소드\n",
    "        if root == None : \n",
    "            return 0 \n",
    "        return max(self.height(root.left), self.height(root.right))+1\n",
    "    \n",
    "    def size(self, root) : #트리 노드 수 계산 메서드\n",
    "        if root is None : \n",
    "            return 0 \n",
    "        else : return 1+self.size(root.left)+self.size(root.right)\n",
    "        \n",
    "    def copy_tree(self, n) : # 트리 복제 메서드\n",
    "        if n == None : \n",
    "            return None \n",
    "        else : \n",
    "            left = self.copy_tree(n.left)\n",
    "            right = self.copy_tree(n.right)\n",
    "            return Node(n.item, left, right)\n",
    "        \n",
    "    def is_equal(self, n, m) : #두 트리의 동일성 검사\n",
    "        if n == None or m == None : \n",
    "            return n == m\n",
    "        if n.item != m.item : \n",
    "            return False\n",
    "        return (self.is_equal(n.left,m.left) and self.is_equal(n.right, m.right))   "
   ]
  },
  {
   "cell_type": "code",
   "execution_count": 2,
   "metadata": {},
   "outputs": [
    {
     "name": "stdout",
     "output_type": "stream",
     "text": [
      "트리높이 : 4\n",
      "전위순회:\t100 200 400 800 500 300 600 700 \n",
      "중위순회:\t400 200 100 300 \n",
      "후위순회:\t800  400  500  200  600  700  300  100  \n",
      "레벨순회:\t100  200  300  400  500  600  700  800  "
     ]
    }
   ],
   "source": [
    "#import sys\n",
    "#sys.path.append('/Users/kibeomkim/Desktop/module_test')\n",
    "#from binary_tree import BinaryTree, Node\n",
    "\n",
    "t = BinaryTree() # 이진트리객체 t 생성\n",
    "\n",
    "#노드 객체 생성\n",
    "n1 = Node(100) ; n2 = Node(200)\n",
    "n3 = Node(300) ; n4 = Node(400)\n",
    "n5 = Node(500) ; n6 = Node(600)\n",
    "n7 = Node(700) ; n8 = Node(800)\n",
    "\n",
    "n1.left = n2\n",
    "n1.right = n3\n",
    "\n",
    "n2.left = n4\n",
    "n2.right = n5\n",
    "\n",
    "n3.left = n6\n",
    "n3.right = n7\n",
    "\n",
    "n4.left = n8\n",
    "\n",
    "t.root = n1 # 이진트리 생성 완료 _ n1이 이진트리 루트노드 R이다. \n",
    "\n",
    "print(f'트리높이 : {t.height(t.root)}')\n",
    "print('전위순회:\\t',end='')\n",
    "t.preorder(t.root)\n",
    "print('\\n중위순회:\\t',end='')\n",
    "t.inorder(t.root)\n",
    "print('\\n후위순회:\\t',end='')\n",
    "t.postorder(t.root)\n",
    "print('\\n레벨순회:\\t',end='')\n",
    "t.levelorder(t.root)"
   ]
  },
  {
   "cell_type": "code",
   "execution_count": 27,
   "metadata": {
    "scrolled": true
   },
   "outputs": [
    {
     "name": "stdout",
     "output_type": "stream",
     "text": [
      "트리높이 : 4\n",
      "전위순회:\t100 200 400 800 500 300 600 700 \n",
      "중위순회:\t400 200 100 300 \n",
      "후위순회:\t800  400  500  200  600  700  300  100  \n",
      "레벨순회:\t100  200  300  400  500  600  700  800  \n",
      "이진트리 노드 수 : 8\n"
     ]
    }
   ],
   "source": [
    "# 이진트리 복제 \n",
    "t2 = BinaryTree()\n",
    "t2.root = t2.copy_tree(t.root) # 복제트리 t2의 새 루트노드 R 생성\n",
    "\n",
    "print(f'트리높이 : {t2.height(t2.root)}')\n",
    "print('전위순회:\\t',end='')\n",
    "t.preorder(t2.root)\n",
    "print('\\n중위순회:\\t',end='')\n",
    "t.inorder(t2.root)\n",
    "print('\\n후위순회:\\t',end='')\n",
    "t.postorder(t2.root)\n",
    "print('\\n레벨순회:\\t',end='')\n",
    "t.levelorder(t2.root)\n",
    "\n",
    "print('\\n이진트리 노드 수 : {}'.format(t2.size(t2.root)))"
   ]
  },
  {
   "cell_type": "code",
   "execution_count": 32,
   "metadata": {},
   "outputs": [
    {
     "data": {
      "text/plain": [
       "True"
      ]
     },
     "execution_count": 32,
     "metadata": {},
     "output_type": "execute_result"
    }
   ],
   "source": [
    "# 트리 동일성 검사\n",
    "t2.is_equal(t.root, t2.root)"
   ]
  },
  {
   "cell_type": "code",
   "execution_count": null,
   "metadata": {},
   "outputs": [],
   "source": []
  },
  {
   "cell_type": "code",
   "execution_count": null,
   "metadata": {},
   "outputs": [],
   "source": []
  },
  {
   "cell_type": "code",
   "execution_count": null,
   "metadata": {},
   "outputs": [],
   "source": []
  }
 ],
 "metadata": {
  "kernelspec": {
   "display_name": "Python 3",
   "language": "python",
   "name": "python3"
  },
  "language_info": {
   "codemirror_mode": {
    "name": "ipython",
    "version": 3
   },
   "file_extension": ".py",
   "mimetype": "text/x-python",
   "name": "python",
   "nbconvert_exporter": "python",
   "pygments_lexer": "ipython3",
   "version": "3.8.5"
  }
 },
 "nbformat": 4,
 "nbformat_minor": 4
}
