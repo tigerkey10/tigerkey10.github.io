{
 "cells": [
  {
   "cell_type": "markdown",
   "metadata": {},
   "source": [
    "$A*v=\\lambda*v$\n",
    "- 위 식 성립하는 lambda와 v벡터는 각각 행렬 A의 고윳값, 고유벡터다. "
   ]
  },
  {
   "cell_type": "code",
   "execution_count": 3,
   "metadata": {},
   "outputs": [],
   "source": [
    "#연습문제 3.3.1\n",
    "B = np.array([[2,3],\n",
    "             [2,1]])\n",
    "\n",
    "lambda1 = 4\n",
    "v1 = np.array([[3/np.sqrt(13)],\n",
    "              [2/np.sqrt(13)]])\n",
    "\n",
    "lambda2 = -1\n",
    "v2 = np.array([[-1/np.sqrt(2)],\n",
    "              [1/np.sqrt(2)]])"
   ]
  },
  {
   "cell_type": "code",
   "execution_count": 4,
   "metadata": {},
   "outputs": [
    {
     "data": {
      "text/plain": [
       "array([[ True],\n",
       "       [ True]])"
      ]
     },
     "execution_count": 4,
     "metadata": {},
     "output_type": "execute_result"
    }
   ],
   "source": [
    "B@v1 == lambda1*v1"
   ]
  },
  {
   "cell_type": "code",
   "execution_count": 5,
   "metadata": {},
   "outputs": [
    {
     "data": {
      "text/plain": [
       "array([[ True],\n",
       "       [ True]])"
      ]
     },
     "execution_count": 5,
     "metadata": {},
     "output_type": "execute_result"
    }
   ],
   "source": [
    "B@v2 == lambda2*v2"
   ]
  },
  {
   "cell_type": "markdown",
   "metadata": {},
   "source": [
    "# 넘파이 사용한 고유분해 \n",
    "$A*v = \\lambda*v$"
   ]
  },
  {
   "cell_type": "code",
   "execution_count": 14,
   "metadata": {},
   "outputs": [
    {
     "name": "stdout",
     "output_type": "stream",
     "text": [
      "[-0.99999998 -1.00000002]\n",
      "[[0.70710678 0.70710678]\n",
      " [0.70710678 0.70710678]]\n"
     ]
    }
   ],
   "source": [
    "A = np.array([[1,-2],\n",
    "             [2,-3]])\n",
    "w1, v1 = np.linalg.eig(A) #고유분해 메서드 eig()\n",
    "\n",
    "print(w1) #각 요소가 고윳값\n",
    "print(v1) #각 열이 고유벡터"
   ]
  },
  {
   "cell_type": "code",
   "execution_count": 17,
   "metadata": {},
   "outputs": [
    {
     "name": "stdout",
     "output_type": "stream",
     "text": [
      "[ 4. -1.]\n",
      "[[ 0.83205029 -0.70710678]\n",
      " [ 0.5547002   0.70710678]]\n"
     ]
    }
   ],
   "source": [
    "B = np.array([[2,3],\n",
    "             [2,1]])\n",
    "w2, v2 = np.linalg.eig(B) #고유분해 메서드\n",
    "\n",
    "print(w2) #고윳값\n",
    "print(v2) #고유벡터(열)"
   ]
  },
  {
   "cell_type": "code",
   "execution_count": 20,
   "metadata": {},
   "outputs": [
    {
     "name": "stdout",
     "output_type": "stream",
     "text": [
      "[0.+1.j 0.-1.j]\n",
      "[[0.70710678+0.j         0.70710678-0.j        ]\n",
      " [0.        -0.70710678j 0.        +0.70710678j]]\n"
     ]
    }
   ],
   "source": [
    "C = np.array([[0,-1],\n",
    "             [1,0]])\n",
    "w3, v3 = np.linalg.eig(C)\n",
    "\n",
    "print(w3) #복소수 고윳값\n",
    "print(v3) #복소수로 구성된 고유벡터"
   ]
  },
  {
   "cell_type": "code",
   "execution_count": 25,
   "metadata": {},
   "outputs": [
    {
     "name": "stdout",
     "output_type": "stream",
     "text": [
      "[ 4. -1.]\n",
      "[[ 0.83205029 -0.70710678]\n",
      " [ 0.5547002   0.70710678]]\n"
     ]
    }
   ],
   "source": [
    "# 3.3.5 연습문제 \n",
    "#1. \n",
    "B = np.array([[2,3],\n",
    "             [2,1]])\n",
    "lambda1, v2 = np.linalg.eig(B)\n",
    "print(lambda1) #고윳값\n",
    "print(v2) #고유벡터 "
   ]
  },
  {
   "cell_type": "code",
   "execution_count": 27,
   "metadata": {},
   "outputs": [
    {
     "name": "stdout",
     "output_type": "stream",
     "text": [
      "[-0.99999998 -1.00000002]\n",
      "[[0.70710678 0.70710678]\n",
      " [0.70710678 0.70710678]]\n"
     ]
    }
   ],
   "source": [
    "#2. \n",
    "A = np.array([[1, -2],\n",
    "             [2, -3]])\n",
    "lambdaA, v = np.linalg.eig(A)\n",
    "\n",
    "print(lambdaA)\n",
    "print(v)"
   ]
  },
  {
   "cell_type": "code",
   "execution_count": 30,
   "metadata": {},
   "outputs": [
    {
     "name": "stdout",
     "output_type": "stream",
     "text": [
      "[ 4. -1.]\n",
      "[[ 0.83205029 -0.70710678]\n",
      " [ 0.5547002   0.70710678]]\n"
     ]
    }
   ],
   "source": [
    "#3. \n",
    "B = np.array([[2,3],\n",
    "             [2,1]])\n",
    "lmB, v = np.linalg.eig(B)\n",
    "\n",
    "print(lmB) #고윳값\n",
    "print(v) #고유벡터"
   ]
  },
  {
   "cell_type": "code",
   "execution_count": 32,
   "metadata": {},
   "outputs": [
    {
     "name": "stdout",
     "output_type": "stream",
     "text": [
      "[0.+1.j 0.-1.j]\n",
      "[[0.70710678+0.j         0.70710678-0.j        ]\n",
      " [0.        -0.70710678j 0.        +0.70710678j]]\n"
     ]
    }
   ],
   "source": [
    "#4. \n",
    "C = np.array([[0, -1],\n",
    "             [1,0]])\n",
    "lmC, v = np.linalg.eig(C)\n",
    "\n",
    "print(lmC) #복소수 고윳값\n",
    "print(v) #복소수 고유벡터"
   ]
  },
  {
   "cell_type": "code",
   "execution_count": 34,
   "metadata": {},
   "outputs": [
    {
     "name": "stdout",
     "output_type": "stream",
     "text": [
      "[3. 1.]\n",
      "[[ 0.70710678 -0.70710678]\n",
      " [ 0.70710678  0.70710678]]\n"
     ]
    }
   ],
   "source": [
    "#5. \n",
    "D = np.array([[2,1],\n",
    "             [1,2]])\n",
    "lmD, v = np.linalg.eig(D)\n",
    "\n",
    "\n",
    "print(lmD) #고윳값\n",
    "print(v) #고유벡터"
   ]
  },
  {
   "cell_type": "code",
   "execution_count": 40,
   "metadata": {},
   "outputs": [
    {
     "name": "stdout",
     "output_type": "stream",
     "text": [
      "#6\n",
      "[ 4. -1.]\n",
      "[[ 0.83205029 -0.70710678]\n",
      " [ 0.5547002   0.70710678]]\n",
      "\n",
      "#7\n",
      "[1. 1.]\n",
      "[[ 1.00000000e+00 -1.00000000e+00]\n",
      " [ 0.00000000e+00  2.22044605e-16]]\n"
     ]
    }
   ],
   "source": [
    "#6. \n",
    "E = np.array([[2,3],\n",
    "             [2,1]])\n",
    "lmE, v = np.linalg.eig(E)\n",
    "\n",
    "print('#6')\n",
    "print(lmE)\n",
    "print(v)\n",
    "print()\n",
    "\n",
    "#7. \n",
    "F = np.array([[1,1],\n",
    "             [0,1]])\n",
    "\n",
    "lmF, v = np.linalg.eig(F)\n",
    "\n",
    "print('#7')\n",
    "print(lmF) #중복고윳값\n",
    "print(v) #중복 고유벡터, 미세하게 다른 값 나왔다. "
   ]
  },
  {
   "cell_type": "code",
   "execution_count": 82,
   "metadata": {},
   "outputs": [
    {
     "name": "stdout",
     "output_type": "stream",
     "text": [
      "[1. 1.]\n",
      "\n",
      "[[1. 0.]\n",
      " [0. 1.]]\n"
     ]
    },
    {
     "data": {
      "text/plain": [
       "array([1., 8.])"
      ]
     },
     "execution_count": 82,
     "metadata": {},
     "output_type": "execute_result"
    }
   ],
   "source": [
    "I = np.eye(2) #항등행렬\n",
    "LI, V = np.linalg.eig(I)\n",
    "\n",
    "\n",
    "print(LI) #중복고윳값\n",
    "print()\n",
    "print(V) #고유벡터\n",
    "\n",
    "v1 = np.array([V[0][0],\n",
    "               V[1][0]])\n",
    "v2 = np.array([V[0][1], \n",
    "               V[1][1]])\n",
    "\n",
    "v = np.vstack([v1, v2]).T\n",
    "c = np.array([1,8])\n",
    "\n",
    "result = v@c\n",
    "result"
   ]
  },
  {
   "cell_type": "code",
   "execution_count": 84,
   "metadata": {},
   "outputs": [
    {
     "data": {
      "text/plain": [
       "array([ True,  True])"
      ]
     },
     "execution_count": 84,
     "metadata": {},
     "output_type": "execute_result"
    }
   ],
   "source": [
    "I@result == 1*result # 중복고윳값의 서로 다른 고유벡터 선형조합한 결과물은 그 중복고윳값의 또 다른 고유벡터다. "
   ]
  },
  {
   "cell_type": "markdown",
   "metadata": {},
   "source": [
    "# 행렬의 대각화 : 특정 행렬을 그 행렬의 고유벡터행렬과 고윳값 행렬 이용해서 나타낸 것\n",
    "$B = V*\\lambda*V^{-1}$"
   ]
  },
  {
   "cell_type": "code",
   "execution_count": 87,
   "metadata": {},
   "outputs": [
    {
     "name": "stdout",
     "output_type": "stream",
     "text": [
      "[ 4. -1.]\n",
      "[[ 0.83205029 -0.70710678]\n",
      " [ 0.5547002   0.70710678]]\n"
     ]
    }
   ],
   "source": [
    "B = np.array([[2,3],\n",
    "             [2,1]])\n",
    "lambda1, v = np.linalg.eig(B) #고유분해\n",
    "\n",
    "print(lambda1)\n",
    "print(v)"
   ]
  },
  {
   "cell_type": "code",
   "execution_count": 108,
   "metadata": {},
   "outputs": [
    {
     "name": "stdout",
     "output_type": "stream",
     "text": [
      "역행렬 유무 : 0.9805806756909202\n"
     ]
    }
   ],
   "source": [
    "v1 = np.array([v[0][0], v[1][0]])\n",
    "v2 = np.array([v[0][1], v[1][1]])\n",
    "\n",
    "V = np.vstack([v1,v2]).T #고유벡터 행렬\n",
    "ld = np.diag([4, -1]) #고윳값 행렬\n",
    "\n",
    "# 고유벡터 행렬 역행렬 존재하는지 보자. \n",
    "print('역행렬 유무 : %s' %np.linalg.det(v)) #역행렬 있다\n",
    "\n",
    "V_INV = np.linalg.inv(v) #고유벡터행렬의 역행렬"
   ]
  },
  {
   "cell_type": "code",
   "execution_count": 112,
   "metadata": {},
   "outputs": [
    {
     "data": {
      "text/plain": [
       "array([[2, 3],\n",
       "       [2, 1]])"
      ]
     },
     "execution_count": 112,
     "metadata": {},
     "output_type": "execute_result"
    }
   ],
   "source": [
    "B #"
   ]
  },
  {
   "cell_type": "code",
   "execution_count": 113,
   "metadata": {
    "scrolled": false
   },
   "outputs": [
    {
     "data": {
      "text/plain": [
       "array([[2., 3.],\n",
       "       [2., 1.]])"
      ]
     },
     "execution_count": 113,
     "metadata": {},
     "output_type": "execute_result"
    }
   ],
   "source": [
    "v@ld@V_INV #대각화된 행렬 B"
   ]
  },
  {
   "cell_type": "code",
   "execution_count": 122,
   "metadata": {},
   "outputs": [
    {
     "name": "stdout",
     "output_type": "stream",
     "text": [
      "[1. 1.]\n",
      "[[ 1.00000000e+00 -1.00000000e+00]\n",
      " [ 0.00000000e+00  2.22044605e-16]]\n"
     ]
    },
    {
     "data": {
      "text/plain": [
       "array([[1.00000000e+00, 4.50359963e+15],\n",
       "       [0.00000000e+00, 4.50359963e+15]])"
      ]
     },
     "execution_count": 122,
     "metadata": {},
     "output_type": "execute_result"
    }
   ],
   "source": [
    "# 3.3.7 연습문제 \n",
    "Z = np.array([[1, 1],\n",
    "             [0, 1]])\n",
    "ld, v = np.linalg.eig(Z)\n",
    "print(ld)\n",
    "\n",
    "print(v)\n",
    "\n",
    "#고유벡터행렬 역행렬이 존재해야만 행렬 대각화 할 수 있다.  == 행렬 대각화 전제조건은 고유벡터행렬 V 역행렬 존재하는거다. \n",
    "np.linalg.inv(v) # v 계산에 수치 오류가 있어서 정확하지 않은 결과 나오는 듯. "
   ]
  },
  {
   "cell_type": "code",
   "execution_count": 125,
   "metadata": {},
   "outputs": [
    {
     "data": {
      "text/plain": [
       "1"
      ]
     },
     "execution_count": 125,
     "metadata": {},
     "output_type": "execute_result"
    }
   ],
   "source": [
    "np.linalg.matrix_rank(v) #랭크가 풀랭크가 아니다 == 역행렬이 없다"
   ]
  },
  {
   "cell_type": "code",
   "execution_count": 165,
   "metadata": {},
   "outputs": [
    {
     "name": "stdout",
     "output_type": "stream",
     "text": [
      "랭크(풀랭크=2) : 2\n",
      "풀랭크\n"
     ]
    },
    {
     "data": {
      "text/plain": [
       "<module 'numpy.linalg' from '/Users/kibeomkim/opt/anaconda3/lib/python3.8/site-packages/numpy/linalg/__init__.py'>"
      ]
     },
     "execution_count": 165,
     "metadata": {},
     "output_type": "execute_result"
    }
   ],
   "source": [
    "# 3.3.8 연습문제 \n",
    "A = np.array([[2,3],\n",
    "             [2,1]])\n",
    "\n",
    "V = np.array([[3/np.sqrt(13), -1/np.sqrt(2)],\n",
    "             [2/np.sqrt(13), 1/np.sqrt(2)]]) #고유벡터행렬\n",
    "\n",
    "LM = np.diag([4, -1]) #고윳값행렬\n",
    "\n",
    "#고유벡터 행렬이 풀랭크인가?(=역행렬 존재하는가?)\n",
    "print('랭크(풀랭크=2) : %s' %np.linalg.matrix_rank(V)) #역행렬 존재한다(=풀랭크다)\n",
    "print('풀랭크')\n",
    "\n",
    "np.linalg"
   ]
  },
  {
   "cell_type": "code",
   "execution_count": 167,
   "metadata": {
    "scrolled": true
   },
   "outputs": [
    {
     "data": {
      "text/plain": [
       "array([[-0.25,  0.75],\n",
       "       [ 0.5 , -0.5 ]])"
      ]
     },
     "execution_count": 167,
     "metadata": {},
     "output_type": "execute_result"
    }
   ],
   "source": [
    "np.linalg.inv(A)"
   ]
  },
  {
   "cell_type": "code",
   "execution_count": 168,
   "metadata": {},
   "outputs": [
    {
     "data": {
      "text/plain": [
       "array([[-0.25,  0.75],\n",
       "       [ 0.5 , -0.5 ]])"
      ]
     },
     "execution_count": 168,
     "metadata": {},
     "output_type": "execute_result"
    }
   ],
   "source": [
    "V@np.linalg.inv(LM)@np.linalg.inv(V)"
   ]
  },
  {
   "cell_type": "code",
   "execution_count": 177,
   "metadata": {},
   "outputs": [
    {
     "data": {
      "text/plain": [
       "array([[-0.25,  0.75],\n",
       "       [ 0.5 , -0.5 ]])"
      ]
     },
     "execution_count": 177,
     "metadata": {},
     "output_type": "execute_result"
    }
   ],
   "source": [
    "#손으로 계산한 결과랑 비교해보자. \n",
    "V_INV = np.array([[np.sqrt(13)/5, np.sqrt(13)/5],\n",
    "         [(-2*np.sqrt(2))/5, (3*np.sqrt(2))/5]])\n",
    "L_INV = np.array([[1/4,0],\n",
    "                 [0,-1]])\n",
    "V@L_INV@V_INV"
   ]
  },
  {
   "cell_type": "code",
   "execution_count": 193,
   "metadata": {},
   "outputs": [
    {
     "name": "stdout",
     "output_type": "stream",
     "text": [
      "[84.49913563  7.33962395  0.16124042]\n",
      "\n",
      "[[ 0.82704493  0.54744843  0.12765933]\n",
      " [ 0.4598639  -0.52829024 -0.71374689]\n",
      " [ 0.32329844 -0.64900666  0.68867153]]\n"
     ]
    }
   ],
   "source": [
    "A = np.array([[60,30,20],\n",
    "             [30,20,15],\n",
    "             [20,15,12]])\n",
    "\n",
    "L, V = np.linalg.eig(A)\n",
    "\n",
    "print(L)\n",
    "print()\n",
    "print(V)\n",
    "\n",
    "L1 = L[0]\n",
    "L2 = L[1]\n",
    "L3 = L[2]\n",
    "\n",
    "v1 = V[:,[0]]\n",
    "v2 = V[:,[1]]\n",
    "v3 = V[:,[2]]\n",
    "\n",
    "A1 = v1@v1.T\n",
    "A2 = v2@v2.T\n",
    "A3 = v3@v3.T"
   ]
  },
  {
   "cell_type": "code",
   "execution_count": 195,
   "metadata": {},
   "outputs": [
    {
     "data": {
      "text/plain": [
       "array([[57.79768857, 32.13739648, 22.59357583],\n",
       "       [32.13739648, 17.8694387 , 12.56276371],\n",
       "       [22.59357583, 12.56276371,  8.83200836]])"
      ]
     },
     "execution_count": 195,
     "metadata": {},
     "output_type": "execute_result"
    }
   ],
   "source": [
    "#첫번째 랭크-1 행렬\n",
    "L1*A1"
   ]
  },
  {
   "cell_type": "code",
   "execution_count": 196,
   "metadata": {},
   "outputs": [
    {
     "data": {
      "text/plain": [
       "array([[ 2.19968372, -2.12270483, -2.60775134],\n",
       "       [-2.12270483,  2.04841985,  2.51649195],\n",
       "       [-2.60775134,  2.51649195,  3.09152039]])"
      ]
     },
     "execution_count": 196,
     "metadata": {},
     "output_type": "execute_result"
    }
   ],
   "source": [
    "#두번째 랭크-1 행렬\n",
    "L2*A2"
   ]
  },
  {
   "cell_type": "code",
   "execution_count": 197,
   "metadata": {},
   "outputs": [
    {
     "data": {
      "text/plain": [
       "array([[ 0.00262772, -0.01469165,  0.01417551],\n",
       "       [-0.01469165,  0.08214145, -0.07925566],\n",
       "       [ 0.01417551, -0.07925566,  0.07647125]])"
      ]
     },
     "execution_count": 197,
     "metadata": {},
     "output_type": "execute_result"
    }
   ],
   "source": [
    "#세번째 랭크-1행렬\n",
    "L3*A3"
   ]
  },
  {
   "cell_type": "code",
   "execution_count": 198,
   "metadata": {},
   "outputs": [
    {
     "data": {
      "text/plain": [
       "array([[60., 30., 20.],\n",
       "       [30., 20., 15.],\n",
       "       [20., 15., 12.]])"
      ]
     },
     "execution_count": 198,
     "metadata": {},
     "output_type": "execute_result"
    }
   ],
   "source": [
    "(L1*A1)+(L2*A2)+(L3*A3)"
   ]
  },
  {
   "cell_type": "code",
   "execution_count": 199,
   "metadata": {},
   "outputs": [
    {
     "data": {
      "text/plain": [
       "array([[60, 30, 20],\n",
       "       [30, 20, 15],\n",
       "       [20, 15, 12]])"
      ]
     },
     "execution_count": 199,
     "metadata": {},
     "output_type": "execute_result"
    }
   ],
   "source": [
    "A"
   ]
  },
  {
   "cell_type": "code",
   "execution_count": 200,
   "metadata": {},
   "outputs": [
    {
     "data": {
      "text/plain": [
       "array([[0.0080948 , 0.00450097, 0.00316432],\n",
       "       [0.00450097, 0.00250269, 0.00175947],\n",
       "       [0.00316432, 0.00175947, 0.00123696]])"
      ]
     },
     "execution_count": 200,
     "metadata": {},
     "output_type": "execute_result"
    }
   ],
   "source": [
    "# 실수로 구성된 대칭행렬 A 역행렬을 랭크-1행렬합으로 표현하기 \n",
    "#1. \n",
    "1/L1*A1"
   ]
  },
  {
   "cell_type": "code",
   "execution_count": 201,
   "metadata": {},
   "outputs": [
    {
     "data": {
      "text/plain": [
       "array([[ 0.45461081, -0.47109706, -0.38347215],\n",
       "       [-0.47109706,  0.48818117,  0.39737858],\n",
       "       [-0.38347215,  0.39737858,  0.32346544]])"
      ]
     },
     "execution_count": 201,
     "metadata": {},
     "output_type": "execute_result"
    }
   ],
   "source": [
    "1/L2/A2"
   ]
  },
  {
   "cell_type": "code",
   "execution_count": 202,
   "metadata": {},
   "outputs": [
    {
     "data": {
      "text/plain": [
       "array([[380.55808746, -68.06585267,  70.54421178],\n",
       "       [-68.06585267,  12.17412125, -12.61739557],\n",
       "       [ 70.54421178, -12.61739557,  13.07681003]])"
      ]
     },
     "execution_count": 202,
     "metadata": {},
     "output_type": "execute_result"
    }
   ],
   "source": [
    "1/L3/A3"
   ]
  },
  {
   "cell_type": "code",
   "execution_count": 203,
   "metadata": {},
   "outputs": [
    {
     "data": {
      "text/plain": [
       "array([[ 0.15, -0.6 ,  0.5 ],\n",
       "       [-0.6 ,  3.2 , -3.  ],\n",
       "       [ 0.5 , -3.  ,  3.  ]])"
      ]
     },
     "execution_count": 203,
     "metadata": {},
     "output_type": "execute_result"
    }
   ],
   "source": [
    "(1/L1*A1)+(1/L2*A2)+(1/L3*A3)"
   ]
  },
  {
   "cell_type": "code",
   "execution_count": 204,
   "metadata": {},
   "outputs": [
    {
     "data": {
      "text/plain": [
       "array([[ 0.15, -0.6 ,  0.5 ],\n",
       "       [-0.6 ,  3.2 , -3.  ],\n",
       "       [ 0.5 , -3.  ,  3.  ]])"
      ]
     },
     "execution_count": 204,
     "metadata": {},
     "output_type": "execute_result"
    }
   ],
   "source": [
    "np.linalg.inv(A)"
   ]
  },
  {
   "cell_type": "markdown",
   "metadata": {},
   "source": [
    "$X^TX$ \n",
    "- 분산행렬(대칭행렬, 정방행렬)"
   ]
  },
  {
   "cell_type": "code",
   "execution_count": 216,
   "metadata": {},
   "outputs": [
    {
     "name": "stdout",
     "output_type": "stream",
     "text": [
      "분산행렬 고윳값 : [9.20830507e+03 3.15454317e+02 1.19780429e+01 3.55257020e+00]\n",
      "\n"
     ]
    }
   ],
   "source": [
    "# 3.3.9 연습문제\n",
    "#1. \n",
    "from sklearn.datasets import load_iris\n",
    "iris = load_iris()\n",
    "X = iris.data #붓꽃 특징행렬\n",
    "\n",
    "#특징행렬의 분산행렬 구하자\n",
    "V_ = X.T@X\n",
    "V_\n",
    "#분산행렬의 고윳값 구하자\n",
    "#고유분해 \n",
    "LAM, V = np.linalg.eig(V_)\n",
    "\n",
    "print('분산행렬 고윳값 : %s' %LAM)\n",
    "print()\n",
    "#print(V)"
   ]
  },
  {
   "cell_type": "code",
   "execution_count": 233,
   "metadata": {},
   "outputs": [
    {
     "name": "stdout",
     "output_type": "stream",
     "text": [
      "[[4.39703436e+04 4.68702660e+02 3.24790952e+04 6.48084600e+01\n",
      "  1.22612317e+03 1.08219511e+04 1.68514980e+05 3.46627456e+03\n",
      "  4.11186651e+04 1.17307321e+06 3.64715518e+04 4.99455291e+05\n",
      "  3.72684187e+04]\n",
      " [4.68702660e+02 3.40029000e+05 2.09030900e+04 2.70000000e+02\n",
      "  2.48444175e+03 3.87184670e+04 2.05485400e+05 3.82992940e+04\n",
      "  2.29180000e+04 1.72295450e+06 9.61321500e+04 2.23960499e+06\n",
      "  3.80196800e+04]\n",
      " [3.24790952e+04 2.09030900e+04 8.65256299e+04 4.45170000e+02\n",
      "  3.43239536e+03 3.44618165e+04 4.49313490e+05 1.62206733e+04\n",
      "  7.17656500e+04 2.72134904e+06 1.06875320e+05 1.89702529e+06\n",
      "  8.62407050e+04]\n",
      " [6.48084600e+01 2.70000000e+02 4.45170000e+02 3.50000000e+01\n",
      "  2.07699000e+01 2.28186000e+02 2.71250000e+03 1.06039800e+02\n",
      "  3.26000000e+02 1.35190000e+04 6.12200000e+02 1.30549100e+04\n",
      "  3.93460000e+02]\n",
      " [1.22612317e+03 2.48444175e+03 3.43239536e+03 2.07699000e+01\n",
      "  1.62470380e+02 1.75151941e+03 2.04522016e+04 9.70389866e+02\n",
      "  2.99183590e+03 1.21170623e+05 5.20395546e+03 9.80793458e+04\n",
      "  3.79832520e+03]\n",
      " [1.08219511e+04 3.87184670e+04 3.44618165e+04 2.28186000e+02\n",
      "  1.75151941e+03 2.02345982e+04 2.15670176e+05 1.22216807e+04\n",
      "  2.97190270e+04 1.28073971e+06 5.84159728e+04 1.13838092e+06\n",
      "  3.86817880e+04]\n",
      " [1.68514980e+05 2.05485400e+05 4.49313490e+05 2.71250000e+03\n",
      "  2.04522016e+04 2.15670176e+05 2.77961463e+06 1.09297470e+05\n",
      "  3.87798200e+05 1.53787387e+07 6.48434860e+05 1.20212117e+07\n",
      "  5.00191627e+05]\n",
      " [3.46627456e+03 3.82992940e+04 1.62206733e+04 1.06039800e+02\n",
      "  9.70389866e+02 1.22216807e+04 1.09297470e+05 9.52676624e+03\n",
      "  1.37581790e+04 6.88153759e+05 3.49048200e+04 7.13218527e+05\n",
      "  2.05235399e+04]\n",
      " [4.11186651e+04 2.29180000e+04 7.17656500e+04 3.26000000e+02\n",
      "  2.99183590e+03 2.97190270e+04 3.87798200e+05 1.37581790e+04\n",
      "  8.44300000e+04 2.64715900e+06 9.36013000e+04 1.54504443e+06\n",
      "  7.64842500e+04]\n",
      " [1.17307321e+06 1.72295450e+06 2.72134904e+06 1.35190000e+04\n",
      "  1.21170623e+05 1.28073971e+06 1.53787387e+07 6.88153759e+05\n",
      "  2.64715900e+06 9.86731360e+07 3.89724000e+06 7.02444962e+07\n",
      "  2.94434880e+06]\n",
      " [3.64715518e+04 9.61321500e+04 1.06875320e+05 6.12200000e+02\n",
      "  5.20395546e+03 5.84159728e+04 6.48434860e+05 3.49048200e+04\n",
      "  9.36013000e+04 3.89724000e+06 1.74713930e+05 3.31309538e+06\n",
      "  1.21080909e+05]\n",
      " [4.99455291e+05 2.23960499e+06 1.89702529e+06 1.30549100e+04\n",
      "  9.80793458e+04 1.13838092e+06 1.20212117e+07 7.13218527e+05\n",
      "  1.54504443e+06 7.02444962e+07 3.31309538e+06 6.85805305e+07\n",
      "  2.16306056e+06]\n",
      " [3.72684187e+04 3.80196800e+04 8.62407050e+04 3.93460000e+02\n",
      "  3.79832520e+03 3.86817880e+04 5.00191627e+05 2.05235399e+04\n",
      "  7.64842500e+04 2.94434880e+06 1.21080909e+05 2.16306056e+06\n",
      "  1.06762958e+05]]\n",
      "\n",
      "\n",
      "[1.58386796e+08 1.18747372e+07 4.17002244e+05 1.61644573e+05\n",
      " 2.52697480e+04 1.47629635e+04 8.18396001e+03 6.07326738e+03\n",
      " 4.23577535e+03 6.06399504e+02 3.27412564e+02 3.04157837e+01\n",
      " 2.19326965e+00]\n"
     ]
    }
   ],
   "source": [
    "#2. \n",
    "from sklearn.datasets import load_boston\n",
    "boston = load_boston()\n",
    "X1 = boston.data #보스턴 집값 특징행렬\n",
    "\n",
    "#특징행렬의 분산행렬 \n",
    "V_2 = X1.T@X1\n",
    "print(V_2)\n",
    "print()\n",
    "print()\n",
    "#분산행렬의 고윳값\n",
    "lam2, V = np.linalg.eig(V_2)\n",
    "print(lam2)"
   ]
  },
  {
   "cell_type": "code",
   "execution_count": null,
   "metadata": {},
   "outputs": [],
   "source": []
  },
  {
   "cell_type": "code",
   "execution_count": null,
   "metadata": {},
   "outputs": [],
   "source": []
  }
 ],
 "metadata": {
  "kernelspec": {
   "display_name": "Python 3",
   "language": "python",
   "name": "python3"
  },
  "language_info": {
   "codemirror_mode": {
    "name": "ipython",
    "version": 3
   },
   "file_extension": ".py",
   "mimetype": "text/x-python",
   "name": "python",
   "nbconvert_exporter": "python",
   "pygments_lexer": "ipython3",
   "version": "3.8.5"
  }
 },
 "nbformat": 4,
 "nbformat_minor": 4
}
