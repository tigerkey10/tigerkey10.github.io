{
 "cells": [
  {
   "cell_type": "code",
   "execution_count": 184,
   "metadata": {},
   "outputs": [
    {
     "data": {
      "text/plain": [
       "[1, 0, 0]"
      ]
     },
     "execution_count": 184,
     "metadata": {},
     "output_type": "execute_result"
    }
   ],
   "source": [
    "#몬티 홀 문제 \n",
    "#1. 자동차,염소,염소가 랜덤으로 뽑히는 문을 3개 만들자.\n",
    "\n",
    "import random \n",
    "from random import randint\n",
    "car = 1\n",
    "goat = 0\n",
    "\n",
    "door = [goat]*3\n",
    "door[randint(0,2)] = car\n",
    "\n",
    "door"
   ]
  },
  {
   "cell_type": "code",
   "execution_count": 185,
   "metadata": {},
   "outputs": [],
   "source": [
    "#2. 내가 문 아무거나 하나 선택했다. \n",
    "my_choice = randint(0,2) #내가 선택한 문 번호\n",
    "\n",
    "mc_range = []\n",
    "\n",
    "for i in range(0,3) : \n",
    "    if i != my_choice and door[i] != car : \n",
    "        mc_range.append(i) #mc가 선택할 수 있는 문 번호\n",
    "        \n",
    "if len(mc_range) == 2 : \n",
    "    mc_choice = mc_range[randint(0,1)]\n",
    "elif len(mc_range) == 1 : \n",
    "    mc_choice = mc_range[0] #mc_choice = mc가 선택한 문 번호"
   ]
  },
  {
   "cell_type": "code",
   "execution_count": 186,
   "metadata": {},
   "outputs": [
    {
     "data": {
      "text/plain": [
       "True"
      ]
     },
     "execution_count": 186,
     "metadata": {},
     "output_type": "execute_result"
    }
   ],
   "source": [
    "#선택 바꾸기 \n",
    "last = []\n",
    "for a in range(0,3) : \n",
    "    if a != my_choice and a != mc_choice : \n",
    "        last.append(a)\n",
    "last_choice = last[0]\n",
    "\n",
    "#확률 계산하기 \n",
    "door[last_choice] == car"
   ]
  },
  {
   "cell_type": "code",
   "execution_count": 195,
   "metadata": {
    "scrolled": true
   },
   "outputs": [
    {
     "name": "stdout",
     "output_type": "stream",
     "text": [
      "1 2 0\n"
     ]
    }
   ],
   "source": [
    "print(my_choice, mc_choice, last_choice)"
   ]
  },
  {
   "cell_type": "markdown",
   "metadata": {},
   "source": [
    "# 함수로 정의하기 "
   ]
  },
  {
   "cell_type": "code",
   "execution_count": 273,
   "metadata": {},
   "outputs": [
    {
     "data": {
      "text/plain": [
       "False"
      ]
     },
     "execution_count": 273,
     "metadata": {},
     "output_type": "execute_result"
    }
   ],
   "source": [
    "def monte() : \n",
    "    car = 1\n",
    "    goat = 0\n",
    "    door = [goat]*3\n",
    "    door[randint(0,2)] = car\n",
    "        \n",
    "    my_choice = randint(0,2) #내가 선택한 문 번호\n",
    "\n",
    "    mc_range = []\n",
    "\n",
    "    for i in range(0,3) : \n",
    "        if i != my_choice and door[i] != car : \n",
    "            mc_range.append(i) #mc가 선택할 수 있는 문 번호\n",
    "        \n",
    "    if len(mc_range) == 2 : \n",
    "        mc_choice = mc_range[randint(0,1)]\n",
    "    elif len(mc_range) == 1 : \n",
    "        mc_choice = mc_range[0] #mc_choice = mc가 선택한 문 번호\n",
    "            \n",
    "    last = []\n",
    "    for a in range(0,3) : \n",
    "        if a != my_choice and a != mc_choice : \n",
    "            last.append(a)\n",
    "    last_choice = last[0] #내가 마지막으로 선택한 문 번호\n",
    "    \n",
    "    result = door[last_choice] == car\n",
    "    return result\n",
    "monte()"
   ]
  },
  {
   "cell_type": "code",
   "execution_count": 274,
   "metadata": {},
   "outputs": [
    {
     "name": "stdout",
     "output_type": "stream",
     "text": [
      "시행횟수 입력 : 1000000\n",
      "통계적 확률 : 0.666\n"
     ]
    }
   ],
   "source": [
    "#통계적 확률(시행 횟수에 상관없이 특정 사건 발생하는 일정한 확률 p) 이 2/3과 일치하는지 보자. \n",
    "cnt = int(input('시행횟수 입력 : '))\n",
    "no = 0\n",
    "for a in range(cnt) : \n",
    "    result = monte()\n",
    "    if result == True : \n",
    "        no += 1\n",
    "print('통계적 확률 : %.3f' %(no/cnt))"
   ]
  },
  {
   "cell_type": "code",
   "execution_count": 217,
   "metadata": {
    "scrolled": true
   },
   "outputs": [
    {
     "data": {
      "text/plain": [
       "0.6666666666666666"
      ]
     },
     "execution_count": 217,
     "metadata": {},
     "output_type": "execute_result"
    }
   ],
   "source": [
    "2/3 #통계적 확률이 2/3으로 나온다. == 바꾸는 게 유리하다."
   ]
  },
  {
   "cell_type": "code",
   "execution_count": 268,
   "metadata": {},
   "outputs": [
    {
     "data": {
      "text/plain": [
       "0.66689"
      ]
     },
     "execution_count": 268,
     "metadata": {},
     "output_type": "execute_result"
    }
   ],
   "source": [
    "def monte(no) : \n",
    "    n=0\n",
    "    for c in range(no) : \n",
    "        car = 1\n",
    "        goat = 0\n",
    "        door = [goat]*3\n",
    "        door[randint(0,2)] = car\n",
    "        \n",
    "        my_choice = randint(0,2) #내가 선택한 문 번호\n",
    "\n",
    "        mc_range = []\n",
    "\n",
    "        for i in range(0,3) : \n",
    "            if i != my_choice and door[i] != car : \n",
    "                mc_range.append(i) #mc가 선택할 수 있는 문 번호\n",
    "        \n",
    "        if len(mc_range) == 2 : \n",
    "            mc_choice = mc_range[randint(0,1)]\n",
    "        elif len(mc_range) == 1 : \n",
    "            mc_choice = mc_range[0] #mc_choice = mc가 선택한 문 번호\n",
    "            \n",
    "        last = []\n",
    "        for a in range(0,3) : \n",
    "            if a != my_choice and a != mc_choice : \n",
    "                last.append(a)\n",
    "        last_choice = last[0] #내가 마지막으로 선택한 문 번호\n",
    "    \n",
    "        result = door[last_choice] == car\n",
    "        if result == True : \n",
    "            n += 1\n",
    "    return (round(n/no,5))\n",
    "no = 1000000\n",
    "monte(no)"
   ]
  },
  {
   "cell_type": "code",
   "execution_count": null,
   "metadata": {},
   "outputs": [],
   "source": []
  },
  {
   "cell_type": "code",
   "execution_count": null,
   "metadata": {},
   "outputs": [],
   "source": []
  }
 ],
 "metadata": {
  "kernelspec": {
   "display_name": "Python 3",
   "language": "python",
   "name": "python3"
  },
  "language_info": {
   "codemirror_mode": {
    "name": "ipython",
    "version": 3
   },
   "file_extension": ".py",
   "mimetype": "text/x-python",
   "name": "python",
   "nbconvert_exporter": "python",
   "pygments_lexer": "ipython3",
   "version": "3.8.5"
  }
 },
 "nbformat": 4,
 "nbformat_minor": 4
}
