{
 "cells": [
  {
   "cell_type": "markdown",
   "metadata": {},
   "source": [
    "# 리스트 축약식 "
   ]
  },
  {
   "cell_type": "code",
   "execution_count": 11,
   "metadata": {
    "scrolled": true
   },
   "outputs": [
    {
     "data": {
      "text/plain": [
       "['KOREA', 'JAPAN', 'CHINA', 'USA']"
      ]
     },
     "execution_count": 11,
     "metadata": {},
     "output_type": "execute_result"
    }
   ],
   "source": [
    "#p.118 예제\n",
    "D = {1:'korea', 2:'japan', 3:'china', 4:'usa'}\n",
    "[i.upper() for i in D.values()]"
   ]
  },
  {
   "cell_type": "markdown",
   "metadata": {},
   "source": [
    "# for 문 , 리스트 축약식 "
   ]
  },
  {
   "cell_type": "code",
   "execution_count": 12,
   "metadata": {},
   "outputs": [
    {
     "name": "stdout",
     "output_type": "stream",
     "text": [
      "1~10까지의 짝수의 합은 30입니다.\n"
     ]
    }
   ],
   "source": [
    "#도전하기 01. \n",
    "sum = 0\n",
    "for i in range(1, 11) : \n",
    "    if i%2 == 0 : \n",
    "        sum += i\n",
    "print(f'1~10까지의 짝수의 합은 {sum}입니다.')"
   ]
  },
  {
   "cell_type": "code",
   "execution_count": 13,
   "metadata": {},
   "outputs": [
    {
     "name": "stdout",
     "output_type": "stream",
     "text": [
      "Apple Orange Banana "
     ]
    }
   ],
   "source": [
    "#02. \n",
    "fruit = ['Apple', 'Orange', 'Banana']\n",
    "for i in fruit : \n",
    "    print(i, end=' ')"
   ]
  },
  {
   "cell_type": "code",
   "execution_count": 16,
   "metadata": {},
   "outputs": [
    {
     "name": "stdout",
     "output_type": "stream",
     "text": [
      "Apple 500\n",
      "Banana 800\n",
      "Orange 900\n"
     ]
    }
   ],
   "source": [
    "#03. \n",
    "fruit_price = {'Apple':500, 'Banana':800, 'Orange':900}\n",
    "for a, b in fruit_price.items() : \n",
    "    print(a, b)"
   ]
  },
  {
   "cell_type": "code",
   "execution_count": 33,
   "metadata": {},
   "outputs": [
    {
     "name": "stdout",
     "output_type": "stream",
     "text": [
      "[2, 2, 8, 9, 7, 9, 3, 10, 10, 3]\n",
      "2 2 8 10 10 "
     ]
    }
   ],
   "source": [
    "#04. \n",
    "import random\n",
    "\n",
    "list1 = []\n",
    "for i in range(1, 11) : \n",
    "    ran = random.randrange(1, 11)\n",
    "    list1.append(ran)\n",
    "print(list1)\n",
    "for i in list1 : \n",
    "    if i%2 == 0 : \n",
    "        print(i, end=' ')\n"
   ]
  },
  {
   "cell_type": "code",
   "execution_count": 42,
   "metadata": {},
   "outputs": [
    {
     "name": "stdout",
     "output_type": "stream",
     "text": [
      "로또 게임 수 입력 : 3\n",
      "1번째 로또 자동 번호 : [14, 21, 36, 3, 18, 29]\n",
      "2번째 로또 자동 번호 : [7, 27, 33, 35, 6, 30]\n",
      "3번째 로또 자동 번호 : [23, 5, 34, 1, 40, 17]\n",
      "로또 번호 리스트 [14, 21, 36, 3, 18, 29, 7, 27, 33, 35, 6, 30, 23, 5, 34, 1, 40, 17]\n"
     ]
    }
   ],
   "source": [
    "#05. \n",
    "from random import sample\n",
    "result_list = []\n",
    "count = int(input('로또 게임 수 입력 : '))\n",
    "for i in range(1, count+1) : \n",
    "    lotto = sample(list(range(1, 46)), 6)\n",
    "    print(f'{i}번째 로또 자동 번호 : {lotto}')\n",
    "    result_list.extend(lotto)\n",
    "    \n",
    "print(f'로또 번호 리스트 {result_list}')"
   ]
  },
  {
   "cell_type": "code",
   "execution_count": 43,
   "metadata": {},
   "outputs": [
    {
     "name": "stdout",
     "output_type": "stream",
     "text": [
      "단 입력 : 3\n",
      "3*1=3\n",
      "3*2=6\n",
      "3*3=9\n",
      "3*4=12\n",
      "3*5=15\n",
      "3*6=18\n",
      "3*7=21\n",
      "3*8=24\n",
      "3*9=27\n"
     ]
    }
   ],
   "source": [
    "#06. \n",
    "dan = int(input('단 입력 : '))\n",
    "for i in range(1, 10) : \n",
    "    print(f'{dan}*{i}={dan*i}')"
   ]
  },
  {
   "cell_type": "code",
   "execution_count": 44,
   "metadata": {},
   "outputs": [
    {
     "name": "stdout",
     "output_type": "stream",
     "text": [
      "Index : 0, Value : Apple\n",
      "Index : 1, Value : Orange\n",
      "Index : 2, Value : Banana\n"
     ]
    }
   ],
   "source": [
    "#07. \n",
    "L = ['Apple', 'Orange', 'Banana']\n",
    "for i in L : \n",
    "    print('Index : {}, Value : {}'.format(L.index(i), i))"
   ]
  },
  {
   "cell_type": "code",
   "execution_count": 47,
   "metadata": {},
   "outputs": [
    {
     "name": "stdout",
     "output_type": "stream",
     "text": [
      "난수 리스트 [68, 61, 93, 19, 40, 9, 72, 89, 88, 62]\n",
      "최댓값 : 93\n",
      "최솟값 : 9\n"
     ]
    }
   ],
   "source": [
    "#08. \n",
    "n_list = []\n",
    "for i in range(10) : \n",
    "    n = random.randrange(1, 100)\n",
    "    n_list.append(n) #10개 난수로 구성된 난수 리스트\n",
    "max = n_list[0]\n",
    "min = n_list[0]\n",
    "for i in range(1, 10) : \n",
    "    if max < n_list[i] : \n",
    "        max = n_list[i]\n",
    "    if min > n_list[i] : \n",
    "        min = n_list[i]\n",
    "print(f'난수 리스트 {n_list}')\n",
    "print(f'최댓값 : {max}')\n",
    "print(f'최솟값 : {min}')"
   ]
  },
  {
   "cell_type": "code",
   "execution_count": 49,
   "metadata": {},
   "outputs": [
    {
     "name": "stdout",
     "output_type": "stream",
     "text": [
      "첫번째 단 입력 : 4\n",
      "두번째 단 입력 : 6\n",
      "4*1=4\n",
      "4*2=8\n",
      "4*3=12\n",
      "4*4=16\n",
      "4*5=20\n",
      "4*6=24\n",
      "4*7=28\n",
      "4*8=32\n",
      "4*9=36\n",
      "\n",
      "6*1=6\n",
      "6*2=12\n",
      "6*3=18\n",
      "6*4=24\n",
      "6*5=30\n",
      "6*6=36\n",
      "6*7=42\n",
      "6*8=48\n",
      "6*9=54\n",
      "\n"
     ]
    }
   ],
   "source": [
    "#09. \n",
    "dan1 = int(input('첫번째 단 입력 : '))\n",
    "dan2 = int(input('두번째 단 입력 : '))\n",
    "\n",
    "for dan in [dan1, dan2] : \n",
    "    for surplus in range(1, 10) : \n",
    "        print(f'{dan}*{surplus}={dan*surplus}')\n",
    "    print()\n"
   ]
  },
  {
   "cell_type": "code",
   "execution_count": 72,
   "metadata": {},
   "outputs": [
    {
     "name": "stdout",
     "output_type": "stream",
     "text": [
      "10일간의 한 밤 온도 : [24, 22, 25, 25, 27, 20, 26, 22, 22, 29]\n",
      "열대야 온도 : [25, 25, 27, 26, 29]\n",
      "열대야 온도 수 : 5\n",
      "최고 온도 : 29\n"
     ]
    }
   ],
   "source": [
    "#10. \n",
    "night = []\n",
    "for i in range(10) : \n",
    "    cel = random.randrange(20, 31)\n",
    "    night.append(cel)\n",
    "print(f'10일간의 한 밤 온도 : {night}')\n",
    "\n",
    "tropical_night = []\n",
    "count = 0\n",
    "for i in night : \n",
    "    if i >= 25 : \n",
    "        tropical_night.append(i)\n",
    "        count += 1\n",
    "print(f'열대야 온도 : {tropical_night}')\n",
    "print(f'열대야 온도 수 : {count}')\n",
    "max = tropical_night[0]\n",
    "for i in range(1, count) : \n",
    "    if max < tropical_night[i] : \n",
    "        max = tropical_night[i]\n",
    "print(f'최고 온도 : {max}')"
   ]
  },
  {
   "cell_type": "code",
   "execution_count": 109,
   "metadata": {
    "scrolled": true
   },
   "outputs": [
    {
     "name": "stdout",
     "output_type": "stream",
     "text": [
      "정렬 전 : [5, 10, 5, 6, 2]\n",
      "정렬 후 : [2, 5, 5, 6, 10]\n"
     ]
    }
   ],
   "source": [
    "#11. 버블정렬 알고리듬\n",
    "r_list = []\n",
    "for i in range(5) : \n",
    "    ran = random.randrange(1,11)\n",
    "    r_list.append(ran)\n",
    "print(f'정렬 전 : {r_list}')\n",
    "\n",
    "for a in range(5) : \n",
    "    for b in range(a+1, 5) : \n",
    "        if r_list[a] > r_list[b] : \n",
    "            ch1 = r_list[a]\n",
    "            ch2 = r_list[b]\n",
    "            r_list[a] = ch2\n",
    "            r_list[b] = ch1\n",
    "print(f'정렬 후 : {r_list}')"
   ]
  },
  {
   "cell_type": "code",
   "execution_count": 93,
   "metadata": {},
   "outputs": [
    {
     "data": {
      "text/plain": [
       "[2, 4, 6, 8, 10]"
      ]
     },
     "execution_count": 93,
     "metadata": {},
     "output_type": "execute_result"
    }
   ],
   "source": [
    "#12.리스트 축약식 사용하기 \n",
    "L = [1,2,3,4,5]\n",
    "[i*2 for i in L]"
   ]
  },
  {
   "cell_type": "code",
   "execution_count": 95,
   "metadata": {},
   "outputs": [
    {
     "data": {
      "text/plain": [
       "[3, 5, 4, 5, 5]"
      ]
     },
     "execution_count": 95,
     "metadata": {},
     "output_type": "execute_result"
    }
   ],
   "source": [
    "#13. \n",
    "[len(a) for a in ('red', 'green', 'blue', 'white', 'black')]"
   ]
  },
  {
   "cell_type": "code",
   "execution_count": 96,
   "metadata": {},
   "outputs": [
    {
     "data": {
      "text/plain": [
       "['KOREA', 'JAPAN', 'CHINA', 'USA']"
      ]
     },
     "execution_count": 96,
     "metadata": {},
     "output_type": "execute_result"
    }
   ],
   "source": [
    "#14. \n",
    "[i.upper() for i in {1:'korea',2:'japan',3:'china',4:'usa'}.values()]"
   ]
  },
  {
   "cell_type": "code",
   "execution_count": 98,
   "metadata": {},
   "outputs": [
    {
     "data": {
      "text/plain": [
       "['orange', 'banana']"
      ]
     },
     "execution_count": 98,
     "metadata": {},
     "output_type": "execute_result"
    }
   ],
   "source": [
    "#15. \n",
    "[i for i in ['apple', 'orange', 'banana', 'grape'] if len(i) > 5]"
   ]
  },
  {
   "cell_type": "markdown",
   "metadata": {},
   "source": [
    "# break와 continue \n"
   ]
  },
  {
   "cell_type": "code",
   "execution_count": 110,
   "metadata": {},
   "outputs": [
    {
     "name": "stdout",
     "output_type": "stream",
     "text": [
      "1\n",
      "2\n",
      "3\n",
      "4\n",
      "5\n"
     ]
    }
   ],
   "source": [
    "# 예제 1\n",
    "count = 0\n",
    "for i in range(1, 11) : \n",
    "    print(i)\n",
    "    count += 1\n",
    "    if count == 5 : \n",
    "        break"
   ]
  },
  {
   "cell_type": "code",
   "execution_count": 111,
   "metadata": {},
   "outputs": [
    {
     "name": "stdout",
     "output_type": "stream",
     "text": [
      "2\n",
      "4\n",
      "6\n",
      "8\n",
      "10\n"
     ]
    }
   ],
   "source": [
    "# 예제 2. \n",
    "no = 1\n",
    "while no <= 10 : \n",
    "    if no%2 != 0 : \n",
    "        no += 1\n",
    "        continue\n",
    "    print(no)\n",
    "    no += 1"
   ]
  },
  {
   "cell_type": "code",
   "execution_count": 129,
   "metadata": {},
   "outputs": [
    {
     "name": "stdout",
     "output_type": "stream",
     "text": [
      "게임을 시작하겠습니까?(y/n) : y\n",
      "computer : 5\n",
      "me : 5\n",
      "비겼네요!\n",
      "게임을 시작하겠습니까?(y/n) : k\n",
      "다시 입력하세요. y/n만 입력 가능합니다!\n",
      "게임을 시작하겠습니까?(y/n) : y\n",
      "computer : 5\n",
      "me : 6\n",
      "----------------------------------------------------------------------------------------------------\n",
      "me가 더 높은 주사위 눈 나왔습니다!\n",
      "----------------------------------------------------------------------------------------------------\n",
      "게임을 시작하겠습니까?(y/n) : n\n",
      "게임을 종료합니다.\n"
     ]
    }
   ],
   "source": [
    "#도전하기 01. \n",
    "while True : \n",
    "    try  : \n",
    "        question = input('게임을 시작하겠습니까?(y/n) : ')\n",
    "        if question != 'y' and question != 'n' and question != 'Y' and question != 'N' : \n",
    "            raise ValueError\n",
    "    except ValueError: \n",
    "        print('다시 입력하세요. y/n만 입력 가능합니다!')\n",
    "        continue\n",
    "    if question == 'n' or question == 'N' : \n",
    "        print('게임을 종료합니다.')\n",
    "        break\n",
    "    computer = random.randint(1, 6)\n",
    "    me = random.randint(1, 6)\n",
    "    print(f'computer : {computer}')\n",
    "    print(f'me : {me}')\n",
    "    if computer > me : \n",
    "        print('#'*100)\n",
    "        print(f'computer가 더 높은 주사위 눈 나왔습니다!')\n",
    "        print('#'*100)\n",
    "    elif computer < me : \n",
    "        print('-'*100)\n",
    "        print(f'me가 더 높은 주사위 눈 나왔습니다!')\n",
    "        print('-'*100)\n",
    "    else : \n",
    "        print(f'비겼네요!')"
   ]
  },
  {
   "cell_type": "code",
   "execution_count": 121,
   "metadata": {
    "scrolled": true
   },
   "outputs": [
    {
     "name": "stdout",
     "output_type": "stream",
     "text": [
      "숫자 입력하세요 : 5\n",
      "입력한 값 5는 3의 배수가 아닙니다\n",
      "숫자 입력하세요 : 4\n",
      "입력한 값 4는 3의 배수가 아닙니다\n",
      "숫자 입력하세요 : 3\n",
      "입력한 값 3는 3의 배수입니다\n"
     ]
    }
   ],
   "source": [
    "#02. \n",
    "while True : \n",
    "    number = int(input('숫자 입력하세요 : '))\n",
    "    if number%3 != 0 : \n",
    "        print('입력한 값 {}는 3의 배수가 아닙니다'.format(number))\n",
    "    elif number%3 == 0 : \n",
    "        print('입력한 값 {}는 3의 배수입니다'.format(number))\n",
    "        break"
   ]
  },
  {
   "cell_type": "code",
   "execution_count": 126,
   "metadata": {},
   "outputs": [
    {
     "name": "stdout",
     "output_type": "stream",
     "text": [
      "1 2 4 5 7 8 10 "
     ]
    }
   ],
   "source": [
    "#03. \n",
    "for i in range(1, 11) : \n",
    "    if i%3 != 0 : \n",
    "        print(i, end=' ')\n",
    "    else : \n",
    "        continue"
   ]
  },
  {
   "cell_type": "code",
   "execution_count": null,
   "metadata": {},
   "outputs": [],
   "source": []
  },
  {
   "cell_type": "code",
   "execution_count": null,
   "metadata": {},
   "outputs": [],
   "source": []
  }
 ],
 "metadata": {
  "kernelspec": {
   "display_name": "Python 3",
   "language": "python",
   "name": "python3"
  },
  "language_info": {
   "codemirror_mode": {
    "name": "ipython",
    "version": 3
   },
   "file_extension": ".py",
   "mimetype": "text/x-python",
   "name": "python",
   "nbconvert_exporter": "python",
   "pygments_lexer": "ipython3",
   "version": "3.8.5"
  }
 },
 "nbformat": 4,
 "nbformat_minor": 4
}
