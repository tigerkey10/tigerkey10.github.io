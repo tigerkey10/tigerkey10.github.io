{
 "cells": [
  {
   "cell_type": "code",
   "execution_count": 9,
   "metadata": {},
   "outputs": [],
   "source": [
    "from sklearn.datasets import load_iris\n",
    "X = load_iris()\n",
    "X = X.data\n",
    "iris = X[:10, :2]"
   ]
  },
  {
   "cell_type": "code",
   "execution_count": 15,
   "metadata": {},
   "outputs": [],
   "source": [
    "from sklearn.decomposition import PCA\n",
    "pca1 = PCA(n_components=1)\n",
    "x_low = pca1.fit_transform(iris)"
   ]
  },
  {
   "cell_type": "code",
   "execution_count": 17,
   "metadata": {},
   "outputs": [
    {
     "data": {
      "text/plain": [
       "array([4.97021731, 3.42785306])"
      ]
     },
     "execution_count": 17,
     "metadata": {},
     "output_type": "execute_result"
    }
   ],
   "source": [
    "pca1.inverse_transform(x_low)[7]"
   ]
  },
  {
   "cell_type": "code",
   "execution_count": 18,
   "metadata": {},
   "outputs": [
    {
     "data": {
      "text/plain": [
       "array([0.16136046])"
      ]
     },
     "execution_count": 18,
     "metadata": {},
     "output_type": "execute_result"
    }
   ],
   "source": [
    "x_low[7]"
   ]
  },
  {
   "cell_type": "code",
   "execution_count": 21,
   "metadata": {},
   "outputs": [
    {
     "data": {
      "text/plain": [
       "array([[4.97021731, 3.42785306]])"
      ]
     },
     "execution_count": 21,
     "metadata": {},
     "output_type": "execute_result"
    }
   ],
   "source": [
    "pca1.mean_+0.16136046*pca1.components_"
   ]
  },
  {
   "cell_type": "code",
   "execution_count": null,
   "metadata": {},
   "outputs": [],
   "source": []
  },
  {
   "cell_type": "code",
   "execution_count": 28,
   "metadata": {},
   "outputs": [
    {
     "data": {
      "text/plain": [
       "array([0.14, 0.09])"
      ]
     },
     "execution_count": 28,
     "metadata": {},
     "output_type": "execute_result"
    }
   ],
   "source": [
    "iris[7]-pca1.mean_"
   ]
  },
  {
   "cell_type": "code",
   "execution_count": 31,
   "metadata": {},
   "outputs": [
    {
     "data": {
      "text/plain": [
       "array([[0.68305029, 0.73037134]])"
      ]
     },
     "execution_count": 31,
     "metadata": {},
     "output_type": "execute_result"
    }
   ],
   "source": [
    "pca1.components_"
   ]
  },
  {
   "cell_type": "code",
   "execution_count": 36,
   "metadata": {},
   "outputs": [
    {
     "data": {
      "text/plain": [
       "array([0.16136046])"
      ]
     },
     "execution_count": 36,
     "metadata": {},
     "output_type": "execute_result"
    }
   ],
   "source": [
    "pca1.components_@(iris[7]-pca1.mean_)"
   ]
  },
  {
   "cell_type": "code",
   "execution_count": 34,
   "metadata": {},
   "outputs": [
    {
     "data": {
      "text/plain": [
       "array([0.16136046])"
      ]
     },
     "execution_count": 34,
     "metadata": {},
     "output_type": "execute_result"
    }
   ],
   "source": [
    "x_low[7]"
   ]
  },
  {
   "cell_type": "code",
   "execution_count": 51,
   "metadata": {},
   "outputs": [
    {
     "data": {
      "text/plain": [
       "array([0.16136046])"
      ]
     },
     "execution_count": 51,
     "metadata": {},
     "output_type": "execute_result"
    }
   ],
   "source": [
    "aa = pca1.inverse_transform(x_low)[7] - pca1.mean_\n",
    "aa@pca1.components_.T"
   ]
  },
  {
   "cell_type": "code",
   "execution_count": 53,
   "metadata": {},
   "outputs": [
    {
     "data": {
      "text/plain": [
       "array([0.6830503 , 0.73037135])"
      ]
     },
     "execution_count": 53,
     "metadata": {},
     "output_type": "execute_result"
    }
   ],
   "source": [
    "aa/0.16136046"
   ]
  },
  {
   "cell_type": "code",
   "execution_count": null,
   "metadata": {},
   "outputs": [],
   "source": []
  },
  {
   "cell_type": "markdown",
   "metadata": {},
   "source": [
    "# PCA \n",
    "- PCA는 [고차원 데이터 차원축소 시켜] 주성분을 찾는 분석이다\n",
    "- 주성분 : 투영벡터 만들어주는 공간의 기저벡터들\n",
    "- pca1.components_ 결과가 주성분들이다\n",
    "- 주성분의 의미 : 데이터 간 차이 만들어내는 주요 원인"
   ]
  },
  {
   "cell_type": "code",
   "execution_count": 60,
   "metadata": {
    "scrolled": false
   },
   "outputs": [
    {
     "data": {
      "text/plain": [
       "array([[ 0.30270263],\n",
       "       [-0.1990931 ],\n",
       "       [-0.18962889],\n",
       "       [-0.33097106],\n",
       "       [ 0.30743473],\n",
       "       [ 0.79976625],\n",
       "       [-0.11185966],\n",
       "       [ 0.16136046],\n",
       "       [-0.61365539],\n",
       "       [-0.12605597]])"
      ]
     },
     "execution_count": 60,
     "metadata": {},
     "output_type": "execute_result"
    }
   ],
   "source": [
    "from sklearn.datasets import load_iris\n",
    "X = load_iris()\n",
    "X = X.data\n",
    "iris = X[:10, :2]\n",
    "\n",
    "\n",
    "pca2 = PCA(n_components=1)\n",
    "X_low = pca2.fit_transform(iris)\n",
    "X_low "
   ]
  },
  {
   "cell_type": "markdown",
   "metadata": {},
   "source": [
    "- 위 X_low 각 값은 주성분이 저차원 근사데이터에서 차지하는 비중이다. (주성분이 얼마나 들었나 보여준다)\n",
    "- '비중' 이기 때문에 저차원 데이터 구성할 때 주성분의 가중치로 쓰인다.(평균 + 가중치*주성분)\n",
    "- 주성분 값 이라고도 한다(=잠재변수, 기저에서 각 측정치 결정짓는 데이터)\n",
    "- 주성분 * 측정치 = 주성분 값(잠재변수)\n",
    "- 차원축소한 저차원데이터 각 원소는 '주성분 값'으로 이뤄져 있다(평균을 베이스로, 주성분만으로 구성되어 있다는 뜻)"
   ]
  },
  {
   "cell_type": "code",
   "execution_count": 61,
   "metadata": {
    "scrolled": true
   },
   "outputs": [
    {
     "data": {
      "text/plain": [
       "array([[5.06676112, 3.53108532],\n",
       "       [4.7240094 , 3.1645881 ],\n",
       "       [4.73047393, 3.17150049],\n",
       "       [4.63393012, 3.06826822],\n",
       "       [5.06999338, 3.53454152],\n",
       "       [5.40628057, 3.89412635],\n",
       "       [4.78359423, 3.22830091],\n",
       "       [4.97021731, 3.42785306],\n",
       "       [4.44084251, 2.86180369],\n",
       "       [4.77389743, 3.21793233]])"
      ]
     },
     "execution_count": 61,
     "metadata": {},
     "output_type": "execute_result"
    }
   ],
   "source": [
    "pca2.inverse_transform(X_low)"
   ]
  },
  {
   "cell_type": "markdown",
   "metadata": {},
   "source": [
    "- 위 '근삿값'들은 평균과 주성분만으로 이루어진 근삿값들이다.\n",
    "- (평균 +) 주성분1비중 * 주성분1 이런 식이다\n",
    "- 바로 위에 X_low랑 실질적으로 같은 데이터다."
   ]
  },
  {
   "cell_type": "code",
   "execution_count": 67,
   "metadata": {},
   "outputs": [],
   "source": [
    "from sklearn.datasets import fetch_olivetti_faces\n",
    "faces_all = fetch_olivetti_faces()\n",
    "K = 20 \n",
    "faces = faces_all.data[faces_all.target == K]\n",
    "\n",
    "from sklearn.decomposition import PCA\n",
    "pca3 = PCA(n_components=2) #주성분 2개로 쪼개겠다(분석하겠다)\n",
    "W3 = pca3.fit_transform(faces)\n",
    "X32 = pca3.inverse_transform(W3)"
   ]
  },
  {
   "cell_type": "code",
   "execution_count": 68,
   "metadata": {
    "scrolled": true
   },
   "outputs": [
    {
     "data": {
      "text/plain": [
       "array([[-2.21367  ,  4.2135177],\n",
       "       [ 2.2680933,  3.7376187],\n",
       "       [ 0.6599961,  3.1209517],\n",
       "       [-1.7500489, -1.4096609],\n",
       "       [-3.3963835, -1.5552838],\n",
       "       [-3.3355877, -1.7309338],\n",
       "       [ 3.385144 , -2.1805756],\n",
       "       [ 3.933819 , -1.599893 ],\n",
       "       [-3.209439 , -1.2286702],\n",
       "       [ 3.6580758, -1.3670714]], dtype=float32)"
      ]
     },
     "execution_count": 68,
     "metadata": {},
     "output_type": "execute_result"
    }
   ],
   "source": [
    "W3 "
   ]
  },
  {
   "cell_type": "markdown",
   "metadata": {},
   "source": [
    "- 2차원 근사된 투영벡터들이다. \n",
    "- 원래 데이터와 가장 비슷한 벡터들이다.\n",
    "- 차원축소시켜 주성분들로만 구성한 형태다.\n",
    "- [-2.21367  ,  4.2135177] 예컨대 이 첫번째 행벡터에서 각 성분은 주성분 값(=주성분 비중)들이다. 1번과 2번 주성분이 각각 얼마나 들었는가를 나타낸다"
   ]
  },
  {
   "cell_type": "code",
   "execution_count": 71,
   "metadata": {
    "scrolled": true
   },
   "outputs": [
    {
     "data": {
      "text/plain": [
       "array([[0.45896995, 0.5135882 , 0.5374876 , ..., 0.33472347, 0.41416875,\n",
       "        0.52335477],\n",
       "       [0.27795827, 0.3479541 , 0.40254143, ..., 0.13221818, 0.1806547 ,\n",
       "        0.22391379],\n",
       "       [0.34369674, 0.402159  , 0.4443843 , ..., 0.24315678, 0.2896998 ,\n",
       "        0.3393223 ],\n",
       "       ...,\n",
       "       [0.21585849, 0.25214228, 0.30928147, ..., 0.30781987, 0.2594024 ,\n",
       "        0.16483155],\n",
       "       [0.5047524 , 0.51356775, 0.5211306 , ..., 0.64940953, 0.6440118 ,\n",
       "        0.64601374],\n",
       "       [0.22679117, 0.26368392, 0.3192842 , ..., 0.3103847 , 0.26724052,\n",
       "        0.18119562]], dtype=float32)"
      ]
     },
     "execution_count": 71,
     "metadata": {},
     "output_type": "execute_result"
    }
   ],
   "source": [
    "X32"
   ]
  },
  {
   "cell_type": "markdown",
   "metadata": {},
   "source": [
    "- 위 데이터들은 그 위에 2차원 축소된 데이터들이랑 같은거다. \n",
    "- 주성분으로만 이루어진 데이터다(평균은 베이스로 두고)\n",
    "- 구성 : (평균+) <주성분1 비중 * 주성분 1> + <주성분2 비중 * 주성분 2 >\n",
    "- 각 주성분 1, 2가 나타내는 얼굴 이미지를 '아이겐페이스'라고 한다\n"
   ]
  },
  {
   "cell_type": "markdown",
   "metadata": {},
   "source": [
    "# 고차원 데이터 차원축소 시키는 이유는? \n",
    "- '압축'해서 주성분만으로 구성하기 위해서 \n",
    "- 그 후 압축된 저차원 데이터 구성하는 주성분 찾아내기 위해서 "
   ]
  },
  {
   "cell_type": "markdown",
   "metadata": {},
   "source": [
    "# --> 결론 : PCA 목표는 '주성분 찾기'다"
   ]
  },
  {
   "cell_type": "code",
   "execution_count": null,
   "metadata": {},
   "outputs": [],
   "source": []
  },
  {
   "cell_type": "code",
   "execution_count": null,
   "metadata": {},
   "outputs": [],
   "source": []
  }
 ],
 "metadata": {
  "kernelspec": {
   "display_name": "Python 3",
   "language": "python",
   "name": "python3"
  },
  "language_info": {
   "codemirror_mode": {
    "name": "ipython",
    "version": 3
   },
   "file_extension": ".py",
   "mimetype": "text/x-python",
   "name": "python",
   "nbconvert_exporter": "python",
   "pygments_lexer": "ipython3",
   "version": "3.8.5"
  }
 },
 "nbformat": 4,
 "nbformat_minor": 4
}
