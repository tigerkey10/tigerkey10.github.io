{
 "metadata": {
  "language_info": {
   "codemirror_mode": {
    "name": "ipython",
    "version": 3
   },
   "file_extension": ".py",
   "mimetype": "text/x-python",
   "name": "python",
   "nbconvert_exporter": "python",
   "pygments_lexer": "ipython3",
   "version": "3.8.5"
  },
  "orig_nbformat": 4,
  "kernelspec": {
   "name": "python3",
   "display_name": "Python 3.8.5 64-bit ('base': conda)"
  },
  "interpreter": {
   "hash": "763d474441fddba0f33013a9d1e225472a278d648ad009624f32af99627e6f43"
  }
 },
 "nbformat": 4,
 "nbformat_minor": 2,
 "cells": [
  {
   "source": [
    "2021-06-24 베이즈정리 복습"
   ],
   "cell_type": "markdown",
   "metadata": {}
  },
  {
   "source": [
    "# 베이즈 정리 \n",
    "- 중간에 들어온 정보로 인해(사건 B가 발생) 사건 A 사전확률이 어떻게 사후확률로 변하는지 보여준다.\n",
    "\n"
   ],
   "cell_type": "markdown",
   "metadata": {}
  },
  {
   "source": [
    "# P(A|B) = (P(B|A)P(A))/P(B)\n",
    "- P(A) : 사전확률\n",
    "- P(B|A) : 가능도\n",
    "- P(B) : 정규화상수(크기조절, 별 의미 없음)"
   ],
   "cell_type": "markdown",
   "metadata": {}
  },
  {
   "source": [
    "# 베이즈정리의 확장 \n",
    "- 일반형 : 전체확률의 법칙 사용해서 정규화 상수 변형\n",
    "- 축소형 : A와 A여집합 두 개를 전체확률의 법칙 적용, 정규화 상수 변형"
   ],
   "cell_type": "markdown",
   "metadata": {}
  },
  {
   "cell_type": "code",
   "execution_count": 2,
   "metadata": {},
   "outputs": [
    {
     "output_type": "stream",
     "name": "stdout",
     "text": [
      "+------+-------+\n| X(0) | 0.998 |\n+------+-------+\n| X(1) | 0.002 |\n+------+-------+\n"
     ]
    }
   ],
   "source": [
    "# 조건부확률모형 구현\n",
    "# 사전확률 모형\n",
    "from pgmpy.factors.discrete import TabularCPD\n",
    "\n",
    "cpd_X = TabularCPD('X',2,np.array([[1-0.002],[0.002]]))\n",
    "print(cpd_X)"
   ]
  },
  {
   "cell_type": "code",
   "execution_count": 3,
   "metadata": {},
   "outputs": [
    {
     "output_type": "stream",
     "name": "stdout",
     "text": [
      "+------+------+------+\n| X    | X(0) | X(1) |\n+------+------+------+\n| Y(0) | 0.95 | 0.01 |\n+------+------+------+\n| Y(1) | 0.05 | 0.99 |\n+------+------+------+\n"
     ]
    }
   ],
   "source": [
    "# 가능도 모형 \n",
    "cpd_Y_on_X = TabularCPD('Y',2,np.array([[0.95,0.01],[0.05,0.99]]),evidence=['X'],evidence_card=[2])\n",
    "print(cpd_Y_on_X)"
   ]
  },
  {
   "cell_type": "code",
   "execution_count": 4,
   "metadata": {},
   "outputs": [
    {
     "output_type": "execute_result",
     "data": {
      "text/plain": [
       "True"
      ]
     },
     "metadata": {},
     "execution_count": 4
    }
   ],
   "source": [
    "# 사전확률, 가능도 모두 구했다. \n",
    "# 베이지안 모형에 넣자. \n",
    "from pgmpy.models import BayesianModel\n",
    "model = BayesianModel([('X','Y')])\n",
    "model.add_cpds(cpd_Y_on_X,cpd_X) # 사전확률모형 # 가능도모형 추가 \n",
    "model.check_model() # 베이지안 모형 정상이다. "
   ]
  },
  {
   "source": [
    "# 베이지안 모형 이용한 추정 --> 사후확률 계산하기\n",
    "from pgmpy.inference import VariableElimination\n",
    "\n",
    "inference = VariableElimination(model)\n",
    "posterior = inference.query(['X'],evidence={'Y':1})\n",
    "print(posterior) # X=0(P(D|S)), X=1(P(DC|S))의 사후확률"
   ],
   "cell_type": "code",
   "metadata": {},
   "execution_count": 6,
   "outputs": [
    {
     "output_type": "stream",
     "name": "stderr",
     "text": [
      "\n",
      "0it [00:00, ?it/s]\u001b[A\n",
      "Finding Elimination Order: : : 0it [00:00, ?it/s]\u001b[A\n",
      "\n",
      "0it [00:00, ?it/s]+------+----------+\n",
      "| X    |   phi(X) |\n",
      "+======+==========+\n",
      "| X(0) |   0.9618 |\n",
      "+------+----------+\n",
      "| X(1) |   0.0382 |\n",
      "+------+----------+\n",
      "\n"
     ]
    }
   ]
  },
  {
   "source": [
    "# 이진분류문제로 풀었으면 X=0으로 분류했을 것이다. (병에 걸리지 않았다!)"
   ],
   "cell_type": "markdown",
   "metadata": {}
  },
  {
   "cell_type": "code",
   "execution_count": 10,
   "metadata": {},
   "outputs": [
    {
     "output_type": "stream",
     "name": "stdout",
     "text": [
      "사전확률모형\n+------+-------+\n| X(0) | 0.998 |\n+------+-------+\n| X(1) | 0.002 |\n+------+-------+\n"
     ]
    }
   ],
   "source": [
    "# 다시 패키지 사용법 연습하면서 이진분류문제 풀어보자. \n",
    "# 1. 사전확률모형 구하자. \n",
    "from pgmpy.factors.discrete import TabularCPD\n",
    "\n",
    "cpd_X = TabularCPD('X',2,np.array([[0.998],[0.002]])) # 사전확률모형\n",
    "print('사전확률모형')\n",
    "print(cpd_X)"
   ]
  },
  {
   "cell_type": "code",
   "execution_count": 24,
   "metadata": {},
   "outputs": [
    {
     "output_type": "stream",
     "name": "stdout",
     "text": [
      "가능도모형\n+------+------+------+\n| X    | X(0) | X(1) |\n+------+------+------+\n| Y(0) | 0.95 | 0.01 |\n+------+------+------+\n| Y(1) | 0.05 | 0.99 |\n+------+------+------+\n"
     ]
    }
   ],
   "source": [
    "# 2. 가능도 모형\n",
    "cpd_Y_on_X = TabularCPD('Y',2,np.array([[0.95,0.01],[0.05,0.99]]),\n",
    "evidence=['X'],evidence_card=[2])\n",
    "print('가능도모형')\n",
    "print(cpd_Y_on_X)"
   ]
  },
  {
   "cell_type": "code",
   "execution_count": 32,
   "metadata": {},
   "outputs": [
    {
     "output_type": "execute_result",
     "data": {
      "text/plain": [
       "True"
      ]
     },
     "metadata": {},
     "execution_count": 32
    }
   ],
   "source": [
    "# 베이지안모형 생성\n",
    "from pgmpy.models import BayesianModel\n",
    "model = BayesianModel([('X','Y')])\n",
    "model.add_cpds(cpd_X,cpd_Y_on_X)\n",
    "model.check_model() # 베이지안 모형 생성 완료"
   ]
  },
  {
   "cell_type": "code",
   "execution_count": 39,
   "metadata": {},
   "outputs": [
    {
     "output_type": "stream",
     "name": "stderr",
     "text": [
      "\n",
      "0it [00:00, ?it/s]\u001b[A\n",
      "Finding Elimination Order: : : 0it [00:00, ?it/s]\u001b[A\n",
      "\n",
      "0it [00:00, ?it/s]+------+----------+\n",
      "| X    |   phi(X) |\n",
      "+======+==========+\n",
      "| X(0) |   0.9618 |\n",
      "+------+----------+\n",
      "| X(1) |   0.0382 |\n",
      "+------+----------+\n",
      "\n"
     ]
    }
   ],
   "source": [
    "from pgmpy.inference import VariableElimination\n",
    "inference = VariableElimination(model) # 추정객체 생성\n",
    "print(inference.query(['X'],evidence={'Y':1}))"
   ]
  },
  {
   "source": [
    "# 베이즈 정리의 확장 2\n",
    "- P(A|B,C) = (P(C|A,B)P(A|B))/P(C|B)\n",
    "- 사건 A에 대해 여러 사건 동시에 발생했을 때(B,C...) 사건 A 사후확률은?\n",
    "- 증명 : [조건부확률-결합확률] 사슬법칙 두번 적용해서 증명한다. "
   ],
   "cell_type": "markdown",
   "metadata": {}
  },
  {
   "source": [
    "# 사슬법칙 사용하면 여러 종류 베이즈정리 확장 식 증명할 수 있다. "
   ],
   "cell_type": "markdown",
   "metadata": {}
  },
  {
   "source": [
    "# 몬티 홀 문제 정의하기 \n",
    "- 핵심 : 문제가 결국 이진분류문제다. 진행자는 반드시 염소를 제거할 수 밖에 없고, 내 최종선택은 염소 vs 자동차 둘 중 하나에서 하게 된다. \n",
    "- 최종선택 : 내가 처음에 고른 문 뒤에 자동차가 있다 vs 내가 선택하지 않은 문에 자동차가 있다. - [결과가_둘_중_하나로_나오는_이진분류문제다]\n",
    "\n",
    "따라서 나는 '내가 처음에 고른 문 뒤에 자동차가 있는 확률 vs '내가 선택하지 않은 문에 자동차가 있는 확률' 을 비교하면 된다. \n",
    "\n",
    "둘 중 확률이 높은 것이 채택되고, 결과값이 된다. 예) 이 상황은 내가 처음에 고른 문 뒤에 자동차가 있다! 고 분류될 것이다. \n",
    "\n",
    "한편, 내 선택의 관점에서 보면 둘 중 확률 높은 것을 선택하는 게 [자동차_당첨에_유리할_것이다]\n",
    "\n",
    "---\n",
    "# 문제해결 _1\n",
    "- C : 자동차가 있는 경우를 의미하는 확률변수. 가질 수 있는 값 =(0,1,2)\n",
    "- X : 내 선택한 문을 뜻하는 확률변수. 가질 수 있는 값 =(0,1,2)\n",
    "- H : 진행자가 선택하는 문을 뜻하는 확률변수. 가질 수 있는 값 =(0,1,2)\n",
    "\n",
    "유의점 1 : 확률변수 C와 확률변수 X는 서로 독립(=영향 미치지 않음)이다. 따라서 P(C,X) = P(C)P(X) 로 나타낼 수 있다.\n",
    "유의점 2 : 진행자의 선택은 내가 어떤 문을 골랐느냐 & 자동차 위치가 어디였느냐에 달려있다. 따라서 진행자 선택을 뜻하는 조건부확률은 다음과 같다. \n",
    "\n",
    "1. 참가자 첫 선택이 자동차 아닌 경우 \n",
    "\n",
    "P(H1|X2,C0) = 1\n",
    "P(H0|X2,C0) = 0\n",
    "P(H2|X2,C0) = 0\n",
    "\n",
    "2. 참가자 첫 선택이 알고보니 자동차인 경우 \n",
    "\n",
    "P(H0|X2,C2) = 1/2\n",
    "P(H1|X2,C2) = 1/2\n",
    "P(H2|X2,C2) = 0\n",
    "\n",
    "\n",
    "# 문제해결 _2 \n",
    "이제 참가자가 고른 문 뒤에 차가 있을 확률 vs 참가자가 고르지 않은 문 뒤에 차 있을 확률 비교하면 된다. \n",
    "두 확률 합은 1이다. (이진분류문제다. 예를들어 c1,c0둘 중 하나에 차가 있다면 결과는 c1에 차가 있다 vs c0에 차가 있다 둘 중 하나다. 확률 공리 이용해 교집합 없는 두 사건 합치면 합은 1이 된다)\n",
    "식으로 쓰면 다음과 같다.\n",
    "\n",
    "P(C1|X2,H1)+P(C0|X2,H1) = 1\n",
    "\n",
    "이제 문제를 풀어보자. \n",
    "두 케이스 중 하나의 확률을 구하면 나머지 확률도 구할 수 있으므로, 나는 참가자가 첫번째 고른 문 뒤에 차가 있을 확률'을 구했다. \n",
    "\n",
    "\n",
    "P(C2|X2,H1) = P(C2,X2,H1)/P(X2,H1) = P(H1|C2,X2)P(C2,X2)/P(X2,H1)\n",
    "\n",
    "= P(H1|C2,X2)P(C2)/P(H1|X2) = (1/2)P(C2)/(P(H1,C0|X2)+P(H1,C1|X2)+P(H1,C2|X2))\n",
    "\n",
    "= ((1/2)(1/3))/(P(H1|C0,X2)P(C0)+P(H1|C1,X2)P(C1)+P(H1|C2,X2)P(C2))\n",
    "\n",
    "= ((1/2)(1/3))/((1/3)+(1/2)(1/3))\n",
    "\n",
    "= [1/3]\n",
    "\n",
    "따라서 내가 처음에 골랐던 문 뒤에 자동차가 있을 확률은 1/3이다. \n",
    "\n",
    "1-(1/3)하면 진행자가 열지 않았고, 내가 선택하지 않았던 남은 문 하나에 자동차 있을 확률이 2/3으로 나온다. \n",
    "\n",
    "2/3은 1/3의 두배이므로, 내가 고르지 않은 문 뒤에 결과적으로 자동차가 있을 확률이 더 높다. \n",
    "\n",
    "따라서 '자동차 당첨을 위해서는' 선택을 바꾸는 것이 ['유리하다']\n",
    "\n",
    "\n",
    "\n"
   ],
   "cell_type": "markdown",
   "metadata": {}
  },
  {
   "cell_type": "code",
   "execution_count": null,
   "metadata": {},
   "outputs": [],
   "source": []
  },
  {
   "cell_type": "code",
   "execution_count": null,
   "metadata": {},
   "outputs": [],
   "source": []
  }
 ]
}