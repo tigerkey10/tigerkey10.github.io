{
 "cells": [
  {
   "cell_type": "markdown",
   "source": [
    "# 고윳값 분해 "
   ],
   "metadata": {}
  },
  {
   "cell_type": "markdown",
   "source": [
    "# 고유벡터 "
   ],
   "metadata": {}
  },
  {
   "cell_type": "code",
   "execution_count": 1,
   "source": [
    "# 고유벡터 v 변환\n",
    "plt.xlim(-3,3)\n",
    "plt.ylim(-3,3)\n",
    "\n",
    "xx = np.linspace(0,1,10)\n",
    "def line(x) : \n",
    "    return 2*x\n",
    "r = line(xx)\n",
    "\n",
    "color = ['red', 'blue', 'green', 'black']\n",
    "\n",
    "for a,b in [(0,7),(2,3)] : \n",
    "    plt.annotate('', xy=[xx[b], r[b]], xytext=[0,0], arrowprops={'facecolor' : color[a]})\n",
    "plt.annotate('', xy=[-xx[5], -r[5]], xytext=[0,0], arrowprops={'facecolor' : 'blue'})\n",
    "plt.scatter(0,0,100, 'r')\n",
    "\n",
    "plt.text(0.8, 1.3, '$Av$')\n",
    "plt.text(0.2, 0.1, '$v$')\n",
    "plt.text(-0.2, -0.7, '$Av$')\n",
    "plt.title('고유벡터 $v$ 변환 예시')\n",
    "plt.show()"
   ],
   "outputs": [
    {
     "output_type": "display_data",
     "data": {
      "text/plain": [
       "<Figure size 2400x1500 with 1 Axes>"
      ],
      "image/svg+xml": "<?xml version=\"1.0\" encoding=\"utf-8\" standalone=\"no\"?>\n<!DOCTYPE svg PUBLIC \"-//W3C//DTD SVG 1.1//EN\"\n  \"http://www.w3.org/Graphics/SVG/1.1/DTD/svg11.dtd\">\n<!-- Created with matplotlib (https://matplotlib.org/) -->\n<svg height=\"321.152031pt\" version=\"1.1\" viewBox=\"0 0 484.290625 321.152031\" width=\"484.290625pt\" xmlns=\"http://www.w3.org/2000/svg\" xmlns:xlink=\"http://www.w3.org/1999/xlink\">\n <metadata>\n  <rdf:RDF xmlns:cc=\"http://creativecommons.org/ns#\" xmlns:dc=\"http://purl.org/dc/elements/1.1/\" xmlns:rdf=\"http://www.w3.org/1999/02/22-rdf-syntax-ns#\">\n   <cc:Work>\n    <dc:type rdf:resource=\"http://purl.org/dc/dcmitype/StillImage\"/>\n    <dc:date>2021-08-19T23:26:23.704146</dc:date>\n    <dc:format>image/svg+xml</dc:format>\n    <dc:creator>\n     <cc:Agent>\n      <dc:title>Matplotlib v3.3.2, https://matplotlib.org/</dc:title>\n     </cc:Agent>\n    </dc:creator>\n   </cc:Work>\n  </rdf:RDF>\n </metadata>\n <defs>\n  <style type=\"text/css\">*{stroke-linecap:butt;stroke-linejoin:round;}</style>\n </defs>\n <g id=\"figure_1\">\n  <g id=\"patch_1\">\n   <path d=\"M 0 321.152031 \nL 484.290625 321.152031 \nL 484.290625 0 \nL 0 0 \nz\n\" style=\"fill:none;\"/>\n  </g>\n  <g id=\"axes_1\">\n   <g id=\"patch_2\">\n    <path d=\"M 27.357969 294.024375 \nL 473.757969 294.024375 \nL 473.757969 22.224375 \nL 27.357969 22.224375 \nz\n\" style=\"fill:#ffffff;\"/>\n   </g>\n   <g id=\"matplotlib.axis_1\">\n    <g id=\"xtick_1\">\n     <g id=\"line2d_1\">\n      <path clip-path=\"url(#p2bb9c4ee3a)\" d=\"M 27.357969 294.024375 \nL 27.357969 22.224375 \n\" style=\"fill:none;stroke:#cccccc;stroke-linecap:round;\"/>\n     </g>\n     <g id=\"text_1\">\n      <!-- -3 -->\n      <g style=\"fill:#262626;\" transform=\"translate(22.028984 311.796719)scale(0.11 -0.11)\">\n       <defs>\n        <path d=\"M 30.40625 37.796875 \nQ 31.5 37.796875 31.640625 37.640625 \nQ 31.796875 37.5 31.796875 36.40625 \nL 31.796875 32 \nQ 31.796875 30.90625 31.640625 30.75 \nQ 31.5 30.59375 30.40625 30.59375 \nL 7 30.59375 \nQ 5.90625 30.59375 5.75 30.75 \nQ 5.59375 30.90625 5.59375 32 \nL 5.59375 36.40625 \nQ 5.59375 37.5 5.75 37.640625 \nQ 5.90625 37.796875 7 37.796875 \nL 30.40625 37.796875 \nz\n\" id=\"NanumGothic-45\"/>\n        <path d=\"M 7.703125 -3 \nQ 6.203125 -2.59375 6.40625 -0.703125 \nL 6.796875 3.203125 \nQ 7 4.40625 8.40625 3.796875 \nQ 12.59375 2.09375 16.34375 1.390625 \nQ 20.09375 0.703125 25.09375 0.59375 \nQ 33 0.5 38.40625 4.59375 \nQ 44.703125 8.796875 44.703125 16.90625 \nQ 44.703125 31.09375 23.40625 31.09375 \nL 18.203125 31.09375 \nQ 16.90625 31.09375 16.90625 32.203125 \nL 16.90625 35.90625 \nQ 16.90625 37.203125 18.203125 37.203125 \nL 18.703125 37.203125 \nQ 29.40625 37.203125 35.40625 39.5 \nQ 44.5 43 44.5 52.09375 \nQ 44.5 55 42.953125 57.453125 \nQ 41.40625 59.90625 38.796875 61.59375 \nQ 36.40625 63 33.40625 63.796875 \nQ 30.40625 64.59375 27.09375 64.59375 \nQ 23.703125 64.59375 19.59375 63.6875 \nQ 15.5 62.796875 11.703125 61.296875 \nQ 10.40625 60.796875 10.203125 62.09375 \nL 9.796875 65.796875 \nQ 9.5 67.203125 11.09375 67.796875 \nQ 15.59375 69.296875 19.5 70 \nQ 23.40625 70.703125 27.796875 70.703125 \nQ 37.90625 70.703125 44.296875 66.40625 \nQ 51.59375 61.5 51.59375 52.09375 \nQ 51.59375 45.40625 46.796875 40.5 \nQ 42.796875 36.203125 36.40625 34.203125 \nQ 39.59375 33.796875 42.34375 32.5 \nQ 45.09375 31.203125 47.09375 28.90625 \nQ 49.40625 26.40625 50.59375 23.25 \nQ 51.796875 20.09375 51.796875 16.296875 \nQ 51.796875 11.296875 49.75 7.25 \nQ 47.703125 3.203125 43.90625 0.296875 \nQ 40.203125 -2.40625 35.390625 -3.953125 \nQ 30.59375 -5.5 24.703125 -5.40625 \nQ 19.40625 -5.296875 15.546875 -4.796875 \nQ 11.703125 -4.296875 7.703125 -3 \nz\n\" id=\"NanumGothic-51\"/>\n       </defs>\n       <use xlink:href=\"#NanumGothic-45\"/>\n       <use x=\"36.299988\" xlink:href=\"#NanumGothic-51\"/>\n      </g>\n     </g>\n    </g>\n    <g id=\"xtick_2\">\n     <g id=\"line2d_2\">\n      <path clip-path=\"url(#p2bb9c4ee3a)\" d=\"M 101.757969 294.024375 \nL 101.757969 22.224375 \n\" style=\"fill:none;stroke:#cccccc;stroke-linecap:round;\"/>\n     </g>\n     <g id=\"text_2\">\n      <!-- -2 -->\n      <g style=\"fill:#262626;\" transform=\"translate(96.428984 311.796719)scale(0.11 -0.11)\">\n       <defs>\n        <path d=\"M 9 -4.703125 \nQ 7.90625 -4.703125 7.34375 -4.640625 \nQ 6.796875 -4.59375 6.546875 -4.34375 \nQ 6.296875 -4.09375 6.25 -3.546875 \nQ 6.203125 -3 6.203125 -1.90625 \nL 6.296875 0.296875 \nQ 6.296875 1.59375 7.09375 2.40625 \nL 23.59375 20.59375 \nQ 42 40.5 42 50.796875 \nQ 42 56.796875 38 60.796875 \nQ 34.09375 64.703125 28.296875 64.703125 \nQ 20.203125 64.703125 11.40625 60.203125 \nQ 10 59.5 9.796875 60.796875 \nL 9.203125 64.09375 \nQ 8.90625 65.796875 10.203125 66.203125 \nQ 15.296875 68.5 19.390625 69.59375 \nQ 23.5 70.703125 27.796875 70.703125 \nQ 37.40625 70.703125 43.09375 65.90625 \nQ 49.5 60.703125 49.5 51.09375 \nQ 49.5 47.40625 47.703125 43 \nQ 45.90625 38.59375 42.703125 33.796875 \nQ 40.703125 31 37.046875 26.5 \nQ 33.40625 22 28.703125 16.90625 \nQ 25.203125 13.09375 21.75 9.1875 \nQ 18.296875 5.296875 14.796875 1.5 \nL 49.796875 1.5 \nQ 51.203125 1.5 51.203125 0.09375 \nL 51.203125 -3.296875 \nQ 51.203125 -4.703125 49.796875 -4.703125 \nz\n\" id=\"NanumGothic-50\"/>\n       </defs>\n       <use xlink:href=\"#NanumGothic-45\"/>\n       <use x=\"36.299988\" xlink:href=\"#NanumGothic-50\"/>\n      </g>\n     </g>\n    </g>\n    <g id=\"xtick_3\">\n     <g id=\"line2d_3\">\n      <path clip-path=\"url(#p2bb9c4ee3a)\" d=\"M 176.157969 294.024375 \nL 176.157969 22.224375 \n\" style=\"fill:none;stroke:#cccccc;stroke-linecap:round;\"/>\n     </g>\n     <g id=\"text_3\">\n      <!-- -1 -->\n      <g style=\"fill:#262626;\" transform=\"translate(170.828984 311.796719)scale(0.11 -0.11)\">\n       <defs>\n        <path d=\"M 36.90625 -3.296875 \nQ 36.90625 -4.703125 35.5 -4.703125 \nL 31.40625 -4.703125 \nQ 30 -4.703125 30 -3.296875 \nL 30 61.703125 \nQ 26.90625 59.09375 24.203125 56.796875 \nQ 21.5 54.5 18.5 51.90625 \nQ 17.40625 51 16.5 52.09375 \nL 14.5 54.5 \nQ 14.203125 55 14.203125 55.546875 \nQ 14.203125 56.09375 14.703125 56.5 \nL 30.203125 69.5 \nQ 30.59375 69.90625 31.40625 69.90625 \nL 34.09375 69.90625 \nQ 36.203125 69.90625 36.546875 69.546875 \nQ 36.90625 69.203125 36.90625 67.09375 \nz\n\" id=\"NanumGothic-49\"/>\n       </defs>\n       <use xlink:href=\"#NanumGothic-45\"/>\n       <use x=\"36.299988\" xlink:href=\"#NanumGothic-49\"/>\n      </g>\n     </g>\n    </g>\n    <g id=\"xtick_4\">\n     <g id=\"line2d_4\">\n      <path clip-path=\"url(#p2bb9c4ee3a)\" d=\"M 250.557969 294.024375 \nL 250.557969 22.224375 \n\" style=\"fill:none;stroke:#cccccc;stroke-linecap:round;\"/>\n     </g>\n     <g id=\"text_4\">\n      <!-- 0 -->\n      <g style=\"fill:#262626;\" transform=\"translate(247.225312 311.796719)scale(0.11 -0.11)\">\n       <defs>\n        <path d=\"M 47.90625 32.703125 \nQ 47.90625 64.09375 30.703125 64.09375 \nQ 13.5 64.09375 13.5 32.703125 \nQ 13.5 1.203125 30.703125 1.203125 \nQ 47.90625 1.203125 47.90625 32.703125 \nz\nM 55.09375 32.703125 \nQ 55.09375 -5.09375 30.703125 -5.09375 \nQ 6.09375 -5.09375 6.09375 32.703125 \nQ 6.09375 48.40625 10.90625 58.203125 \nQ 17 70.5 30.703125 70.5 \nQ 44.203125 70.5 50.40625 58.203125 \nQ 52.703125 53.296875 53.890625 47 \nQ 55.09375 40.703125 55.09375 32.703125 \nz\n\" id=\"NanumGothic-48\"/>\n       </defs>\n       <use xlink:href=\"#NanumGothic-48\"/>\n      </g>\n     </g>\n    </g>\n    <g id=\"xtick_5\">\n     <g id=\"line2d_5\">\n      <path clip-path=\"url(#p2bb9c4ee3a)\" d=\"M 324.957969 294.024375 \nL 324.957969 22.224375 \n\" style=\"fill:none;stroke:#cccccc;stroke-linecap:round;\"/>\n     </g>\n     <g id=\"text_5\">\n      <!-- 1 -->\n      <g style=\"fill:#262626;\" transform=\"translate(321.625312 311.796719)scale(0.11 -0.11)\">\n       <use xlink:href=\"#NanumGothic-49\"/>\n      </g>\n     </g>\n    </g>\n    <g id=\"xtick_6\">\n     <g id=\"line2d_6\">\n      <path clip-path=\"url(#p2bb9c4ee3a)\" d=\"M 399.357969 294.024375 \nL 399.357969 22.224375 \n\" style=\"fill:none;stroke:#cccccc;stroke-linecap:round;\"/>\n     </g>\n     <g id=\"text_6\">\n      <!-- 2 -->\n      <g style=\"fill:#262626;\" transform=\"translate(396.025312 311.796719)scale(0.11 -0.11)\">\n       <use xlink:href=\"#NanumGothic-50\"/>\n      </g>\n     </g>\n    </g>\n    <g id=\"xtick_7\">\n     <g id=\"line2d_7\">\n      <path clip-path=\"url(#p2bb9c4ee3a)\" d=\"M 473.757969 294.024375 \nL 473.757969 22.224375 \n\" style=\"fill:none;stroke:#cccccc;stroke-linecap:round;\"/>\n     </g>\n     <g id=\"text_7\">\n      <!-- 3 -->\n      <g style=\"fill:#262626;\" transform=\"translate(470.425312 311.796719)scale(0.11 -0.11)\">\n       <use xlink:href=\"#NanumGothic-51\"/>\n      </g>\n     </g>\n    </g>\n   </g>\n   <g id=\"matplotlib.axis_2\">\n    <g id=\"ytick_1\">\n     <g id=\"line2d_8\">\n      <path clip-path=\"url(#p2bb9c4ee3a)\" d=\"M 27.357969 294.024375 \nL 473.757969 294.024375 \n\" style=\"fill:none;stroke:#cccccc;stroke-linecap:round;\"/>\n     </g>\n     <g id=\"text_8\">\n      <!-- -3 -->\n      <g style=\"fill:#262626;\" transform=\"translate(7.2 298.160547)scale(0.11 -0.11)\">\n       <use xlink:href=\"#NanumGothic-45\"/>\n       <use x=\"36.299988\" xlink:href=\"#NanumGothic-51\"/>\n      </g>\n     </g>\n    </g>\n    <g id=\"ytick_2\">\n     <g id=\"line2d_9\">\n      <path clip-path=\"url(#p2bb9c4ee3a)\" d=\"M 27.357969 248.724375 \nL 473.757969 248.724375 \n\" style=\"fill:none;stroke:#cccccc;stroke-linecap:round;\"/>\n     </g>\n     <g id=\"text_9\">\n      <!-- -2 -->\n      <g style=\"fill:#262626;\" transform=\"translate(7.2 252.860547)scale(0.11 -0.11)\">\n       <use xlink:href=\"#NanumGothic-45\"/>\n       <use x=\"36.299988\" xlink:href=\"#NanumGothic-50\"/>\n      </g>\n     </g>\n    </g>\n    <g id=\"ytick_3\">\n     <g id=\"line2d_10\">\n      <path clip-path=\"url(#p2bb9c4ee3a)\" d=\"M 27.357969 203.424375 \nL 473.757969 203.424375 \n\" style=\"fill:none;stroke:#cccccc;stroke-linecap:round;\"/>\n     </g>\n     <g id=\"text_10\">\n      <!-- -1 -->\n      <g style=\"fill:#262626;\" transform=\"translate(7.2 207.560547)scale(0.11 -0.11)\">\n       <use xlink:href=\"#NanumGothic-45\"/>\n       <use x=\"36.299988\" xlink:href=\"#NanumGothic-49\"/>\n      </g>\n     </g>\n    </g>\n    <g id=\"ytick_4\">\n     <g id=\"line2d_11\">\n      <path clip-path=\"url(#p2bb9c4ee3a)\" d=\"M 27.357969 158.124375 \nL 473.757969 158.124375 \n\" style=\"fill:none;stroke:#cccccc;stroke-linecap:round;\"/>\n     </g>\n     <g id=\"text_11\">\n      <!-- 0 -->\n      <g style=\"fill:#262626;\" transform=\"translate(11.192656 162.260547)scale(0.11 -0.11)\">\n       <use xlink:href=\"#NanumGothic-48\"/>\n      </g>\n     </g>\n    </g>\n    <g id=\"ytick_5\">\n     <g id=\"line2d_12\">\n      <path clip-path=\"url(#p2bb9c4ee3a)\" d=\"M 27.357969 112.824375 \nL 473.757969 112.824375 \n\" style=\"fill:none;stroke:#cccccc;stroke-linecap:round;\"/>\n     </g>\n     <g id=\"text_12\">\n      <!-- 1 -->\n      <g style=\"fill:#262626;\" transform=\"translate(11.192656 116.960547)scale(0.11 -0.11)\">\n       <use xlink:href=\"#NanumGothic-49\"/>\n      </g>\n     </g>\n    </g>\n    <g id=\"ytick_6\">\n     <g id=\"line2d_13\">\n      <path clip-path=\"url(#p2bb9c4ee3a)\" d=\"M 27.357969 67.524375 \nL 473.757969 67.524375 \n\" style=\"fill:none;stroke:#cccccc;stroke-linecap:round;\"/>\n     </g>\n     <g id=\"text_13\">\n      <!-- 2 -->\n      <g style=\"fill:#262626;\" transform=\"translate(11.192656 71.660547)scale(0.11 -0.11)\">\n       <use xlink:href=\"#NanumGothic-50\"/>\n      </g>\n     </g>\n    </g>\n    <g id=\"ytick_7\">\n     <g id=\"line2d_14\">\n      <path clip-path=\"url(#p2bb9c4ee3a)\" d=\"M 27.357969 22.224375 \nL 473.757969 22.224375 \n\" style=\"fill:none;stroke:#cccccc;stroke-linecap:round;\"/>\n     </g>\n     <g id=\"text_14\">\n      <!-- 3 -->\n      <g style=\"fill:#262626;\" transform=\"translate(11.192656 26.360547)scale(0.11 -0.11)\">\n       <use xlink:href=\"#NanumGothic-51\"/>\n      </g>\n     </g>\n    </g>\n   </g>\n   <g id=\"PathCollection_1\">\n    <defs>\n     <path d=\"M 0 5 \nC 1.326016 5 2.597899 4.473168 3.535534 3.535534 \nC 4.473168 2.597899 5 1.326016 5 0 \nC 5 -1.326016 4.473168 -2.597899 3.535534 -3.535534 \nC 2.597899 -4.473168 1.326016 -5 0 -5 \nC -1.326016 -5 -2.597899 -4.473168 -3.535534 -3.535534 \nC -4.473168 -2.597899 -5 -1.326016 -5 0 \nC -5 1.326016 -4.473168 2.597899 -3.535534 3.535534 \nC -2.597899 4.473168 -1.326016 5 0 5 \nz\n\" id=\"m72ad6a82cd\" style=\"stroke:#c44e52;\"/>\n    </defs>\n    <g clip-path=\"url(#p2bb9c4ee3a)\">\n     <use style=\"fill:#c44e52;stroke:#c44e52;\" x=\"250.557969\" xlink:href=\"#m72ad6a82cd\" y=\"158.124375\"/>\n    </g>\n   </g>\n   <g id=\"patch_3\">\n    <path d=\"M 27.357969 294.024375 \nL 27.357969 22.224375 \n\" style=\"fill:none;stroke:#cccccc;stroke-linecap:square;stroke-linejoin:miter;stroke-width:1.25;\"/>\n   </g>\n   <g id=\"patch_4\">\n    <path d=\"M 473.757969 294.024375 \nL 473.757969 22.224375 \n\" style=\"fill:none;stroke:#cccccc;stroke-linecap:square;stroke-linejoin:miter;stroke-width:1.25;\"/>\n   </g>\n   <g id=\"patch_5\">\n    <path d=\"M 27.357969 294.024375 \nL 473.757969 294.024375 \n\" style=\"fill:none;stroke:#cccccc;stroke-linecap:square;stroke-linejoin:miter;stroke-width:1.25;\"/>\n   </g>\n   <g id=\"patch_6\">\n    <path d=\"M 27.357969 22.224375 \nL 473.757969 22.224375 \n\" style=\"fill:none;stroke:#cccccc;stroke-linecap:square;stroke-linejoin:miter;stroke-width:1.25;\"/>\n   </g>\n   <g id=\"patch_7\">\n    <path d=\"M 249.012337 156.855114 \nQ 274.137398 126.259274 299.262459 95.663434 \nL 296.171195 93.124912 \nQ 302.297915 90.39131 308.424635 87.657708 \nQ 306.934811 94.199092 305.444986 100.740476 \nL 302.353723 98.201955 \nQ 277.228662 128.797795 252.103601 159.393636 \nL 249.012337 156.855114 \nz\n\" style=\"fill:#ff0000;stroke:#ffffff;stroke-linecap:round;\"/>\n   </g>\n   <g id=\"patch_8\">\n    <path d=\"M 249.012337 156.855114 \nQ 257.605452 146.390918 266.198567 135.926721 \nL 263.107304 133.3882 \nQ 269.232636 130.656287 275.357969 127.924375 \nQ 273.869532 134.464069 272.381095 141.003763 \nL 269.289831 138.465242 \nQ 260.696716 148.929439 252.103601 159.393636 \nL 249.012337 156.855114 \nz\n\" style=\"fill:#008000;stroke:#ffffff;stroke-linecap:round;\"/>\n   </g>\n   <g id=\"patch_9\">\n    <path d=\"M 252.103601 159.393636 \nQ 235.24508 179.922963 218.38656 200.45229 \nL 221.477823 202.990811 \nQ 215.351229 205.72426 209.224635 208.457708 \nQ 210.714334 201.916478 212.204032 195.375248 \nL 215.295296 197.913769 \nQ 232.153816 177.384442 249.012337 156.855114 \nL 252.103601 159.393636 \nz\n\" style=\"fill:#0000ff;stroke:#ffffff;stroke-linecap:round;\"/>\n   </g>\n   <g id=\"text_15\">\n    <!-- $Av$ -->\n    <g style=\"fill:#262626;\" transform=\"translate(310.077969 99.234375)scale(0.1 -0.1)\">\n     <defs>\n      <path d=\"M 36.8125 72.90625 \nL 48 72.90625 \nL 61.53125 0 \nL 51.21875 0 \nL 48.1875 18.703125 \nL 15.375 18.703125 \nL 5.078125 0 \nL -5.328125 0 \nz\nM 40.375 63.1875 \nL 19.921875 26.90625 \nL 46.6875 26.90625 \nz\n\" id=\"DejaVuSans-Oblique-65\"/>\n      <path d=\"M 7.171875 54.6875 \nL 16.703125 54.6875 \nL 24.703125 8.203125 \nL 50.875 54.6875 \nL 60.40625 54.6875 \nL 29.296875 0 \nL 17.1875 0 \nz\n\" id=\"DejaVuSans-Oblique-118\"/>\n     </defs>\n     <use transform=\"translate(0 0.09375)\" xlink:href=\"#DejaVuSans-Oblique-65\"/>\n     <use transform=\"translate(68.408203 0.09375)\" xlink:href=\"#DejaVuSans-Oblique-118\"/>\n    </g>\n   </g>\n   <g id=\"text_16\">\n    <!-- $v$ -->\n    <g style=\"fill:#262626;\" transform=\"translate(265.437969 153.594375)scale(0.1 -0.1)\">\n     <use transform=\"translate(0 0.3125)\" xlink:href=\"#DejaVuSans-Oblique-118\"/>\n    </g>\n   </g>\n   <g id=\"text_17\">\n    <!-- $Av$ -->\n    <g style=\"fill:#262626;\" transform=\"translate(235.677969 189.834375)scale(0.1 -0.1)\">\n     <use transform=\"translate(0 0.09375)\" xlink:href=\"#DejaVuSans-Oblique-65\"/>\n     <use transform=\"translate(68.408203 0.09375)\" xlink:href=\"#DejaVuSans-Oblique-118\"/>\n    </g>\n   </g>\n   <g id=\"text_18\">\n    <!-- 고유벡터 $v$ 변환 예시 -->\n    <g style=\"fill:#262626;\" transform=\"translate(196.797969 16.224375)scale(0.12 -0.12)\">\n     <defs>\n      <path d=\"M 89.5 7.796875 \nQ 90 7.796875 90.5 7.4375 \nQ 91 7.09375 91 6.5 \nL 91 3.09375 \nQ 91 2.59375 90.5 2.1875 \nQ 90 1.796875 89.5 1.796875 \nL 4.5 1.796875 \nQ 3.90625 1.796875 3.453125 2.1875 \nQ 3 2.59375 3 3.09375 \nL 3 6.5 \nQ 3 7.09375 3.453125 7.4375 \nQ 3.90625 7.796875 4.5 7.796875 \nL 40.09375 7.796875 \nL 40.09375 38.5 \nQ 40.09375 39.09375 40.4375 39.546875 \nQ 40.796875 40 41.40625 40 \nL 45.703125 40 \nQ 46.203125 40 46.59375 39.546875 \nQ 47 39.09375 47 38.5 \nL 47 7.796875 \nL 89.5 7.796875 \nz\nM 15.59375 70.09375 \nQ 15.59375 70.703125 16.09375 71 \nQ 16.59375 71.296875 17.09375 71.296875 \nL 70.40625 71.296875 \nQ 72.796875 71.296875 74.25 70.796875 \nQ 75.703125 70.296875 76.5 69.34375 \nQ 77.296875 68.40625 77.59375 66.90625 \nQ 77.90625 65.40625 78 63.296875 \nQ 78.09375 59.203125 78 54.09375 \nQ 77.90625 49 77.5 43.5 \nQ 77.09375 38 76.390625 32.390625 \nQ 75.703125 26.796875 74.703125 21.703125 \nQ 74.59375 21.09375 74.1875 20.59375 \nQ 73.796875 20.09375 73.203125 20.203125 \nL 69.203125 20.5 \nQ 67.5 20.59375 68 22.296875 \nQ 68.90625 26.203125 69.59375 31.84375 \nQ 70.296875 37.5 70.75 43.34375 \nQ 71.203125 49.203125 71.34375 54.546875 \nQ 71.5 59.90625 71.203125 63.203125 \nQ 71 64.59375 70.640625 64.9375 \nQ 70.296875 65.296875 68.90625 65.296875 \nL 17.09375 65.296875 \nQ 16.59375 65.296875 16.09375 65.640625 \nQ 15.59375 66 15.59375 66.5 \nL 15.59375 70.09375 \nz\n\" id=\"NanumGothic-44256\"/>\n      <path d=\"M 46.796875 37.296875 \nQ 41.703125 37.296875 36.046875 38.390625 \nQ 30.40625 39.5 25.65625 41.84375 \nQ 20.90625 44.203125 17.84375 48 \nQ 14.796875 51.796875 14.796875 57.203125 \nQ 14.796875 62.59375 17.84375 66.390625 \nQ 20.90625 70.203125 25.65625 72.546875 \nQ 30.40625 74.90625 36.046875 75.953125 \nQ 41.703125 77 46.796875 77 \nQ 52 77 57.703125 75.953125 \nQ 63.40625 74.90625 68.046875 72.546875 \nQ 72.703125 70.203125 75.75 66.390625 \nQ 78.796875 62.59375 78.796875 57.203125 \nQ 78.796875 51.796875 75.75 48 \nQ 72.703125 44.203125 68.046875 41.84375 \nQ 63.40625 39.5 57.703125 38.390625 \nQ 52 37.296875 46.796875 37.296875 \nz\nM 46.796875 70.703125 \nQ 43.296875 70.703125 39.046875 70.140625 \nQ 34.796875 69.59375 31.046875 68.09375 \nQ 27.296875 66.59375 24.75 63.9375 \nQ 22.203125 61.296875 22.203125 57.09375 \nQ 22.203125 52.90625 24.75 50.296875 \nQ 27.296875 47.703125 31.046875 46.203125 \nQ 34.796875 44.703125 39.046875 44.140625 \nQ 43.296875 43.59375 46.796875 43.59375 \nQ 50.203125 43.59375 54.453125 44.140625 \nQ 58.703125 44.703125 62.453125 46.203125 \nQ 66.203125 47.703125 68.796875 50.296875 \nQ 71.40625 52.90625 71.40625 57.09375 \nQ 71.40625 61.296875 68.796875 63.9375 \nQ 66.203125 66.59375 62.453125 68.09375 \nQ 58.703125 69.59375 54.453125 70.140625 \nQ 50.203125 70.703125 46.796875 70.703125 \nz\nM 28.90625 -13.40625 \nQ 28.40625 -13.40625 28 -12.953125 \nQ 27.59375 -12.5 27.59375 -11.90625 \nL 27.59375 20.5 \nL 4.5 20.5 \nQ 3.90625 20.5 3.453125 20.890625 \nQ 3 21.296875 3 21.796875 \nL 3 25.203125 \nQ 3 25.796875 3.453125 26.140625 \nQ 3.90625 26.5 4.5 26.5 \nL 89.5 26.5 \nQ 90 26.5 90.5 26.140625 \nQ 91 25.796875 91 25.203125 \nL 91 21.796875 \nQ 91 21.296875 90.5 20.890625 \nQ 90 20.5 89.5 20.5 \nL 65.5 20.5 \nL 65.5 -11.90625 \nQ 65.5 -12.5 65.140625 -12.953125 \nQ 64.796875 -13.40625 64.203125 -13.40625 \nL 59.90625 -13.40625 \nQ 59.40625 -13.40625 59 -12.953125 \nQ 58.59375 -12.5 58.59375 -11.90625 \nL 58.59375 20.5 \nL 34.5 20.5 \nL 34.5 -11.90625 \nQ 34.5 -12.5 34.140625 -12.953125 \nQ 33.796875 -13.40625 33.203125 -13.40625 \nz\n\" id=\"NanumGothic-50976\"/>\n      <path d=\"M 15.59375 31 \nQ 13.203125 31 11.75 31.296875 \nQ 10.296875 31.59375 9.5 32.4375 \nQ 8.703125 33.296875 8.390625 34.640625 \nQ 8.09375 36 8.09375 38.09375 \nL 8.09375 73.5 \nQ 8.09375 74 8.5 74.34375 \nQ 8.90625 74.703125 9.40625 74.703125 \nL 13.703125 74.703125 \nQ 14.203125 74.703125 14.546875 74.296875 \nQ 14.90625 73.90625 14.90625 73.5 \nL 14.90625 58.203125 \nL 38.703125 58.203125 \nL 38.703125 73.40625 \nQ 38.703125 73.90625 39.046875 74.296875 \nQ 39.40625 74.703125 39.90625 74.703125 \nL 44.203125 74.703125 \nQ 44.703125 74.703125 45.09375 74.34375 \nQ 45.5 74 45.5 73.5 \nL 45.5 54.203125 \nL 59.5 54.203125 \nL 59.5 75.09375 \nQ 59.5 76.5 60.90625 76.5 \nL 64.703125 76.5 \nQ 66.09375 76.5 66.09375 75.09375 \nL 66.09375 27.09375 \nQ 66.09375 25.703125 64.703125 25.703125 \nL 60.90625 25.703125 \nQ 59.5 25.703125 59.5 27.09375 \nL 59.5 48.203125 \nL 45.5 48.203125 \nL 45.5 37.40625 \nQ 45.5 33.59375 43.890625 32.296875 \nQ 42.296875 31 37.90625 31 \nz\nM 22.5 17.40625 \nQ 22.5 18 23 18.296875 \nQ 23.5 18.59375 24 18.59375 \nL 76.203125 18.59375 \nQ 80.90625 18.59375 82.34375 16.84375 \nQ 83.796875 15.09375 83.796875 11 \nL 83.796875 -13 \nQ 83.796875 -14.40625 82.40625 -14.40625 \nL 78.296875 -14.40625 \nQ 76.90625 -14.40625 76.90625 -13 \nL 76.90625 10.5 \nQ 76.90625 11.90625 76.453125 12.25 \nQ 76 12.59375 74.59375 12.59375 \nL 24 12.59375 \nQ 23.5 12.59375 23 12.9375 \nQ 22.5 13.296875 22.5 13.796875 \nL 22.5 17.40625 \nz\nM 14.90625 52.296875 \nL 14.90625 39.296875 \nQ 14.90625 37.796875 15.40625 37.34375 \nQ 15.90625 36.90625 17.296875 36.90625 \nL 36.296875 36.90625 \nQ 37.703125 36.90625 38.203125 37.34375 \nQ 38.703125 37.796875 38.703125 39.296875 \nL 38.703125 52.296875 \nz\nM 83.796875 25.59375 \nQ 83.796875 24.203125 82.40625 24.203125 \nL 78.59375 24.203125 \nQ 77.203125 24.203125 77.203125 25.59375 \nL 77.203125 76.796875 \nQ 77.203125 78.203125 78.59375 78.203125 \nL 82.40625 78.203125 \nQ 83.796875 78.203125 83.796875 76.796875 \nz\n\" id=\"NanumGothic-48289\"/>\n      <path d=\"M 46.59375 38.5 \nQ 43.703125 38.296875 40.34375 38.140625 \nQ 37 38 33.59375 37.890625 \nQ 30.203125 37.796875 27 37.796875 \nQ 23.796875 37.796875 21.203125 37.90625 \nL 17 37.90625 \nL 17 19.203125 \nQ 17 17.703125 17.5 17.140625 \nQ 18 16.59375 19.40625 16.59375 \nQ 27.796875 16.40625 37.59375 17.15625 \nQ 47.40625 17.90625 56.09375 19.59375 \nQ 57.796875 19.90625 58.09375 18.5 \nL 58.59375 15.59375 \nQ 58.796875 14.703125 58.5 14.34375 \nQ 58.203125 14 57.296875 13.796875 \nQ 53.09375 12.90625 48.09375 12.25 \nQ 43.09375 11.59375 37.890625 11.140625 \nQ 32.703125 10.703125 27.546875 10.5 \nQ 22.40625 10.296875 17.90625 10.40625 \nQ 13.40625 10.5 11.75 12.5 \nQ 10.09375 14.5 10.09375 18.703125 \nL 10.09375 63.703125 \nQ 10.09375 67.90625 11.6875 69.296875 \nQ 13.296875 70.703125 17.703125 70.703125 \nL 49.09375 70.703125 \nQ 50.40625 70.703125 50.40625 69.5 \nL 50.40625 65.90625 \nQ 50.40625 64.703125 49.09375 64.703125 \nL 19 64.703125 \nQ 17.59375 64.703125 17.296875 64.34375 \nQ 17 64 17 62.5 \nL 17 43.703125 \nL 21.203125 43.703125 \nQ 23.703125 43.703125 26.84375 43.703125 \nQ 30 43.703125 33.390625 43.796875 \nQ 36.796875 43.90625 40.1875 44 \nQ 43.59375 44.09375 46.59375 44.296875 \nQ 47.203125 44.40625 47.546875 44 \nQ 47.90625 43.59375 47.90625 43.09375 \nL 47.90625 39.703125 \nQ 47.90625 38.703125 46.59375 38.5 \nz\nM 80.5 -12.59375 \nQ 80.5 -14 79.09375 -14 \nL 75 -14 \nQ 73.59375 -14 73.59375 -12.59375 \nL 73.59375 38.59375 \nL 56.59375 38.59375 \nQ 55.296875 38.59375 55.296875 39.796875 \nL 55.296875 43.40625 \nQ 55.296875 44.59375 56.59375 44.59375 \nL 73.59375 44.59375 \nL 73.59375 76.796875 \nQ 73.59375 78.203125 75 78.203125 \nL 79.09375 78.203125 \nQ 80.5 78.203125 80.5 76.796875 \nL 80.5 -12.59375 \nz\n\" id=\"NanumGothic-53552\"/>\n      <path id=\"NanumGothic-32\"/>\n      <path d=\"M 18.59375 26.203125 \nQ 16.203125 26.203125 14.75 26.5 \nQ 13.296875 26.796875 12.5 27.640625 \nQ 11.703125 28.5 11.390625 29.84375 \nQ 11.09375 31.203125 11.09375 33.296875 \nL 11.09375 73.296875 \nQ 11.09375 73.796875 11.5 74.140625 \nQ 11.90625 74.5 12.40625 74.5 \nL 16.703125 74.5 \nQ 17.203125 74.5 17.546875 74.09375 \nQ 17.90625 73.703125 17.90625 73.296875 \nL 17.90625 55.703125 \nL 47.09375 55.703125 \nL 47.09375 73.203125 \nQ 47.09375 73.703125 47.4375 74.09375 \nQ 47.796875 74.5 48.296875 74.5 \nL 52.59375 74.5 \nQ 53.09375 74.5 53.5 74.140625 \nQ 53.90625 73.796875 53.90625 73.296875 \nL 53.90625 61.40625 \nL 73.59375 61.40625 \nL 73.59375 76.796875 \nQ 73.59375 78.203125 75 78.203125 \nL 79.09375 78.203125 \nQ 80.5 78.203125 80.5 76.796875 \nL 80.5 13 \nQ 80.5 11.59375 79.09375 11.59375 \nL 75 11.59375 \nQ 73.59375 11.59375 73.59375 13 \nL 73.59375 36.5 \nL 53.90625 36.5 \nL 53.90625 32.59375 \nQ 53.90625 28.796875 52.296875 27.5 \nQ 50.703125 26.203125 46.296875 26.203125 \nz\nM 17.90625 49.796875 \nL 17.90625 34.5 \nQ 17.90625 33 18.40625 32.546875 \nQ 18.90625 32.09375 20.296875 32.09375 \nL 44.703125 32.09375 \nQ 46.09375 32.09375 46.59375 32.546875 \nQ 47.09375 33 47.09375 34.5 \nL 47.09375 49.796875 \nz\nM 85 -11 \nQ 85 -11.59375 84.5 -11.890625 \nQ 84 -12.203125 83.5 -12.203125 \nL 32.09375 -12.203125 \nQ 27.40625 -12.203125 25.953125 -10.453125 \nQ 24.5 -8.703125 24.5 -4.59375 \nL 24.5 15 \nQ 24.5 16.40625 25.90625 16.40625 \nL 30 16.40625 \nQ 31.40625 16.40625 31.40625 15 \nL 31.40625 -4.09375 \nQ 31.40625 -5.5 31.84375 -5.84375 \nQ 32.296875 -6.203125 33.703125 -6.203125 \nL 83.5 -6.203125 \nQ 84 -6.203125 84.5 -6.546875 \nQ 85 -6.90625 85 -7.40625 \nL 85 -11 \nz\nM 53.90625 42.40625 \nL 73.59375 42.40625 \nL 73.59375 55.5 \nL 53.90625 55.5 \nz\n\" id=\"NanumGothic-48320\"/>\n      <path d=\"M 64 22.703125 \nQ 64.90625 22.796875 65.15625 22.546875 \nQ 65.40625 22.296875 65.5 21.796875 \nL 65.90625 18.59375 \nQ 66 18 65.75 17.703125 \nQ 65.5 17.40625 64.59375 17.203125 \nQ 56.5 16.09375 46.546875 15.390625 \nQ 36.59375 14.703125 26.59375 14.703125 \nL 5.796875 14.703125 \nQ 5.203125 14.703125 4.75 15.09375 \nQ 4.296875 15.5 4.296875 16 \nL 4.296875 19 \nQ 4.296875 19.59375 4.75 19.890625 \nQ 5.203125 20.203125 5.796875 20.203125 \nL 23.09375 20.203125 \nQ 25.09375 20.203125 27.1875 20.203125 \nQ 29.296875 20.203125 31.59375 20.296875 \nL 31.59375 28.5 \nQ 27.40625 28.90625 24 30.09375 \nQ 20.59375 31.296875 18.1875 33.09375 \nQ 15.796875 34.90625 14.5 37.25 \nQ 13.203125 39.59375 13.203125 42.296875 \nQ 13.203125 45.296875 14.75 47.84375 \nQ 16.296875 50.40625 19.140625 52.203125 \nQ 22 54 26 55.046875 \nQ 30 56.09375 34.90625 56.09375 \nQ 39.703125 56.09375 43.703125 55.046875 \nQ 47.703125 54 50.546875 52.140625 \nQ 53.40625 50.296875 55 47.75 \nQ 56.59375 45.203125 56.59375 42.296875 \nQ 56.59375 39.59375 55.296875 37.25 \nQ 54 34.90625 51.640625 33.09375 \nQ 49.296875 31.296875 45.9375 30.09375 \nQ 42.59375 28.90625 38.5 28.5 \nL 38.5 20.59375 \nQ 45.296875 21 51.9375 21.546875 \nQ 58.59375 22.09375 64 22.703125 \nz\nM 77 8.09375 \nQ 77 6.703125 75.59375 6.703125 \nL 71.5 6.703125 \nQ 70.09375 6.703125 70.09375 8.09375 \nL 70.09375 76.796875 \nQ 70.09375 78.203125 71.5 78.203125 \nL 75.59375 78.203125 \nQ 77 78.203125 77 76.796875 \nL 77 43.296875 \nL 90.796875 43.296875 \nQ 91.40625 43.296875 91.84375 42.9375 \nQ 92.296875 42.59375 92.296875 42 \nL 92.296875 38.59375 \nQ 92.296875 38.09375 91.84375 37.6875 \nQ 91.40625 37.296875 90.796875 37.296875 \nL 77 37.296875 \nL 77 8.09375 \nz\nM 81 -11.296875 \nQ 81 -11.90625 80.5 -12.203125 \nQ 80 -12.5 79.5 -12.5 \nL 27 -12.5 \nQ 22.296875 -12.5 20.84375 -10.75 \nQ 19.40625 -9 19.40625 -4.90625 \nL 19.40625 7.5 \nQ 19.40625 8.90625 20.796875 8.90625 \nL 24.90625 8.90625 \nQ 26.296875 8.90625 26.296875 7.5 \nL 26.296875 -4.40625 \nQ 26.296875 -5.796875 26.75 -6.140625 \nQ 27.203125 -6.5 28.59375 -6.5 \nL 79.5 -6.5 \nQ 80 -6.5 80.5 -6.84375 \nQ 81 -7.203125 81 -7.703125 \nL 81 -11.296875 \nz\nM 49.796875 42.296875 \nQ 49.796875 46 45.6875 48.140625 \nQ 41.59375 50.296875 34.90625 50.296875 \nQ 28.203125 50.296875 24.046875 48.1875 \nQ 19.90625 46.09375 19.90625 42.296875 \nQ 19.90625 38.703125 24.046875 36.453125 \nQ 28.203125 34.203125 34.90625 34.203125 \nQ 41.59375 34.203125 45.6875 36.453125 \nQ 49.796875 38.703125 49.796875 42.296875 \nz\nM 62.203125 61.40625 \nQ 62.203125 60.09375 60.703125 60.09375 \nL 9.5 60.09375 \nQ 9 60.09375 8.546875 60.5 \nQ 8.09375 60.90625 8.09375 61.5 \nL 8.09375 64.40625 \nQ 8.09375 65 8.546875 65.390625 \nQ 9 65.796875 9.5 65.796875 \nL 60.703125 65.796875 \nQ 62.203125 65.796875 62.203125 64.5 \nL 62.203125 61.40625 \nz\nM 47.59375 72.296875 \nQ 47.59375 70.90625 46.09375 70.90625 \nL 22.703125 70.90625 \nQ 22.203125 70.90625 21.75 71.25 \nQ 21.296875 71.59375 21.296875 72.203125 \nL 21.296875 75.203125 \nQ 21.296875 75.796875 21.6875 76.1875 \nQ 22.09375 76.59375 22.59375 76.59375 \nL 46.09375 76.59375 \nQ 47.59375 76.59375 47.59375 75.203125 \nL 47.59375 72.296875 \nz\n\" id=\"NanumGothic-54872\"/>\n      <path d=\"M 66.09375 -8.796875 \nQ 66.09375 -10.203125 64.703125 -10.203125 \nL 60.90625 -10.203125 \nQ 59.5 -10.203125 59.5 -8.796875 \nL 59.5 23.703125 \nL 45.203125 23.703125 \nQ 42.296875 16.90625 37.4375 13.59375 \nQ 32.59375 10.296875 26.703125 10.296875 \nQ 22.203125 10.296875 18.390625 12.25 \nQ 14.59375 14.203125 11.796875 18.046875 \nQ 9 21.90625 7.390625 27.703125 \nQ 5.796875 33.5 5.796875 41.296875 \nQ 5.796875 49.09375 7.390625 54.84375 \nQ 9 60.59375 11.84375 64.4375 \nQ 14.703125 68.296875 18.5 70.140625 \nQ 22.296875 72 26.796875 72 \nQ 33.09375 72 38.1875 68.25 \nQ 43.296875 64.5 46 56.796875 \nL 59.5 56.796875 \nL 59.5 75.09375 \nQ 59.5 76.5 60.90625 76.5 \nL 64.703125 76.5 \nQ 66.09375 76.5 66.09375 75.09375 \nz\nM 41.296875 41.296875 \nQ 41.296875 45.90625 40.390625 50.296875 \nQ 39.5 54.703125 37.703125 58.203125 \nQ 35.90625 61.703125 33.15625 63.84375 \nQ 30.40625 66 26.703125 66 \nQ 22.796875 66 20.140625 63.796875 \nQ 17.5 61.59375 15.84375 58.046875 \nQ 14.203125 54.5 13.5 50.09375 \nQ 12.796875 45.703125 12.796875 41.296875 \nQ 12.796875 36.90625 13.59375 32.453125 \nQ 14.40625 28 16.046875 24.390625 \nQ 17.703125 20.796875 20.34375 18.546875 \nQ 23 16.296875 26.703125 16.296875 \nQ 30.40625 16.296875 33.15625 18.5 \nQ 35.90625 20.703125 37.703125 24.25 \nQ 39.5 27.796875 40.390625 32.296875 \nQ 41.296875 36.796875 41.296875 41.296875 \nz\nM 83.796875 -12.59375 \nQ 83.796875 -14 82.40625 -14 \nL 78.59375 -14 \nQ 77.203125 -14 77.203125 -12.59375 \nL 77.203125 76.796875 \nQ 77.203125 78.203125 78.59375 78.203125 \nL 82.40625 78.203125 \nQ 83.796875 78.203125 83.796875 76.796875 \nz\nM 48.296875 41.203125 \nQ 48.296875 34.703125 47.09375 29.59375 \nL 59.5 29.59375 \nL 59.5 50.90625 \nL 47.5 50.90625 \nQ 47.90625 48.59375 48.09375 46.1875 \nQ 48.296875 43.796875 48.296875 41.203125 \nz\n\" id=\"NanumGothic-50696\"/>\n      <path d=\"M 37.59375 71.703125 \nQ 37.59375 65.09375 37.046875 59.046875 \nQ 36.5 53 35.296875 47.40625 \nQ 36.296875 43.40625 38.390625 38.953125 \nQ 40.5 34.5 43.34375 30.09375 \nQ 46.203125 25.703125 49.75 21.546875 \nQ 53.296875 17.40625 57.296875 14.09375 \nQ 57.796875 13.703125 57.84375 13.09375 \nQ 57.90625 12.5 57.59375 12.09375 \nL 55.09375 9 \nQ 54.203125 7.90625 53 9 \nQ 50.203125 11.40625 47.25 14.75 \nQ 44.296875 18.09375 41.546875 21.796875 \nQ 38.796875 25.5 36.390625 29.390625 \nQ 34 33.296875 32.296875 36.90625 \nQ 29.09375 27.796875 23.890625 20.140625 \nQ 18.703125 12.5 11.5 5.90625 \nQ 10.5 5.09375 9.796875 5.796875 \nL 6.796875 8.90625 \nQ 6.5 9.203125 6.546875 9.703125 \nQ 6.59375 10.203125 7.09375 10.703125 \nQ 13.203125 16.5 17.703125 22.890625 \nQ 22.203125 29.296875 25.046875 36.6875 \nQ 27.90625 44.09375 29.25 52.796875 \nQ 30.59375 61.5 30.59375 71.90625 \nQ 30.59375 72.59375 30.9375 72.9375 \nQ 31.296875 73.296875 31.796875 73.296875 \nL 36.5 73.09375 \nQ 37.59375 73.09375 37.59375 71.703125 \nz\nM 80.5 -12.59375 \nQ 80.5 -14 79.09375 -14 \nL 75 -14 \nQ 73.59375 -14 73.59375 -12.59375 \nL 73.59375 76.796875 \nQ 73.59375 78.203125 75 78.203125 \nL 79.09375 78.203125 \nQ 80.5 78.203125 80.5 76.796875 \nL 80.5 -12.59375 \nz\n\" id=\"NanumGothic-49884\"/>\n     </defs>\n     <use transform=\"translate(0 0.796875)\" xlink:href=\"#NanumGothic-44256\"/>\n     <use transform=\"translate(93.999985 0.796875)\" xlink:href=\"#NanumGothic-50976\"/>\n     <use transform=\"translate(187.999969 0.796875)\" xlink:href=\"#NanumGothic-48289\"/>\n     <use transform=\"translate(281.999954 0.796875)\" xlink:href=\"#NanumGothic-53552\"/>\n     <use transform=\"translate(375.999939 0.796875)\" xlink:href=\"#NanumGothic-32\"/>\n     <use transform=\"translate(403.999924 0.796875)\" xlink:href=\"#DejaVuSans-Oblique-118\"/>\n     <use transform=\"translate(463.179611 0.796875)\" xlink:href=\"#NanumGothic-32\"/>\n     <use transform=\"translate(491.179596 0.796875)\" xlink:href=\"#NanumGothic-48320\"/>\n     <use transform=\"translate(585.179581 0.796875)\" xlink:href=\"#NanumGothic-54872\"/>\n     <use transform=\"translate(679.179565 0.796875)\" xlink:href=\"#NanumGothic-32\"/>\n     <use transform=\"translate(707.17955 0.796875)\" xlink:href=\"#NanumGothic-50696\"/>\n     <use transform=\"translate(801.179535 0.796875)\" xlink:href=\"#NanumGothic-49884\"/>\n    </g>\n   </g>\n  </g>\n </g>\n <defs>\n  <clipPath id=\"p2bb9c4ee3a\">\n   <rect height=\"271.8\" width=\"446.4\" x=\"27.357969\" y=\"22.224375\"/>\n  </clipPath>\n </defs>\n</svg>\n",
      "image/png": "[encoded data removed]"
     },
     "metadata": {
      "needs_background": "light"
     }
    }
   ],
   "metadata": {}
  },
  {
   "cell_type": "code",
   "execution_count": 2,
   "source": [
    "A = np.array([[1,-2],[2,-3]])\n",
    "ld, V = np.linalg.eig(A)\n",
    "print(ld) # 고윳값들\n",
    "print(V) # 고유벡터 행렬 (열벡터들이 고유벡터)"
   ],
   "outputs": [
    {
     "output_type": "stream",
     "name": "stdout",
     "text": [
      "[-0.99999998 -1.00000002]\n",
      "[[0.70710678 0.70710678]\n",
      " [0.70710678 0.70710678]]\n"
     ]
    }
   ],
   "metadata": {}
  },
  {
   "cell_type": "code",
   "execution_count": 3,
   "source": [
    "# 연습문제 3.3.5 \n",
    "# 행렬 고유분해 하자. \n",
    "A = np.array([[1, -2],[2,-3]])\n",
    "B = np.array([[2,3],[2,1]])\n",
    "C = np.array([[0,-1],[1,0]])\n",
    "D = np.array([[2,1],[1,2]])\n",
    "E = np.array([[2,3],[2,1]])\n",
    "F = np.array([[1,1],[0,1]])"
   ],
   "outputs": [],
   "metadata": {}
  },
  {
   "cell_type": "code",
   "execution_count": 4,
   "source": [
    "for a in [A,B,C,D,E,F] : \n",
    "    ld, V = np.linalg.eig(a)\n",
    "    print('행렬 {}의 고윳값과 고유벡터'.format(a))\n",
    "    print(f'고윳값 : {ld},\\n 고유벡터 : {V}')\n",
    "    print('-'*10)\n"
   ],
   "outputs": [
    {
     "output_type": "stream",
     "name": "stdout",
     "text": [
      "행렬 [[ 1 -2]\n",
      " [ 2 -3]]의 고윳값과 고유벡터\n",
      "고윳값 : [-0.99999998 -1.00000002],\n",
      " 고유벡터 : [[0.70710678 0.70710678]\n",
      " [0.70710678 0.70710678]]\n",
      "----------\n",
      "행렬 [[2 3]\n",
      " [2 1]]의 고윳값과 고유벡터\n",
      "고윳값 : [ 4. -1.],\n",
      " 고유벡터 : [[ 0.83205029 -0.70710678]\n",
      " [ 0.5547002   0.70710678]]\n",
      "----------\n",
      "행렬 [[ 0 -1]\n",
      " [ 1  0]]의 고윳값과 고유벡터\n",
      "고윳값 : [0.+1.j 0.-1.j],\n",
      " 고유벡터 : [[0.70710678+0.j         0.70710678-0.j        ]\n",
      " [0.        -0.70710678j 0.        +0.70710678j]]\n",
      "----------\n",
      "행렬 [[2 1]\n",
      " [1 2]]의 고윳값과 고유벡터\n",
      "고윳값 : [3. 1.],\n",
      " 고유벡터 : [[ 0.70710678 -0.70710678]\n",
      " [ 0.70710678  0.70710678]]\n",
      "----------\n",
      "행렬 [[2 3]\n",
      " [2 1]]의 고윳값과 고유벡터\n",
      "고윳값 : [ 4. -1.],\n",
      " 고유벡터 : [[ 0.83205029 -0.70710678]\n",
      " [ 0.5547002   0.70710678]]\n",
      "----------\n",
      "행렬 [[1 1]\n",
      " [0 1]]의 고윳값과 고유벡터\n",
      "고윳값 : [1. 1.],\n",
      " 고유벡터 : [[ 1.00000000e+00 -1.00000000e+00]\n",
      " [ 0.00000000e+00  2.22044605e-16]]\n",
      "----------\n"
     ]
    }
   ],
   "metadata": {}
  },
  {
   "cell_type": "code",
   "execution_count": 5,
   "source": [
    "# 연습문제 3.3.8\n",
    "A = np.array([[2,3],[2,1]])\n",
    "ld, V = np.linalg.eig(A)\n",
    "L = np.diag(ld)\n",
    "\n",
    "V@np.linalg.inv(L)@np.linalg.inv(V)"
   ],
   "outputs": [
    {
     "output_type": "execute_result",
     "data": {
      "text/plain": [
       "array([[-0.25,  0.75],\n",
       "       [ 0.5 , -0.5 ]])"
      ]
     },
     "metadata": {},
     "execution_count": 5
    }
   ],
   "metadata": {}
  },
  {
   "cell_type": "markdown",
   "source": [
    "# 대칭행렬을 랭크-1행렬 합으로 분해하기 "
   ],
   "metadata": {}
  },
  {
   "cell_type": "code",
   "execution_count": 6,
   "source": [
    "A = np.array([\n",
    "    [60,30,20],\n",
    "    [30,20,15],\n",
    "    [20,15,12]\n",
    "])\n",
    "\n",
    "ld, V = np.linalg.eig(A) #고유분해 \n",
    "\n",
    "l1 = ld[0]\n",
    "l2 = ld[1]\n",
    "l3 = ld[2]\n",
    "\n",
    "v1 = V[:,0].reshape(3,1)\n",
    "v2 = V[:,1].reshape(3,1)\n",
    "v3 = V[:,2].reshape(3,1)\n",
    "\n",
    "A2 = l1*v1@v1.T + l2*v2@v2.T+l3*v3@v3.T\n",
    "A2 "
   ],
   "outputs": [
    {
     "output_type": "execute_result",
     "data": {
      "text/plain": [
       "array([[60., 30., 20.],\n",
       "       [30., 20., 15.],\n",
       "       [20., 15., 12.]])"
      ]
     },
     "metadata": {},
     "execution_count": 6
    }
   ],
   "metadata": {}
  },
  {
   "cell_type": "markdown",
   "source": [
    "# 대칭행렬의 역행렬을 랭크-1 행렬 합으로 분해하기 "
   ],
   "metadata": {}
  },
  {
   "cell_type": "code",
   "execution_count": 7,
   "source": [
    "A_1 = np.linalg.inv(A)\n",
    "A_1"
   ],
   "outputs": [
    {
     "output_type": "execute_result",
     "data": {
      "text/plain": [
       "array([[ 0.15, -0.6 ,  0.5 ],\n",
       "       [-0.6 ,  3.2 , -3.  ],\n",
       "       [ 0.5 , -3.  ,  3.  ]])"
      ]
     },
     "metadata": {},
     "execution_count": 7
    }
   ],
   "metadata": {}
  },
  {
   "cell_type": "code",
   "execution_count": 8,
   "source": [
    "1/l1*v1@v1.T+1/l2*v2@v2.T+1/l3*v3@v3.T"
   ],
   "outputs": [
    {
     "output_type": "execute_result",
     "data": {
      "text/plain": [
       "array([[ 0.15, -0.6 ,  0.5 ],\n",
       "       [-0.6 ,  3.2 , -3.  ],\n",
       "       [ 0.5 , -3.  ,  3.  ]])"
      ]
     },
     "metadata": {},
     "execution_count": 8
    }
   ],
   "metadata": {}
  },
  {
   "cell_type": "code",
   "execution_count": 9,
   "source": [
    "# 3.3.9 연습문제 \n",
    "\n",
    "#1. \n",
    "\n",
    "from sklearn.datasets import load_iris\n",
    "iris = load_iris().data\n",
    "XXT = iris.T@iris\n",
    "XXT # 특징 데이터행렬의 분산행렬 "
   ],
   "outputs": [
    {
     "output_type": "execute_result",
     "data": {
      "text/plain": [
       "array([[5223.85, 2673.43, 3483.76, 1128.14],\n",
       "       [2673.43, 1430.4 , 1674.3 ,  531.89],\n",
       "       [3483.76, 1674.3 , 2582.71,  869.11],\n",
       "       [1128.14,  531.89,  869.11,  302.33]])"
      ]
     },
     "metadata": {},
     "execution_count": 9
    }
   ],
   "metadata": {}
  },
  {
   "cell_type": "code",
   "execution_count": 10,
   "source": [
    "ld, V = np.linalg.eig(XXT)\n",
    "ld #고윳값"
   ],
   "outputs": [
    {
     "output_type": "execute_result",
     "data": {
      "text/plain": [
       "array([9.20830507e+03, 3.15454317e+02, 1.19780429e+01, 3.55257020e+00])"
      ]
     },
     "metadata": {},
     "execution_count": 10
    }
   ],
   "metadata": {}
  },
  {
   "cell_type": "code",
   "execution_count": 11,
   "source": [
    "# 2. \n",
    "from sklearn.datasets import load_boston\n",
    "\n",
    "boston = load_boston().data\n",
    "\n",
    "XXT2 = boston.T@boston # 특징행렬의 분산행렬 \n",
    "\n",
    "ld, V = np.linalg.eig(XXT2)\n",
    "ld # 분산행렬의 고윳값"
   ],
   "outputs": [
    {
     "output_type": "execute_result",
     "data": {
      "text/plain": [
       "array([1.58386796e+08, 1.18747372e+07, 4.17002244e+05, 1.61644573e+05,\n",
       "       2.52697480e+04, 1.47629635e+04, 8.18396001e+03, 6.07326738e+03,\n",
       "       4.23577535e+03, 6.06399504e+02, 3.27412564e+02, 3.04157837e+01,\n",
       "       2.19326965e+00])"
      ]
     },
     "metadata": {},
     "execution_count": 11
    }
   ],
   "metadata": {}
  },
  {
   "cell_type": "markdown",
   "source": [
    "# 특잇값 분해 복습 - 08.21.2021"
   ],
   "metadata": {}
  },
  {
   "cell_type": "code",
   "execution_count": 18,
   "source": [
    "# 3.4.1 연습문제 \n",
    "#1. \n",
    "B = np.array([[3,2,2],[2,3,-2]])\n",
    "\n",
    "U, S, VT = np.linalg.svd(B)\n",
    "U2, S2, VT2 = np.linalg.svd(B, full_matrices=False)\n",
    "\n",
    "U, np.diag(S, -1)[1:, :], VT"
   ],
   "outputs": [
    {
     "output_type": "execute_result",
     "data": {
      "text/plain": [
       "(array([[-0.70710678, -0.70710678],\n",
       "        [-0.70710678,  0.70710678]]),\n",
       " array([[5., 0., 0.],\n",
       "        [0., 3., 0.]]),\n",
       " array([[-7.07106781e-01, -7.07106781e-01, -5.55111512e-17],\n",
       "        [-2.35702260e-01,  2.35702260e-01, -9.42809042e-01],\n",
       "        [-6.66666667e-01,  6.66666667e-01,  3.33333333e-01]]))"
      ]
     },
     "metadata": {},
     "execution_count": 18
    }
   ],
   "metadata": {}
  },
  {
   "cell_type": "code",
   "execution_count": 19,
   "source": [
    "U2, np.diag(S2), VT2"
   ],
   "outputs": [
    {
     "output_type": "execute_result",
     "data": {
      "text/plain": [
       "(array([[-0.70710678, -0.70710678],\n",
       "        [-0.70710678,  0.70710678]]),\n",
       " array([[5., 0.],\n",
       "        [0., 3.]]),\n",
       " array([[-7.07106781e-01, -7.07106781e-01, -5.55111512e-17],\n",
       "        [-2.35702260e-01,  2.35702260e-01, -9.42809042e-01]]))"
      ]
     },
     "metadata": {},
     "execution_count": 19
    }
   ],
   "metadata": {}
  },
  {
   "cell_type": "code",
   "execution_count": 20,
   "source": [
    "# 곱해서 원래 행렬이 나오는가? \n",
    "\n",
    "U@np.diag(S, -1)[1:,:]@VT"
   ],
   "outputs": [
    {
     "output_type": "execute_result",
     "data": {
      "text/plain": [
       "array([[ 3.,  2.,  2.],\n",
       "       [ 2.,  3., -2.]])"
      ]
     },
     "metadata": {},
     "execution_count": 20
    }
   ],
   "metadata": {}
  },
  {
   "cell_type": "code",
   "execution_count": 21,
   "source": [
    "U2@np.diag(S2)@VT2"
   ],
   "outputs": [
    {
     "output_type": "execute_result",
     "data": {
      "text/plain": [
       "array([[ 3.,  2.,  2.],\n",
       "       [ 2.,  3., -2.]])"
      ]
     },
     "metadata": {},
     "execution_count": 21
    }
   ],
   "metadata": {}
  },
  {
   "cell_type": "code",
   "execution_count": 40,
   "source": [
    "# 2. \n",
    "C = np.array([[2,4],[1,3],[0,0],[0,0]])\n",
    "\n",
    "U, S, VT = np.linalg.svd(C)\n",
    "S = np.diag(S, 2)[:,2:]\n",
    "\n",
    "U2, S2, VT2 = np.linalg.svd(C, full_matrices=False)\n",
    "S2 = np.diag(S2)\n",
    "\n",
    "U, S, VT"
   ],
   "outputs": [
    {
     "output_type": "execute_result",
     "data": {
      "text/plain": [
       "(array([[-0.81741556, -0.57604844,  0.        ,  0.        ],\n",
       "        [-0.57604844,  0.81741556,  0.        ,  0.        ],\n",
       "        [ 0.        ,  0.        ,  1.        ,  0.        ],\n",
       "        [ 0.        ,  0.        ,  0.        ,  1.        ]]),\n",
       " array([[5.4649857 , 0.        ],\n",
       "        [0.        , 0.36596619],\n",
       "        [0.        , 0.        ],\n",
       "        [0.        , 0.        ]]),\n",
       " array([[-0.40455358, -0.9145143 ],\n",
       "        [-0.9145143 ,  0.40455358]]))"
      ]
     },
     "metadata": {},
     "execution_count": 40
    }
   ],
   "metadata": {}
  },
  {
   "cell_type": "code",
   "execution_count": 41,
   "source": [
    "U2, S2, VT2"
   ],
   "outputs": [
    {
     "output_type": "execute_result",
     "data": {
      "text/plain": [
       "(array([[-0.81741556, -0.57604844],\n",
       "        [-0.57604844,  0.81741556],\n",
       "        [ 0.        ,  0.        ],\n",
       "        [ 0.        ,  0.        ]]),\n",
       " array([[5.4649857 , 0.        ],\n",
       "        [0.        , 0.36596619]]),\n",
       " array([[-0.40455358, -0.9145143 ],\n",
       "        [-0.9145143 ,  0.40455358]]))"
      ]
     },
     "metadata": {},
     "execution_count": 41
    }
   ],
   "metadata": {}
  },
  {
   "cell_type": "code",
   "execution_count": 42,
   "source": [
    "U@S@VT"
   ],
   "outputs": [
    {
     "output_type": "execute_result",
     "data": {
      "text/plain": [
       "array([[2., 4.],\n",
       "       [1., 3.],\n",
       "       [0., 0.],\n",
       "       [0., 0.]])"
      ]
     },
     "metadata": {},
     "execution_count": 42
    }
   ],
   "metadata": {}
  },
  {
   "cell_type": "code",
   "execution_count": 43,
   "source": [
    "U2@S2@VT2"
   ],
   "outputs": [
    {
     "output_type": "execute_result",
     "data": {
      "text/plain": [
       "array([[2., 4.],\n",
       "       [1., 3.],\n",
       "       [0., 0.],\n",
       "       [0., 0.]])"
      ]
     },
     "metadata": {},
     "execution_count": 43
    }
   ],
   "metadata": {}
  },
  {
   "cell_type": "code",
   "execution_count": 79,
   "source": [
    "# 연습문제 3.4.2 \n",
    "\n",
    "B = np.array([[3,2,2],[2,3,-2]])\n",
    "C = np.array([[2,4],[1,3],[0,0],[0,0]])\n",
    "\n",
    "#1. \n",
    "U, S, VT = np.linalg.svd(B, full_matrices=False)\n",
    "\n",
    "v1 = VT[0, :].reshape(3,1)\n",
    "v2 = VT[1, :].reshape(3,1)\n",
    "\n",
    "s1 = S[0]\n",
    "s2 = S[1]\n",
    "\n",
    "u1 = U[:,0].reshape(2,1)\n",
    "u2 = U[:,1].reshape(2,1)\n",
    "\n",
    "B@v1, s1*u1"
   ],
   "outputs": [
    {
     "output_type": "execute_result",
     "data": {
      "text/plain": [
       "(array([[-3.53553391],\n",
       "        [-3.53553391]]),\n",
       " array([[-3.53553391],\n",
       "        [-3.53553391]]))"
      ]
     },
     "metadata": {},
     "execution_count": 79
    }
   ],
   "metadata": {}
  },
  {
   "cell_type": "code",
   "execution_count": 80,
   "source": [
    "B@v2, s2*u2"
   ],
   "outputs": [
    {
     "output_type": "execute_result",
     "data": {
      "text/plain": [
       "(array([[-2.12132034],\n",
       "        [ 2.12132034]]),\n",
       " array([[-2.12132034],\n",
       "        [ 2.12132034]]))"
      ]
     },
     "metadata": {},
     "execution_count": 80
    }
   ],
   "metadata": {}
  },
  {
   "cell_type": "code",
   "execution_count": 100,
   "source": [
    "# 2. \n",
    "\n",
    "U, S, VT = np.linalg.svd(C, full_matrices=False)\n",
    "\n",
    "s1 = S[0]\n",
    "s2 = S[1]\n",
    "\n",
    "u1 = U[:,0].reshape(4,1)\n",
    "u2 = U[:,1].reshape(4,1)\n",
    "\n",
    "v1 = VT[0,:].reshape(2,1)\n",
    "v2 = VT[:,1].reshape(2,1)\n",
    "\n",
    "C@v1, s1*u1"
   ],
   "outputs": [
    {
     "output_type": "execute_result",
     "data": {
      "text/plain": [
       "(array([[-4.46716435],\n",
       "        [-3.14809647],\n",
       "        [ 0.        ],\n",
       "        [ 0.        ]]),\n",
       " array([[-4.46716435],\n",
       "        [-3.14809647],\n",
       "        [ 0.        ],\n",
       "        [ 0.        ]]))"
      ]
     },
     "metadata": {},
     "execution_count": 100
    }
   ],
   "metadata": {}
  },
  {
   "cell_type": "code",
   "execution_count": 102,
   "source": [
    "C@v2, s2*u2"
   ],
   "outputs": [
    {
     "output_type": "execute_result",
     "data": {
      "text/plain": [
       "(array([[-0.21081425],\n",
       "        [ 0.29914646],\n",
       "        [ 0.        ],\n",
       "        [ 0.        ]]),\n",
       " array([[-0.21081425],\n",
       "        [ 0.29914646],\n",
       "        [ 0.        ],\n",
       "        [ 0.        ]]))"
      ]
     },
     "metadata": {},
     "execution_count": 102
    }
   ],
   "metadata": {}
  },
  {
   "cell_type": "markdown",
   "source": [
    "# $$Av_{i} = \\sigma_{i}u_{i}$$ \n",
    "\n",
    "# i번째 특잇값은 i번째 좌우 특이벡터와 대응된다"
   ],
   "metadata": {}
  },
  {
   "cell_type": "code",
   "execution_count": 107,
   "source": [
    "# 3.4.3 연습문제 \n",
    "\n",
    "A = np.array([[3,-1],[1,3],[1,1]])\n",
    "\n",
    "U, S, VT = np.linalg.svd(A)\n",
    "\n",
    "ld, V = np.linalg.eig(A@A.T)\n",
    "\n",
    "U, V"
   ],
   "outputs": [
    {
     "output_type": "execute_result",
     "data": {
      "text/plain": [
       "(array([[-4.08248290e-01,  8.94427191e-01, -1.82574186e-01],\n",
       "        [-8.16496581e-01, -4.47213595e-01, -3.65148372e-01],\n",
       "        [-4.08248290e-01, -1.94289029e-16,  9.12870929e-01]]),\n",
       " array([[ 1.82574186e-01, -8.94427191e-01, -4.08248290e-01],\n",
       "        [ 3.65148372e-01,  4.47213595e-01, -8.16496581e-01],\n",
       "        [-9.12870929e-01,  9.27403771e-16, -4.08248290e-01]]))"
      ]
     },
     "metadata": {},
     "execution_count": 107
    }
   ],
   "metadata": {}
  },
  {
   "cell_type": "code",
   "execution_count": 112,
   "source": [
    "-V[:,0], U[:,2]"
   ],
   "outputs": [
    {
     "output_type": "execute_result",
     "data": {
      "text/plain": [
       "(array([-0.18257419, -0.36514837,  0.91287093]),\n",
       " array([-0.18257419, -0.36514837,  0.91287093]))"
      ]
     },
     "metadata": {},
     "execution_count": 112
    }
   ],
   "metadata": {}
  },
  {
   "cell_type": "code",
   "execution_count": 115,
   "source": [
    "-V[:,1], U[:,1]"
   ],
   "outputs": [
    {
     "output_type": "execute_result",
     "data": {
      "text/plain": [
       "(array([ 8.94427191e-01, -4.47213595e-01, -9.27403771e-16]),\n",
       " array([ 8.94427191e-01, -4.47213595e-01, -1.94289029e-16]))"
      ]
     },
     "metadata": {},
     "execution_count": 115
    }
   ],
   "metadata": {}
  },
  {
   "cell_type": "code",
   "execution_count": 118,
   "source": [
    "V[:,2], U[:,0]"
   ],
   "outputs": [
    {
     "output_type": "execute_result",
     "data": {
      "text/plain": [
       "(array([-0.40824829, -0.81649658, -0.40824829]),\n",
       " array([-0.40824829, -0.81649658, -0.40824829]))"
      ]
     },
     "metadata": {},
     "execution_count": 118
    }
   ],
   "metadata": {}
  }
 ],
 "metadata": {
  "orig_nbformat": 4,
  "language_info": {
   "name": "python",
   "version": "3.8.5",
   "mimetype": "text/x-python",
   "codemirror_mode": {
    "name": "ipython",
    "version": 3
   },
   "pygments_lexer": "ipython3",
   "nbconvert_exporter": "python",
   "file_extension": ".py"
  },
  "kernelspec": {
   "name": "python3",
   "display_name": "Python 3.8.5 64-bit ('base': conda)"
  },
  "interpreter": {
   "hash": "763d474441fddba0f33013a9d1e225472a278d648ad009624f32af99627e6f43"
  }
 },
 "nbformat": 4,
 "nbformat_minor": 2
}