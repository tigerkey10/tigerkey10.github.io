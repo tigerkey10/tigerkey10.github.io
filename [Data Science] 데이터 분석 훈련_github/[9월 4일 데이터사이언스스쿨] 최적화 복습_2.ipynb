{
 "cells": [
  {
   "cell_type": "code",
   "execution_count": null,
   "source": [],
   "outputs": [],
   "metadata": {}
  }
 ],
 "metadata": {
  "orig_nbformat": 4,
  "language_info": {
   "name": "python",
   "version": "3.8.5"
  },
  "kernelspec": {
   "name": "python3",
   "display_name": "Python 3.8.5 64-bit ('base': conda)"
  },
  "interpreter": {
   "hash": "763d474441fddba0f33013a9d1e225472a278d648ad009624f32af99627e6f43"
  }
 },
 "nbformat": 4,
 "nbformat_minor": 2
}