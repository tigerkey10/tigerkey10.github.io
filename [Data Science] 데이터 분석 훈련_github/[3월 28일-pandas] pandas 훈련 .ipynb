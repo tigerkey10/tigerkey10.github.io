{
 "cells": [
  {
   "cell_type": "code",
   "execution_count": 11,
   "metadata": {},
   "outputs": [],
   "source": [
    "import pandas as pd\n",
    "import re"
   ]
  },
  {
   "cell_type": "code",
   "execution_count": 9,
   "metadata": {},
   "outputs": [],
   "source": [
    "df = pd.read_csv('/Users/kibeomkim/Desktop/웹크롤링_결과_데이터/2021-03-28-21-12-01-청와대 국민청원 데이터/2021-03-28-21-12-01-청와대 국민청원 데이터.csv',index_col=None)"
   ]
  },
  {
   "cell_type": "code",
   "execution_count": 27,
   "metadata": {},
   "outputs": [
    {
     "data": {
      "text/html": [
       "<div>\n",
       "<style scoped>\n",
       "    .dataframe tbody tr th:only-of-type {\n",
       "        vertical-align: middle;\n",
       "    }\n",
       "\n",
       "    .dataframe tbody tr th {\n",
       "        vertical-align: top;\n",
       "    }\n",
       "\n",
       "    .dataframe thead th {\n",
       "        text-align: right;\n",
       "    }\n",
       "</style>\n",
       "<table border=\"1\" class=\"dataframe\">\n",
       "  <thead>\n",
       "    <tr style=\"text-align: right;\">\n",
       "      <th></th>\n",
       "      <th>청원제목</th>\n",
       "      <th>참여인원</th>\n",
       "      <th>카테고리분류</th>\n",
       "      <th>청원시작일자</th>\n",
       "      <th>청원종료일자</th>\n",
       "      <th>청원내용</th>\n",
       "    </tr>\n",
       "  </thead>\n",
       "  <tbody>\n",
       "    <tr>\n",
       "      <th>0</th>\n",
       "      <td>JTBC의 드라마 설**의 촬영을 중지시켜야합니다.</td>\n",
       "      <td>106893</td>\n",
       "      <td>문화/예술/체육/언론</td>\n",
       "      <td>2021-03-26</td>\n",
       "      <td>2021-04-25</td>\n",
       "      <td>조선구마사같은 이기적인 수준을 넘어선 작품이,두번째로 나오기 직전입니다.설**.민주...</td>\n",
       "    </tr>\n",
       "    <tr>\n",
       "      <th>1</th>\n",
       "      <td>시속 80km 차에 목매달린 개, 뭉개진 네 발 보랏빛 피투성이된 동물 학대 엄중한...</td>\n",
       "      <td>10496</td>\n",
       "      <td>반려동물</td>\n",
       "      <td>2021-03-26</td>\n",
       "      <td>2021-04-25</td>\n",
       "      <td>2021년 3월 7일 오전 10시 38분경 경상북도 상주시 모서면 국도상에서 차량 ...</td>\n",
       "    </tr>\n",
       "    <tr>\n",
       "      <th>2</th>\n",
       "      <td>세무서의 가산세 유예기간 및 고금리를 저금리로 조정을 청원합니다</td>\n",
       "      <td>224</td>\n",
       "      <td>행정</td>\n",
       "      <td>2021-03-26</td>\n",
       "      <td>2021-04-25</td>\n",
       "      <td>금천구 가산동에서 소규모 자영업을 하고있습니다2019년 말경 코로나 사태 발발시점에...</td>\n",
       "    </tr>\n",
       "    <tr>\n",
       "      <th>3</th>\n",
       "      <td>대한축구협회 폐지</td>\n",
       "      <td>2379</td>\n",
       "      <td>문화/예술/체육/언론</td>\n",
       "      <td>2021-03-26</td>\n",
       "      <td>2021-04-25</td>\n",
       "      <td>이번 한일전 무리한일정을 잡고 그것도 모자라 태극기와 일장기를 나란히 붙인유니폼을 ...</td>\n",
       "    </tr>\n",
       "    <tr>\n",
       "      <th>4</th>\n",
       "      <td>축구 협회 개혁 해야 하고 벤투 감독도 경질 해야 합니다!!!!</td>\n",
       "      <td>1758</td>\n",
       "      <td>문화/예술/체육/언론</td>\n",
       "      <td>2021-03-26</td>\n",
       "      <td>2021-04-25</td>\n",
       "      <td>오늘 한일 전 경기 보고 알았습니다. 한국과 일본의 축구 수준 차이를요. 이제 더이...</td>\n",
       "    </tr>\n",
       "  </tbody>\n",
       "</table>\n",
       "</div>"
      ],
      "text/plain": [
       "                                                청원제목    참여인원       카테고리분류  \\\n",
       "0                       JTBC의 드라마 설**의 촬영을 중지시켜야합니다.  106893  문화/예술/체육/언론   \n",
       "1  시속 80km 차에 목매달린 개, 뭉개진 네 발 보랏빛 피투성이된 동물 학대 엄중한...   10496         반려동물   \n",
       "2                세무서의 가산세 유예기간 및 고금리를 저금리로 조정을 청원합니다     224           행정   \n",
       "3                                          대한축구협회 폐지    2379  문화/예술/체육/언론   \n",
       "4                축구 협회 개혁 해야 하고 벤투 감독도 경질 해야 합니다!!!!    1758  문화/예술/체육/언론   \n",
       "\n",
       "       청원시작일자      청원종료일자                                               청원내용  \n",
       "0  2021-03-26  2021-04-25  조선구마사같은 이기적인 수준을 넘어선 작품이,두번째로 나오기 직전입니다.설**.민주...  \n",
       "1  2021-03-26  2021-04-25  2021년 3월 7일 오전 10시 38분경 경상북도 상주시 모서면 국도상에서 차량 ...  \n",
       "2  2021-03-26  2021-04-25  금천구 가산동에서 소규모 자영업을 하고있습니다2019년 말경 코로나 사태 발발시점에...  \n",
       "3  2021-03-26  2021-04-25  이번 한일전 무리한일정을 잡고 그것도 모자라 태극기와 일장기를 나란히 붙인유니폼을 ...  \n",
       "4  2021-03-26  2021-04-25  오늘 한일 전 경기 보고 알았습니다. 한국과 일본의 축구 수준 차이를요. 이제 더이...  "
      ]
     },
     "execution_count": 27,
     "metadata": {},
     "output_type": "execute_result"
    }
   ],
   "source": [
    "df.head()"
   ]
  },
  {
   "cell_type": "code",
   "execution_count": 19,
   "metadata": {},
   "outputs": [],
   "source": [
    "df.drop('Unnamed: 0', axis=1, inplace=True)"
   ]
  },
  {
   "cell_type": "code",
   "execution_count": 26,
   "metadata": {
    "scrolled": true
   },
   "outputs": [
    {
     "data": {
      "text/html": [
       "<div>\n",
       "<style scoped>\n",
       "    .dataframe tbody tr th:only-of-type {\n",
       "        vertical-align: middle;\n",
       "    }\n",
       "\n",
       "    .dataframe tbody tr th {\n",
       "        vertical-align: top;\n",
       "    }\n",
       "\n",
       "    .dataframe thead th {\n",
       "        text-align: right;\n",
       "    }\n",
       "</style>\n",
       "<table border=\"1\" class=\"dataframe\">\n",
       "  <thead>\n",
       "    <tr style=\"text-align: right;\">\n",
       "      <th></th>\n",
       "      <th>참여인원</th>\n",
       "      <th>카테고리분류</th>\n",
       "    </tr>\n",
       "  </thead>\n",
       "  <tbody>\n",
       "    <tr>\n",
       "      <th>0</th>\n",
       "      <td>106893</td>\n",
       "      <td>문화/예술/체육/언론</td>\n",
       "    </tr>\n",
       "    <tr>\n",
       "      <th>1</th>\n",
       "      <td>10496</td>\n",
       "      <td>반려동물</td>\n",
       "    </tr>\n",
       "    <tr>\n",
       "      <th>2</th>\n",
       "      <td>224</td>\n",
       "      <td>행정</td>\n",
       "    </tr>\n",
       "    <tr>\n",
       "      <th>3</th>\n",
       "      <td>2379</td>\n",
       "      <td>문화/예술/체육/언론</td>\n",
       "    </tr>\n",
       "    <tr>\n",
       "      <th>4</th>\n",
       "      <td>1758</td>\n",
       "      <td>문화/예술/체육/언론</td>\n",
       "    </tr>\n",
       "    <tr>\n",
       "      <th>5</th>\n",
       "      <td>3287</td>\n",
       "      <td>외교/통일/국방</td>\n",
       "    </tr>\n",
       "    <tr>\n",
       "      <th>6</th>\n",
       "      <td>3530</td>\n",
       "      <td>반려동물</td>\n",
       "    </tr>\n",
       "    <tr>\n",
       "      <th>7</th>\n",
       "      <td>1390</td>\n",
       "      <td>일자리</td>\n",
       "    </tr>\n",
       "  </tbody>\n",
       "</table>\n",
       "</div>"
      ],
      "text/plain": [
       "     참여인원       카테고리분류\n",
       "0  106893  문화/예술/체육/언론\n",
       "1   10496         반려동물\n",
       "2     224           행정\n",
       "3    2379  문화/예술/체육/언론\n",
       "4    1758  문화/예술/체육/언론\n",
       "5    3287     외교/통일/국방\n",
       "6    3530         반려동물\n",
       "7    1390          일자리"
      ]
     },
     "execution_count": 26,
     "metadata": {},
     "output_type": "execute_result"
    }
   ],
   "source": [
    "df2 = df[['참여인원','카테고리분류']]\n",
    "df2.head(8)"
   ]
  },
  {
   "cell_type": "code",
   "execution_count": 32,
   "metadata": {},
   "outputs": [],
   "source": [
    "df2_pivot = df2.pivot(columns='카테고리분류',values='참여인원')"
   ]
  },
  {
   "cell_type": "code",
   "execution_count": 66,
   "metadata": {},
   "outputs": [],
   "source": [
    "col_list = list(df2_pivot.columns)\n",
    "list1 = []\n",
    "for i in col_list : \n",
    "    col_sum = df2_pivot[i].sum()\n",
    "    list1.append(col_sum)"
   ]
  },
  {
   "cell_type": "code",
   "execution_count": 74,
   "metadata": {},
   "outputs": [],
   "source": [
    "sum = pd.DataFrame([list1],\n",
    "            columns=df2_pivot.columns)"
   ]
  },
  {
   "cell_type": "code",
   "execution_count": 80,
   "metadata": {},
   "outputs": [],
   "source": [
    "sum = sum.astype('int64')"
   ]
  },
  {
   "cell_type": "code",
   "execution_count": 94,
   "metadata": {},
   "outputs": [],
   "source": [
    "petition = sum.melt(var_name='청원카테고리',value_name='총계')"
   ]
  },
  {
   "cell_type": "code",
   "execution_count": 102,
   "metadata": {},
   "outputs": [
    {
     "data": {
      "text/html": [
       "<div>\n",
       "<style scoped>\n",
       "    .dataframe tbody tr th:only-of-type {\n",
       "        vertical-align: middle;\n",
       "    }\n",
       "\n",
       "    .dataframe tbody tr th {\n",
       "        vertical-align: top;\n",
       "    }\n",
       "\n",
       "    .dataframe thead th {\n",
       "        text-align: right;\n",
       "    }\n",
       "</style>\n",
       "<table border=\"1\" class=\"dataframe\">\n",
       "  <thead>\n",
       "    <tr style=\"text-align: right;\">\n",
       "      <th></th>\n",
       "      <th>청원카테고리</th>\n",
       "      <th>총계</th>\n",
       "    </tr>\n",
       "  </thead>\n",
       "  <tbody>\n",
       "    <tr>\n",
       "      <th>0</th>\n",
       "      <td>교통/건축/국토</td>\n",
       "      <td>1721</td>\n",
       "    </tr>\n",
       "    <tr>\n",
       "      <th>1</th>\n",
       "      <td>기타</td>\n",
       "      <td>6865</td>\n",
       "    </tr>\n",
       "    <tr>\n",
       "      <th>2</th>\n",
       "      <td>농산어촌</td>\n",
       "      <td>1241</td>\n",
       "    </tr>\n",
       "    <tr>\n",
       "      <th>3</th>\n",
       "      <td>문화/예술/체육/언론</td>\n",
       "      <td>247550</td>\n",
       "    </tr>\n",
       "    <tr>\n",
       "      <th>4</th>\n",
       "      <td>미래</td>\n",
       "      <td>293</td>\n",
       "    </tr>\n",
       "  </tbody>\n",
       "</table>\n",
       "</div>"
      ],
      "text/plain": [
       "        청원카테고리      총계\n",
       "0     교통/건축/국토    1721\n",
       "1           기타    6865\n",
       "2         농산어촌    1241\n",
       "3  문화/예술/체육/언론  247550\n",
       "4           미래     293"
      ]
     },
     "execution_count": 102,
     "metadata": {},
     "output_type": "execute_result"
    }
   ],
   "source": [
    "petition.drop_duplicates(inplace=True)\n",
    "petition.head() #tidy_data"
   ]
  },
  {
   "cell_type": "code",
   "execution_count": 105,
   "metadata": {},
   "outputs": [],
   "source": [
    "petition.sort_values('청원카테고리', inplace=True)"
   ]
  },
  {
   "cell_type": "code",
   "execution_count": 116,
   "metadata": {
    "scrolled": true
   },
   "outputs": [
    {
     "data": {
      "text/html": [
       "<div>\n",
       "<style scoped>\n",
       "    .dataframe tbody tr th:only-of-type {\n",
       "        vertical-align: middle;\n",
       "    }\n",
       "\n",
       "    .dataframe tbody tr th {\n",
       "        vertical-align: top;\n",
       "    }\n",
       "\n",
       "    .dataframe thead th {\n",
       "        text-align: right;\n",
       "    }\n",
       "</style>\n",
       "<table border=\"1\" class=\"dataframe\">\n",
       "  <thead>\n",
       "    <tr style=\"text-align: right;\">\n",
       "      <th></th>\n",
       "      <th>청원카테고리</th>\n",
       "      <th>총계</th>\n",
       "    </tr>\n",
       "  </thead>\n",
       "  <tbody>\n",
       "    <tr>\n",
       "      <th>0</th>\n",
       "      <td>문화/예술/체육/언론</td>\n",
       "      <td>247550</td>\n",
       "    </tr>\n",
       "    <tr>\n",
       "      <th>1</th>\n",
       "      <td>반려동물</td>\n",
       "      <td>14746</td>\n",
       "    </tr>\n",
       "    <tr>\n",
       "      <th>2</th>\n",
       "      <td>기타</td>\n",
       "      <td>6865</td>\n",
       "    </tr>\n",
       "    <tr>\n",
       "      <th>3</th>\n",
       "      <td>육아/교육</td>\n",
       "      <td>6281</td>\n",
       "    </tr>\n",
       "    <tr>\n",
       "      <th>4</th>\n",
       "      <td>외교/통일/국방</td>\n",
       "      <td>5865</td>\n",
       "    </tr>\n",
       "  </tbody>\n",
       "</table>\n",
       "</div>"
      ],
      "text/plain": [
       "        청원카테고리      총계\n",
       "0  문화/예술/체육/언론  247550\n",
       "1         반려동물   14746\n",
       "2           기타    6865\n",
       "3        육아/교육    6281\n",
       "4     외교/통일/국방    5865"
      ]
     },
     "execution_count": 116,
     "metadata": {},
     "output_type": "execute_result"
    }
   ],
   "source": [
    "petition.nlargest(5,'총계').reset_index(drop=True)"
   ]
  },
  {
   "cell_type": "code",
   "execution_count": 125,
   "metadata": {
    "scrolled": true
   },
   "outputs": [
    {
     "data": {
      "text/html": [
       "<div>\n",
       "<style scoped>\n",
       "    .dataframe tbody tr th:only-of-type {\n",
       "        vertical-align: middle;\n",
       "    }\n",
       "\n",
       "    .dataframe tbody tr th {\n",
       "        vertical-align: top;\n",
       "    }\n",
       "\n",
       "    .dataframe thead th {\n",
       "        text-align: right;\n",
       "    }\n",
       "</style>\n",
       "<table border=\"1\" class=\"dataframe\">\n",
       "  <thead>\n",
       "    <tr style=\"text-align: right;\">\n",
       "      <th></th>\n",
       "      <th>청원카테고리</th>\n",
       "      <th>총계</th>\n",
       "    </tr>\n",
       "  </thead>\n",
       "  <tbody>\n",
       "    <tr>\n",
       "      <th>0</th>\n",
       "      <td>미래</td>\n",
       "      <td>293</td>\n",
       "    </tr>\n",
       "    <tr>\n",
       "      <th>1</th>\n",
       "      <td>성장동력</td>\n",
       "      <td>402</td>\n",
       "    </tr>\n",
       "    <tr>\n",
       "      <th>2</th>\n",
       "      <td>농산어촌</td>\n",
       "      <td>1241</td>\n",
       "    </tr>\n",
       "    <tr>\n",
       "      <th>3</th>\n",
       "      <td>일자리</td>\n",
       "      <td>1625</td>\n",
       "    </tr>\n",
       "    <tr>\n",
       "      <th>4</th>\n",
       "      <td>교통/건축/국토</td>\n",
       "      <td>1721</td>\n",
       "    </tr>\n",
       "  </tbody>\n",
       "</table>\n",
       "</div>"
      ],
      "text/plain": [
       "     청원카테고리    총계\n",
       "0        미래   293\n",
       "1      성장동력   402\n",
       "2      농산어촌  1241\n",
       "3       일자리  1625\n",
       "4  교통/건축/국토  1721"
      ]
     },
     "execution_count": 125,
     "metadata": {},
     "output_type": "execute_result"
    }
   ],
   "source": [
    "petition.nsmallest(5,'총계').reset_index(drop=True)"
   ]
  },
  {
   "cell_type": "code",
   "execution_count": null,
   "metadata": {},
   "outputs": [],
   "source": []
  },
  {
   "cell_type": "code",
   "execution_count": null,
   "metadata": {},
   "outputs": [],
   "source": []
  }
 ],
 "metadata": {
  "kernelspec": {
   "display_name": "Python 3",
   "language": "python",
   "name": "python3"
  },
  "language_info": {
   "codemirror_mode": {
    "name": "ipython",
    "version": 3
   },
   "file_extension": ".py",
   "mimetype": "text/x-python",
   "name": "python",
   "nbconvert_exporter": "python",
   "pygments_lexer": "ipython3",
   "version": "3.8.5"
  }
 },
 "nbformat": 4,
 "nbformat_minor": 4
}
