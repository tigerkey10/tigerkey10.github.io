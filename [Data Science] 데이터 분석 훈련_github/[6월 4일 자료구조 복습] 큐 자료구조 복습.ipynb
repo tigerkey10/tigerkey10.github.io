{
 "cells": [
  {
   "cell_type": "markdown",
   "metadata": {},
   "source": [
    "# 큐 클래스"
   ]
  },
  {
   "cell_type": "code",
   "execution_count": 16,
   "metadata": {},
   "outputs": [
    {
     "name": "stdout",
     "output_type": "stream",
     "text": [
      "1,2,3,4,5,6,7,8,9,\n"
     ]
    }
   ],
   "source": [
    "from queue import Queue # 큐 클래스 호출\n",
    "que = Queue(10) # 큐 객체 생성 \n",
    "\n",
    "for q in range(1,10) : \n",
    "    que.put(q) # 데이터 큐에 추가 \n",
    "for _ in range(1,10) : \n",
    "    print(que.get(), end = ',')\n",
    "print()\n"
   ]
  },
  {
   "cell_type": "markdown",
   "metadata": {},
   "source": [
    "# 배열 리스트로 큐 구현 _ 큐 자료구조 객체 직접 만들기 "
   ]
  },
  {
   "cell_type": "code",
   "execution_count": 77,
   "metadata": {},
   "outputs": [],
   "source": [
    "class que : \n",
    "    def __init__(self) : \n",
    "        self.q = []\n",
    "        \n",
    "    def enqueue(self,item) :\n",
    "        self.q.append(item)\n",
    "    \n",
    "    def dequeue(self) : \n",
    "        if len(self.q) != 0 : \n",
    "            return self.q.pop(0) # 전단에서 제거 후 반환\n",
    "    def peek(self) : \n",
    "        if len(self.q) != 0 : \n",
    "            return self.q[0]\n",
    "    def isEmpty(self) : \n",
    "        if len(self.q) == 0 : \n",
    "            return True\n",
    "        else : \n",
    "            return False\n",
    "    def size(self) : \n",
    "        return len(self.q)\n",
    "        \n",
    "q = que()\n",
    "q.enqueue(1);q.enqueue(2);q.enqueue(3)"
   ]
  },
  {
   "cell_type": "code",
   "execution_count": 177,
   "metadata": {
    "scrolled": true
   },
   "outputs": [
    {
     "data": {
      "text/plain": [
       "9"
      ]
     },
     "execution_count": 177,
     "metadata": {},
     "output_type": "execute_result"
    }
   ],
   "source": [
    "q.peek()\n",
    "q.enqueue(9)\n",
    "q.dequeue()"
   ]
  },
  {
   "cell_type": "code",
   "execution_count": 48,
   "metadata": {},
   "outputs": [
    {
     "data": {
      "text/plain": [
       "8"
      ]
     },
     "execution_count": 48,
     "metadata": {},
     "output_type": "execute_result"
    }
   ],
   "source": [
    "q.enqueue(8)\n",
    "q.isEmpty()\n",
    "q.dequeue()"
   ]
  },
  {
   "cell_type": "code",
   "execution_count": 60,
   "metadata": {},
   "outputs": [
    {
     "data": {
      "text/plain": [
       "True"
      ]
     },
     "execution_count": 60,
     "metadata": {},
     "output_type": "execute_result"
    }
   ],
   "source": [
    "q.dequeue()\n",
    "q.isEmpty()"
   ]
  },
  {
   "cell_type": "code",
   "execution_count": 61,
   "metadata": {},
   "outputs": [
    {
     "data": {
      "text/plain": [
       "0"
      ]
     },
     "execution_count": 61,
     "metadata": {},
     "output_type": "execute_result"
    }
   ],
   "source": [
    "q.size()"
   ]
  },
  {
   "cell_type": "markdown",
   "metadata": {},
   "source": [
    "# 배열리스트를 큐 처럼 사용하기 \n",
    "- 리스트 장점 활용(인덱싱) + 삽입 삭제는 전단과 후단에서만"
   ]
  },
  {
   "cell_type": "code",
   "execution_count": 190,
   "metadata": {},
   "outputs": [
    {
     "name": "stdout",
     "output_type": "stream",
     "text": [
      "1 2 3 \n",
      "1\n"
     ]
    }
   ],
   "source": [
    "def enqueue(item) : \n",
    "    q.append(item)\n",
    "\n",
    "def dequeue() : \n",
    "    if len(q) != 0  : \n",
    "        return q.pop(0)\n",
    "q = []\n",
    "\n",
    "enqueue(1);enqueue(2);enqueue(3)\n",
    "for i in range(len(q)) : \n",
    "    print(q[i], end = ' ')\n",
    "print()\n",
    "print(dequeue())"
   ]
  },
  {
   "cell_type": "markdown",
   "metadata": {},
   "source": [
    "# 단순연결리스트로 큐 구현 "
   ]
  },
  {
   "cell_type": "code",
   "execution_count": 249,
   "metadata": {},
   "outputs": [],
   "source": [
    "# 노드 클래스 \n",
    "class Node : \n",
    "    def __init__(self, item, n) : \n",
    "        self.item = item # 데이터 필드 \n",
    "        self.next = n # 링크 필드 \n",
    "\n",
    "def print_q() : \n",
    "    p = front \n",
    "    while p : # p가 None이 되면 멈춘다\n",
    "        if p != None : \n",
    "            print(p.item, end = ',')\n",
    "        p = p.next # 다음 노드로 이동\n",
    "    print()\n",
    "    \n",
    "\n",
    "def enqueue(item) : \n",
    "    global size\n",
    "    global front\n",
    "    global rear\n",
    "    \n",
    "    new_node = Node(item, None) # 새 노드 생성 \n",
    "    if size == 0 : \n",
    "        front = new_node \n",
    "    else : \n",
    "        rear.next = new_node ##### 가장 중요 : 다음 노드를 링크로 '연결'\n",
    "    rear = new_node # 새로 생성된 노드는 항상 가장 후단이 된다. \n",
    "    size += 1\n",
    "    \n",
    "def dequeue() : \n",
    "    global size\n",
    "    global front\n",
    "    global rear\n",
    "    \n",
    "    if size != 0 : \n",
    "        ftem = front.item\n",
    "        front = front.next\n",
    "        size -= 1\n",
    "        if size == 0 : \n",
    "            rear = None # 문닫고 (전단. 후단 모두 None == 큐가 비었음)\n",
    "        return ftem\n",
    "    \n",
    "def isEmpty() : \n",
    "    if size == 0 : \n",
    "        return True \n",
    "    else : \n",
    "        return False\n",
    "    \n",
    "def peek() : \n",
    "    return front.item"
   ]
  },
  {
   "cell_type": "code",
   "execution_count": 254,
   "metadata": {},
   "outputs": [],
   "source": [
    "enqueue(12)"
   ]
  },
  {
   "cell_type": "code",
   "execution_count": 255,
   "metadata": {},
   "outputs": [
    {
     "name": "stdout",
     "output_type": "stream",
     "text": [
      "9,9,9,9,9,9,9,9,9,9,9,9,12,12,12,12,\n"
     ]
    }
   ],
   "source": [
    "print_q()"
   ]
  },
  {
   "cell_type": "code",
   "execution_count": 271,
   "metadata": {},
   "outputs": [
    {
     "data": {
      "text/plain": [
       "12"
      ]
     },
     "execution_count": 271,
     "metadata": {},
     "output_type": "execute_result"
    }
   ],
   "source": [
    "peek()"
   ]
  },
  {
   "cell_type": "code",
   "execution_count": 270,
   "metadata": {},
   "outputs": [
    {
     "data": {
      "text/plain": [
       "12"
      ]
     },
     "execution_count": 270,
     "metadata": {},
     "output_type": "execute_result"
    }
   ],
   "source": [
    "dequeue()"
   ]
  },
  {
   "cell_type": "code",
   "execution_count": 276,
   "metadata": {},
   "outputs": [
    {
     "data": {
      "text/plain": [
       "1"
      ]
     },
     "execution_count": 276,
     "metadata": {},
     "output_type": "execute_result"
    }
   ],
   "source": [
    "1%5"
   ]
  },
  {
   "cell_type": "markdown",
   "metadata": {},
   "source": [
    "# 원형 큐 \n",
    "- 선형 큐는 삭제 dequeue 연산이 비효율적이다. $O(n)$ 만큼 시간 복잡도 걸린다. \n",
    "- 그렇다고 front 포인터를 옮기면 앞에 공간을 못 쓰게 된다. 또 비효율적이다. \n",
    "### 선형 큐는 삭제연산이 비효율적이다!!\n",
    "# 문제 해결 : 원형 큐\n",
    "- 원형 연결리스트 사용해서 해결한다. \n",
    "- front 포인터 & rear 포인터 둘 다 움직인다. \n",
    "- 맨 첫 번째 항목 앞에 하나만 반드시 비워둔다. \n",
    "- 삽입. 삭제 모두 $O(n))$ 만큼 시간 복잡도 걸린다. <--- 선형큐보다 훨씬 효율적이다!!! (삭제연산 소요시간 : $O(n)$-->$O(1)$)"
   ]
  },
  {
   "cell_type": "markdown",
   "metadata": {},
   "source": [
    "# 원형 큐 구현해보자. \n",
    "- 원형 큐 클래스를 만들어서 구현한다. \n",
    "- 원형 큐 자료구조 객체를 만들자. \n",
    "- 큐 자료구조 중에서도 연산 구현 방식이 '배열리스트를 원형으로 써서 구현하는' 자료구조를 원형 큐 자료구조라고 한다.  "
   ]
  },
  {
   "cell_type": "code",
   "execution_count": 406,
   "metadata": {},
   "outputs": [],
   "source": [
    "MAX_SIZE = 7\n",
    "class CircularQueue : \n",
    "    def __init__(self) : \n",
    "        self.front = 0\n",
    "        self.rear = 0\n",
    "        self.items = [None]*MAX_SIZE\n",
    "    \n",
    "    def isEmpty(self) : return self.front == self.rear\n",
    "    def isFull(self) : return (self.rear+1)%MAX_SIZE == self.front\n",
    "    def size(self) : return (self.rear-self.front+MAX_SIZE)%MAX_SIZE\n",
    "    \n",
    "    def enqueue(self, item) : \n",
    "        if not self.isFull() : \n",
    "            self.rear = (self.rear+1)%MAX_SIZE # 리어 포인터 이동 알고리듬 \n",
    "            self.items[self.rear] = item\n",
    "    def dequeue(self) : \n",
    "        if not self.isEmpty() : \n",
    "            self.front = (self.front+1)%MAX_SIZE\n",
    "            return self.items[self.front]\n",
    "        \n",
    "    def display(self) : \n",
    "        if self.rear < self.front : \n",
    "            out = self.items[self.front+1:MAX_SIZE] + self.items[:self.rear+1]\n",
    "        else : \n",
    "            out = self.items[self.front+1:self.rear+1]\n",
    "        print(f'front : {self.front}, rear : {self.rear}', out)\n",
    "        \n",
    "    def print_cq(self) : \n",
    "        out = []\n",
    "        if self.front < self.rear : \n",
    "            out = self.items[self.front+1:self.rear+1]\n",
    "        else : \n",
    "            out = self.items[self.front+1:MAX_SIZE] + self.items[0:self.rear+1]\n",
    "        print(out)\n",
    "    def clear(self) : \n",
    "        self.front = self.rear\n",
    "    def peek(self) : \n",
    "        if not self.isEmpty() : \n",
    "            return self.items[(self.front+1)%MAX_SIZE]\n",
    "        \n",
    "cq = CircularQueue()"
   ]
  },
  {
   "cell_type": "markdown",
   "metadata": {},
   "source": []
  },
  {
   "cell_type": "markdown",
   "metadata": {},
   "source": []
  },
  {
   "cell_type": "code",
   "execution_count": 361,
   "metadata": {},
   "outputs": [
    {
     "name": "stdout",
     "output_type": "stream",
     "text": [
      "True\n"
     ]
    }
   ],
   "source": [
    "print(cq.isEmpty())\n",
    "\n",
    "for i in range(1,4) : \n",
    "    cq.enqueue(i)"
   ]
  },
  {
   "cell_type": "code",
   "execution_count": 362,
   "metadata": {},
   "outputs": [
    {
     "name": "stdout",
     "output_type": "stream",
     "text": [
      "front : 0, rear : 3 [1, 2, 3]\n"
     ]
    }
   ],
   "source": [
    "cq.display()"
   ]
  },
  {
   "cell_type": "code",
   "execution_count": 363,
   "metadata": {},
   "outputs": [
    {
     "name": "stdout",
     "output_type": "stream",
     "text": [
      "[1, 2, 3]\n"
     ]
    }
   ],
   "source": [
    "cq.print_cq()"
   ]
  },
  {
   "cell_type": "code",
   "execution_count": 364,
   "metadata": {},
   "outputs": [],
   "source": [
    "for i in range(4,7) : \n",
    "    cq.enqueue(i)    "
   ]
  },
  {
   "cell_type": "code",
   "execution_count": 365,
   "metadata": {},
   "outputs": [
    {
     "name": "stdout",
     "output_type": "stream",
     "text": [
      "front : 0, rear : 6 [1, 2, 3, 4, 5, 6]\n"
     ]
    }
   ],
   "source": [
    "cq.display()"
   ]
  },
  {
   "cell_type": "code",
   "execution_count": 371,
   "metadata": {},
   "outputs": [],
   "source": [
    "cq.clear()"
   ]
  },
  {
   "cell_type": "code",
   "execution_count": 372,
   "metadata": {},
   "outputs": [
    {
     "name": "stdout",
     "output_type": "stream",
     "text": [
      "front : 6, rear : 6 []\n"
     ]
    }
   ],
   "source": [
    "cq.display()"
   ]
  },
  {
   "cell_type": "code",
   "execution_count": 373,
   "metadata": {},
   "outputs": [
    {
     "data": {
      "text/plain": [
       "0"
      ]
     },
     "execution_count": 373,
     "metadata": {},
     "output_type": "execute_result"
    }
   ],
   "source": [
    "cq.size()"
   ]
  },
  {
   "cell_type": "code",
   "execution_count": 395,
   "metadata": {},
   "outputs": [
    {
     "name": "stdout",
     "output_type": "stream",
     "text": [
      "front : 2, rear : 1 [3, 1, 2, 3, 1, 2]\n"
     ]
    }
   ],
   "source": [
    "for i in range(1,4) : \n",
    "    cq.enqueue(i)\n",
    "cq.display()"
   ]
  },
  {
   "cell_type": "code",
   "execution_count": 397,
   "metadata": {},
   "outputs": [
    {
     "name": "stdout",
     "output_type": "stream",
     "text": [
      "front : 4, rear : 1 [2, 3, 1, 2]\n"
     ]
    }
   ],
   "source": [
    "for i in range(0,2) : \n",
    "    cq.dequeue()\n",
    "cq.display()"
   ]
  },
  {
   "cell_type": "code",
   "execution_count": 388,
   "metadata": {},
   "outputs": [
    {
     "name": "stdout",
     "output_type": "stream",
     "text": [
      "front : 2, rear : 3 [3]\n"
     ]
    }
   ],
   "source": [
    "cq.size()\n",
    "cq.display()"
   ]
  },
  {
   "cell_type": "code",
   "execution_count": 402,
   "metadata": {},
   "outputs": [],
   "source": [
    "cq.clear()"
   ]
  },
  {
   "cell_type": "code",
   "execution_count": 407,
   "metadata": {},
   "outputs": [],
   "source": [
    "cq.peek()"
   ]
  },
  {
   "cell_type": "code",
   "execution_count": 404,
   "metadata": {},
   "outputs": [
    {
     "name": "stdout",
     "output_type": "stream",
     "text": [
      "front : 1, rear : 1 []\n"
     ]
    }
   ],
   "source": [
    "cq.display()"
   ]
  },
  {
   "cell_type": "markdown",
   "metadata": {},
   "source": [
    "# 테스트 : 원형 큐 클래스가 연산 잘 수행하는지 테스트해본다. "
   ]
  },
  {
   "cell_type": "code",
   "execution_count": 414,
   "metadata": {},
   "outputs": [],
   "source": [
    "cq =CircularQueue()\n",
    "for i in range(1,4) : \n",
    "    cq.enqueue(i)"
   ]
  },
  {
   "cell_type": "code",
   "execution_count": 417,
   "metadata": {
    "scrolled": true
   },
   "outputs": [
    {
     "name": "stdout",
     "output_type": "stream",
     "text": [
      "front : 2, rear : 3 [3]\n"
     ]
    }
   ],
   "source": [
    "cq.display()"
   ]
  },
  {
   "cell_type": "code",
   "execution_count": 418,
   "metadata": {},
   "outputs": [],
   "source": [
    "for _ in range(2) : \n",
    "    cq.dequeue()"
   ]
  },
  {
   "cell_type": "code",
   "execution_count": 419,
   "metadata": {},
   "outputs": [
    {
     "name": "stdout",
     "output_type": "stream",
     "text": [
      "front : 3, rear : 3 []\n"
     ]
    }
   ],
   "source": [
    "cq.display()"
   ]
  },
  {
   "cell_type": "code",
   "execution_count": 421,
   "metadata": {},
   "outputs": [],
   "source": [
    "for i in range(2) : \n",
    "    cq.dequeue()"
   ]
  },
  {
   "cell_type": "code",
   "execution_count": 422,
   "metadata": {},
   "outputs": [
    {
     "name": "stdout",
     "output_type": "stream",
     "text": [
      "front : 3, rear : 3 []\n"
     ]
    }
   ],
   "source": [
    "cq.display()"
   ]
  },
  {
   "cell_type": "code",
   "execution_count": 423,
   "metadata": {},
   "outputs": [],
   "source": [
    "for i in range(4,7) : cq.enqueue(i)"
   ]
  },
  {
   "cell_type": "code",
   "execution_count": 424,
   "metadata": {},
   "outputs": [
    {
     "name": "stdout",
     "output_type": "stream",
     "text": [
      "front : 3, rear : 6 [4, 5, 6]\n"
     ]
    }
   ],
   "source": [
    "cq.display()"
   ]
  },
  {
   "cell_type": "code",
   "execution_count": 425,
   "metadata": {},
   "outputs": [
    {
     "name": "stdout",
     "output_type": "stream",
     "text": [
      "False\n"
     ]
    }
   ],
   "source": [
    "print(cq.isFull())"
   ]
  },
  {
   "cell_type": "code",
   "execution_count": 426,
   "metadata": {},
   "outputs": [],
   "source": [
    "cq.clear()"
   ]
  },
  {
   "cell_type": "markdown",
   "metadata": {},
   "source": [
    "# 다시 "
   ]
  },
  {
   "cell_type": "code",
   "execution_count": 428,
   "metadata": {},
   "outputs": [
    {
     "name": "stdout",
     "output_type": "stream",
     "text": [
      "True\n"
     ]
    }
   ],
   "source": [
    "print(cq.isEmpty())"
   ]
  },
  {
   "cell_type": "code",
   "execution_count": 429,
   "metadata": {},
   "outputs": [],
   "source": [
    "for i in range(1,4) : cq.enqueue(i)"
   ]
  },
  {
   "cell_type": "code",
   "execution_count": 431,
   "metadata": {},
   "outputs": [
    {
     "name": "stdout",
     "output_type": "stream",
     "text": [
      "front : 6, rear : 2 [1, 2, 3]\n"
     ]
    }
   ],
   "source": [
    "cq.display()"
   ]
  },
  {
   "cell_type": "code",
   "execution_count": 432,
   "metadata": {},
   "outputs": [],
   "source": [
    "for _ in range(2) : \n",
    "    cq.dequeue()"
   ]
  },
  {
   "cell_type": "code",
   "execution_count": 433,
   "metadata": {},
   "outputs": [
    {
     "name": "stdout",
     "output_type": "stream",
     "text": [
      "front : 1, rear : 2 [3]\n"
     ]
    }
   ],
   "source": [
    "cq.display()"
   ]
  },
  {
   "cell_type": "code",
   "execution_count": 434,
   "metadata": {},
   "outputs": [],
   "source": [
    "for i in range(4,7) : \n",
    "    cq.enqueue(i)"
   ]
  },
  {
   "cell_type": "code",
   "execution_count": 435,
   "metadata": {},
   "outputs": [
    {
     "name": "stdout",
     "output_type": "stream",
     "text": [
      "front : 1, rear : 5 [3, 4, 5, 6]\n"
     ]
    }
   ],
   "source": [
    "cq.display()"
   ]
  },
  {
   "cell_type": "code",
   "execution_count": 436,
   "metadata": {},
   "outputs": [
    {
     "name": "stdout",
     "output_type": "stream",
     "text": [
      "False\n"
     ]
    }
   ],
   "source": [
    "print(cq.isFull())"
   ]
  },
  {
   "cell_type": "code",
   "execution_count": null,
   "metadata": {},
   "outputs": [],
   "source": []
  },
  {
   "cell_type": "code",
   "execution_count": null,
   "metadata": {},
   "outputs": [],
   "source": []
  }
 ],
 "metadata": {
  "kernelspec": {
   "display_name": "Python 3",
   "language": "python",
   "name": "python3"
  },
  "language_info": {
   "codemirror_mode": {
    "name": "ipython",
    "version": 3
   },
   "file_extension": ".py",
   "mimetype": "text/x-python",
   "name": "python",
   "nbconvert_exporter": "python",
   "pygments_lexer": "ipython3",
   "version": "3.8.5"
  }
 },
 "nbformat": 4,
 "nbformat_minor": 4
}
