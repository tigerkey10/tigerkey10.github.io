{
 "cells": [
  {
   "cell_type": "code",
   "execution_count": 5,
   "metadata": {},
   "outputs": [],
   "source": [
    "A = np.array([[3,-1],\n",
    "             [1,3],\n",
    "             [1,1]])\n",
    "U = np.array([[-1/np.sqrt(6), 2/np.sqrt(5)],\n",
    "             [-2/np.sqrt(6), -1/np.sqrt(5)],\n",
    "             [-1/np.sqrt(6), 0]])\n",
    "sigma = np.array([[np.sqrt(12), 0],\n",
    "                 [0, np.sqrt(10)]])\n",
    "V = np.array([[-1/np.sqrt(2), 1/np.sqrt(2)],\n",
    "             [-1/np.sqrt(2), -1/np.sqrt(2)]])"
   ]
  },
  {
   "cell_type": "code",
   "execution_count": 9,
   "metadata": {},
   "outputs": [
    {
     "data": {
      "text/plain": [
       "array([[ True,  True],\n",
       "       [ True,  True],\n",
       "       [ True,  True]])"
      ]
     },
     "execution_count": 9,
     "metadata": {},
     "output_type": "execute_result"
    }
   ],
   "source": [
    "A == U@sigma@V.T #특이분해 식 성립한다. U의 열벡터가 왼쪽 특이벡터, sigma 대각성분이 특잇값, V.T의 열벡터가 오른쪽 특이벡터다.  "
   ]
  },
  {
   "cell_type": "markdown",
   "metadata": {},
   "source": [
    "# 특이분해 메서드 svd()"
   ]
  },
  {
   "cell_type": "code",
   "execution_count": 18,
   "metadata": {},
   "outputs": [],
   "source": [
    "A = np.array([[3, -1],\n",
    "             [1,3],\n",
    "             [1,1]])\n",
    "\n",
    "U, S, VT = np.linalg.svd(A) #특이분해 메서드 svd()"
   ]
  },
  {
   "cell_type": "code",
   "execution_count": 20,
   "metadata": {},
   "outputs": [
    {
     "data": {
      "text/plain": [
       "array([[-4.08248290e-01,  8.94427191e-01, -1.82574186e-01],\n",
       "       [-8.16496581e-01, -4.47213595e-01, -3.65148372e-01],\n",
       "       [-4.08248290e-01, -1.94289029e-16,  9.12870929e-01]])"
      ]
     },
     "execution_count": 20,
     "metadata": {},
     "output_type": "execute_result"
    }
   ],
   "source": [
    "U #왼쪽 특이벡터들 "
   ]
  },
  {
   "cell_type": "code",
   "execution_count": 30,
   "metadata": {},
   "outputs": [
    {
     "name": "stdout",
     "output_type": "stream",
     "text": [
      "[3.46410162 3.16227766]\n",
      "\n",
      "[[3.46410162 0.        ]\n",
      " [0.         3.16227766]\n",
      " [0.         0.        ]]\n"
     ]
    }
   ],
   "source": [
    "print(S) #특잇값\n",
    "print()\n",
    "\n",
    "# 양수 특잇값들이 대각성분으로 있는 대각행렬 구해보자.\n",
    "sigma = np.diag(S,1)[:, 1:]\n",
    "print(sigma)"
   ]
  },
  {
   "cell_type": "code",
   "execution_count": 31,
   "metadata": {},
   "outputs": [
    {
     "data": {
      "text/plain": [
       "array([[-0.70710678, -0.70710678],\n",
       "       [ 0.70710678, -0.70710678]])"
      ]
     },
     "execution_count": 31,
     "metadata": {},
     "output_type": "execute_result"
    }
   ],
   "source": [
    "#오른쪽 특이벡터들 V.T\n",
    "VT"
   ]
  },
  {
   "cell_type": "code",
   "execution_count": 32,
   "metadata": {},
   "outputs": [
    {
     "data": {
      "text/plain": [
       "array([[ 3., -1.],\n",
       "       [ 1.,  3.],\n",
       "       [ 1.,  1.]])"
      ]
     },
     "execution_count": 32,
     "metadata": {},
     "output_type": "execute_result"
    }
   ],
   "source": [
    "U@sigma@VT"
   ]
  },
  {
   "cell_type": "code",
   "execution_count": 37,
   "metadata": {},
   "outputs": [],
   "source": [
    "# 특이분해 축소형 식 / full_matrices=False로 준다. \n",
    "U2, S2, VT2 = np.linalg.svd(A, full_matrices=False)"
   ]
  },
  {
   "cell_type": "code",
   "execution_count": 38,
   "metadata": {},
   "outputs": [
    {
     "data": {
      "text/plain": [
       "array([[-4.08248290e-01,  8.94427191e-01],\n",
       "       [-8.16496581e-01, -4.47213595e-01],\n",
       "       [-4.08248290e-01, -1.94289029e-16]])"
      ]
     },
     "execution_count": 38,
     "metadata": {},
     "output_type": "execute_result"
    }
   ],
   "source": [
    "U2"
   ]
  },
  {
   "cell_type": "code",
   "execution_count": 47,
   "metadata": {},
   "outputs": [
    {
     "name": "stdout",
     "output_type": "stream",
     "text": [
      "[[3.46410162 0.        ]\n",
      " [0.         3.16227766]]\n"
     ]
    }
   ],
   "source": [
    "S2_M = np.diag(S2)\n",
    "print(S2_M)"
   ]
  },
  {
   "cell_type": "code",
   "execution_count": 48,
   "metadata": {},
   "outputs": [
    {
     "data": {
      "text/plain": [
       "array([[-0.70710678, -0.70710678],\n",
       "       [ 0.70710678, -0.70710678]])"
      ]
     },
     "execution_count": 48,
     "metadata": {},
     "output_type": "execute_result"
    }
   ],
   "source": [
    "VT2"
   ]
  },
  {
   "cell_type": "code",
   "execution_count": 51,
   "metadata": {},
   "outputs": [
    {
     "data": {
      "text/plain": [
       "array([[ 3., -1.],\n",
       "       [ 1.,  3.],\n",
       "       [ 1.,  1.]])"
      ]
     },
     "execution_count": 51,
     "metadata": {},
     "output_type": "execute_result"
    }
   ],
   "source": [
    "U2@S2_M@VT2 #특이분해 식 축소형 결과도 같다. "
   ]
  },
  {
   "cell_type": "code",
   "execution_count": 99,
   "metadata": {},
   "outputs": [],
   "source": [
    "#3.4.1 연습문제 \n",
    "B = np.array([[3,2,2],\n",
    "             [2,3,-2]])\n",
    "C = np.array([[2,4],\n",
    "             [1,3],\n",
    "             [0,0],\n",
    "             [0,0]])"
   ]
  },
  {
   "cell_type": "code",
   "execution_count": 100,
   "metadata": {},
   "outputs": [
    {
     "name": "stdout",
     "output_type": "stream",
     "text": [
      "[[-0.70710678 -0.70710678]\n",
      " [-0.70710678  0.70710678]]\n",
      "\n",
      "[5. 3.]\n",
      "\n",
      "[[-7.07106781e-01 -7.07106781e-01 -5.55111512e-17]\n",
      " [-2.35702260e-01  2.35702260e-01 -9.42809042e-01]\n",
      " [-6.66666667e-01  6.66666667e-01  3.33333333e-01]]\n"
     ]
    }
   ],
   "source": [
    "#1. \n",
    "U, S, VT = np.linalg.svd(B)\n",
    "print(U)\n",
    "print()\n",
    "print(S)\n",
    "print()\n",
    "print(VT)"
   ]
  },
  {
   "cell_type": "code",
   "execution_count": 101,
   "metadata": {
    "scrolled": true
   },
   "outputs": [
    {
     "name": "stdout",
     "output_type": "stream",
     "text": [
      "[[5. 0. 0.]\n",
      " [0. 3. 0.]]\n"
     ]
    }
   ],
   "source": [
    "S_M = np.diag(S,-1)[1:]\n",
    "print(S_M)"
   ]
  },
  {
   "cell_type": "code",
   "execution_count": 102,
   "metadata": {
    "scrolled": true
   },
   "outputs": [
    {
     "data": {
      "text/plain": [
       "array([[ 3.,  2.,  2.],\n",
       "       [ 2.,  3., -2.]])"
      ]
     },
     "execution_count": 102,
     "metadata": {},
     "output_type": "execute_result"
    }
   ],
   "source": [
    "U@S_M@VT  #특이분해 결과가 원래 행렬 B와 같다. "
   ]
  },
  {
   "cell_type": "code",
   "execution_count": 103,
   "metadata": {},
   "outputs": [
    {
     "data": {
      "text/plain": [
       "array([[ 3.,  2.,  2.],\n",
       "       [ 2.,  3., -2.]])"
      ]
     },
     "execution_count": 103,
     "metadata": {},
     "output_type": "execute_result"
    }
   ],
   "source": [
    "#특이분해 식 축소형\n",
    "U@S_M[:,:2]@VT[:2]"
   ]
  },
  {
   "cell_type": "code",
   "execution_count": 107,
   "metadata": {},
   "outputs": [
    {
     "name": "stdout",
     "output_type": "stream",
     "text": [
      "[[-0.70710678 -0.70710678]\n",
      " [-0.70710678  0.70710678]]\n",
      "\n",
      "[5. 3.]\n",
      "\n",
      "[[-7.07106781e-01 -7.07106781e-01 -5.55111512e-17]\n",
      " [-2.35702260e-01  2.35702260e-01 -9.42809042e-01]]\n"
     ]
    }
   ],
   "source": [
    "U_1, S_1, VT_1 = np.linalg.svd(B, full_matrices=False)\n",
    "print(U_1)\n",
    "print()\n",
    "print(S_1)\n",
    "print()\n",
    "print(VT_1)"
   ]
  },
  {
   "cell_type": "code",
   "execution_count": 113,
   "metadata": {},
   "outputs": [
    {
     "name": "stdout",
     "output_type": "stream",
     "text": [
      "[[5. 0.]\n",
      " [0. 3.]]\n"
     ]
    }
   ],
   "source": [
    "S_1_DIG = np.diag(S_1)\n",
    "print(S_1_DIG)"
   ]
  },
  {
   "cell_type": "code",
   "execution_count": 114,
   "metadata": {},
   "outputs": [
    {
     "data": {
      "text/plain": [
       "array([[ 3.,  2.,  2.],\n",
       "       [ 2.,  3., -2.]])"
      ]
     },
     "execution_count": 114,
     "metadata": {},
     "output_type": "execute_result"
    }
   ],
   "source": [
    "U_1@S_1_DIG@VT_1"
   ]
  },
  {
   "cell_type": "markdown",
   "metadata": {},
   "source": []
  },
  {
   "cell_type": "code",
   "execution_count": 76,
   "metadata": {
    "scrolled": true
   },
   "outputs": [
    {
     "name": "stdout",
     "output_type": "stream",
     "text": [
      "[[-0.81741556 -0.57604844  0.          0.        ]\n",
      " [-0.57604844  0.81741556  0.          0.        ]\n",
      " [ 0.          0.          1.          0.        ]\n",
      " [ 0.          0.          0.          1.        ]]\n",
      "\n",
      "[5.4649857  0.36596619]\n",
      "\n",
      "[[-0.40455358 -0.9145143 ]\n",
      " [-0.9145143   0.40455358]]\n"
     ]
    }
   ],
   "source": [
    "#2. \n",
    "U2, S2, VT2 = np.linalg.svd(C)\n",
    "print(U2)\n",
    "print()\n",
    "print(S2)\n",
    "print()\n",
    "print(VT2)"
   ]
  },
  {
   "cell_type": "code",
   "execution_count": 84,
   "metadata": {},
   "outputs": [
    {
     "name": "stdout",
     "output_type": "stream",
     "text": [
      "[[5.4649857  0.        ]\n",
      " [0.         0.36596619]\n",
      " [0.         0.        ]\n",
      " [0.         0.        ]]\n"
     ]
    }
   ],
   "source": [
    "S2_M = np.diag(S2,2)[:,2:]\n",
    "print(S2_M)"
   ]
  },
  {
   "cell_type": "code",
   "execution_count": 85,
   "metadata": {},
   "outputs": [
    {
     "data": {
      "text/plain": [
       "array([[2., 4.],\n",
       "       [1., 3.],\n",
       "       [0., 0.],\n",
       "       [0., 0.]])"
      ]
     },
     "execution_count": 85,
     "metadata": {},
     "output_type": "execute_result"
    }
   ],
   "source": [
    "U2@S2_M@VT2"
   ]
  },
  {
   "cell_type": "code",
   "execution_count": 117,
   "metadata": {},
   "outputs": [
    {
     "name": "stdout",
     "output_type": "stream",
     "text": [
      "[[-0.81741556 -0.57604844]\n",
      " [-0.57604844  0.81741556]\n",
      " [ 0.          0.        ]\n",
      " [ 0.          0.        ]]\n"
     ]
    }
   ],
   "source": [
    "#특이분해 식 축소형\n",
    "U2_1 = U2[:,:2]\n",
    "print(U2_1)"
   ]
  },
  {
   "cell_type": "code",
   "execution_count": 120,
   "metadata": {},
   "outputs": [
    {
     "name": "stdout",
     "output_type": "stream",
     "text": [
      "[[5.4649857  0.        ]\n",
      " [0.         0.36596619]]\n"
     ]
    }
   ],
   "source": [
    "S2_1 = np.diag(S2)\n",
    "print(S2_1)"
   ]
  },
  {
   "cell_type": "code",
   "execution_count": 123,
   "metadata": {},
   "outputs": [
    {
     "data": {
      "text/plain": [
       "array([[-0.40455358, -0.9145143 ],\n",
       "       [-0.9145143 ,  0.40455358]])"
      ]
     },
     "execution_count": 123,
     "metadata": {},
     "output_type": "execute_result"
    }
   ],
   "source": [
    "VT2"
   ]
  },
  {
   "cell_type": "code",
   "execution_count": 124,
   "metadata": {},
   "outputs": [
    {
     "data": {
      "text/plain": [
       "array([[2., 4.],\n",
       "       [1., 3.],\n",
       "       [0., 0.],\n",
       "       [0., 0.]])"
      ]
     },
     "execution_count": 124,
     "metadata": {},
     "output_type": "execute_result"
    }
   ],
   "source": [
    "U2_1@S2_1@VT2"
   ]
  },
  {
   "cell_type": "code",
   "execution_count": 128,
   "metadata": {},
   "outputs": [
    {
     "name": "stdout",
     "output_type": "stream",
     "text": [
      "[[-0.81741556 -0.57604844]\n",
      " [-0.57604844  0.81741556]\n",
      " [ 0.          0.        ]\n",
      " [ 0.          0.        ]]\n",
      "\n",
      "[5.4649857  0.36596619]\n",
      "\n",
      "[[-0.40455358 -0.9145143 ]\n",
      " [-0.9145143   0.40455358]]\n"
     ]
    }
   ],
   "source": [
    "U2_2, S_2, VT_2 = np.linalg.svd(C, full_matrices=False) #특이분해 메서드\n",
    "print(U2_2)\n",
    "print()\n",
    "print(S_2)\n",
    "print()\n",
    "print(VT_2)"
   ]
  },
  {
   "cell_type": "code",
   "execution_count": 129,
   "metadata": {},
   "outputs": [
    {
     "data": {
      "text/plain": [
       "array([[2., 4.],\n",
       "       [1., 3.],\n",
       "       [0., 0.],\n",
       "       [0., 0.]])"
      ]
     },
     "execution_count": 129,
     "metadata": {},
     "output_type": "execute_result"
    }
   ],
   "source": [
    "U2_2@np.diag(S_2)@VT_2"
   ]
  },
  {
   "cell_type": "code",
   "execution_count": 151,
   "metadata": {},
   "outputs": [],
   "source": [
    "A = np.array([[3, -1],\n",
    "             [1,3],\n",
    "             [1,1]])"
   ]
  },
  {
   "cell_type": "code",
   "execution_count": 159,
   "metadata": {},
   "outputs": [
    {
     "data": {
      "text/plain": [
       "array([[-4.08248290e-01,  8.94427191e-01, -1.82574186e-01],\n",
       "       [-8.16496581e-01, -4.47213595e-01, -3.65148372e-01],\n",
       "       [-4.08248290e-01, -1.94289029e-16,  9.12870929e-01]])"
      ]
     },
     "execution_count": 159,
     "metadata": {},
     "output_type": "execute_result"
    }
   ],
   "source": [
    "U, S, VT = np.linalg.svd(A)\n",
    "U"
   ]
  },
  {
   "cell_type": "code",
   "execution_count": 168,
   "metadata": {},
   "outputs": [
    {
     "data": {
      "text/plain": [
       "0.9999999999999999"
      ]
     },
     "execution_count": 168,
     "metadata": {},
     "output_type": "execute_result"
    }
   ],
   "source": [
    "np.linalg.norm(U[:,0])\n",
    "np.linalg.norm(U[:,1])\n",
    "np.linalg.norm(U[:,2])\n"
   ]
  },
  {
   "cell_type": "code",
   "execution_count": 138,
   "metadata": {},
   "outputs": [
    {
     "data": {
      "text/plain": [
       "array([[1., 0.],\n",
       "       [0., 1.]])"
      ]
     },
     "execution_count": 138,
     "metadata": {},
     "output_type": "execute_result"
    }
   ],
   "source": [
    "Y = np.array([[-1/np.sqrt(2), -1/np.sqrt(2)],\n",
    "             [1/np.sqrt(2), -1/np.sqrt(2)]])\n",
    "Y.T@Y\n",
    "Y@Y.T"
   ]
  },
  {
   "cell_type": "code",
   "execution_count": 171,
   "metadata": {},
   "outputs": [],
   "source": [
    "# 연습문제 3.4.2\n",
    "B = np.array([[3,2,2],\n",
    "             [2,3,-2]])\n",
    "\n",
    "C = np.array([[2,4],\n",
    "             [1,3],\n",
    "             [0,0],\n",
    "             [0,0]])"
   ]
  },
  {
   "cell_type": "code",
   "execution_count": 175,
   "metadata": {},
   "outputs": [
    {
     "name": "stdout",
     "output_type": "stream",
     "text": [
      "[[-0.70710678 -0.70710678]\n",
      " [-0.70710678  0.70710678]]\n",
      "\n",
      "[5. 3.]\n",
      "\n",
      "[[-7.07106781e-01 -7.07106781e-01 -5.55111512e-17]\n",
      " [-2.35702260e-01  2.35702260e-01 -9.42809042e-01]\n",
      " [-6.66666667e-01  6.66666667e-01  3.33333333e-01]]\n"
     ]
    }
   ],
   "source": [
    "#1.\n",
    "U, S, VT = np.linalg.svd(B)\n",
    "print(U)\n",
    "print()\n",
    "print(S)\n",
    "print()\n",
    "print(VT)"
   ]
  },
  {
   "cell_type": "markdown",
   "metadata": {},
   "source": [
    "# 특잇값과 특이벡터의 관계 \n",
    "$Av_i = \\sigma_iu_i$"
   ]
  },
  {
   "cell_type": "code",
   "execution_count": 180,
   "metadata": {},
   "outputs": [],
   "source": [
    "v1 = VT[0]\n",
    "v2 = VT[1]\n",
    "\n",
    "sg1 = 5\n",
    "sg2 = 3\n",
    "\n",
    "u1 = U[:,0]\n",
    "u2 = U[:,1]"
   ]
  },
  {
   "cell_type": "code",
   "execution_count": 190,
   "metadata": {},
   "outputs": [
    {
     "name": "stdout",
     "output_type": "stream",
     "text": [
      "[-3.53553391 -3.53553391]\n",
      "[-3.53553391 -3.53553391]\n",
      "\n",
      "[-2.12132034  2.12132034]\n",
      "[-2.12132034  2.12132034]\n"
     ]
    }
   ],
   "source": [
    "print(B@v1 )\n",
    "print(sg1*u1) #특잇값과 특이벡터 간 관계 성립\n",
    "\n",
    "print()\n",
    "\n",
    "print(B@v2)\n",
    "print(sg2*u2)"
   ]
  },
  {
   "cell_type": "code",
   "execution_count": 193,
   "metadata": {},
   "outputs": [
    {
     "name": "stdout",
     "output_type": "stream",
     "text": [
      "[[-0.81741556 -0.57604844  0.          0.        ]\n",
      " [-0.57604844  0.81741556  0.          0.        ]\n",
      " [ 0.          0.          1.          0.        ]\n",
      " [ 0.          0.          0.          1.        ]]\n",
      "\n",
      "[5.4649857  0.36596619]\n",
      "\n",
      "[[-0.40455358 -0.9145143 ]\n",
      " [-0.9145143   0.40455358]]\n"
     ]
    }
   ],
   "source": [
    "#2. \n",
    "U, S, VT = np.linalg.svd(C)\n",
    "print(U)\n",
    "print()\n",
    "print(S)\n",
    "print()\n",
    "print(VT)"
   ]
  },
  {
   "cell_type": "code",
   "execution_count": 200,
   "metadata": {},
   "outputs": [],
   "source": [
    "v1 = VT[0]\n",
    "v2 = VT[1]\n",
    "\n",
    "sg1 = S[0]\n",
    "sg2 = S[1]\n",
    "\n",
    "u1 = U[:,0]\n",
    "u2 = U[:,1]"
   ]
  },
  {
   "cell_type": "code",
   "execution_count": 202,
   "metadata": {},
   "outputs": [
    {
     "name": "stdout",
     "output_type": "stream",
     "text": [
      "[-4.46716435 -3.14809647  0.          0.        ]\n",
      "[-4.46716435 -3.14809647  0.          0.        ]\n",
      "\n",
      "[-0.21081425  0.29914646  0.          0.        ]\n",
      "[-0.21081425  0.29914646  0.          0.        ]\n"
     ]
    }
   ],
   "source": [
    "print(C@v1)\n",
    "print(sg1*u1)\n",
    "\n",
    "print()\n",
    "\n",
    "print(C@v2)\n",
    "print(sg2*u2) #특잇값과 특이벡터 간 관계 성립한다. "
   ]
  },
  {
   "cell_type": "markdown",
   "metadata": {},
   "source": [
    "$$Av_i = \\sigma_iu_i$$"
   ]
  },
  {
   "cell_type": "code",
   "execution_count": 271,
   "metadata": {
    "scrolled": true
   },
   "outputs": [
    {
     "name": "stdout",
     "output_type": "stream",
     "text": [
      "행렬 A의 왼쪽 특이벡터 행렬 : [[-0.40455358 -0.9145143 ]\n",
      " [-0.9145143   0.40455358]]\n",
      "\n",
      "행렬 A의 특잇값 : [29.86606875  0.13393125]\n",
      "\n",
      "행렬 A의 오른쪽 특이벡터 행렬 : [[-0.57604844  0.81741556]\n",
      " [-0.81741556 -0.57604844]]\n",
      "\n",
      "\n",
      "분산행렬 ATA고윳값 : [ 0.13393125 29.86606875]\n",
      "\n",
      "분산행렬 ATA고유벡터행렬 : [[-0.81741556 -0.57604844]\n",
      " [ 0.57604844 -0.81741556]]\n"
     ]
    }
   ],
   "source": [
    "A = np.array([[1,2],\n",
    "             [3,4]])\n",
    "#특잇값 분해 \n",
    "U, SG, VT = np.linalg.svd(A)\n",
    "\n",
    "print('행렬 A의 왼쪽 특이벡터 행렬 : %s' %U)\n",
    "print()\n",
    "print('행렬 A의 특잇값 : %s' %(SG**2))\n",
    "print()\n",
    "print('행렬 A의 오른쪽 특이벡터 행렬 : %s' %VT.T)\n",
    "\n",
    "\n",
    "print()\n",
    "print()\n",
    "\n",
    "\n",
    "\n",
    "#고윳값 분해 \n",
    "lamda1, V = np.linalg.eig(A.T@A)\n",
    "\n",
    "#정방행렬 ATA의 고윳값\n",
    "print('분산행렬 ATA고윳값 : %s' %lamda1)\n",
    "print()\n",
    "print('분산행렬 ATA고유벡터행렬 : %s' %V)"
   ]
  },
  {
   "cell_type": "code",
   "execution_count": 272,
   "metadata": {
    "scrolled": true
   },
   "outputs": [
    {
     "data": {
      "text/plain": [
       "array([29.86606875,  0.13393125])"
      ]
     },
     "execution_count": 272,
     "metadata": {},
     "output_type": "execute_result"
    }
   ],
   "source": [
    "SG**2 # A특잇값 제곱"
   ]
  },
  {
   "cell_type": "code",
   "execution_count": 273,
   "metadata": {
    "scrolled": true
   },
   "outputs": [
    {
     "data": {
      "text/plain": [
       "array([ 0.13393125, 29.86606875])"
      ]
     },
     "execution_count": 273,
     "metadata": {},
     "output_type": "execute_result"
    }
   ],
   "source": [
    "lamda1 # ATA고윳값 / 같다"
   ]
  },
  {
   "cell_type": "code",
   "execution_count": null,
   "metadata": {},
   "outputs": [],
   "source": []
  },
  {
   "cell_type": "code",
   "execution_count": 274,
   "metadata": {
    "scrolled": true
   },
   "outputs": [
    {
     "data": {
      "text/plain": [
       "array([[-0.57604844,  0.81741556],\n",
       "       [-0.81741556, -0.57604844]])"
      ]
     },
     "execution_count": 274,
     "metadata": {},
     "output_type": "execute_result"
    }
   ],
   "source": [
    "VT.T"
   ]
  },
  {
   "cell_type": "code",
   "execution_count": 275,
   "metadata": {
    "scrolled": false
   },
   "outputs": [
    {
     "data": {
      "text/plain": [
       "array([[-0.81741556, -0.57604844],\n",
       "       [ 0.57604844, -0.81741556]])"
      ]
     },
     "execution_count": 275,
     "metadata": {},
     "output_type": "execute_result"
    }
   ],
   "source": [
    "V"
   ]
  },
  {
   "cell_type": "code",
   "execution_count": 281,
   "metadata": {},
   "outputs": [
    {
     "data": {
      "text/plain": [
       "array([[10,  0,  2],\n",
       "       [ 0, 10,  4],\n",
       "       [ 2,  4,  2]])"
      ]
     },
     "execution_count": 281,
     "metadata": {},
     "output_type": "execute_result"
    }
   ],
   "source": [
    "#3.4.3 연습문제 \n",
    "A = np.array([[3, -1],\n",
    "             [1,3],\n",
    "             [1,1]])\n",
    "\n",
    "A@A.T #대칭행렬이다."
   ]
  },
  {
   "cell_type": "code",
   "execution_count": 292,
   "metadata": {},
   "outputs": [
    {
     "name": "stdout",
     "output_type": "stream",
     "text": [
      "[[-4.08248290e-01  8.94427191e-01 -1.82574186e-01]\n",
      " [-8.16496581e-01 -4.47213595e-01 -3.65148372e-01]\n",
      " [-4.08248290e-01 -1.94289029e-16  9.12870929e-01]]\n",
      "\n",
      "[3.46410162 3.16227766]\n",
      "\n",
      "[[-0.70710678 -0.70710678]\n",
      " [ 0.70710678 -0.70710678]]\n"
     ]
    }
   ],
   "source": [
    "#특잇값 분해 \n",
    "U, S, VT = np.linalg.svd(A)\n",
    "print(U) #왼쪽 특이벡터 행렬\n",
    "print()\n",
    "print(S)\n",
    "print()\n",
    "print(VT)"
   ]
  },
  {
   "cell_type": "code",
   "execution_count": 304,
   "metadata": {},
   "outputs": [
    {
     "name": "stdout",
     "output_type": "stream",
     "text": [
      "[ 0. 10. 12.]\n",
      "\n",
      "[[ 1.82574186e-01 -8.94427191e-01 -4.08248290e-01]\n",
      " [ 3.65148372e-01  4.47213595e-01 -8.16496581e-01]\n",
      " [-9.12870929e-01  5.07702013e-16 -4.08248290e-01]]\n"
     ]
    }
   ],
   "source": [
    "#대칭행렬 고유분해 \n",
    "L, V = np.linalg.eig(A@A.T)\n",
    "\n",
    "print(L)#고윳값 행렬\n",
    "print()\n",
    "print(V) #고유벡터 행렬"
   ]
  },
  {
   "cell_type": "markdown",
   "metadata": {},
   "source": [
    "# A왼쪽 특이벡터 행렬이 ATA 고유벡터행렬과 같은가? 혹은 고유벡터 실수배인가? "
   ]
  },
  {
   "cell_type": "code",
   "execution_count": 293,
   "metadata": {},
   "outputs": [
    {
     "data": {
      "text/plain": [
       "array([[-4.08248290e-01,  8.94427191e-01, -1.82574186e-01],\n",
       "       [-8.16496581e-01, -4.47213595e-01, -3.65148372e-01],\n",
       "       [-4.08248290e-01, -1.94289029e-16,  9.12870929e-01]])"
      ]
     },
     "execution_count": 293,
     "metadata": {},
     "output_type": "execute_result"
    }
   ],
   "source": [
    "# A 왼쪽 특이벡터 행렬 \n",
    "U"
   ]
  },
  {
   "cell_type": "code",
   "execution_count": 291,
   "metadata": {},
   "outputs": [
    {
     "data": {
      "text/plain": [
       "array([[ 1.82574186e-01, -8.94427191e-01, -4.08248290e-01],\n",
       "       [ 3.65148372e-01,  4.47213595e-01, -8.16496581e-01],\n",
       "       [-9.12870929e-01,  5.07702013e-16, -4.08248290e-01]])"
      ]
     },
     "execution_count": 291,
     "metadata": {},
     "output_type": "execute_result"
    }
   ],
   "source": [
    "# ATA 고유벡터 행렬\n",
    "V"
   ]
  },
  {
   "cell_type": "code",
   "execution_count": 294,
   "metadata": {},
   "outputs": [
    {
     "data": {
      "text/plain": [
       "array([12., 10.])"
      ]
     },
     "execution_count": 294,
     "metadata": {},
     "output_type": "execute_result"
    }
   ],
   "source": [
    "S**2"
   ]
  },
  {
   "cell_type": "code",
   "execution_count": 295,
   "metadata": {},
   "outputs": [
    {
     "data": {
      "text/plain": [
       "array([ 0., 10., 12.])"
      ]
     },
     "execution_count": 295,
     "metadata": {},
     "output_type": "execute_result"
    }
   ],
   "source": [
    "L"
   ]
  },
  {
   "cell_type": "code",
   "execution_count": 301,
   "metadata": {},
   "outputs": [
    {
     "name": "stdout",
     "output_type": "stream",
     "text": [
      "[[3.46410162 0.        ]\n",
      " [0.         3.16227766]\n",
      " [0.         0.        ]]\n"
     ]
    }
   ],
   "source": [
    "AA = np.diag(S,1)[:,1:]\n",
    "print(AA)"
   ]
  },
  {
   "cell_type": "code",
   "execution_count": 306,
   "metadata": {},
   "outputs": [
    {
     "name": "stdout",
     "output_type": "stream",
     "text": [
      "[[12.  0.  0.]\n",
      " [ 0. 10.  0.]\n",
      " [ 0.  0.  0.]]\n"
     ]
    }
   ],
   "source": [
    "print(AA@AA.T) #12, 10, 0이 고윳값이다. == 같다. \n",
    "LAM = AA@AA.T"
   ]
  },
  {
   "cell_type": "code",
   "execution_count": 307,
   "metadata": {},
   "outputs": [
    {
     "data": {
      "text/plain": [
       "array([[1.0000000e+01, 8.8817842e-16, 2.0000000e+00],\n",
       "       [0.0000000e+00, 1.0000000e+01, 4.0000000e+00],\n",
       "       [2.0000000e+00, 4.0000000e+00, 2.0000000e+00]])"
      ]
     },
     "execution_count": 307,
     "metadata": {},
     "output_type": "execute_result"
    }
   ],
   "source": [
    "U@LAM@U.T"
   ]
  },
  {
   "cell_type": "code",
   "execution_count": 309,
   "metadata": {},
   "outputs": [
    {
     "data": {
      "text/plain": [
       "array([[10,  0,  2],\n",
       "       [ 0, 10,  4],\n",
       "       [ 2,  4,  2]])"
      ]
     },
     "execution_count": 309,
     "metadata": {},
     "output_type": "execute_result"
    }
   ],
   "source": [
    "A@A.T # 행렬 A 왼쪽 특이벡터행렬 U가 행렬 ATA 고유벡터가 된다. "
   ]
  },
  {
   "cell_type": "code",
   "execution_count": 320,
   "metadata": {},
   "outputs": [
    {
     "data": {
      "text/plain": [
       "14"
      ]
     },
     "execution_count": 320,
     "metadata": {},
     "output_type": "execute_result"
    }
   ],
   "source": [
    "a = np.array([1,2,3])\n",
    "a.T #행벡터\n",
    "\n",
    "a.T@a.T #행벡터끼리 내적 --> 뒤의 벡터 열벡터로 바꾼다"
   ]
  },
  {
   "cell_type": "code",
   "execution_count": 322,
   "metadata": {},
   "outputs": [
    {
     "data": {
      "text/plain": [
       "array([[1, 2, 3],\n",
       "       [2, 4, 6],\n",
       "       [3, 6, 9]])"
      ]
     },
     "execution_count": 322,
     "metadata": {},
     "output_type": "execute_result"
    }
   ],
   "source": [
    "b = np.array([[1],\n",
    "             [2],\n",
    "             [3]])\n",
    "b_1 = np.array([[1,2,3]])\n",
    "b@b_1"
   ]
  },
  {
   "cell_type": "code",
   "execution_count": 379,
   "metadata": {},
   "outputs": [],
   "source": [
    "A = np.array([[3, -1],\n",
    "             [1,3],\n",
    "             [1,1]])\n",
    "\n",
    "#특이분해 \n",
    "U, SG, VT = np.linalg.svd(A)\n"
   ]
  },
  {
   "cell_type": "code",
   "execution_count": 380,
   "metadata": {},
   "outputs": [],
   "source": [
    "V = VT.T"
   ]
  },
  {
   "cell_type": "code",
   "execution_count": 381,
   "metadata": {},
   "outputs": [],
   "source": [
    "sg1 = SG[0]\n",
    "sg2 = SG[1]\n",
    "\n",
    "u1 = U[:,0]\n",
    "u2 = U[:,1]\n",
    "\n",
    "v1 = V[:,0]\n",
    "v2 = V[:,1]"
   ]
  },
  {
   "cell_type": "code",
   "execution_count": 383,
   "metadata": {
    "scrolled": false
   },
   "outputs": [
    {
     "data": {
      "text/plain": [
       "9.999999999999998"
      ]
     },
     "execution_count": 383,
     "metadata": {},
     "output_type": "execute_result"
    }
   ],
   "source": [
    "np.linalg.norm(A)**2 - sg1**2"
   ]
  },
  {
   "cell_type": "code",
   "execution_count": 384,
   "metadata": {
    "scrolled": true
   },
   "outputs": [],
   "source": [
    "SG = np.diag(SG)"
   ]
  },
  {
   "cell_type": "code",
   "execution_count": 385,
   "metadata": {},
   "outputs": [
    {
     "data": {
      "text/plain": [
       "array([[3.46410162, 0.        ],\n",
       "       [0.        , 3.16227766]])"
      ]
     },
     "execution_count": 385,
     "metadata": {},
     "output_type": "execute_result"
    }
   ],
   "source": [
    "SG"
   ]
  },
  {
   "cell_type": "code",
   "execution_count": 386,
   "metadata": {},
   "outputs": [
    {
     "data": {
      "text/plain": [
       "array([[-0.70710678,  0.70710678],\n",
       "       [-0.70710678, -0.70710678]])"
      ]
     },
     "execution_count": 386,
     "metadata": {},
     "output_type": "execute_result"
    }
   ],
   "source": [
    "VT.T"
   ]
  },
  {
   "cell_type": "code",
   "execution_count": 387,
   "metadata": {},
   "outputs": [
    {
     "data": {
      "text/plain": [
       "-0.7071067811865479"
      ]
     },
     "execution_count": 387,
     "metadata": {},
     "output_type": "execute_result"
    }
   ],
   "source": [
    "VT.T[0][0]"
   ]
  },
  {
   "cell_type": "code",
   "execution_count": null,
   "metadata": {},
   "outputs": [],
   "source": []
  },
  {
   "cell_type": "code",
   "execution_count": null,
   "metadata": {},
   "outputs": [],
   "source": []
  },
  {
   "cell_type": "code",
   "execution_count": null,
   "metadata": {},
   "outputs": [],
   "source": []
  },
  {
   "cell_type": "code",
   "execution_count": null,
   "metadata": {},
   "outputs": [],
   "source": []
  },
  {
   "cell_type": "code",
   "execution_count": null,
   "metadata": {},
   "outputs": [],
   "source": []
  },
  {
   "cell_type": "code",
   "execution_count": null,
   "metadata": {},
   "outputs": [],
   "source": []
  },
  {
   "cell_type": "code",
   "execution_count": null,
   "metadata": {},
   "outputs": [],
   "source": []
  },
  {
   "cell_type": "code",
   "execution_count": null,
   "metadata": {},
   "outputs": [],
   "source": []
  },
  {
   "cell_type": "code",
   "execution_count": null,
   "metadata": {},
   "outputs": [],
   "source": []
  },
  {
   "cell_type": "code",
   "execution_count": null,
   "metadata": {},
   "outputs": [],
   "source": []
  },
  {
   "cell_type": "code",
   "execution_count": null,
   "metadata": {},
   "outputs": [],
   "source": []
  },
  {
   "cell_type": "code",
   "execution_count": null,
   "metadata": {},
   "outputs": [],
   "source": []
  }
 ],
 "metadata": {
  "kernelspec": {
   "display_name": "Python 3",
   "language": "python",
   "name": "python3"
  },
  "language_info": {
   "codemirror_mode": {
    "name": "ipython",
    "version": 3
   },
   "file_extension": ".py",
   "mimetype": "text/x-python",
   "name": "python",
   "nbconvert_exporter": "python",
   "pygments_lexer": "ipython3",
   "version": "3.8.5"
  }
 },
 "nbformat": 4,
 "nbformat_minor": 4
}
