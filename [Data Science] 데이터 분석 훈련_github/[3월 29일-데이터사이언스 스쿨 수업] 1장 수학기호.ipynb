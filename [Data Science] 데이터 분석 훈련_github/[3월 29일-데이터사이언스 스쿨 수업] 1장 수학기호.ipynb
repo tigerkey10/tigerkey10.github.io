{
 "cells": [
  {
   "cell_type": "markdown",
   "metadata": {},
   "source": [
    "# 연습문제 1.1.2 \n",
    "- 주피터 노트북을 하나 만들고 인라인 수식과 디스플레이 수식으로 알파부터 오메가까지 써본다."
   ]
  },
  {
   "cell_type": "markdown",
   "metadata": {},
   "source": [
    "$ : 수식이라는 뜻이다. "
   ]
  },
  {
   "cell_type": "markdown",
   "metadata": {},
   "source": [
    "$\\alpha+\\beta$"
   ]
  },
  {
   "cell_type": "markdown",
   "metadata": {},
   "source": [
    "# 인라인 수식 $$ : <문장 속에 수식을 넣겠다>\n",
    "- 주어진 문제의 정답은 $\\alpha + \\beta$ 이다. \n",
    "- 주어진 문제의 정답은 $\\alpha + \\beta = \\gamma $이다.\n",
    "- 안녕? $(\\gamma * \\delta)/\\epsilon = \\zeta$ 이다. \n"
   ]
  },
  {
   "cell_type": "markdown",
   "metadata": {},
   "source": [
    "- 노르웨이 연어는 $(\\eta*\\xi*\\theta)*(\\kappa*\\lambda)$ 원 이다. \n",
    "- 코끼리 코는 $(\\mu+\\nu)*\\xi+\\pi-\\rho$\n",
    "- $\\sigma*\\tau+\\phi-\\chi+\\psi-\\omega$"
   ]
  },
  {
   "cell_type": "markdown",
   "metadata": {},
   "source": [
    "$\\alpha$\n",
    "$\\beta$\n",
    "$\\gamma$\n",
    "$\\delta$\n",
    "$\\epsilon$\n",
    "$\\zeta$\n",
    "$\\eta$\n",
    "$\\theta$\n",
    "$\\kappa$\n",
    "$\\lambda$\n",
    "$\\mu$\n",
    "$\\nu$\n",
    "$\\xi$\n",
    "$\\pi$\n",
    "$\\rho$\n",
    "$\\sigma$\n",
    "$\\tau$\n",
    "$\\phi$\n",
    "$\\chi$\n",
    "$\\psi$\n",
    "$\\omega$\n",
    "- 인라인 수식으로 적은 것"
   ]
  },
  {
   "cell_type": "markdown",
   "metadata": {},
   "source": [
    "============================================================"
   ]
  },
  {
   "cell_type": "markdown",
   "metadata": {},
   "source": [
    "# 디스플레이 수식$$'수식'$$ : <단독 수식>"
   ]
  },
  {
   "cell_type": "markdown",
   "metadata": {},
   "source": [
    "$$\\xi*\\psi-\\chi+\\omega$$이다. "
   ]
  },
  {
   "cell_type": "markdown",
   "metadata": {},
   "source": [
    "$$\\tau*\\rho/\\nu$$"
   ]
  },
  {
   "cell_type": "markdown",
   "metadata": {},
   "source": [
    "$$\\alpha$$\n",
    "$$\\beta$$\n",
    "$$\\gamma$$\n",
    "$$\\delta$$\n",
    "$$\\epsilon$$\n",
    "$$\\zeta$$\n",
    "$$\\eta$$\n",
    "$$\\theta$$\n",
    "$$\\kappa$$\n",
    "$$\\lambda$$\n",
    "$$\\mu$$\n",
    "$$\\nu$$\n",
    "$$\\xi$$\n",
    "$$\\pi$$\n",
    "$$\\rho$$\n",
    "$$\\sigma$$\n",
    "$$\\tau$$\n",
    "$$\\phi$$\n",
    "$$\\chi$$\n",
    "$$\\psi$$\n",
    "$$\\omega$$\n",
    "- 디스플레이 수식으로 적은 것"
   ]
  },
  {
   "cell_type": "markdown",
   "metadata": {},
   "source": [
    "# p.061 합과 곱 연산의 중첩 - 혼자 연습하기 "
   ]
  },
  {
   "cell_type": "markdown",
   "metadata": {},
   "source": [
    "- 합 연산 중첩\n",
    "$\\sum_{i=1}^2\\sum_{j=1}^3(i+j) = ? $"
   ]
  },
  {
   "cell_type": "code",
   "execution_count": 14,
   "metadata": {},
   "outputs": [],
   "source": [
    "def pile_p(no, m_s, m_e, i_s, i_e) : \n",
    "    for i in range(m_s,(int(m_e)+1)) : \n",
    "        for j in range(i_s,(int(i_e)+1)) : \n",
    "            sum = i + j\n",
    "            no += sum\n",
    "    return no"
   ]
  },
  {
   "cell_type": "code",
   "execution_count": 15,
   "metadata": {
    "scrolled": true
   },
   "outputs": [
    {
     "data": {
      "text/plain": [
       "21"
      ]
     },
     "execution_count": 15,
     "metadata": {},
     "output_type": "execute_result"
    }
   ],
   "source": [
    "pile_p(no=0, m_s=1, m_e=2, i_s=1, i_e=3)"
   ]
  },
  {
   "cell_type": "code",
   "execution_count": 22,
   "metadata": {},
   "outputs": [
    {
     "data": {
      "text/plain": [
       "21"
      ]
     },
     "execution_count": 22,
     "metadata": {},
     "output_type": "execute_result"
    }
   ],
   "source": [
    "(1+1)+(1+2)+(1+3)+(2+1)+(2+2)+(2+3)"
   ]
  },
  {
   "cell_type": "markdown",
   "metadata": {},
   "source": [
    "- 곱 연산 중첩\n",
    "$\\prod_{m=1}^3\\prod_{n=1}^2(m+2n)=?$"
   ]
  },
  {
   "cell_type": "code",
   "execution_count": 19,
   "metadata": {},
   "outputs": [],
   "source": [
    "def pile_m(no, n_s, n_e, m_s, m_e) : \n",
    "    for m in range(m_s,(int(m_e)+1)) : \n",
    "        for n in range(n_s,(int(n_e)+1)) : \n",
    "            mul = m + (2*n)\n",
    "            no *= mul\n",
    "    return no"
   ]
  },
  {
   "cell_type": "code",
   "execution_count": 20,
   "metadata": {},
   "outputs": [
    {
     "data": {
      "text/plain": [
       "12600"
      ]
     },
     "execution_count": 20,
     "metadata": {},
     "output_type": "execute_result"
    }
   ],
   "source": [
    "pile_m(no=1,n_s=1,n_e=2,m_s=1,m_e=3)"
   ]
  },
  {
   "cell_type": "code",
   "execution_count": 21,
   "metadata": {},
   "outputs": [
    {
     "data": {
      "text/plain": [
       "12600"
      ]
     },
     "execution_count": 21,
     "metadata": {},
     "output_type": "execute_result"
    }
   ],
   "source": [
    "(1+2*1)*(1+2*2)*(2+2*1)*(2+2*2)*(3+2*1)*(3+2*2)"
   ]
  },
  {
   "cell_type": "code",
   "execution_count": null,
   "metadata": {},
   "outputs": [],
   "source": []
  },
  {
   "cell_type": "code",
   "execution_count": null,
   "metadata": {},
   "outputs": [],
   "source": []
  }
 ],
 "metadata": {
  "kernelspec": {
   "display_name": "Python 3",
   "language": "python",
   "name": "python3"
  },
  "language_info": {
   "codemirror_mode": {
    "name": "ipython",
    "version": 3
   },
   "file_extension": ".py",
   "mimetype": "text/x-python",
   "name": "python",
   "nbconvert_exporter": "python",
   "pygments_lexer": "ipython3",
   "version": "3.8.5"
  }
 },
 "nbformat": 4,
 "nbformat_minor": 4
}
