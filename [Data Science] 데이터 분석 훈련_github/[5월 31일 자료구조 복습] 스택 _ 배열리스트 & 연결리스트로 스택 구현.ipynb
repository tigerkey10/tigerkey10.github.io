{
 "cells": [
  {
   "cell_type": "markdown",
   "metadata": {},
   "source": [
    "# pythonds 라이브러리. 스택 클래스 사용하기 "
   ]
  },
  {
   "cell_type": "code",
   "execution_count": 27,
   "metadata": {},
   "outputs": [
    {
     "name": "stdout",
     "output_type": "stream",
     "text": [
      "True\n",
      "B\n",
      "\n",
      "B\n",
      "A\n",
      "2\n",
      "1\n"
     ]
    }
   ],
   "source": [
    "from pythonds.basic import Stack\n",
    "st = Stack()\n",
    "print(st.isEmpty())\n",
    "st.push(1);st.push(2);st.push('A');st.push('B')\n",
    "print(st.peek())\n",
    "print()\n",
    "while st.size() != 0 : \n",
    "    print(st.pop())"
   ]
  },
  {
   "cell_type": "code",
   "execution_count": 29,
   "metadata": {},
   "outputs": [
    {
     "data": {
      "text/plain": [
       "[]"
      ]
     },
     "execution_count": 29,
     "metadata": {},
     "output_type": "execute_result"
    }
   ],
   "source": [
    "st.items"
   ]
  },
  {
   "cell_type": "markdown",
   "metadata": {},
   "source": [
    "# 1차원 배열 리스트로 스택 구현하기 "
   ]
  },
  {
   "cell_type": "code",
   "execution_count": 52,
   "metadata": {},
   "outputs": [
    {
     "data": {
      "text/plain": [
       "3"
      ]
     },
     "execution_count": 52,
     "metadata": {},
     "output_type": "execute_result"
    }
   ],
   "source": [
    "class Stack : \n",
    "    def __init__(self) : \n",
    "        self.items = []\n",
    "    def isEmpty(self) : \n",
    "        return self.items == []\n",
    "    def push(self, item) : \n",
    "        self.items.append(item)\n",
    "    def pop(self) : \n",
    "        if not self.isEmpty() :\n",
    "            return self.items.pop()\n",
    "    def peek(self) : \n",
    "        if not self.isEmpty() : \n",
    "            return self.items[len(self.items)-1]\n",
    "    def size(self) : \n",
    "        return len(self.items)\n",
    "st2 = Stack()\n",
    "st2.push(3)\n",
    "st2.push(3)\n",
    "st2.pop()"
   ]
  },
  {
   "cell_type": "markdown",
   "metadata": {},
   "source": [
    "# 단순연결리스트로 스택 구현하기 "
   ]
  },
  {
   "cell_type": "code",
   "execution_count": 113,
   "metadata": {},
   "outputs": [
    {
     "name": "stdout",
     "output_type": "stream",
     "text": [
      "사과, 체리, 오렌지 삽입 후 : \ttop -> \torange ->cherry ->apple\n",
      "top항목 : orange\n",
      "배 push 후:\t\ttop -> \tpear ->orange ->cherry ->apple\n",
      "pop(), 포도 push 후 :\ttop -> \tgrape ->orange ->cherry ->apple\n"
     ]
    }
   ],
   "source": [
    "# 노드 클래스 생성\n",
    "class Node : \n",
    "    def __init__(self, item, link) : \n",
    "        self.item = item\n",
    "        self.next = link\n",
    "\n",
    "# push연산 정의하기 \n",
    "def push(item) : \n",
    "    global top\n",
    "    global size # 전역선언 먼저 해 주고 지역변수 쓰면 된다. --> 지역변수가 전역변수가 된다. \n",
    "    top = Node(item, top)\n",
    "    size += 1\n",
    "\n",
    "# 스택 맨 위에 있는 자료 보여줘!\n",
    "def peek() : \n",
    "    if size != 0 : \n",
    "        return top.item\n",
    "\n",
    "def pop() : \n",
    "    global top\n",
    "    global size\n",
    "    if size != 0 : \n",
    "        top_item = top.item\n",
    "        top = top.next\n",
    "        size -= 1\n",
    "        return top_item\n",
    "\n",
    "def print_stack() : \n",
    "    print('top -> \\t', end= '')\n",
    "    p = top\n",
    "    while p : \n",
    "        if p.next != None : \n",
    "            print(p.item, '->', end='')\n",
    "        else : \n",
    "            print(p.item, end='')\n",
    "        p = p.next\n",
    "    print()\n",
    "    \n",
    "\n",
    "top = None\n",
    "size = 0\n",
    "\n",
    "\n",
    "push('apple')\n",
    "push('cherry')\n",
    "push('orange')\n",
    "print('사과, 체리, 오렌지 삽입 후 : \\t', end='')\n",
    "print_stack()\n",
    "\n",
    "print('top항목 : ', end='')\n",
    "print(peek())\n",
    "push('pear')\n",
    "print('배 push 후:\\t\\t', end='')\n",
    "print_stack()\n",
    "\n",
    "pop()\n",
    "push('grape')\n",
    "print('pop(), 포도 push 후 :\\t', end='')\n",
    "print_stack()"
   ]
  },
  {
   "cell_type": "markdown",
   "metadata": {},
   "source": [
    "# 혼자 만들어보기 "
   ]
  },
  {
   "cell_type": "code",
   "execution_count": 158,
   "metadata": {},
   "outputs": [
    {
     "name": "stdout",
     "output_type": "stream",
     "text": [
      "strawberry  orange  apple  \n",
      "strawberry\n",
      "pear  strawberry  orange  apple  \n"
     ]
    },
    {
     "data": {
      "text/plain": [
       "'pear'"
      ]
     },
     "execution_count": 158,
     "metadata": {},
     "output_type": "execute_result"
    }
   ],
   "source": [
    "class Node : \n",
    "    def __init__(self, item, link) : \n",
    "        self.item = item\n",
    "        self.next = link # 링크는 바로 직전 노드로 향한다.\n",
    "\n",
    "# 스택에 항목 추가 연산\n",
    "def push(item) : \n",
    "    global top\n",
    "    global size\n",
    "    top = Node(item, top)\n",
    "    size += 1\n",
    "\n",
    "def peek() : \n",
    "    if size != 0 : \n",
    "        return top.item\n",
    "\n",
    "def pop() : \n",
    "    global top\n",
    "    global size\n",
    "    if size != 0 : \n",
    "        top_item = top.item\n",
    "        top = top.next\n",
    "        size -= 1\n",
    "        return top_item\n",
    "def print_stack() : \n",
    "    p = top\n",
    "    while p : \n",
    "        if p.next != None : \n",
    "            print(p.item,' ', end='')\n",
    "        else : \n",
    "            print(p.item,' ', end='')\n",
    "        p = p.next\n",
    "    print()\n",
    "    \n",
    "def isEmpty() : \n",
    "    if size == 0 : \n",
    "        return True\n",
    "    else : \n",
    "        return False\n",
    "    \n",
    "def size() : \n",
    "    return size\n",
    "    \n",
    "    \n",
    "    \n",
    "top = None\n",
    "size = 0\n",
    "\n",
    "push('apple')\n",
    "push('orange')\n",
    "push('strawberry')\n",
    "\n",
    "print_stack()\n",
    "\n",
    "print(peek())\n",
    "\n",
    "push('pear')\n",
    "print_stack()\n",
    "pop()"
   ]
  },
  {
   "cell_type": "code",
   "execution_count": 169,
   "metadata": {},
   "outputs": [
    {
     "data": {
      "text/plain": [
       "0"
      ]
     },
     "execution_count": 169,
     "metadata": {},
     "output_type": "execute_result"
    }
   ],
   "source": [
    "isEmpty()\n",
    "size"
   ]
  },
  {
   "cell_type": "code",
   "execution_count": 167,
   "metadata": {},
   "outputs": [],
   "source": [
    "pop()"
   ]
  },
  {
   "cell_type": "code",
   "execution_count": 146,
   "metadata": {},
   "outputs": [
    {
     "name": "stdout",
     "output_type": "stream",
     "text": [
      "orange  apple  \n",
      "grape  orange  apple  \n"
     ]
    }
   ],
   "source": [
    "print_stack()\n",
    "push('grape')\n",
    "print_stack()"
   ]
  },
  {
   "cell_type": "code",
   "execution_count": 156,
   "metadata": {},
   "outputs": [],
   "source": [
    "pop()"
   ]
  },
  {
   "cell_type": "code",
   "execution_count": 163,
   "metadata": {},
   "outputs": [
    {
     "name": "stdout",
     "output_type": "stream",
     "text": [
      "strawberry  orange  apple  \n"
     ]
    }
   ],
   "source": [
    "print_stack()"
   ]
  },
  {
   "cell_type": "markdown",
   "metadata": {},
   "source": [
    "# 링크가 일반적인 연결리스트랑 반대로 연결된다.\n",
    "# 모든 링크는 이전 노드 향한다. \n",
    "# 가장 밑바닥 노드는 링크가 None으로, 일반적인 연결리스트 개념과 반대다"
   ]
  },
  {
   "cell_type": "code",
   "execution_count": 2,
   "metadata": {},
   "outputs": [
    {
     "name": "stdout",
     "output_type": "stream",
     "text": [
      "2\n",
      "dd\n"
     ]
    },
    {
     "data": {
      "text/plain": [
       "'dd'"
      ]
     },
     "execution_count": 2,
     "metadata": {},
     "output_type": "execute_result"
    }
   ],
   "source": [
    "# 1차원 배열리스트로 스택 객체 만들기 복습 \n",
    "class Stack : \n",
    "    def __init__(self) : \n",
    "        self.items = []\n",
    "    def push(self, item) : \n",
    "        self.items.append(item)\n",
    "    def pop(self) : \n",
    "        if not self.isEmpty() != 0 : \n",
    "            return self.items.pop()\n",
    "    def peek(self) : \n",
    "        print(self.items[len(self.items)-1])\n",
    "    def isEmpty(self) : \n",
    "        if len(self.items) == 0 : \n",
    "            return True\n",
    "        else : \n",
    "            return False\n",
    "    def size(self) : \n",
    "        print(len(self.items))\n",
    "        \n",
    "st = Stack()\n",
    "st.push('bubble')\n",
    "st.push('dd')\n",
    "st.isEmpty()\n",
    "st.size()\n",
    "st.peek()\n",
    "st.pop()\n"
   ]
  },
  {
   "cell_type": "code",
   "execution_count": 18,
   "metadata": {},
   "outputs": [
    {
     "name": "stdout",
     "output_type": "stream",
     "text": [
      "29\n"
     ]
    }
   ],
   "source": [
    "st.push('dd')\n",
    "st.size()\n",
    "st.push('aa')"
   ]
  },
  {
   "cell_type": "code",
   "execution_count": 54,
   "metadata": {},
   "outputs": [],
   "source": [
    "st.pop()"
   ]
  },
  {
   "cell_type": "code",
   "execution_count": 62,
   "metadata": {},
   "outputs": [
    {
     "data": {
      "text/plain": [
       "['Apple', 'Oragne', 'banana']"
      ]
     },
     "execution_count": 62,
     "metadata": {},
     "output_type": "execute_result"
    }
   ],
   "source": [
    "from pythonds.basic import Stack\n",
    "st1 = Stack()\n",
    "st1.push('Apple');st1.push('Oragne');st1.push('banana')\n",
    "st1.items"
   ]
  },
  {
   "cell_type": "code",
   "execution_count": 63,
   "metadata": {},
   "outputs": [
    {
     "data": {
      "text/plain": [
       "False"
      ]
     },
     "execution_count": 63,
     "metadata": {},
     "output_type": "execute_result"
    }
   ],
   "source": [
    "st1.isEmpty()"
   ]
  },
  {
   "cell_type": "code",
   "execution_count": 68,
   "metadata": {},
   "outputs": [
    {
     "name": "stdout",
     "output_type": "stream",
     "text": [
      "banana\n",
      "3\n",
      "banana\n"
     ]
    }
   ],
   "source": [
    "print(st1.peek())\n",
    "print(st1.size())\n",
    "print(st1.pop())"
   ]
  },
  {
   "cell_type": "code",
   "execution_count": null,
   "metadata": {},
   "outputs": [],
   "source": []
  },
  {
   "cell_type": "code",
   "execution_count": 90,
   "metadata": {},
   "outputs": [],
   "source": [
    "class Node : \n",
    "    def __init__(self, item, link) : \n",
    "        self.item = item\n",
    "        self.next = link \n",
    "        \n",
    "def push(item) : \n",
    "    global top\n",
    "    global size # 전역변수 선언 \n",
    "    top = Node(item, top) # 데이터 추가할 때 마다 노드 생성\n",
    "    size += 1\n",
    "\n",
    "def pop() : \n",
    "    global top\n",
    "    global size\n",
    "    if size != 0 : \n",
    "        top_item = top.item\n",
    "        top = top.next # 직전 항목을 새 top으로 지정\n",
    "    size -= 1\n",
    "    return top_item\n",
    "\n",
    "def peek() : \n",
    "    if size != 0 : \n",
    "        return top.item\n",
    "def print_stack() : \n",
    "    p = top\n",
    "    while p : \n",
    "        if p.next != None :\n",
    "            print(p.item, end= '')\n",
    "        else : \n",
    "            print(p.item, end = '')\n",
    "        p = p.next\n",
    "    print()"
   ]
  },
  {
   "cell_type": "code",
   "execution_count": 92,
   "metadata": {},
   "outputs": [],
   "source": [
    "top = None\n",
    "size = 0\n",
    "push('a')\n",
    "push('b')"
   ]
  },
  {
   "cell_type": "code",
   "execution_count": 97,
   "metadata": {
    "scrolled": true
   },
   "outputs": [
    {
     "name": "stdout",
     "output_type": "stream",
     "text": [
      "dcba\n"
     ]
    }
   ],
   "source": [
    "print_stack()"
   ]
  },
  {
   "cell_type": "code",
   "execution_count": 96,
   "metadata": {},
   "outputs": [],
   "source": [
    "push('d')"
   ]
  },
  {
   "cell_type": "code",
   "execution_count": null,
   "metadata": {},
   "outputs": [],
   "source": []
  },
  {
   "cell_type": "code",
   "execution_count": null,
   "metadata": {},
   "outputs": [],
   "source": []
  },
  {
   "cell_type": "code",
   "execution_count": null,
   "metadata": {},
   "outputs": [],
   "source": []
  },
  {
   "cell_type": "code",
   "execution_count": null,
   "metadata": {},
   "outputs": [],
   "source": []
  },
  {
   "cell_type": "code",
   "execution_count": null,
   "metadata": {},
   "outputs": [],
   "source": []
  },
  {
   "cell_type": "code",
   "execution_count": null,
   "metadata": {},
   "outputs": [],
   "source": []
  }
 ],
 "metadata": {
  "kernelspec": {
   "display_name": "Python 3",
   "language": "python",
   "name": "python3"
  },
  "language_info": {
   "codemirror_mode": {
    "name": "ipython",
    "version": 3
   },
   "file_extension": ".py",
   "mimetype": "text/x-python",
   "name": "python",
   "nbconvert_exporter": "python",
   "pygments_lexer": "ipython3",
   "version": "3.8.5"
  }
 },
 "nbformat": 4,
 "nbformat_minor": 4
}
