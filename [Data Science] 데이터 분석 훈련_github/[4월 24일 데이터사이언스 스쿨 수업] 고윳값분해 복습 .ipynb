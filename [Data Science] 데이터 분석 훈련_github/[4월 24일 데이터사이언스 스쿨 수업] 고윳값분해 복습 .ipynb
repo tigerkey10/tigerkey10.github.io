{
 "cells": [
  {
   "cell_type": "markdown",
   "metadata": {},
   "source": [
    "# 고유분해 복습\n",
    "- $A*v = \\lambda*v$\n",
    "- 벡터 v가 위 식 만족하면 v는 정방행렬 A 고유벡터다\n",
    "- $\\lambda$가 위 식 만족하면 $\\lambda$는 정방행렬 A 고윳값이다\n",
    "- 행렬 A 내부구조 뜯어보기 위해서, A 이용한 계산 효율적으로 수행하기 위해서 고유분해 쓴다. "
   ]
  },
  {
   "cell_type": "code",
   "execution_count": 9,
   "metadata": {},
   "outputs": [
    {
     "data": {
      "text/plain": [
       "14.422205101855956"
      ]
     },
     "execution_count": 9,
     "metadata": {},
     "output_type": "execute_result"
    }
   ],
   "source": [
    "# 3.3.1\n",
    "B = np.array([[2,3],\n",
    "             [2,1]])\n",
    "v1 = np.array([[3],\n",
    "              [2]])\n",
    "np.linalg.norm(B@v1)"
   ]
  },
  {
   "cell_type": "code",
   "execution_count": 11,
   "metadata": {},
   "outputs": [
    {
     "data": {
      "text/plain": [
       "14.422205101855956"
      ]
     },
     "execution_count": 11,
     "metadata": {},
     "output_type": "execute_result"
    }
   ],
   "source": [
    "ld1 = 4\n",
    "np.linalg.norm(ld1*v1)"
   ]
  },
  {
   "cell_type": "code",
   "execution_count": 16,
   "metadata": {},
   "outputs": [
    {
     "data": {
      "text/plain": [
       "array([[ 1],\n",
       "       [-1]])"
      ]
     },
     "execution_count": 16,
     "metadata": {},
     "output_type": "execute_result"
    }
   ],
   "source": [
    "v2 = np.array([[-1],\n",
    "              [1]])\n",
    "\n",
    "np.linalg.norm(B@v2)\n",
    "B@v2"
   ]
  },
  {
   "cell_type": "code",
   "execution_count": 15,
   "metadata": {},
   "outputs": [
    {
     "data": {
      "text/plain": [
       "1.4142135623730951"
      ]
     },
     "execution_count": 15,
     "metadata": {},
     "output_type": "execute_result"
    }
   ],
   "source": [
    "ld2 = -1\n",
    "np.linalg.norm(ld2*v2)"
   ]
  },
  {
   "cell_type": "markdown",
   "metadata": {},
   "source": [
    "# 고유벡터 : 어떤 변형 가해도, 길이는 변할지언정 방향은 안 바뀌는 벡터\n",
    "# 고윳값 : 변하는 크기 비율"
   ]
  },
  {
   "cell_type": "code",
   "execution_count": 18,
   "metadata": {},
   "outputs": [
    {
     "name": "stdout",
     "output_type": "stream",
     "text": [
      "[-0.99999998 -1.00000002]\n",
      "[[0.70710678 0.70710678]\n",
      " [0.70710678 0.70710678]]\n"
     ]
    }
   ],
   "source": [
    "A = np.array([[1, -2],\n",
    "             [2, -3]])\n",
    "\n",
    "ld, V = np.linalg.eig(A)\n",
    "print(ld)\n",
    "print(V)"
   ]
  },
  {
   "cell_type": "code",
   "execution_count": 27,
   "metadata": {},
   "outputs": [
    {
     "name": "stdout",
     "output_type": "stream",
     "text": [
      "[ 4. -1.]\n",
      "[[ 0.83205029 -0.70710678]\n",
      " [ 0.5547002   0.70710678]]\n"
     ]
    }
   ],
   "source": [
    "B = np.array([[2,3],\n",
    "              [2,1]])\n",
    "\n",
    "ld2, V = np.linalg.eig(B)\n",
    "print(ld2)\n",
    "print(V)"
   ]
  },
  {
   "cell_type": "code",
   "execution_count": 30,
   "metadata": {},
   "outputs": [
    {
     "data": {
      "text/plain": [
       "2"
      ]
     },
     "execution_count": 30,
     "metadata": {},
     "output_type": "execute_result"
    }
   ],
   "source": [
    "C = np.array([[2,3],\n",
    "             [2,1]])\n",
    "ld3, V3 = np.linalg.eig(C)\n",
    "np.linalg.matrix_rank(V3)"
   ]
  },
  {
   "cell_type": "code",
   "execution_count": 35,
   "metadata": {},
   "outputs": [
    {
     "name": "stdout",
     "output_type": "stream",
     "text": [
      "[ 4. -1.]\n",
      "[[ 0.83205029 -0.70710678]\n",
      " [ 0.5547002   0.70710678]]\n"
     ]
    }
   ],
   "source": [
    "print(ld3)\n",
    "print(V3) #풀랭크다 --> 고유벡터 선형독립이다 --> 행렬 C는 대각화 가능이다"
   ]
  },
  {
   "cell_type": "code",
   "execution_count": 37,
   "metadata": {},
   "outputs": [
    {
     "data": {
      "text/plain": [
       "1"
      ]
     },
     "execution_count": 37,
     "metadata": {},
     "output_type": "execute_result"
    }
   ],
   "source": [
    "D = np.array([[1,1],\n",
    "             [0,1]])\n",
    "\n",
    "ld4, V4 = np.linalg.eig(D)\n",
    "np.linalg.matrix_rank(V4)"
   ]
  },
  {
   "cell_type": "code",
   "execution_count": 38,
   "metadata": {},
   "outputs": [
    {
     "data": {
      "text/plain": [
       "array([[ 1.00000000e+00, -1.00000000e+00],\n",
       "       [ 0.00000000e+00,  2.22044605e-16]])"
      ]
     },
     "execution_count": 38,
     "metadata": {},
     "output_type": "execute_result"
    }
   ],
   "source": [
    "V4"
   ]
  },
  {
   "cell_type": "code",
   "execution_count": 45,
   "metadata": {},
   "outputs": [
    {
     "name": "stdout",
     "output_type": "stream",
     "text": [
      "2\n",
      "대각화 가능\n",
      "\n"
     ]
    },
    {
     "data": {
      "text/plain": [
       "array([[-0.25,  0.75],\n",
       "       [ 0.5 , -0.5 ]])"
      ]
     },
     "execution_count": 45,
     "metadata": {},
     "output_type": "execute_result"
    }
   ],
   "source": [
    "A = np.array([[2,3],\n",
    "             [2,1]])\n",
    "\n",
    "V = np.array([[3/np.sqrt(13), -1/np.sqrt(2)],\n",
    "             [2/np.sqrt(13), 1/np.sqrt(2)]])\n",
    "\n",
    "#대각화 가능한가\n",
    "print(np.linalg.matrix_rank(V))\n",
    "print('대각화 가능')\n",
    "print()\n",
    "\n",
    "LD = np.diag([4, -1])\n",
    "\n",
    "V@np.linalg.inv(LD)@np.linalg.inv(V)"
   ]
  },
  {
   "cell_type": "markdown",
   "metadata": {},
   "source": [
    "- $\\sum_1^n\\lambda_iv_iv_i^T$ = $\\sum_1^n\\lambda_iA_i$\n",
    "- 고유분해 통한 행렬 A 표현방식 "
   ]
  },
  {
   "cell_type": "code",
   "execution_count": 71,
   "metadata": {},
   "outputs": [
    {
     "name": "stdout",
     "output_type": "stream",
     "text": [
      "[[84.49913563  0.          0.        ]\n",
      " [ 0.          7.33962395  0.        ]\n",
      " [ 0.          0.          0.16124042]]\n",
      "\n",
      "[[ 0.82704493  0.54744843  0.12765933]\n",
      " [ 0.4598639  -0.52829024 -0.71374689]\n",
      " [ 0.32329844 -0.64900666  0.68867153]]\n",
      "\n",
      "[[57.79768857 32.13739648 22.59357583]\n",
      " [32.13739648 17.8694387  12.56276371]\n",
      " [22.59357583 12.56276371  8.83200836]]\n",
      "[[ 2.19968372 -2.12270483 -2.60775134]\n",
      " [-2.12270483  2.04841985  2.51649195]\n",
      " [-2.60775134  2.51649195  3.09152039]]\n",
      "[[ 0.00262772 -0.01469165  0.01417551]\n",
      " [-0.01469165  0.08214145 -0.07925566]\n",
      " [ 0.01417551 -0.07925566  0.07647125]]\n",
      "\n",
      "[[60. 30. 20.]\n",
      " [30. 20. 15.]\n",
      " [20. 15. 12.]]\n"
     ]
    }
   ],
   "source": [
    "A = np.array([[60, 30,20],\n",
    "             [30,20,15],\n",
    "             [20,15,12]])\n",
    "\n",
    "ld, V = np.linalg.eig(A)\n",
    "LD = np.diag(ld)\n",
    "print(LD)\n",
    "print()\n",
    "print(V)\n",
    "\n",
    "ld1 = LD[0][0]\n",
    "ld2 = LD[1][1]\n",
    "ld3 = LD[2][2]\n",
    "\n",
    "v1 = V[:,0:1]\n",
    "v2 = V[:,1:2]\n",
    "v3 = V[:,2:3]\n",
    "\n",
    "print()\n",
    "print(ld1*(v1@v1.T))\n",
    "print(ld2*(v2@v2.T))\n",
    "print(ld3*(v3@v3.T))\n",
    "print()\n",
    "\n",
    "print((ld1*(v1@v1.T)+ld2*(v2@v2.T)+ld3*(v3@v3.T)))"
   ]
  },
  {
   "cell_type": "markdown",
   "metadata": {},
   "source": [
    "# 대칭행렬 A 역행렬을 고유분해 --> 랭크 -1 행렬 합으로 나타내기 \n",
    "$A^{-1}$ = $\\sum_{i=1}^N1/\\lambda_iv_iv_i^T$"
   ]
  },
  {
   "cell_type": "code",
   "execution_count": 77,
   "metadata": {},
   "outputs": [
    {
     "name": "stdout",
     "output_type": "stream",
     "text": [
      "[[ 0.15 -0.6   0.5 ]\n",
      " [-0.6   3.2  -3.  ]\n",
      " [ 0.5  -3.    3.  ]]\n",
      "\n",
      "[[ 0.15 -0.6   0.5 ]\n",
      " [-0.6   3.2  -3.  ]\n",
      " [ 0.5  -3.    3.  ]]\n"
     ]
    }
   ],
   "source": [
    "print(np.linalg.inv(A))\n",
    "\n",
    "\n",
    "ld1 = 1/LD[0][0]\n",
    "ld2 = 1/LD[1][1]\n",
    "ld3 = 1/LD[2][2]\n",
    "\n",
    "v1 = V[:,0:1]\n",
    "v2 = V[:,1:2]\n",
    "v3 = V[:,2:3]\n",
    "\n",
    "A1 = v1@v1.T\n",
    "A2 = v2@v2.T\n",
    "A3 = v3@v3.T\n",
    "\n",
    "print()\n",
    "print(ld1*A1+ld2*A2+ld3*A3)"
   ]
  },
  {
   "cell_type": "code",
   "execution_count": null,
   "metadata": {},
   "outputs": [],
   "source": []
  },
  {
   "cell_type": "code",
   "execution_count": null,
   "metadata": {},
   "outputs": [],
   "source": []
  }
 ],
 "metadata": {
  "kernelspec": {
   "display_name": "Python 3",
   "language": "python",
   "name": "python3"
  },
  "language_info": {
   "codemirror_mode": {
    "name": "ipython",
    "version": 3
   },
   "file_extension": ".py",
   "mimetype": "text/x-python",
   "name": "python",
   "nbconvert_exporter": "python",
   "pygments_lexer": "ipython3",
   "version": "3.8.5"
  }
 },
 "nbformat": 4,
 "nbformat_minor": 4
}
