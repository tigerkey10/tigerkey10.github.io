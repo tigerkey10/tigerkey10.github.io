{
 "cells": [
  {
   "cell_type": "markdown",
   "metadata": {},
   "source": [
    "# 집합의 핵심 \n",
    "- 인덱스가 없다(부여된 질서 없다)\n",
    "- 원소끼리 중복 안 된다\n",
    "- key만으로 구성된 딕셔너리의 아류다"
   ]
  },
  {
   "cell_type": "code",
   "execution_count": 3,
   "metadata": {},
   "outputs": [
    {
     "data": {
      "text/plain": [
       "{1, 2, 3}"
      ]
     },
     "execution_count": 3,
     "metadata": {},
     "output_type": "execute_result"
    }
   ],
   "source": [
    "A = set([1,2,3,3,2])\n",
    "A #중복 허용 안한다"
   ]
  },
  {
   "cell_type": "code",
   "execution_count": 6,
   "metadata": {},
   "outputs": [
    {
     "data": {
      "text/plain": [
       "frozenset({'H', 'T'})"
      ]
     },
     "execution_count": 6,
     "metadata": {},
     "output_type": "execute_result"
    }
   ],
   "source": [
    "B = frozenset(['H', 'T'])\n",
    "B"
   ]
  },
  {
   "cell_type": "code",
   "execution_count": 17,
   "metadata": {},
   "outputs": [
    {
     "data": {
      "text/plain": [
       "set"
      ]
     },
     "execution_count": 17,
     "metadata": {},
     "output_type": "execute_result"
    }
   ],
   "source": [
    "C = {'a','b','c','d'}\n",
    "type(C) #{}로도 집합 만들 수 있다"
   ]
  },
  {
   "cell_type": "code",
   "execution_count": 16,
   "metadata": {},
   "outputs": [
    {
     "data": {
      "text/plain": [
       "dict"
      ]
     },
     "execution_count": 16,
     "metadata": {},
     "output_type": "execute_result"
    }
   ],
   "source": [
    "D = {'x':3, 'y':8}\n",
    "type(D)"
   ]
  },
  {
   "cell_type": "code",
   "execution_count": 22,
   "metadata": {},
   "outputs": [
    {
     "data": {
      "text/plain": [
       "(3, 2, 4, 2)"
      ]
     },
     "execution_count": 22,
     "metadata": {},
     "output_type": "execute_result"
    }
   ],
   "source": [
    "len(A), len(B), len(C), len(D)"
   ]
  },
  {
   "cell_type": "markdown",
   "metadata": {},
   "source": [
    "# 합집합 & 교집합\n",
    "- 합집합 : union() 메서드\n",
    "- 교집합 : intersection() 메서드"
   ]
  },
  {
   "cell_type": "code",
   "execution_count": 28,
   "metadata": {},
   "outputs": [],
   "source": [
    "A1 = {1,2,3,4}\n",
    "A2 = {2,4,6}\n",
    "A3 = set([1,2,3])\n",
    "A4 = set([4,5,6,3,2])"
   ]
  },
  {
   "cell_type": "code",
   "execution_count": 29,
   "metadata": {},
   "outputs": [
    {
     "data": {
      "text/plain": [
       "{1, 2, 3, 4, 6}"
      ]
     },
     "execution_count": 29,
     "metadata": {},
     "output_type": "execute_result"
    }
   ],
   "source": [
    "A1.union(A2)"
   ]
  },
  {
   "cell_type": "code",
   "execution_count": 35,
   "metadata": {},
   "outputs": [
    {
     "data": {
      "text/plain": [
       "{1, 2, 3, 4, 6}"
      ]
     },
     "execution_count": 35,
     "metadata": {},
     "output_type": "execute_result"
    }
   ],
   "source": [
    "A2.union(A1)"
   ]
  },
  {
   "cell_type": "code",
   "execution_count": 36,
   "metadata": {},
   "outputs": [
    {
     "data": {
      "text/plain": [
       "{2, 3}"
      ]
     },
     "execution_count": 36,
     "metadata": {},
     "output_type": "execute_result"
    }
   ],
   "source": [
    "A3.intersection(A4)"
   ]
  },
  {
   "cell_type": "code",
   "execution_count": 37,
   "metadata": {},
   "outputs": [
    {
     "data": {
      "text/plain": [
       "{2, 3}"
      ]
     },
     "execution_count": 37,
     "metadata": {},
     "output_type": "execute_result"
    }
   ],
   "source": [
    "A4.intersection(A3)"
   ]
  },
  {
   "cell_type": "code",
   "execution_count": 38,
   "metadata": {},
   "outputs": [
    {
     "data": {
      "text/plain": [
       "{2, 3}"
      ]
     },
     "execution_count": 38,
     "metadata": {},
     "output_type": "execute_result"
    }
   ],
   "source": [
    "A4&A3"
   ]
  },
  {
   "cell_type": "code",
   "execution_count": 39,
   "metadata": {},
   "outputs": [
    {
     "data": {
      "text/plain": [
       "False"
      ]
     },
     "execution_count": 39,
     "metadata": {},
     "output_type": "execute_result"
    }
   ],
   "source": [
    "A3.issubset(A4)"
   ]
  },
  {
   "cell_type": "code",
   "execution_count": 40,
   "metadata": {},
   "outputs": [
    {
     "data": {
      "text/plain": [
       "False"
      ]
     },
     "execution_count": 40,
     "metadata": {},
     "output_type": "execute_result"
    }
   ],
   "source": [
    "A3 <= A4"
   ]
  },
  {
   "cell_type": "code",
   "execution_count": 41,
   "metadata": {},
   "outputs": [
    {
     "data": {
      "text/plain": [
       "True"
      ]
     },
     "execution_count": 41,
     "metadata": {},
     "output_type": "execute_result"
    }
   ],
   "source": [
    "A3.issubset(A1)"
   ]
  },
  {
   "cell_type": "code",
   "execution_count": 42,
   "metadata": {},
   "outputs": [
    {
     "data": {
      "text/plain": [
       "True"
      ]
     },
     "execution_count": 42,
     "metadata": {},
     "output_type": "execute_result"
    }
   ],
   "source": [
    "A3 <= A1"
   ]
  },
  {
   "cell_type": "code",
   "execution_count": 43,
   "metadata": {},
   "outputs": [
    {
     "data": {
      "text/plain": [
       "True"
      ]
     },
     "execution_count": 43,
     "metadata": {},
     "output_type": "execute_result"
    }
   ],
   "source": [
    "A1 <= A1"
   ]
  },
  {
   "cell_type": "code",
   "execution_count": 44,
   "metadata": {},
   "outputs": [
    {
     "data": {
      "text/plain": [
       "False"
      ]
     },
     "execution_count": 44,
     "metadata": {},
     "output_type": "execute_result"
    }
   ],
   "source": [
    "A1 < A1"
   ]
  },
  {
   "cell_type": "code",
   "execution_count": 45,
   "metadata": {},
   "outputs": [
    {
     "data": {
      "text/plain": [
       "True"
      ]
     },
     "execution_count": 45,
     "metadata": {},
     "output_type": "execute_result"
    }
   ],
   "source": [
    "A3 <= A3"
   ]
  },
  {
   "cell_type": "markdown",
   "metadata": {},
   "source": [
    "# 차집합"
   ]
  },
  {
   "cell_type": "markdown",
   "metadata": {},
   "source": [
    "$A1-A2$"
   ]
  },
  {
   "cell_type": "code",
   "execution_count": 47,
   "metadata": {
    "scrolled": true
   },
   "outputs": [
    {
     "data": {
      "text/plain": [
       "{1, 3}"
      ]
     },
     "execution_count": 47,
     "metadata": {},
     "output_type": "execute_result"
    }
   ],
   "source": [
    "A1.difference(A2)"
   ]
  },
  {
   "cell_type": "markdown",
   "metadata": {},
   "source": [
    "# 공집합"
   ]
  },
  {
   "cell_type": "code",
   "execution_count": 50,
   "metadata": {},
   "outputs": [
    {
     "data": {
      "text/plain": [
       "set()"
      ]
     },
     "execution_count": 50,
     "metadata": {},
     "output_type": "execute_result"
    }
   ],
   "source": [
    "empty_set = set([])\n",
    "empty_set"
   ]
  },
  {
   "cell_type": "code",
   "execution_count": 51,
   "metadata": {},
   "outputs": [
    {
     "data": {
      "text/plain": [
       "True"
      ]
     },
     "execution_count": 51,
     "metadata": {},
     "output_type": "execute_result"
    }
   ],
   "source": [
    "empty_set < A1"
   ]
  },
  {
   "cell_type": "code",
   "execution_count": 52,
   "metadata": {},
   "outputs": [
    {
     "data": {
      "text/plain": [
       "set()"
      ]
     },
     "execution_count": 52,
     "metadata": {},
     "output_type": "execute_result"
    }
   ],
   "source": [
    "empty_set&A1"
   ]
  },
  {
   "cell_type": "code",
   "execution_count": 53,
   "metadata": {},
   "outputs": [
    {
     "data": {
      "text/plain": [
       "{1, 2, 3, 4}"
      ]
     },
     "execution_count": 53,
     "metadata": {},
     "output_type": "execute_result"
    }
   ],
   "source": [
    "empty_set.union(A1)"
   ]
  },
  {
   "cell_type": "code",
   "execution_count": 54,
   "metadata": {},
   "outputs": [],
   "source": [
    "#6.1.1 연습문제 "
   ]
  },
  {
   "cell_type": "markdown",
   "metadata": {},
   "source": [
    "$\\omega$= {HH, HT, TH, TT}"
   ]
  },
  {
   "cell_type": "code",
   "execution_count": 61,
   "metadata": {},
   "outputs": [
    {
     "name": "stdout",
     "output_type": "stream",
     "text": [
      "True\n",
      "True\n",
      "True\n",
      "True\n",
      "True\n",
      "True\n",
      "True\n",
      "True\n",
      "True\n",
      "True\n",
      "True\n",
      "True\n",
      "True\n",
      "True\n",
      "True\n",
      "True\n",
      "16\n"
     ]
    }
   ],
   "source": [
    "omega = {'HH','HT','TH','TT'}\n",
    "A1 = frozenset(['HH'])\n",
    "A2 = frozenset(['HT'])\n",
    "A3 = frozenset(['TH'])\n",
    "A4 = frozenset(['TT'])\n",
    "A5 = frozenset(['HH','HT'])\n",
    "A6 = frozenset(['HH','TH'])\n",
    "A7 = frozenset(['HH','TT'])\n",
    "A8 = frozenset(['HT','TH'])\n",
    "A9 = frozenset(['HT','TT'])\n",
    "A10 = frozenset(['TH','TT'])\n",
    "A11 = frozenset(['HH','HT','TH'])\n",
    "A12 = frozenset(['HH','HT','TT'])\n",
    "A13 = frozenset(['HT','TH','TT'])\n",
    "A14 = frozenset(['HH','TH','TT'])\n",
    "A15 = frozenset(['HH','HT','TH','TT'])\n",
    "A16 = frozenset([])\n",
    "\n",
    "E = set([A1,A2,A3,A4,A5,A6,A7,A8,A9,A10,A11,A12,A13,A14,A15,A16])\n",
    "len(E)\n",
    "\n",
    "no = 0\n",
    "for i in E : \n",
    "    print(i.issubset(omega))\n",
    "    no += 1\n",
    "print(no)"
   ]
  },
  {
   "cell_type": "markdown",
   "metadata": {},
   "source": [
    "# 합집합 & 교집합 분배법칙 성립한다\n",
    "- $Au(BnC))$ = $(AuB)n(AuC)$\n",
    "- $An(BuC)$ = $(AnB)u(AnC)$"
   ]
  },
  {
   "cell_type": "code",
   "execution_count": 66,
   "metadata": {},
   "outputs": [
    {
     "name": "stdout",
     "output_type": "stream",
     "text": [
      "True\n",
      "True\n",
      "합집합, 교집합끼리 분배법칙 성립한다\n"
     ]
    }
   ],
   "source": [
    "A = {1,3,5}\n",
    "B = {1,2,3}\n",
    "C = {2,4,6}\n",
    "\n",
    "print(A.union(B.intersection(C)) == (A.union(B)).intersection(A.union(C)))\n",
    "print(A.intersection(B.union(C)) == (A.intersection(B)).union(A.intersection(C)))\n",
    "print('합집합, 교집합끼리 분배법칙 성립한다')"
   ]
  },
  {
   "cell_type": "markdown",
   "metadata": {},
   "source": [
    "# 6. 2 확률의 수학적 정의와 의미"
   ]
  },
  {
   "cell_type": "code",
   "execution_count": 70,
   "metadata": {},
   "outputs": [
    {
     "ename": "TypeError",
     "evalue": "unhashable type: 'set'",
     "output_type": "error",
     "traceback": [
      "\u001b[0;31m---------------------------------------------------------------------------\u001b[0m",
      "\u001b[0;31mTypeError\u001b[0m                                 Traceback (most recent call last)",
      "\u001b[0;32m<ipython-input-70-3cac6879e5dd>\u001b[0m in \u001b[0;36m<module>\u001b[0;34m\u001b[0m\n\u001b[1;32m      5\u001b[0m \u001b[0mD\u001b[0m \u001b[0;34m=\u001b[0m \u001b[0mset\u001b[0m\u001b[0;34m(\u001b[0m\u001b[0;34m[\u001b[0m\u001b[0;34m'H'\u001b[0m\u001b[0;34m,\u001b[0m\u001b[0;34m'T'\u001b[0m\u001b[0;34m]\u001b[0m\u001b[0;34m)\u001b[0m\u001b[0;34m\u001b[0m\u001b[0;34m\u001b[0m\u001b[0m\n\u001b[1;32m      6\u001b[0m \u001b[0;34m\u001b[0m\u001b[0m\n\u001b[0;32m----> 7\u001b[0;31m \u001b[0mset\u001b[0m\u001b[0;34m(\u001b[0m\u001b[0;34m[\u001b[0m\u001b[0mA\u001b[0m\u001b[0;34m,\u001b[0m\u001b[0mB\u001b[0m\u001b[0;34m,\u001b[0m\u001b[0mC\u001b[0m\u001b[0;34m,\u001b[0m\u001b[0mD\u001b[0m\u001b[0;34m]\u001b[0m\u001b[0;34m)\u001b[0m\u001b[0;34m\u001b[0m\u001b[0;34m\u001b[0m\u001b[0m\n\u001b[0m",
      "\u001b[0;31mTypeError\u001b[0m: unhashable type: 'set'"
     ]
    }
   ],
   "source": [
    "# 부분집합의 집합\n",
    "A = set([])\n",
    "B = set(['H'])\n",
    "C = set(['T'])\n",
    "D = set(['H','T'])\n",
    "\n",
    "set([A,B,C,D])"
   ]
  },
  {
   "cell_type": "markdown",
   "metadata": {},
   "source": [
    "내용변경 가능한 뮤터블 자료형은 key가 못 된다"
   ]
  },
  {
   "cell_type": "code",
   "execution_count": 74,
   "metadata": {},
   "outputs": [
    {
     "data": {
      "text/plain": [
       "{frozenset(), frozenset({'H'}), frozenset({'T'}), frozenset({'H', 'T'})}"
      ]
     },
     "execution_count": 74,
     "metadata": {},
     "output_type": "execute_result"
    }
   ],
   "source": [
    "# 부분집합의 집합\n",
    "A = frozenset([])\n",
    "B = frozenset(['H'])\n",
    "C = frozenset(['T'])\n",
    "D = frozenset(['H','T'])\n",
    "\n",
    "set([A,B,C,D])"
   ]
  },
  {
   "cell_type": "code",
   "execution_count": 75,
   "metadata": {
    "scrolled": true
   },
   "outputs": [
    {
     "data": {
      "text/plain": [
       "{frozenset(), frozenset({'H'}), frozenset({'T'}), frozenset({'H', 'T'})}"
      ]
     },
     "execution_count": 75,
     "metadata": {},
     "output_type": "execute_result"
    }
   ],
   "source": [
    "{A,B,C,D}"
   ]
  },
  {
   "cell_type": "markdown",
   "metadata": {},
   "source": [
    "frozenset()을 써야 key로 쓸 수 있다"
   ]
  },
  {
   "cell_type": "code",
   "execution_count": 85,
   "metadata": {},
   "outputs": [
    {
     "name": "stdout",
     "output_type": "stream",
     "text": [
      "True\n",
      "True\n",
      "True\n",
      "True\n",
      "True\n",
      "True\n",
      "True\n",
      "True\n",
      "True\n",
      "True\n",
      "True\n",
      "True\n",
      "True\n",
      "True\n",
      "True\n",
      "True\n",
      "16\n",
      "표본공간 OMEGA의 부분집합 : 사건\n",
      "사건들로 구성된 집합\n"
     ]
    }
   ],
   "source": [
    "#6.2.4 연습문제\n",
    "#1. \n",
    "OMEGA = {'\\u2660','\\u2661','\\u2662','\\u2663'}\n",
    "O1 = frozenset(['\\u2660'])\n",
    "O2 = frozenset(['\\u2661'])\n",
    "O3 = frozenset(['\\u2662'])\n",
    "O4 = frozenset(['\\u2663'])\n",
    "O5 = frozenset(['\\u2660','\\u2661'])\n",
    "O6 = frozenset(['\\u2660','\\u2662'])\n",
    "O7 = frozenset(['\\u2660','\\u2663'])\n",
    "O8 = frozenset(['\\u2661','\\u2662'])\n",
    "O9 = frozenset(['\\u2661','\\u2663'])\n",
    "O10 = frozenset(['\\u2662','\\u2663'])\n",
    "O11 = frozenset(['\\u2660','\\u2661','\\u2662'])\n",
    "O12 = frozenset(['\\u2660','\\u2661','\\u2663'])\n",
    "O13 = frozenset(['\\u2660','\\u2662','\\u2663'])\n",
    "O14 = frozenset(['\\u2661','\\u2662','\\u2663'])\n",
    "O15 = frozenset([])\n",
    "O16 = frozenset(['\\u2660','\\u2661','\\u2662','\\u2663'])\n",
    "\n",
    "play = set([O1,O2,O3,O4,O5,O6,O7,O8,O9,O10,O11,O12,O13,O14,O15,O16])\n",
    "\n",
    "no = 0\n",
    "for i in play : \n",
    "    print(i.issubset(OMEGA))\n",
    "    no += 1\n",
    "print(no)\n",
    "print('표본공간 OMEGA의 부분집합 : 사건')\n",
    "print('사건들로 구성된 집합')"
   ]
  },
  {
   "cell_type": "code",
   "execution_count": 90,
   "metadata": {},
   "outputs": [
    {
     "name": "stdout",
     "output_type": "stream",
     "text": [
      "OMEGA2 부분집합 개수 : 16\n",
      "True\n",
      "True\n",
      "True\n",
      "True\n",
      "True\n",
      "True\n",
      "True\n",
      "True\n",
      "True\n",
      "True\n",
      "True\n",
      "True\n",
      "True\n",
      "True\n",
      "True\n",
      "True\n",
      "16\n"
     ]
    }
   ],
   "source": [
    "#2. \n",
    "OMEGA2 = {'HH','HT','TH','TT'}\n",
    "print('OMEGA2 부분집합 개수 : %s' %2**len(OMEGA2))\n",
    "\n",
    "M1 = frozenset(['HH'])\n",
    "M2 = frozenset(['HT'])\n",
    "M3 = frozenset(['TH'])\n",
    "M4 = frozenset(['TT'])\n",
    "M5 = frozenset(['HH','HT'])\n",
    "M6 = frozenset(['HH','TH'])\n",
    "M7 = frozenset(['HH','TT'])\n",
    "M8 = frozenset(['HT','TH'])\n",
    "M9 = frozenset(['HT','TT'])\n",
    "M10 = frozenset(['TH','TT'])\n",
    "M11 = frozenset(['HH','HT','TH'])\n",
    "M12 = frozenset(['HH','HT','TT'])\n",
    "M13 = frozenset(['HH','TH','TT'])\n",
    "M14 = frozenset(['HT','TH','TT'])\n",
    "M15 = frozenset([])\n",
    "M16 = frozenset(['HH','HT','TH','TT'])\n",
    "\n",
    "F_SET = {M1,M2,M3,M4,M5,M6,M7,M8,M9,M10,M11,M12,M13,M14,M15,M16}\n",
    "\n",
    "no = 0\n",
    "for i in F_SET : \n",
    "    print(i.issubset(OMEGA2))\n",
    "    no += 1\n",
    "print(no)"
   ]
  },
  {
   "cell_type": "markdown",
   "metadata": {},
   "source": [
    "# 확률의 수학적 정의\n",
    "- 확률은 사건을 입력값으로 받아서 실수값(확률값)을 출력해주는 함수다"
   ]
  },
  {
   "cell_type": "code",
   "execution_count": 97,
   "metadata": {},
   "outputs": [
    {
     "data": {
      "text/plain": [
       "{frozenset(): 0,\n",
       " frozenset({'H'}): 0.4,\n",
       " frozenset({'T'}): 0.6,\n",
       " frozenset({'H', 'T'}): 1}"
      ]
     },
     "execution_count": 97,
     "metadata": {},
     "output_type": "execute_result"
    }
   ],
   "source": [
    "# 딕셔너리로 확률함수 구현하기 \n",
    "P = {A:0,B:0.4,C:0.6,D:1}\n",
    "P"
   ]
  },
  {
   "cell_type": "code",
   "execution_count": 95,
   "metadata": {},
   "outputs": [
    {
     "data": {
      "text/plain": [
       "0.4"
      ]
     },
     "execution_count": 95,
     "metadata": {},
     "output_type": "execute_result"
    }
   ],
   "source": [
    "P[B]"
   ]
  },
  {
   "cell_type": "code",
   "execution_count": 96,
   "metadata": {
    "scrolled": true
   },
   "outputs": [
    {
     "data": {
      "text/plain": [
       "0.6"
      ]
     },
     "execution_count": 96,
     "metadata": {},
     "output_type": "execute_result"
    }
   ],
   "source": [
    "P[C]"
   ]
  },
  {
   "cell_type": "code",
   "execution_count": 102,
   "metadata": {},
   "outputs": [
    {
     "data": {
      "text/plain": [
       "{frozenset({'♠'}): 0.2,\n",
       " frozenset({'♡'}): 0.1,\n",
       " frozenset({'♢'}): 0.1,\n",
       " frozenset({'♣'}): 0.6,\n",
       " frozenset({'♠', '♡'}): 0.3,\n",
       " frozenset({'♠', '♢'}): 0.3,\n",
       " frozenset({'♠', '♣'}): 0.8,\n",
       " frozenset({'♡', '♢'}): 0.2,\n",
       " frozenset({'♡', '♣'}): 0.7,\n",
       " frozenset({'♢', '♣'}): 0.7,\n",
       " frozenset({'♠', '♡', '♢'}): 0.4,\n",
       " frozenset({'♠', '♡', '♣'}): 0.8999999999999999,\n",
       " frozenset({'♠', '♢', '♣'}): 0.8999999999999999,\n",
       " frozenset({'♡', '♢', '♣'}): 0.7999999999999999,\n",
       " frozenset(): 0,\n",
       " frozenset({'♠', '♡', '♢', '♣'}): 1}"
      ]
     },
     "execution_count": 102,
     "metadata": {},
     "output_type": "execute_result"
    }
   ],
   "source": [
    "#6.2.5 연습문제 \n",
    "OMEGA = {'\\u2660','\\u2661','\\u2662','\\u2663'}\n",
    "O1 = frozenset(['\\u2660'])\n",
    "O2 = frozenset(['\\u2661'])\n",
    "O3 = frozenset(['\\u2662'])\n",
    "O4 = frozenset(['\\u2663'])\n",
    "\n",
    "O5 = frozenset(['\\u2660','\\u2661']) ##\n",
    "O6 = frozenset(['\\u2660','\\u2662']) ###\n",
    "O7 = frozenset(['\\u2660','\\u2663'])\n",
    "O8 = frozenset(['\\u2661','\\u2662'])\n",
    "O9 = frozenset(['\\u2661','\\u2663']) ###\n",
    "O10 = frozenset(['\\u2662','\\u2663']) ##\n",
    "\n",
    "O11 = frozenset(['\\u2660','\\u2661','\\u2662']) #o1 + o8 / o5 + o3 / o6 + o2\n",
    "O12 = frozenset(['\\u2660','\\u2661','\\u2663']) #o1 + o9 / o5 + o4 / o7 + o2\n",
    "O13 = frozenset(['\\u2660','\\u2662','\\u2663']) #o1 + o10 / o6 + o4 / o7 + o3\n",
    "O14 = frozenset(['\\u2661','\\u2662','\\u2663']) #o2 + o10 / o8 + o4 / o9 + o3\n",
    "O15 = frozenset([])\n",
    "O16 = frozenset(['\\u2660','\\u2661','\\u2662','\\u2663'])\n",
    "\n",
    "P = {O1:0.2\n",
    "     ,O2:0.1\n",
    "     ,O3:0.1\n",
    "     ,O4:0.6\n",
    "     ,O5:0.3\n",
    "     ,O6:0.3\n",
    "     ,O7:0.8\n",
    "     ,O8:0.2\n",
    "     ,O9:0.7\n",
    "     ,O10:0.7\n",
    "     ,O11:0.2+0.2\n",
    "     ,O12:0.2+0.7\n",
    "     ,O13:0.2+0.7\n",
    "     ,O14:0.1+0.7,\n",
    "     O15:0\n",
    "     ,O16:1}\n",
    "P"
   ]
  },
  {
   "cell_type": "code",
   "execution_count": 108,
   "metadata": {},
   "outputs": [
    {
     "data": {
      "text/plain": [
       "{frozenset({'HH'}): 0.5,\n",
       " frozenset({'HT'}): 0.1,\n",
       " frozenset({'TH'}): 0.1,\n",
       " frozenset({'TT'}): 0.3,\n",
       " frozenset({'HH', 'HT'}): 0.6,\n",
       " frozenset({'HH', 'TH'}): 0.6,\n",
       " frozenset({'HH', 'TT'}): 0.8,\n",
       " frozenset({'HT', 'TH'}): 0.2,\n",
       " frozenset({'HT', 'TT'}): 0.4,\n",
       " frozenset({'TH', 'TT'}): 0.4,\n",
       " frozenset({'HH', 'HT', 'TH'}): 0.7,\n",
       " frozenset({'HH', 'HT', 'TT'}): 0.8999999999999999,\n",
       " frozenset({'HH', 'TH', 'TT'}): 0.8999999999999999,\n",
       " frozenset({'HT', 'TH', 'TT'}): 0.5,\n",
       " frozenset(): 0,\n",
       " frozenset({'HH', 'HT', 'TH', 'TT'}): 1}"
      ]
     },
     "execution_count": 108,
     "metadata": {},
     "output_type": "execute_result"
    }
   ],
   "source": [
    "#2.\n",
    "OMEGA2 = {'HH','HT','TH','TT'}\n",
    "M1 = frozenset(['HH'])\n",
    "M2 = frozenset(['HT'])\n",
    "M3 = frozenset(['TH'])\n",
    "M4 = frozenset(['TT'])\n",
    "\n",
    "M5 = frozenset(['HH','HT'])\n",
    "M6 = frozenset(['HH','TH'])\n",
    "M7 = frozenset(['HH','TT'])\n",
    "M8 = frozenset(['HT','TH'])\n",
    "M9 = frozenset(['HT','TT'])\n",
    "M10 = frozenset(['TH','TT'])\n",
    "\n",
    "M11 = frozenset(['HH','HT','TH']) #M1, M2, M3 / M5, M3 / M1, M8 / M2, M6\n",
    "M12 = frozenset(['HH','HT','TT']) #M1, M2, M4 / M5, M4 / M1, M9 / M2, M7\n",
    "M13 = frozenset(['HH','TH','TT']) #M1, M3, M4 / M6, M4 / M1, M10 / M3, M7\n",
    "M14 = frozenset(['HT','TH','TT']) #M2, M3, M4 / M8, M4 / M2, M10 / M3, M9\n",
    "\n",
    "M15 = frozenset([])\n",
    "M16 = frozenset(['HH','HT','TH','TT'])\n",
    "\n",
    "P2 = {M1:0.5,\n",
    "      M2:0.1,\n",
    "      M3:0.1,\n",
    "      M4:0.3,\n",
    "      M5:0.6,\n",
    "      M6:0.6,\n",
    "      M7:0.8,\n",
    "      M8:0.2,\n",
    "      M9:0.4,\n",
    "      M10:0.4,\n",
    "      M11:0.5+0.1+0.1,\n",
    "      M12:0.5+0.1+0.3,\n",
    "      M13:0.5+0.1+0.3,\n",
    "      M14:0.1+0.1+0.3,\n",
    "      M15:0,\n",
    "      M16:1}\n",
    "P2"
   ]
  },
  {
   "cell_type": "code",
   "execution_count": 122,
   "metadata": {},
   "outputs": [
    {
     "data": {
      "text/plain": [
       "{frozenset(),\n",
       " frozenset({1, 3, 5}),\n",
       " frozenset({1, 4}),\n",
       " frozenset({4, 6}),\n",
       " frozenset({2, 3}),\n",
       " frozenset({2, 3, 4}),\n",
       " frozenset({1}),\n",
       " frozenset({5, 6}),\n",
       " frozenset({4, 5, 6}),\n",
       " frozenset({1, 4, 5, 6}),\n",
       " frozenset({2, 6}),\n",
       " frozenset({4, 5}),\n",
       " frozenset({2, 3, 5, 6}),\n",
       " frozenset({1, 2, 3, 6}),\n",
       " frozenset({2, 4, 5, 6}),\n",
       " frozenset({3, 4}),\n",
       " frozenset({3, 4, 6}),\n",
       " frozenset({1, 3, 4, 6}),\n",
       " frozenset({2, 4, 6}),\n",
       " frozenset({2, 3, 4, 6}),\n",
       " frozenset({1, 4, 6}),\n",
       " frozenset({1, 2, 3, 4, 6}),\n",
       " frozenset({3, 5}),\n",
       " frozenset({3, 4, 5}),\n",
       " frozenset({3, 4, 5, 6}),\n",
       " frozenset({1, 3, 4, 5, 6}),\n",
       " frozenset({2, 4}),\n",
       " frozenset({2, 3, 5}),\n",
       " frozenset({1, 2, 3}),\n",
       " frozenset({1, 2, 3, 4, 5}),\n",
       " frozenset({2, 5, 6}),\n",
       " frozenset({1, 6}),\n",
       " frozenset({1, 2, 4, 6}),\n",
       " frozenset({3}),\n",
       " frozenset({1, 3}),\n",
       " frozenset({1, 2, 6}),\n",
       " frozenset({1, 3, 4}),\n",
       " frozenset({1, 2, 4, 5}),\n",
       " frozenset({3, 6}),\n",
       " frozenset({1, 3, 5, 6}),\n",
       " frozenset({2, 3, 6}),\n",
       " frozenset({5}),\n",
       " frozenset({1, 5}),\n",
       " frozenset({2}),\n",
       " frozenset({1, 2, 5}),\n",
       " frozenset({1, 2, 3, 5, 6}),\n",
       " frozenset({4}),\n",
       " frozenset({2, 3, 4, 5}),\n",
       " frozenset({1, 4, 5}),\n",
       " frozenset({1, 2, 3, 4}),\n",
       " frozenset({2, 5}),\n",
       " frozenset({2, 3, 4, 5, 6}),\n",
       " frozenset({1, 2}),\n",
       " frozenset({1, 2, 4}),\n",
       " frozenset({6}),\n",
       " frozenset({1, 2, 5, 6}),\n",
       " frozenset({1, 2, 4, 5, 6}),\n",
       " frozenset({1, 3, 6}),\n",
       " frozenset({1, 2, 3, 5}),\n",
       " frozenset({1, 3, 4, 5}),\n",
       " frozenset({2, 4, 5}),\n",
       " frozenset({3, 5, 6}),\n",
       " frozenset({1, 5, 6}),\n",
       " frozenset({1, 2, 3, 4, 5, 6})}"
      ]
     },
     "execution_count": 122,
     "metadata": {},
     "output_type": "execute_result"
    }
   ],
   "source": [
    "#6.2.6 연습문제 \n",
    "# 부분집합 전체 소환하기 \n",
    "from itertools import chain, combinations\n",
    "def get_set_of_subsets(omega) : \n",
    "    return set(frozenset(s) for s in chain.from_iterable(combinations(omega,r) for r in range(len(omega)+1)))\n",
    "\n",
    "##############################\n",
    "\n",
    "\n",
    "omega = {1,2,3,4,5,6}\n",
    "\n",
    "SS3 = get_set_of_subsets(omega)\n",
    "SS3"
   ]
  },
  {
   "cell_type": "code",
   "execution_count": 131,
   "metadata": {},
   "outputs": [
    {
     "data": {
      "text/plain": [
       "{frozenset({1, 3, 5}): 0.7999999999999999,\n",
       " frozenset({1, 4}): 0.6,\n",
       " frozenset({4, 6}): 0.1,\n",
       " frozenset({2, 3}): 0.30000000000000004,\n",
       " frozenset({2, 3, 4}): 0.4,\n",
       " frozenset({1, 4, 5, 6}): 0.7,\n",
       " frozenset({2, 6}): 0.1,\n",
       " frozenset({4, 5}): 0.2,\n",
       " frozenset({2, 3, 5, 6}): 0.4,\n",
       " frozenset({1, 2, 3, 6}): 0.8,\n",
       " frozenset({1}): 0.5,\n",
       " frozenset({1, 2, 3, 4, 5, 6}): 1.0,\n",
       " frozenset({2, 4, 5, 6}): 0.30000000000000004,\n",
       " frozenset({4, 5, 6}): 0.2,\n",
       " frozenset({1, 3, 4, 6}): 0.7999999999999999,\n",
       " frozenset({2, 3, 4, 6}): 0.4,\n",
       " frozenset({1, 2, 3, 4, 6}): 0.9,\n",
       " frozenset({1, 3, 4, 5, 6}): 0.8999999999999999,\n",
       " frozenset({1, 4, 6}): 0.6,\n",
       " frozenset({3, 4}): 0.30000000000000004,\n",
       " frozenset({2, 4, 6}): 0.2,\n",
       " frozenset({3, 4, 5, 6}): 0.4,\n",
       " frozenset({1, 2, 3, 4, 5}): 1.0,\n",
       " frozenset({2, 4}): 0.2,\n",
       " frozenset({5, 6}): 0.1,\n",
       " frozenset({2, 3, 5}): 0.4,\n",
       " frozenset({3, 4, 6}): 0.30000000000000004,\n",
       " frozenset({3, 5}): 0.30000000000000004,\n",
       " frozenset({2, 5, 6}): 0.2,\n",
       " frozenset({3, 4, 5}): 0.4,\n",
       " frozenset({1, 6}): 0.5,\n",
       " frozenset({1, 2, 3}): 0.8,\n",
       " frozenset({1, 2, 4, 6}): 0.7,\n",
       " frozenset({1, 3}): 0.7,\n",
       " frozenset({1, 2, 6}): 0.6,\n",
       " frozenset({1, 3, 4}): 0.7999999999999999,\n",
       " frozenset({1, 2, 4, 5}): 0.7999999999999999,\n",
       " frozenset({1, 3, 5, 6}): 0.7999999999999999,\n",
       " frozenset({1, 2, 3, 5, 6}): 0.9,\n",
       " frozenset({3, 6}): 0.2,\n",
       " frozenset({2, 3, 6}): 0.30000000000000004,\n",
       " frozenset({2, 3, 4, 5}): 0.5,\n",
       " frozenset({1, 2, 5}): 0.7,\n",
       " frozenset({1, 5}): 0.6,\n",
       " frozenset({1, 4, 5}): 0.7,\n",
       " frozenset({1, 2, 3, 4}): 0.9,\n",
       " frozenset({2, 3, 4, 5, 6}): 0.5,\n",
       " frozenset({5}): 0.1,\n",
       " frozenset({4}): 0.1,\n",
       " frozenset({2}): 0.1,\n",
       " frozenset({1, 2, 4, 5, 6}): 0.7999999999999999,\n",
       " frozenset({1, 2, 4}): 0.7,\n",
       " frozenset({1, 2}): 0.6,\n",
       " frozenset({1, 3, 6}): 0.7,\n",
       " frozenset({1, 2, 5, 6}): 0.7,\n",
       " frozenset({1, 2, 3, 5}): 0.9,\n",
       " frozenset({1, 3, 4, 5}): 0.8999999999999999,\n",
       " frozenset({2, 4, 5}): 0.30000000000000004,\n",
       " frozenset({2, 5}): 0.2,\n",
       " frozenset({3, 5, 6}): 0.30000000000000004,\n",
       " frozenset({3}): 0.2,\n",
       " frozenset({6}): 0.0,\n",
       " frozenset(): 0.0,\n",
       " frozenset({1, 5, 6}): 0.6}"
      ]
     },
     "execution_count": 131,
     "metadata": {},
     "output_type": "execute_result"
    }
   ],
   "source": [
    "P3 = {} #딕셔너리로 만들거다. \n",
    "\n",
    "for i in SS3 : \n",
    "    probability = 0.0\n",
    "    if 1 in i : \n",
    "        probability +=0.5\n",
    "    if 2 in i : \n",
    "        probability +=0.1\n",
    "    if 3 in i : \n",
    "        probability +=0.2\n",
    "    if 4 in i : \n",
    "        probability +=0.1\n",
    "    if 5 in i : \n",
    "        probability +=0.1\n",
    "    if 6 in i : \n",
    "        probability += 0\n",
    "    P3[i] = probability #딕셔너리에 데이터 추가하는 법 : 딕셔너리 이름[key] = 값\n",
    "P3"
   ]
  },
  {
   "cell_type": "code",
   "execution_count": 142,
   "metadata": {},
   "outputs": [
    {
     "data": {
      "text/plain": [
       "{frozenset({True}): 0.5, frozenset({False}): 0.5}"
      ]
     },
     "execution_count": 142,
     "metadata": {},
     "output_type": "execute_result"
    }
   ],
   "source": [
    "# 6.2.7 연습문제 \n",
    "#1. \n",
    "D = {True, False}\n",
    "D1 = frozenset([True])\n",
    "D2 = frozenset([False])\n",
    "\n",
    "P1 = {D1:0.5, D2:0.5}\n",
    "P1"
   ]
  },
  {
   "cell_type": "markdown",
   "metadata": {},
   "source": [
    "# 핵심 : 콜모고로프 공리만 만족하면 확률값 뭘 할당해도 상관없다는거다. "
   ]
  },
  {
   "cell_type": "code",
   "execution_count": 143,
   "metadata": {},
   "outputs": [
    {
     "data": {
      "text/plain": [
       "{frozenset({'Apple'}): 0.1, frozenset({'Orange'}): 0.9}"
      ]
     },
     "execution_count": 143,
     "metadata": {},
     "output_type": "execute_result"
    }
   ],
   "source": [
    "#2. \n",
    "F = {'Apple', 'Orange'}\n",
    "F1 = frozenset(['Apple'])\n",
    "F2 = frozenset(['Orange'])\n",
    "\n",
    "P2 = {F1:0.1, F2 : 0.9}\n",
    "\n",
    "P2"
   ]
  },
  {
   "cell_type": "code",
   "execution_count": 147,
   "metadata": {},
   "outputs": [
    {
     "data": {
      "text/plain": [
       "{frozenset({'Apple'}): 0.7, frozenset({'Orange'}): 0.3}"
      ]
     },
     "execution_count": 147,
     "metadata": {},
     "output_type": "execute_result"
    }
   ],
   "source": [
    "#3. \n",
    "FRUIT = {'Apple', 'Orange'}\n",
    "FR1 = frozenset(['Apple'])\n",
    "FR2 = frozenset(['Orange'])\n",
    "\n",
    "P3 = {FR1:0.7, FR2 : 0.3}\n",
    "\n",
    "P3"
   ]
  },
  {
   "cell_type": "code",
   "execution_count": null,
   "metadata": {},
   "outputs": [],
   "source": []
  },
  {
   "cell_type": "code",
   "execution_count": null,
   "metadata": {},
   "outputs": [],
   "source": []
  },
  {
   "cell_type": "code",
   "execution_count": null,
   "metadata": {},
   "outputs": [],
   "source": []
  }
 ],
 "metadata": {
  "kernelspec": {
   "display_name": "Python 3",
   "language": "python",
   "name": "python3"
  },
  "language_info": {
   "codemirror_mode": {
    "name": "ipython",
    "version": 3
   },
   "file_extension": ".py",
   "mimetype": "text/x-python",
   "name": "python",
   "nbconvert_exporter": "python",
   "pygments_lexer": "ipython3",
   "version": "3.8.5"
  }
 },
 "nbformat": 4,
 "nbformat_minor": 4
}
