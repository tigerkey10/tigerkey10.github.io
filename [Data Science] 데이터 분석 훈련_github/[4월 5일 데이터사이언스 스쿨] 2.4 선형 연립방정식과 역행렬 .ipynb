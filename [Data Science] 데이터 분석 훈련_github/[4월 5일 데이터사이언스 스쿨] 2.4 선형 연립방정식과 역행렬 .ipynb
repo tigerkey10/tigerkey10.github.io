{
 "cells": [
  {
   "cell_type": "markdown",
   "metadata": {},
   "source": [
    "# 넘파이를 이용한 역행렬 계산 "
   ]
  },
  {
   "cell_type": "code",
   "execution_count": 4,
   "metadata": {},
   "outputs": [],
   "source": [
    "Ainv = np.linalg.inv(np.array([[1,1,0],\n",
    "                       [0,1,1],\n",
    "                       [1,1,1]]))\n",
    "A = np.array([[1,1,0],\n",
    "             [0,1,1],\n",
    "             [1,1,1]])"
   ]
  },
  {
   "cell_type": "code",
   "execution_count": 9,
   "metadata": {},
   "outputs": [
    {
     "data": {
      "text/plain": [
       "1.0"
      ]
     },
     "execution_count": 9,
     "metadata": {},
     "output_type": "execute_result"
    }
   ],
   "source": [
    "# A가 역행렬이 있는지 알아보자. \n",
    "# A 행렬식\n",
    "np.linalg.det(A)\n",
    "# 행렬식이 0이 아니기 때문에 역행렬 존재한다. "
   ]
  },
  {
   "cell_type": "code",
   "execution_count": 5,
   "metadata": {},
   "outputs": [
    {
     "data": {
      "text/plain": [
       "array([[1., 0., 0.],\n",
       "       [0., 1., 0.],\n",
       "       [0., 0., 1.]])"
      ]
     },
     "execution_count": 5,
     "metadata": {},
     "output_type": "execute_result"
    }
   ],
   "source": [
    "A@Ainv"
   ]
  },
  {
   "cell_type": "code",
   "execution_count": 6,
   "metadata": {},
   "outputs": [
    {
     "data": {
      "text/plain": [
       "array([[1., 0., 0.],\n",
       "       [0., 1., 0.],\n",
       "       [0., 0., 1.]])"
      ]
     },
     "execution_count": 6,
     "metadata": {},
     "output_type": "execute_result"
    }
   ],
   "source": [
    "Ainv@A "
   ]
  },
  {
   "cell_type": "markdown",
   "metadata": {},
   "source": [
    "# 역행렬과 선형 연립방정식의 해 \n",
    "- 역행렬 정의를 이용해서 선형 연립방정식 해 구할 수 있다. \n",
    "- 해를 구한다는 건 미지수벡터 미지수 값들 찾는 걸 말한다. "
   ]
  },
  {
   "cell_type": "code",
   "execution_count": 11,
   "metadata": {},
   "outputs": [],
   "source": [
    "# Ax = b \n",
    "A = np.array([[1,1,0],\n",
    "             [0,1,1],\n",
    "             [1,1,1]])\n",
    "\n",
    "b = np.array([2,2,3])"
   ]
  },
  {
   "cell_type": "code",
   "execution_count": 14,
   "metadata": {},
   "outputs": [
    {
     "data": {
      "text/plain": [
       "1.0"
      ]
     },
     "execution_count": 14,
     "metadata": {},
     "output_type": "execute_result"
    }
   ],
   "source": [
    "#행렬 A의 역행렬 있는지 부터 알아보자. \n",
    "np.linalg.inv(A)\n",
    "np.linalg.det(A) #역행렬 있다. 행렬식이 0보다 크다. "
   ]
  },
  {
   "cell_type": "code",
   "execution_count": 17,
   "metadata": {},
   "outputs": [
    {
     "data": {
      "text/plain": [
       "array([[ 0., -1.,  1.],\n",
       "       [ 1.,  1., -1.],\n",
       "       [-1.,  0.,  1.]])"
      ]
     },
     "execution_count": 17,
     "metadata": {},
     "output_type": "execute_result"
    }
   ],
   "source": [
    "# A의 역행렬 \n",
    "Ainv = np.linalg.inv(A)\n",
    "Ainv"
   ]
  },
  {
   "cell_type": "code",
   "execution_count": 20,
   "metadata": {
    "scrolled": false
   },
   "outputs": [
    {
     "data": {
      "text/plain": [
       "array([[1., 0., 0.],\n",
       "       [0., 1., 0.],\n",
       "       [0., 0., 1.]])"
      ]
     },
     "execution_count": 20,
     "metadata": {},
     "output_type": "execute_result"
    }
   ],
   "source": [
    "same = Ainv@A\n",
    "same"
   ]
  },
  {
   "cell_type": "code",
   "execution_count": 32,
   "metadata": {},
   "outputs": [
    {
     "data": {
      "text/plain": [
       "array([1., 1., 1.])"
      ]
     },
     "execution_count": 32,
     "metadata": {},
     "output_type": "execute_result"
    }
   ],
   "source": [
    "x = Ainv@b #해는 1,1,1\n",
    "x"
   ]
  },
  {
   "cell_type": "code",
   "execution_count": 27,
   "metadata": {},
   "outputs": [],
   "source": [
    "b_2 = A@np.array([1,1,1])"
   ]
  },
  {
   "cell_type": "code",
   "execution_count": 28,
   "metadata": {},
   "outputs": [
    {
     "data": {
      "text/plain": [
       "array([ True,  True,  True])"
      ]
     },
     "execution_count": 28,
     "metadata": {},
     "output_type": "execute_result"
    }
   ],
   "source": [
    "b_2 == b"
   ]
  },
  {
   "cell_type": "code",
   "execution_count": 33,
   "metadata": {},
   "outputs": [
    {
     "data": {
      "text/plain": [
       "array([0., 0., 0.])"
      ]
     },
     "execution_count": 33,
     "metadata": {},
     "output_type": "execute_result"
    }
   ],
   "source": [
    "A@x-b"
   ]
  },
  {
   "cell_type": "code",
   "execution_count": 38,
   "metadata": {
    "scrolled": true
   },
   "outputs": [
    {
     "data": {
      "text/plain": [
       "array([1., 1., 1.])"
      ]
     },
     "execution_count": 38,
     "metadata": {},
     "output_type": "execute_result"
    }
   ],
   "source": [
    "x, resid, rank, s = np.linalg.lstsq(A,b)\n",
    "x"
   ]
  },
  {
   "cell_type": "markdown",
   "metadata": {},
   "source": [
    "# 연습문제 2.4.5 보스턴 집값 예측 문제 - 가중치 구하기 "
   ]
  },
  {
   "cell_type": "code",
   "execution_count": 51,
   "metadata": {},
   "outputs": [],
   "source": [
    "from sklearn.datasets import load_boston\n",
    "boston = load_boston()\n",
    "\n",
    "X = boston.data\n",
    "Y = boston.target\n",
    "A = X[:4, [0,4,5,6]] #'CRIM', 'NOX', 'RM', 'AGE'\n",
    "b = Y[:4]"
   ]
  },
  {
   "cell_type": "code",
   "execution_count": 55,
   "metadata": {},
   "outputs": [
    {
     "data": {
      "text/plain": [
       "0.2178418370180003"
      ]
     },
     "execution_count": 55,
     "metadata": {},
     "output_type": "execute_result"
    }
   ],
   "source": [
    "np.linalg.det(A) #행렬식이 0보다 크다. --> 역행렬 존재 "
   ]
  },
  {
   "cell_type": "code",
   "execution_count": 57,
   "metadata": {
    "scrolled": true
   },
   "outputs": [
    {
     "data": {
      "text/plain": [
       "array([[-2.35172493e+01,  4.95752613e+01, -9.28388535e+01,\n",
       "         7.19277399e+01],\n",
       "       [ 5.96138349e+00,  6.66097478e+00, -2.68388003e+01,\n",
       "         1.58431788e+01],\n",
       "       [-2.19803095e-01, -8.06127089e-01,  1.99308607e+00,\n",
       "        -9.57270077e-01],\n",
       "       [-9.40782133e-03,  2.15240112e-02,  2.94704793e-02,\n",
       "        -4.11681401e-02]])"
      ]
     },
     "execution_count": 57,
     "metadata": {},
     "output_type": "execute_result"
    }
   ],
   "source": [
    "Ainv = np.linalg.inv(A) #역행렬 존재 \n",
    "Ainv"
   ]
  },
  {
   "cell_type": "code",
   "execution_count": 62,
   "metadata": {},
   "outputs": [
    {
     "data": {
      "text/plain": [
       "array([-3.12710043e+02, -1.15193942e+02,  1.44996465e+01, -1.13259317e-01])"
      ]
     },
     "execution_count": 62,
     "metadata": {},
     "output_type": "execute_result"
    }
   ],
   "source": [
    "b_hat = Ainv@b\n",
    "b_hat #범죄율, 공기오염도, 방 개수, 오래된 정도  # --> 방 갯수가 집값 형성에 가장 큰 영향 미치는 변수다. 직관이나 경험과 어긋난다. "
   ]
  },
  {
   "cell_type": "code",
   "execution_count": 47,
   "metadata": {},
   "outputs": [
    {
     "data": {
      "text/plain": [
       "array([[6.320e-03, 5.380e-01, 6.575e+00, 6.520e+01],\n",
       "       [2.731e-02, 4.690e-01, 6.421e+00, 7.890e+01],\n",
       "       [2.729e-02, 4.690e-01, 7.185e+00, 6.110e+01],\n",
       "       [3.237e-02, 4.580e-01, 6.998e+00, 4.580e+01]])"
      ]
     },
     "execution_count": 47,
     "metadata": {},
     "output_type": "execute_result"
    }
   ],
   "source": [
    "X[:4, [0,4,5,6]]"
   ]
  },
  {
   "cell_type": "code",
   "execution_count": 50,
   "metadata": {},
   "outputs": [
    {
     "data": {
      "text/plain": [
       "array([24. , 21.6, 34.7, 33.4])"
      ]
     },
     "execution_count": 50,
     "metadata": {},
     "output_type": "execute_result"
    }
   ],
   "source": [
    "Y[:4]"
   ]
  },
  {
   "cell_type": "markdown",
   "metadata": {},
   "source": [
    "# 최소자승법 : 잔차를 최소로 만드는 x값(미지수 해) 구하기 \n",
    "# 선형 연립방정식 해가 없을 때 쓰면 선형 예측 모형 구할 수 있다. "
   ]
  },
  {
   "cell_type": "code",
   "execution_count": 105,
   "metadata": {},
   "outputs": [
    {
     "data": {
      "text/plain": [
       "array([[1, 1, 0],\n",
       "       [0, 1, 1],\n",
       "       [1, 1, 1],\n",
       "       [1, 1, 2]])"
      ]
     },
     "execution_count": 105,
     "metadata": {},
     "output_type": "execute_result"
    }
   ],
   "source": [
    "A = np.array([[1,1,0],\n",
    "             [0,1,1],\n",
    "             [1,1,1],\n",
    "             [1,1,2]])\n",
    "A"
   ]
  },
  {
   "cell_type": "code",
   "execution_count": 106,
   "metadata": {},
   "outputs": [
    {
     "data": {
      "text/plain": [
       "array([[2. ],\n",
       "       [2. ],\n",
       "       [3. ],\n",
       "       [4.1]])"
      ]
     },
     "execution_count": 106,
     "metadata": {},
     "output_type": "execute_result"
    }
   ],
   "source": [
    "b = np.array([[2],\n",
    "             [2],\n",
    "             [3],\n",
    "             [4.1]])\n",
    "b"
   ]
  },
  {
   "cell_type": "code",
   "execution_count": 107,
   "metadata": {},
   "outputs": [],
   "source": [
    "A_T = A.T\n",
    "x = np.linalg.inv(A_T@A)@A.T@b"
   ]
  },
  {
   "cell_type": "code",
   "execution_count": 108,
   "metadata": {
    "scrolled": false
   },
   "outputs": [
    {
     "data": {
      "text/plain": [
       "array([[1.03333333],\n",
       "       [0.95      ],\n",
       "       [1.05      ]])"
      ]
     },
     "execution_count": 108,
     "metadata": {},
     "output_type": "execute_result"
    }
   ],
   "source": [
    "x #최소자승법 해, A의 의사역행렬 이용해서 먼저 구했다. 비교해보자. "
   ]
  },
  {
   "cell_type": "code",
   "execution_count": 109,
   "metadata": {
    "scrolled": true
   },
   "outputs": [
    {
     "data": {
      "text/plain": [
       "array([[1.98333333],\n",
       "       [2.        ],\n",
       "       [3.03333333],\n",
       "       [4.08333333]])"
      ]
     },
     "execution_count": 109,
     "metadata": {},
     "output_type": "execute_result"
    }
   ],
   "source": [
    "A@x # b_hat 예측값"
   ]
  },
  {
   "cell_type": "code",
   "execution_count": 110,
   "metadata": {
    "scrolled": true
   },
   "outputs": [
    {
     "data": {
      "text/plain": [
       "array([[2. ],\n",
       "       [2. ],\n",
       "       [3. ],\n",
       "       [4.1]])"
      ]
     },
     "execution_count": 110,
     "metadata": {},
     "output_type": "execute_result"
    }
   ],
   "source": [
    "# 실제 b값\n",
    "b"
   ]
  },
  {
   "cell_type": "code",
   "execution_count": 111,
   "metadata": {
    "scrolled": true
   },
   "outputs": [
    {
     "data": {
      "text/plain": [
       "array([[-0.01666667],\n",
       "       [ 0.        ],\n",
       "       [ 0.03333333],\n",
       "       [-0.01666667]])"
      ]
     },
     "execution_count": 111,
     "metadata": {},
     "output_type": "execute_result"
    }
   ],
   "source": [
    "e = A@x - b #잔차벡터 \n",
    "e"
   ]
  },
  {
   "cell_type": "code",
   "execution_count": 82,
   "metadata": {},
   "outputs": [],
   "source": [
    "# 최소자승법 메서드 써서 구해보자. \n",
    "(x, resid, rank, s) = np.linalg.lstsq(A,b) #A 이용해서 b에 최대한 근접하는(오차가 최소화되는) x값 찾아라."
   ]
  },
  {
   "cell_type": "code",
   "execution_count": 86,
   "metadata": {
    "scrolled": true
   },
   "outputs": [
    {
     "data": {
      "text/plain": [
       "array([[1.03333333],\n",
       "       [0.95      ],\n",
       "       [1.05      ]])"
      ]
     },
     "execution_count": 86,
     "metadata": {},
     "output_type": "execute_result"
    }
   ],
   "source": [
    "x #최소자승법의 해(오차가 최소화되는 가중치 값(미지수 해)"
   ]
  },
  {
   "cell_type": "code",
   "execution_count": 87,
   "metadata": {},
   "outputs": [
    {
     "data": {
      "text/plain": [
       "array([0.00166667])"
      ]
     },
     "execution_count": 87,
     "metadata": {},
     "output_type": "execute_result"
    }
   ],
   "source": [
    "resid #잔차제곱합"
   ]
  },
  {
   "cell_type": "code",
   "execution_count": 101,
   "metadata": {},
   "outputs": [
    {
     "data": {
      "text/plain": [
       "(array([0.00166667]), 0.0016666667)"
      ]
     },
     "execution_count": 101,
     "metadata": {},
     "output_type": "execute_result"
    }
   ],
   "source": [
    "resid, round(np.linalg.norm(A@x-b)**2, 10) # 둘 다 잔차제곱합이다. "
   ]
  },
  {
   "cell_type": "code",
   "execution_count": 115,
   "metadata": {},
   "outputs": [
    {
     "data": {
      "text/plain": [
       "0.0016666667"
      ]
     },
     "execution_count": 115,
     "metadata": {},
     "output_type": "execute_result"
    }
   ],
   "source": [
    "# 잔차벡터 제곱합 구해서 비교해보자. \n",
    "round(np.linalg.norm(e)**2, 10) # 같다. "
   ]
  },
  {
   "cell_type": "code",
   "execution_count": 116,
   "metadata": {},
   "outputs": [],
   "source": [
    "# 연습문제 2.4.6 \n",
    "# 해법 : 1 의사역행렬로 잔차 최소화하는 x 구한다. / 2 lstsq() 최소자승법 메서드로 x값 구할 수도 있다. <-- 둘다 해보자. "
   ]
  },
  {
   "cell_type": "code",
   "execution_count": 128,
   "metadata": {},
   "outputs": [],
   "source": [
    "from sklearn.datasets import load_boston\n",
    "boston = load_boston()\n",
    "X = boston.data # 특징행렬, 계수행렬\n",
    "y = boston.target #타겟값(레이블), 열벡터, 실제값"
   ]
  },
  {
   "cell_type": "markdown",
   "metadata": {},
   "source": [
    "# 최소자승방법"
   ]
  },
  {
   "cell_type": "code",
   "execution_count": 130,
   "metadata": {},
   "outputs": [
    {
     "data": {
      "text/plain": [
       "array([-9.28965170e-02,  4.87149552e-02, -4.05997958e-03,  2.85399882e+00,\n",
       "       -2.86843637e+00,  5.92814778e+00, -7.26933458e-03, -9.68514157e-01,\n",
       "        1.71151128e-01, -9.39621540e-03, -3.92190926e-01,  1.49056102e-02,\n",
       "       -4.16304471e-01])"
      ]
     },
     "execution_count": 130,
     "metadata": {},
     "output_type": "execute_result"
    }
   ],
   "source": [
    "#1. 의사역행렬로 x 구하기 \n",
    "x_1 = (np.linalg.inv(X.T@X)@X.T)@y\n",
    "x_1 #잔차 최소화하는 x 값"
   ]
  },
  {
   "cell_type": "code",
   "execution_count": 141,
   "metadata": {},
   "outputs": [
    {
     "data": {
      "text/plain": [
       "array([-9.28965170e-02,  4.87149552e-02, -4.05997958e-03,  2.85399882e+00,\n",
       "       -2.86843637e+00,  5.92814778e+00, -7.26933458e-03, -9.68514157e-01,\n",
       "        1.71151128e-01, -9.39621540e-03, -3.92190926e-01,  1.49056102e-02,\n",
       "       -4.16304471e-01])"
      ]
     },
     "execution_count": 141,
     "metadata": {},
     "output_type": "execute_result"
    }
   ],
   "source": [
    "# 2. 최소자승법 메서드 lstsq()로 x값 구하기 \n",
    "x_2, resid, rank, s = np.linalg.lstsq(X, y)\n",
    "x_2"
   ]
  },
  {
   "cell_type": "code",
   "execution_count": 150,
   "metadata": {
    "scrolled": true
   },
   "outputs": [],
   "source": [
    "y_hat = X@x_2 #예측값\n",
    "e = y_hat - y #잔차벡터"
   ]
  },
  {
   "cell_type": "code",
   "execution_count": 151,
   "metadata": {},
   "outputs": [
    {
     "data": {
      "text/plain": [
       "12228.046261044006"
      ]
     },
     "execution_count": 151,
     "metadata": {},
     "output_type": "execute_result"
    }
   ],
   "source": [
    "# 이 경우 잔차제곱합은 얼마가 될까? \n",
    "#1. 놈norm으로 구하기 \n",
    "np.linalg.norm(e)**2 #잔차제곱합"
   ]
  },
  {
   "cell_type": "code",
   "execution_count": 155,
   "metadata": {},
   "outputs": [
    {
     "data": {
      "text/plain": [
       "array([12228.04626104])"
      ]
     },
     "execution_count": 155,
     "metadata": {},
     "output_type": "execute_result"
    }
   ],
   "source": [
    "#2.lstsq() 메서드 resid값\n",
    "x, resid, rank, s = np.linalg.lstsq(X, y)\n",
    "resid #잔차제곱합"
   ]
  },
  {
   "cell_type": "code",
   "execution_count": 161,
   "metadata": {},
   "outputs": [
    {
     "name": "stdout",
     "output_type": "stream",
     "text": [
      "범죄율 : -0.09289651702764051\n",
      "비소매상업지역 면적 비율 : 0.048714955183001604\n",
      "일산화질소 농도 : -0.004059979575060843\n",
      "주택당 방 수 : 2.8539988199939685\n",
      "인구 중 하위 계층 비율 : -2.8684363704127342\n",
      "인구 중 흑인 비율 : 5.928147779052683\n",
      "학생/교사 비율 : -0.007269334576056621\n",
      "25,000 평방피트를 초과 거주지역 비율 : -0.9685141573950694\n",
      "찰스강의 경계에 위치한 경우는 1, 아니면 0 : 0.17115112829438067\n",
      "1940년 이전에 건축된 주택의 비율 : -0.00939621539715868\n",
      "방사형 고속도로까지의 거리 : -0.3921909262948508\n",
      "보스톤 직업 센터 5곳까지의 가중평균거리 : 0.014905610228202113\n",
      "재산세율 : -0.41630447073745847\n"
     ]
    }
   ],
   "source": [
    "boston = list(x_2)\n",
    "len(boston)\n",
    "print('범죄율 : %s' %boston[0])\n",
    "print('비소매상업지역 면적 비율 : %s' %boston[1])\n",
    "print('일산화질소 농도 : %s' %boston[2])\n",
    "print('주택당 방 수 : %s' %boston[3])\n",
    "print('인구 중 하위 계층 비율 : %s' %boston[4])\n",
    "print('인구 중 흑인 비율 : %s' %boston[5])\n",
    "print('학생/교사 비율 : %s' %boston[6])\n",
    "print('25,000 평방피트를 초과 거주지역 비율 : %s' %boston[7])\n",
    "print('찰스강의 경계에 위치한 경우는 1, 아니면 0 : %s' %boston[8])\n",
    "print('1940년 이전에 건축된 주택의 비율 : %s' %boston[9])\n",
    "print('방사형 고속도로까지의 거리 : %s' %boston[10])\n",
    "print('보스톤 직업 센터 5곳까지의 가중평균거리 : %s' %boston[11])\n",
    "print('재산세율 : %s' %boston[12])"
   ]
  },
  {
   "cell_type": "code",
   "execution_count": 165,
   "metadata": {},
   "outputs": [
    {
     "data": {
      "text/plain": [
       "<BarContainer object of 13 artists>"
      ]
     },
     "execution_count": 165,
     "metadata": {},
     "output_type": "execute_result"
    },
    {
     "data": {
      "image/png": "[encoded data removed]",
      "text/plain": [
       "<Figure size 2400x1500 with 1 Axes>"
      ]
     },
     "metadata": {
      "needs_background": "light"
     },
     "output_type": "display_data"
    }
   ],
   "source": [
    "plt.bar(x = ['범죄율','비소매상업지역 면적 비율', '일산화질소 농도', '주택당 방 수', '인구 중 하위계층 비율', '인구 중 흑인 비율', '학생/교사 비율', '25,000평방피트 초과거주지역 비율', '찰스강 경계에 위치한 경우는 1 아니면 0', '1940년 이전에 건축된 주택의 비율', '방사형 고속도로까지의 거리', '보스톤 직업센터 5곳까지의 가중평균 거리', '재산세율'], height=boston, width=0.1)"
   ]
  },
  {
   "cell_type": "markdown",
   "metadata": {},
   "source": [
    "# 결론 \n",
    "- 사람들은 존나 세속적이고 속물이다. (주변에 흑인이 많이 사는가?(흑인 싫어) , 내 집 방 갯수 많은가?)\n",
    "- 각 가중치는 서로 영향 주고 받는다. 각 가중치 값은 상호 의존적이다. 각 가중치 값은 상대적이다. <어떤 요소들 넣고 고려했느냐에 따라 가중치값 달라진다>"
   ]
  },
  {
   "cell_type": "code",
   "execution_count": null,
   "metadata": {},
   "outputs": [],
   "source": []
  },
  {
   "cell_type": "code",
   "execution_count": null,
   "metadata": {},
   "outputs": [],
   "source": []
  },
  {
   "cell_type": "code",
   "execution_count": null,
   "metadata": {},
   "outputs": [],
   "source": []
  },
  {
   "cell_type": "code",
   "execution_count": null,
   "metadata": {},
   "outputs": [],
   "source": []
  }
 ],
 "metadata": {
  "kernelspec": {
   "display_name": "Python 3",
   "language": "python",
   "name": "python3"
  },
  "language_info": {
   "codemirror_mode": {
    "name": "ipython",
    "version": 3
   },
   "file_extension": ".py",
   "mimetype": "text/x-python",
   "name": "python",
   "nbconvert_exporter": "python",
   "pygments_lexer": "ipython3",
   "version": "3.8.5"
  }
 },
 "nbformat": 4,
 "nbformat_minor": 4
}
