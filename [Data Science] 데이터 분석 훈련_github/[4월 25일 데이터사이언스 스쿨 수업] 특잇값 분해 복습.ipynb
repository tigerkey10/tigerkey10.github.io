{
 "cells": [
  {
   "cell_type": "markdown",
   "metadata": {},
   "source": [
    "# 특잇값 분해 \n",
    "- $A = U*\\sum*V^{T}$\n",
    "- 모든 행렬 분해 가능"
   ]
  },
  {
   "cell_type": "code",
   "execution_count": 43,
   "metadata": {},
   "outputs": [
    {
     "name": "stdout",
     "output_type": "stream",
     "text": [
      "[[ 3.  2.  2.]\n",
      " [ 2.  3. -2.]]\n",
      "\n",
      "[[2. 4.]\n",
      " [1. 3.]\n",
      " [0. 0.]\n",
      " [0. 0.]]\n",
      "\n",
      "[[ 3.  2.  2.]\n",
      " [ 2.  3. -2.]]\n",
      "\n",
      "[[2. 4.]\n",
      " [1. 3.]\n",
      " [0. 0.]\n",
      " [0. 0.]]\n"
     ]
    }
   ],
   "source": [
    "# 3.4.1 연습문제 \n",
    "B = np.array([[3,2,2],\n",
    "             [2,3, -2]])\n",
    "C = np.array([[2,4],\n",
    "             [1,3],\n",
    "             [0,0],\n",
    "             [0,0]])\n",
    "\n",
    "U, sg, VT = np.linalg.svd(B)\n",
    "SG = np.diag(sg, -1)[1:]\n",
    "\n",
    "print(U@SG@VT)\n",
    "print()\n",
    "\n",
    "U2, sg2, VT2 = np.linalg.svd(C)\n",
    "SG2 = np.diag(sg2, 2)[:,2:]\n",
    "\n",
    "print(U2@SG2@VT2)\n",
    "print()\n",
    "\n",
    "####################특이분해 축약형\n",
    "U3, sg3, VT3 = np.linalg.svd(B, full_matrices=False)\n",
    "SG3 = np.diag(sg3)\n",
    "\n",
    "print(U3@SG3@VT3)\n",
    "\n",
    "U4, sg4, VT4 = np.linalg.svd(C, full_matrices=False)\n",
    "SG4 = np.diag(sg4)\n",
    "print()\n",
    "print(U4@SG4@VT4)"
   ]
  },
  {
   "cell_type": "markdown",
   "metadata": {},
   "source": [
    "# 특잇값과 특이벡터 관계 \n",
    "- 특잇값과 특이벡터는 항상 대응된다. \n",
    "- $A*v_{i}=\\sigma_{i}*u_{i}$"
   ]
  },
  {
   "cell_type": "code",
   "execution_count": 81,
   "metadata": {},
   "outputs": [
    {
     "name": "stdout",
     "output_type": "stream",
     "text": [
      "[[-3.53553391]\n",
      " [-3.53553391]]\n",
      "[[-3.53553391]\n",
      " [-3.53553391]]\n",
      "\n",
      "[[-2.12132034]\n",
      " [ 2.12132034]]\n",
      "[[-2.12132034]\n",
      " [ 2.12132034]]\n",
      "\n"
     ]
    }
   ],
   "source": [
    "#3.4.2 연습문제\n",
    "B = np.array([[3,2,2],\n",
    "             [2,3,-2]])\n",
    "U, sg, VT = np.linalg.svd(B)\n",
    "\n",
    "sg1 = sg[0]\n",
    "sg2 = sg[1]\n",
    "\n",
    "u1 = U[:,0:1]\n",
    "u2 = U[:,1:2]\n",
    "\n",
    "v1 = VT.T[:,0:1]\n",
    "v2 = VT.T[:,1:2]\n",
    "\n",
    "for i in (1,2) : \n",
    "    if i == 1 : \n",
    "        print(B@v1)\n",
    "        print(sg1*u1)\n",
    "        print()\n",
    "    elif i == 2 : \n",
    "        print(B@v2)\n",
    "        print(sg2*u2)\n",
    "        print()\n",
    "        \n",
    "##############################\n",
    "C = np.array([[2,4],\n",
    "             [1,3],\n",
    "             [0,0],\n",
    "             [0,0]])\n"
   ]
  },
  {
   "cell_type": "code",
   "execution_count": 95,
   "metadata": {},
   "outputs": [
    {
     "name": "stdout",
     "output_type": "stream",
     "text": [
      "[[-4.46716435]\n",
      " [-3.14809647]\n",
      " [ 0.        ]\n",
      " [ 0.        ]]\n",
      "[[-4.46716435]\n",
      " [-3.14809647]\n",
      " [ 0.        ]\n",
      " [ 0.        ]]\n",
      "\n",
      "[[-0.21081425]\n",
      " [ 0.29914646]\n",
      " [ 0.        ]\n",
      " [ 0.        ]]\n",
      "[[-0.21081425]\n",
      " [ 0.29914646]\n",
      " [ 0.        ]\n",
      " [ 0.        ]]\n",
      "\n"
     ]
    }
   ],
   "source": [
    "U2, sg2, VT2 = np.linalg.svd(C)\n",
    "\n",
    "sg1 = sg2[0]\n",
    "sg2 = sg2[1]\n",
    "\n",
    "u1 = U2[:,0:1]\n",
    "u2 = U2[:,1:2]\n",
    "\n",
    "v1 = VT2.T[:,0:1]\n",
    "v2 = VT2.T[:,1:2]\n",
    "\n",
    "\n",
    "for i in (1,2) : \n",
    "    if i == 1 : \n",
    "        print(C@v1)\n",
    "        print(sg1*u1)\n",
    "        print()\n",
    "    elif i == 2 : \n",
    "        print(C@v2)\n",
    "        print(sg2*u2)\n",
    "        print()"
   ]
  },
  {
   "cell_type": "code",
   "execution_count": 121,
   "metadata": {},
   "outputs": [
    {
     "name": "stdout",
     "output_type": "stream",
     "text": [
      "[ 0. 10. 12.]\n",
      "[[ 1.82574186e-01 -8.94427191e-01 -4.08248290e-01]\n",
      " [ 3.65148372e-01  4.47213595e-01 -8.16496581e-01]\n",
      " [-9.12870929e-01  5.07702013e-16 -4.08248290e-01]]\n",
      "\n",
      "[[-4.08248290e-01  8.94427191e-01 -1.82574186e-01]\n",
      " [-8.16496581e-01 -4.47213595e-01 -3.65148372e-01]\n",
      " [-4.08248290e-01 -1.94289029e-16  9.12870929e-01]]\n",
      "[[-0.70710678 -0.70710678]\n",
      " [ 0.70710678 -0.70710678]]\n",
      "\n",
      "[[12.  0.  0.]\n",
      " [ 0. 10.  0.]\n",
      " [ 0.  0.  0.]]\n",
      "[[ 0.  0.  0.]\n",
      " [ 0. 10.  0.]\n",
      " [ 0.  0. 12.]]\n",
      "\n",
      "[[-4.08248290e-01  8.94427191e-01 -1.82574186e-01]\n",
      " [-8.16496581e-01 -4.47213595e-01 -3.65148372e-01]\n",
      " [-4.08248290e-01 -1.94289029e-16  9.12870929e-01]]\n",
      "\n",
      "[[ 1.82574186e-01 -8.94427191e-01 -4.08248290e-01]\n",
      " [ 3.65148372e-01  4.47213595e-01 -8.16496581e-01]\n",
      " [-9.12870929e-01  5.07702013e-16 -4.08248290e-01]]\n"
     ]
    }
   ],
   "source": [
    "#3.4.3 연습문제 \n",
    "A = np.array([[3, -1],\n",
    "             [1,3],\n",
    "             [1,1]])\n",
    "\n",
    "ld, V = np.linalg.eig(A@A.T)\n",
    "print(ld)\n",
    "LD = np.diag(ld)\n",
    "print(V)\n",
    "print()\n",
    "\n",
    "U, sg, VT = np.linalg.svd(A)\n",
    "print(U)\n",
    "print(VT)\n",
    "print()\n",
    "\n",
    "SG = np.diag(sg, 1)[:,1:3]\n",
    "\n",
    "SSG = SG@SG.T\n",
    "print(SSG)\n",
    "print(LD)\n",
    "print()\n",
    "\n",
    "print(U)\n",
    "print()\n",
    "print(V)"
   ]
  },
  {
   "cell_type": "code",
   "execution_count": 123,
   "metadata": {},
   "outputs": [
    {
     "data": {
      "text/plain": [
       "1"
      ]
     },
     "execution_count": 123,
     "metadata": {},
     "output_type": "execute_result"
    }
   ],
   "source": [
    "AA = np.array([[1],\n",
    "         [2],\n",
    "         [3]])\n",
    "np.linalg.matrix_rank(AA)"
   ]
  },
  {
   "cell_type": "code",
   "execution_count": null,
   "metadata": {},
   "outputs": [],
   "source": []
  },
  {
   "cell_type": "code",
   "execution_count": null,
   "metadata": {},
   "outputs": [],
   "source": []
  }
 ],
 "metadata": {
  "kernelspec": {
   "display_name": "Python 3",
   "language": "python",
   "name": "python3"
  },
  "language_info": {
   "codemirror_mode": {
    "name": "ipython",
    "version": 3
   },
   "file_extension": ".py",
   "mimetype": "text/x-python",
   "name": "python",
   "nbconvert_exporter": "python",
   "pygments_lexer": "ipython3",
   "version": "3.8.5"
  }
 },
 "nbformat": 4,
 "nbformat_minor": 4
}
