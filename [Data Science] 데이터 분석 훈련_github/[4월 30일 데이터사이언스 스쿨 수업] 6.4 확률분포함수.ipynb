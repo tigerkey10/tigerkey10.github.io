{
 "cells": [
  {
   "cell_type": "code",
   "execution_count": 21,
   "metadata": {},
   "outputs": [
    {
     "data": {
      "text/plain": [
       "0.8333333333333333"
      ]
     },
     "execution_count": 21,
     "metadata": {},
     "output_type": "execute_result"
    }
   ],
   "source": [
    "def P(a,b) : \n",
    "    if a > b : \n",
    "        raise ValueError('a must be less than b or equal to b')\n",
    "    a = np.maximum(a, 0)\n",
    "    b = np.minimum(b, 360)\n",
    "    \n",
    "    if b <= 180 : \n",
    "        B = (2/3)*((b-a)/180)\n",
    "        \n",
    "    if a < 180 and 180 < b : \n",
    "        B1 = (2/3)*((180-a)/180)\n",
    "        B2 = (1/3)*((b-180)/180)\n",
    "        B = B1+B2\n",
    "        \n",
    "    if 180 <= a and 180 < b : \n",
    "        B = (1/3)*((b-a/180))\n",
    "    return B\n",
    "P(0, 270)"
   ]
  },
  {
   "cell_type": "code",
   "execution_count": 23,
   "metadata": {},
   "outputs": [
    {
     "data": {
      "text/plain": [
       "0.8333333333333334"
      ]
     },
     "execution_count": 23,
     "metadata": {},
     "output_type": "execute_result"
    }
   ],
   "source": [
    "P = lambda a,b : (2*(b-a) if b < 180 else b-2*a+180 if a < 180 else b-a)/540\n",
    "P(0, 270)"
   ]
  },
  {
   "cell_type": "code",
   "execution_count": null,
   "metadata": {},
   "outputs": [],
   "source": []
  }
 ],
 "metadata": {
  "kernelspec": {
   "display_name": "Python 3",
   "language": "python",
   "name": "python3"
  },
  "language_info": {
   "codemirror_mode": {
    "name": "ipython",
    "version": 3
   },
   "file_extension": ".py",
   "mimetype": "text/x-python",
   "name": "python",
   "nbconvert_exporter": "python",
   "pygments_lexer": "ipython3",
   "version": "3.8.5"
  }
 },
 "nbformat": 4,
 "nbformat_minor": 4
}
