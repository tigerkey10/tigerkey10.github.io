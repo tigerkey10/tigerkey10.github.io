{
 "cells": [
  {
   "cell_type": "code",
   "execution_count": 4,
   "metadata": {},
   "outputs": [
    {
     "data": {
      "text/plain": [
       "2.23606797749979"
      ]
     },
     "execution_count": 4,
     "metadata": {},
     "output_type": "execute_result"
    }
   ],
   "source": [
    "a = np.array([[1],\n",
    "             [2]]) # 벡터 a\n",
    "#벡터 길이 - 놈\n",
    "np.linalg.norm(a)"
   ]
  },
  {
   "cell_type": "code",
   "execution_count": 5,
   "metadata": {},
   "outputs": [
    {
     "data": {
      "text/plain": [
       "2.23606797749979"
      ]
     },
     "execution_count": 5,
     "metadata": {},
     "output_type": "execute_result"
    }
   ],
   "source": [
    "np.sqrt(5)"
   ]
  },
  {
   "cell_type": "code",
   "execution_count": 7,
   "metadata": {},
   "outputs": [
    {
     "data": {
      "text/plain": [
       "array([[0]])"
      ]
     },
     "execution_count": 7,
     "metadata": {},
     "output_type": "execute_result"
    }
   ],
   "source": [
    "a = np.array([[1],\n",
    "             [1]])\n",
    "b = np.array([[-1],\n",
    "             [1]])\n",
    "a.T@b # 두 벡터가 직교하면 내적은 0이다. "
   ]
  },
  {
   "cell_type": "code",
   "execution_count": 10,
   "metadata": {},
   "outputs": [
    {
     "data": {
      "text/plain": [
       "0"
      ]
     },
     "execution_count": 10,
     "metadata": {},
     "output_type": "execute_result"
    }
   ],
   "source": [
    "#연습문제 3.1.3\n",
    "#1. \n",
    "x = np.array([1,0])\n",
    "d1 = np.array([0,1])\n",
    "d2 = np.array([0,-1])\n",
    "\n",
    "x@d1\n",
    "x@d2"
   ]
  },
  {
   "cell_type": "code",
   "execution_count": 17,
   "metadata": {},
   "outputs": [
    {
     "data": {
      "text/plain": [
       "0.0"
      ]
     },
     "execution_count": 17,
     "metadata": {},
     "output_type": "execute_result"
    }
   ],
   "source": [
    "#2. \n",
    "x = np.array([1,1])\n",
    "d1 = np.array([-1,1])/np.sqrt(2)\n",
    "d2 = np.array([1,-1])/np.sqrt(2)\n",
    "\n",
    "x@d1\n",
    "x@d2"
   ]
  },
  {
   "cell_type": "code",
   "execution_count": 26,
   "metadata": {},
   "outputs": [
    {
     "data": {
      "text/plain": [
       "array([0, 0])"
      ]
     },
     "execution_count": 26,
     "metadata": {},
     "output_type": "execute_result"
    }
   ],
   "source": [
    "#3. \n",
    "x = np.array([1,1,0])\n",
    "y = np.array([1,0,0])\n",
    "A = np.vstack([x,y]) #x.t와 y.t로 구성된 행렬\n",
    "d3 = np.array([0,0,10000000])\n",
    "A@d3"
   ]
  },
  {
   "cell_type": "code",
   "execution_count": 30,
   "metadata": {},
   "outputs": [
    {
     "name": "stdout",
     "output_type": "stream",
     "text": [
      "a,b : 5.385164807134504\n",
      "a,c : 4.242640687119285\n",
      "b,c : 3.605551275463989\n"
     ]
    }
   ],
   "source": [
    "#연습문제 3.1.6\n",
    "a = np.array([4,5,2,2])\n",
    "b = np.array([4,0,2,0])\n",
    "c = np.array([2,2,0,1])\n",
    "\n",
    "#1. a,b사이 유클리드 거리 \n",
    "print('a,b : %s' %np.linalg.norm(a-b))\n",
    "#2. a,c사이 유클리드 거리 \n",
    "print('a,c : %s' %np.linalg.norm(a-c))\n",
    "#3. b,c사이 유클리드 거리 \n",
    "print('b,c : %s' %np.linalg.norm(b-c))\n",
    "\n",
    "# --> 결론 : a,b 사용자가 가장 멀고(다르고), b,c사용자가 가장 가깝다(비슷하다)"
   ]
  },
  {
   "cell_type": "code",
   "execution_count": 42,
   "metadata": {},
   "outputs": [
    {
     "name": "stdout",
     "output_type": "stream",
     "text": [
      "a,b cos : 0.36112343500006017\n",
      "a,c cos : 0.04761904761904767\n",
      "b,c cos : 0.40371520600005606\n"
     ]
    }
   ],
   "source": [
    "#2. a,b,c사이 코사인 거리 \n",
    "#1.a,b\n",
    "print('a,b cos : %s' %(1-((a@b)/(np.linalg.norm(a)*np.linalg.norm(b)))))\n",
    "#2.a,c\n",
    "print('a,c cos : %s' %(1-((a@c)/(np.linalg.norm(a)*np.linalg.norm(c)))))\n",
    "#3.b,c\n",
    "print('b,c cos : %s' %(1-((b@c)/(np.linalg.norm(b)*np.linalg.norm(c)))))\n",
    "\n",
    "# --> 결론 : b,c 사용자가 가장 떨어져 있고(가장 다르고), a,c사용자가 가장 가깝다(비슷하다)"
   ]
  },
  {
   "cell_type": "code",
   "execution_count": 47,
   "metadata": {},
   "outputs": [
    {
     "name": "stdout",
     "output_type": "stream",
     "text": [
      "투영성분 [1. 0.]\n",
      "직교성분 [0. 2.]\n"
     ]
    }
   ],
   "source": [
    "# 연습문제 3.1.8\n",
    "a = np.array([1,2])\n",
    "b = np.array([2,0])\n",
    "\n",
    "#b에 대한 투영성분\n",
    "a_ = ((a@b)*b)/(b@b)\n",
    "a_v = a-a_\n",
    "print('투영성분 %s' %a_)\n",
    "print('직교성분 %s' %a_v)"
   ]
  },
  {
   "cell_type": "code",
   "execution_count": 52,
   "metadata": {},
   "outputs": [
    {
     "data": {
      "text/plain": [
       "2"
      ]
     },
     "execution_count": 52,
     "metadata": {},
     "output_type": "execute_result"
    }
   ],
   "source": [
    "#행렬의 랭크\n",
    "x1 = np.array([[1,3],\n",
    "              [2,4]])\n",
    "np.linalg.matrix_rank(x1)"
   ]
  },
  {
   "cell_type": "code",
   "execution_count": 53,
   "metadata": {},
   "outputs": [
    {
     "data": {
      "text/plain": [
       "2"
      ]
     },
     "execution_count": 53,
     "metadata": {},
     "output_type": "execute_result"
    }
   ],
   "source": [
    "x2 = np.array([[1,3,5],\n",
    "              [2,3,7]])\n",
    "np.linalg.matrix_rank(x2)"
   ]
  },
  {
   "cell_type": "code",
   "execution_count": 55,
   "metadata": {},
   "outputs": [],
   "source": [
    "#3.2.4 연습문제 \n",
    "A = np.array([[1,5,6],\n",
    "             [2,6,8],\n",
    "             [3,11,14],\n",
    "             [1,4,5]])\n",
    "B = np.array([[1,5,6],\n",
    "             [2,6,8],\n",
    "             [3,11,14],\n",
    "             [1,4,8]])"
   ]
  },
  {
   "cell_type": "code",
   "execution_count": 58,
   "metadata": {},
   "outputs": [
    {
     "name": "stdout",
     "output_type": "stream",
     "text": [
      "2\n",
      "3\n"
     ]
    }
   ],
   "source": [
    "print(np.linalg.matrix_rank(A)) #풀랭크가 아니다. \n",
    "print(np.linalg.matrix_rank(B)) #풀랭크다. "
   ]
  },
  {
   "cell_type": "code",
   "execution_count": 65,
   "metadata": {},
   "outputs": [
    {
     "data": {
      "text/plain": [
       "1"
      ]
     },
     "execution_count": 65,
     "metadata": {},
     "output_type": "execute_result"
    }
   ],
   "source": [
    "# 3.2.5 연습문제 \n",
    "#1\n",
    "x1 = np.array([[1],\n",
    "              [1]])\n",
    "RE = x1@x1.T\n",
    "np.linalg.matrix_rank(RE)"
   ]
  },
  {
   "cell_type": "code",
   "execution_count": 70,
   "metadata": {},
   "outputs": [
    {
     "data": {
      "text/plain": [
       "2"
      ]
     },
     "execution_count": 70,
     "metadata": {},
     "output_type": "execute_result"
    }
   ],
   "source": [
    "#2\n",
    "x1 = np.array([[1],\n",
    "              [1]])\n",
    "x2 = np.array([[1],\n",
    "              [-1]])\n",
    "RE = (x1@x1.T)+(x2@x2.T)\n",
    "np.linalg.matrix_rank(RE)"
   ]
  },
  {
   "cell_type": "code",
   "execution_count": null,
   "metadata": {},
   "outputs": [],
   "source": []
  },
  {
   "cell_type": "code",
   "execution_count": null,
   "metadata": {},
   "outputs": [],
   "source": []
  }
 ],
 "metadata": {
  "kernelspec": {
   "display_name": "Python 3",
   "language": "python",
   "name": "python3"
  },
  "language_info": {
   "codemirror_mode": {
    "name": "ipython",
    "version": 3
   },
   "file_extension": ".py",
   "mimetype": "text/x-python",
   "name": "python",
   "nbconvert_exporter": "python",
   "pygments_lexer": "ipython3",
   "version": "3.8.5"
  }
 },
 "nbformat": 4,
 "nbformat_minor": 4
}
