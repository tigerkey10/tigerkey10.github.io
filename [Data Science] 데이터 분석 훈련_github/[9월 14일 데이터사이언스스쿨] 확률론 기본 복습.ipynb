{
 "cells": [
  {
   "cell_type": "code",
   "execution_count": 20,
   "source": [
    "A = set([1,2,3,3,2])\n",
    "A\n",
    "\n",
    "froz = frozenset([1,2,3,3,2])\n",
    "froz"
   ],
   "outputs": [
    {
     "output_type": "execute_result",
     "data": {
      "text/plain": [
       "frozenset({1, 2, 3})"
      ]
     },
     "metadata": {},
     "execution_count": 20
    }
   ],
   "metadata": {}
  },
  {
   "cell_type": "markdown",
   "source": [
    "# 합집합과 교집합 "
   ],
   "metadata": {}
  },
  {
   "cell_type": "code",
   "execution_count": 23,
   "source": [
    "A1 = set([1,2,3,4])\n",
    "A2 = set([2,4,6])\n",
    "A3 = set([1,2,3])\n",
    "A4 = set([2,3,4,5,6])\n",
    "\n",
    "# 합집합 \n",
    "A1.union(A2)"
   ],
   "outputs": [
    {
     "output_type": "execute_result",
     "data": {
      "text/plain": [
       "{1, 2, 3, 4, 6}"
      ]
     },
     "metadata": {},
     "execution_count": 23
    }
   ],
   "metadata": {}
  },
  {
   "cell_type": "code",
   "execution_count": 24,
   "source": [
    "A2 | A2"
   ],
   "outputs": [
    {
     "output_type": "execute_result",
     "data": {
      "text/plain": [
       "{2, 4, 6}"
      ]
     },
     "metadata": {},
     "execution_count": 24
    }
   ],
   "metadata": {}
  },
  {
   "cell_type": "code",
   "execution_count": 25,
   "source": [
    "# 교집합 \n",
    "A3.intersection(A4)"
   ],
   "outputs": [
    {
     "output_type": "execute_result",
     "data": {
      "text/plain": [
       "{2, 3}"
      ]
     },
     "metadata": {},
     "execution_count": 25
    }
   ],
   "metadata": {}
  },
  {
   "cell_type": "code",
   "execution_count": 26,
   "source": [
    "A4 & A3"
   ],
   "outputs": [
    {
     "output_type": "execute_result",
     "data": {
      "text/plain": [
       "{2, 3}"
      ]
     },
     "metadata": {},
     "execution_count": 26
    }
   ],
   "metadata": {}
  },
  {
   "cell_type": "markdown",
   "source": [
    "# 차집합 \n",
    "A1-A2"
   ],
   "metadata": {}
  },
  {
   "cell_type": "code",
   "execution_count": 27,
   "source": [
    "A1-A2"
   ],
   "outputs": [
    {
     "output_type": "execute_result",
     "data": {
      "text/plain": [
       "{1, 3}"
      ]
     },
     "metadata": {},
     "execution_count": 27
    }
   ],
   "metadata": {}
  },
  {
   "cell_type": "code",
   "execution_count": 28,
   "source": [
    "A1.difference(A2)"
   ],
   "outputs": [
    {
     "output_type": "execute_result",
     "data": {
      "text/plain": [
       "{1, 3}"
      ]
     },
     "metadata": {},
     "execution_count": 28
    }
   ],
   "metadata": {}
  },
  {
   "cell_type": "markdown",
   "source": [
    "# 공집합 "
   ],
   "metadata": {}
  },
  {
   "cell_type": "code",
   "execution_count": 30,
   "source": [
    "empty_set = set([])\n",
    "empty_set"
   ],
   "outputs": [
    {
     "output_type": "execute_result",
     "data": {
      "text/plain": [
       "set()"
      ]
     },
     "metadata": {},
     "execution_count": 30
    }
   ],
   "metadata": {}
  },
  {
   "cell_type": "code",
   "execution_count": 34,
   "source": [
    "# 연습문제 6.1.2 \n",
    "A = {1,3,5}\n",
    "B = {1,2,3}\n",
    "C = {2,4,6}\n",
    "\n",
    "assert (B.intersection(C)).union(A) == (A.union(B)).intersection(A.union(C))\n",
    "# 뒤의 조건이 True 가 아니면, Assertion Error 발생시킨다. \n"
   ],
   "outputs": [],
   "metadata": {}
  },
  {
   "cell_type": "code",
   "execution_count": 78,
   "source": [
    "# 연습문제 6.1.1\n",
    "omega = {'HH', 'HT', 'TH', 'TT'}\n",
    "\n",
    "from itertools import chain, combinations\n",
    "\n",
    "set([frozenset(s) for s in chain.from_iterable(combinations(omega, n) for n in range(5))])"
   ],
   "outputs": [
    {
     "output_type": "execute_result",
     "data": {
      "text/plain": [
       "{frozenset(),\n",
       " frozenset({'HH'}),\n",
       " frozenset({'HT', 'TT'}),\n",
       " frozenset({'TH'}),\n",
       " frozenset({'HT'}),\n",
       " frozenset({'HT', 'TH'}),\n",
       " frozenset({'HT', 'TH', 'TT'}),\n",
       " frozenset({'HH', 'HT'}),\n",
       " frozenset({'HH', 'HT', 'TT'}),\n",
       " frozenset({'HH', 'TH'}),\n",
       " frozenset({'TT'}),\n",
       " frozenset({'HH', 'TT'}),\n",
       " frozenset({'TH', 'TT'}),\n",
       " frozenset({'HH', 'TH', 'TT'}),\n",
       " frozenset({'HH', 'HT', 'TH'}),\n",
       " frozenset({'HH', 'HT', 'TH', 'TT'})}"
      ]
     },
     "metadata": {},
     "execution_count": 78
    }
   ],
   "metadata": {}
  },
  {
   "cell_type": "code",
   "execution_count": 87,
   "source": [
    "# 6.2.4 연습문제 \n",
    "from itertools import chain, combinations\n",
    "omega2 = {'H','T'}\n",
    "\n",
    "gen = (combinations(omega2, i) for i in range(3)) # 이터레이션 제너레이터 객체 \n",
    "\n",
    "subsets = set([frozenset(x) for x in chain.from_iterable(gen)]) # 이터레이션 제너레이터 객체 활용해 omega2 표본공간의 부분집합 집합 생성\n",
    "subsets"
   ],
   "outputs": [
    {
     "output_type": "execute_result",
     "data": {
      "text/plain": [
       "{frozenset(), frozenset({'T'}), frozenset({'H'}), frozenset({'H', 'T'})}"
      ]
     },
     "metadata": {},
     "execution_count": 87
    }
   ],
   "metadata": {}
  },
  {
   "cell_type": "code",
   "execution_count": 117,
   "source": [
    "# 1. \n",
    "omega3 = {'s', 'c','d', 'm'}# 표본공간 \n",
    "\n",
    "# 이터레이션 제너레이터 객체 생성\n",
    "from itertools import chain, combinations\n",
    "iteration_generator = (combinations(omega3, i) for i in range(5))\n",
    "\n",
    "subsets = set([frozenset(x) for x in chain.from_iterable(iteration_generator)])\n",
    "\n",
    "# 2. \n",
    "omega4 = {1,0}\n",
    "subsets2 = set([frozenset(x) for x in chain.from_iterable((combinations(omega4, i) for i in range(3)))])\n",
    "\n",
    "print(f'플레잉 카드 뽑기 문제의 모든 사건 : {subsets}')\n",
    "print('\\n')\n",
    "print(f'동전 두 번 던지는 문제의 모든 사건 : {subsets2}')"
   ],
   "outputs": [
    {
     "output_type": "stream",
     "name": "stdout",
     "text": [
      "플레잉 카드 뽑기 문제의 모든 사건 : {frozenset({'c', 'm'}), frozenset({'c'}), frozenset({'c', 'm', 'd'}), frozenset({'d'}), frozenset({'c', 's', 'm'}), frozenset({'c', 's', 'm', 'd'}), frozenset({'s', 'd'}), frozenset({'s', 'm'}), frozenset({'s', 'm', 'd'}), frozenset({'c', 's', 'd'}), frozenset({'c', 's'}), frozenset(), frozenset({'c', 'd'}), frozenset({'s'}), frozenset({'m', 'd'}), frozenset({'m'})}\n",
      "\n",
      "\n",
      "동전 두 번 던지는 문제의 모든 사건 : {frozenset(), frozenset({0, 1}), frozenset({1}), frozenset({0})}\n"
     ]
    }
   ],
   "metadata": {}
  },
  {
   "cell_type": "code",
   "execution_count": 148,
   "source": [
    "# 6.2.5 연습문제 \n",
    "from itertools import chain, combinations\n",
    "\n",
    "omega1 = {'s','d','m','k'}\n",
    "\n",
    "subset1 = set([frozenset(x) for x in chain.from_iterable((combinations(omega1, n) for n in range(5)))])\n",
    "empty_dict = dict()\n",
    "\n",
    "for i in subset1 : \n",
    "    if len(i) == 0 : \n",
    "        empty_dict[i] = 0\n",
    "    elif len(i) == 1 : \n",
    "        empty_dict[i] = 1/4\n",
    "    elif len(i) == 2 : \n",
    "        empty_dict[i] = 2/4\n",
    "    elif len(i) == 3 : \n",
    "        empty_dict[i] = 3/4\n",
    "    elif len(i) == 4 : \n",
    "        empty_dict[i] = 1\n",
    "    else : \n",
    "        raise 'ValueError'\n",
    "\n",
    "probability = empty_dict\n",
    "probability"
   ],
   "outputs": [
    {
     "output_type": "execute_result",
     "data": {
      "text/plain": [
       "{frozenset({'s'}): 0.25,\n",
       " frozenset({'d', 'k', 's'}): 0.75,\n",
       " frozenset({'d', 'k'}): 0.5,\n",
       " frozenset({'d'}): 0.25,\n",
       " frozenset({'k', 'm', 's'}): 0.75,\n",
       " frozenset({'d', 'k', 'm', 's'}): 1,\n",
       " frozenset({'k', 's'}): 0.5,\n",
       " frozenset({'d', 's'}): 0.5,\n",
       " frozenset({'k', 'm'}): 0.5,\n",
       " frozenset({'m', 's'}): 0.5,\n",
       " frozenset({'d', 'k', 'm'}): 0.75,\n",
       " frozenset({'d', 'm', 's'}): 0.75,\n",
       " frozenset(): 0,\n",
       " frozenset({'k'}): 0.25,\n",
       " frozenset({'d', 'm'}): 0.5,\n",
       " frozenset({'m'}): 0.25}"
      ]
     },
     "metadata": {},
     "execution_count": 148
    }
   ],
   "metadata": {}
  },
  {
   "cell_type": "code",
   "execution_count": 159,
   "source": [
    "# 2. 동전 두 번 던지는 문제 (동전 두 개 동시에 던지는 문제)\n",
    "from itertools import chain, combinations\n",
    "\n",
    "omega2 = {'HH','HT','TH','TT'}\n",
    "subset2 = set([frozenset(x) for x in chain.from_iterable((combinations(omega2, n) for n in range(5)))])\n",
    "\n",
    "probability2 = dict()\n",
    "for i in subset2 : \n",
    "    if len(i) == 0 : \n",
    "        probability2[i] = 0\n",
    "    elif len(i) == 1 : \n",
    "        probability2[i] = 1/4\n",
    "    elif len(i) == 2 : \n",
    "        probability2[i] = 2/4\n",
    "    elif len(i) == 3 : \n",
    "        probability2[i] = 3/4\n",
    "    elif len(i) == 4 : \n",
    "        probability2[i] = 1\n",
    "    else : \n",
    "        raise 'ValueError'\n",
    "\n",
    "probability2"
   ],
   "outputs": [
    {
     "output_type": "execute_result",
     "data": {
      "text/plain": [
       "{frozenset({'HH'}): 0.25,\n",
       " frozenset({'HT', 'TT'}): 0.5,\n",
       " frozenset({'HT', 'TH', 'TT'}): 0.75,\n",
       " frozenset({'HT', 'TH'}): 0.5,\n",
       " frozenset({'HH', 'HT', 'TH', 'TT'}): 1,\n",
       " frozenset({'HH', 'HT', 'TT'}): 0.75,\n",
       " frozenset({'TH'}): 0.25,\n",
       " frozenset({'HH', 'HT'}): 0.5,\n",
       " frozenset({'HH', 'TH'}): 0.5,\n",
       " frozenset({'HH', 'TT'}): 0.5,\n",
       " frozenset({'HT'}): 0.25,\n",
       " frozenset({'HH', 'TH', 'TT'}): 0.75,\n",
       " frozenset(): 0,\n",
       " frozenset({'HH', 'HT', 'TH'}): 0.75,\n",
       " frozenset({'TH', 'TT'}): 0.5,\n",
       " frozenset({'TT'}): 0.25}"
      ]
     },
     "metadata": {},
     "execution_count": 159
    }
   ],
   "metadata": {}
  },
  {
   "cell_type": "code",
   "execution_count": 210,
   "source": [
    "# 연습문제 6.2.6\n",
    "omega = {1,2,3,4,5,6}\n",
    "subset = set([frozenset(s) for s in chain.from_iterable((combinations(omega, i) for i in range(7)))])\n",
    "\n",
    "probability = dict()\n",
    "b = 0\n",
    "for i in subset : \n",
    "    for a in i : \n",
    "        if a == 1 : \n",
    "            b += 0.5\n",
    "        elif a == 6 : \n",
    "            b += 0\n",
    "        else : \n",
    "            b += (0.5/4)\n",
    "    probability[i] = b\n",
    "    b = 0\n",
    "\n",
    "probability\n"
   ],
   "outputs": [
    {
     "output_type": "execute_result",
     "data": {
      "text/plain": [
       "{frozenset({1, 3, 5}): 0.75,\n",
       " frozenset({1, 4}): 0.625,\n",
       " frozenset({4, 6}): 0.125,\n",
       " frozenset({2, 3}): 0.25,\n",
       " frozenset({2, 3, 4}): 0.375,\n",
       " frozenset({1, 4, 5, 6}): 0.75,\n",
       " frozenset({2, 6}): 0.125,\n",
       " frozenset({4, 5}): 0.25,\n",
       " frozenset({2, 3, 5, 6}): 0.375,\n",
       " frozenset({1, 2, 3, 6}): 0.75,\n",
       " frozenset({1}): 0.5,\n",
       " frozenset({1, 2, 3, 4, 5, 6}): 1.0,\n",
       " frozenset({2, 4, 5, 6}): 0.375,\n",
       " frozenset({4, 5, 6}): 0.25,\n",
       " frozenset({1, 3, 4, 6}): 0.75,\n",
       " frozenset({2, 3, 4, 6}): 0.375,\n",
       " frozenset({1, 2, 3, 4, 6}): 0.875,\n",
       " frozenset({1, 3, 4, 5, 6}): 0.875,\n",
       " frozenset({1, 4, 6}): 0.625,\n",
       " frozenset({3, 4}): 0.25,\n",
       " frozenset({2, 4, 6}): 0.25,\n",
       " frozenset({3, 4, 5, 6}): 0.375,\n",
       " frozenset({1, 2, 3, 4, 5}): 1.0,\n",
       " frozenset({2, 4}): 0.25,\n",
       " frozenset({5, 6}): 0.125,\n",
       " frozenset({2, 3, 5}): 0.375,\n",
       " frozenset({3, 4, 6}): 0.25,\n",
       " frozenset({3, 5}): 0.25,\n",
       " frozenset({2, 5, 6}): 0.25,\n",
       " frozenset({3, 4, 5}): 0.375,\n",
       " frozenset({1, 6}): 0.5,\n",
       " frozenset({1, 2, 3}): 0.75,\n",
       " frozenset({1, 2, 4, 6}): 0.75,\n",
       " frozenset({1, 3}): 0.625,\n",
       " frozenset({1, 2, 6}): 0.625,\n",
       " frozenset({1, 3, 4}): 0.75,\n",
       " frozenset({1, 2, 4, 5}): 0.875,\n",
       " frozenset({1, 3, 5, 6}): 0.75,\n",
       " frozenset({1, 2, 3, 5, 6}): 0.875,\n",
       " frozenset({3, 6}): 0.125,\n",
       " frozenset({2, 3, 6}): 0.25,\n",
       " frozenset({2, 3, 4, 5}): 0.5,\n",
       " frozenset({1, 2, 5}): 0.75,\n",
       " frozenset({1, 5}): 0.625,\n",
       " frozenset({1, 4, 5}): 0.75,\n",
       " frozenset({1, 2, 3, 4}): 0.875,\n",
       " frozenset({2, 3, 4, 5, 6}): 0.5,\n",
       " frozenset({5}): 0.125,\n",
       " frozenset({4}): 0.125,\n",
       " frozenset({2}): 0.125,\n",
       " frozenset({1, 2, 4, 5, 6}): 0.875,\n",
       " frozenset({1, 2, 4}): 0.75,\n",
       " frozenset({1, 2}): 0.625,\n",
       " frozenset({1, 3, 6}): 0.625,\n",
       " frozenset({1, 2, 5, 6}): 0.75,\n",
       " frozenset({1, 2, 3, 5}): 0.875,\n",
       " frozenset({1, 3, 4, 5}): 0.875,\n",
       " frozenset({2, 4, 5}): 0.375,\n",
       " frozenset({2, 5}): 0.25,\n",
       " frozenset({3, 5, 6}): 0.25,\n",
       " frozenset({3}): 0.125,\n",
       " frozenset({6}): 0,\n",
       " frozenset(): 0,\n",
       " frozenset({1, 5, 6}): 0.625}"
      ]
     },
     "metadata": {},
     "execution_count": 210
    }
   ],
   "metadata": {}
  },
  {
   "cell_type": "code",
   "execution_count": 207,
   "source": [
    "# 또는 \n",
    "def get_set_of_subsets(omega) : \n",
    "    return set([frozenset(s) for s in chain.from_iterable((combinations(omega, i) for i in range(len(omega)+1)))])\n",
    "omega = {1,2,3,4,5,6}\n",
    "\n",
    "probab = 0\n",
    "probability = dict()\n",
    "for i in get_set_of_subsets(omega) : \n",
    "    if 1 in i : \n",
    "        probab += 0.5\n",
    "    if 2 in i : \n",
    "        probab += 0.5/4\n",
    "    if 3 in i : \n",
    "        probab += 0.5/4\n",
    "    if 4 in i : \n",
    "        probab += 0.5/4\n",
    "    if 5 in i : \n",
    "        probab += 0.5/4\n",
    "    if 6 in i : \n",
    "        probab += 0\n",
    "    probability[i] = probab\n",
    "    probab = 0\n",
    "\n",
    "probability"
   ],
   "outputs": [
    {
     "output_type": "execute_result",
     "data": {
      "text/plain": [
       "{frozenset({1, 3, 5}): 0.75,\n",
       " frozenset({1, 4}): 0.625,\n",
       " frozenset({4, 6}): 0.125,\n",
       " frozenset({2, 3}): 0.25,\n",
       " frozenset({2, 3, 4}): 0.375,\n",
       " frozenset({1, 4, 5, 6}): 0.75,\n",
       " frozenset({2, 6}): 0.125,\n",
       " frozenset({4, 5}): 0.25,\n",
       " frozenset({2, 3, 5, 6}): 0.375,\n",
       " frozenset({1, 2, 3, 6}): 0.75,\n",
       " frozenset({1}): 0.5,\n",
       " frozenset({1, 2, 3, 4, 5, 6}): 1.0,\n",
       " frozenset({2, 4, 5, 6}): 0.375,\n",
       " frozenset({4, 5, 6}): 0.25,\n",
       " frozenset({1, 3, 4, 6}): 0.75,\n",
       " frozenset({2, 3, 4, 6}): 0.375,\n",
       " frozenset({1, 2, 3, 4, 6}): 0.875,\n",
       " frozenset({1, 3, 4, 5, 6}): 0.875,\n",
       " frozenset({1, 4, 6}): 0.625,\n",
       " frozenset({3, 4}): 0.25,\n",
       " frozenset({2, 4, 6}): 0.25,\n",
       " frozenset({3, 4, 5, 6}): 0.375,\n",
       " frozenset({1, 2, 3, 4, 5}): 1.0,\n",
       " frozenset({2, 4}): 0.25,\n",
       " frozenset({5, 6}): 0.125,\n",
       " frozenset({2, 3, 5}): 0.375,\n",
       " frozenset({3, 4, 6}): 0.25,\n",
       " frozenset({3, 5}): 0.25,\n",
       " frozenset({2, 5, 6}): 0.25,\n",
       " frozenset({3, 4, 5}): 0.375,\n",
       " frozenset({1, 6}): 0.5,\n",
       " frozenset({1, 2, 3}): 0.75,\n",
       " frozenset({1, 2, 4, 6}): 0.75,\n",
       " frozenset({1, 3}): 0.625,\n",
       " frozenset({1, 2, 6}): 0.625,\n",
       " frozenset({1, 3, 4}): 0.75,\n",
       " frozenset({1, 2, 4, 5}): 0.875,\n",
       " frozenset({1, 3, 5, 6}): 0.75,\n",
       " frozenset({1, 2, 3, 5, 6}): 0.875,\n",
       " frozenset({3, 6}): 0.125,\n",
       " frozenset({2, 3, 6}): 0.25,\n",
       " frozenset({2, 3, 4, 5}): 0.5,\n",
       " frozenset({1, 2, 5}): 0.75,\n",
       " frozenset({1, 5}): 0.625,\n",
       " frozenset({1, 4, 5}): 0.75,\n",
       " frozenset({1, 2, 3, 4}): 0.875,\n",
       " frozenset({2, 3, 4, 5, 6}): 0.5,\n",
       " frozenset({5}): 0.125,\n",
       " frozenset({4}): 0.125,\n",
       " frozenset({2}): 0.125,\n",
       " frozenset({1, 2, 4, 5, 6}): 0.875,\n",
       " frozenset({1, 2, 4}): 0.75,\n",
       " frozenset({1, 2}): 0.625,\n",
       " frozenset({1, 3, 6}): 0.625,\n",
       " frozenset({1, 2, 5, 6}): 0.75,\n",
       " frozenset({1, 2, 3, 5}): 0.875,\n",
       " frozenset({1, 3, 4, 5}): 0.875,\n",
       " frozenset({2, 4, 5}): 0.375,\n",
       " frozenset({2, 5}): 0.25,\n",
       " frozenset({3, 5, 6}): 0.25,\n",
       " frozenset({3}): 0.125,\n",
       " frozenset({6}): 0,\n",
       " frozenset(): 0,\n",
       " frozenset({1, 5, 6}): 0.625}"
      ]
     },
     "metadata": {},
     "execution_count": 207
    }
   ],
   "metadata": {}
  },
  {
   "cell_type": "code",
   "execution_count": 218,
   "source": [
    "# 6.2.7 연습문제 \n",
    "\n",
    "# 1. \n",
    "date = dict()\n",
    "date['True'] = 7/365\n",
    "date['False'] = 358/365\n",
    "print(date)\n",
    "\n",
    "# 2. \n",
    "choose = dict()\n",
    "choose['A'] = 1/2\n",
    "choose['O'] = 1/2\n",
    "print(choose)\n",
    "\n",
    "# 3. \n",
    "choose2 = dict()\n",
    "choose2['A'] = 7/10\n",
    "choose2['O'] = 3/10\n",
    "print(choose2)\n",
    "\n"
   ],
   "outputs": [
    {
     "output_type": "stream",
     "name": "stdout",
     "text": [
      "{'True': 0.019178082191780823, 'False': 0.9808219178082191}\n",
      "{'A': 0.5, 'O': 0.5}\n",
      "{'A': 0.7, 'O': 0.3}\n"
     ]
    }
   ],
   "metadata": {}
  },
  {
   "cell_type": "markdown",
   "source": [
    "# 이터러블 객체, 이터레이터 객체 만들기 "
   ],
   "metadata": {}
  },
  {
   "cell_type": "code",
   "execution_count": 279,
   "source": [
    "# for 문을 사용하면 iterable 객체의 iterator 객체를 호출한다. \n",
    "# 반복해서 iterator 객체의 next() 메서드를 호출한다. \n",
    "\n",
    "class Season() : \n",
    "    def __init__(self) : \n",
    "        pass\n",
    "    def __iter__(self) : \n",
    "        iterator = iteration()\n",
    "        return iterator \n",
    "class iteration() : \n",
    "    def __init__(self) : \n",
    "        self.data = ['봄','여름','가을','겨울']\n",
    "        self.index = 0\n",
    "\n",
    "    def __next__(self) : \n",
    "        if self.index < len(self.data) : \n",
    "            order = self.data[self.index]\n",
    "            self.index += 1\n",
    "            return order\n",
    "        else : \n",
    "            raise StopIteration # for문이 stopiteration error 인식하고 알아서 멈춘다. \n",
    "\n",
    "s = Season()\n",
    "for i in s : \n",
    "    print(i)\n",
    "\n",
    "# iterable 객체를 iter() 내장 함수에 넣으면 iterator 객체만 추출해온다. \n",
    "# iterator 객체를 다시 iter() 내장 함수에 넣으면 그대로 '통과' 되어서 넣어준 iterator 객체가 그대로 다시 나온다. \n",
    "iterator = iter(s) # 호출된 이터레이터 객체 \n",
    "print('\\n')\n",
    "print(next(iterator))\n",
    "print(next(iterator))\n",
    "print(next(iterator))\n",
    "print(next(iterator))"
   ],
   "outputs": [
    {
     "output_type": "stream",
     "name": "stdout",
     "text": [
      "봄\n",
      "여름\n",
      "가을\n",
      "겨울\n",
      "\n",
      "\n",
      "봄\n",
      "여름\n",
      "가을\n",
      "겨울\n"
     ]
    }
   ],
   "metadata": {}
  },
  {
   "cell_type": "code",
   "execution_count": 333,
   "source": [
    "# 또는 : 다른 방법으로 이터레이터 객체 만들기 \n",
    "class four() : \n",
    "    def __init__(self) : \n",
    "        self.data = ['봄','여름','가을','겨울']\n",
    "        self.index = 0\n",
    "    def __iter__(self) : \n",
    "        return self  # 자기자신이 iterator 객체라고 선언\n",
    "    def __next__(self) : \n",
    "        if self.index < len(self.data) : \n",
    "            s = self.data[self.index]\n",
    "            self.index += 1\n",
    "            return s\n",
    "        else : \n",
    "            raise StopIteration\n",
    "a = four()\n",
    "for i in a : \n",
    "    print(i)"
   ],
   "outputs": [
    {
     "output_type": "stream",
     "name": "stdout",
     "text": [
      "봄\n",
      "여름\n",
      "가을\n",
      "겨울\n"
     ]
    }
   ],
   "metadata": {}
  },
  {
   "cell_type": "code",
   "execution_count": 332,
   "source": [
    "class four() : \n",
    "    def __init__(self) : \n",
    "        self.data = ['봄','여름','가을','겨울']\n",
    "        self.index = 0\n",
    "    def __iter__(self) : \n",
    "        return self  # 자기자신이 iterator 객체라고 선언\n",
    "    def __next__(self) : \n",
    "        s = self.data[self.index]\n",
    "        if self.index < len(self.data) : \n",
    "            self.index += 1\n",
    "        if self.index == 4 : \n",
    "            self.index = 0\n",
    "\n",
    "        return print(s)\n",
    "season = four()\n",
    "a = 0\n",
    "while a < 13 : \n",
    "    next(season)\n",
    "    a += 1\n"
   ],
   "outputs": [
    {
     "output_type": "stream",
     "name": "stdout",
     "text": [
      "봄\n",
      "여름\n",
      "가을\n",
      "겨울\n",
      "봄\n",
      "여름\n",
      "가을\n",
      "겨울\n",
      "봄\n",
      "여름\n",
      "가을\n",
      "겨울\n",
      "봄\n"
     ]
    }
   ],
   "metadata": {}
  },
  {
   "cell_type": "code",
   "execution_count": 357,
   "source": [
    "[ for x in (combinations(omega, i) for i in range(4))]"
   ],
   "outputs": [
    {
     "output_type": "execute_result",
     "data": {
      "text/plain": [
       "[{()},\n",
       " {(1,), (2,), (3,), (4,), (5,), (6,)},\n",
       " {(1, 2),\n",
       "  (1, 3),\n",
       "  (1, 4),\n",
       "  (1, 5),\n",
       "  (1, 6),\n",
       "  (2, 3),\n",
       "  (2, 4),\n",
       "  (2, 5),\n",
       "  (2, 6),\n",
       "  (3, 4),\n",
       "  (3, 5),\n",
       "  (3, 6),\n",
       "  (4, 5),\n",
       "  (4, 6),\n",
       "  (5, 6)},\n",
       " {(1, 2, 3),\n",
       "  (1, 2, 4),\n",
       "  (1, 2, 5),\n",
       "  (1, 2, 6),\n",
       "  (1, 3, 4),\n",
       "  (1, 3, 5),\n",
       "  (1, 3, 6),\n",
       "  (1, 4, 5),\n",
       "  (1, 4, 6),\n",
       "  (1, 5, 6),\n",
       "  (2, 3, 4),\n",
       "  (2, 3, 5),\n",
       "  (2, 3, 6),\n",
       "  (2, 4, 5),\n",
       "  (2, 4, 6),\n",
       "  (2, 5, 6),\n",
       "  (3, 4, 5),\n",
       "  (3, 4, 6),\n",
       "  (3, 5, 6),\n",
       "  (4, 5, 6)}]"
      ]
     },
     "metadata": {},
     "execution_count": 357
    }
   ],
   "metadata": {}
  },
  {
   "cell_type": "markdown",
   "source": [
    "# 제너레이터 "
   ],
   "metadata": {}
  },
  {
   "cell_type": "code",
   "execution_count": 512,
   "source": [
    "def gen() : \n",
    "    for i in range(3) : \n",
    "        yield i\n",
    "\n",
    "g = gen()\n",
    "print(next(g))\n",
    "print(next(g))\n",
    "print(next(g))\n",
    "print(next(g)) # yield 할 수 있는 범위 벗어나면 stopiteration error 발생시킨다. "
   ],
   "outputs": [
    {
     "output_type": "stream",
     "name": "stdout",
     "text": [
      "0\n",
      "1\n",
      "2\n"
     ]
    },
    {
     "output_type": "error",
     "ename": "StopIteration",
     "evalue": "",
     "traceback": [
      "\u001b[0;31m---------------------------------------------------------------------------\u001b[0m",
      "\u001b[0;31mStopIteration\u001b[0m                             Traceback (most recent call last)",
      "\u001b[0;32m<ipython-input-512-65227ec095dc>\u001b[0m in \u001b[0;36m<module>\u001b[0;34m\u001b[0m\n\u001b[1;32m      7\u001b[0m \u001b[0mprint\u001b[0m\u001b[0;34m(\u001b[0m\u001b[0mnext\u001b[0m\u001b[0;34m(\u001b[0m\u001b[0mg\u001b[0m\u001b[0;34m)\u001b[0m\u001b[0;34m)\u001b[0m\u001b[0;34m\u001b[0m\u001b[0;34m\u001b[0m\u001b[0m\n\u001b[1;32m      8\u001b[0m \u001b[0mprint\u001b[0m\u001b[0;34m(\u001b[0m\u001b[0mnext\u001b[0m\u001b[0;34m(\u001b[0m\u001b[0mg\u001b[0m\u001b[0;34m)\u001b[0m\u001b[0;34m)\u001b[0m\u001b[0;34m\u001b[0m\u001b[0;34m\u001b[0m\u001b[0m\n\u001b[0;32m----> 9\u001b[0;31m \u001b[0mprint\u001b[0m\u001b[0;34m(\u001b[0m\u001b[0mnext\u001b[0m\u001b[0;34m(\u001b[0m\u001b[0mg\u001b[0m\u001b[0;34m)\u001b[0m\u001b[0;34m)\u001b[0m \u001b[0;31m# yield 할 수 있는 범위 벗어나면 stopiteration error 발생시킨다.\u001b[0m\u001b[0;34m\u001b[0m\u001b[0;34m\u001b[0m\u001b[0m\n\u001b[0m",
      "\u001b[0;31mStopIteration\u001b[0m: "
     ]
    }
   ],
   "metadata": {}
  },
  {
   "cell_type": "code",
   "execution_count": 479,
   "source": [
    "gen = (i for i in range(10))\n",
    "\n",
    "for i in gen : \n",
    "    print(i)\n",
    "for i in gen : \n",
    "    print(i)"
   ],
   "outputs": [
    {
     "output_type": "stream",
     "name": "stdout",
     "text": [
      "0\n",
      "1\n",
      "2\n",
      "3\n",
      "4\n",
      "5\n",
      "6\n",
      "7\n",
      "8\n",
      "9\n"
     ]
    }
   ],
   "metadata": {}
  },
  {
   "cell_type": "code",
   "execution_count": 501,
   "source": [
    "def gen() : \n",
    "    for i in range(10) : \n",
    "        yield print(i)\n",
    "\n",
    "gen = gen()\n",
    "next(gen)\n",
    "next(gen)\n",
    "next(gen)\n",
    "next(gen)\n",
    "next(gen)\n",
    "next(gen)"
   ],
   "outputs": [
    {
     "output_type": "stream",
     "name": "stdout",
     "text": [
      "0\n",
      "1\n",
      "2\n",
      "3\n",
      "4\n",
      "5\n"
     ]
    }
   ],
   "metadata": {}
  },
  {
   "cell_type": "code",
   "execution_count": 483,
   "source": [
    "gen = [i for i in range(10)]\n",
    "\n",
    "for i in gen : \n",
    "    print(i)\n",
    "\n",
    "print('\\n')\n",
    "for i in gen : \n",
    "    print(i)"
   ],
   "outputs": [
    {
     "output_type": "stream",
     "name": "stdout",
     "text": [
      "0\n",
      "1\n",
      "2\n",
      "3\n",
      "4\n",
      "5\n",
      "6\n",
      "7\n",
      "8\n",
      "9\n",
      "\n",
      "\n",
      "0\n",
      "1\n",
      "2\n",
      "3\n",
      "4\n",
      "5\n",
      "6\n",
      "7\n",
      "8\n",
      "9\n"
     ]
    }
   ],
   "metadata": {}
  },
  {
   "cell_type": "code",
   "execution_count": 492,
   "source": [
    "def gen() : \n",
    "    yield 1\n",
    "    yield 2\n",
    "    yield 3\n",
    "a = gen()\n",
    "next(a)\n",
    "next(a)\n",
    "next(a)\n",
    "next(a)\n"
   ],
   "outputs": [
    {
     "output_type": "error",
     "ename": "StopIteration",
     "evalue": "",
     "traceback": [
      "\u001b[0;31m---------------------------------------------------------------------------\u001b[0m",
      "\u001b[0;31mStopIteration\u001b[0m                             Traceback (most recent call last)",
      "\u001b[0;32m<ipython-input-492-4dd7ce31f6b2>\u001b[0m in \u001b[0;36m<module>\u001b[0;34m\u001b[0m\n\u001b[1;32m      7\u001b[0m \u001b[0mnext\u001b[0m\u001b[0;34m(\u001b[0m\u001b[0ma\u001b[0m\u001b[0;34m)\u001b[0m\u001b[0;34m\u001b[0m\u001b[0;34m\u001b[0m\u001b[0m\n\u001b[1;32m      8\u001b[0m \u001b[0mnext\u001b[0m\u001b[0;34m(\u001b[0m\u001b[0ma\u001b[0m\u001b[0;34m)\u001b[0m\u001b[0;34m\u001b[0m\u001b[0;34m\u001b[0m\u001b[0m\n\u001b[0;32m----> 9\u001b[0;31m \u001b[0mnext\u001b[0m\u001b[0;34m(\u001b[0m\u001b[0ma\u001b[0m\u001b[0;34m)\u001b[0m\u001b[0;34m\u001b[0m\u001b[0;34m\u001b[0m\u001b[0m\n\u001b[0m",
      "\u001b[0;31mStopIteration\u001b[0m: "
     ]
    }
   ],
   "metadata": {}
  },
  {
   "cell_type": "code",
   "execution_count": 515,
   "source": [
    "def gen() : \n",
    "    for i in range(100) : \n",
    "        if i == 3 : \n",
    "            return '그만합시다'\n",
    "        yield i\n",
    "gen = gen()\n",
    "\n",
    "next(gen)\n",
    "next(gen)\n",
    "next(gen)\n",
    "next(gen)"
   ],
   "outputs": [
    {
     "output_type": "error",
     "ename": "StopIteration",
     "evalue": "그만합시다",
     "traceback": [
      "\u001b[0;31m---------------------------------------------------------------------------\u001b[0m",
      "\u001b[0;31mStopIteration\u001b[0m                             Traceback (most recent call last)",
      "\u001b[0;32m<ipython-input-515-f87bcf760030>\u001b[0m in \u001b[0;36m<module>\u001b[0;34m\u001b[0m\n\u001b[1;32m      9\u001b[0m \u001b[0mnext\u001b[0m\u001b[0;34m(\u001b[0m\u001b[0mgen\u001b[0m\u001b[0;34m)\u001b[0m\u001b[0;34m\u001b[0m\u001b[0;34m\u001b[0m\u001b[0m\n\u001b[1;32m     10\u001b[0m \u001b[0mnext\u001b[0m\u001b[0;34m(\u001b[0m\u001b[0mgen\u001b[0m\u001b[0;34m)\u001b[0m\u001b[0;34m\u001b[0m\u001b[0;34m\u001b[0m\u001b[0m\n\u001b[0;32m---> 11\u001b[0;31m \u001b[0mnext\u001b[0m\u001b[0;34m(\u001b[0m\u001b[0mgen\u001b[0m\u001b[0;34m)\u001b[0m\u001b[0;34m\u001b[0m\u001b[0;34m\u001b[0m\u001b[0m\n\u001b[0m",
      "\u001b[0;31mStopIteration\u001b[0m: 그만합시다"
     ]
    }
   ],
   "metadata": {}
  },
  {
   "cell_type": "code",
   "execution_count": 522,
   "source": [
    "def gen(x) : \n",
    "    for i in range(10) : \n",
    "        if x == 3 : \n",
    "            return '종료'\n",
    "        yield i\n",
    "generator = gen(3) # 실행대기 \n",
    "for i in range(10) : \n",
    "    print(next(generator))"
   ],
   "outputs": [
    {
     "output_type": "error",
     "ename": "StopIteration",
     "evalue": "종료",
     "traceback": [
      "\u001b[0;31m---------------------------------------------------------------------------\u001b[0m",
      "\u001b[0;31mStopIteration\u001b[0m                             Traceback (most recent call last)",
      "\u001b[0;32m<ipython-input-522-6bf1ec76fffd>\u001b[0m in \u001b[0;36m<module>\u001b[0;34m\u001b[0m\n\u001b[1;32m      6\u001b[0m \u001b[0mgenerator\u001b[0m \u001b[0;34m=\u001b[0m \u001b[0mgen\u001b[0m\u001b[0;34m(\u001b[0m\u001b[0;36m3\u001b[0m\u001b[0;34m)\u001b[0m\u001b[0;34m\u001b[0m\u001b[0;34m\u001b[0m\u001b[0m\n\u001b[1;32m      7\u001b[0m \u001b[0;32mfor\u001b[0m \u001b[0mi\u001b[0m \u001b[0;32min\u001b[0m \u001b[0mrange\u001b[0m\u001b[0;34m(\u001b[0m\u001b[0;36m10\u001b[0m\u001b[0;34m)\u001b[0m \u001b[0;34m:\u001b[0m\u001b[0;34m\u001b[0m\u001b[0;34m\u001b[0m\u001b[0m\n\u001b[0;32m----> 8\u001b[0;31m     \u001b[0mprint\u001b[0m\u001b[0;34m(\u001b[0m\u001b[0mnext\u001b[0m\u001b[0;34m(\u001b[0m\u001b[0mgenerator\u001b[0m\u001b[0;34m)\u001b[0m\u001b[0;34m)\u001b[0m\u001b[0;34m\u001b[0m\u001b[0;34m\u001b[0m\u001b[0m\n\u001b[0m",
      "\u001b[0;31mStopIteration\u001b[0m: 종료"
     ]
    }
   ],
   "metadata": {}
  }
 ],
 "metadata": {
  "orig_nbformat": 4,
  "language_info": {
   "name": "python",
   "version": "3.8.5",
   "mimetype": "text/x-python",
   "codemirror_mode": {
    "name": "ipython",
    "version": 3
   },
   "pygments_lexer": "ipython3",
   "nbconvert_exporter": "python",
   "file_extension": ".py"
  },
  "kernelspec": {
   "name": "python3",
   "display_name": "Python 3.8.5 64-bit ('base': conda)"
  },
  "interpreter": {
   "hash": "763d474441fddba0f33013a9d1e225472a278d648ad009624f32af99627e6f43"
  }
 },
 "nbformat": 4,
 "nbformat_minor": 2
}