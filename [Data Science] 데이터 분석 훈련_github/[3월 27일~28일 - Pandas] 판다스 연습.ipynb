{
 "cells": [
  {
   "cell_type": "code",
   "execution_count": null,
   "metadata": {},
   "outputs": [],
   "source": [
    "import pandas as pd\n",
    "import numpy as np"
   ]
  },
  {
   "cell_type": "code",
   "execution_count": null,
   "metadata": {},
   "outputs": [],
   "source": [
    "# 식별자 - 주변 속성 잘 구분하자. \n",
    "# 하나의 표에는 하나의 관측단위만 들어가자. "
   ]
  },
  {
   "cell_type": "markdown",
   "metadata": {},
   "source": [
    "# tidy data의 의의 : 데이터 전처리 시간을 줄이자. + 데이터 분석 시간을 줄이자"
   ]
  },
  {
   "cell_type": "code",
   "execution_count": null,
   "metadata": {},
   "outputs": [],
   "source": [
    "df = pd.DataFrame({\n",
    "    'Treatment A' : [None, 16,3],\n",
    "    'Treatment B' : [2,11,1]},\n",
    "index=['John Smith','Jane Doe','Mary Johnson'])\n",
    "df"
   ]
  },
  {
   "cell_type": "code",
   "execution_count": null,
   "metadata": {},
   "outputs": [],
   "source": [
    "df.reset_index(inplace=True)"
   ]
  },
  {
   "cell_type": "code",
   "execution_count": null,
   "metadata": {},
   "outputs": [],
   "source": [
    "df.rename(mapper={'index':'Name'},axis=1,inplace=True)"
   ]
  },
  {
   "cell_type": "code",
   "execution_count": null,
   "metadata": {},
   "outputs": [],
   "source": [
    "df_clean = df.melt(id_vars='Name', var_name='Treatment',value_name='Result')\n",
    "df_clean"
   ]
  },
  {
   "cell_type": "code",
   "execution_count": null,
   "metadata": {},
   "outputs": [],
   "source": [
    "t_list = list(df_clean['Treatment'])\n",
    "t_list_mo = []\n",
    "for i in t_list : \n",
    "    i_mo = i.replace('Treatment', \"\").strip()\n",
    "    t_list_mo.append(i_mo)"
   ]
  },
  {
   "cell_type": "code",
   "execution_count": null,
   "metadata": {},
   "outputs": [],
   "source": [
    "df_clean['Treatment'] = t_list_mo"
   ]
  },
  {
   "cell_type": "code",
   "execution_count": null,
   "metadata": {},
   "outputs": [],
   "source": [
    "df_clean #깔끔한 상태"
   ]
  },
  {
   "cell_type": "markdown",
   "metadata": {},
   "source": [
    "# 지저분한 데이터 처리하기 -1"
   ]
  },
  {
   "cell_type": "markdown",
   "metadata": {},
   "source": [
    "# 깔끔한 데이터의 기본 공리 3\n",
    "- 변수는 무조건 칼럼에 들어가야 한다. \n",
    "- 한 개 표에는 한 개 관측단위만 들어가야 한다.\n",
    "- 여러 표로 나뉘어 있는 경우 표들은 필히 한 개 이상의 column 공유해야 한다"
   ]
  },
  {
   "cell_type": "code",
   "execution_count": null,
   "metadata": {},
   "outputs": [],
   "source": [
    "df2 = pd.DataFrame([[27,34,60,81,76,137],\n",
    "                   [12,27,37,52,35,70],\n",
    "                   [27,21,30,34,33,58],\n",
    "                   [418,617,732,670,638,1116],\n",
    "                   [15,14,15,11,10,35],\n",
    "                   [575,869,1064,982,881,1486],\n",
    "                   [1,9,7,9,11,34],\n",
    "                   [228,244,236,238,197,223],\n",
    "                   [20,27,24,24,21,30],\n",
    "                   [19,19,25,25,30,95]],\n",
    "                  columns=['10k','10k~20k','20k~30k','30k~40k','40k~50k','50k~70k'],\n",
    "                  index=['agnostic','athest','buddhist','catholic','dont know/refused','evan','hindu','historical','jehovahs','jewish'])"
   ]
  },
  {
   "cell_type": "code",
   "execution_count": null,
   "metadata": {},
   "outputs": [],
   "source": [
    "df2.reset_index(inplace=True)"
   ]
  },
  {
   "cell_type": "code",
   "execution_count": null,
   "metadata": {},
   "outputs": [],
   "source": [
    "df2.rename(mapper={'index':'religion'}, axis=1,inplace=True)"
   ]
  },
  {
   "cell_type": "code",
   "execution_count": null,
   "metadata": {
    "scrolled": true
   },
   "outputs": [],
   "source": [
    "df2"
   ]
  },
  {
   "cell_type": "code",
   "execution_count": null,
   "metadata": {},
   "outputs": [],
   "source": [
    "df2 = df2.melt(id_vars='religion',var_name='range',value_name='income')"
   ]
  },
  {
   "cell_type": "code",
   "execution_count": null,
   "metadata": {},
   "outputs": [],
   "source": [
    "df2.sort_values('religion', inplace=True)"
   ]
  },
  {
   "cell_type": "code",
   "execution_count": null,
   "metadata": {},
   "outputs": [],
   "source": [
    "df2.head(n=10) #변수는 모두 칼럼으로, 값은 row로, 관측단위는 하나"
   ]
  },
  {
   "cell_type": "markdown",
   "metadata": {},
   "source": [
    "# 지저분한 데이터 정리하기 -2 빌보드 데이터"
   ]
  },
  {
   "cell_type": "markdown",
   "metadata": {},
   "source": [
    "# 문제점 \n",
    "- 변수에 값이 들어가 있다. \n",
    "- null값이 너무 많다.\n",
    "- 값 단위가 실수/정수 다르다. \n",
    "- 곡 정보라는 관측단위 하나, 곡 성적이라는 관측단위 하나 == 관측단위가 두개 들어가 있다 분리해야 한다. <-- 여러 표로 나뉠 경우 최소 한 개 열은 공유되어야 한다."
   ]
  },
  {
   "cell_type": "markdown",
   "metadata": {},
   "source": [
    "# 다양한 변수가 하나의 열에 있는 경우 - 3"
   ]
  },
  {
   "cell_type": "markdown",
   "metadata": {},
   "source": [
    "# 깔끔한 데이터 특징 : \n",
    "- 표기가 일관되어야 한다. (0만 쓰던지 None만 쓰던지)"
   ]
  },
  {
   "cell_type": "markdown",
   "metadata": {},
   "source": [
    "# 각 열 변수 이름은 하나의 속성만을 담고 있어야 한다. \n",
    "# m5564 이런 식이면 안 된다(남성+나이) --> 성별 따로, 나이 따로 이렇게 가야 한다. "
   ]
  },
  {
   "cell_type": "markdown",
   "metadata": {},
   "source": [
    "- 변수 이름에 두개 속성이 들어가 있다는 문제가 있다. \n",
    "- 변수 이름에 변수가 아니라 값이 들어가 있다는 문제가 있다. "
   ]
  },
  {
   "cell_type": "code",
   "execution_count": null,
   "metadata": {},
   "outputs": [],
   "source": [
    "who = pd.DataFrame([['AD', 2000,0.0, 0.0, 1.0, 0.0, 0, 0, 0.0, None, None],\n",
    "                   ['AE', 2000, 2.0, 4.0, 4.0, 6.0, 5, 12, 10.0, None, 3.0],\n",
    "                   ['AF', 2000,52.0, 228.0, 183.0, 149.0, 129, 94, 80.0, None, 93.0],\n",
    "                   ['AG', 2000,0.0,0.0,0.0,0.0,0,0,1.0,None, 1.0],\n",
    "                   ['AL',2000,2.0,19.0,21.0,14.0,24,19,16.0, None,3.0],\n",
    "                   ['AM',2000,2.0,152,130.0,131.0,63,26,21.0,None,1.0],\n",
    "                   ['AN',2000,0.0,0.0,1.0,2.0,0,0,0.0,None,0.0],\n",
    "                   ['AO',2000,186.0,999.0,1003.0,912.0,482,312,194.0,None,247.0],\n",
    "                   ['AR',2000,97.0,278.0,594.0,402.0,419,368,330.0,None,121.0],\n",
    "                   ['AS',2000,None,None,None,None,1,1,None,None,None]],\n",
    "                  columns=['country','year','m014','m1524','m2534','m3544','m4554','m5564','m65','mu','f014'])\n",
    "who"
   ]
  },
  {
   "cell_type": "code",
   "execution_count": null,
   "metadata": {},
   "outputs": [],
   "source": [
    "who_melted = who.melt(id_vars=['country','year'],var_name='sex and age',value_name='case')"
   ]
  },
  {
   "cell_type": "code",
   "execution_count": null,
   "metadata": {},
   "outputs": [],
   "source": [
    "tmp_df = who_melted['sex and age'].str.extract('(\\D)(\\d+)(\\d{2})',expand=False)"
   ]
  },
  {
   "cell_type": "code",
   "execution_count": null,
   "metadata": {},
   "outputs": [],
   "source": [
    "tmp_df"
   ]
  },
  {
   "cell_type": "code",
   "execution_count": null,
   "metadata": {},
   "outputs": [],
   "source": [
    "tmp_df.columns = ['sex', 'age_lower','age_upper']"
   ]
  },
  {
   "cell_type": "code",
   "execution_count": null,
   "metadata": {},
   "outputs": [],
   "source": [
    "tmp_df"
   ]
  },
  {
   "cell_type": "code",
   "execution_count": null,
   "metadata": {},
   "outputs": [],
   "source": [
    "tmp_df['age'] = tmp_df['age_lower'] +'-'+ tmp_df['age_upper']"
   ]
  },
  {
   "cell_type": "code",
   "execution_count": null,
   "metadata": {},
   "outputs": [],
   "source": [
    "who_melted = pd.concat([who_melted,tmp_df],axis=1)"
   ]
  },
  {
   "cell_type": "code",
   "execution_count": null,
   "metadata": {},
   "outputs": [],
   "source": [
    "who_melted2 = who_melted[['country','year','case','sex','age']]"
   ]
  },
  {
   "cell_type": "code",
   "execution_count": null,
   "metadata": {},
   "outputs": [],
   "source": [
    "who_melted2.dropna(inplace=True)"
   ]
  },
  {
   "cell_type": "code",
   "execution_count": null,
   "metadata": {},
   "outputs": [],
   "source": [
    "who_melted2.sort_values(['country','sex','age','case','year'],inplace=True,ascending=True)"
   ]
  },
  {
   "cell_type": "code",
   "execution_count": null,
   "metadata": {},
   "outputs": [],
   "source": [
    "who_melted2.reset_index(drop=True,inplace=True)"
   ]
  },
  {
   "cell_type": "code",
   "execution_count": null,
   "metadata": {
    "scrolled": true
   },
   "outputs": [],
   "source": [
    "who_melted2 #깔끔한 상태"
   ]
  },
  {
   "cell_type": "markdown",
   "metadata": {},
   "source": [
    "~~ 이어서 하기 "
   ]
  },
  {
   "cell_type": "markdown",
   "metadata": {},
   "source": [
    "# 변수가 행과 열에 모두 포함되어 있는 경우 \n",
    "- 공리 : 변수는 항상 칼럼에 있어야 한다"
   ]
  },
  {
   "cell_type": "code",
   "execution_count": 1,
   "metadata": {},
   "outputs": [],
   "source": [
    "import pandas as pd"
   ]
  },
  {
   "cell_type": "code",
   "execution_count": 67,
   "metadata": {},
   "outputs": [
    {
     "name": "stdout",
     "output_type": "stream",
     "text": [
      "<class 'pandas.core.frame.DataFrame'>\n",
      "RangeIndex: 10 entries, 0 to 9\n",
      "Data columns (total 6 columns):\n",
      " #   Column   Non-Null Count  Dtype \n",
      "---  ------   --------------  ----- \n",
      " 0   id       10 non-null     object\n",
      " 1   year     10 non-null     int64 \n",
      " 2   month    10 non-null     int64 \n",
      " 3   element  10 non-null     object\n",
      " 4   day_row  10 non-null     object\n",
      " 5   value    0 non-null      object\n",
      "dtypes: int64(2), object(4)\n",
      "memory usage: 608.0+ bytes\n"
     ]
    }
   ],
   "source": [
    "mx = pd.DataFrame([['MX17004',2010,1,'tmax','d1',None],\n",
    "             ['MX17004',2010,1,'tmin','d1',None],\n",
    "             ['MX17004',2010,2,'tmax','d1',None],\n",
    "             ['MX17004',2010,2,'tmin','d1',None],\n",
    "             ['MX17004',2010,3,'tmax','d1',None],\n",
    "             ['MX17004',2010,3,'tmin','d1',None],\n",
    "             ['MX17004',2010,4,'tmax','d1',None],\n",
    "             ['MX17004',2010,4,'tmin','d1',None],\n",
    "             ['MX17004',2010,5,'tmax','d1',None],\n",
    "             ['MX17004',2010,5,'tmin','d1',None]],\n",
    "            columns=['id','year','month','element','day_row','value'])\n",
    "mx.info()"
   ]
  },
  {
   "cell_type": "code",
   "execution_count": 68,
   "metadata": {
    "scrolled": true
   },
   "outputs": [],
   "source": [
    "mx['day'] = mx['day_row'].str.extract('d(\\d+)', expand=False)"
   ]
  },
  {
   "cell_type": "code",
   "execution_count": 69,
   "metadata": {},
   "outputs": [],
   "source": [
    "mx['id'] = 'MX17004' #칼럼 값들을 '' 하나로 전부 통일시키기"
   ]
  },
  {
   "cell_type": "code",
   "execution_count": 70,
   "metadata": {},
   "outputs": [],
   "source": [
    "mx[['year','month','day']] = mx[['year','month','day']].apply(lambda x:pd.to_numeric(x,errors='ignore'))\n",
    "#해당 칼럼의 값들을 전부 숫자 값으로 바꿔줬다. "
   ]
  },
  {
   "cell_type": "code",
   "execution_count": 71,
   "metadata": {},
   "outputs": [],
   "source": [
    "# 연, 월, 일 칼럼을 date 칼럼 하나로 합치자. \n",
    "import datetime\n",
    "\n",
    "def create_date_from_year_month_day(row):\n",
    "    return datetime.datetime(year=row[\"year\"], month=int(row[\"month\"]), day=row[\"day\"])\n",
    "\n",
    "mx[\"date\"] = mx.apply(lambda row: create_date_from_year_month_day(row), axis=1)\n",
    "\n",
    "#람다함수 의미 : 위 경우, \n",
    "#임의의 데이터프레임을 row로 칭한다'는 뜻이다. 그리고 axis=1 축에서 year, month, day시리즈 값들을 datetime형식으로 묶고, \n",
    "#apply()를 통해 mx데이터프레임에 적용시키는데, 그 결과값들을 ['date']라는 칼럼에 담는다. 는 의미다"
   ]
  },
  {
   "cell_type": "code",
   "execution_count": 73,
   "metadata": {},
   "outputs": [],
   "source": [
    "mx.drop(['year','month','day_row','day'],axis=1, inplace=True)"
   ]
  },
  {
   "cell_type": "code",
   "execution_count": 74,
   "metadata": {},
   "outputs": [],
   "source": [
    "mx_pivot = mx.pivot(index=['id','date'],columns=['element'],values='value')"
   ]
  },
  {
   "cell_type": "code",
   "execution_count": 75,
   "metadata": {},
   "outputs": [],
   "source": [
    "mx_pivot.reset_index(inplace=True)"
   ]
  },
  {
   "cell_type": "code",
   "execution_count": 76,
   "metadata": {},
   "outputs": [
    {
     "data": {
      "text/html": [
       "<div>\n",
       "<style scoped>\n",
       "    .dataframe tbody tr th:only-of-type {\n",
       "        vertical-align: middle;\n",
       "    }\n",
       "\n",
       "    .dataframe tbody tr th {\n",
       "        vertical-align: top;\n",
       "    }\n",
       "\n",
       "    .dataframe thead th {\n",
       "        text-align: right;\n",
       "    }\n",
       "</style>\n",
       "<table border=\"1\" class=\"dataframe\">\n",
       "  <thead>\n",
       "    <tr style=\"text-align: right;\">\n",
       "      <th>element</th>\n",
       "      <th>id</th>\n",
       "      <th>date</th>\n",
       "      <th>tmax</th>\n",
       "      <th>tmin</th>\n",
       "    </tr>\n",
       "  </thead>\n",
       "  <tbody>\n",
       "    <tr>\n",
       "      <th>0</th>\n",
       "      <td>MX17004</td>\n",
       "      <td>2010-01-01</td>\n",
       "      <td>None</td>\n",
       "      <td>None</td>\n",
       "    </tr>\n",
       "    <tr>\n",
       "      <th>1</th>\n",
       "      <td>MX17004</td>\n",
       "      <td>2010-02-01</td>\n",
       "      <td>None</td>\n",
       "      <td>None</td>\n",
       "    </tr>\n",
       "    <tr>\n",
       "      <th>2</th>\n",
       "      <td>MX17004</td>\n",
       "      <td>2010-03-01</td>\n",
       "      <td>None</td>\n",
       "      <td>None</td>\n",
       "    </tr>\n",
       "    <tr>\n",
       "      <th>3</th>\n",
       "      <td>MX17004</td>\n",
       "      <td>2010-04-01</td>\n",
       "      <td>None</td>\n",
       "      <td>None</td>\n",
       "    </tr>\n",
       "    <tr>\n",
       "      <th>4</th>\n",
       "      <td>MX17004</td>\n",
       "      <td>2010-05-01</td>\n",
       "      <td>None</td>\n",
       "      <td>None</td>\n",
       "    </tr>\n",
       "  </tbody>\n",
       "</table>\n",
       "</div>"
      ],
      "text/plain": [
       "element       id       date  tmax  tmin\n",
       "0        MX17004 2010-01-01  None  None\n",
       "1        MX17004 2010-02-01  None  None\n",
       "2        MX17004 2010-03-01  None  None\n",
       "3        MX17004 2010-04-01  None  None\n",
       "4        MX17004 2010-05-01  None  None"
      ]
     },
     "execution_count": 76,
     "metadata": {},
     "output_type": "execute_result"
    }
   ],
   "source": [
    "mx_pivot"
   ]
  },
  {
   "cell_type": "code",
   "execution_count": 81,
   "metadata": {},
   "outputs": [
    {
     "data": {
      "text/plain": [
       "datetime.datetime"
      ]
     },
     "execution_count": 81,
     "metadata": {},
     "output_type": "execute_result"
    }
   ],
   "source": [
    "type(datetime.datetime(2011,3,3))"
   ]
  },
  {
   "cell_type": "markdown",
   "metadata": {},
   "source": [
    "# 5. 하나의 관측단위가 여러 파일에 나누어져 있는 경우 \n",
    "- 깔끔한 데이터 공리 : 하나의 관측단위는 하나의 표에 묶여 있어야 한다"
   ]
  },
  {
   "cell_type": "code",
   "execution_count": 103,
   "metadata": {},
   "outputs": [],
   "source": [
    "import re\n",
    "import glob\n",
    "glob.glob?# 유사한 이름 가지고 있는 파일 디렉토리 경로를 모두 가져와서 리스트로 만들어주는 모듈 & 메서드"
   ]
  },
  {
   "cell_type": "code",
   "execution_count": 104,
   "metadata": {},
   "outputs": [],
   "source": [
    "name = pd.DataFrame([[1,'noah',837,'Male'],\n",
    "                    [2,'alice',33,'female'],\n",
    "                    [3,'bobo',55,'Male']],\n",
    "                   columns=['rank', 'name','frequency','sex'])"
   ]
  },
  {
   "cell_type": "code",
   "execution_count": 206,
   "metadata": {},
   "outputs": [],
   "source": [
    "name.to_csv('/Users/kibeomkim/Desktop/2014-baby-names-illinois.csv', index=False)"
   ]
  },
  {
   "cell_type": "code",
   "execution_count": 107,
   "metadata": {},
   "outputs": [],
   "source": [
    "name = pd.DataFrame([[1,'ndoah',87,'Male'],\n",
    "                    [2,'alicel',13,'female'],\n",
    "                    [3,'boboaa',5335,'Male']],\n",
    "                   columns=['rank', 'name','frequency','sex'])"
   ]
  },
  {
   "cell_type": "code",
   "execution_count": 207,
   "metadata": {},
   "outputs": [],
   "source": [
    "name.to_csv('/Users/kibeomkim/Desktop/2015-baby-names-illinois.csv', index=False)"
   ]
  },
  {
   "cell_type": "code",
   "execution_count": 208,
   "metadata": {},
   "outputs": [],
   "source": [
    "path = '/Users/kibeomkim/Desktop'\n",
    "allFiles = glob.glob(path+'/201*-baby-names-illinois.csv')"
   ]
  },
  {
   "cell_type": "code",
   "execution_count": 209,
   "metadata": {},
   "outputs": [
    {
     "data": {
      "text/plain": [
       "['/Users/kibeomkim/Desktop/2015-baby-names-illinois.csv',\n",
       " '/Users/kibeomkim/Desktop/2014-baby-names-illinois.csv']"
      ]
     },
     "execution_count": 209,
     "metadata": {},
     "output_type": "execute_result"
    }
   ],
   "source": [
    "allFiles"
   ]
  },
  {
   "cell_type": "code",
   "execution_count": 210,
   "metadata": {},
   "outputs": [
    {
     "data": {
      "text/html": [
       "<div>\n",
       "<style scoped>\n",
       "    .dataframe tbody tr th:only-of-type {\n",
       "        vertical-align: middle;\n",
       "    }\n",
       "\n",
       "    .dataframe tbody tr th {\n",
       "        vertical-align: top;\n",
       "    }\n",
       "\n",
       "    .dataframe thead th {\n",
       "        text-align: right;\n",
       "    }\n",
       "</style>\n",
       "<table border=\"1\" class=\"dataframe\">\n",
       "  <thead>\n",
       "    <tr style=\"text-align: right;\">\n",
       "      <th></th>\n",
       "      <th>rank</th>\n",
       "      <th>name</th>\n",
       "      <th>frequency</th>\n",
       "      <th>sex</th>\n",
       "      <th>year</th>\n",
       "    </tr>\n",
       "  </thead>\n",
       "  <tbody>\n",
       "    <tr>\n",
       "      <th>0</th>\n",
       "      <td>1</td>\n",
       "      <td>ndoah</td>\n",
       "      <td>87</td>\n",
       "      <td>Male</td>\n",
       "      <td>2015</td>\n",
       "    </tr>\n",
       "    <tr>\n",
       "      <th>1</th>\n",
       "      <td>2</td>\n",
       "      <td>alicel</td>\n",
       "      <td>13</td>\n",
       "      <td>female</td>\n",
       "      <td>2015</td>\n",
       "    </tr>\n",
       "    <tr>\n",
       "      <th>2</th>\n",
       "      <td>3</td>\n",
       "      <td>boboaa</td>\n",
       "      <td>5335</td>\n",
       "      <td>Male</td>\n",
       "      <td>2015</td>\n",
       "    </tr>\n",
       "    <tr>\n",
       "      <th>0</th>\n",
       "      <td>1</td>\n",
       "      <td>ndoah</td>\n",
       "      <td>87</td>\n",
       "      <td>Male</td>\n",
       "      <td>2014</td>\n",
       "    </tr>\n",
       "    <tr>\n",
       "      <th>1</th>\n",
       "      <td>2</td>\n",
       "      <td>alicel</td>\n",
       "      <td>13</td>\n",
       "      <td>female</td>\n",
       "      <td>2014</td>\n",
       "    </tr>\n",
       "    <tr>\n",
       "      <th>2</th>\n",
       "      <td>3</td>\n",
       "      <td>boboaa</td>\n",
       "      <td>5335</td>\n",
       "      <td>Male</td>\n",
       "      <td>2014</td>\n",
       "    </tr>\n",
       "  </tbody>\n",
       "</table>\n",
       "</div>"
      ],
      "text/plain": [
       "   rank    name  frequency     sex  year\n",
       "0     1   ndoah         87    Male  2015\n",
       "1     2  alicel         13  female  2015\n",
       "2     3  boboaa       5335    Male  2015\n",
       "0     1   ndoah         87    Male  2014\n",
       "1     2  alicel         13  female  2014\n",
       "2     3  boboaa       5335    Male  2014"
      ]
     },
     "execution_count": 210,
     "metadata": {},
     "output_type": "execute_result"
    }
   ],
   "source": [
    "def extract_year(string) : \n",
    "    match = re.match('.+(\\d{4})',string)\n",
    "    if match != None :\n",
    "        return match.group(1)\n",
    "\n",
    "frame = pd.DataFrame()\n",
    "df_list = []\n",
    "\n",
    "for file_ in allFiles : \n",
    "    df = pd.read_csv(file_)\n",
    "    df.columns = map(str.lower, df.columns) #칼럼 이름에 해당하는 문자열 전부 소문자로 바꿔서 '통일' 해라 (언제나 일관성이 중요)\n",
    "    df['year'] = extract_year(file_)\n",
    "    df_list.append(df)\n",
    "\n",
    "df = pd.concat(df_list, axis=0)\n",
    "df"
   ]
  },
  {
   "cell_type": "markdown",
   "metadata": {},
   "source": [
    "# 밑에는 모두 내가 모듈 의미 알기 위해 테스트 해본 것들이다"
   ]
  },
  {
   "cell_type": "code",
   "execution_count": 142,
   "metadata": {},
   "outputs": [],
   "source": [
    "df.columns=map(str.lower, df.columns) #map은 리스트의 요소를 지정된 함수로 처리해준다\n",
    "#위 경우에는 문자열 전부 소문자로 바꿔라는 뜻"
   ]
  },
  {
   "cell_type": "code",
   "execution_count": 189,
   "metadata": {},
   "outputs": [
    {
     "data": {
      "text/plain": [
       "'/Users/kibeomkim/Desktop/2014'"
      ]
     },
     "execution_count": 189,
     "metadata": {},
     "output_type": "execute_result"
    }
   ],
   "source": [
    "re.match('.+(\\d{4})',file_).group() # ~~ 디렉토리의 + 2014(1번째 그룹)"
   ]
  },
  {
   "cell_type": "code",
   "execution_count": 186,
   "metadata": {},
   "outputs": [
    {
     "data": {
      "text/plain": [
       "'/Users/kibeomkim/Desktop/2014'"
      ]
     },
     "execution_count": 186,
     "metadata": {},
     "output_type": "execute_result"
    }
   ],
   "source": [
    "re.match('.+(\\d{4})',file_).group(0) #0번째 그룹은 전체 디렉토리를 의미한다"
   ]
  },
  {
   "cell_type": "code",
   "execution_count": 187,
   "metadata": {},
   "outputs": [
    {
     "data": {
      "text/plain": [
       "'2014'"
      ]
     },
     "execution_count": 187,
     "metadata": {},
     "output_type": "execute_result"
    }
   ],
   "source": [
    "re.match('.+(\\d{4})',file_).group(1)"
   ]
  },
  {
   "cell_type": "code",
   "execution_count": 192,
   "metadata": {},
   "outputs": [],
   "source": [
    "df = pd.read_csv(file_)\n",
    "df.columns = map(str.lower, df.columns) #칼럼 이름에 해당하는 문자열 전부 소문자로 바꿔서 '통일' 해라 (언제나 일관성이 중요)\n",
    "df['year'] = extract_year(file_) #하나의 칼럼에 모든 값 extract_year(file_)에서 떼온 문자열로 통일\n"
   ]
  },
  {
   "cell_type": "markdown",
   "metadata": {},
   "source": [
    "# tidy data 깔끔한 데이터 기본 공리 \n",
    "- 변수는 모두 칼럼에 들어가야한다.(변수는 row에 들어가선 안 된다)\n",
    "- 각 표에는 하나의 관측단위만 들어가야 한다. (=같은 관측단위(song, rank등)라면 하나의 표로 합쳐져야 한다.\n",
    "- 표가 여럿으로 나뉘었을 때는 표 사이에 적어도 하나의 칼럼을 공유해야 한다. \n",
    "- 표의 모든 내용은 일관성을 유지해야 한다. (정수면 정수만 표기하기. 실수 표기 하지 않기)\n",
    "- null은 최대한 지양하자\n",
    "- 변수는 언제나 'unique' 해야한다. (칼럼 이름은 언제나 하나의 변수값만 담고 있어야 한다)"
   ]
  },
  {
   "cell_type": "code",
   "execution_count": null,
   "metadata": {},
   "outputs": [],
   "source": []
  },
  {
   "cell_type": "code",
   "execution_count": null,
   "metadata": {},
   "outputs": [],
   "source": []
  }
 ],
 "metadata": {
  "kernelspec": {
   "display_name": "Python 3",
   "language": "python",
   "name": "python3"
  },
  "language_info": {
   "codemirror_mode": {
    "name": "ipython",
    "version": 3
   },
   "file_extension": ".py",
   "mimetype": "text/x-python",
   "name": "python",
   "nbconvert_exporter": "python",
   "pygments_lexer": "ipython3",
   "version": "3.8.5"
  }
 },
 "nbformat": 4,
 "nbformat_minor": 4
}
